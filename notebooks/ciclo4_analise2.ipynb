{
 "cells": [
  {
   "cell_type": "markdown",
   "id": "991009cd",
   "metadata": {},
   "source": [
    "# 1 -  Planejamento da Solução"
   ]
  },
  {
   "cell_type": "markdown",
   "id": "21219e25",
   "metadata": {
    "heading_collapsed": true
   },
   "source": [
    "## Entendimento de Negócio"
   ]
  },
  {
   "cell_type": "markdown",
   "id": "5e9394b4",
   "metadata": {
    "hidden": true
   },
   "source": [
    "**Qual é o problema de negócio?**\n",
    "\n",
    "- Empresa alimentícia situada no RJ, deseja abrir filiais na cidade de São Paulo. Para isso, precisa de 3 análises:\n",
    "    - 1 - Estimar faturamento que uma loja teria em cada um dos bairros de São Paulo (regressão, neste caso sem séries temporais).\n",
    "    - 2 - Classificar o potencial dos bairros de São Paulo em alto, médio ou baixo (classificação multiclasse).\n",
    "    - 3 - Segmentar os bairros de São Paulo de acordo com o perfil de renda e idade, identificando os com maior aderência ao público alvo.\n",
    "    \n",
    "- Público alvo: adultos de 25 a 50 anos, das classes A (rendas A1 e A2) e B (rendas B1 e B2). \n",
    "\n",
    "**Saída**\n",
    "\n",
    "- Prototipagem técnica da solução: https://docs.google.com/spreadsheets/d/17lxCBRLPEuNCO25BimVFRE3Tms-314WSTpJ1xgEIf38/edit#gid=0\n",
    "\n",
    "- O que será entregue, efetivamente? / Onde o time de negócio quer ver?\n",
    "    - Documento no formato doc, pdf ou ppt, voltado ao negócio, apresentando um racional de como os dados foram analisados. Detalhar com gráficos, tabelas, e descrever conclusões.\n",
    "    - Responder: Dada a natureza do problema apresentado, que outro dado externo (fontes públicas ou privadas) poderia ser utilizado para agregar mais valor ao resultado? Por que?\n",
    "    \n",
    "**Entrada**\n",
    "- Fontes de dados:\n",
    "    - Dataset contendo faturamento e potencial dos bairros do Rio de Janeiro do cliente, bem como dados sociodemográficos do bairros do Rio de Janeiro e São Paulo.\n",
    "\n",
    "- Ferramentas:\n",
    "    - Python 3.8.12, Jupyter Notebook, Git, Github.\n",
    "\n",
    "**Processamento**\n",
    "- Tipo de problema: análise exploratória, regressão, classificação e clusterização.\n",
    "- Metodologia: CRISP-DM, metodologia ágil (iterativa e incremental) para desenvolvimento de projetos de ciência de dados.\n"
   ]
  },
  {
   "cell_type": "markdown",
   "id": "bbf87350",
   "metadata": {},
   "source": [
    "## Implementado nesta Sprint"
   ]
  },
  {
   "cell_type": "markdown",
   "id": "5e8ff47f",
   "metadata": {},
   "source": [
    "**Ciclo 3**\n",
    "\n",
    "Desenvolvimento da Análise 2 (classificação):\n",
    "- Split dos dados.\n",
    "- Modelagem de dados (data preparation).\n",
    "- Seleção de Features.\n",
    "- Model Based feature selection.\n",
    "- Novo KNN Classifier + comparação com o baseline do ciclo 1.\n",
    "- KNN Classifier com Random Search + Cross validation.\n",
    "- Novos algoritmos de ML: Logistic Regression, XGBoost Classifier (embedding de trees).\n",
    "- Comparação da performance dos modelos.\n",
    "- Performance de generalização do melhor modelo com dados de teste.\n",
    "- Modelos final, treinado com dataset traino + validação, prevendo potencial por bairro de SP (produção)."
   ]
  },
  {
   "cell_type": "markdown",
   "id": "b47be93d",
   "metadata": {
    "heading_collapsed": true
   },
   "source": [
    "# 2 - Importações"
   ]
  },
  {
   "cell_type": "markdown",
   "id": "4ff6200e",
   "metadata": {
    "heading_collapsed": true,
    "hidden": true
   },
   "source": [
    "## Bibliotecas"
   ]
  },
  {
   "cell_type": "code",
   "execution_count": 505,
   "id": "4103e4fa",
   "metadata": {
    "ExecuteTime": {
     "end_time": "2023-02-12T19:51:38.295929Z",
     "start_time": "2023-02-12T19:51:38.282275Z"
    },
    "hidden": true
   },
   "outputs": [],
   "source": [
    "import pandas                      as pd \n",
    "import seaborn                     as sns\n",
    "import numpy                       as np\n",
    "import sweetviz                    as sv\n",
    "import inflection\n",
    "import warnings\n",
    "\n",
    "from IPython.core.display          import HTML\n",
    "from matplotlib                    import pyplot as plt\n",
    "from tabulate                      import tabulate\n",
    "from matplotlib.ticker             import FuncFormatter\n",
    "from IPython.display               import Image\n",
    "\n",
    "from sklearn.model_selection       import train_test_split, GridSearchCV\n",
    "from sklearn.neighbors             import KNeighborsClassifier\n",
    "from sklearn.metrics               import accuracy_score\n",
    "from sklearn.metrics               import f1_score\n",
    "from sklearn.preprocessing         import MinMaxScaler, OrdinalEncoder\n",
    "from sklearn.feature_selection     import SelectFromModel, SelectKBest\n",
    "from sklearn.ensemble              import RandomForestClassifier\n",
    "from sklearn.linear_model          import LogisticRegression\n",
    "from xgboost                       import XGBClassifier"
   ]
  },
  {
   "cell_type": "markdown",
   "id": "6a652348",
   "metadata": {
    "heading_collapsed": true,
    "hidden": true
   },
   "source": [
    "## Funções Auxiliares"
   ]
  },
  {
   "cell_type": "code",
   "execution_count": 383,
   "id": "b44e4067",
   "metadata": {
    "ExecuteTime": {
     "end_time": "2023-02-12T17:47:40.256581Z",
     "start_time": "2023-02-12T17:47:40.236202Z"
    },
    "hidden": true,
    "scrolled": true
   },
   "outputs": [
    {
     "data": {
      "text/html": [
       "<style>.container { width:100% !important; }</style>"
      ],
      "text/plain": [
       "<IPython.core.display.HTML object>"
      ]
     },
     "metadata": {},
     "output_type": "display_data"
    }
   ],
   "source": [
    "def jupyter_settings():\n",
    "    \"\"\" Otimiza configurações gerais, padronizando tamanhos de plots, etc \"\"\"\n",
    "    %matplotlib inline\n",
    "    plt.style.use( 'bmh' )\n",
    "    plt.rcParams['figure.figsize'] = [25, 12]\n",
    "    plt.rcParams['font.size'] = 24\n",
    "    display( HTML( '<style>.container { width:100% !important; }</style>') )\n",
    "    pd.options.display.max_columns = None\n",
    "    pd.options.display.max_rows = None\n",
    "    pd.set_option( 'display.expand_frame_repr', False )\n",
    "    sns.set()\n",
    "    pd.set_option('display.max_columns', 30)\n",
    "    pd.set_option('display.max_rows', 30)\n",
    "    pd.set_option('display.float_format', lambda x: '%.4f' % x)\n",
    "    pd.set_option('max_colwidth', None)\n",
    "jupyter_settings()"
   ]
  },
  {
   "cell_type": "markdown",
   "id": "39ae33ab",
   "metadata": {
    "heading_collapsed": true
   },
   "source": [
    "# 3 - Análise 2: Classificação do potencial em SP"
   ]
  },
  {
   "cell_type": "markdown",
   "id": "d0e81936",
   "metadata": {
    "hidden": true
   },
   "source": [
    "Análise 2 - Classificar o potencial dos bairros de São Paulo em alto, médio ou baixo (classificação multiclasse)."
   ]
  },
  {
   "cell_type": "markdown",
   "id": "6ade2a5b",
   "metadata": {
    "heading_collapsed": true,
    "hidden": true
   },
   "source": [
    "## Split dos Dados"
   ]
  },
  {
   "cell_type": "code",
   "execution_count": 533,
   "id": "f1a50371",
   "metadata": {
    "ExecuteTime": {
     "end_time": "2023-02-12T20:07:18.719819Z",
     "start_time": "2023-02-12T20:07:18.687056Z"
    },
    "hidden": true
   },
   "outputs": [
    {
     "name": "stdout",
     "output_type": "stream",
     "text": [
      "(160, 22)\n"
     ]
    },
    {
     "data": {
      "text/html": [
       "<div>\n",
       "<style scoped>\n",
       "    .dataframe tbody tr th:only-of-type {\n",
       "        vertical-align: middle;\n",
       "    }\n",
       "\n",
       "    .dataframe tbody tr th {\n",
       "        vertical-align: top;\n",
       "    }\n",
       "\n",
       "    .dataframe thead th {\n",
       "        text-align: right;\n",
       "    }\n",
       "</style>\n",
       "<table border=\"1\" class=\"dataframe\">\n",
       "  <thead>\n",
       "    <tr style=\"text-align: right;\">\n",
       "      <th></th>\n",
       "      <th>populacao</th>\n",
       "      <th>pop_ate9</th>\n",
       "      <th>pop_de10a14</th>\n",
       "      <th>pop_de15a19</th>\n",
       "      <th>pop_de20a24</th>\n",
       "      <th>pop_de25a34</th>\n",
       "      <th>pop_de35a49</th>\n",
       "      <th>pop_de50a59</th>\n",
       "      <th>pop_mais_de60</th>\n",
       "      <th>pop_alvo</th>\n",
       "      <th>domicilios_a1</th>\n",
       "      <th>domicilios_a2</th>\n",
       "      <th>domicilios_b1</th>\n",
       "      <th>domicilios_b2</th>\n",
       "      <th>domicilios_c1</th>\n",
       "      <th>domicilios_c2</th>\n",
       "      <th>domicilios_d</th>\n",
       "      <th>domicilios_e</th>\n",
       "      <th>domicilios_alvo</th>\n",
       "      <th>renda_media</th>\n",
       "      <th>faturamento</th>\n",
       "      <th>potencial</th>\n",
       "    </tr>\n",
       "  </thead>\n",
       "  <tbody>\n",
       "    <tr>\n",
       "      <th>0</th>\n",
       "      <td>11676</td>\n",
       "      <td>1027</td>\n",
       "      <td>483</td>\n",
       "      <td>688</td>\n",
       "      <td>800</td>\n",
       "      <td>1675</td>\n",
       "      <td>2300</td>\n",
       "      <td>1784</td>\n",
       "      <td>2919</td>\n",
       "      <td>3975</td>\n",
       "      <td>0</td>\n",
       "      <td>145</td>\n",
       "      <td>715</td>\n",
       "      <td>1242</td>\n",
       "      <td>1093</td>\n",
       "      <td>758</td>\n",
       "      <td>92</td>\n",
       "      <td>304</td>\n",
       "      <td>2102</td>\n",
       "      <td>2501.0000</td>\n",
       "      <td>932515</td>\n",
       "      <td>Médio</td>\n",
       "    </tr>\n",
       "  </tbody>\n",
       "</table>\n",
       "</div>"
      ],
      "text/plain": [
       "   populacao  pop_ate9  pop_de10a14  pop_de15a19  pop_de20a24  pop_de25a34  pop_de35a49  pop_de50a59  pop_mais_de60  pop_alvo  domicilios_a1  domicilios_a2  domicilios_b1  domicilios_b2  domicilios_c1  domicilios_c2  domicilios_d  domicilios_e  domicilios_alvo  renda_media  faturamento potencial\n",
       "0      11676      1027          483          688          800         1675         2300         1784           2919      3975              0            145            715           1242           1093            758            92           304             2102    2501.0000       932515     Médio"
      ]
     },
     "execution_count": 533,
     "metadata": {},
     "output_type": "execute_result"
    }
   ],
   "source": [
    "df_rj = pd.read_csv('../data/interim/df_rj_feat_eng_done.csv', index_col=0)\n",
    "print(df_rj.shape)\n",
    "df_rj.head(1)"
   ]
  },
  {
   "cell_type": "markdown",
   "id": "1facb6db",
   "metadata": {
    "ExecuteTime": {
     "end_time": "2023-02-09T12:51:12.087878Z",
     "start_time": "2023-02-09T12:51:12.077256Z"
    },
    "hidden": true
   },
   "source": [
    "Trata-se portanto de um problema de classificação multiclasse (supervisionado), sendo a variável alvo \"potencial\" categórica. \n",
    "- As possíveis categorias de \"potencial\" são: Alto, Médio e Baixo.\n",
    "\n",
    "Assim como na análise 1, aqui df_rj também será dividido em três partes: dados de treinamento, validação e teste. \n",
    "- A separação dos dados da análise 1 não será aproveitada, porque a variável alvo era \"faturamento\", e nesta análise será \"potencial\".\n",
    "- Ou seja, nesta análise 2, \"faturamento\" será uma variável preditora (feature), e \"potencial\" será a variável dependente (target)."
   ]
  },
  {
   "cell_type": "markdown",
   "id": "d517459b",
   "metadata": {
    "hidden": true
   },
   "source": [
    "Divisão entre features e variável alvo."
   ]
  },
  {
   "cell_type": "code",
   "execution_count": 534,
   "id": "8f6c7ebf",
   "metadata": {
    "ExecuteTime": {
     "end_time": "2023-02-12T20:07:21.519968Z",
     "start_time": "2023-02-12T20:07:21.508969Z"
    },
    "hidden": true
   },
   "outputs": [
    {
     "data": {
      "text/plain": [
       "0    Médio\n",
       "1    Baixo\n",
       "Name: potencial, dtype: object"
      ]
     },
     "execution_count": 534,
     "metadata": {},
     "output_type": "execute_result"
    }
   ],
   "source": [
    "y2 = df_rj.potencial\n",
    "y2.head(2)"
   ]
  },
  {
   "cell_type": "markdown",
   "id": "d3769cf1",
   "metadata": {
    "hidden": true
   },
   "source": [
    "A variável \"codigo\" não é informativa, logo será descartada."
   ]
  },
  {
   "cell_type": "code",
   "execution_count": 535,
   "id": "6e1327ff",
   "metadata": {
    "ExecuteTime": {
     "end_time": "2023-02-12T20:07:22.063524Z",
     "start_time": "2023-02-12T20:07:22.040618Z"
    },
    "hidden": true
   },
   "outputs": [
    {
     "data": {
      "text/html": [
       "<div>\n",
       "<style scoped>\n",
       "    .dataframe tbody tr th:only-of-type {\n",
       "        vertical-align: middle;\n",
       "    }\n",
       "\n",
       "    .dataframe tbody tr th {\n",
       "        vertical-align: top;\n",
       "    }\n",
       "\n",
       "    .dataframe thead th {\n",
       "        text-align: right;\n",
       "    }\n",
       "</style>\n",
       "<table border=\"1\" class=\"dataframe\">\n",
       "  <thead>\n",
       "    <tr style=\"text-align: right;\">\n",
       "      <th></th>\n",
       "      <th>populacao</th>\n",
       "      <th>pop_ate9</th>\n",
       "      <th>pop_de10a14</th>\n",
       "      <th>pop_de15a19</th>\n",
       "      <th>pop_de20a24</th>\n",
       "      <th>pop_de25a34</th>\n",
       "      <th>pop_de35a49</th>\n",
       "      <th>pop_de50a59</th>\n",
       "      <th>pop_mais_de60</th>\n",
       "      <th>pop_alvo</th>\n",
       "      <th>domicilios_a1</th>\n",
       "      <th>domicilios_a2</th>\n",
       "      <th>domicilios_b1</th>\n",
       "      <th>domicilios_b2</th>\n",
       "      <th>domicilios_c1</th>\n",
       "      <th>domicilios_c2</th>\n",
       "      <th>domicilios_d</th>\n",
       "      <th>domicilios_e</th>\n",
       "      <th>domicilios_alvo</th>\n",
       "      <th>renda_media</th>\n",
       "      <th>faturamento</th>\n",
       "    </tr>\n",
       "  </thead>\n",
       "  <tbody>\n",
       "    <tr>\n",
       "      <th>0</th>\n",
       "      <td>11676</td>\n",
       "      <td>1027</td>\n",
       "      <td>483</td>\n",
       "      <td>688</td>\n",
       "      <td>800</td>\n",
       "      <td>1675</td>\n",
       "      <td>2300</td>\n",
       "      <td>1784</td>\n",
       "      <td>2919</td>\n",
       "      <td>3975</td>\n",
       "      <td>0</td>\n",
       "      <td>145</td>\n",
       "      <td>715</td>\n",
       "      <td>1242</td>\n",
       "      <td>1093</td>\n",
       "      <td>758</td>\n",
       "      <td>92</td>\n",
       "      <td>304</td>\n",
       "      <td>2102</td>\n",
       "      <td>2501.0000</td>\n",
       "      <td>932515</td>\n",
       "    </tr>\n",
       "  </tbody>\n",
       "</table>\n",
       "</div>"
      ],
      "text/plain": [
       "   populacao  pop_ate9  pop_de10a14  pop_de15a19  pop_de20a24  pop_de25a34  pop_de35a49  pop_de50a59  pop_mais_de60  pop_alvo  domicilios_a1  domicilios_a2  domicilios_b1  domicilios_b2  domicilios_c1  domicilios_c2  domicilios_d  domicilios_e  domicilios_alvo  renda_media  faturamento\n",
       "0      11676      1027          483          688          800         1675         2300         1784           2919      3975              0            145            715           1242           1093            758            92           304             2102    2501.0000       932515"
      ]
     },
     "execution_count": 535,
     "metadata": {},
     "output_type": "execute_result"
    }
   ],
   "source": [
    "X2 = df_rj.drop(\"potencial\", axis=1)\n",
    "X2.head(1)"
   ]
  },
  {
   "cell_type": "markdown",
   "id": "988954a1",
   "metadata": {
    "hidden": true
   },
   "source": [
    "Avaliar balanceamento da var resposta."
   ]
  },
  {
   "cell_type": "code",
   "execution_count": 536,
   "id": "c5a3fac8",
   "metadata": {
    "ExecuteTime": {
     "end_time": "2023-02-12T20:07:23.368858Z",
     "start_time": "2023-02-12T20:07:23.353737Z"
    },
    "hidden": true
   },
   "outputs": [
    {
     "data": {
      "text/plain": [
       "Baixo   38.7500\n",
       "Médio   31.2500\n",
       "Alto    30.0000\n",
       "Name: potencial, dtype: float64"
      ]
     },
     "execution_count": 536,
     "metadata": {},
     "output_type": "execute_result"
    }
   ],
   "source": [
    "y2.value_counts(normalize=True)*100"
   ]
  },
  {
   "cell_type": "markdown",
   "id": "be30c131",
   "metadata": {
    "hidden": true
   },
   "source": [
    "A variável alvo \"potencial\" está balanceada, ou seja, tem uma distribuição parecida dos registros nas categorias existentes. \n",
    "- Isto dispensa tratativas para balanceamento, e permite o uso da métrica de acurácia, para avaliação de performance."
   ]
  },
  {
   "cell_type": "markdown",
   "id": "a022cd8d",
   "metadata": {
    "hidden": true
   },
   "source": [
    "Divisão entre datasets de treino/validação e teste, mantendo 20% dos registros para teste.\n",
    "- O parâmetro \"stratify\" é utilizado para manter uma proporção parecida da variável alvo nos dados de treino e de teste."
   ]
  },
  {
   "cell_type": "code",
   "execution_count": 550,
   "id": "68f8f43c",
   "metadata": {
    "ExecuteTime": {
     "end_time": "2023-02-12T20:09:18.092792Z",
     "start_time": "2023-02-12T20:09:18.083535Z"
    },
    "hidden": true
   },
   "outputs": [],
   "source": [
    "X2_trainval, X2_test, y2_trainval, y2_test = train_test_split(X2, y2, random_state=0, test_size=0.20, stratify=y2)"
   ]
  },
  {
   "cell_type": "markdown",
   "id": "e3575a32",
   "metadata": {
    "hidden": true
   },
   "source": [
    "Divisão entre datasets de treino e validação (a partir do trainval), mantendo 25% dos registros para validação."
   ]
  },
  {
   "cell_type": "code",
   "execution_count": 551,
   "id": "52568877",
   "metadata": {
    "ExecuteTime": {
     "end_time": "2023-02-12T20:09:18.595668Z",
     "start_time": "2023-02-12T20:09:18.578808Z"
    },
    "hidden": true
   },
   "outputs": [],
   "source": [
    "X2_train, X2_val, y2_train, y2_val = train_test_split(X2_trainval, y2_trainval, random_state=0, test_size=0.25, stratify=y2_trainval)"
   ]
  },
  {
   "cell_type": "code",
   "execution_count": 552,
   "id": "6e179490",
   "metadata": {
    "ExecuteTime": {
     "end_time": "2023-02-12T20:09:20.542839Z",
     "start_time": "2023-02-12T20:09:20.523272Z"
    },
    "hidden": true
   },
   "outputs": [
    {
     "name": "stdout",
     "output_type": "stream",
     "text": [
      "(96, 21)\n",
      "(32, 21)\n",
      "(32, 21)\n"
     ]
    },
    {
     "data": {
      "text/html": [
       "<div>\n",
       "<style scoped>\n",
       "    .dataframe tbody tr th:only-of-type {\n",
       "        vertical-align: middle;\n",
       "    }\n",
       "\n",
       "    .dataframe tbody tr th {\n",
       "        vertical-align: top;\n",
       "    }\n",
       "\n",
       "    .dataframe thead th {\n",
       "        text-align: right;\n",
       "    }\n",
       "</style>\n",
       "<table border=\"1\" class=\"dataframe\">\n",
       "  <thead>\n",
       "    <tr style=\"text-align: right;\">\n",
       "      <th></th>\n",
       "      <th>populacao</th>\n",
       "      <th>pop_ate9</th>\n",
       "      <th>pop_de10a14</th>\n",
       "      <th>pop_de15a19</th>\n",
       "      <th>pop_de20a24</th>\n",
       "      <th>pop_de25a34</th>\n",
       "      <th>pop_de35a49</th>\n",
       "      <th>pop_de50a59</th>\n",
       "      <th>pop_mais_de60</th>\n",
       "      <th>pop_alvo</th>\n",
       "      <th>domicilios_a1</th>\n",
       "      <th>domicilios_a2</th>\n",
       "      <th>domicilios_b1</th>\n",
       "      <th>domicilios_b2</th>\n",
       "      <th>domicilios_c1</th>\n",
       "      <th>domicilios_c2</th>\n",
       "      <th>domicilios_d</th>\n",
       "      <th>domicilios_e</th>\n",
       "      <th>domicilios_alvo</th>\n",
       "      <th>renda_media</th>\n",
       "      <th>faturamento</th>\n",
       "    </tr>\n",
       "  </thead>\n",
       "  <tbody>\n",
       "    <tr>\n",
       "      <th>18</th>\n",
       "      <td>11325</td>\n",
       "      <td>1256</td>\n",
       "      <td>588</td>\n",
       "      <td>817</td>\n",
       "      <td>811</td>\n",
       "      <td>1775</td>\n",
       "      <td>2533</td>\n",
       "      <td>1456</td>\n",
       "      <td>2089</td>\n",
       "      <td>4308</td>\n",
       "      <td>0</td>\n",
       "      <td>71</td>\n",
       "      <td>473</td>\n",
       "      <td>903</td>\n",
       "      <td>1161</td>\n",
       "      <td>712</td>\n",
       "      <td>120</td>\n",
       "      <td>558</td>\n",
       "      <td>1447</td>\n",
       "      <td>2022.0000</td>\n",
       "      <td>852714</td>\n",
       "    </tr>\n",
       "  </tbody>\n",
       "</table>\n",
       "</div>"
      ],
      "text/plain": [
       "    populacao  pop_ate9  pop_de10a14  pop_de15a19  pop_de20a24  pop_de25a34  pop_de35a49  pop_de50a59  pop_mais_de60  pop_alvo  domicilios_a1  domicilios_a2  domicilios_b1  domicilios_b2  domicilios_c1  domicilios_c2  domicilios_d  domicilios_e  domicilios_alvo  renda_media  faturamento\n",
       "18      11325      1256          588          817          811         1775         2533         1456           2089      4308              0             71            473            903           1161            712           120           558             1447    2022.0000       852714"
      ]
     },
     "execution_count": 552,
     "metadata": {},
     "output_type": "execute_result"
    }
   ],
   "source": [
    "print(X2_train.shape)\n",
    "print(X2_val.shape)\n",
    "print(X2_test.shape)\n",
    "X2_train.head(1)"
   ]
  },
  {
   "cell_type": "markdown",
   "id": "5b27c499",
   "metadata": {
    "heading_collapsed": true,
    "hidden": true
   },
   "source": [
    "## Preparação dos Dados"
   ]
  },
  {
   "cell_type": "markdown",
   "id": "7c557aac",
   "metadata": {
    "hidden": true
   },
   "source": [
    "Tratativas necessárias para as features da análise 2 (classificação).\n",
    "- São as mesmas da análise 1, com a diferença qua agora a variável resposta é \"potencial\", logo:\n",
    "    - Será preciso reescalar também faturamento, que agora é uma feature comum.\n",
    "- O dataset será ajustado abaixo."
   ]
  },
  {
   "cell_type": "code",
   "execution_count": 553,
   "id": "1ea91c67",
   "metadata": {
    "ExecuteTime": {
     "end_time": "2023-02-12T20:09:35.818357Z",
     "start_time": "2023-02-12T20:09:35.809485Z"
    },
    "hidden": true
   },
   "outputs": [
    {
     "data": {
      "text/plain": [
       "Index(['populacao', 'pop_ate9', 'pop_de10a14', 'pop_de15a19', 'pop_de20a24',\n",
       "       'pop_de25a34', 'pop_de35a49', 'pop_de50a59', 'pop_mais_de60',\n",
       "       'pop_alvo', 'domicilios_a1', 'domicilios_a2', 'domicilios_b1',\n",
       "       'domicilios_b2', 'domicilios_c1', 'domicilios_c2', 'domicilios_d',\n",
       "       'domicilios_e', 'domicilios_alvo', 'renda_media', 'faturamento'],\n",
       "      dtype='object')"
      ]
     },
     "execution_count": 553,
     "metadata": {},
     "output_type": "execute_result"
    }
   ],
   "source": [
    "X2_train.columns"
   ]
  },
  {
   "cell_type": "code",
   "execution_count": 554,
   "id": "884ff5c6",
   "metadata": {
    "ExecuteTime": {
     "end_time": "2023-02-12T20:09:37.877646Z",
     "start_time": "2023-02-12T20:09:37.857785Z"
    },
    "hidden": true
   },
   "outputs": [
    {
     "data": {
      "text/html": [
       "<div>\n",
       "<style scoped>\n",
       "    .dataframe tbody tr th:only-of-type {\n",
       "        vertical-align: middle;\n",
       "    }\n",
       "\n",
       "    .dataframe tbody tr th {\n",
       "        vertical-align: top;\n",
       "    }\n",
       "\n",
       "    .dataframe thead th {\n",
       "        text-align: right;\n",
       "    }\n",
       "</style>\n",
       "<table border=\"1\" class=\"dataframe\">\n",
       "  <thead>\n",
       "    <tr style=\"text-align: right;\">\n",
       "      <th></th>\n",
       "      <th>populacao</th>\n",
       "      <th>pop_ate9</th>\n",
       "      <th>pop_de10a14</th>\n",
       "      <th>pop_de15a19</th>\n",
       "      <th>pop_de20a24</th>\n",
       "      <th>pop_de25a34</th>\n",
       "      <th>pop_de35a49</th>\n",
       "      <th>pop_de50a59</th>\n",
       "      <th>pop_mais_de60</th>\n",
       "      <th>pop_alvo</th>\n",
       "      <th>domicilios_a1</th>\n",
       "      <th>domicilios_a2</th>\n",
       "      <th>domicilios_b1</th>\n",
       "      <th>domicilios_b2</th>\n",
       "      <th>domicilios_c1</th>\n",
       "      <th>domicilios_c2</th>\n",
       "      <th>domicilios_d</th>\n",
       "      <th>domicilios_e</th>\n",
       "      <th>domicilios_alvo</th>\n",
       "      <th>renda_media</th>\n",
       "      <th>faturamento</th>\n",
       "    </tr>\n",
       "  </thead>\n",
       "  <tbody>\n",
       "    <tr>\n",
       "      <th>18</th>\n",
       "      <td>11325</td>\n",
       "      <td>1256</td>\n",
       "      <td>588</td>\n",
       "      <td>817</td>\n",
       "      <td>811</td>\n",
       "      <td>1775</td>\n",
       "      <td>2533</td>\n",
       "      <td>1456</td>\n",
       "      <td>2089</td>\n",
       "      <td>4308</td>\n",
       "      <td>0</td>\n",
       "      <td>71</td>\n",
       "      <td>473</td>\n",
       "      <td>903</td>\n",
       "      <td>1161</td>\n",
       "      <td>712</td>\n",
       "      <td>120</td>\n",
       "      <td>558</td>\n",
       "      <td>1447</td>\n",
       "      <td>2022.0000</td>\n",
       "      <td>852714</td>\n",
       "    </tr>\n",
       "  </tbody>\n",
       "</table>\n",
       "</div>"
      ],
      "text/plain": [
       "    populacao  pop_ate9  pop_de10a14  pop_de15a19  pop_de20a24  pop_de25a34  pop_de35a49  pop_de50a59  pop_mais_de60  pop_alvo  domicilios_a1  domicilios_a2  domicilios_b1  domicilios_b2  domicilios_c1  domicilios_c2  domicilios_d  domicilios_e  domicilios_alvo  renda_media  faturamento\n",
       "18      11325      1256          588          817          811         1775         2533         1456           2089      4308              0             71            473            903           1161            712           120           558             1447    2022.0000       852714"
      ]
     },
     "execution_count": 554,
     "metadata": {},
     "output_type": "execute_result"
    }
   ],
   "source": [
    "X2_train.head(1)"
   ]
  },
  {
   "cell_type": "markdown",
   "id": "4dbd5a0d",
   "metadata": {
    "hidden": true
   },
   "source": [
    "Tratativas necessárias para as features da análise 2 (classificação).\n",
    "- Numéricas (tratadas com scaling): 'populacao', 'pop_ate9', 'pop_de10a14', 'pop_de15a19', 'pop_de20a24', 'pop_de25a34', 'pop_de35a49', 'pop_de50a59', 'pop_mais_de60', 'pop_alvo', 'domicilios_a1', 'domicilios_a2', 'domicilios_b1', 'domicilios_b2', 'domicilios_c1', 'domicilios_c2', 'domicilios_d', 'domicilios_e', 'domicilios_alvo', 'renda_media', 'faturamento'.\n",
    "- Categóricas (tratadas com encoding): 'potencial' (var resposta)."
   ]
  },
  {
   "cell_type": "markdown",
   "id": "cdbaa551",
   "metadata": {
    "hidden": true
   },
   "source": [
    "### Scaling"
   ]
  },
  {
   "cell_type": "code",
   "execution_count": 555,
   "id": "cb29f742",
   "metadata": {
    "ExecuteTime": {
     "end_time": "2023-02-12T20:09:39.929125Z",
     "start_time": "2023-02-12T20:09:39.919051Z"
    },
    "hidden": true
   },
   "outputs": [],
   "source": [
    "features_scaling2 = ['populacao', 'pop_ate9', 'pop_de10a14', 'pop_de15a19', 'pop_de20a24', 'pop_de25a34', 'pop_de35a49', \n",
    "'pop_de50a59', 'pop_mais_de60', 'pop_alvo', 'domicilios_a1', 'domicilios_a2', 'domicilios_b1', 'domicilios_b2', \n",
    "'domicilios_c1', 'domicilios_c2', 'domicilios_d', 'domicilios_e', 'domicilios_alvo', 'renda_media', 'faturamento']"
   ]
  },
  {
   "cell_type": "markdown",
   "id": "298411e6",
   "metadata": {
    "hidden": true
   },
   "source": [
    "Reescala apenas as features selecionadas do treino com MinMaxScaler."
   ]
  },
  {
   "cell_type": "code",
   "execution_count": 556,
   "id": "430da48f",
   "metadata": {
    "ExecuteTime": {
     "end_time": "2023-02-12T20:09:43.250786Z",
     "start_time": "2023-02-12T20:09:43.217603Z"
    },
    "hidden": true
   },
   "outputs": [
    {
     "data": {
      "text/html": [
       "<div>\n",
       "<style scoped>\n",
       "    .dataframe tbody tr th:only-of-type {\n",
       "        vertical-align: middle;\n",
       "    }\n",
       "\n",
       "    .dataframe tbody tr th {\n",
       "        vertical-align: top;\n",
       "    }\n",
       "\n",
       "    .dataframe thead th {\n",
       "        text-align: right;\n",
       "    }\n",
       "</style>\n",
       "<table border=\"1\" class=\"dataframe\">\n",
       "  <thead>\n",
       "    <tr style=\"text-align: right;\">\n",
       "      <th></th>\n",
       "      <th>populacao</th>\n",
       "      <th>pop_ate9</th>\n",
       "      <th>pop_de10a14</th>\n",
       "      <th>pop_de15a19</th>\n",
       "      <th>pop_de20a24</th>\n",
       "      <th>pop_de25a34</th>\n",
       "      <th>pop_de35a49</th>\n",
       "      <th>pop_de50a59</th>\n",
       "      <th>pop_mais_de60</th>\n",
       "      <th>pop_alvo</th>\n",
       "      <th>domicilios_a1</th>\n",
       "      <th>domicilios_a2</th>\n",
       "      <th>domicilios_b1</th>\n",
       "      <th>domicilios_b2</th>\n",
       "      <th>domicilios_c1</th>\n",
       "      <th>domicilios_c2</th>\n",
       "      <th>domicilios_d</th>\n",
       "      <th>domicilios_e</th>\n",
       "      <th>domicilios_alvo</th>\n",
       "      <th>renda_media</th>\n",
       "      <th>faturamento</th>\n",
       "    </tr>\n",
       "  </thead>\n",
       "  <tbody>\n",
       "    <tr>\n",
       "      <th>18</th>\n",
       "      <td>0.0446</td>\n",
       "      <td>0.0375</td>\n",
       "      <td>0.0361</td>\n",
       "      <td>0.0380</td>\n",
       "      <td>0.0394</td>\n",
       "      <td>0.0463</td>\n",
       "      <td>0.0470</td>\n",
       "      <td>0.0463</td>\n",
       "      <td>0.0404</td>\n",
       "      <td>0.0467</td>\n",
       "      <td>0.0000</td>\n",
       "      <td>0.0077</td>\n",
       "      <td>0.0244</td>\n",
       "      <td>0.0680</td>\n",
       "      <td>0.0475</td>\n",
       "      <td>0.0316</td>\n",
       "      <td>0.0263</td>\n",
       "      <td>0.0501</td>\n",
       "      <td>0.0305</td>\n",
       "      <td>0.0804</td>\n",
       "      <td>0.3509</td>\n",
       "    </tr>\n",
       "  </tbody>\n",
       "</table>\n",
       "</div>"
      ],
      "text/plain": [
       "    populacao  pop_ate9  pop_de10a14  pop_de15a19  pop_de20a24  pop_de25a34  pop_de35a49  pop_de50a59  pop_mais_de60  pop_alvo  domicilios_a1  domicilios_a2  domicilios_b1  domicilios_b2  domicilios_c1  domicilios_c2  domicilios_d  domicilios_e  domicilios_alvo  renda_media  faturamento\n",
       "18     0.0446    0.0375       0.0361       0.0380       0.0394       0.0463       0.0470       0.0463         0.0404    0.0467         0.0000         0.0077         0.0244         0.0680         0.0475         0.0316        0.0263        0.0501           0.0305       0.0804       0.3509"
      ]
     },
     "execution_count": 556,
     "metadata": {},
     "output_type": "execute_result"
    }
   ],
   "source": [
    "scaler2 = MinMaxScaler()\n",
    "X2_train[features_scaling2] = scaler2.fit_transform(X2_train[features_scaling2])\n",
    "X2_train.head(1)"
   ]
  },
  {
   "cell_type": "markdown",
   "id": "444edb01",
   "metadata": {
    "hidden": true
   },
   "source": [
    "Aplica o scaler já treinado apenas nas features selecionadas de validação."
   ]
  },
  {
   "cell_type": "code",
   "execution_count": 557,
   "id": "542ef4f3",
   "metadata": {
    "ExecuteTime": {
     "end_time": "2023-02-12T20:09:43.825194Z",
     "start_time": "2023-02-12T20:09:43.793902Z"
    },
    "hidden": true
   },
   "outputs": [
    {
     "data": {
      "text/html": [
       "<div>\n",
       "<style scoped>\n",
       "    .dataframe tbody tr th:only-of-type {\n",
       "        vertical-align: middle;\n",
       "    }\n",
       "\n",
       "    .dataframe tbody tr th {\n",
       "        vertical-align: top;\n",
       "    }\n",
       "\n",
       "    .dataframe thead th {\n",
       "        text-align: right;\n",
       "    }\n",
       "</style>\n",
       "<table border=\"1\" class=\"dataframe\">\n",
       "  <thead>\n",
       "    <tr style=\"text-align: right;\">\n",
       "      <th></th>\n",
       "      <th>populacao</th>\n",
       "      <th>pop_ate9</th>\n",
       "      <th>pop_de10a14</th>\n",
       "      <th>pop_de15a19</th>\n",
       "      <th>pop_de20a24</th>\n",
       "      <th>pop_de25a34</th>\n",
       "      <th>pop_de35a49</th>\n",
       "      <th>pop_de50a59</th>\n",
       "      <th>pop_mais_de60</th>\n",
       "      <th>pop_alvo</th>\n",
       "      <th>domicilios_a1</th>\n",
       "      <th>domicilios_a2</th>\n",
       "      <th>domicilios_b1</th>\n",
       "      <th>domicilios_b2</th>\n",
       "      <th>domicilios_c1</th>\n",
       "      <th>domicilios_c2</th>\n",
       "      <th>domicilios_d</th>\n",
       "      <th>domicilios_e</th>\n",
       "      <th>domicilios_alvo</th>\n",
       "      <th>renda_media</th>\n",
       "      <th>faturamento</th>\n",
       "    </tr>\n",
       "  </thead>\n",
       "  <tbody>\n",
       "    <tr>\n",
       "      <th>93</th>\n",
       "      <td>0.2044</td>\n",
       "      <td>0.1023</td>\n",
       "      <td>0.1071</td>\n",
       "      <td>0.1305</td>\n",
       "      <td>0.1604</td>\n",
       "      <td>0.1796</td>\n",
       "      <td>0.1850</td>\n",
       "      <td>0.2612</td>\n",
       "      <td>0.2977</td>\n",
       "      <td>0.1827</td>\n",
       "      <td>0.0889</td>\n",
       "      <td>0.2032</td>\n",
       "      <td>0.2823</td>\n",
       "      <td>0.3834</td>\n",
       "      <td>0.1604</td>\n",
       "      <td>0.0698</td>\n",
       "      <td>0.0287</td>\n",
       "      <td>0.1219</td>\n",
       "      <td>0.2725</td>\n",
       "      <td>0.2362</td>\n",
       "      <td>0.6789</td>\n",
       "    </tr>\n",
       "  </tbody>\n",
       "</table>\n",
       "</div>"
      ],
      "text/plain": [
       "    populacao  pop_ate9  pop_de10a14  pop_de15a19  pop_de20a24  pop_de25a34  pop_de35a49  pop_de50a59  pop_mais_de60  pop_alvo  domicilios_a1  domicilios_a2  domicilios_b1  domicilios_b2  domicilios_c1  domicilios_c2  domicilios_d  domicilios_e  domicilios_alvo  renda_media  faturamento\n",
       "93     0.2044    0.1023       0.1071       0.1305       0.1604       0.1796       0.1850       0.2612         0.2977    0.1827         0.0889         0.2032         0.2823         0.3834         0.1604         0.0698        0.0287        0.1219           0.2725       0.2362       0.6789"
      ]
     },
     "execution_count": 557,
     "metadata": {},
     "output_type": "execute_result"
    }
   ],
   "source": [
    "X2_val[features_scaling2] = scaler2.transform(X2_val[features_scaling2])\n",
    "X2_val.head(1)"
   ]
  },
  {
   "cell_type": "markdown",
   "id": "7e025afb",
   "metadata": {
    "hidden": true
   },
   "source": [
    "Já deixar pronto também trainval, para avaliar a capacidade de generalização no final."
   ]
  },
  {
   "cell_type": "code",
   "execution_count": 558,
   "id": "46b0dc01",
   "metadata": {
    "ExecuteTime": {
     "end_time": "2023-02-12T20:09:44.890185Z",
     "start_time": "2023-02-12T20:09:44.842844Z"
    },
    "hidden": true,
    "scrolled": true
   },
   "outputs": [
    {
     "data": {
      "text/html": [
       "<div>\n",
       "<style scoped>\n",
       "    .dataframe tbody tr th:only-of-type {\n",
       "        vertical-align: middle;\n",
       "    }\n",
       "\n",
       "    .dataframe tbody tr th {\n",
       "        vertical-align: top;\n",
       "    }\n",
       "\n",
       "    .dataframe thead th {\n",
       "        text-align: right;\n",
       "    }\n",
       "</style>\n",
       "<table border=\"1\" class=\"dataframe\">\n",
       "  <thead>\n",
       "    <tr style=\"text-align: right;\">\n",
       "      <th></th>\n",
       "      <th>populacao</th>\n",
       "      <th>pop_ate9</th>\n",
       "      <th>pop_de10a14</th>\n",
       "      <th>pop_de15a19</th>\n",
       "      <th>pop_de20a24</th>\n",
       "      <th>pop_de25a34</th>\n",
       "      <th>pop_de35a49</th>\n",
       "      <th>pop_de50a59</th>\n",
       "      <th>pop_mais_de60</th>\n",
       "      <th>pop_alvo</th>\n",
       "      <th>domicilios_a1</th>\n",
       "      <th>domicilios_a2</th>\n",
       "      <th>domicilios_b1</th>\n",
       "      <th>domicilios_b2</th>\n",
       "      <th>domicilios_c1</th>\n",
       "      <th>domicilios_c2</th>\n",
       "      <th>domicilios_d</th>\n",
       "      <th>domicilios_e</th>\n",
       "      <th>domicilios_alvo</th>\n",
       "      <th>renda_media</th>\n",
       "      <th>faturamento</th>\n",
       "    </tr>\n",
       "  </thead>\n",
       "  <tbody>\n",
       "    <tr>\n",
       "      <th>37</th>\n",
       "      <td>0.0694</td>\n",
       "      <td>0.0465</td>\n",
       "      <td>0.0515</td>\n",
       "      <td>0.0601</td>\n",
       "      <td>0.0633</td>\n",
       "      <td>0.0827</td>\n",
       "      <td>0.0886</td>\n",
       "      <td>0.0671</td>\n",
       "      <td>0.0888</td>\n",
       "      <td>0.0860</td>\n",
       "      <td>0.0000</td>\n",
       "      <td>0.0000</td>\n",
       "      <td>0.0541</td>\n",
       "      <td>0.1146</td>\n",
       "      <td>0.1388</td>\n",
       "      <td>0.1571</td>\n",
       "      <td>0.1459</td>\n",
       "      <td>0.1752</td>\n",
       "      <td>0.0733</td>\n",
       "      <td>0.0474</td>\n",
       "      <td>0.2146</td>\n",
       "    </tr>\n",
       "  </tbody>\n",
       "</table>\n",
       "</div>"
      ],
      "text/plain": [
       "    populacao  pop_ate9  pop_de10a14  pop_de15a19  pop_de20a24  pop_de25a34  pop_de35a49  pop_de50a59  pop_mais_de60  pop_alvo  domicilios_a1  domicilios_a2  domicilios_b1  domicilios_b2  domicilios_c1  domicilios_c2  domicilios_d  domicilios_e  domicilios_alvo  renda_media  faturamento\n",
       "37     0.0694    0.0465       0.0515       0.0601       0.0633       0.0827       0.0886       0.0671         0.0888    0.0860         0.0000         0.0000         0.0541         0.1146         0.1388         0.1571        0.1459        0.1752           0.0733       0.0474       0.2146"
      ]
     },
     "execution_count": 558,
     "metadata": {},
     "output_type": "execute_result"
    }
   ],
   "source": [
    "scaler2_tv = MinMaxScaler()\n",
    "X2_trainval[features_scaling2] = scaler2_tv.fit_transform(X2_trainval[features_scaling2])\n",
    "X2_trainval.head(1)"
   ]
  },
  {
   "cell_type": "markdown",
   "id": "064a2918",
   "metadata": {
    "hidden": true
   },
   "source": [
    "Aprontar também o test, já aplicando a reescala."
   ]
  },
  {
   "cell_type": "code",
   "execution_count": 559,
   "id": "cf6f7a58",
   "metadata": {
    "ExecuteTime": {
     "end_time": "2023-02-12T20:09:46.654773Z",
     "start_time": "2023-02-12T20:09:46.625626Z"
    },
    "hidden": true,
    "scrolled": true
   },
   "outputs": [
    {
     "data": {
      "text/html": [
       "<div>\n",
       "<style scoped>\n",
       "    .dataframe tbody tr th:only-of-type {\n",
       "        vertical-align: middle;\n",
       "    }\n",
       "\n",
       "    .dataframe tbody tr th {\n",
       "        vertical-align: top;\n",
       "    }\n",
       "\n",
       "    .dataframe thead th {\n",
       "        text-align: right;\n",
       "    }\n",
       "</style>\n",
       "<table border=\"1\" class=\"dataframe\">\n",
       "  <thead>\n",
       "    <tr style=\"text-align: right;\">\n",
       "      <th></th>\n",
       "      <th>populacao</th>\n",
       "      <th>pop_ate9</th>\n",
       "      <th>pop_de10a14</th>\n",
       "      <th>pop_de15a19</th>\n",
       "      <th>pop_de20a24</th>\n",
       "      <th>pop_de25a34</th>\n",
       "      <th>pop_de35a49</th>\n",
       "      <th>pop_de50a59</th>\n",
       "      <th>pop_mais_de60</th>\n",
       "      <th>pop_alvo</th>\n",
       "      <th>domicilios_a1</th>\n",
       "      <th>domicilios_a2</th>\n",
       "      <th>domicilios_b1</th>\n",
       "      <th>domicilios_b2</th>\n",
       "      <th>domicilios_c1</th>\n",
       "      <th>domicilios_c2</th>\n",
       "      <th>domicilios_d</th>\n",
       "      <th>domicilios_e</th>\n",
       "      <th>domicilios_alvo</th>\n",
       "      <th>renda_media</th>\n",
       "      <th>faturamento</th>\n",
       "    </tr>\n",
       "  </thead>\n",
       "  <tbody>\n",
       "    <tr>\n",
       "      <th>5</th>\n",
       "      <td>0.0604</td>\n",
       "      <td>0.0285</td>\n",
       "      <td>0.0302</td>\n",
       "      <td>0.0408</td>\n",
       "      <td>0.0452</td>\n",
       "      <td>0.0693</td>\n",
       "      <td>0.0763</td>\n",
       "      <td>0.0721</td>\n",
       "      <td>0.1076</td>\n",
       "      <td>0.0731</td>\n",
       "      <td>0.0216</td>\n",
       "      <td>0.1067</td>\n",
       "      <td>0.1885</td>\n",
       "      <td>0.1564</td>\n",
       "      <td>0.0992</td>\n",
       "      <td>0.0937</td>\n",
       "      <td>0.0613</td>\n",
       "      <td>0.0713</td>\n",
       "      <td>0.1791</td>\n",
       "      <td>0.1600</td>\n",
       "      <td>0.4081</td>\n",
       "    </tr>\n",
       "  </tbody>\n",
       "</table>\n",
       "</div>"
      ],
      "text/plain": [
       "   populacao  pop_ate9  pop_de10a14  pop_de15a19  pop_de20a24  pop_de25a34  pop_de35a49  pop_de50a59  pop_mais_de60  pop_alvo  domicilios_a1  domicilios_a2  domicilios_b1  domicilios_b2  domicilios_c1  domicilios_c2  domicilios_d  domicilios_e  domicilios_alvo  renda_media  faturamento\n",
       "5     0.0604    0.0285       0.0302       0.0408       0.0452       0.0693       0.0763       0.0721         0.1076    0.0731         0.0216         0.1067         0.1885         0.1564         0.0992         0.0937        0.0613        0.0713           0.1791       0.1600       0.4081"
      ]
     },
     "execution_count": 559,
     "metadata": {},
     "output_type": "execute_result"
    }
   ],
   "source": [
    "X2_test[features_scaling2] = scaler2_tv.transform(X2_test[features_scaling2])\n",
    "X2_test.head(1)"
   ]
  },
  {
   "cell_type": "markdown",
   "id": "b200f18a",
   "metadata": {
    "hidden": true
   },
   "source": [
    "### Encoding"
   ]
  },
  {
   "cell_type": "markdown",
   "id": "8f6b2f1a",
   "metadata": {
    "hidden": true
   },
   "source": [
    "Encodar apenas as features selecionadas do treino com OrdinalEncoder."
   ]
  },
  {
   "cell_type": "code",
   "execution_count": 562,
   "id": "05ff7280",
   "metadata": {
    "ExecuteTime": {
     "end_time": "2023-02-12T20:10:07.908769Z",
     "start_time": "2023-02-12T20:10:07.896894Z"
    },
    "hidden": true,
    "scrolled": true
   },
   "outputs": [
    {
     "data": {
      "text/plain": [
       "[array(['Baixo', 'Médio', 'Alto'], dtype=object)]"
      ]
     },
     "execution_count": 562,
     "metadata": {},
     "output_type": "execute_result"
    }
   ],
   "source": [
    "encoder2 = OrdinalEncoder(categories=[['Baixo', 'Médio', 'Alto']], dtype=int)\n",
    "y2_train = encoder2.fit_transform(y2_train.values.reshape(-1,1))\n",
    "encoder2.categories_"
   ]
  },
  {
   "cell_type": "markdown",
   "id": "037c143f",
   "metadata": {
    "hidden": true
   },
   "source": [
    "Aplica o encoder já treinado apenas na feature selecionada de validação."
   ]
  },
  {
   "cell_type": "code",
   "execution_count": 563,
   "id": "1574cce8",
   "metadata": {
    "ExecuteTime": {
     "end_time": "2023-02-12T20:10:09.185262Z",
     "start_time": "2023-02-12T20:10:09.176032Z"
    },
    "hidden": true
   },
   "outputs": [
    {
     "data": {
      "text/plain": [
       "array([[2],\n",
       "       [0],\n",
       "       [1]])"
      ]
     },
     "execution_count": 563,
     "metadata": {},
     "output_type": "execute_result"
    }
   ],
   "source": [
    "y2_val = encoder2.transform(y2_val.values.reshape(-1,1))\n",
    "y2_val[:3]"
   ]
  },
  {
   "cell_type": "markdown",
   "id": "ec92bb21",
   "metadata": {
    "hidden": true
   },
   "source": [
    "Já deixar pronto também trainval, para avaliar a capacidade de generalização no final."
   ]
  },
  {
   "cell_type": "code",
   "execution_count": 564,
   "id": "ac995974",
   "metadata": {
    "ExecuteTime": {
     "end_time": "2023-02-12T20:10:10.769994Z",
     "start_time": "2023-02-12T20:10:10.759709Z"
    },
    "hidden": true
   },
   "outputs": [
    {
     "data": {
      "text/plain": [
       "array([[1],\n",
       "       [2],\n",
       "       [1]])"
      ]
     },
     "execution_count": 564,
     "metadata": {},
     "output_type": "execute_result"
    }
   ],
   "source": [
    "encoder2_tv = OrdinalEncoder(categories=[['Baixo', 'Médio', 'Alto']], dtype=int)\n",
    "y2_trainval = encoder2_tv.fit_transform(y2_trainval.values.reshape(-1,1))\n",
    "y2_trainval[:3]"
   ]
  },
  {
   "cell_type": "markdown",
   "id": "7be48390",
   "metadata": {
    "hidden": true
   },
   "source": [
    "Aprontar também o test, já aplicando as transformações."
   ]
  },
  {
   "cell_type": "code",
   "execution_count": 565,
   "id": "0dc705d7",
   "metadata": {
    "ExecuteTime": {
     "end_time": "2023-02-12T20:10:12.404923Z",
     "start_time": "2023-02-12T20:10:12.391822Z"
    },
    "hidden": true
   },
   "outputs": [
    {
     "data": {
      "text/plain": [
       "array([[2],\n",
       "       [2],\n",
       "       [0]])"
      ]
     },
     "execution_count": 565,
     "metadata": {},
     "output_type": "execute_result"
    }
   ],
   "source": [
    "y2_test = encoder2_tv.transform(y2_test.values.reshape(-1,1))\n",
    "y2_test[:3]"
   ]
  },
  {
   "cell_type": "markdown",
   "id": "ded23111",
   "metadata": {
    "heading_collapsed": true,
    "hidden": true
   },
   "source": [
    "## Seleção de Features"
   ]
  },
  {
   "cell_type": "markdown",
   "id": "1da84cac",
   "metadata": {
    "hidden": true
   },
   "source": [
    "Será utilizada a técnica de feature selection baseada em algoritmo (Random Forest), mas desta vez com um RandomForestClassifier.\n",
    "\n",
    "Ela foi a melhor na análise 1, e pela experiência, apresenta boa robustez de resultados."
   ]
  },
  {
   "cell_type": "code",
   "execution_count": 566,
   "id": "b5a26dbc",
   "metadata": {
    "ExecuteTime": {
     "end_time": "2023-02-12T20:10:25.258322Z",
     "start_time": "2023-02-12T20:10:25.207289Z"
    },
    "hidden": true
   },
   "outputs": [
    {
     "data": {
      "text/plain": [
       "array(['populacao', 'pop_de20a24', 'pop_de25a34', 'pop_de50a59',\n",
       "       'pop_mais_de60', 'pop_alvo', 'domicilios_a1', 'domicilios_a2',\n",
       "       'domicilios_b1', 'domicilios_b2', 'domicilios_alvo', 'renda_media',\n",
       "       'faturamento'], dtype=object)"
      ]
     },
     "execution_count": 566,
     "metadata": {},
     "output_type": "execute_result"
    }
   ],
   "source": [
    "sel_mbfs = SelectFromModel( RandomForestClassifier(n_estimators=10, random_state=0), threshold=\"0.6*median\") \n",
    "sel_mbfs.fit(X2_train, y2_train.ravel()).transform(X2_train)\n",
    "features_mbfs = sel_mbfs.get_feature_names_out()\n",
    "features_mbfs"
   ]
  },
  {
   "cell_type": "markdown",
   "id": "030047ce",
   "metadata": {
    "hidden": true
   },
   "source": [
    "Mantendo apenas as features selecionadas nos demais datasets."
   ]
  },
  {
   "cell_type": "code",
   "execution_count": 567,
   "id": "8f1050f5",
   "metadata": {
    "ExecuteTime": {
     "end_time": "2023-02-12T20:10:27.242008Z",
     "start_time": "2023-02-12T20:10:27.216959Z"
    },
    "hidden": true
   },
   "outputs": [
    {
     "data": {
      "text/html": [
       "<div>\n",
       "<style scoped>\n",
       "    .dataframe tbody tr th:only-of-type {\n",
       "        vertical-align: middle;\n",
       "    }\n",
       "\n",
       "    .dataframe tbody tr th {\n",
       "        vertical-align: top;\n",
       "    }\n",
       "\n",
       "    .dataframe thead th {\n",
       "        text-align: right;\n",
       "    }\n",
       "</style>\n",
       "<table border=\"1\" class=\"dataframe\">\n",
       "  <thead>\n",
       "    <tr style=\"text-align: right;\">\n",
       "      <th></th>\n",
       "      <th>populacao</th>\n",
       "      <th>pop_de20a24</th>\n",
       "      <th>pop_de25a34</th>\n",
       "      <th>pop_de50a59</th>\n",
       "      <th>pop_mais_de60</th>\n",
       "      <th>pop_alvo</th>\n",
       "      <th>domicilios_a1</th>\n",
       "      <th>domicilios_a2</th>\n",
       "      <th>domicilios_b1</th>\n",
       "      <th>domicilios_b2</th>\n",
       "      <th>domicilios_alvo</th>\n",
       "      <th>renda_media</th>\n",
       "      <th>faturamento</th>\n",
       "    </tr>\n",
       "  </thead>\n",
       "  <tbody>\n",
       "    <tr>\n",
       "      <th>18</th>\n",
       "      <td>0.0446</td>\n",
       "      <td>0.0394</td>\n",
       "      <td>0.0463</td>\n",
       "      <td>0.0463</td>\n",
       "      <td>0.0404</td>\n",
       "      <td>0.0467</td>\n",
       "      <td>0.0000</td>\n",
       "      <td>0.0077</td>\n",
       "      <td>0.0244</td>\n",
       "      <td>0.0680</td>\n",
       "      <td>0.0305</td>\n",
       "      <td>0.0804</td>\n",
       "      <td>0.3509</td>\n",
       "    </tr>\n",
       "  </tbody>\n",
       "</table>\n",
       "</div>"
      ],
      "text/plain": [
       "    populacao  pop_de20a24  pop_de25a34  pop_de50a59  pop_mais_de60  pop_alvo  domicilios_a1  domicilios_a2  domicilios_b1  domicilios_b2  domicilios_alvo  renda_media  faturamento\n",
       "18     0.0446       0.0394       0.0463       0.0463         0.0404    0.0467         0.0000         0.0077         0.0244         0.0680           0.0305       0.0804       0.3509"
      ]
     },
     "execution_count": 567,
     "metadata": {},
     "output_type": "execute_result"
    }
   ],
   "source": [
    "X2_train_mbfs = X2_train[features_mbfs].copy() \n",
    "X2_val_mbfs = X2_val[features_mbfs].copy() \n",
    "X2_trainval_mbfs = X2_trainval[features_mbfs].copy() \n",
    "X2_test_mbfs = X2_test[features_mbfs].copy() \n",
    "X2_train_mbfs.head(1)"
   ]
  },
  {
   "cell_type": "markdown",
   "id": "7e2607ca",
   "metadata": {
    "heading_collapsed": true,
    "hidden": true
   },
   "source": [
    "## Implementação de Baseline"
   ]
  },
  {
   "cell_type": "markdown",
   "id": "e02bc6d3",
   "metadata": {
    "hidden": true
   },
   "source": [
    "Nesta análise, também será implementado o KNN como modelo de base. \n",
    "\n",
    "Se tratando de um problema de classificação, será utilizado o KNN classifier da biblioteca scikit-learn."
   ]
  },
  {
   "cell_type": "markdown",
   "id": "b9e14e64",
   "metadata": {
    "hidden": true
   },
   "source": [
    "Manter apenas features numéricas, respeitando a premissa do KNN."
   ]
  },
  {
   "cell_type": "code",
   "execution_count": 568,
   "id": "7bf6ab75",
   "metadata": {
    "ExecuteTime": {
     "end_time": "2023-02-12T20:10:32.453185Z",
     "start_time": "2023-02-12T20:10:32.431585Z"
    },
    "hidden": true
   },
   "outputs": [
    {
     "data": {
      "text/html": [
       "<div>\n",
       "<style scoped>\n",
       "    .dataframe tbody tr th:only-of-type {\n",
       "        vertical-align: middle;\n",
       "    }\n",
       "\n",
       "    .dataframe tbody tr th {\n",
       "        vertical-align: top;\n",
       "    }\n",
       "\n",
       "    .dataframe thead th {\n",
       "        text-align: right;\n",
       "    }\n",
       "</style>\n",
       "<table border=\"1\" class=\"dataframe\">\n",
       "  <thead>\n",
       "    <tr style=\"text-align: right;\">\n",
       "      <th></th>\n",
       "      <th>populacao</th>\n",
       "      <th>pop_ate9</th>\n",
       "      <th>pop_de10a14</th>\n",
       "      <th>pop_de15a19</th>\n",
       "      <th>pop_de20a24</th>\n",
       "      <th>pop_de25a34</th>\n",
       "      <th>pop_de35a49</th>\n",
       "      <th>pop_de50a59</th>\n",
       "      <th>pop_mais_de60</th>\n",
       "      <th>pop_alvo</th>\n",
       "      <th>domicilios_a1</th>\n",
       "      <th>domicilios_a2</th>\n",
       "      <th>domicilios_b1</th>\n",
       "      <th>domicilios_b2</th>\n",
       "      <th>domicilios_c1</th>\n",
       "      <th>domicilios_c2</th>\n",
       "      <th>domicilios_d</th>\n",
       "      <th>domicilios_e</th>\n",
       "      <th>domicilios_alvo</th>\n",
       "      <th>renda_media</th>\n",
       "      <th>faturamento</th>\n",
       "    </tr>\n",
       "  </thead>\n",
       "  <tbody>\n",
       "    <tr>\n",
       "      <th>18</th>\n",
       "      <td>0.0446</td>\n",
       "      <td>0.0375</td>\n",
       "      <td>0.0361</td>\n",
       "      <td>0.0380</td>\n",
       "      <td>0.0394</td>\n",
       "      <td>0.0463</td>\n",
       "      <td>0.0470</td>\n",
       "      <td>0.0463</td>\n",
       "      <td>0.0404</td>\n",
       "      <td>0.0467</td>\n",
       "      <td>0.0000</td>\n",
       "      <td>0.0077</td>\n",
       "      <td>0.0244</td>\n",
       "      <td>0.0680</td>\n",
       "      <td>0.0475</td>\n",
       "      <td>0.0316</td>\n",
       "      <td>0.0263</td>\n",
       "      <td>0.0501</td>\n",
       "      <td>0.0305</td>\n",
       "      <td>0.0804</td>\n",
       "      <td>0.3509</td>\n",
       "    </tr>\n",
       "  </tbody>\n",
       "</table>\n",
       "</div>"
      ],
      "text/plain": [
       "    populacao  pop_ate9  pop_de10a14  pop_de15a19  pop_de20a24  pop_de25a34  pop_de35a49  pop_de50a59  pop_mais_de60  pop_alvo  domicilios_a1  domicilios_a2  domicilios_b1  domicilios_b2  domicilios_c1  domicilios_c2  domicilios_d  domicilios_e  domicilios_alvo  renda_media  faturamento\n",
       "18     0.0446    0.0375       0.0361       0.0380       0.0394       0.0463       0.0470       0.0463         0.0404    0.0467         0.0000         0.0077         0.0244         0.0680         0.0475         0.0316        0.0263        0.0501           0.0305       0.0804       0.3509"
      ]
     },
     "execution_count": 568,
     "metadata": {},
     "output_type": "execute_result"
    }
   ],
   "source": [
    "X2_train = X2_train.select_dtypes(include=['int64', 'float64'])\n",
    "X2_val = X2_val.select_dtypes(include=['int64', 'float64'])\n",
    "X2_train.head(1)"
   ]
  },
  {
   "cell_type": "markdown",
   "id": "9850b52e",
   "metadata": {
    "hidden": true
   },
   "source": [
    "Instanciar um KNN Classifier, treinar com os dados de treino, e realizar predições com os dados de validação.\n",
    "\n",
    "Será parametrizado neste ciclo um número de k=3, visando um modelo mais simples que o K=5 default, com a expectativa de uma maior capacidade de generalização. Nos próximos ciclos, serão avaliados diferentes valores de K, para comparação."
   ]
  },
  {
   "cell_type": "code",
   "execution_count": 51,
   "id": "ae575c18",
   "metadata": {
    "ExecuteTime": {
     "end_time": "2023-02-10T10:05:50.123850Z",
     "start_time": "2023-02-10T10:05:50.109491Z"
    },
    "hidden": true
   },
   "outputs": [],
   "source": [
    "knn_cla = KNeighborsClassifier(n_neighbors=3)\n",
    "knn_cla.fit(X2_train, y2_train)\n",
    "knn_cla_yhat = knn_cla.predict(X2_val)"
   ]
  },
  {
   "cell_type": "code",
   "execution_count": 52,
   "id": "8814f65c",
   "metadata": {
    "ExecuteTime": {
     "end_time": "2023-02-10T10:05:52.201932Z",
     "start_time": "2023-02-10T10:05:52.193631Z"
    },
    "hidden": true
   },
   "outputs": [
    {
     "data": {
      "text/plain": [
       "array(['Médio', 'Baixo', 'Médio'], dtype=object)"
      ]
     },
     "execution_count": 52,
     "metadata": {},
     "output_type": "execute_result"
    }
   ],
   "source": [
    "knn_cla_yhat[:3]"
   ]
  },
  {
   "cell_type": "markdown",
   "id": "6186db14",
   "metadata": {
    "hidden": true
   },
   "source": [
    "A métrica utilizada para medir a performance do modelo será a acurácia média.\n",
    "- Varia entre 0 e 100%, e mede quantas predições o modelo acertou, dentre todas as previsões realizadas.\n",
    "- Busca-se portanto, o valor mais próximo de 100% possível, ou seja, a previsão de potencial mais próxima da realidade possível."
   ]
  },
  {
   "cell_type": "code",
   "execution_count": 53,
   "id": "4bef0f31",
   "metadata": {
    "ExecuteTime": {
     "end_time": "2023-02-10T10:05:53.026741Z",
     "start_time": "2023-02-10T10:05:53.013129Z"
    },
    "hidden": true
   },
   "outputs": [
    {
     "name": "stdout",
     "output_type": "stream",
     "text": [
      "Acurácia com dados de Validação: 0.5714\n"
     ]
    }
   ],
   "source": [
    "print(\"Acurácia com dados de Validação: {:.4f}\".format(knn_cla.score(X2_val, y2_val)))"
   ]
  },
  {
   "cell_type": "markdown",
   "id": "96678ef6",
   "metadata": {
    "hidden": true
   },
   "source": [
    "Pode-se calcular também a acurácia média a partir da predição do modelo, através do pacote \"metrics\" do scikit-sklearn."
   ]
  },
  {
   "cell_type": "code",
   "execution_count": 54,
   "id": "fdbd6bde",
   "metadata": {
    "ExecuteTime": {
     "end_time": "2023-02-10T10:05:54.858691Z",
     "start_time": "2023-02-10T10:05:54.850816Z"
    },
    "hidden": true
   },
   "outputs": [
    {
     "name": "stdout",
     "output_type": "stream",
     "text": [
      "Acurácia com dados de Validação: 0.5714\n"
     ]
    }
   ],
   "source": [
    "print(f\"Acurácia com dados de Validação: {round(accuracy_score(y2_val, knn_cla_yhat),4)}\")"
   ]
  },
  {
   "cell_type": "markdown",
   "id": "8c6f1202",
   "metadata": {
    "hidden": true
   },
   "source": [
    "A acurácia do KNN foi satisfatória neste primeiro ciclo. Possivlmente a métrica pode ser melhorada, por meio de:\n",
    "- Reescala de dados.\n",
    "- Seleção de features, removendo as não informativas e aquelas não relacionadas ao público alvo.\n",
    "- Seleção de diferentes valores para K, bem como tunagem de hiperparâmetros no modelo.\n",
    "- Avaliação da presença de outliers, que podem distorcer os cálculos de distâncias.\n",
    "\n",
    "Nos próximos ciclos, estes temas serão tratados, e novos algoritmos com diferentes abordagens também serão implementados.\n",
    "\n",
    "No último ciclo, será avaliada a capacidade de generalização do modelo final (de melhor performance), realizando a previsão com os dados de teste."
   ]
  },
  {
   "cell_type": "markdown",
   "id": "fa93b8a6",
   "metadata": {
    "heading_collapsed": true,
    "hidden": true
   },
   "source": [
    "## Comparação com o Baseline"
   ]
  },
  {
   "cell_type": "markdown",
   "id": "4405d45c",
   "metadata": {
    "hidden": true
   },
   "source": [
    "Esta seção e as subsequêntes dentro da análise 2, foram implementadas no ciclo 3."
   ]
  },
  {
   "cell_type": "markdown",
   "id": "9512d03b",
   "metadata": {
    "hidden": true
   },
   "source": [
    "Percebe-se que 3 dos 4 pontos de melhoria identificados no ciclo 1 (seção anterior) foram sanados. O quarto (seleção de diferentes números de K) será também tratado na sequência.\n",
    "\n",
    "Mapeamento dos split do dataset já preparados, para facilitar o treinamento de modelos:\n",
    "- X --> X2_train_mbfs, X2_val_mbfs, X2_trainval_mbfs, X2_test_mbfs\n",
    "- y --> y2_train,      y2_val,      y2_trainval,      y2_test"
   ]
  },
  {
   "cell_type": "markdown",
   "id": "3c139686",
   "metadata": {
    "hidden": true
   },
   "source": [
    "Treinar KNN com mesmos parâmetros do ciclo 1."
   ]
  },
  {
   "cell_type": "code",
   "execution_count": 573,
   "id": "f32ec803",
   "metadata": {
    "ExecuteTime": {
     "end_time": "2023-02-12T20:12:07.031903Z",
     "start_time": "2023-02-12T20:12:07.015150Z"
    },
    "hidden": true
   },
   "outputs": [],
   "source": [
    "knn_cla_c2 = KNeighborsClassifier(n_neighbors=3)\n",
    "knn_cla_c2.fit(X2_train_mbfs, y2_train.ravel())\n",
    "knn_cla_c2_yhat = knn_cla_c2.predict(X2_val_mbfs)"
   ]
  },
  {
   "cell_type": "markdown",
   "id": "0c0e1e3e",
   "metadata": {
    "hidden": true
   },
   "source": [
    "Inspeção manual de Amostras."
   ]
  },
  {
   "cell_type": "code",
   "execution_count": 574,
   "id": "9010a43b",
   "metadata": {
    "ExecuteTime": {
     "end_time": "2023-02-12T20:12:08.260435Z",
     "start_time": "2023-02-12T20:12:08.253098Z"
    },
    "hidden": true
   },
   "outputs": [
    {
     "name": "stdout",
     "output_type": "stream",
     "text": [
      "Previsto: [2 0 1 2 2 2 0 0 0 0 2 0 1 0 2 0 2 2 1 2]\n",
      "Real:     [2 0 1 2 2 2 1 1 0 0 1 0 0 0 1 0 2 2 1 2]\n"
     ]
    }
   ],
   "source": [
    "print(f'Previsto: {knn_cla_c2_yhat[:20]}')\n",
    "print(f'Real:     {y2_val[:20].ravel()}')"
   ]
  },
  {
   "cell_type": "markdown",
   "id": "1251b0cc",
   "metadata": {
    "hidden": true
   },
   "source": [
    "Comparação de performance com o ciclo 1."
   ]
  },
  {
   "cell_type": "code",
   "execution_count": 584,
   "id": "8fd0936c",
   "metadata": {
    "ExecuteTime": {
     "end_time": "2023-02-12T20:14:05.491733Z",
     "start_time": "2023-02-12T20:14:05.484208Z"
    },
    "hidden": true
   },
   "outputs": [
    {
     "name": "stdout",
     "output_type": "stream",
     "text": [
      "Acurácia em Validação: 0.75\n"
     ]
    }
   ],
   "source": [
    "print(f\"Acurácia em Validação: {round(accuracy_score(y2_val, knn_cla_c2_yhat),4)}\")"
   ]
  },
  {
   "cell_type": "markdown",
   "id": "0dd6d3bf",
   "metadata": {
    "hidden": true
   },
   "source": [
    "A acurácia teve um aumento neste ciclo 2 em relação ao primeiro, como pode ser visto acima.\n",
    "\n",
    "No ciclo 1, foi utilizada a acurácia média, pelo desbalanceamento entre as classes ser pequeno. \n",
    "\n",
    "Ocorre que como a variável alvo possui muito poucas amostras, este pequeno desbalanceamento tem um alto impacto.\n",
    "- Isto, porque a acurácia atribui o mesmo peso para qualquer classe. Portanto, o valor da acurácia para problemas com classes desbalanceadas é dominado pelo acerto da classe majoritária.\n",
    "\n",
    "A métrica que seguirá sendo utilizada a partir daqui é o F1 Score. \n",
    "- F1-Score: Resume precision e recall, sendo a média harmônica entre ambos.\n",
    "- É usado como métrica em datasets desbalanceados de classificação."
   ]
  },
  {
   "cell_type": "code",
   "execution_count": 583,
   "id": "db81fcd8",
   "metadata": {
    "ExecuteTime": {
     "end_time": "2023-02-12T20:14:00.811358Z",
     "start_time": "2023-02-12T20:14:00.799838Z"
    },
    "hidden": true
   },
   "outputs": [
    {
     "name": "stdout",
     "output_type": "stream",
     "text": [
      "F1-Score em Validação: 0.7292\n"
     ]
    }
   ],
   "source": [
    "print(f\"F1-Score em Validação: {round(f1_score( y2_val, knn_cla_c2_yhat, average='weighted' ),4)}\")"
   ]
  },
  {
   "cell_type": "markdown",
   "id": "edeb0fb0",
   "metadata": {
    "ExecuteTime": {
     "end_time": "2023-02-12T00:37:20.649593Z",
     "start_time": "2023-02-12T00:37:20.640448Z"
    },
    "hidden": true
   },
   "source": [
    "Nas próximas seções, serão utilizadas técnicas para melhoria de performance dos modelos, bem como outros modelos também serão experimentados."
   ]
  },
  {
   "cell_type": "markdown",
   "id": "a144a035",
   "metadata": {
    "heading_collapsed": true,
    "hidden": true
   },
   "source": [
    "## KNN Classifier"
   ]
  },
  {
   "cell_type": "markdown",
   "id": "e534d6e9",
   "metadata": {
    "hidden": true
   },
   "source": [
    "A seguir, será implmentado um KNN Classifier com Grid Search + Cross Validation."
   ]
  },
  {
   "cell_type": "code",
   "execution_count": 585,
   "id": "40aa054b",
   "metadata": {
    "ExecuteTime": {
     "end_time": "2023-02-12T20:14:15.730011Z",
     "start_time": "2023-02-12T20:14:14.595503Z"
    },
    "hidden": true
   },
   "outputs": [],
   "source": [
    "knn_param_grid2 = {'n_neighbors':[1,2,3,4,5,6,7,8], 'weights':['uniform','distance']}\n",
    "#instanciar GridSearchCV com KNNRegressor e treinar o modelo\n",
    "knn_cla_gscv = GridSearchCV(KNeighborsClassifier(), knn_param_grid2, cv=10).fit(X2_train_mbfs, y2_train.ravel())"
   ]
  },
  {
   "cell_type": "markdown",
   "id": "03de4703",
   "metadata": {
    "ExecuteTime": {
     "end_time": "2023-02-11T23:47:55.751376Z",
     "start_time": "2023-02-11T23:47:55.742497Z"
    },
    "hidden": true
   },
   "source": [
    "Analisar os melhores parâmetros do KNN. "
   ]
  },
  {
   "cell_type": "code",
   "execution_count": 586,
   "id": "e31a3987",
   "metadata": {
    "ExecuteTime": {
     "end_time": "2023-02-12T20:14:16.310945Z",
     "start_time": "2023-02-12T20:14:16.299111Z"
    },
    "hidden": true
   },
   "outputs": [
    {
     "name": "stdout",
     "output_type": "stream",
     "text": [
      "Melhores parâmetros: {'n_neighbors': 7, 'weights': 'uniform'}\n"
     ]
    }
   ],
   "source": [
    "print(f\"Melhores parâmetros: {knn_cla_gscv.best_params_}\")"
   ]
  },
  {
   "cell_type": "markdown",
   "id": "60bf4b0f",
   "metadata": {
    "ExecuteTime": {
     "end_time": "2023-02-11T23:52:53.121785Z",
     "start_time": "2023-02-11T23:52:53.112019Z"
    },
    "hidden": true
   },
   "source": [
    "Predição em cima dos dados de validação."
   ]
  },
  {
   "cell_type": "code",
   "execution_count": 587,
   "id": "e35808d5",
   "metadata": {
    "ExecuteTime": {
     "end_time": "2023-02-12T20:14:23.631106Z",
     "start_time": "2023-02-12T20:14:23.618907Z"
    },
    "hidden": true
   },
   "outputs": [],
   "source": [
    "knn_cla_gscv_yhat = knn_cla_gscv.predict(X2_val_mbfs)"
   ]
  },
  {
   "cell_type": "markdown",
   "id": "beb3d82d",
   "metadata": {
    "ExecuteTime": {
     "end_time": "2023-02-12T15:26:37.708400Z",
     "start_time": "2023-02-12T15:26:37.700877Z"
    },
    "hidden": true
   },
   "source": [
    "Performance."
   ]
  },
  {
   "cell_type": "code",
   "execution_count": 589,
   "id": "b0ee57b9",
   "metadata": {
    "ExecuteTime": {
     "end_time": "2023-02-12T20:14:47.357396Z",
     "start_time": "2023-02-12T20:14:47.347200Z"
    },
    "hidden": true
   },
   "outputs": [
    {
     "name": "stdout",
     "output_type": "stream",
     "text": [
      "KNN com Cross Val e Grid Search - F1-Score em Validação: 0.6618\n"
     ]
    }
   ],
   "source": [
    "knn_cla_gscv_score = f1_score(y2_val, knn_cla_gscv_yhat, average='weighted')\n",
    "print(f\"KNN com Cross Val e Grid Search - F1-Score em Validação: {round(knn_cla_gscv_score,4)}\")"
   ]
  },
  {
   "cell_type": "markdown",
   "id": "feca128b",
   "metadata": {
    "hidden": true
   },
   "source": [
    "O resultado do KNN com seus melhores parâmetros não aumentou, mas servirá de base, para comparação com os próximos modelos implementados."
   ]
  },
  {
   "cell_type": "markdown",
   "id": "fc50f3da",
   "metadata": {
    "hidden": true
   },
   "source": [
    "Criar dataframe para comparação de resultados, e atribuir o do KNN."
   ]
  },
  {
   "cell_type": "code",
   "execution_count": 619,
   "id": "c5893ba1",
   "metadata": {
    "ExecuteTime": {
     "end_time": "2023-02-12T20:26:27.617651Z",
     "start_time": "2023-02-12T20:26:27.601697Z"
    },
    "hidden": true
   },
   "outputs": [
    {
     "data": {
      "text/html": [
       "<div>\n",
       "<style scoped>\n",
       "    .dataframe tbody tr th:only-of-type {\n",
       "        vertical-align: middle;\n",
       "    }\n",
       "\n",
       "    .dataframe tbody tr th {\n",
       "        vertical-align: top;\n",
       "    }\n",
       "\n",
       "    .dataframe thead th {\n",
       "        text-align: right;\n",
       "    }\n",
       "</style>\n",
       "<table border=\"1\" class=\"dataframe\">\n",
       "  <thead>\n",
       "    <tr style=\"text-align: right;\">\n",
       "      <th></th>\n",
       "      <th>model_name</th>\n",
       "      <th>mean_accuracy_score</th>\n",
       "    </tr>\n",
       "  </thead>\n",
       "  <tbody>\n",
       "    <tr>\n",
       "      <th>0</th>\n",
       "      <td>knn_cla_gscv</td>\n",
       "      <td>0.6618</td>\n",
       "    </tr>\n",
       "  </tbody>\n",
       "</table>\n",
       "</div>"
      ],
      "text/plain": [
       "     model_name  mean_accuracy_score\n",
       "0  knn_cla_gscv               0.6618"
      ]
     },
     "execution_count": 619,
     "metadata": {},
     "output_type": "execute_result"
    }
   ],
   "source": [
    "df_an2_scores = pd.DataFrame(columns=['model_name','mean_accuracy_score'])\n",
    "df_an2_scores.loc[len(df_an2_scores)] = ['knn_cla_gscv', knn_cla_gscv_score]\n",
    "df_an2_scores"
   ]
  },
  {
   "cell_type": "markdown",
   "id": "3b2de0ab",
   "metadata": {
    "heading_collapsed": true,
    "hidden": true
   },
   "source": [
    "## Logistic Regression"
   ]
  },
  {
   "cell_type": "markdown",
   "id": "5500dc64",
   "metadata": {
    "hidden": true
   },
   "source": [
    "A regressão logística é algoritmo linear de classificação, que encontraa as relações entre dois fatores de dados, e usa essa relação para prever o valor de um fator com base no outro.\n",
    "- O parâmetro que determina a força da regularização é chamado 'C'. Quanto menor o 'C' mais simples será o modelo. Logo, mais regularização tende a ter (menor flexibilidade), tendendo mais para a generalização."
   ]
  },
  {
   "cell_type": "code",
   "execution_count": 591,
   "id": "0cb4296b",
   "metadata": {
    "ExecuteTime": {
     "end_time": "2023-02-12T20:14:56.646112Z",
     "start_time": "2023-02-12T20:14:55.753793Z"
    },
    "hidden": true
   },
   "outputs": [],
   "source": [
    "lreg_param_grid2 = {'C': [0.01, 0.1, 1, 10, 100]}\n",
    "#instanciar GridSearchCV com LogisticRegression e treinar o modelo\n",
    "lreg_cla_gscv = GridSearchCV(LogisticRegression(max_iter=1000), lreg_param_grid2, cv=10).fit(X2_train_mbfs, y2_train.ravel())"
   ]
  },
  {
   "cell_type": "markdown",
   "id": "6e0206dd",
   "metadata": {
    "ExecuteTime": {
     "end_time": "2023-02-11T23:47:55.751376Z",
     "start_time": "2023-02-11T23:47:55.742497Z"
    },
    "hidden": true
   },
   "source": [
    "Analisar os melhores parâmetros da Reg Log. "
   ]
  },
  {
   "cell_type": "code",
   "execution_count": 592,
   "id": "a6d1621e",
   "metadata": {
    "ExecuteTime": {
     "end_time": "2023-02-12T20:14:58.091737Z",
     "start_time": "2023-02-12T20:14:58.083122Z"
    },
    "hidden": true
   },
   "outputs": [
    {
     "name": "stdout",
     "output_type": "stream",
     "text": [
      "Melhores parâmetros: {'C': 100}\n"
     ]
    }
   ],
   "source": [
    "print(f\"Melhores parâmetros: {lreg_cla_gscv.best_params_}\")"
   ]
  },
  {
   "cell_type": "markdown",
   "id": "a367c76c",
   "metadata": {
    "ExecuteTime": {
     "end_time": "2023-02-11T23:52:53.121785Z",
     "start_time": "2023-02-11T23:52:53.112019Z"
    },
    "hidden": true
   },
   "source": [
    "Predição em cima dos dados de validação."
   ]
  },
  {
   "cell_type": "code",
   "execution_count": 593,
   "id": "9c4fd358",
   "metadata": {
    "ExecuteTime": {
     "end_time": "2023-02-12T20:14:59.010746Z",
     "start_time": "2023-02-12T20:14:59.002986Z"
    },
    "hidden": true
   },
   "outputs": [],
   "source": [
    "lreg_cla_gscv_yhat = lreg_cla_gscv.predict(X2_val_mbfs)"
   ]
  },
  {
   "cell_type": "markdown",
   "id": "17c7322f",
   "metadata": {
    "ExecuteTime": {
     "end_time": "2023-02-12T15:26:37.708400Z",
     "start_time": "2023-02-12T15:26:37.700877Z"
    },
    "hidden": true
   },
   "source": [
    "Performance."
   ]
  },
  {
   "cell_type": "code",
   "execution_count": 595,
   "id": "94a806b4",
   "metadata": {
    "ExecuteTime": {
     "end_time": "2023-02-12T20:15:13.325256Z",
     "start_time": "2023-02-12T20:15:13.315009Z"
    },
    "hidden": true
   },
   "outputs": [
    {
     "name": "stdout",
     "output_type": "stream",
     "text": [
      "Logistic Regression com Cross Val e Grid Search - F1-Score em Validação: 0.6618\n"
     ]
    }
   ],
   "source": [
    "lreg_cla_gscv_score = f1_score(y2_val, knn_cla_gscv_yhat, average='weighted')\n",
    "print(f\"Logistic Regression com Cross Val e Grid Search - F1-Score em Validação: {round(lreg_cla_gscv_score,4)}\")"
   ]
  },
  {
   "cell_type": "markdown",
   "id": "aab0c9fe",
   "metadata": {
    "hidden": true
   },
   "source": [
    "O resultado foi o mesmo que o obtido com o KNN. Isto não é comum, mas possivelmente ocorreu pelo fato de y2_val possuir poucos registros."
   ]
  },
  {
   "cell_type": "markdown",
   "id": "3a4785f7",
   "metadata": {
    "hidden": true
   },
   "source": [
    "Inserir no dataframe de resultados."
   ]
  },
  {
   "cell_type": "code",
   "execution_count": 620,
   "id": "5e390107",
   "metadata": {
    "ExecuteTime": {
     "end_time": "2023-02-12T20:26:30.966876Z",
     "start_time": "2023-02-12T20:26:30.956018Z"
    },
    "hidden": true
   },
   "outputs": [],
   "source": [
    "df_an2_scores.loc[len(df_an2_scores)] = ['lreg_cla_gscv', lreg_cla_gscv_score]"
   ]
  },
  {
   "cell_type": "markdown",
   "id": "34d64f97",
   "metadata": {
    "heading_collapsed": true,
    "hidden": true
   },
   "source": [
    "## XGBoost Classifier"
   ]
  },
  {
   "cell_type": "code",
   "execution_count": 606,
   "id": "210e7640",
   "metadata": {
    "ExecuteTime": {
     "end_time": "2023-02-12T20:22:52.264505Z",
     "start_time": "2023-02-12T20:22:34.336707Z"
    },
    "hidden": true
   },
   "outputs": [],
   "source": [
    "xgb_param_grid = {'n_estimators':[50, 100], 'max_depth':[4, 6], 'min_child_weight':[4,9], 'colsample_bytree':[0.5], 'eta':[0.1,0,2]}\n",
    "#instanciar GridSearchCV com XGBClassifier e treinar o modelo\n",
    "xgb_cla_gscv = GridSearchCV(XGBClassifier(), xgb_param_grid, cv=10).fit(X2_train_mbfs, y2_train.ravel())"
   ]
  },
  {
   "cell_type": "markdown",
   "id": "4cf8cef4",
   "metadata": {
    "ExecuteTime": {
     "end_time": "2023-02-11T23:47:55.751376Z",
     "start_time": "2023-02-11T23:47:55.742497Z"
    },
    "hidden": true
   },
   "source": [
    "Analisar os melhores parâmetros do XGBoost. "
   ]
  },
  {
   "cell_type": "code",
   "execution_count": 607,
   "id": "9416b3f0",
   "metadata": {
    "ExecuteTime": {
     "end_time": "2023-02-12T20:22:52.279998Z",
     "start_time": "2023-02-12T20:22:52.271088Z"
    },
    "hidden": true
   },
   "outputs": [
    {
     "name": "stdout",
     "output_type": "stream",
     "text": [
      "Melhores parâmetros: {'colsample_bytree': 0.5, 'eta': 0.1, 'max_depth': 4, 'min_child_weight': 4, 'n_estimators': 50}\n"
     ]
    }
   ],
   "source": [
    "print(f\"Melhores parâmetros: {xgb_cla_gscv.best_params_}\")"
   ]
  },
  {
   "cell_type": "markdown",
   "id": "67d31ff1",
   "metadata": {
    "ExecuteTime": {
     "end_time": "2023-02-11T23:52:53.121785Z",
     "start_time": "2023-02-11T23:52:53.112019Z"
    },
    "hidden": true
   },
   "source": [
    "Predição em cima dos dados de validação."
   ]
  },
  {
   "cell_type": "code",
   "execution_count": 608,
   "id": "a54c4191",
   "metadata": {
    "ExecuteTime": {
     "end_time": "2023-02-12T20:22:52.325583Z",
     "start_time": "2023-02-12T20:22:52.288145Z"
    },
    "hidden": true
   },
   "outputs": [],
   "source": [
    "xgb_cla_gscv_yhat = xgb_cla_gscv.predict(X2_val_mbfs)"
   ]
  },
  {
   "cell_type": "markdown",
   "id": "99efe53d",
   "metadata": {
    "ExecuteTime": {
     "end_time": "2023-02-12T15:26:37.708400Z",
     "start_time": "2023-02-12T15:26:37.700877Z"
    },
    "hidden": true
   },
   "source": [
    "Performance."
   ]
  },
  {
   "cell_type": "code",
   "execution_count": 609,
   "id": "354c4f85",
   "metadata": {
    "ExecuteTime": {
     "end_time": "2023-02-12T20:22:52.354554Z",
     "start_time": "2023-02-12T20:22:52.343024Z"
    },
    "hidden": true
   },
   "outputs": [
    {
     "name": "stdout",
     "output_type": "stream",
     "text": [
      "XGBClassifier com Cross Val e Grid Search - F1-Score em Validação: 0.7671\n"
     ]
    }
   ],
   "source": [
    "xgb_cla_gscv_score = f1_score(y2_val, xgb_cla_gscv_yhat, average='weighted')\n",
    "print(f\"XGBClassifier com Cross Val e Grid Search - F1-Score em Validação: {round(xgb_cla_gscv_score,4)}\")"
   ]
  },
  {
   "cell_type": "markdown",
   "id": "b7cf3ba0",
   "metadata": {
    "hidden": true
   },
   "source": [
    "O resultado do XGBoost foi mais interessante que a dos modelos anteriores."
   ]
  },
  {
   "cell_type": "markdown",
   "id": "89573ae8",
   "metadata": {
    "hidden": true
   },
   "source": [
    "Inserir no dataframe de resultados."
   ]
  },
  {
   "cell_type": "code",
   "execution_count": 621,
   "id": "6c457f7a",
   "metadata": {
    "ExecuteTime": {
     "end_time": "2023-02-12T20:26:36.824891Z",
     "start_time": "2023-02-12T20:26:36.817265Z"
    },
    "hidden": true
   },
   "outputs": [],
   "source": [
    "df_an2_scores.loc[len(df_an2_scores)] = ['xgb_cla_gscv', xgb_cla_gscv_score]"
   ]
  },
  {
   "cell_type": "markdown",
   "id": "9c09e952",
   "metadata": {
    "heading_collapsed": true,
    "hidden": true
   },
   "source": [
    "## Performance dos Modelos"
   ]
  },
  {
   "cell_type": "markdown",
   "id": "8c1a7614",
   "metadata": {
    "hidden": true
   },
   "source": [
    "A tabela abaixo detalha a melhor performance obtida com cada modelo de machine learning, já com fine tuning e cross validation."
   ]
  },
  {
   "cell_type": "code",
   "execution_count": 622,
   "id": "36b5b8e9",
   "metadata": {
    "ExecuteTime": {
     "end_time": "2023-02-12T20:27:39.106231Z",
     "start_time": "2023-02-12T20:27:39.095206Z"
    },
    "hidden": true
   },
   "outputs": [
    {
     "data": {
      "text/html": [
       "<div>\n",
       "<style scoped>\n",
       "    .dataframe tbody tr th:only-of-type {\n",
       "        vertical-align: middle;\n",
       "    }\n",
       "\n",
       "    .dataframe tbody tr th {\n",
       "        vertical-align: top;\n",
       "    }\n",
       "\n",
       "    .dataframe thead th {\n",
       "        text-align: right;\n",
       "    }\n",
       "</style>\n",
       "<table border=\"1\" class=\"dataframe\">\n",
       "  <thead>\n",
       "    <tr style=\"text-align: right;\">\n",
       "      <th></th>\n",
       "      <th>model_name</th>\n",
       "      <th>mean_accuracy_score</th>\n",
       "    </tr>\n",
       "  </thead>\n",
       "  <tbody>\n",
       "    <tr>\n",
       "      <th>0</th>\n",
       "      <td>knn_cla_gscv</td>\n",
       "      <td>0.6618</td>\n",
       "    </tr>\n",
       "    <tr>\n",
       "      <th>1</th>\n",
       "      <td>lreg_cla_gscv</td>\n",
       "      <td>0.6618</td>\n",
       "    </tr>\n",
       "    <tr>\n",
       "      <th>2</th>\n",
       "      <td>xgb_cla_gscv</td>\n",
       "      <td>0.7671</td>\n",
       "    </tr>\n",
       "  </tbody>\n",
       "</table>\n",
       "</div>"
      ],
      "text/plain": [
       "      model_name  mean_accuracy_score\n",
       "0   knn_cla_gscv               0.6618\n",
       "1  lreg_cla_gscv               0.6618\n",
       "2   xgb_cla_gscv               0.7671"
      ]
     },
     "execution_count": 622,
     "metadata": {},
     "output_type": "execute_result"
    }
   ],
   "source": [
    "df_an2_scores"
   ]
  },
  {
   "cell_type": "code",
   "execution_count": null,
   "id": "e801a165",
   "metadata": {
    "hidden": true
   },
   "outputs": [],
   "source": [
    "O modelo de melhor performance foi o XGBoost, e ele será utilizado para a sequência da análise."
   ]
  },
  {
   "cell_type": "markdown",
   "id": "a1c8234e",
   "metadata": {
    "heading_collapsed": true,
    "hidden": true
   },
   "source": [
    "## Performance de Generalização"
   ]
  },
  {
   "cell_type": "code",
   "execution_count": 623,
   "id": "bf8ece4d",
   "metadata": {
    "ExecuteTime": {
     "end_time": "2023-02-12T20:31:32.099431Z",
     "start_time": "2023-02-12T20:31:31.939456Z"
    },
    "hidden": true
   },
   "outputs": [],
   "source": [
    "xgb_tuning = {'colsample_bytree': 0.5, 'eta': 0.1, 'max_depth': 4, 'min_child_weight': 4, 'n_estimators': 50}\n",
    "#treina com melhores parâmetros\n",
    "xgb_cla_gscv_tuned = xgb.XGBClassifier( \n",
    "                                        max_depth = xgb_tuning['max_depth'],\n",
    "                                        min_child_weight = xgb_tuning['min_child_weight'],\n",
    "                                        n_estimators = xgb_tuning['n_estimators'],\n",
    "                                        colsample_bytree = xgb_tuning['colsample_bytree'],\n",
    "                                        eta = xgb_tuning['eta']\n",
    "                                    ).fit( X2_train_mbfs, y2_train.ravel() )\n",
    "#prediz contra teste\n",
    "xgb_cla_gscv_tuned_yhat = xgb_cla_gscv_tuned.predict( X2_test_mbfs )"
   ]
  },
  {
   "cell_type": "code",
   "execution_count": 626,
   "id": "6111a0d6",
   "metadata": {
    "ExecuteTime": {
     "end_time": "2023-02-12T20:32:36.112113Z",
     "start_time": "2023-02-12T20:32:36.102236Z"
    },
    "hidden": true
   },
   "outputs": [
    {
     "name": "stdout",
     "output_type": "stream",
     "text": [
      "XGBClassifier com Cross Val e Grid Search - F1-Score em Teste: 0.8744\n"
     ]
    }
   ],
   "source": [
    "xgb_cla_gscv_tuned_score = f1_score(y2_test, xgb_cla_gscv_tuned_yhat, average='weighted')\n",
    "print(f\"XGBClassifier com Cross Val e Grid Search - F1-Score em Teste: {round(xgb_cla_gscv_tuned_score,4)}\")"
   ]
  },
  {
   "cell_type": "markdown",
   "id": "35c56ed1",
   "metadata": {
    "ExecuteTime": {
     "end_time": "2023-02-12T20:35:26.604212Z",
     "start_time": "2023-02-12T20:35:26.594441Z"
    },
    "hidden": true
   },
   "source": [
    "A capacidade de generalização foi bastante satisfatória, consideravelmente acima da performance em validação.\n",
    "\n",
    "Na próxima seção, o modelo final será treinado."
   ]
  },
  {
   "cell_type": "markdown",
   "id": "b2206ac5",
   "metadata": {
    "heading_collapsed": true,
    "hidden": true
   },
   "source": [
    "## Modelo Final"
   ]
  },
  {
   "cell_type": "markdown",
   "id": "94650476",
   "metadata": {
    "hidden": true
   },
   "source": [
    "Um modelo final será agora treinado utilizando os dados de X2_trainval (treino + validação), com o melhor set de parâmetros. \n",
    "\n",
    "Busca-se com isto aumentar ainda mais a performance do modelo na previsão de dados de produção.\n",
    "\n",
    "Carregar dados de SP (produção)."
   ]
  },
  {
   "cell_type": "code",
   "execution_count": 648,
   "id": "0ba9ccb0",
   "metadata": {
    "ExecuteTime": {
     "end_time": "2023-02-12T20:55:10.131510Z",
     "start_time": "2023-02-12T20:55:10.099269Z"
    },
    "hidden": true
   },
   "outputs": [
    {
     "name": "stdout",
     "output_type": "stream",
     "text": [
      "(296, 24)\n"
     ]
    },
    {
     "data": {
      "text/html": [
       "<div>\n",
       "<style scoped>\n",
       "    .dataframe tbody tr th:only-of-type {\n",
       "        vertical-align: middle;\n",
       "    }\n",
       "\n",
       "    .dataframe tbody tr th {\n",
       "        vertical-align: top;\n",
       "    }\n",
       "\n",
       "    .dataframe thead th {\n",
       "        text-align: right;\n",
       "    }\n",
       "</style>\n",
       "<table border=\"1\" class=\"dataframe\">\n",
       "  <thead>\n",
       "    <tr style=\"text-align: right;\">\n",
       "      <th></th>\n",
       "      <th>codigo</th>\n",
       "      <th>bairro</th>\n",
       "      <th>cidade</th>\n",
       "      <th>estado</th>\n",
       "      <th>populacao</th>\n",
       "      <th>pop_ate9</th>\n",
       "      <th>pop_de10a14</th>\n",
       "      <th>pop_de15a19</th>\n",
       "      <th>pop_de20a24</th>\n",
       "      <th>pop_de25a34</th>\n",
       "      <th>pop_de35a49</th>\n",
       "      <th>pop_de50a59</th>\n",
       "      <th>pop_mais_de60</th>\n",
       "      <th>domicilios_a1</th>\n",
       "      <th>domicilios_a2</th>\n",
       "      <th>domicilios_b1</th>\n",
       "      <th>domicilios_b2</th>\n",
       "      <th>domicilios_c1</th>\n",
       "      <th>domicilios_c2</th>\n",
       "      <th>domicilios_d</th>\n",
       "      <th>domicilios_e</th>\n",
       "      <th>renda_media</th>\n",
       "      <th>faturamento</th>\n",
       "      <th>potencial</th>\n",
       "    </tr>\n",
       "  </thead>\n",
       "  <tbody>\n",
       "    <tr>\n",
       "      <th>160</th>\n",
       "      <td>355030251</td>\n",
       "      <td>A. E. Carvalho</td>\n",
       "      <td>São Paulo</td>\n",
       "      <td>SP</td>\n",
       "      <td>94034</td>\n",
       "      <td>12668</td>\n",
       "      <td>6853</td>\n",
       "      <td>9836</td>\n",
       "      <td>7487</td>\n",
       "      <td>14535</td>\n",
       "      <td>21549</td>\n",
       "      <td>10598</td>\n",
       "      <td>10508</td>\n",
       "      <td>0</td>\n",
       "      <td>253</td>\n",
       "      <td>2197</td>\n",
       "      <td>4368</td>\n",
       "      <td>6681</td>\n",
       "      <td>7011</td>\n",
       "      <td>2247</td>\n",
       "      <td>5670</td>\n",
       "      <td>1501</td>\n",
       "      <td>209502.5000</td>\n",
       "      <td>NaN</td>\n",
       "    </tr>\n",
       "  </tbody>\n",
       "</table>\n",
       "</div>"
      ],
      "text/plain": [
       "        codigo          bairro     cidade estado  populacao  pop_ate9  pop_de10a14  pop_de15a19  pop_de20a24  pop_de25a34  pop_de35a49  pop_de50a59  pop_mais_de60  domicilios_a1  domicilios_a2  domicilios_b1  domicilios_b2  domicilios_c1  domicilios_c2  domicilios_d  domicilios_e renda_media  faturamento  potencial\n",
       "160  355030251  A. E. Carvalho  São Paulo     SP      94034     12668         6853         9836         7487        14535        21549        10598          10508              0            253           2197           4368           6681           7011          2247          5670        1501  209502.5000        NaN"
      ]
     },
     "execution_count": 648,
     "metadata": {},
     "output_type": "execute_result"
    }
   ],
   "source": [
    "df_sp_raw2 = pd.read_csv('../data/interim/df_sp_an1_done.csv', index_col=0)\n",
    "df_sp2 = df_sp_raw2.copy()\n",
    "print(df_sp2.shape)\n",
    "df_sp2.head(1)"
   ]
  },
  {
   "cell_type": "markdown",
   "id": "6b7fe837",
   "metadata": {
    "hidden": true
   },
   "source": [
    "Aplicar as mesmas adequações nos dados do df_rj da análise 2 para df_sp."
   ]
  },
  {
   "cell_type": "markdown",
   "id": "3763d128",
   "metadata": {
    "hidden": true
   },
   "source": [
    "Derivar features."
   ]
  },
  {
   "cell_type": "code",
   "execution_count": 649,
   "id": "82e3fdff",
   "metadata": {
    "ExecuteTime": {
     "end_time": "2023-02-12T20:55:11.534410Z",
     "start_time": "2023-02-12T20:55:11.509648Z"
    },
    "hidden": true
   },
   "outputs": [],
   "source": [
    "df_sp2[\"pop_alvo\"] = df_sp2[\"pop_de25a34\"] + df_sp2[\"pop_de35a49\"]\n",
    "df_sp2[\"domicilios_alvo\"] = df_sp2[\"domicilios_a1\"] + df_sp2[\"domicilios_a2\"] + df_sp2[\"domicilios_b1\"] + df_sp2[\"domicilios_b2\"]"
   ]
  },
  {
   "cell_type": "markdown",
   "id": "69b2a667",
   "metadata": {
    "ExecuteTime": {
     "end_time": "2023-02-12T12:56:18.734143Z",
     "start_time": "2023-02-12T12:56:18.726981Z"
    },
    "hidden": true
   },
   "source": [
    "Filtrar features."
   ]
  },
  {
   "cell_type": "code",
   "execution_count": 650,
   "id": "38f4823e",
   "metadata": {
    "ExecuteTime": {
     "end_time": "2023-02-12T20:55:12.070552Z",
     "start_time": "2023-02-12T20:55:12.042427Z"
    },
    "hidden": true
   },
   "outputs": [
    {
     "data": {
      "text/html": [
       "<div>\n",
       "<style scoped>\n",
       "    .dataframe tbody tr th:only-of-type {\n",
       "        vertical-align: middle;\n",
       "    }\n",
       "\n",
       "    .dataframe tbody tr th {\n",
       "        vertical-align: top;\n",
       "    }\n",
       "\n",
       "    .dataframe thead th {\n",
       "        text-align: right;\n",
       "    }\n",
       "</style>\n",
       "<table border=\"1\" class=\"dataframe\">\n",
       "  <thead>\n",
       "    <tr style=\"text-align: right;\">\n",
       "      <th></th>\n",
       "      <th>populacao</th>\n",
       "      <th>pop_ate9</th>\n",
       "      <th>pop_de10a14</th>\n",
       "      <th>pop_de15a19</th>\n",
       "      <th>pop_de20a24</th>\n",
       "      <th>pop_de25a34</th>\n",
       "      <th>pop_de35a49</th>\n",
       "      <th>pop_de50a59</th>\n",
       "      <th>pop_mais_de60</th>\n",
       "      <th>pop_alvo</th>\n",
       "      <th>domicilios_a1</th>\n",
       "      <th>domicilios_a2</th>\n",
       "      <th>domicilios_b1</th>\n",
       "      <th>domicilios_b2</th>\n",
       "      <th>domicilios_c1</th>\n",
       "      <th>domicilios_c2</th>\n",
       "      <th>domicilios_d</th>\n",
       "      <th>domicilios_e</th>\n",
       "      <th>domicilios_alvo</th>\n",
       "      <th>renda_media</th>\n",
       "      <th>faturamento</th>\n",
       "    </tr>\n",
       "  </thead>\n",
       "  <tbody>\n",
       "    <tr>\n",
       "      <th>160</th>\n",
       "      <td>94034</td>\n",
       "      <td>12668</td>\n",
       "      <td>6853</td>\n",
       "      <td>9836</td>\n",
       "      <td>7487</td>\n",
       "      <td>14535</td>\n",
       "      <td>21549</td>\n",
       "      <td>10598</td>\n",
       "      <td>10508</td>\n",
       "      <td>36084</td>\n",
       "      <td>0</td>\n",
       "      <td>253</td>\n",
       "      <td>2197</td>\n",
       "      <td>4368</td>\n",
       "      <td>6681</td>\n",
       "      <td>7011</td>\n",
       "      <td>2247</td>\n",
       "      <td>5670</td>\n",
       "      <td>6818</td>\n",
       "      <td>1501</td>\n",
       "      <td>209502.5000</td>\n",
       "    </tr>\n",
       "  </tbody>\n",
       "</table>\n",
       "</div>"
      ],
      "text/plain": [
       "     populacao  pop_ate9  pop_de10a14  pop_de15a19  pop_de20a24  pop_de25a34  pop_de35a49  pop_de50a59  pop_mais_de60  pop_alvo  domicilios_a1  domicilios_a2  domicilios_b1  domicilios_b2  domicilios_c1  domicilios_c2  domicilios_d  domicilios_e  domicilios_alvo renda_media  faturamento\n",
       "160      94034     12668         6853         9836         7487        14535        21549        10598          10508     36084              0            253           2197           4368           6681           7011          2247          5670             6818        1501  209502.5000"
      ]
     },
     "execution_count": 650,
     "metadata": {},
     "output_type": "execute_result"
    }
   ],
   "source": [
    "df_sp2 = df_sp2[features_scaling2].copy()\n",
    "df_sp2.head(1)"
   ]
  },
  {
   "cell_type": "markdown",
   "id": "330ac2ec",
   "metadata": {
    "ExecuteTime": {
     "end_time": "2023-02-12T12:57:20.166320Z",
     "start_time": "2023-02-12T12:57:20.157470Z"
    },
    "hidden": true
   },
   "source": [
    "Preencher com zero os 3 registros com '-' em renda_media."
   ]
  },
  {
   "cell_type": "code",
   "execution_count": 656,
   "id": "de28c1aa",
   "metadata": {
    "ExecuteTime": {
     "end_time": "2023-02-12T20:55:50.112178Z",
     "start_time": "2023-02-12T20:55:50.105084Z"
    },
    "hidden": true
   },
   "outputs": [],
   "source": [
    "df_sp2.loc[~df_sp2.renda_media.str.isnumeric(), 'renda_media'] = 0"
   ]
  },
  {
   "cell_type": "markdown",
   "id": "e4dc01a4",
   "metadata": {
    "hidden": true
   },
   "source": [
    "Aplicar preperação nos dados com scaler já pronto."
   ]
  },
  {
   "cell_type": "code",
   "execution_count": 657,
   "id": "0a793d06",
   "metadata": {
    "ExecuteTime": {
     "end_time": "2023-02-12T20:55:51.703542Z",
     "start_time": "2023-02-12T20:55:51.674703Z"
    },
    "hidden": true
   },
   "outputs": [
    {
     "data": {
      "text/html": [
       "<div>\n",
       "<style scoped>\n",
       "    .dataframe tbody tr th:only-of-type {\n",
       "        vertical-align: middle;\n",
       "    }\n",
       "\n",
       "    .dataframe tbody tr th {\n",
       "        vertical-align: top;\n",
       "    }\n",
       "\n",
       "    .dataframe thead th {\n",
       "        text-align: right;\n",
       "    }\n",
       "</style>\n",
       "<table border=\"1\" class=\"dataframe\">\n",
       "  <thead>\n",
       "    <tr style=\"text-align: right;\">\n",
       "      <th></th>\n",
       "      <th>populacao</th>\n",
       "      <th>pop_ate9</th>\n",
       "      <th>pop_de10a14</th>\n",
       "      <th>pop_de15a19</th>\n",
       "      <th>pop_de20a24</th>\n",
       "      <th>pop_de25a34</th>\n",
       "      <th>pop_de35a49</th>\n",
       "      <th>pop_de50a59</th>\n",
       "      <th>pop_mais_de60</th>\n",
       "      <th>pop_alvo</th>\n",
       "      <th>domicilios_a1</th>\n",
       "      <th>domicilios_a2</th>\n",
       "      <th>domicilios_b1</th>\n",
       "      <th>domicilios_b2</th>\n",
       "      <th>domicilios_c1</th>\n",
       "      <th>domicilios_c2</th>\n",
       "      <th>domicilios_d</th>\n",
       "      <th>domicilios_e</th>\n",
       "      <th>domicilios_alvo</th>\n",
       "      <th>renda_media</th>\n",
       "      <th>faturamento</th>\n",
       "    </tr>\n",
       "  </thead>\n",
       "  <tbody>\n",
       "    <tr>\n",
       "      <th>160</th>\n",
       "      <td>0.3757</td>\n",
       "      <td>0.3874</td>\n",
       "      <td>0.4292</td>\n",
       "      <td>0.4695</td>\n",
       "      <td>0.3711</td>\n",
       "      <td>0.3846</td>\n",
       "      <td>0.4055</td>\n",
       "      <td>0.3390</td>\n",
       "      <td>0.2041</td>\n",
       "      <td>0.3968</td>\n",
       "      <td>0.0000</td>\n",
       "      <td>0.0274</td>\n",
       "      <td>0.1135</td>\n",
       "      <td>0.3291</td>\n",
       "      <td>0.2741</td>\n",
       "      <td>0.3122</td>\n",
       "      <td>0.4923</td>\n",
       "      <td>0.5103</td>\n",
       "      <td>0.1436</td>\n",
       "      <td>0.0498</td>\n",
       "      <td>0.0783</td>\n",
       "    </tr>\n",
       "  </tbody>\n",
       "</table>\n",
       "</div>"
      ],
      "text/plain": [
       "     populacao  pop_ate9  pop_de10a14  pop_de15a19  pop_de20a24  pop_de25a34  pop_de35a49  pop_de50a59  pop_mais_de60  pop_alvo  domicilios_a1  domicilios_a2  domicilios_b1  domicilios_b2  domicilios_c1  domicilios_c2  domicilios_d  domicilios_e  domicilios_alvo  renda_media  faturamento\n",
       "160     0.3757    0.3874       0.4292       0.4695       0.3711       0.3846       0.4055       0.3390         0.2041    0.3968         0.0000         0.0274         0.1135         0.3291         0.2741         0.3122        0.4923        0.5103           0.1436       0.0498       0.0783"
      ]
     },
     "execution_count": 657,
     "metadata": {},
     "output_type": "execute_result"
    }
   ],
   "source": [
    "df_sp2[features_scaling2] = scaler2.transform(df_sp2)\n",
    "df_sp2.head(1)"
   ]
  },
  {
   "cell_type": "markdown",
   "id": "f13d33f0",
   "metadata": {
    "hidden": true
   },
   "source": [
    "Manter mesmas features de X2_trainval_mbfs"
   ]
  },
  {
   "cell_type": "code",
   "execution_count": 662,
   "id": "14cae482",
   "metadata": {
    "ExecuteTime": {
     "end_time": "2023-02-12T20:56:16.779493Z",
     "start_time": "2023-02-12T20:56:16.770706Z"
    },
    "hidden": true
   },
   "outputs": [
    {
     "data": {
      "text/plain": [
       "Index(['populacao', 'pop_ate9', 'pop_de10a14', 'pop_de15a19', 'pop_de20a24',\n",
       "       'pop_de25a34', 'pop_de35a49', 'pop_de50a59', 'pop_mais_de60',\n",
       "       'pop_alvo', 'domicilios_a1', 'domicilios_a2', 'domicilios_b1',\n",
       "       'domicilios_b2', 'domicilios_c1', 'domicilios_c2', 'domicilios_d',\n",
       "       'domicilios_e', 'domicilios_alvo', 'renda_media', 'faturamento'],\n",
       "      dtype='object')"
      ]
     },
     "execution_count": 662,
     "metadata": {},
     "output_type": "execute_result"
    }
   ],
   "source": [
    "df_sp2.columns"
   ]
  },
  {
   "cell_type": "code",
   "execution_count": 663,
   "id": "3b7d196c",
   "metadata": {
    "ExecuteTime": {
     "end_time": "2023-02-12T20:56:21.877921Z",
     "start_time": "2023-02-12T20:56:21.868228Z"
    },
    "hidden": true
   },
   "outputs": [
    {
     "data": {
      "text/plain": [
       "Index(['populacao', 'pop_de20a24', 'pop_de25a34', 'pop_de50a59',\n",
       "       'pop_mais_de60', 'pop_alvo', 'domicilios_a1', 'domicilios_a2',\n",
       "       'domicilios_b1', 'domicilios_b2', 'domicilios_alvo', 'renda_media',\n",
       "       'faturamento'],\n",
       "      dtype='object')"
      ]
     },
     "execution_count": 663,
     "metadata": {},
     "output_type": "execute_result"
    }
   ],
   "source": [
    "X2_trainval_mbfs.columns"
   ]
  },
  {
   "cell_type": "code",
   "execution_count": 664,
   "id": "ab1e7c36",
   "metadata": {
    "ExecuteTime": {
     "end_time": "2023-02-12T20:57:32.272204Z",
     "start_time": "2023-02-12T20:57:32.248445Z"
    },
    "hidden": true
   },
   "outputs": [
    {
     "data": {
      "text/html": [
       "<div>\n",
       "<style scoped>\n",
       "    .dataframe tbody tr th:only-of-type {\n",
       "        vertical-align: middle;\n",
       "    }\n",
       "\n",
       "    .dataframe tbody tr th {\n",
       "        vertical-align: top;\n",
       "    }\n",
       "\n",
       "    .dataframe thead th {\n",
       "        text-align: right;\n",
       "    }\n",
       "</style>\n",
       "<table border=\"1\" class=\"dataframe\">\n",
       "  <thead>\n",
       "    <tr style=\"text-align: right;\">\n",
       "      <th></th>\n",
       "      <th>populacao</th>\n",
       "      <th>pop_de20a24</th>\n",
       "      <th>pop_de25a34</th>\n",
       "      <th>pop_de50a59</th>\n",
       "      <th>pop_mais_de60</th>\n",
       "      <th>pop_alvo</th>\n",
       "      <th>domicilios_a1</th>\n",
       "      <th>domicilios_a2</th>\n",
       "      <th>domicilios_b1</th>\n",
       "      <th>domicilios_b2</th>\n",
       "      <th>domicilios_alvo</th>\n",
       "      <th>renda_media</th>\n",
       "      <th>faturamento</th>\n",
       "    </tr>\n",
       "  </thead>\n",
       "  <tbody>\n",
       "    <tr>\n",
       "      <th>160</th>\n",
       "      <td>0.3757</td>\n",
       "      <td>0.3711</td>\n",
       "      <td>0.3846</td>\n",
       "      <td>0.3390</td>\n",
       "      <td>0.2041</td>\n",
       "      <td>0.3968</td>\n",
       "      <td>0.0000</td>\n",
       "      <td>0.0274</td>\n",
       "      <td>0.1135</td>\n",
       "      <td>0.3291</td>\n",
       "      <td>0.1436</td>\n",
       "      <td>0.0498</td>\n",
       "      <td>0.0783</td>\n",
       "    </tr>\n",
       "  </tbody>\n",
       "</table>\n",
       "</div>"
      ],
      "text/plain": [
       "     populacao  pop_de20a24  pop_de25a34  pop_de50a59  pop_mais_de60  pop_alvo  domicilios_a1  domicilios_a2  domicilios_b1  domicilios_b2  domicilios_alvo  renda_media  faturamento\n",
       "160     0.3757       0.3711       0.3846       0.3390         0.2041    0.3968         0.0000         0.0274         0.1135         0.3291           0.1436       0.0498       0.0783"
      ]
     },
     "execution_count": 664,
     "metadata": {},
     "output_type": "execute_result"
    }
   ],
   "source": [
    "df_sp2 = df_sp2[['populacao', 'pop_de20a24', 'pop_de25a34', 'pop_de50a59', 'pop_mais_de60', 'pop_alvo',\n",
    "'domicilios_a1','domicilios_a2', 'domicilios_b1', 'domicilios_b2', 'domicilios_alvo', 'renda_media', 'faturamento']]\n",
    "df_sp2.head(1)"
   ]
  },
  {
   "cell_type": "code",
   "execution_count": 666,
   "id": "6db75307",
   "metadata": {
    "ExecuteTime": {
     "end_time": "2023-02-12T20:58:16.319139Z",
     "start_time": "2023-02-12T20:58:16.297330Z"
    },
    "hidden": true
   },
   "outputs": [
    {
     "data": {
      "text/html": [
       "<div>\n",
       "<style scoped>\n",
       "    .dataframe tbody tr th:only-of-type {\n",
       "        vertical-align: middle;\n",
       "    }\n",
       "\n",
       "    .dataframe tbody tr th {\n",
       "        vertical-align: top;\n",
       "    }\n",
       "\n",
       "    .dataframe thead th {\n",
       "        text-align: right;\n",
       "    }\n",
       "</style>\n",
       "<table border=\"1\" class=\"dataframe\">\n",
       "  <thead>\n",
       "    <tr style=\"text-align: right;\">\n",
       "      <th></th>\n",
       "      <th>populacao</th>\n",
       "      <th>pop_de20a24</th>\n",
       "      <th>pop_de25a34</th>\n",
       "      <th>pop_de50a59</th>\n",
       "      <th>pop_mais_de60</th>\n",
       "      <th>pop_alvo</th>\n",
       "      <th>domicilios_a1</th>\n",
       "      <th>domicilios_a2</th>\n",
       "      <th>domicilios_b1</th>\n",
       "      <th>domicilios_b2</th>\n",
       "      <th>domicilios_alvo</th>\n",
       "      <th>renda_media</th>\n",
       "      <th>faturamento</th>\n",
       "    </tr>\n",
       "  </thead>\n",
       "  <tbody>\n",
       "    <tr>\n",
       "      <th>37</th>\n",
       "      <td>0.0694</td>\n",
       "      <td>0.0633</td>\n",
       "      <td>0.0827</td>\n",
       "      <td>0.0671</td>\n",
       "      <td>0.0888</td>\n",
       "      <td>0.0860</td>\n",
       "      <td>0.0000</td>\n",
       "      <td>0.0000</td>\n",
       "      <td>0.0541</td>\n",
       "      <td>0.1146</td>\n",
       "      <td>0.0733</td>\n",
       "      <td>0.0474</td>\n",
       "      <td>0.2146</td>\n",
       "    </tr>\n",
       "  </tbody>\n",
       "</table>\n",
       "</div>"
      ],
      "text/plain": [
       "    populacao  pop_de20a24  pop_de25a34  pop_de50a59  pop_mais_de60  pop_alvo  domicilios_a1  domicilios_a2  domicilios_b1  domicilios_b2  domicilios_alvo  renda_media  faturamento\n",
       "37     0.0694       0.0633       0.0827       0.0671         0.0888    0.0860         0.0000         0.0000         0.0541         0.1146           0.0733       0.0474       0.2146"
      ]
     },
     "execution_count": 666,
     "metadata": {},
     "output_type": "execute_result"
    }
   ],
   "source": [
    "X2_trainval_mbfs.head(1)"
   ]
  },
  {
   "cell_type": "markdown",
   "id": "66ef6356",
   "metadata": {
    "hidden": true
   },
   "source": [
    "Treinamento de modelo final com o melhor set de parâmetros, utilizando os dados treino + validação.\n",
    "\n",
    "Ele fará a previsão dos dados de produção (df_sp)."
   ]
  },
  {
   "cell_type": "code",
   "execution_count": 674,
   "id": "52da991b",
   "metadata": {
    "ExecuteTime": {
     "end_time": "2023-02-12T21:01:53.711577Z",
     "start_time": "2023-02-12T21:01:53.553338Z"
    },
    "hidden": true
   },
   "outputs": [],
   "source": [
    "xgb_tuning = {'colsample_bytree': 0.5, 'eta': 0.1, 'max_depth': 4, 'min_child_weight': 4, 'n_estimators': 50}\n",
    "#treina com melhores parâmetros\n",
    "xgb_cla_gscv_tuned_prod = xgb.XGBClassifier( \n",
    "                                        max_depth = xgb_tuning['max_depth'],\n",
    "                                        min_child_weight = xgb_tuning['min_child_weight'],\n",
    "                                        n_estimators = xgb_tuning['n_estimators'],\n",
    "                                        colsample_bytree = xgb_tuning['colsample_bytree'],\n",
    "                                        eta = xgb_tuning['eta']\n",
    "                                    ).fit( X2_train_mbfs, y2_train.ravel() )\n",
    "#prediz com dados de teste (df_sp)\n",
    "xgb_cla_gscv_production_yhat = xgb_cla_gscv_tuned_prod.predict( df_sp2 )"
   ]
  },
  {
   "cell_type": "markdown",
   "id": "3c874723",
   "metadata": {
    "hidden": true
   },
   "source": [
    "Unificar a previsão com o dataset SP original. "
   ]
  },
  {
   "cell_type": "code",
   "execution_count": 709,
   "id": "3250866a",
   "metadata": {
    "ExecuteTime": {
     "end_time": "2023-02-12T21:12:05.786166Z",
     "start_time": "2023-02-12T21:12:05.772542Z"
    },
    "hidden": true
   },
   "outputs": [
    {
     "data": {
      "text/plain": [
       "170    1\n",
       "171    2\n",
       "172    0\n",
       "Name: potencial, dtype: int64"
      ]
     },
     "execution_count": 709,
     "metadata": {},
     "output_type": "execute_result"
    }
   ],
   "source": [
    "df_sp_raw2['potencial'] = xgb_cla_gscv_production_yhat\n",
    "df_sp_raw2.potencial[10:13]"
   ]
  },
  {
   "cell_type": "markdown",
   "id": "2ce7d89e",
   "metadata": {
    "ExecuteTime": {
     "end_time": "2023-02-12T21:08:49.627129Z",
     "start_time": "2023-02-12T21:08:49.618710Z"
    },
    "hidden": true
   },
   "source": [
    "Trazer de volta a legenda da variável alvo."
   ]
  },
  {
   "cell_type": "code",
   "execution_count": 711,
   "id": "1443eea0",
   "metadata": {
    "ExecuteTime": {
     "end_time": "2023-02-12T21:12:21.728951Z",
     "start_time": "2023-02-12T21:12:21.717952Z"
    },
    "hidden": true
   },
   "outputs": [
    {
     "data": {
      "text/plain": [
       "170    Médio\n",
       "171     Alto\n",
       "172    Baixo\n",
       "Name: potencial, dtype: object"
      ]
     },
     "execution_count": 711,
     "metadata": {},
     "output_type": "execute_result"
    }
   ],
   "source": [
    "df_sp_raw2.potencial = encoder2.inverse_transform(df_sp_raw2.potencial.values.reshape(-1, 1))\n",
    "df_sp_raw2.potencial[10:13]"
   ]
  },
  {
   "cell_type": "markdown",
   "id": "de19f8a2",
   "metadata": {
    "hidden": true
   },
   "source": [
    "O dataset SP com as com as 296 previsões de potencial por bairro será exportado, para ser complementado com a análise 3 (clusterização)."
   ]
  },
  {
   "cell_type": "code",
   "execution_count": 712,
   "id": "8af4001e",
   "metadata": {
    "ExecuteTime": {
     "end_time": "2023-02-12T21:13:07.816825Z",
     "start_time": "2023-02-12T21:13:07.792792Z"
    },
    "hidden": true
   },
   "outputs": [
    {
     "name": "stdout",
     "output_type": "stream",
     "text": [
      "(296, 24)\n"
     ]
    },
    {
     "data": {
      "text/html": [
       "<div>\n",
       "<style scoped>\n",
       "    .dataframe tbody tr th:only-of-type {\n",
       "        vertical-align: middle;\n",
       "    }\n",
       "\n",
       "    .dataframe tbody tr th {\n",
       "        vertical-align: top;\n",
       "    }\n",
       "\n",
       "    .dataframe thead th {\n",
       "        text-align: right;\n",
       "    }\n",
       "</style>\n",
       "<table border=\"1\" class=\"dataframe\">\n",
       "  <thead>\n",
       "    <tr style=\"text-align: right;\">\n",
       "      <th></th>\n",
       "      <th>codigo</th>\n",
       "      <th>bairro</th>\n",
       "      <th>cidade</th>\n",
       "      <th>estado</th>\n",
       "      <th>populacao</th>\n",
       "      <th>pop_ate9</th>\n",
       "      <th>pop_de10a14</th>\n",
       "      <th>pop_de15a19</th>\n",
       "      <th>pop_de20a24</th>\n",
       "      <th>pop_de25a34</th>\n",
       "      <th>pop_de35a49</th>\n",
       "      <th>pop_de50a59</th>\n",
       "      <th>pop_mais_de60</th>\n",
       "      <th>domicilios_a1</th>\n",
       "      <th>domicilios_a2</th>\n",
       "      <th>domicilios_b1</th>\n",
       "      <th>domicilios_b2</th>\n",
       "      <th>domicilios_c1</th>\n",
       "      <th>domicilios_c2</th>\n",
       "      <th>domicilios_d</th>\n",
       "      <th>domicilios_e</th>\n",
       "      <th>renda_media</th>\n",
       "      <th>faturamento</th>\n",
       "      <th>potencial</th>\n",
       "    </tr>\n",
       "  </thead>\n",
       "  <tbody>\n",
       "    <tr>\n",
       "      <th>160</th>\n",
       "      <td>355030251</td>\n",
       "      <td>A. E. Carvalho</td>\n",
       "      <td>São Paulo</td>\n",
       "      <td>SP</td>\n",
       "      <td>94034</td>\n",
       "      <td>12668</td>\n",
       "      <td>6853</td>\n",
       "      <td>9836</td>\n",
       "      <td>7487</td>\n",
       "      <td>14535</td>\n",
       "      <td>21549</td>\n",
       "      <td>10598</td>\n",
       "      <td>10508</td>\n",
       "      <td>0</td>\n",
       "      <td>253</td>\n",
       "      <td>2197</td>\n",
       "      <td>4368</td>\n",
       "      <td>6681</td>\n",
       "      <td>7011</td>\n",
       "      <td>2247</td>\n",
       "      <td>5670</td>\n",
       "      <td>1501</td>\n",
       "      <td>209502.5000</td>\n",
       "      <td>Alto</td>\n",
       "    </tr>\n",
       "    <tr>\n",
       "      <th>161</th>\n",
       "      <td>35503020</td>\n",
       "      <td>Aclimação</td>\n",
       "      <td>São Paulo</td>\n",
       "      <td>SP</td>\n",
       "      <td>32791</td>\n",
       "      <td>2297</td>\n",
       "      <td>1017</td>\n",
       "      <td>2096</td>\n",
       "      <td>2197</td>\n",
       "      <td>5341</td>\n",
       "      <td>7281</td>\n",
       "      <td>4917</td>\n",
       "      <td>7645</td>\n",
       "      <td>1413</td>\n",
       "      <td>1734</td>\n",
       "      <td>3704</td>\n",
       "      <td>2351</td>\n",
       "      <td>1946</td>\n",
       "      <td>827</td>\n",
       "      <td>291</td>\n",
       "      <td>1617</td>\n",
       "      <td>5920</td>\n",
       "      <td>1508728.4000</td>\n",
       "      <td>Alto</td>\n",
       "    </tr>\n",
       "    <tr>\n",
       "      <th>162</th>\n",
       "      <td>355030285</td>\n",
       "      <td>Adventista</td>\n",
       "      <td>São Paulo</td>\n",
       "      <td>SP</td>\n",
       "      <td>104193</td>\n",
       "      <td>15070</td>\n",
       "      <td>7343</td>\n",
       "      <td>10631</td>\n",
       "      <td>8657</td>\n",
       "      <td>17749</td>\n",
       "      <td>23364</td>\n",
       "      <td>11567</td>\n",
       "      <td>9812</td>\n",
       "      <td>0</td>\n",
       "      <td>0</td>\n",
       "      <td>1423</td>\n",
       "      <td>4875</td>\n",
       "      <td>8595</td>\n",
       "      <td>10082</td>\n",
       "      <td>3111</td>\n",
       "      <td>5776</td>\n",
       "      <td>1284</td>\n",
       "      <td>165232.6900</td>\n",
       "      <td>Médio</td>\n",
       "    </tr>\n",
       "  </tbody>\n",
       "</table>\n",
       "</div>"
      ],
      "text/plain": [
       "        codigo          bairro     cidade estado  populacao  pop_ate9  pop_de10a14  pop_de15a19  pop_de20a24  pop_de25a34  pop_de35a49  pop_de50a59  pop_mais_de60  domicilios_a1  domicilios_a2  domicilios_b1  domicilios_b2  domicilios_c1  domicilios_c2  domicilios_d  domicilios_e renda_media  faturamento potencial\n",
       "160  355030251  A. E. Carvalho  São Paulo     SP      94034     12668         6853         9836         7487        14535        21549        10598          10508              0            253           2197           4368           6681           7011          2247          5670        1501  209502.5000      Alto\n",
       "161   35503020       Aclimação  São Paulo     SP      32791      2297         1017         2096         2197         5341         7281         4917           7645           1413           1734           3704           2351           1946            827           291          1617        5920 1508728.4000      Alto\n",
       "162  355030285      Adventista  São Paulo     SP     104193     15070         7343        10631         8657        17749        23364        11567           9812              0              0           1423           4875           8595          10082          3111          5776        1284  165232.6900     Médio"
      ]
     },
     "execution_count": 712,
     "metadata": {},
     "output_type": "execute_result"
    }
   ],
   "source": [
    "print(df_sp_raw2.shape)\n",
    "df_sp_raw2.head(3)"
   ]
  },
  {
   "cell_type": "code",
   "execution_count": 713,
   "id": "d45b3471",
   "metadata": {
    "ExecuteTime": {
     "end_time": "2023-02-12T21:13:50.695275Z",
     "start_time": "2023-02-12T21:13:50.678497Z"
    },
    "hidden": true
   },
   "outputs": [],
   "source": [
    "df_sp_raw2.to_csv('../data/interim/df_sp_an1e2_done.csv')"
   ]
  },
  {
   "cell_type": "markdown",
   "id": "e1e6d7ea",
   "metadata": {
    "heading_collapsed": true
   },
   "source": [
    "# 4 Lições aprendidas"
   ]
  },
  {
   "cell_type": "markdown",
   "id": "e8d3d63d",
   "metadata": {
    "ExecuteTime": {
     "end_time": "2023-02-12T11:11:43.738229Z",
     "start_time": "2023-02-12T11:11:43.726954Z"
    },
    "hidden": true
   },
   "source": [
    "Lições aprendidas até o ciclo 4:\n",
    "\n",
    "- Em projetos com mais de um problema de negócio (caso deste, com 3 análises), desenvolver notebooks distintospara cada análise, visando maior organização.\n",
    "- Tratar as features de produção (df_sp neste caso) conforme for desenvolvendo o projeto, pra dispensando tratativas na hora de criar o modelo final. \n",
    "- Caso não utilize pipelines, a seguinte ordem dos passos (para cada análise) desde o início facilita o desenvolvimento: 1) Split de dados (antes da modelagem, para evitar data leakeage), 2) Modelagem (fit_transform no treino, transforme em val, test e dado prod) 3) Feature Selection (deve ser após o split, pois ao utilizar modelos, requerem train e val).\n",
    "    \n",
    "PS: Discutir os tópicos com outros cientistas de dados, para obter suas perspectivas baseadas na sua experiência."
   ]
  }
 ],
 "metadata": {
  "kernelspec": {
   "display_name": "Python 3 (ipykernel)",
   "language": "python",
   "name": "python3"
  },
  "language_info": {
   "codemirror_mode": {
    "name": "ipython",
    "version": 3
   },
   "file_extension": ".py",
   "mimetype": "text/x-python",
   "name": "python",
   "nbconvert_exporter": "python",
   "pygments_lexer": "ipython3",
   "version": "3.8.12"
  },
  "toc": {
   "base_numbering": 1,
   "nav_menu": {},
   "number_sections": true,
   "sideBar": true,
   "skip_h1_title": false,
   "title_cell": "Table of Contents",
   "title_sidebar": "Contents",
   "toc_cell": false,
   "toc_position": {},
   "toc_section_display": true,
   "toc_window_display": false
  }
 },
 "nbformat": 4,
 "nbformat_minor": 5
}
