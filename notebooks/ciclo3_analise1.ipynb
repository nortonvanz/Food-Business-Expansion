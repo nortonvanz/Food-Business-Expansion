{
 "cells": [
  {
   "cell_type": "markdown",
   "id": "991009cd",
   "metadata": {},
   "source": [
    "# 1 -  Planejamento da Solução"
   ]
  },
  {
   "cell_type": "markdown",
   "id": "9fbe76b6",
   "metadata": {
    "heading_collapsed": true
   },
   "source": [
    "## Entendimento de Negócio"
   ]
  },
  {
   "cell_type": "markdown",
   "id": "5e9394b4",
   "metadata": {
    "hidden": true
   },
   "source": [
    "**Qual é o problema de negócio?**\n",
    "\n",
    "- Empresa alimentícia situada no RJ, deseja abrir filiais na cidade de São Paulo. Para isso, precisa de 3 análises:\n",
    "    - 1 - Estimar faturamento que uma loja teria em cada um dos bairros de São Paulo (regressão, neste caso sem séries temporais).\n",
    "    - 2 - Classificar o potencial dos bairros de São Paulo em alto, médio ou baixo (classificação multiclasse).\n",
    "    - 3 - Segmentar os bairros de São Paulo de acordo com o perfil de renda e idade, identificando os com maior aderência ao público alvo.\n",
    "    \n",
    "- Público alvo: adultos de 25 a 50 anos, das classes A (rendas A1 e A2) e B (rendas B1 e B2). \n",
    "\n",
    "**Saída**\n",
    "\n",
    "- Prototipagem técnica da solução: https://docs.google.com/spreadsheets/d/17lxCBRLPEuNCO25BimVFRE3Tms-314WSTpJ1xgEIf38/edit#gid=0\n",
    "\n",
    "- O que será entregue, efetivamente? / Onde o time de negócio quer ver?\n",
    "    - Documento no formato doc, pdf ou ppt, voltado ao negócio, apresentando um racional de como os dados foram analisados. Detalhar com gráficos, tabelas, e descrever conclusões.\n",
    "    - Responder: Dada a natureza do problema apresentado, que outro dado externo (fontes públicas ou privadas) poderia ser utilizado para agregar mais valor ao resultado? Por que?\n",
    "    \n",
    "**Entrada**\n",
    "- Fontes de dados:\n",
    "    - Dataset contendo faturamento e potencial dos bairros do Rio de Janeiro do cliente, bem como dados sociodemográficos do bairros do Rio de Janeiro e São Paulo.\n",
    "\n",
    "- Ferramentas:\n",
    "    - Python 3.8.12, Jupyter Notebook, Git, Github.\n",
    "\n",
    "**Processamento**\n",
    "- Tipo de problema: análise exploratória, regressão, classificação e clusterização.\n",
    "- Metodologia: CRISP-DM, metodologia ágil (iterativa e incremental) para desenvolvimento de projetos de ciência de dados.\n"
   ]
  },
  {
   "cell_type": "markdown",
   "id": "916a113f",
   "metadata": {},
   "source": [
    "## Implementado nesta Sprint"
   ]
  },
  {
   "cell_type": "markdown",
   "id": "5e8ff47f",
   "metadata": {},
   "source": [
    "**Ciclo 3**\n",
    "\n",
    "Desenvolvimento da Análise 1 (regressão):\n",
    "- Split dos dados.\n",
    "- Modelagem de dados (data preparation).\n",
    "- Seleção de Features.\n",
    "- Model Based feature selection.\n",
    "- Novo KNN Regressor + comparação com o baseline do ciclo 1.\n",
    "- KNN Regressor com Random Search + Cross validation.\n",
    "- Novos algoritmos de ML: Lasso (linear), XGBoost Reegressor (embedding de trees).\n",
    "- Comparação da performance dos modelos.\n",
    "- Performance de generalização do melhor modelo com dados de teste.\n",
    "- Modelos final, treinado com dataset traino + validação, prevendo faturamento por bairro em SP (produção)."
   ]
  },
  {
   "cell_type": "markdown",
   "id": "b47be93d",
   "metadata": {
    "heading_collapsed": true
   },
   "source": [
    "# 2 - Importações"
   ]
  },
  {
   "cell_type": "markdown",
   "id": "4ff6200e",
   "metadata": {
    "heading_collapsed": true,
    "hidden": true
   },
   "source": [
    "## Bibliotecas"
   ]
  },
  {
   "cell_type": "code",
   "execution_count": 350,
   "id": "4103e4fa",
   "metadata": {
    "ExecuteTime": {
     "end_time": "2023-02-12T00:56:53.081265Z",
     "start_time": "2023-02-12T00:56:51.247272Z"
    },
    "hidden": true
   },
   "outputs": [],
   "source": [
    "import pandas                      as pd \n",
    "import seaborn                     as sns\n",
    "import numpy                       as np\n",
    "import sweetviz                    as sv\n",
    "import xgboost                     as xgb\n",
    "import inflection\n",
    "import warnings\n",
    "\n",
    "from IPython.core.display          import HTML\n",
    "from matplotlib                    import pyplot as plt\n",
    "from tabulate                      import tabulate\n",
    "from matplotlib.ticker             import FuncFormatter\n",
    "from IPython.display               import Image\n",
    "\n",
    "from sklearn.model_selection       import train_test_split, GridSearchCV\n",
    "from sklearn.neighbors             import KNeighborsRegressor\n",
    "from sklearn.metrics               import r2_score, mean_absolute_error, mean_absolute_percentage_error, mean_squared_error\n",
    "from sklearn.preprocessing         import MinMaxScaler, OrdinalEncoder\n",
    "from sklearn.feature_selection     import SelectFromModel, SelectKBest, f_regression\n",
    "from sklearn.ensemble              import RandomForestRegressor\n",
    "from sklearn.linear_model          import Lasso"
   ]
  },
  {
   "cell_type": "markdown",
   "id": "6a652348",
   "metadata": {
    "heading_collapsed": true,
    "hidden": true
   },
   "source": [
    "## Funções Auxiliares"
   ]
  },
  {
   "cell_type": "code",
   "execution_count": 2,
   "id": "b44e4067",
   "metadata": {
    "ExecuteTime": {
     "end_time": "2023-02-11T21:16:11.528803Z",
     "start_time": "2023-02-11T21:16:11.490101Z"
    },
    "hidden": true,
    "scrolled": true
   },
   "outputs": [
    {
     "data": {
      "text/html": [
       "<style>.container { width:100% !important; }</style>"
      ],
      "text/plain": [
       "<IPython.core.display.HTML object>"
      ]
     },
     "metadata": {},
     "output_type": "display_data"
    }
   ],
   "source": [
    "def jupyter_settings():\n",
    "    \"\"\" Otimiza configurações gerais, padronizando tamanhos de plots, etc \"\"\"\n",
    "    %matplotlib inline\n",
    "    plt.style.use( 'bmh' )\n",
    "    plt.rcParams['figure.figsize'] = [20, 12]\n",
    "    plt.rcParams['font.size'] = 24\n",
    "    display( HTML( '<style>.container { width:100% !important; }</style>') )\n",
    "    pd.set_option('display.max_columns', 30)\n",
    "    pd.set_option('display.max_rows', 30)\n",
    "    pd.set_option('display.expand_frame_repr', False )\n",
    "    pd.set_option('display.float_format', lambda x: '%.4f' % x)\n",
    "    pd.set_option('max_colwidth', None)\n",
    "    sns.set()\n",
    "jupyter_settings()\n",
    "\n",
    "def ml_error( model_name, y, yhat ):\n",
    "    \"\"\" Calcula os erros do modelo de regressão recebido \n",
    "    model_name: nome do modelo\n",
    "             y: valores de reais\n",
    "          yhat: valores de estimados pelo modelo \"\"\"\n",
    "    mae = mean_absolute_error (y, yhat)\n",
    "    mape = mean_absolute_percentage_error( y, yhat )\n",
    "    rmse = np.sqrt( mean_squared_error( y, yhat ) )\n",
    "    \n",
    "    return pd.DataFrame( {'Model Name': model_name,\n",
    "                          'MAE': mae,\n",
    "                          'MAPE': mape,\n",
    "                          'RMSE': rmse  }, index=[0] )"
   ]
  },
  {
   "cell_type": "markdown",
   "id": "e2e11104",
   "metadata": {
    "heading_collapsed": true
   },
   "source": [
    "# 3 - Análise 1: Estimativa de faturamento em SP"
   ]
  },
  {
   "cell_type": "markdown",
   "id": "0ad49bec",
   "metadata": {
    "hidden": true
   },
   "source": [
    "Análise 1 - Estimar o faturamento que uma loja teria em cada um dos bairros de São Paulo (regressão)."
   ]
  },
  {
   "cell_type": "markdown",
   "id": "3aeaac36",
   "metadata": {
    "heading_collapsed": true,
    "hidden": true
   },
   "source": [
    "## Split dos Dados"
   ]
  },
  {
   "cell_type": "code",
   "execution_count": 81,
   "id": "8b675c48",
   "metadata": {
    "ExecuteTime": {
     "end_time": "2023-02-11T22:15:05.783360Z",
     "start_time": "2023-02-11T22:15:05.745595Z"
    },
    "hidden": true
   },
   "outputs": [
    {
     "name": "stdout",
     "output_type": "stream",
     "text": [
      "(160, 22)\n"
     ]
    },
    {
     "data": {
      "text/html": [
       "<div>\n",
       "<style scoped>\n",
       "    .dataframe tbody tr th:only-of-type {\n",
       "        vertical-align: middle;\n",
       "    }\n",
       "\n",
       "    .dataframe tbody tr th {\n",
       "        vertical-align: top;\n",
       "    }\n",
       "\n",
       "    .dataframe thead th {\n",
       "        text-align: right;\n",
       "    }\n",
       "</style>\n",
       "<table border=\"1\" class=\"dataframe\">\n",
       "  <thead>\n",
       "    <tr style=\"text-align: right;\">\n",
       "      <th></th>\n",
       "      <th>populacao</th>\n",
       "      <th>pop_ate9</th>\n",
       "      <th>pop_de10a14</th>\n",
       "      <th>pop_de15a19</th>\n",
       "      <th>pop_de20a24</th>\n",
       "      <th>pop_de25a34</th>\n",
       "      <th>pop_de35a49</th>\n",
       "      <th>pop_de50a59</th>\n",
       "      <th>pop_mais_de60</th>\n",
       "      <th>pop_alvo</th>\n",
       "      <th>domicilios_a1</th>\n",
       "      <th>domicilios_a2</th>\n",
       "      <th>domicilios_b1</th>\n",
       "      <th>domicilios_b2</th>\n",
       "      <th>domicilios_c1</th>\n",
       "      <th>domicilios_c2</th>\n",
       "      <th>domicilios_d</th>\n",
       "      <th>domicilios_e</th>\n",
       "      <th>domicilios_alvo</th>\n",
       "      <th>renda_media</th>\n",
       "      <th>faturamento</th>\n",
       "      <th>potencial</th>\n",
       "    </tr>\n",
       "  </thead>\n",
       "  <tbody>\n",
       "    <tr>\n",
       "      <th>0</th>\n",
       "      <td>11676</td>\n",
       "      <td>1027</td>\n",
       "      <td>483</td>\n",
       "      <td>688</td>\n",
       "      <td>800</td>\n",
       "      <td>1675</td>\n",
       "      <td>2300</td>\n",
       "      <td>1784</td>\n",
       "      <td>2919</td>\n",
       "      <td>3975</td>\n",
       "      <td>0</td>\n",
       "      <td>145</td>\n",
       "      <td>715</td>\n",
       "      <td>1242</td>\n",
       "      <td>1093</td>\n",
       "      <td>758</td>\n",
       "      <td>92</td>\n",
       "      <td>304</td>\n",
       "      <td>2102</td>\n",
       "      <td>2501.00</td>\n",
       "      <td>932515</td>\n",
       "      <td>Médio</td>\n",
       "    </tr>\n",
       "  </tbody>\n",
       "</table>\n",
       "</div>"
      ],
      "text/plain": [
       "   populacao  pop_ate9  pop_de10a14  pop_de15a19  pop_de20a24  pop_de25a34  pop_de35a49  pop_de50a59  pop_mais_de60  pop_alvo  domicilios_a1  domicilios_a2  domicilios_b1  domicilios_b2  domicilios_c1  domicilios_c2  domicilios_d  domicilios_e  domicilios_alvo  renda_media  faturamento potencial\n",
       "0      11676      1027          483          688          800         1675         2300         1784           2919      3975              0            145            715           1242           1093            758            92           304             2102      2501.00       932515     Médio"
      ]
     },
     "execution_count": 81,
     "metadata": {},
     "output_type": "execute_result"
    }
   ],
   "source": [
    "df_rj = pd.read_csv('../data/interim/df_rj_feat_eng_done.csv', index_col=0)\n",
    "print(df_rj.shape)\n",
    "df_rj.head(1)"
   ]
  },
  {
   "cell_type": "markdown",
   "id": "c8ffe22f",
   "metadata": {
    "ExecuteTime": {
     "end_time": "2023-02-09T12:51:12.087878Z",
     "start_time": "2023-02-09T12:51:12.077256Z"
    },
    "hidden": true
   },
   "source": [
    "A análise 1 é um problema de regressão (supervisionado), sendo a variável alvo \"faturamento\" do tipo float (contínua).\n",
    "\n",
    "df_rj será dividida em três partes, sendo:\n",
    "- Dados de treinamento (train): utilizados para treinar os modelos de machine learning.\n",
    "- Dados de validação (val): utilizados para validar a performance dos modelos, e para tunagem de hiperparâmetros.\n",
    "- Dados de teste (test): utilizados para avaliação final da capacidade de generalização dos modelos, simulando dados de produção (registros de SP)."
   ]
  },
  {
   "cell_type": "markdown",
   "id": "f3e4e617",
   "metadata": {
    "hidden": true
   },
   "source": [
    "Divisão entre features e variável alvo:"
   ]
  },
  {
   "cell_type": "code",
   "execution_count": 82,
   "id": "1429ae46",
   "metadata": {
    "ExecuteTime": {
     "end_time": "2023-02-11T22:15:06.574291Z",
     "start_time": "2023-02-11T22:15:06.565585Z"
    },
    "hidden": true
   },
   "outputs": [
    {
     "data": {
      "text/plain": [
       "0    932515\n",
       "1    588833\n",
       "Name: faturamento, dtype: int64"
      ]
     },
     "execution_count": 82,
     "metadata": {},
     "output_type": "execute_result"
    }
   ],
   "source": [
    "y1 = df_rj.faturamento\n",
    "y1.head(2)"
   ]
  },
  {
   "cell_type": "code",
   "execution_count": 83,
   "id": "1898ff9e",
   "metadata": {
    "ExecuteTime": {
     "end_time": "2023-02-11T22:15:06.774913Z",
     "start_time": "2023-02-11T22:15:06.752162Z"
    },
    "hidden": true
   },
   "outputs": [
    {
     "data": {
      "text/html": [
       "<div>\n",
       "<style scoped>\n",
       "    .dataframe tbody tr th:only-of-type {\n",
       "        vertical-align: middle;\n",
       "    }\n",
       "\n",
       "    .dataframe tbody tr th {\n",
       "        vertical-align: top;\n",
       "    }\n",
       "\n",
       "    .dataframe thead th {\n",
       "        text-align: right;\n",
       "    }\n",
       "</style>\n",
       "<table border=\"1\" class=\"dataframe\">\n",
       "  <thead>\n",
       "    <tr style=\"text-align: right;\">\n",
       "      <th></th>\n",
       "      <th>populacao</th>\n",
       "      <th>pop_ate9</th>\n",
       "      <th>pop_de10a14</th>\n",
       "      <th>pop_de15a19</th>\n",
       "      <th>pop_de20a24</th>\n",
       "      <th>pop_de25a34</th>\n",
       "      <th>pop_de35a49</th>\n",
       "      <th>pop_de50a59</th>\n",
       "      <th>pop_mais_de60</th>\n",
       "      <th>pop_alvo</th>\n",
       "      <th>domicilios_a1</th>\n",
       "      <th>domicilios_a2</th>\n",
       "      <th>domicilios_b1</th>\n",
       "      <th>domicilios_b2</th>\n",
       "      <th>domicilios_c1</th>\n",
       "      <th>domicilios_c2</th>\n",
       "      <th>domicilios_d</th>\n",
       "      <th>domicilios_e</th>\n",
       "      <th>domicilios_alvo</th>\n",
       "      <th>renda_media</th>\n",
       "      <th>potencial</th>\n",
       "    </tr>\n",
       "  </thead>\n",
       "  <tbody>\n",
       "    <tr>\n",
       "      <th>0</th>\n",
       "      <td>11676</td>\n",
       "      <td>1027</td>\n",
       "      <td>483</td>\n",
       "      <td>688</td>\n",
       "      <td>800</td>\n",
       "      <td>1675</td>\n",
       "      <td>2300</td>\n",
       "      <td>1784</td>\n",
       "      <td>2919</td>\n",
       "      <td>3975</td>\n",
       "      <td>0</td>\n",
       "      <td>145</td>\n",
       "      <td>715</td>\n",
       "      <td>1242</td>\n",
       "      <td>1093</td>\n",
       "      <td>758</td>\n",
       "      <td>92</td>\n",
       "      <td>304</td>\n",
       "      <td>2102</td>\n",
       "      <td>2501.00</td>\n",
       "      <td>Médio</td>\n",
       "    </tr>\n",
       "  </tbody>\n",
       "</table>\n",
       "</div>"
      ],
      "text/plain": [
       "   populacao  pop_ate9  pop_de10a14  pop_de15a19  pop_de20a24  pop_de25a34  pop_de35a49  pop_de50a59  pop_mais_de60  pop_alvo  domicilios_a1  domicilios_a2  domicilios_b1  domicilios_b2  domicilios_c1  domicilios_c2  domicilios_d  domicilios_e  domicilios_alvo  renda_media potencial\n",
       "0      11676      1027          483          688          800         1675         2300         1784           2919      3975              0            145            715           1242           1093            758            92           304             2102      2501.00     Médio"
      ]
     },
     "execution_count": 83,
     "metadata": {},
     "output_type": "execute_result"
    }
   ],
   "source": [
    "X1 = df_rj.drop([\"faturamento\"], axis=1)\n",
    "X1.head(1)"
   ]
  },
  {
   "cell_type": "markdown",
   "id": "1e31b7d1",
   "metadata": {
    "hidden": true
   },
   "source": [
    "Divisão entre datasets de treino/validação e teste, mantendo 15% dos registros para teste.\n",
    "\n",
    "O parâmetro \"random_state\" é utilizado para manter a reprodutibilidade da divisão."
   ]
  },
  {
   "cell_type": "code",
   "execution_count": 84,
   "id": "539b157d",
   "metadata": {
    "ExecuteTime": {
     "end_time": "2023-02-11T22:15:07.097342Z",
     "start_time": "2023-02-11T22:15:07.087278Z"
    },
    "hidden": true
   },
   "outputs": [],
   "source": [
    "X1_trainval, X1_test, y1_trainval, y1_test = train_test_split(X1, y1, random_state=0, test_size=0.15)"
   ]
  },
  {
   "cell_type": "markdown",
   "id": "2ba709a9",
   "metadata": {
    "hidden": true
   },
   "source": [
    "Divisão entre datasets de treino e validação (a partir do trainval), mantendo 15% dos registros para validação."
   ]
  },
  {
   "cell_type": "code",
   "execution_count": 85,
   "id": "453289db",
   "metadata": {
    "ExecuteTime": {
     "end_time": "2023-02-11T22:15:07.441235Z",
     "start_time": "2023-02-11T22:15:07.432555Z"
    },
    "hidden": true
   },
   "outputs": [],
   "source": [
    "X1_train, X1_val, y1_train, y1_val = train_test_split(X1_trainval, y1_trainval, random_state=0, test_size=0.15)"
   ]
  },
  {
   "cell_type": "markdown",
   "id": "5b3dd81a",
   "metadata": {
    "ExecuteTime": {
     "end_time": "2023-02-11T21:22:27.224810Z",
     "start_time": "2023-02-11T21:22:27.216016Z"
    },
    "hidden": true
   },
   "source": [
    "Conferência das divisões:"
   ]
  },
  {
   "cell_type": "code",
   "execution_count": 86,
   "id": "13384594",
   "metadata": {
    "ExecuteTime": {
     "end_time": "2023-02-11T22:15:07.890857Z",
     "start_time": "2023-02-11T22:15:07.863280Z"
    },
    "hidden": true
   },
   "outputs": [
    {
     "name": "stdout",
     "output_type": "stream",
     "text": [
      "(115, 21)\n",
      "(21, 21)\n",
      "(24, 21)\n"
     ]
    },
    {
     "data": {
      "text/html": [
       "<div>\n",
       "<style scoped>\n",
       "    .dataframe tbody tr th:only-of-type {\n",
       "        vertical-align: middle;\n",
       "    }\n",
       "\n",
       "    .dataframe tbody tr th {\n",
       "        vertical-align: top;\n",
       "    }\n",
       "\n",
       "    .dataframe thead th {\n",
       "        text-align: right;\n",
       "    }\n",
       "</style>\n",
       "<table border=\"1\" class=\"dataframe\">\n",
       "  <thead>\n",
       "    <tr style=\"text-align: right;\">\n",
       "      <th></th>\n",
       "      <th>populacao</th>\n",
       "      <th>pop_ate9</th>\n",
       "      <th>pop_de10a14</th>\n",
       "      <th>pop_de15a19</th>\n",
       "      <th>pop_de20a24</th>\n",
       "      <th>pop_de25a34</th>\n",
       "      <th>pop_de35a49</th>\n",
       "      <th>pop_de50a59</th>\n",
       "      <th>pop_mais_de60</th>\n",
       "      <th>pop_alvo</th>\n",
       "      <th>domicilios_a1</th>\n",
       "      <th>domicilios_a2</th>\n",
       "      <th>domicilios_b1</th>\n",
       "      <th>domicilios_b2</th>\n",
       "      <th>domicilios_c1</th>\n",
       "      <th>domicilios_c2</th>\n",
       "      <th>domicilios_d</th>\n",
       "      <th>domicilios_e</th>\n",
       "      <th>domicilios_alvo</th>\n",
       "      <th>renda_media</th>\n",
       "      <th>potencial</th>\n",
       "    </tr>\n",
       "  </thead>\n",
       "  <tbody>\n",
       "    <tr>\n",
       "      <th>63</th>\n",
       "      <td>16177</td>\n",
       "      <td>1516</td>\n",
       "      <td>748</td>\n",
       "      <td>1016</td>\n",
       "      <td>1174</td>\n",
       "      <td>2488</td>\n",
       "      <td>3497</td>\n",
       "      <td>2327</td>\n",
       "      <td>3411</td>\n",
       "      <td>5985</td>\n",
       "      <td>0</td>\n",
       "      <td>141</td>\n",
       "      <td>857</td>\n",
       "      <td>1464</td>\n",
       "      <td>1740</td>\n",
       "      <td>1030</td>\n",
       "      <td>87</td>\n",
       "      <td>432</td>\n",
       "      <td>2462</td>\n",
       "      <td>2336.00</td>\n",
       "      <td>Médio</td>\n",
       "    </tr>\n",
       "  </tbody>\n",
       "</table>\n",
       "</div>"
      ],
      "text/plain": [
       "    populacao  pop_ate9  pop_de10a14  pop_de15a19  pop_de20a24  pop_de25a34  pop_de35a49  pop_de50a59  pop_mais_de60  pop_alvo  domicilios_a1  domicilios_a2  domicilios_b1  domicilios_b2  domicilios_c1  domicilios_c2  domicilios_d  domicilios_e  domicilios_alvo  renda_media potencial\n",
       "63      16177      1516          748         1016         1174         2488         3497         2327           3411      5985              0            141            857           1464           1740           1030            87           432             2462      2336.00     Médio"
      ]
     },
     "execution_count": 86,
     "metadata": {},
     "output_type": "execute_result"
    }
   ],
   "source": [
    "print(X1_train.shape)\n",
    "print(X1_val.shape)\n",
    "print(X1_test.shape)\n",
    "X1_train.head(1)"
   ]
  },
  {
   "cell_type": "markdown",
   "id": "5f86b5d7",
   "metadata": {
    "heading_collapsed": true,
    "hidden": true
   },
   "source": [
    "## Preparação dos Dados"
   ]
  },
  {
   "cell_type": "markdown",
   "id": "267901e5",
   "metadata": {
    "hidden": true
   },
   "source": [
    "Os algoritmos de machine learning possuem premissas com relação ao formato dos dados que recebem. Elas devem ser respeitadas sempre que possível, para que o algoritmo atinja a maior performance possível.\n",
    "\n",
    "Nesta seção, as features serão preparadas para servir de insumo aos algoritmos."
   ]
  },
  {
   "cell_type": "code",
   "execution_count": 87,
   "id": "c991b3ae",
   "metadata": {
    "ExecuteTime": {
     "end_time": "2023-02-11T22:15:08.375416Z",
     "start_time": "2023-02-11T22:15:08.367905Z"
    },
    "hidden": true
   },
   "outputs": [
    {
     "data": {
      "text/plain": [
       "Index(['populacao', 'pop_ate9', 'pop_de10a14', 'pop_de15a19', 'pop_de20a24',\n",
       "       'pop_de25a34', 'pop_de35a49', 'pop_de50a59', 'pop_mais_de60',\n",
       "       'pop_alvo', 'domicilios_a1', 'domicilios_a2', 'domicilios_b1',\n",
       "       'domicilios_b2', 'domicilios_c1', 'domicilios_c2', 'domicilios_d',\n",
       "       'domicilios_e', 'domicilios_alvo', 'renda_media', 'potencial'],\n",
       "      dtype='object')"
      ]
     },
     "execution_count": 87,
     "metadata": {},
     "output_type": "execute_result"
    }
   ],
   "source": [
    "X1_train.columns"
   ]
  },
  {
   "cell_type": "code",
   "execution_count": 88,
   "id": "88a7d037",
   "metadata": {
    "ExecuteTime": {
     "end_time": "2023-02-11T22:15:10.552377Z",
     "start_time": "2023-02-11T22:15:10.521427Z"
    },
    "hidden": true
   },
   "outputs": [
    {
     "data": {
      "text/html": [
       "<div>\n",
       "<style scoped>\n",
       "    .dataframe tbody tr th:only-of-type {\n",
       "        vertical-align: middle;\n",
       "    }\n",
       "\n",
       "    .dataframe tbody tr th {\n",
       "        vertical-align: top;\n",
       "    }\n",
       "\n",
       "    .dataframe thead th {\n",
       "        text-align: right;\n",
       "    }\n",
       "</style>\n",
       "<table border=\"1\" class=\"dataframe\">\n",
       "  <thead>\n",
       "    <tr style=\"text-align: right;\">\n",
       "      <th></th>\n",
       "      <th>populacao</th>\n",
       "      <th>pop_ate9</th>\n",
       "      <th>pop_de10a14</th>\n",
       "      <th>pop_de15a19</th>\n",
       "      <th>pop_de20a24</th>\n",
       "      <th>pop_de25a34</th>\n",
       "      <th>pop_de35a49</th>\n",
       "      <th>pop_de50a59</th>\n",
       "      <th>pop_mais_de60</th>\n",
       "      <th>pop_alvo</th>\n",
       "      <th>domicilios_a1</th>\n",
       "      <th>domicilios_a2</th>\n",
       "      <th>domicilios_b1</th>\n",
       "      <th>domicilios_b2</th>\n",
       "      <th>domicilios_c1</th>\n",
       "      <th>domicilios_c2</th>\n",
       "      <th>domicilios_d</th>\n",
       "      <th>domicilios_e</th>\n",
       "      <th>domicilios_alvo</th>\n",
       "      <th>renda_media</th>\n",
       "      <th>potencial</th>\n",
       "    </tr>\n",
       "  </thead>\n",
       "  <tbody>\n",
       "    <tr>\n",
       "      <th>63</th>\n",
       "      <td>16177</td>\n",
       "      <td>1516</td>\n",
       "      <td>748</td>\n",
       "      <td>1016</td>\n",
       "      <td>1174</td>\n",
       "      <td>2488</td>\n",
       "      <td>3497</td>\n",
       "      <td>2327</td>\n",
       "      <td>3411</td>\n",
       "      <td>5985</td>\n",
       "      <td>0</td>\n",
       "      <td>141</td>\n",
       "      <td>857</td>\n",
       "      <td>1464</td>\n",
       "      <td>1740</td>\n",
       "      <td>1030</td>\n",
       "      <td>87</td>\n",
       "      <td>432</td>\n",
       "      <td>2462</td>\n",
       "      <td>2336.00</td>\n",
       "      <td>Médio</td>\n",
       "    </tr>\n",
       "  </tbody>\n",
       "</table>\n",
       "</div>"
      ],
      "text/plain": [
       "    populacao  pop_ate9  pop_de10a14  pop_de15a19  pop_de20a24  pop_de25a34  pop_de35a49  pop_de50a59  pop_mais_de60  pop_alvo  domicilios_a1  domicilios_a2  domicilios_b1  domicilios_b2  domicilios_c1  domicilios_c2  domicilios_d  domicilios_e  domicilios_alvo  renda_media potencial\n",
       "63      16177      1516          748         1016         1174         2488         3497         2327           3411      5985              0            141            857           1464           1740           1030            87           432             2462      2336.00     Médio"
      ]
     },
     "execution_count": 88,
     "metadata": {},
     "output_type": "execute_result"
    }
   ],
   "source": [
    "X1_train.head(1)"
   ]
  },
  {
   "cell_type": "markdown",
   "id": "f8ae7a29",
   "metadata": {
    "hidden": true
   },
   "source": [
    "Tratativas necessárias para as features da análise 1 (regressão).\n",
    "\n",
    "- Numéricas (tratadas com scaling): 'populacao', 'pop_ate9', 'pop_de10a14', 'pop_de15a19', 'pop_de20a24', 'pop_de25a34', 'pop_de35a49', 'pop_de50a59', 'pop_mais_de60', 'pop_alvo', 'domicilios_a1', 'domicilios_a2', 'domicilios_b1', 'domicilios_b2', 'domicilios_c1', 'domicilios_c2', 'domicilios_d', 'domicilios_e', 'domicilios_alvo', e 'renda_media'. \n",
    "- Categóricas (tratadas com encoding): 'potencial'.\n",
    "- Variável resposta (tratada com transformação logaritmica): 'faturamento'."
   ]
  },
  {
   "cell_type": "markdown",
   "id": "2474f56d",
   "metadata": {
    "hidden": true
   },
   "source": [
    "### Scaling"
   ]
  },
  {
   "cell_type": "markdown",
   "id": "18ad4002",
   "metadata": {
    "hidden": true
   },
   "source": [
    "1 - Feature Scaling: Trazer todas variáveis para mesmo range (escala), para não enviesar os modelos.\n",
    "- 1.1 Standardization se distribuição Normal:\n",
    "    - Sem outliers: usa StandardScaler\n",
    "    - Com outliers: usa RobustScaler\n",
    "- 1.2 Normalization se não normal:\n",
    "    - Com ou sem outliers: Usar MinMaxScaler\n",
    "\n",
    "Avaliando as distribuições das features na seção \"Estatística Descritiva\", nenhuma das que serão tratatas aqui possui distribuição normal. Logo, todas serão reescaladas usando a classe \"MinMaxScaler\" do scikit-learn.\n",
    "- MinMaxScaler: Rescala para o intervalo entre 0 e 1."
   ]
  },
  {
   "cell_type": "code",
   "execution_count": 89,
   "id": "23e1b4fb",
   "metadata": {
    "ExecuteTime": {
     "end_time": "2023-02-11T22:15:11.229568Z",
     "start_time": "2023-02-11T22:15:11.222514Z"
    },
    "hidden": true
   },
   "outputs": [],
   "source": [
    "features_scaling = ['populacao', 'pop_ate9', 'pop_de10a14', 'pop_de15a19', 'pop_de20a24', 'pop_de25a34',\n",
    "'pop_de35a49', 'pop_de50a59', 'pop_mais_de60', 'pop_alvo', 'domicilios_a1', 'domicilios_a2', 'domicilios_b1',\n",
    "'domicilios_b2', 'domicilios_c1', 'domicilios_c2', 'domicilios_d', 'domicilios_e', 'domicilios_alvo', 'renda_media']"
   ]
  },
  {
   "cell_type": "markdown",
   "id": "3c30546a",
   "metadata": {
    "hidden": true
   },
   "source": [
    "Reescala apenas as features selecionadas do treino com MinMaxScaler."
   ]
  },
  {
   "cell_type": "code",
   "execution_count": 90,
   "id": "92ac447f",
   "metadata": {
    "ExecuteTime": {
     "end_time": "2023-02-11T22:15:11.768250Z",
     "start_time": "2023-02-11T22:15:11.732854Z"
    },
    "hidden": true
   },
   "outputs": [
    {
     "data": {
      "text/html": [
       "<div>\n",
       "<style scoped>\n",
       "    .dataframe tbody tr th:only-of-type {\n",
       "        vertical-align: middle;\n",
       "    }\n",
       "\n",
       "    .dataframe tbody tr th {\n",
       "        vertical-align: top;\n",
       "    }\n",
       "\n",
       "    .dataframe thead th {\n",
       "        text-align: right;\n",
       "    }\n",
       "</style>\n",
       "<table border=\"1\" class=\"dataframe\">\n",
       "  <thead>\n",
       "    <tr style=\"text-align: right;\">\n",
       "      <th></th>\n",
       "      <th>populacao</th>\n",
       "      <th>pop_ate9</th>\n",
       "      <th>pop_de10a14</th>\n",
       "      <th>pop_de15a19</th>\n",
       "      <th>pop_de20a24</th>\n",
       "      <th>pop_de25a34</th>\n",
       "      <th>pop_de35a49</th>\n",
       "      <th>pop_de50a59</th>\n",
       "      <th>pop_mais_de60</th>\n",
       "      <th>pop_alvo</th>\n",
       "      <th>domicilios_a1</th>\n",
       "      <th>domicilios_a2</th>\n",
       "      <th>domicilios_b1</th>\n",
       "      <th>domicilios_b2</th>\n",
       "      <th>domicilios_c1</th>\n",
       "      <th>domicilios_c2</th>\n",
       "      <th>domicilios_d</th>\n",
       "      <th>domicilios_e</th>\n",
       "      <th>domicilios_alvo</th>\n",
       "      <th>renda_media</th>\n",
       "      <th>potencial</th>\n",
       "    </tr>\n",
       "  </thead>\n",
       "  <tbody>\n",
       "    <tr>\n",
       "      <th>63</th>\n",
       "      <td>0.02</td>\n",
       "      <td>0.01</td>\n",
       "      <td>0.01</td>\n",
       "      <td>0.02</td>\n",
       "      <td>0.02</td>\n",
       "      <td>0.03</td>\n",
       "      <td>0.03</td>\n",
       "      <td>0.03</td>\n",
       "      <td>0.04</td>\n",
       "      <td>0.03</td>\n",
       "      <td>0.00</td>\n",
       "      <td>0.01</td>\n",
       "      <td>0.04</td>\n",
       "      <td>0.07</td>\n",
       "      <td>0.05</td>\n",
       "      <td>0.04</td>\n",
       "      <td>0.02</td>\n",
       "      <td>0.03</td>\n",
       "      <td>0.05</td>\n",
       "      <td>0.03</td>\n",
       "      <td>Médio</td>\n",
       "    </tr>\n",
       "  </tbody>\n",
       "</table>\n",
       "</div>"
      ],
      "text/plain": [
       "    populacao  pop_ate9  pop_de10a14  pop_de15a19  pop_de20a24  pop_de25a34  pop_de35a49  pop_de50a59  pop_mais_de60  pop_alvo  domicilios_a1  domicilios_a2  domicilios_b1  domicilios_b2  domicilios_c1  domicilios_c2  domicilios_d  domicilios_e  domicilios_alvo  renda_media potencial\n",
       "63       0.02      0.01         0.01         0.02         0.02         0.03         0.03         0.03           0.04      0.03           0.00           0.01           0.04           0.07           0.05           0.04          0.02          0.03             0.05         0.03     Médio"
      ]
     },
     "execution_count": 90,
     "metadata": {},
     "output_type": "execute_result"
    }
   ],
   "source": [
    "scaler1 = MinMaxScaler()\n",
    "X1_train[features_scaling] = scaler1.fit_transform(X1_train[features_scaling])\n",
    "X1_train.head(1)"
   ]
  },
  {
   "cell_type": "markdown",
   "id": "db67795f",
   "metadata": {
    "hidden": true
   },
   "source": [
    "Aplica o scaler já treinado apenas nas features selecionadas de validação."
   ]
  },
  {
   "cell_type": "code",
   "execution_count": 91,
   "id": "5594ae71",
   "metadata": {
    "ExecuteTime": {
     "end_time": "2023-02-11T22:15:13.791199Z",
     "start_time": "2023-02-11T22:15:13.748391Z"
    },
    "hidden": true
   },
   "outputs": [
    {
     "data": {
      "text/html": [
       "<div>\n",
       "<style scoped>\n",
       "    .dataframe tbody tr th:only-of-type {\n",
       "        vertical-align: middle;\n",
       "    }\n",
       "\n",
       "    .dataframe tbody tr th {\n",
       "        vertical-align: top;\n",
       "    }\n",
       "\n",
       "    .dataframe thead th {\n",
       "        text-align: right;\n",
       "    }\n",
       "</style>\n",
       "<table border=\"1\" class=\"dataframe\">\n",
       "  <thead>\n",
       "    <tr style=\"text-align: right;\">\n",
       "      <th></th>\n",
       "      <th>populacao</th>\n",
       "      <th>pop_ate9</th>\n",
       "      <th>pop_de10a14</th>\n",
       "      <th>pop_de15a19</th>\n",
       "      <th>pop_de20a24</th>\n",
       "      <th>pop_de25a34</th>\n",
       "      <th>pop_de35a49</th>\n",
       "      <th>pop_de50a59</th>\n",
       "      <th>pop_mais_de60</th>\n",
       "      <th>pop_alvo</th>\n",
       "      <th>domicilios_a1</th>\n",
       "      <th>domicilios_a2</th>\n",
       "      <th>domicilios_b1</th>\n",
       "      <th>domicilios_b2</th>\n",
       "      <th>domicilios_c1</th>\n",
       "      <th>domicilios_c2</th>\n",
       "      <th>domicilios_d</th>\n",
       "      <th>domicilios_e</th>\n",
       "      <th>domicilios_alvo</th>\n",
       "      <th>renda_media</th>\n",
       "      <th>potencial</th>\n",
       "    </tr>\n",
       "  </thead>\n",
       "  <tbody>\n",
       "    <tr>\n",
       "      <th>55</th>\n",
       "      <td>0.03</td>\n",
       "      <td>0.02</td>\n",
       "      <td>0.02</td>\n",
       "      <td>0.02</td>\n",
       "      <td>0.03</td>\n",
       "      <td>0.04</td>\n",
       "      <td>0.04</td>\n",
       "      <td>0.02</td>\n",
       "      <td>0.02</td>\n",
       "      <td>0.04</td>\n",
       "      <td>0.00</td>\n",
       "      <td>0.01</td>\n",
       "      <td>0.01</td>\n",
       "      <td>0.04</td>\n",
       "      <td>0.06</td>\n",
       "      <td>0.09</td>\n",
       "      <td>0.08</td>\n",
       "      <td>0.04</td>\n",
       "      <td>0.02</td>\n",
       "      <td>0.02</td>\n",
       "      <td>Baixo</td>\n",
       "    </tr>\n",
       "  </tbody>\n",
       "</table>\n",
       "</div>"
      ],
      "text/plain": [
       "    populacao  pop_ate9  pop_de10a14  pop_de15a19  pop_de20a24  pop_de25a34  pop_de35a49  pop_de50a59  pop_mais_de60  pop_alvo  domicilios_a1  domicilios_a2  domicilios_b1  domicilios_b2  domicilios_c1  domicilios_c2  domicilios_d  domicilios_e  domicilios_alvo  renda_media potencial\n",
       "55       0.03      0.02         0.02         0.02         0.03         0.04         0.04         0.02           0.02      0.04           0.00           0.01           0.01           0.04           0.06           0.09          0.08          0.04             0.02         0.02     Baixo"
      ]
     },
     "execution_count": 91,
     "metadata": {},
     "output_type": "execute_result"
    }
   ],
   "source": [
    "X1_val[features_scaling] = scaler1.transform(X1_val[features_scaling])\n",
    "X1_val.head(1)"
   ]
  },
  {
   "cell_type": "markdown",
   "id": "d9305444",
   "metadata": {
    "hidden": true
   },
   "source": [
    "Já deixar pronto também trainval, para avaliar a capacidade de generalização no final."
   ]
  },
  {
   "cell_type": "code",
   "execution_count": 92,
   "id": "8988f8d1",
   "metadata": {
    "ExecuteTime": {
     "end_time": "2023-02-11T22:15:14.225060Z",
     "start_time": "2023-02-11T22:15:14.192004Z"
    },
    "hidden": true,
    "scrolled": true
   },
   "outputs": [
    {
     "data": {
      "text/html": [
       "<div>\n",
       "<style scoped>\n",
       "    .dataframe tbody tr th:only-of-type {\n",
       "        vertical-align: middle;\n",
       "    }\n",
       "\n",
       "    .dataframe tbody tr th {\n",
       "        vertical-align: top;\n",
       "    }\n",
       "\n",
       "    .dataframe thead th {\n",
       "        text-align: right;\n",
       "    }\n",
       "</style>\n",
       "<table border=\"1\" class=\"dataframe\">\n",
       "  <thead>\n",
       "    <tr style=\"text-align: right;\">\n",
       "      <th></th>\n",
       "      <th>populacao</th>\n",
       "      <th>pop_ate9</th>\n",
       "      <th>pop_de10a14</th>\n",
       "      <th>pop_de15a19</th>\n",
       "      <th>pop_de20a24</th>\n",
       "      <th>pop_de25a34</th>\n",
       "      <th>pop_de35a49</th>\n",
       "      <th>pop_de50a59</th>\n",
       "      <th>pop_mais_de60</th>\n",
       "      <th>pop_alvo</th>\n",
       "      <th>domicilios_a1</th>\n",
       "      <th>domicilios_a2</th>\n",
       "      <th>domicilios_b1</th>\n",
       "      <th>domicilios_b2</th>\n",
       "      <th>domicilios_c1</th>\n",
       "      <th>domicilios_c2</th>\n",
       "      <th>domicilios_d</th>\n",
       "      <th>domicilios_e</th>\n",
       "      <th>domicilios_alvo</th>\n",
       "      <th>renda_media</th>\n",
       "      <th>potencial</th>\n",
       "    </tr>\n",
       "  </thead>\n",
       "  <tbody>\n",
       "    <tr>\n",
       "      <th>37</th>\n",
       "      <td>0.07</td>\n",
       "      <td>0.05</td>\n",
       "      <td>0.05</td>\n",
       "      <td>0.06</td>\n",
       "      <td>0.06</td>\n",
       "      <td>0.08</td>\n",
       "      <td>0.09</td>\n",
       "      <td>0.07</td>\n",
       "      <td>0.09</td>\n",
       "      <td>0.09</td>\n",
       "      <td>0.00</td>\n",
       "      <td>0.00</td>\n",
       "      <td>0.05</td>\n",
       "      <td>0.11</td>\n",
       "      <td>0.14</td>\n",
       "      <td>0.16</td>\n",
       "      <td>0.15</td>\n",
       "      <td>0.18</td>\n",
       "      <td>0.07</td>\n",
       "      <td>0.01</td>\n",
       "      <td>Médio</td>\n",
       "    </tr>\n",
       "  </tbody>\n",
       "</table>\n",
       "</div>"
      ],
      "text/plain": [
       "    populacao  pop_ate9  pop_de10a14  pop_de15a19  pop_de20a24  pop_de25a34  pop_de35a49  pop_de50a59  pop_mais_de60  pop_alvo  domicilios_a1  domicilios_a2  domicilios_b1  domicilios_b2  domicilios_c1  domicilios_c2  domicilios_d  domicilios_e  domicilios_alvo  renda_media potencial\n",
       "37       0.07      0.05         0.05         0.06         0.06         0.08         0.09         0.07           0.09      0.09           0.00           0.00           0.05           0.11           0.14           0.16          0.15          0.18             0.07         0.01     Médio"
      ]
     },
     "execution_count": 92,
     "metadata": {},
     "output_type": "execute_result"
    }
   ],
   "source": [
    "scaler1_tv = MinMaxScaler()\n",
    "X1_trainval[features_scaling] = scaler1.fit_transform(X1_trainval[features_scaling])\n",
    "X1_trainval.head(1)"
   ]
  },
  {
   "cell_type": "markdown",
   "id": "ab809f96",
   "metadata": {
    "hidden": true
   },
   "source": [
    "Aprontar também o test, já aplicando a reescala."
   ]
  },
  {
   "cell_type": "code",
   "execution_count": 93,
   "id": "4ecc415b",
   "metadata": {
    "ExecuteTime": {
     "end_time": "2023-02-11T22:15:15.938766Z",
     "start_time": "2023-02-11T22:15:15.909878Z"
    },
    "hidden": true
   },
   "outputs": [
    {
     "data": {
      "text/html": [
       "<div>\n",
       "<style scoped>\n",
       "    .dataframe tbody tr th:only-of-type {\n",
       "        vertical-align: middle;\n",
       "    }\n",
       "\n",
       "    .dataframe tbody tr th {\n",
       "        vertical-align: top;\n",
       "    }\n",
       "\n",
       "    .dataframe thead th {\n",
       "        text-align: right;\n",
       "    }\n",
       "</style>\n",
       "<table border=\"1\" class=\"dataframe\">\n",
       "  <thead>\n",
       "    <tr style=\"text-align: right;\">\n",
       "      <th></th>\n",
       "      <th>populacao</th>\n",
       "      <th>pop_ate9</th>\n",
       "      <th>pop_de10a14</th>\n",
       "      <th>pop_de15a19</th>\n",
       "      <th>pop_de20a24</th>\n",
       "      <th>pop_de25a34</th>\n",
       "      <th>pop_de35a49</th>\n",
       "      <th>pop_de50a59</th>\n",
       "      <th>pop_mais_de60</th>\n",
       "      <th>pop_alvo</th>\n",
       "      <th>domicilios_a1</th>\n",
       "      <th>domicilios_a2</th>\n",
       "      <th>domicilios_b1</th>\n",
       "      <th>domicilios_b2</th>\n",
       "      <th>domicilios_c1</th>\n",
       "      <th>domicilios_c2</th>\n",
       "      <th>domicilios_d</th>\n",
       "      <th>domicilios_e</th>\n",
       "      <th>domicilios_alvo</th>\n",
       "      <th>renda_media</th>\n",
       "      <th>potencial</th>\n",
       "    </tr>\n",
       "  </thead>\n",
       "  <tbody>\n",
       "    <tr>\n",
       "      <th>110</th>\n",
       "      <td>0.02</td>\n",
       "      <td>0.01</td>\n",
       "      <td>0.01</td>\n",
       "      <td>0.01</td>\n",
       "      <td>0.01</td>\n",
       "      <td>0.02</td>\n",
       "      <td>0.02</td>\n",
       "      <td>0.02</td>\n",
       "      <td>0.02</td>\n",
       "      <td>0.02</td>\n",
       "      <td>0.00</td>\n",
       "      <td>0.01</td>\n",
       "      <td>0.02</td>\n",
       "      <td>0.03</td>\n",
       "      <td>0.03</td>\n",
       "      <td>0.04</td>\n",
       "      <td>0.04</td>\n",
       "      <td>0.06</td>\n",
       "      <td>0.02</td>\n",
       "      <td>0.02</td>\n",
       "      <td>Baixo</td>\n",
       "    </tr>\n",
       "  </tbody>\n",
       "</table>\n",
       "</div>"
      ],
      "text/plain": [
       "     populacao  pop_ate9  pop_de10a14  pop_de15a19  pop_de20a24  pop_de25a34  pop_de35a49  pop_de50a59  pop_mais_de60  pop_alvo  domicilios_a1  domicilios_a2  domicilios_b1  domicilios_b2  domicilios_c1  domicilios_c2  domicilios_d  domicilios_e  domicilios_alvo  renda_media potencial\n",
       "110       0.02      0.01         0.01         0.01         0.01         0.02         0.02         0.02           0.02      0.02           0.00           0.01           0.02           0.03           0.03           0.04          0.04          0.06             0.02         0.02     Baixo"
      ]
     },
     "execution_count": 93,
     "metadata": {},
     "output_type": "execute_result"
    }
   ],
   "source": [
    "X1_test[features_scaling] = scaler1_tv.transform(X1_test[features_scaling])\n",
    "X1_test.head(1)"
   ]
  },
  {
   "cell_type": "markdown",
   "id": "730c856a",
   "metadata": {
    "hidden": true
   },
   "source": [
    "Features Reescaladas."
   ]
  },
  {
   "cell_type": "markdown",
   "id": "b1136bc0",
   "metadata": {
    "heading_collapsed": true,
    "hidden": true
   },
   "source": [
    "### Transformations"
   ]
  },
  {
   "cell_type": "markdown",
   "id": "1564d828",
   "metadata": {
    "hidden": true
   },
   "source": [
    "2 - Transformação:\n",
    "- 2.1 - Converter variáveis categóricas em numéricas (Encoding).\n",
    "- 2.2 - Converter a variável resposta em distribuição normal.(Response Variable Transf.)"
   ]
  },
  {
   "cell_type": "markdown",
   "id": "03931911",
   "metadata": {
    "heading_collapsed": true,
    "hidden": true
   },
   "source": [
    "#### Encoding"
   ]
  },
  {
   "cell_type": "markdown",
   "id": "f6da7aee",
   "metadata": {
    "hidden": true
   },
   "source": [
    "2.1 - Encoding:\n",
    "- É a Conversão de Features Categóricas para Numéricas, mantendo o conteúdo.\n",
    "- Avaliando a feature \"potencial\", há uma relação de ordem na variável, que contém valores \"Baixo\", \"Médio\" e \"Alto\". Em função disso, será aplicando um encoding ordinal através da classe \"OrdinalEncoder\" do scikit-learn."
   ]
  },
  {
   "cell_type": "markdown",
   "id": "1ad3e858",
   "metadata": {
    "hidden": true
   },
   "source": [
    "Encodar apenas as features selecionadas do treino com OrdinalEncoder."
   ]
  },
  {
   "cell_type": "code",
   "execution_count": 96,
   "id": "b446ce60",
   "metadata": {
    "ExecuteTime": {
     "end_time": "2023-02-11T22:15:51.205600Z",
     "start_time": "2023-02-11T22:15:51.193036Z"
    },
    "hidden": true,
    "scrolled": true
   },
   "outputs": [
    {
     "data": {
      "text/plain": [
       "[array(['Baixo', 'Médio', 'Alto'], dtype=object)]"
      ]
     },
     "execution_count": 96,
     "metadata": {},
     "output_type": "execute_result"
    }
   ],
   "source": [
    "encoder1 = OrdinalEncoder(categories=[['Baixo', 'Médio', 'Alto']], dtype=int)\n",
    "X1_train.potencial = encoder1.fit_transform(X1_train.potencial.to_numpy().reshape(-1,1))\n",
    "encoder1.categories_"
   ]
  },
  {
   "cell_type": "markdown",
   "id": "1ba30ae0",
   "metadata": {
    "hidden": true
   },
   "source": [
    "Aplica o encoder já treinado apenas na feature selecionada de validação."
   ]
  },
  {
   "cell_type": "code",
   "execution_count": 101,
   "id": "6c9d654a",
   "metadata": {
    "ExecuteTime": {
     "end_time": "2023-02-11T22:17:35.636985Z",
     "start_time": "2023-02-11T22:17:35.615431Z"
    },
    "hidden": true
   },
   "outputs": [
    {
     "data": {
      "text/html": [
       "<div>\n",
       "<style scoped>\n",
       "    .dataframe tbody tr th:only-of-type {\n",
       "        vertical-align: middle;\n",
       "    }\n",
       "\n",
       "    .dataframe tbody tr th {\n",
       "        vertical-align: top;\n",
       "    }\n",
       "\n",
       "    .dataframe thead th {\n",
       "        text-align: right;\n",
       "    }\n",
       "</style>\n",
       "<table border=\"1\" class=\"dataframe\">\n",
       "  <thead>\n",
       "    <tr style=\"text-align: right;\">\n",
       "      <th></th>\n",
       "      <th>populacao</th>\n",
       "      <th>pop_ate9</th>\n",
       "      <th>pop_de10a14</th>\n",
       "      <th>pop_de15a19</th>\n",
       "      <th>pop_de20a24</th>\n",
       "      <th>pop_de25a34</th>\n",
       "      <th>pop_de35a49</th>\n",
       "      <th>pop_de50a59</th>\n",
       "      <th>pop_mais_de60</th>\n",
       "      <th>pop_alvo</th>\n",
       "      <th>domicilios_a1</th>\n",
       "      <th>domicilios_a2</th>\n",
       "      <th>domicilios_b1</th>\n",
       "      <th>domicilios_b2</th>\n",
       "      <th>domicilios_c1</th>\n",
       "      <th>domicilios_c2</th>\n",
       "      <th>domicilios_d</th>\n",
       "      <th>domicilios_e</th>\n",
       "      <th>domicilios_alvo</th>\n",
       "      <th>renda_media</th>\n",
       "      <th>potencial</th>\n",
       "    </tr>\n",
       "  </thead>\n",
       "  <tbody>\n",
       "    <tr>\n",
       "      <th>55</th>\n",
       "      <td>0.03</td>\n",
       "      <td>0.02</td>\n",
       "      <td>0.02</td>\n",
       "      <td>0.02</td>\n",
       "      <td>0.03</td>\n",
       "      <td>0.04</td>\n",
       "      <td>0.04</td>\n",
       "      <td>0.02</td>\n",
       "      <td>0.02</td>\n",
       "      <td>0.04</td>\n",
       "      <td>0.00</td>\n",
       "      <td>0.01</td>\n",
       "      <td>0.01</td>\n",
       "      <td>0.04</td>\n",
       "      <td>0.06</td>\n",
       "      <td>0.09</td>\n",
       "      <td>0.08</td>\n",
       "      <td>0.04</td>\n",
       "      <td>0.02</td>\n",
       "      <td>0.02</td>\n",
       "      <td>0</td>\n",
       "    </tr>\n",
       "  </tbody>\n",
       "</table>\n",
       "</div>"
      ],
      "text/plain": [
       "    populacao  pop_ate9  pop_de10a14  pop_de15a19  pop_de20a24  pop_de25a34  pop_de35a49  pop_de50a59  pop_mais_de60  pop_alvo  domicilios_a1  domicilios_a2  domicilios_b1  domicilios_b2  domicilios_c1  domicilios_c2  domicilios_d  domicilios_e  domicilios_alvo  renda_media  potencial\n",
       "55       0.03      0.02         0.02         0.02         0.03         0.04         0.04         0.02           0.02      0.04           0.00           0.01           0.01           0.04           0.06           0.09          0.08          0.04             0.02         0.02          0"
      ]
     },
     "execution_count": 101,
     "metadata": {},
     "output_type": "execute_result"
    }
   ],
   "source": [
    "X1_val.potencial = encoder1.transform(X1_val.potencial.to_numpy().reshape(-1,1))\n",
    "X1_val.head(1)"
   ]
  },
  {
   "cell_type": "markdown",
   "id": "7f788da3",
   "metadata": {
    "hidden": true
   },
   "source": [
    "Já deixar pronto também trainval, para avaliar a capacidade de generalização no final."
   ]
  },
  {
   "cell_type": "code",
   "execution_count": 103,
   "id": "6c4174e0",
   "metadata": {
    "ExecuteTime": {
     "end_time": "2023-02-11T22:20:31.275175Z",
     "start_time": "2023-02-11T22:20:31.243152Z"
    },
    "hidden": true
   },
   "outputs": [
    {
     "data": {
      "text/html": [
       "<div>\n",
       "<style scoped>\n",
       "    .dataframe tbody tr th:only-of-type {\n",
       "        vertical-align: middle;\n",
       "    }\n",
       "\n",
       "    .dataframe tbody tr th {\n",
       "        vertical-align: top;\n",
       "    }\n",
       "\n",
       "    .dataframe thead th {\n",
       "        text-align: right;\n",
       "    }\n",
       "</style>\n",
       "<table border=\"1\" class=\"dataframe\">\n",
       "  <thead>\n",
       "    <tr style=\"text-align: right;\">\n",
       "      <th></th>\n",
       "      <th>populacao</th>\n",
       "      <th>pop_ate9</th>\n",
       "      <th>pop_de10a14</th>\n",
       "      <th>pop_de15a19</th>\n",
       "      <th>pop_de20a24</th>\n",
       "      <th>pop_de25a34</th>\n",
       "      <th>pop_de35a49</th>\n",
       "      <th>pop_de50a59</th>\n",
       "      <th>pop_mais_de60</th>\n",
       "      <th>pop_alvo</th>\n",
       "      <th>domicilios_a1</th>\n",
       "      <th>domicilios_a2</th>\n",
       "      <th>domicilios_b1</th>\n",
       "      <th>domicilios_b2</th>\n",
       "      <th>domicilios_c1</th>\n",
       "      <th>domicilios_c2</th>\n",
       "      <th>domicilios_d</th>\n",
       "      <th>domicilios_e</th>\n",
       "      <th>domicilios_alvo</th>\n",
       "      <th>renda_media</th>\n",
       "      <th>potencial</th>\n",
       "    </tr>\n",
       "  </thead>\n",
       "  <tbody>\n",
       "    <tr>\n",
       "      <th>37</th>\n",
       "      <td>0.07</td>\n",
       "      <td>0.05</td>\n",
       "      <td>0.05</td>\n",
       "      <td>0.06</td>\n",
       "      <td>0.06</td>\n",
       "      <td>0.08</td>\n",
       "      <td>0.09</td>\n",
       "      <td>0.07</td>\n",
       "      <td>0.09</td>\n",
       "      <td>0.09</td>\n",
       "      <td>0.00</td>\n",
       "      <td>0.00</td>\n",
       "      <td>0.05</td>\n",
       "      <td>0.11</td>\n",
       "      <td>0.14</td>\n",
       "      <td>0.16</td>\n",
       "      <td>0.15</td>\n",
       "      <td>0.18</td>\n",
       "      <td>0.07</td>\n",
       "      <td>0.01</td>\n",
       "      <td>1</td>\n",
       "    </tr>\n",
       "  </tbody>\n",
       "</table>\n",
       "</div>"
      ],
      "text/plain": [
       "    populacao  pop_ate9  pop_de10a14  pop_de15a19  pop_de20a24  pop_de25a34  pop_de35a49  pop_de50a59  pop_mais_de60  pop_alvo  domicilios_a1  domicilios_a2  domicilios_b1  domicilios_b2  domicilios_c1  domicilios_c2  domicilios_d  domicilios_e  domicilios_alvo  renda_media  potencial\n",
       "37       0.07      0.05         0.05         0.06         0.06         0.08         0.09         0.07           0.09      0.09           0.00           0.00           0.05           0.11           0.14           0.16          0.15          0.18             0.07         0.01          1"
      ]
     },
     "execution_count": 103,
     "metadata": {},
     "output_type": "execute_result"
    }
   ],
   "source": [
    "encoder1_tv = OrdinalEncoder(categories=[['Baixo', 'Médio', 'Alto']], dtype=int)\n",
    "X1_trainval.potencial = encoder1.fit_transform(X1_trainval.potencial.to_numpy().reshape(-1,1))\n",
    "X1_trainval.head(1)"
   ]
  },
  {
   "cell_type": "markdown",
   "id": "cd03e133",
   "metadata": {
    "hidden": true
   },
   "source": [
    "Aprontar também o test, já aplicando as transformações."
   ]
  },
  {
   "cell_type": "code",
   "execution_count": 105,
   "id": "1c25fe49",
   "metadata": {
    "ExecuteTime": {
     "end_time": "2023-02-11T22:22:08.796553Z",
     "start_time": "2023-02-11T22:22:08.776171Z"
    },
    "hidden": true
   },
   "outputs": [
    {
     "data": {
      "text/html": [
       "<div>\n",
       "<style scoped>\n",
       "    .dataframe tbody tr th:only-of-type {\n",
       "        vertical-align: middle;\n",
       "    }\n",
       "\n",
       "    .dataframe tbody tr th {\n",
       "        vertical-align: top;\n",
       "    }\n",
       "\n",
       "    .dataframe thead th {\n",
       "        text-align: right;\n",
       "    }\n",
       "</style>\n",
       "<table border=\"1\" class=\"dataframe\">\n",
       "  <thead>\n",
       "    <tr style=\"text-align: right;\">\n",
       "      <th></th>\n",
       "      <th>populacao</th>\n",
       "      <th>pop_ate9</th>\n",
       "      <th>pop_de10a14</th>\n",
       "      <th>pop_de15a19</th>\n",
       "      <th>pop_de20a24</th>\n",
       "      <th>pop_de25a34</th>\n",
       "      <th>pop_de35a49</th>\n",
       "      <th>pop_de50a59</th>\n",
       "      <th>pop_mais_de60</th>\n",
       "      <th>pop_alvo</th>\n",
       "      <th>domicilios_a1</th>\n",
       "      <th>domicilios_a2</th>\n",
       "      <th>domicilios_b1</th>\n",
       "      <th>domicilios_b2</th>\n",
       "      <th>domicilios_c1</th>\n",
       "      <th>domicilios_c2</th>\n",
       "      <th>domicilios_d</th>\n",
       "      <th>domicilios_e</th>\n",
       "      <th>domicilios_alvo</th>\n",
       "      <th>renda_media</th>\n",
       "      <th>potencial</th>\n",
       "    </tr>\n",
       "  </thead>\n",
       "  <tbody>\n",
       "    <tr>\n",
       "      <th>110</th>\n",
       "      <td>0.02</td>\n",
       "      <td>0.01</td>\n",
       "      <td>0.01</td>\n",
       "      <td>0.01</td>\n",
       "      <td>0.01</td>\n",
       "      <td>0.02</td>\n",
       "      <td>0.02</td>\n",
       "      <td>0.02</td>\n",
       "      <td>0.02</td>\n",
       "      <td>0.02</td>\n",
       "      <td>0.00</td>\n",
       "      <td>0.01</td>\n",
       "      <td>0.02</td>\n",
       "      <td>0.03</td>\n",
       "      <td>0.03</td>\n",
       "      <td>0.04</td>\n",
       "      <td>0.04</td>\n",
       "      <td>0.06</td>\n",
       "      <td>0.02</td>\n",
       "      <td>0.02</td>\n",
       "      <td>0</td>\n",
       "    </tr>\n",
       "  </tbody>\n",
       "</table>\n",
       "</div>"
      ],
      "text/plain": [
       "     populacao  pop_ate9  pop_de10a14  pop_de15a19  pop_de20a24  pop_de25a34  pop_de35a49  pop_de50a59  pop_mais_de60  pop_alvo  domicilios_a1  domicilios_a2  domicilios_b1  domicilios_b2  domicilios_c1  domicilios_c2  domicilios_d  domicilios_e  domicilios_alvo  renda_media  potencial\n",
       "110       0.02      0.01         0.01         0.01         0.01         0.02         0.02         0.02           0.02      0.02           0.00           0.01           0.02           0.03           0.03           0.04          0.04          0.06             0.02         0.02          0"
      ]
     },
     "execution_count": 105,
     "metadata": {},
     "output_type": "execute_result"
    }
   ],
   "source": [
    "X1_test.potencial = encoder1.transform(X1_test.potencial.to_numpy().reshape(-1,1))\n",
    "X1_test.head(1)"
   ]
  },
  {
   "cell_type": "markdown",
   "id": "9ac14b02",
   "metadata": {
    "heading_collapsed": true,
    "hidden": true
   },
   "source": [
    "#### Response Variable Transformation"
   ]
  },
  {
   "cell_type": "markdown",
   "id": "5bbbd622",
   "metadata": {
    "hidden": true
   },
   "source": [
    "2.2 - Response Variable Transformation:\n",
    "- Aplica um log na variável resposta, transformando ela em algo próximo a uma distribuição normal."
   ]
  },
  {
   "cell_type": "markdown",
   "id": "cbe1c79d",
   "metadata": {
    "ExecuteTime": {
     "end_time": "2023-02-11T22:24:49.805419Z",
     "start_time": "2023-02-11T22:24:49.797565Z"
    },
    "hidden": true
   },
   "source": [
    "Será tratado em ciclos futuros. "
   ]
  },
  {
   "cell_type": "markdown",
   "id": "7edc7f9f",
   "metadata": {
    "heading_collapsed": true,
    "hidden": true
   },
   "source": [
    "## Seleção de Features"
   ]
  },
  {
   "cell_type": "markdown",
   "id": "643c65b6",
   "metadata": {
    "hidden": true
   },
   "source": [
    "Serão criados diversos datasets com features distintas, através de diferentes métodos de seleções de feature.\n",
    "\n",
    "O objetivo é realizar experimentações em um mesmo modelo, mantendo o dataset com as features com maior performance."
   ]
  },
  {
   "cell_type": "markdown",
   "id": "cde7eb54",
   "metadata": {
    "heading_collapsed": true,
    "hidden": true
   },
   "source": [
    "### Baseada na EDA"
   ]
  },
  {
   "cell_type": "markdown",
   "id": "edb71e22",
   "metadata": {
    "hidden": true
   },
   "source": [
    "Uma forma simples de selecionar as features, é escolher as com maior correlação posisitva com a variável alvo. \n",
    "\n",
    "Estas podem ser vistas no relatório do SweetViz da análise 1, exibido na EDA."
   ]
  },
  {
   "cell_type": "markdown",
   "id": "bcb7532f",
   "metadata": {
    "hidden": true
   },
   "source": [
    "Mantendo apenas as features selecionadas em \"X1_train\" \"X1_val\". "
   ]
  },
  {
   "cell_type": "code",
   "execution_count": 118,
   "id": "1a61e2cd",
   "metadata": {
    "ExecuteTime": {
     "end_time": "2023-02-11T22:28:54.614019Z",
     "start_time": "2023-02-11T22:28:54.597175Z"
    },
    "hidden": true
   },
   "outputs": [
    {
     "data": {
      "text/html": [
       "<div>\n",
       "<style scoped>\n",
       "    .dataframe tbody tr th:only-of-type {\n",
       "        vertical-align: middle;\n",
       "    }\n",
       "\n",
       "    .dataframe tbody tr th {\n",
       "        vertical-align: top;\n",
       "    }\n",
       "\n",
       "    .dataframe thead th {\n",
       "        text-align: right;\n",
       "    }\n",
       "</style>\n",
       "<table border=\"1\" class=\"dataframe\">\n",
       "  <thead>\n",
       "    <tr style=\"text-align: right;\">\n",
       "      <th></th>\n",
       "      <th>domicilios_a1</th>\n",
       "      <th>domicilios_a2</th>\n",
       "      <th>domicilios_b2</th>\n",
       "      <th>renda_media</th>\n",
       "      <th>potencial</th>\n",
       "    </tr>\n",
       "  </thead>\n",
       "  <tbody>\n",
       "    <tr>\n",
       "      <th>63</th>\n",
       "      <td>0.00</td>\n",
       "      <td>0.01</td>\n",
       "      <td>0.07</td>\n",
       "      <td>0.03</td>\n",
       "      <td>1</td>\n",
       "    </tr>\n",
       "  </tbody>\n",
       "</table>\n",
       "</div>"
      ],
      "text/plain": [
       "    domicilios_a1  domicilios_a2  domicilios_b2  renda_media  potencial\n",
       "63           0.00           0.01           0.07         0.03          1"
      ]
     },
     "execution_count": 118,
     "metadata": {},
     "output_type": "execute_result"
    }
   ],
   "source": [
    "X1_train_eda = X1_train[['domicilios_a1', 'domicilios_a2', 'domicilios_b2','renda_media','potencial']].copy()\n",
    "X1_val_eda = X1_val[['domicilios_a1', 'domicilios_a2',  'domicilios_b2','renda_media','potencial']].copy()\n",
    "X1_train_eda.head(1)"
   ]
  },
  {
   "cell_type": "markdown",
   "id": "47c9ce1f",
   "metadata": {
    "heading_collapsed": true,
    "hidden": true
   },
   "source": [
    "### Baseada no Público Alvo"
   ]
  },
  {
   "cell_type": "markdown",
   "id": "2b91f9aa",
   "metadata": {
    "hidden": true
   },
   "source": [
    "Consiste em simplesmente eliminar as features relacionadas a população e renda, não relacionadas diretamente com o público alvo."
   ]
  },
  {
   "cell_type": "code",
   "execution_count": 119,
   "id": "0f0cff1e",
   "metadata": {
    "ExecuteTime": {
     "end_time": "2023-02-11T22:29:01.641469Z",
     "start_time": "2023-02-11T22:29:01.627015Z"
    },
    "hidden": true
   },
   "outputs": [
    {
     "data": {
      "text/html": [
       "<div>\n",
       "<style scoped>\n",
       "    .dataframe tbody tr th:only-of-type {\n",
       "        vertical-align: middle;\n",
       "    }\n",
       "\n",
       "    .dataframe tbody tr th {\n",
       "        vertical-align: top;\n",
       "    }\n",
       "\n",
       "    .dataframe thead th {\n",
       "        text-align: right;\n",
       "    }\n",
       "</style>\n",
       "<table border=\"1\" class=\"dataframe\">\n",
       "  <thead>\n",
       "    <tr style=\"text-align: right;\">\n",
       "      <th></th>\n",
       "      <th>pop_alvo</th>\n",
       "      <th>domicilios_alvo</th>\n",
       "      <th>renda_media</th>\n",
       "      <th>potencial</th>\n",
       "    </tr>\n",
       "  </thead>\n",
       "  <tbody>\n",
       "    <tr>\n",
       "      <th>63</th>\n",
       "      <td>0.03</td>\n",
       "      <td>0.05</td>\n",
       "      <td>0.03</td>\n",
       "      <td>1</td>\n",
       "    </tr>\n",
       "  </tbody>\n",
       "</table>\n",
       "</div>"
      ],
      "text/plain": [
       "    pop_alvo  domicilios_alvo  renda_media  potencial\n",
       "63      0.03             0.05         0.03          1"
      ]
     },
     "execution_count": 119,
     "metadata": {},
     "output_type": "execute_result"
    }
   ],
   "source": [
    "X1_train_pa = X1_train[['pop_alvo', 'domicilios_alvo', 'renda_media', 'potencial']].copy()\n",
    "X1_val_pa = X1_val[['pop_alvo', 'domicilios_alvo', 'renda_media', 'potencial']].copy()\n",
    "X1_train_pa.head(1)"
   ]
  },
  {
   "cell_type": "markdown",
   "id": "263baff5",
   "metadata": {
    "heading_collapsed": true,
    "hidden": true
   },
   "source": [
    "### Estatística Univariada"
   ]
  },
  {
   "cell_type": "markdown",
   "id": "ba931517",
   "metadata": {
    "hidden": true
   },
   "source": [
    "Uma forma um pouco mais sofisticada, é utilizar a classe \"SelectKBest\" do scikit-learn para selecionar as features.\n",
    "\n",
    "Na estatística univariada, calcula-se a existência de uma relação estatisticamente significativa entre cada feature e a variável alvo. \n",
    "\n",
    "- Serão identificadas as \"K\" features com o maior P Valor, que provavelmente estão menos relacionadas com a feature alvo. Elas serão eliminadas, e as restantes em \"X1_train\" serão as selecionadas.\n",
    "- O método considera apenas cada feature individualmente x a variável alvo. Logo, desconsidera features combinadas que possam ser informativas."
   ]
  },
  {
   "cell_type": "code",
   "execution_count": 120,
   "id": "bdf38d1d",
   "metadata": {
    "ExecuteTime": {
     "end_time": "2023-02-11T22:29:23.932477Z",
     "start_time": "2023-02-11T22:29:23.917713Z"
    },
    "hidden": true
   },
   "outputs": [
    {
     "name": "stdout",
     "output_type": "stream",
     "text": [
      "Features selecionadas pelo SelectKBest: ['domicilios_b2', 'pop_de35a49', 'pop_de50a59', 'populacao']\n"
     ]
    }
   ],
   "source": [
    "sel_kbest = SelectKBest(score_func=f_regression, k=17) #score_func=f_regression para regressão\n",
    "sel_kbest.fit_transform(X1_train, y1_train)\n",
    "features_kbest = list(set(list(X1_train.columns)) - set(list(sel_kbest.get_feature_names_out())))\n",
    "print(f\"Features selecionadas pelo SelectKBest: {features_kbest}\")"
   ]
  },
  {
   "cell_type": "markdown",
   "id": "51a5a43b",
   "metadata": {
    "hidden": true
   },
   "source": [
    "Mantendo apenas as features selecionadas em \"X1_train\" \"X1_val\"."
   ]
  },
  {
   "cell_type": "code",
   "execution_count": 121,
   "id": "dd1f8db4",
   "metadata": {
    "ExecuteTime": {
     "end_time": "2023-02-11T22:30:13.905139Z",
     "start_time": "2023-02-11T22:30:13.889631Z"
    },
    "hidden": true
   },
   "outputs": [
    {
     "data": {
      "text/html": [
       "<div>\n",
       "<style scoped>\n",
       "    .dataframe tbody tr th:only-of-type {\n",
       "        vertical-align: middle;\n",
       "    }\n",
       "\n",
       "    .dataframe tbody tr th {\n",
       "        vertical-align: top;\n",
       "    }\n",
       "\n",
       "    .dataframe thead th {\n",
       "        text-align: right;\n",
       "    }\n",
       "</style>\n",
       "<table border=\"1\" class=\"dataframe\">\n",
       "  <thead>\n",
       "    <tr style=\"text-align: right;\">\n",
       "      <th></th>\n",
       "      <th>domicilios_b2</th>\n",
       "      <th>pop_de35a49</th>\n",
       "      <th>pop_de50a59</th>\n",
       "      <th>populacao</th>\n",
       "    </tr>\n",
       "  </thead>\n",
       "  <tbody>\n",
       "    <tr>\n",
       "      <th>63</th>\n",
       "      <td>0.07</td>\n",
       "      <td>0.03</td>\n",
       "      <td>0.03</td>\n",
       "      <td>0.02</td>\n",
       "    </tr>\n",
       "  </tbody>\n",
       "</table>\n",
       "</div>"
      ],
      "text/plain": [
       "    domicilios_b2  pop_de35a49  pop_de50a59  populacao\n",
       "63           0.07         0.03         0.03       0.02"
      ]
     },
     "execution_count": 121,
     "metadata": {},
     "output_type": "execute_result"
    }
   ],
   "source": [
    "X1_train_kbest = X1_train[features_kbest].copy() \n",
    "X1_val_kbest = X1_val[features_kbest].copy() \n",
    "X1_train_kbest.head(1)"
   ]
  },
  {
   "cell_type": "markdown",
   "id": "dce2d0ab",
   "metadata": {
    "heading_collapsed": true,
    "hidden": true
   },
   "source": [
    "### Baseada em Algoritmos"
   ]
  },
  {
   "cell_type": "markdown",
   "id": "7e7af16d",
   "metadata": {
    "hidden": true
   },
   "source": [
    "Outra forma ainda mais sofisticada, é utilizar machine learning para julgar a importância das features, mantendo as mais importantes (model-based feature selection). \n",
    "\n",
    "Será utilizada a classe \"SelectFromModel\" do scikit-learn para isto.\n",
    "- Neste método, um algoritmo precisa prover alguma medida de importância, para o rankeamento por esta medida.\n",
    "    - Modelos baseados em árvores proveem \"feature_importances_\", que encoda a importância de cada feature.\n",
    "    - Modelos lineares proveem \"coefficients\", que também podem ser utilizados para isto.\n",
    "- Será utilizada uma RandomForestRegressor com 100 árvores, e threshhold com um fator de escala multiplicado pela mediana.\n",
    "- Diferente da estatística univariada, com esta técnica é possível capturar interactions (features derivadas de outras), caso o modelo utilizado seja capáz de capturá-las."
   ]
  },
  {
   "cell_type": "code",
   "execution_count": 166,
   "id": "01dd8ffd",
   "metadata": {
    "ExecuteTime": {
     "end_time": "2023-02-11T22:41:05.849619Z",
     "start_time": "2023-02-11T22:41:05.796039Z"
    },
    "hidden": true
   },
   "outputs": [
    {
     "data": {
      "text/plain": [
       "array(['pop_ate9', 'pop_de10a14', 'pop_de25a34', 'pop_mais_de60',\n",
       "       'pop_alvo', 'domicilios_a1', 'domicilios_a2', 'domicilios_b1',\n",
       "       'domicilios_c2', 'domicilios_d', 'domicilios_e', 'renda_media'],\n",
       "      dtype=object)"
      ]
     },
     "execution_count": 166,
     "metadata": {},
     "output_type": "execute_result"
    }
   ],
   "source": [
    "sel_mbfs = SelectFromModel( RandomForestRegressor(n_estimators=10, random_state=0), threshold=\"0.6*median\") \n",
    "sel_mbfs.fit(X1_train, y1_train).transform(X1_train)\n",
    "features_mbfs = sel_mbfs.get_feature_names_out()\n",
    "features_mbfs"
   ]
  },
  {
   "cell_type": "markdown",
   "id": "68f00b09",
   "metadata": {
    "heading_collapsed": true,
    "hidden": true
   },
   "source": [
    "### Seleção final das Features"
   ]
  },
  {
   "cell_type": "markdown",
   "id": "aba53ffe",
   "metadata": {
    "hidden": true
   },
   "source": [
    "Um KNeighborsRegressor com os mesmos parâmetros será utilizado para escolher qual conjunto de features performa melhor. \n",
    "\n",
    "Os resultados serão avaliados e o dataset com maior performance será utilizado para treinar o baseline, e demais algoritmos na sequência."
   ]
  },
  {
   "cell_type": "code",
   "execution_count": 258,
   "id": "9b224e34",
   "metadata": {
    "ExecuteTime": {
     "end_time": "2023-02-12T00:01:36.855366Z",
     "start_time": "2023-02-12T00:01:36.800133Z"
    },
    "hidden": true
   },
   "outputs": [],
   "source": [
    "model_dict = {\"knn_reg\":      [\"knn_reg_yhat\",       X1_train,       X1_val,       \"knn_reg_rmse\",       \"KNN - mantendo todas as features\"],\n",
    "              \"knn_reg_eda\":  [\"knn_reg_eda_yhat\",   X1_train_eda,   X1_val_eda,   \"knn_reg_eda_rmse\",   \"KNN - apenas features com correlação positiva com var. alvo na EDA)\" ],\n",
    "              \"knn_reg_pa\":   [\"knn_reg_pa_yhat\",    X1_train_pa,    X1_val_pa,    \"knn_reg_pa_rmse\",    \"KNN - apenas features relacionadas com o público alvo\" ],\n",
    "              \"knn_reg_kbest\":[\"knn_reg_kbest_yhat\", X1_train_kbest, X1_val_kbest, \"knn_reg_kbest_rmse\", \"KNN - apenas features mais relac. com var. alvo (estatítica univariada) \" ],\n",
    "              \"knn_reg_mbfs\": [\"knn_reg_mbfs_yhat\",  X1_train_mbfs,  X1_val_mbfs,  \"knn_reg_mbfs_rmse\",  \"KNN - apenas features mais importantes de RandomForestReg. (model_based)\" ]}\n",
    "fs_res = []\n",
    "#para cada feature selection\n",
    "for mod_name, param in model_dict.items():\n",
    "    #instancia um KNN Regressor com mesmos parâmetros\n",
    "    mod_name = KNeighborsRegressor(n_neighbors=1)\n",
    "    #treina e prevê utilizando a feature selection\n",
    "    param[0] = mod_name.fit(param[1], y1_train).predict(param[2])\n",
    "    #calcula o erro RMSE da feature selection\n",
    "    param[3] = ml_error( param[4], y1_val, param[0] )\n",
    "    fs_res.append( param[3] )\n",
    "#concatena o retorno de cada feature selection em um mesmo dataframe\n",
    "fs_res_final = pd.concat(fs_res)"
   ]
  },
  {
   "cell_type": "code",
   "execution_count": 259,
   "id": "90106425",
   "metadata": {
    "ExecuteTime": {
     "end_time": "2023-02-12T00:01:37.244066Z",
     "start_time": "2023-02-12T00:01:37.231124Z"
    },
    "hidden": true
   },
   "outputs": [
    {
     "data": {
      "text/html": [
       "<div>\n",
       "<style scoped>\n",
       "    .dataframe tbody tr th:only-of-type {\n",
       "        vertical-align: middle;\n",
       "    }\n",
       "\n",
       "    .dataframe tbody tr th {\n",
       "        vertical-align: top;\n",
       "    }\n",
       "\n",
       "    .dataframe thead th {\n",
       "        text-align: right;\n",
       "    }\n",
       "</style>\n",
       "<table border=\"1\" class=\"dataframe\">\n",
       "  <thead>\n",
       "    <tr style=\"text-align: right;\">\n",
       "      <th></th>\n",
       "      <th>Model Name</th>\n",
       "      <th>MAE</th>\n",
       "      <th>MAPE</th>\n",
       "      <th>RMSE</th>\n",
       "    </tr>\n",
       "  </thead>\n",
       "  <tbody>\n",
       "    <tr>\n",
       "      <th>0</th>\n",
       "      <td>KNN - mantendo todas as features</td>\n",
       "      <td>77870.81</td>\n",
       "      <td>0.10</td>\n",
       "      <td>109586.55</td>\n",
       "    </tr>\n",
       "    <tr>\n",
       "      <th>0</th>\n",
       "      <td>KNN - apenas features com correlação positiva com var. alvo na EDA)</td>\n",
       "      <td>138841.33</td>\n",
       "      <td>0.43</td>\n",
       "      <td>182608.53</td>\n",
       "    </tr>\n",
       "    <tr>\n",
       "      <th>0</th>\n",
       "      <td>KNN - apenas features relacionadas com o público alvo</td>\n",
       "      <td>110953.86</td>\n",
       "      <td>0.12</td>\n",
       "      <td>183592.41</td>\n",
       "    </tr>\n",
       "    <tr>\n",
       "      <th>0</th>\n",
       "      <td>KNN - apenas features mais relac. com var. alvo (estatítica univariada)</td>\n",
       "      <td>206695.71</td>\n",
       "      <td>0.19</td>\n",
       "      <td>366582.59</td>\n",
       "    </tr>\n",
       "    <tr>\n",
       "      <th>0</th>\n",
       "      <td>KNN - apenas features mais importantes de RandomForestReg. (model_based)</td>\n",
       "      <td>68795.38</td>\n",
       "      <td>0.09</td>\n",
       "      <td>93722.18</td>\n",
       "    </tr>\n",
       "  </tbody>\n",
       "</table>\n",
       "</div>"
      ],
      "text/plain": [
       "                                                                 Model Name       MAE  MAPE      RMSE\n",
       "0                                          KNN - mantendo todas as features  77870.81  0.10 109586.55\n",
       "0       KNN - apenas features com correlação positiva com var. alvo na EDA) 138841.33  0.43 182608.53\n",
       "0                     KNN - apenas features relacionadas com o público alvo 110953.86  0.12 183592.41\n",
       "0  KNN - apenas features mais relac. com var. alvo (estatítica univariada)  206695.71  0.19 366582.59\n",
       "0  KNN - apenas features mais importantes de RandomForestReg. (model_based)  68795.38  0.09  93722.18"
      ]
     },
     "execution_count": 259,
     "metadata": {},
     "output_type": "execute_result"
    }
   ],
   "source": [
    "fs_res_final"
   ]
  },
  {
   "cell_type": "markdown",
   "id": "bdbc373a",
   "metadata": {
    "hidden": true
   },
   "source": [
    "Conjunto de features escolhidas: considerando o RMSE, o melhor conjunto de features (de menor erro) foi o baseado em algoritmos (model based selection)."
   ]
  },
  {
   "cell_type": "markdown",
   "id": "f2cb43f1",
   "metadata": {
    "hidden": true
   },
   "source": [
    "Sobre as métricas utilizadas: No ciclo 1, o R squared foi usado para a avaliação do modelo baseline de regressão, e agora o RMSE foi utilizando. \n",
    "- O RMSE informa o quão bem um modelo de regressão pode prever o valor de uma variável resposta em termos absolutos, e se torna mais interessante para comparar a performance de diferentes modelos de regressão linear que o R squared. \n",
    "- Interpretação do RMSE (Raiz quadrada do erro médio): A cada predição de faturamento para os bairros, o modelo erro em média ± R$ x,xx."
   ]
  },
  {
   "cell_type": "markdown",
   "id": "8e9ad076",
   "metadata": {
    "hidden": true
   },
   "source": [
    "Os erros MAE e MAPE também foram calculados, podendo ser úteis para reporte ao negócio:\n",
    "- MAE (Erro absoluto médio): É a diferença entre os valores preditos e reais.\n",
    "    - Atribui peso igual para todos os erros, logo \"dilui o outlier\", reduzindo seu peso. O RMSE dá mais peso ao outlier que o MAE, e por isso é utilizado para avaliação dos modelos.\n",
    "- MAPE (Erro absoluto médio em percentual): É a diferença percentual entre os valores preditos e reais.\n",
    "    - Interpretação: A cada predição de faturamento para os bairros, o modelo erro em média ± x% na previsão total.\n"
   ]
  },
  {
   "cell_type": "markdown",
   "id": "c9867eec",
   "metadata": {
    "hidden": true
   },
   "source": [
    "Mantendo apenas as features selecionadas nos demais datasets."
   ]
  },
  {
   "cell_type": "code",
   "execution_count": 167,
   "id": "87de87b9",
   "metadata": {
    "ExecuteTime": {
     "end_time": "2023-02-11T22:41:06.133580Z",
     "start_time": "2023-02-11T22:41:06.110191Z"
    },
    "hidden": true
   },
   "outputs": [
    {
     "data": {
      "text/html": [
       "<div>\n",
       "<style scoped>\n",
       "    .dataframe tbody tr th:only-of-type {\n",
       "        vertical-align: middle;\n",
       "    }\n",
       "\n",
       "    .dataframe tbody tr th {\n",
       "        vertical-align: top;\n",
       "    }\n",
       "\n",
       "    .dataframe thead th {\n",
       "        text-align: right;\n",
       "    }\n",
       "</style>\n",
       "<table border=\"1\" class=\"dataframe\">\n",
       "  <thead>\n",
       "    <tr style=\"text-align: right;\">\n",
       "      <th></th>\n",
       "      <th>pop_ate9</th>\n",
       "      <th>pop_de10a14</th>\n",
       "      <th>pop_de25a34</th>\n",
       "      <th>pop_mais_de60</th>\n",
       "      <th>pop_alvo</th>\n",
       "      <th>domicilios_a1</th>\n",
       "      <th>domicilios_a2</th>\n",
       "      <th>domicilios_b1</th>\n",
       "      <th>domicilios_c2</th>\n",
       "      <th>domicilios_d</th>\n",
       "      <th>domicilios_e</th>\n",
       "      <th>renda_media</th>\n",
       "    </tr>\n",
       "  </thead>\n",
       "  <tbody>\n",
       "    <tr>\n",
       "      <th>63</th>\n",
       "      <td>0.01</td>\n",
       "      <td>0.01</td>\n",
       "      <td>0.03</td>\n",
       "      <td>0.04</td>\n",
       "      <td>0.03</td>\n",
       "      <td>0.00</td>\n",
       "      <td>0.01</td>\n",
       "      <td>0.04</td>\n",
       "      <td>0.04</td>\n",
       "      <td>0.02</td>\n",
       "      <td>0.03</td>\n",
       "      <td>0.03</td>\n",
       "    </tr>\n",
       "  </tbody>\n",
       "</table>\n",
       "</div>"
      ],
      "text/plain": [
       "    pop_ate9  pop_de10a14  pop_de25a34  pop_mais_de60  pop_alvo  domicilios_a1  domicilios_a2  domicilios_b1  domicilios_c2  domicilios_d  domicilios_e  renda_media\n",
       "63      0.01         0.01         0.03           0.04      0.03           0.00           0.01           0.04           0.04          0.02          0.03         0.03"
      ]
     },
     "execution_count": 167,
     "metadata": {},
     "output_type": "execute_result"
    }
   ],
   "source": [
    "X1_train_mbfs = X1_train[features_mbfs].copy() \n",
    "X1_val_mbfs = X1_val[features_mbfs].copy() \n",
    "X1_trainval_mbfs = X1_trainval[features_mbfs].copy() \n",
    "X1_test_mbfs = X1_test[features_mbfs].copy() \n",
    "X1_train_mbfs.head(1)"
   ]
  },
  {
   "cell_type": "markdown",
   "id": "82987a64",
   "metadata": {
    "heading_collapsed": true,
    "hidden": true
   },
   "source": [
    "## Implementação de Baseline (Ciclo 1)"
   ]
  },
  {
   "cell_type": "markdown",
   "id": "1c8e0f52",
   "metadata": {
    "hidden": true
   },
   "source": [
    "Esta seção foi desenvolvida no ciclo 1, e será mantida para comparação da performance obtida contra este ciclo 3."
   ]
  },
  {
   "cell_type": "markdown",
   "id": "09d6bf78",
   "metadata": {
    "hidden": true
   },
   "source": [
    "Como algoritmo de machine learning de base, será implementado o KNN Regressor (K-Nearest Neighbors, ou \"K vizinhos mais próximos\") da biblioteca scikit-learn.\n",
    "- É um bom baseline por ser simples de implementar, explicar ao time de negócio, e demandar pouca parametrização.\n",
    "\n",
    "Funcionamento:\n",
    "- O KNN não constrói um modelo (é chamado de “lazy”), mas armazena o dataset de treino dentro dele.\n",
    "- Para prever um novo ponto sem rótulo, encontra o ponto mais próximo dele com rótulo armazenado, sendo seu \"nearest neighbor\".\n",
    "\n",
    "Premissas:\n",
    "- Receber apenas features numéricas, e na mesma escala (demanda pré processamento), pois realiza cálculos de distâncias entre os pontos."
   ]
  },
  {
   "cell_type": "markdown",
   "id": "a70c6db2",
   "metadata": {
    "hidden": true
   },
   "source": [
    "Manter apenas features numéricas, respeitando a premissa do KNN."
   ]
  },
  {
   "cell_type": "code",
   "execution_count": 33,
   "id": "8a970971",
   "metadata": {
    "ExecuteTime": {
     "end_time": "2023-02-10T10:04:35.303552Z",
     "start_time": "2023-02-10T10:04:35.278662Z"
    },
    "hidden": true
   },
   "outputs": [
    {
     "data": {
      "text/html": [
       "<div>\n",
       "<style scoped>\n",
       "    .dataframe tbody tr th:only-of-type {\n",
       "        vertical-align: middle;\n",
       "    }\n",
       "\n",
       "    .dataframe tbody tr th {\n",
       "        vertical-align: top;\n",
       "    }\n",
       "\n",
       "    .dataframe thead th {\n",
       "        text-align: right;\n",
       "    }\n",
       "</style>\n",
       "<table border=\"1\" class=\"dataframe\">\n",
       "  <thead>\n",
       "    <tr style=\"text-align: right;\">\n",
       "      <th></th>\n",
       "      <th>populacao</th>\n",
       "      <th>pop_ate9</th>\n",
       "      <th>pop_de10a14</th>\n",
       "      <th>pop_de15a19</th>\n",
       "      <th>pop_de20a24</th>\n",
       "      <th>pop_de25a34</th>\n",
       "      <th>pop_de35a49</th>\n",
       "      <th>pop_de50a59</th>\n",
       "      <th>pop_mais_de60</th>\n",
       "      <th>domicilios_a1</th>\n",
       "      <th>domicilios_a2</th>\n",
       "      <th>domicilios_b1</th>\n",
       "      <th>domicilios_b2</th>\n",
       "      <th>domicilios_c1</th>\n",
       "      <th>domicilios_c2</th>\n",
       "      <th>domicilios_d</th>\n",
       "      <th>domicilios_e</th>\n",
       "    </tr>\n",
       "  </thead>\n",
       "  <tbody>\n",
       "    <tr>\n",
       "      <th>63</th>\n",
       "      <td>16177</td>\n",
       "      <td>1516</td>\n",
       "      <td>748</td>\n",
       "      <td>1016</td>\n",
       "      <td>1174</td>\n",
       "      <td>2488</td>\n",
       "      <td>3497</td>\n",
       "      <td>2327</td>\n",
       "      <td>3411</td>\n",
       "      <td>0</td>\n",
       "      <td>141</td>\n",
       "      <td>857</td>\n",
       "      <td>1464</td>\n",
       "      <td>1740</td>\n",
       "      <td>1030</td>\n",
       "      <td>87</td>\n",
       "      <td>432</td>\n",
       "    </tr>\n",
       "  </tbody>\n",
       "</table>\n",
       "</div>"
      ],
      "text/plain": [
       "    populacao  pop_ate9  pop_de10a14  pop_de15a19  pop_de20a24  pop_de25a34  pop_de35a49  pop_de50a59  pop_mais_de60  domicilios_a1  domicilios_a2  domicilios_b1  domicilios_b2  domicilios_c1  domicilios_c2  domicilios_d  domicilios_e\n",
       "63      16177      1516          748         1016         1174         2488         3497         2327           3411              0            141            857           1464           1740           1030            87           432"
      ]
     },
     "execution_count": 33,
     "metadata": {},
     "output_type": "execute_result"
    }
   ],
   "source": [
    "X1_train = X1_train.select_dtypes(include=['int64', 'float64'])\n",
    "X1_val = X1_val.select_dtypes(include=['int64', 'float64'])\n",
    "X1_train.head(1)"
   ]
  },
  {
   "cell_type": "markdown",
   "id": "c654d1c5",
   "metadata": {
    "hidden": true
   },
   "source": [
    "Instanciar um KNN Regressor, treinar com os dados de treino, e realizar predições com os dados de validação.\n",
    "\n",
    "Será parametrizado neste ciclo um número de k=3, visando um modelo mais simples que o K=5 default, com a expectativa de uma maior capacidade de generalização. Nos próximos ciclos, serão avaliados diferentes valores de K, para comparação.  "
   ]
  },
  {
   "cell_type": "code",
   "execution_count": 34,
   "id": "5ef03b60",
   "metadata": {
    "ExecuteTime": {
     "end_time": "2023-02-10T10:04:35.681785Z",
     "start_time": "2023-02-10T10:04:35.666965Z"
    },
    "hidden": true
   },
   "outputs": [],
   "source": [
    "knn_reg = KNeighborsRegressor(n_neighbors=3)\n",
    "knn_reg.fit(X1_train, y1_train)\n",
    "knn_reg_yhat = knn_reg.predict(X1_val)"
   ]
  },
  {
   "cell_type": "markdown",
   "id": "3c4d92df",
   "metadata": {
    "hidden": true
   },
   "source": [
    "A métrica utilizada para medir a performance do modelo será a R squared (ou coeficiente de determinação).\n",
    "- Trata-se de uma medita estatística de quão próximos os dados estão da linha de regressão ajustada.\n",
    "- Varia entre entre 0 e 100%, sendo a porcentagem da variação da variável resposta que é explicada por um modelo linear.\n",
    "- Busca-se portanto, o valor mais próximo de 100% possível, sendo aqui a previsão de faturamento mais próxima da realidade possível."
   ]
  },
  {
   "cell_type": "code",
   "execution_count": 35,
   "id": "d93cc970",
   "metadata": {
    "ExecuteTime": {
     "end_time": "2023-02-10T10:04:37.214886Z",
     "start_time": "2023-02-10T10:04:37.203874Z"
    },
    "hidden": true
   },
   "outputs": [
    {
     "name": "stdout",
     "output_type": "stream",
     "text": [
      "R^2 com dados de Validação 0.5709\n"
     ]
    }
   ],
   "source": [
    "print(\"R^2 com dados de Validação {:.4f}\".format(knn_reg.score(X1_val, y1_val)))"
   ]
  },
  {
   "cell_type": "markdown",
   "id": "ae41fcef",
   "metadata": {
    "hidden": true
   },
   "source": [
    "Pode-se calcular também o R^2 a partir da predição do modelo, através do pacote \"metrics\" do scikit-sklearn."
   ]
  },
  {
   "cell_type": "code",
   "execution_count": 36,
   "id": "346d55ea",
   "metadata": {
    "ExecuteTime": {
     "end_time": "2023-02-10T10:04:37.956723Z",
     "start_time": "2023-02-10T10:04:37.949010Z"
    },
    "hidden": true
   },
   "outputs": [
    {
     "name": "stdout",
     "output_type": "stream",
     "text": [
      "R^2 com dados de Validação: 0.5709\n"
     ]
    }
   ],
   "source": [
    "print(f\"R^2 com dados de Validação: {round(r2_score(y1_val, knn_reg_yhat),4)}\")"
   ]
  },
  {
   "cell_type": "markdown",
   "id": "e4d72450",
   "metadata": {
    "hidden": true
   },
   "source": [
    "O R Squared do KNN foi satisfatório neste primeiro ciclo. Possivlmente a métrica pode ser melhorada, por meio de:\n",
    "- Reescala de dados.\n",
    "- Seleção de features, removendo as não informativas e aquelas não relacionadas ao público alvo.\n",
    "- Seleção de diferentes valores para K, bem como tunagem de hiperparâmetros no modelo.\n",
    "- Avaliação da presença de outliers, que podem distorcer os cálculos de distâncias.\n",
    "\n",
    "Nos próximos ciclos, estes temas serão tratados, e novos algoritmos com diferentes abordagens também serão implementados.\n",
    "\n",
    "No último ciclo, será avaliada a capacidade de generalização do modelo final (de melhor performance), realizando a previsão com os dados de teste."
   ]
  },
  {
   "cell_type": "markdown",
   "id": "79284d35",
   "metadata": {
    "heading_collapsed": true,
    "hidden": true
   },
   "source": [
    "## Comparação com o Baseline"
   ]
  },
  {
   "cell_type": "markdown",
   "id": "7db31697",
   "metadata": {
    "hidden": true
   },
   "source": [
    "Esta seção e as subsequêntes dentro da análise 1, foram implementadas no ciclo 3."
   ]
  },
  {
   "cell_type": "markdown",
   "id": "d61a8a11",
   "metadata": {
    "hidden": true
   },
   "source": [
    "Percebe-se que 3 dos 4 pontos de melhoria identificados no ciclo 1 (seçao anterior) foram sanados. O quarto (seleção de diferentes números de K) será também tratado na sequência.\n",
    "\n",
    "Mapeamento dos split do dataset já preparados, para facilitar o treinamento de modelos:\n",
    "- X --> X1_train_mbfs, X1_val_mbfs, X1_trainval_mbfs, X1_test_mbfs\n",
    "- y --> y1_train,      y1_val,      y1_trainval,      y1_test"
   ]
  },
  {
   "cell_type": "markdown",
   "id": "256f9465",
   "metadata": {
    "hidden": true
   },
   "source": [
    "Treinar KNN com mesmos parâmetros do ciclo 1."
   ]
  },
  {
   "cell_type": "code",
   "execution_count": 260,
   "id": "f452e6bb",
   "metadata": {
    "ExecuteTime": {
     "end_time": "2023-02-12T00:02:07.703504Z",
     "start_time": "2023-02-12T00:02:07.691082Z"
    },
    "hidden": true
   },
   "outputs": [],
   "source": [
    "knn_reg_c2 = KNeighborsRegressor(n_neighbors=3)\n",
    "knn_reg_c2.fit(X1_train_mbfs, y1_train)\n",
    "knn_reg_c2_yhat = knn_reg_c2.predict(X1_val_mbfs)"
   ]
  },
  {
   "cell_type": "markdown",
   "id": "8b240cef",
   "metadata": {
    "hidden": true
   },
   "source": [
    "Inspeção manual de Amostras."
   ]
  },
  {
   "cell_type": "code",
   "execution_count": 261,
   "id": "6c65a374",
   "metadata": {
    "ExecuteTime": {
     "end_time": "2023-02-12T00:02:08.925940Z",
     "start_time": "2023-02-12T00:02:08.917707Z"
    },
    "hidden": true
   },
   "outputs": [
    {
     "name": "stdout",
     "output_type": "stream",
     "text": [
      "[ 742261.  750214.  779966. 1902351.]\n",
      "[ 641865  736698  764380 2119774]\n"
     ]
    }
   ],
   "source": [
    "print(knn_reg_c2_yhat[:4])\n",
    "print(y1_val[:4].values)"
   ]
  },
  {
   "cell_type": "markdown",
   "id": "f298b6e9",
   "metadata": {
    "hidden": true
   },
   "source": [
    "Ao utilizar a métrica R^2, apenas para fins de comparação com o ciclo 1. Na prática, um Rˆ2 maior acompanha um RMSE menor."
   ]
  },
  {
   "cell_type": "code",
   "execution_count": 264,
   "id": "b503d455",
   "metadata": {
    "ExecuteTime": {
     "end_time": "2023-02-12T00:02:16.836135Z",
     "start_time": "2023-02-12T00:02:16.824978Z"
    },
    "hidden": true
   },
   "outputs": [
    {
     "name": "stdout",
     "output_type": "stream",
     "text": [
      "R^2 com dados de Validação 0.9315\n"
     ]
    }
   ],
   "source": [
    "print(\"R^2 com dados de Validação {:.4f}\".format(knn_reg_c2.score(X1_val_mbfs, y1_val)))"
   ]
  },
  {
   "cell_type": "markdown",
   "id": "6c022768",
   "metadata": {
    "hidden": true
   },
   "source": [
    "Houve um ganho substancial após as melhorias implementadas. "
   ]
  },
  {
   "cell_type": "markdown",
   "id": "a0fdabd6",
   "metadata": {
    "ExecuteTime": {
     "end_time": "2023-02-12T00:37:20.649593Z",
     "start_time": "2023-02-12T00:37:20.640448Z"
    },
    "hidden": true
   },
   "source": [
    "Nas próximas seções, serão utilizadas técnicas para melhoria de performance dos modelos, bem como outros modelos também serão experimentados."
   ]
  },
  {
   "cell_type": "markdown",
   "id": "43ab659f",
   "metadata": {
    "heading_collapsed": true,
    "hidden": true
   },
   "source": [
    "## KNN Regressor"
   ]
  },
  {
   "cell_type": "markdown",
   "id": "5f2a7e7b",
   "metadata": {
    "hidden": true
   },
   "source": [
    "A seguir, será implmentado um KNN Regressor com Grid Search + Cross Validation.\n",
    "\n",
    "O objetivo do Grid Search (uma forma de fine tuning) é encontrar os melhores parâmetros para o modelo, visando uma maior perfomance. \n",
    "- Os possíveis parâmetros serão definidos abaixo, e um modelo será gerado para cada possibilidades de combinação pelo Grid Search.\n",
    "\n",
    "O Cross Validation é um método estatístico que serve para avaliar a performance de modelos, considerando as diferentes possíveis divisões do dataset. \n",
    "- Abaixo, será realizada uma divisão de 10 partes no dataset, e obtido o cálculo do score médio de cada parte."
   ]
  },
  {
   "cell_type": "code",
   "execution_count": 356,
   "id": "74b37abe",
   "metadata": {
    "ExecuteTime": {
     "end_time": "2023-02-12T01:01:17.505465Z",
     "start_time": "2023-02-12T01:01:16.476319Z"
    },
    "hidden": true
   },
   "outputs": [],
   "source": [
    "knn_param_grid = {'n_neighbors':[1,2,3,4,5,6,7,8], 'weights':['uniform','distance']}\n",
    "#instanciar GridSearchCV com KNNRegressor e treinar o modelo\n",
    "knn_reg_gscv = GridSearchCV(KNeighborsRegressor(), knn_param_grid, cv=10).fit(X1_train_mbfs, y1_train)"
   ]
  },
  {
   "cell_type": "markdown",
   "id": "d1ec62ea",
   "metadata": {
    "ExecuteTime": {
     "end_time": "2023-02-11T23:47:55.751376Z",
     "start_time": "2023-02-11T23:47:55.742497Z"
    },
    "hidden": true
   },
   "source": [
    "Analisar os melhores parâmetros do KNN. "
   ]
  },
  {
   "cell_type": "code",
   "execution_count": 357,
   "id": "0f1a7588",
   "metadata": {
    "ExecuteTime": {
     "end_time": "2023-02-12T01:01:19.209341Z",
     "start_time": "2023-02-12T01:01:19.201370Z"
    },
    "hidden": true
   },
   "outputs": [
    {
     "name": "stdout",
     "output_type": "stream",
     "text": [
      "Melhores parâmetros: {'n_neighbors': 3, 'weights': 'distance'}\n"
     ]
    }
   ],
   "source": [
    "print(f\"Melhores parâmetros: {knn_reg_gscv.best_params_}\")"
   ]
  },
  {
   "cell_type": "markdown",
   "id": "0825226e",
   "metadata": {
    "ExecuteTime": {
     "end_time": "2023-02-11T23:52:53.121785Z",
     "start_time": "2023-02-11T23:52:53.112019Z"
    },
    "hidden": true
   },
   "source": [
    "Predição em cima dos dados de validação."
   ]
  },
  {
   "cell_type": "code",
   "execution_count": 358,
   "id": "81e8218b",
   "metadata": {
    "ExecuteTime": {
     "end_time": "2023-02-12T01:01:19.882323Z",
     "start_time": "2023-02-12T01:01:19.873999Z"
    },
    "hidden": true
   },
   "outputs": [],
   "source": [
    "knn_reg_gscv_yhat = knn_reg_gscv.predict(X1_val_mbfs)"
   ]
  },
  {
   "cell_type": "code",
   "execution_count": 359,
   "id": "b2fe6690",
   "metadata": {
    "ExecuteTime": {
     "end_time": "2023-02-12T01:01:20.181522Z",
     "start_time": "2023-02-12T01:01:20.165850Z"
    },
    "hidden": true,
    "scrolled": true
   },
   "outputs": [
    {
     "data": {
      "text/html": [
       "<div>\n",
       "<style scoped>\n",
       "    .dataframe tbody tr th:only-of-type {\n",
       "        vertical-align: middle;\n",
       "    }\n",
       "\n",
       "    .dataframe tbody tr th {\n",
       "        vertical-align: top;\n",
       "    }\n",
       "\n",
       "    .dataframe thead th {\n",
       "        text-align: right;\n",
       "    }\n",
       "</style>\n",
       "<table border=\"1\" class=\"dataframe\">\n",
       "  <thead>\n",
       "    <tr style=\"text-align: right;\">\n",
       "      <th></th>\n",
       "      <th>Model Name</th>\n",
       "      <th>MAE</th>\n",
       "      <th>MAPE</th>\n",
       "      <th>RMSE</th>\n",
       "    </tr>\n",
       "  </thead>\n",
       "  <tbody>\n",
       "    <tr>\n",
       "      <th>0</th>\n",
       "      <td>knn_reg_gscva</td>\n",
       "      <td>75002.50</td>\n",
       "      <td>0.17</td>\n",
       "      <td>121608.58</td>\n",
       "    </tr>\n",
       "  </tbody>\n",
       "</table>\n",
       "</div>"
      ],
      "text/plain": [
       "      Model Name      MAE  MAPE      RMSE\n",
       "0  knn_reg_gscva 75002.50  0.17 121608.58"
      ]
     },
     "execution_count": 359,
     "metadata": {},
     "output_type": "execute_result"
    }
   ],
   "source": [
    "knn_reg_gscva_score = ml_error('knn_reg_gscva', y1_val, knn_reg_gscv_yhat )\n",
    "knn_reg_gscva_score"
   ]
  },
  {
   "cell_type": "markdown",
   "id": "9ba25540",
   "metadata": {
    "hidden": true
   },
   "source": [
    "O resultado do KNN com seus melhores parâmetros servirá de base, para comparação com os próximos modelos implementados."
   ]
  },
  {
   "cell_type": "markdown",
   "id": "a08e11f3",
   "metadata": {
    "heading_collapsed": true,
    "hidden": true
   },
   "source": [
    "## Regressão Linear - Lasso"
   ]
  },
  {
   "cell_type": "markdown",
   "id": "0a9be58d",
   "metadata": {
    "hidden": true
   },
   "source": [
    "Será avaliado na sequência um modelo de regressão linear chamado Lasso.\n",
    "- Como o dataset tem poucos registros, é imporante regularizar o modelo: reduzir sua complexidade, para evitar overfitting.\n",
    "- Ele foi escolhido pois assume-se que só algumas features são importantes, logo cabe o uso da regularização L1 (implementada pelo Lasso). O Lasso ignora totalmente algumas features, revelando as mais importantes.\n",
    "- Serão utilizados os parâmetros:\n",
    "    - \"alpha\": controla a força com que os coeficientes são empurrados para zero. Aumentando, reduz-se o overfitting.\n",
    "    - \"max_iter\": número máximo de iterações a serem executadas, precisa ser aumentado ao aumentar o alpha."
   ]
  },
  {
   "cell_type": "code",
   "execution_count": 360,
   "id": "f9405ac5",
   "metadata": {
    "ExecuteTime": {
     "end_time": "2023-02-12T01:01:25.170221Z",
     "start_time": "2023-02-12T01:01:23.082301Z"
    },
    "hidden": true
   },
   "outputs": [],
   "source": [
    "lasso_param_grid = {'alpha':[1,10,100,1000,10000], 'max_iter':[100000,100000]}\n",
    "#instanciar GridSearchCV com Lasso e treinar o modelo\n",
    "lasso_reg_gscv = GridSearchCV(Lasso(random_state=0), lasso_param_grid, cv=10).fit(X1_train_mbfs, y1_train)"
   ]
  },
  {
   "cell_type": "markdown",
   "id": "ad1c3ce1",
   "metadata": {
    "ExecuteTime": {
     "end_time": "2023-02-11T23:47:55.751376Z",
     "start_time": "2023-02-11T23:47:55.742497Z"
    },
    "hidden": true
   },
   "source": [
    "Analisar os melhores parâmetros do Lasso. "
   ]
  },
  {
   "cell_type": "code",
   "execution_count": 361,
   "id": "e84ccfaa",
   "metadata": {
    "ExecuteTime": {
     "end_time": "2023-02-12T01:01:25.187240Z",
     "start_time": "2023-02-12T01:01:25.179520Z"
    },
    "hidden": true
   },
   "outputs": [
    {
     "name": "stdout",
     "output_type": "stream",
     "text": [
      "Melhores parâmetros: {'alpha': 1000, 'max_iter': 100000}\n"
     ]
    }
   ],
   "source": [
    "print(f\"Melhores parâmetros: {lasso_reg_gscv.best_params_}\")"
   ]
  },
  {
   "cell_type": "markdown",
   "id": "92e8bc8a",
   "metadata": {
    "ExecuteTime": {
     "end_time": "2023-02-11T23:52:53.121785Z",
     "start_time": "2023-02-11T23:52:53.112019Z"
    },
    "hidden": true
   },
   "source": [
    "Predição em cima dos dados de validação."
   ]
  },
  {
   "cell_type": "code",
   "execution_count": 362,
   "id": "eb1eabd7",
   "metadata": {
    "ExecuteTime": {
     "end_time": "2023-02-12T01:01:25.206798Z",
     "start_time": "2023-02-12T01:01:25.196142Z"
    },
    "hidden": true
   },
   "outputs": [],
   "source": [
    "lasso_reg_gscv_yhat = lasso_reg_gscv.predict(X1_val_mbfs)"
   ]
  },
  {
   "cell_type": "code",
   "execution_count": 363,
   "id": "63297163",
   "metadata": {
    "ExecuteTime": {
     "end_time": "2023-02-12T01:01:25.236039Z",
     "start_time": "2023-02-12T01:01:25.218611Z"
    },
    "hidden": true,
    "scrolled": true
   },
   "outputs": [
    {
     "data": {
      "text/html": [
       "<div>\n",
       "<style scoped>\n",
       "    .dataframe tbody tr th:only-of-type {\n",
       "        vertical-align: middle;\n",
       "    }\n",
       "\n",
       "    .dataframe tbody tr th {\n",
       "        vertical-align: top;\n",
       "    }\n",
       "\n",
       "    .dataframe thead th {\n",
       "        text-align: right;\n",
       "    }\n",
       "</style>\n",
       "<table border=\"1\" class=\"dataframe\">\n",
       "  <thead>\n",
       "    <tr style=\"text-align: right;\">\n",
       "      <th></th>\n",
       "      <th>Model Name</th>\n",
       "      <th>MAE</th>\n",
       "      <th>MAPE</th>\n",
       "      <th>RMSE</th>\n",
       "    </tr>\n",
       "  </thead>\n",
       "  <tbody>\n",
       "    <tr>\n",
       "      <th>0</th>\n",
       "      <td>lasso_reg_gscva</td>\n",
       "      <td>106338.48</td>\n",
       "      <td>0.37</td>\n",
       "      <td>164061.91</td>\n",
       "    </tr>\n",
       "  </tbody>\n",
       "</table>\n",
       "</div>"
      ],
      "text/plain": [
       "        Model Name       MAE  MAPE      RMSE\n",
       "0  lasso_reg_gscva 106338.48  0.37 164061.91"
      ]
     },
     "execution_count": 363,
     "metadata": {},
     "output_type": "execute_result"
    }
   ],
   "source": [
    "lasso_reg_gscva_score = ml_error('lasso_reg_gscva', y1_val, lasso_reg_gscv_yhat)\n",
    "lasso_reg_gscva_score"
   ]
  },
  {
   "cell_type": "markdown",
   "id": "b325a81a",
   "metadata": {
    "ExecuteTime": {
     "end_time": "2023-02-12T00:49:44.637290Z",
     "start_time": "2023-02-12T00:49:44.632129Z"
    },
    "hidden": true
   },
   "source": [
    "Modelos lineares são muito poderosos em datasets com muitas features, e tendem a não ter um desempenho tão satisfatória em datasets com poucos registros. É o que foi constatado acima.\n",
    "\n",
    "Na sequências, um modelo baseado em árvores será utilizado."
   ]
  },
  {
   "cell_type": "markdown",
   "id": "3c3a8f5a",
   "metadata": {
    "heading_collapsed": true,
    "hidden": true
   },
   "source": [
    "## XGBoost Regressor"
   ]
  },
  {
   "cell_type": "markdown",
   "id": "1eb499ce",
   "metadata": {
    "hidden": true
   },
   "source": [
    "O XGBoost (Extreme Gradient Boosting) é um ensembles de Decision Trees (árvores de decisão). Ensembles são métodos que combinam múltiplos modelos de machine learning para criar modelos ainda mais poderosos.\n",
    "- Gradient Boostings estão entre os mais poderosos e amplamente utilizados modelos de ML de aprendizagem supervisionada.\n",
    "- A principal vantágem do Gradient Boosting é combinar vários modelos simples (weak learners), como swallow trees (árvores rasas). Cada modelo só provê um bom resultado em parte dos dados, mas adicionando mais árvores, melhora-se a performance geral.\n",
    "- São mais sensíveis a parâmetros que as Random Forests, mas podem prover maior acurácia, se parametrizados adequadamente.\n",
    "- A escolha dos parâmetros e sua tunagem priorizou o controle de overfitting. "
   ]
  },
  {
   "cell_type": "code",
   "execution_count": 618,
   "id": "ae3a5268",
   "metadata": {
    "ExecuteTime": {
     "end_time": "2023-02-12T02:04:45.235631Z",
     "start_time": "2023-02-12T02:04:41.831631Z"
    },
    "hidden": true
   },
   "outputs": [],
   "source": [
    "xgb_param_grid = {'n_estimators':[50], 'max_depth':[4], 'min_child_weight':[4], 'colsample_bytree':[0.5, 0.9], 'eta':[0.1,0,2]}\n",
    "#instanciar GridSearchCV com XGBRegressor e treinar o modelo\n",
    "xgb_reg_gscv = GridSearchCV(xgb.XGBRegressor(), xgb_param_grid, cv=10).fit(X1_train_mbfs, y1_train)"
   ]
  },
  {
   "cell_type": "markdown",
   "id": "b3065bb0",
   "metadata": {
    "ExecuteTime": {
     "end_time": "2023-02-11T23:47:55.751376Z",
     "start_time": "2023-02-11T23:47:55.742497Z"
    },
    "hidden": true
   },
   "source": [
    "Analisar os melhores parâmetros do XGBoost. "
   ]
  },
  {
   "cell_type": "code",
   "execution_count": 619,
   "id": "7950f3f9",
   "metadata": {
    "ExecuteTime": {
     "end_time": "2023-02-12T02:04:45.264148Z",
     "start_time": "2023-02-12T02:04:45.244321Z"
    },
    "hidden": true
   },
   "outputs": [
    {
     "name": "stdout",
     "output_type": "stream",
     "text": [
      "Melhores parâmetros: {'colsample_bytree': 0.5, 'eta': 0.1, 'max_depth': 4, 'min_child_weight': 4, 'n_estimators': 50}\n"
     ]
    }
   ],
   "source": [
    "print(f\"Melhores parâmetros: {xgb_reg_gscv.best_params_}\")"
   ]
  },
  {
   "cell_type": "markdown",
   "id": "440e8c89",
   "metadata": {
    "ExecuteTime": {
     "end_time": "2023-02-11T23:52:53.121785Z",
     "start_time": "2023-02-11T23:52:53.112019Z"
    },
    "hidden": true
   },
   "source": [
    "Predição em cima dos dados de validação."
   ]
  },
  {
   "cell_type": "code",
   "execution_count": 620,
   "id": "dda8c169",
   "metadata": {
    "ExecuteTime": {
     "end_time": "2023-02-12T02:04:45.293035Z",
     "start_time": "2023-02-12T02:04:45.270177Z"
    },
    "hidden": true
   },
   "outputs": [],
   "source": [
    "xgb_reg_gscv_yhat = xgb_reg_gscv.predict(X1_val_mbfs)"
   ]
  },
  {
   "cell_type": "code",
   "execution_count": 621,
   "id": "eddf3e5d",
   "metadata": {
    "ExecuteTime": {
     "end_time": "2023-02-12T02:04:45.343896Z",
     "start_time": "2023-02-12T02:04:45.314479Z"
    },
    "hidden": true,
    "scrolled": true
   },
   "outputs": [
    {
     "data": {
      "text/html": [
       "<div>\n",
       "<style scoped>\n",
       "    .dataframe tbody tr th:only-of-type {\n",
       "        vertical-align: middle;\n",
       "    }\n",
       "\n",
       "    .dataframe tbody tr th {\n",
       "        vertical-align: top;\n",
       "    }\n",
       "\n",
       "    .dataframe thead th {\n",
       "        text-align: right;\n",
       "    }\n",
       "</style>\n",
       "<table border=\"1\" class=\"dataframe\">\n",
       "  <thead>\n",
       "    <tr style=\"text-align: right;\">\n",
       "      <th></th>\n",
       "      <th>Model Name</th>\n",
       "      <th>MAE</th>\n",
       "      <th>MAPE</th>\n",
       "      <th>RMSE</th>\n",
       "    </tr>\n",
       "  </thead>\n",
       "  <tbody>\n",
       "    <tr>\n",
       "      <th>0</th>\n",
       "      <td>xgb_reg_gscva</td>\n",
       "      <td>68881.02</td>\n",
       "      <td>0.16</td>\n",
       "      <td>102609.99</td>\n",
       "    </tr>\n",
       "  </tbody>\n",
       "</table>\n",
       "</div>"
      ],
      "text/plain": [
       "      Model Name      MAE  MAPE      RMSE\n",
       "0  xgb_reg_gscva 68881.02  0.16 102609.99"
      ]
     },
     "execution_count": 621,
     "metadata": {},
     "output_type": "execute_result"
    }
   ],
   "source": [
    "xgb_reg_gscva_score = ml_error('xgb_reg_gscva', y1_val, xgb_reg_gscv_yhat)\n",
    "xgb_reg_gscva_score"
   ]
  },
  {
   "cell_type": "markdown",
   "id": "f90c0d34",
   "metadata": {
    "hidden": true
   },
   "source": [
    "A performance foi satisfatória.\n",
    "\n",
    "É possível atingir um RMSE consideravelemnte menor em dados de validação, porém é preciso controlar o overfitting, visto que o objetivo é uma boa performance em dados de teste, e não apenas em dados de validação."
   ]
  },
  {
   "cell_type": "markdown",
   "id": "ca5c2f3f",
   "metadata": {
    "heading_collapsed": true,
    "hidden": true
   },
   "source": [
    "## Performance dos Modelos"
   ]
  },
  {
   "cell_type": "markdown",
   "id": "aa2f8673",
   "metadata": {
    "hidden": true
   },
   "source": [
    "A tabela abaixo detalha a melhor performance obtida com cada modelo de machine learning, já com fine tuning e cross validation."
   ]
  },
  {
   "cell_type": "code",
   "execution_count": 622,
   "id": "8647b4e9",
   "metadata": {
    "ExecuteTime": {
     "end_time": "2023-02-12T02:04:47.367398Z",
     "start_time": "2023-02-12T02:04:47.352654Z"
    },
    "hidden": true
   },
   "outputs": [
    {
     "data": {
      "text/html": [
       "<div>\n",
       "<style scoped>\n",
       "    .dataframe tbody tr th:only-of-type {\n",
       "        vertical-align: middle;\n",
       "    }\n",
       "\n",
       "    .dataframe tbody tr th {\n",
       "        vertical-align: top;\n",
       "    }\n",
       "\n",
       "    .dataframe thead th {\n",
       "        text-align: right;\n",
       "    }\n",
       "</style>\n",
       "<table border=\"1\" class=\"dataframe\">\n",
       "  <thead>\n",
       "    <tr style=\"text-align: right;\">\n",
       "      <th></th>\n",
       "      <th>Model Name</th>\n",
       "      <th>MAE</th>\n",
       "      <th>MAPE</th>\n",
       "      <th>RMSE</th>\n",
       "    </tr>\n",
       "  </thead>\n",
       "  <tbody>\n",
       "    <tr>\n",
       "      <th>0</th>\n",
       "      <td>knn_reg_gscva</td>\n",
       "      <td>75002.50</td>\n",
       "      <td>0.17</td>\n",
       "      <td>121608.58</td>\n",
       "    </tr>\n",
       "    <tr>\n",
       "      <th>0</th>\n",
       "      <td>lasso_reg_gscva</td>\n",
       "      <td>106338.48</td>\n",
       "      <td>0.37</td>\n",
       "      <td>164061.91</td>\n",
       "    </tr>\n",
       "    <tr>\n",
       "      <th>0</th>\n",
       "      <td>xgb_reg_gscva</td>\n",
       "      <td>68881.02</td>\n",
       "      <td>0.16</td>\n",
       "      <td>102609.99</td>\n",
       "    </tr>\n",
       "  </tbody>\n",
       "</table>\n",
       "</div>"
      ],
      "text/plain": [
       "        Model Name       MAE  MAPE      RMSE\n",
       "0    knn_reg_gscva  75002.50  0.17 121608.58\n",
       "0  lasso_reg_gscva 106338.48  0.37 164061.91\n",
       "0    xgb_reg_gscva  68881.02  0.16 102609.99"
      ]
     },
     "execution_count": 622,
     "metadata": {},
     "output_type": "execute_result"
    }
   ],
   "source": [
    "df_an1_scores = pd.concat([knn_reg_gscva_score,lasso_reg_gscva_score,xgb_reg_gscva_score])\n",
    "df_an1_scores"
   ]
  },
  {
   "cell_type": "markdown",
   "id": "6c99afbd",
   "metadata": {
    "hidden": true
   },
   "source": [
    "O modelo de melhor performance foi o XGBoost, e ele será utilizado para a sequência da análise. "
   ]
  },
  {
   "cell_type": "markdown",
   "id": "947dddb9",
   "metadata": {
    "heading_collapsed": true,
    "hidden": true
   },
   "source": [
    "## Performance de Generalização"
   ]
  },
  {
   "cell_type": "markdown",
   "id": "b92093a8",
   "metadata": {
    "hidden": true
   },
   "source": [
    "Agora, diferente do realizado até aqui, o modelo irá fazer a predição em cima dos dados de teste.\n",
    "\n",
    "Desta forma, será possível avaliar a sua capacidade de generalização (prever dados inéditos), simulando dados de produção (SP). \n",
    "\n",
    "Os parêmetros utilizados serão os mesmos dos utilizados no XGBoost de melhor performance com dados de validação."
   ]
  },
  {
   "cell_type": "code",
   "execution_count": 767,
   "id": "68a49be0",
   "metadata": {
    "ExecuteTime": {
     "end_time": "2023-02-12T02:59:51.322119Z",
     "start_time": "2023-02-12T02:59:51.225131Z"
    },
    "hidden": true
   },
   "outputs": [],
   "source": [
    "xgb_tuning = {'colsample_bytree': 0.5, 'max_depth': 4, 'min_child_weight': 4, 'n_estimators': 50, 'eta':0.1}\n",
    "#treina com melhores parâmetros\n",
    "xgb_reg_gscva_tuned = xgb.XGBRegressor( \n",
    "                                        max_depth = xgb_tuning['max_depth'],\n",
    "                                        min_child_weight = xgb_tuning['min_child_weight'],\n",
    "                                        n_estimators = xgb_tuning['n_estimators'],\n",
    "                                        colsample_bytree = xgb_tuning['colsample_bytree'],\n",
    "                                        eta = xgb_tuning['eta']\n",
    "                                    ).fit( X1_train_mbfs, y1_train )\n",
    "#prediz contra teste\n",
    "xgb_reg_gscva_tuned_yhat = xgb_reg_gscva_tuned.predict( X1_test_mbfs )"
   ]
  },
  {
   "cell_type": "code",
   "execution_count": 768,
   "id": "b6c4b8f3",
   "metadata": {
    "ExecuteTime": {
     "end_time": "2023-02-12T02:59:51.763697Z",
     "start_time": "2023-02-12T02:59:51.748746Z"
    },
    "hidden": true
   },
   "outputs": [
    {
     "data": {
      "text/html": [
       "<div>\n",
       "<style scoped>\n",
       "    .dataframe tbody tr th:only-of-type {\n",
       "        vertical-align: middle;\n",
       "    }\n",
       "\n",
       "    .dataframe tbody tr th {\n",
       "        vertical-align: top;\n",
       "    }\n",
       "\n",
       "    .dataframe thead th {\n",
       "        text-align: right;\n",
       "    }\n",
       "</style>\n",
       "<table border=\"1\" class=\"dataframe\">\n",
       "  <thead>\n",
       "    <tr style=\"text-align: right;\">\n",
       "      <th></th>\n",
       "      <th>Model Name</th>\n",
       "      <th>MAE</th>\n",
       "      <th>MAPE</th>\n",
       "      <th>RMSE</th>\n",
       "    </tr>\n",
       "  </thead>\n",
       "  <tbody>\n",
       "    <tr>\n",
       "      <th>0</th>\n",
       "      <td>XGBoost Regressor Final</td>\n",
       "      <td>49556.75</td>\n",
       "      <td>0.18</td>\n",
       "      <td>63924.58</td>\n",
       "    </tr>\n",
       "  </tbody>\n",
       "</table>\n",
       "</div>"
      ],
      "text/plain": [
       "                Model Name      MAE  MAPE     RMSE\n",
       "0  XGBoost Regressor Final 49556.75  0.18 63924.58"
      ]
     },
     "execution_count": 768,
     "metadata": {},
     "output_type": "execute_result"
    }
   ],
   "source": [
    "xgb_reg_gscva_tuned_final = ml_error('XGBoost Regressor Final', y1_test, xgb_reg_gscva_tuned_yhat )\n",
    "xgb_reg_gscva_tuned_final"
   ]
  },
  {
   "cell_type": "markdown",
   "id": "65aa4cfe",
   "metadata": {
    "hidden": true
   },
   "source": [
    "A generalização foi satisfatória considerando o RMSE, que era maior de 100k em validação.\n",
    "\n",
    "O MAPE ficou levemente acima, porém segue bastante próximo do obtido em validação.\n",
    "\n",
    "Na próxima seção, o modelo final será treinado."
   ]
  },
  {
   "cell_type": "markdown",
   "id": "7df8e2e4",
   "metadata": {
    "heading_collapsed": true,
    "hidden": true
   },
   "source": [
    "## Modelo Final"
   ]
  },
  {
   "cell_type": "markdown",
   "id": "ae36aca7",
   "metadata": {
    "hidden": true
   },
   "source": [
    "Um modelo final será agora treinado utilizando os dados de X1_trainval (treino + validação), com o melhor set de parâmetros. \n",
    "\n",
    "Busca-se com isto aumentar ainda mais a performance do modelo na previsão de dados de produção.\n",
    "\n",
    "Carregar dados de SP (produção)."
   ]
  },
  {
   "cell_type": "code",
   "execution_count": 807,
   "id": "df2c00ef",
   "metadata": {
    "ExecuteTime": {
     "end_time": "2023-02-12T13:00:18.635129Z",
     "start_time": "2023-02-12T13:00:18.598490Z"
    },
    "hidden": true
   },
   "outputs": [
    {
     "name": "stdout",
     "output_type": "stream",
     "text": [
      "(296, 24)\n"
     ]
    },
    {
     "data": {
      "text/html": [
       "<div>\n",
       "<style scoped>\n",
       "    .dataframe tbody tr th:only-of-type {\n",
       "        vertical-align: middle;\n",
       "    }\n",
       "\n",
       "    .dataframe tbody tr th {\n",
       "        vertical-align: top;\n",
       "    }\n",
       "\n",
       "    .dataframe thead th {\n",
       "        text-align: right;\n",
       "    }\n",
       "</style>\n",
       "<table border=\"1\" class=\"dataframe\">\n",
       "  <thead>\n",
       "    <tr style=\"text-align: right;\">\n",
       "      <th></th>\n",
       "      <th>codigo</th>\n",
       "      <th>bairro</th>\n",
       "      <th>cidade</th>\n",
       "      <th>estado</th>\n",
       "      <th>populacao</th>\n",
       "      <th>pop_ate9</th>\n",
       "      <th>pop_de10a14</th>\n",
       "      <th>pop_de15a19</th>\n",
       "      <th>pop_de20a24</th>\n",
       "      <th>pop_de25a34</th>\n",
       "      <th>pop_de35a49</th>\n",
       "      <th>pop_de50a59</th>\n",
       "      <th>pop_mais_de60</th>\n",
       "      <th>domicilios_a1</th>\n",
       "      <th>domicilios_a2</th>\n",
       "      <th>domicilios_b1</th>\n",
       "      <th>domicilios_b2</th>\n",
       "      <th>domicilios_c1</th>\n",
       "      <th>domicilios_c2</th>\n",
       "      <th>domicilios_d</th>\n",
       "      <th>domicilios_e</th>\n",
       "      <th>renda_media</th>\n",
       "      <th>faturamento</th>\n",
       "      <th>potencial</th>\n",
       "    </tr>\n",
       "  </thead>\n",
       "  <tbody>\n",
       "    <tr>\n",
       "      <th>160</th>\n",
       "      <td>355030251</td>\n",
       "      <td>A. E. Carvalho</td>\n",
       "      <td>São Paulo</td>\n",
       "      <td>SP</td>\n",
       "      <td>94034</td>\n",
       "      <td>12668</td>\n",
       "      <td>6853</td>\n",
       "      <td>9836</td>\n",
       "      <td>7487</td>\n",
       "      <td>14535</td>\n",
       "      <td>21549</td>\n",
       "      <td>10598</td>\n",
       "      <td>10508</td>\n",
       "      <td>0</td>\n",
       "      <td>253</td>\n",
       "      <td>2197</td>\n",
       "      <td>4368</td>\n",
       "      <td>6681</td>\n",
       "      <td>7011</td>\n",
       "      <td>2247</td>\n",
       "      <td>5670</td>\n",
       "      <td>1501</td>\n",
       "      <td>NaN</td>\n",
       "      <td>NaN</td>\n",
       "    </tr>\n",
       "  </tbody>\n",
       "</table>\n",
       "</div>"
      ],
      "text/plain": [
       "        codigo          bairro     cidade estado  populacao  pop_ate9  pop_de10a14  pop_de15a19  pop_de20a24  pop_de25a34  pop_de35a49  pop_de50a59  pop_mais_de60  domicilios_a1  domicilios_a2  domicilios_b1  domicilios_b2  domicilios_c1  domicilios_c2  domicilios_d  domicilios_e renda_media  faturamento  potencial\n",
       "160  355030251  A. E. Carvalho  São Paulo     SP      94034     12668         6853         9836         7487        14535        21549        10598          10508              0            253           2197           4368           6681           7011          2247          5670        1501          NaN        NaN"
      ]
     },
     "execution_count": 807,
     "metadata": {},
     "output_type": "execute_result"
    }
   ],
   "source": [
    "df_sp_raw = pd.read_csv('../data/interim/df_sp_raw.csv', index_col=0)\n",
    "df_sp = df_sp_raw.copy()\n",
    "print(df_sp.shape)\n",
    "df_sp.head(1)"
   ]
  },
  {
   "cell_type": "markdown",
   "id": "7ddc75f1",
   "metadata": {
    "hidden": true
   },
   "source": [
    "Aplicar as mesmas adequações nos dados do df_rj da análise 1 para df_sp."
   ]
  },
  {
   "cell_type": "markdown",
   "id": "cb66fa50",
   "metadata": {
    "hidden": true
   },
   "source": [
    "Derivar features."
   ]
  },
  {
   "cell_type": "code",
   "execution_count": 808,
   "id": "9adf821b",
   "metadata": {
    "ExecuteTime": {
     "end_time": "2023-02-12T13:00:20.417450Z",
     "start_time": "2023-02-12T13:00:20.402978Z"
    },
    "hidden": true
   },
   "outputs": [],
   "source": [
    "df_sp[\"pop_alvo\"] = df_sp[\"pop_de25a34\"] + df_sp[\"pop_de35a49\"]\n",
    "df_sp[\"domicilios_alvo\"] = df_sp[\"domicilios_a1\"] + df_sp[\"domicilios_a2\"] + df_sp[\"domicilios_b1\"] + df_sp[\"domicilios_b2\"]"
   ]
  },
  {
   "cell_type": "markdown",
   "id": "d7db864c",
   "metadata": {
    "ExecuteTime": {
     "end_time": "2023-02-12T12:56:18.734143Z",
     "start_time": "2023-02-12T12:56:18.726981Z"
    },
    "hidden": true
   },
   "source": [
    "Filtrar features."
   ]
  },
  {
   "cell_type": "code",
   "execution_count": 809,
   "id": "e737f515",
   "metadata": {
    "ExecuteTime": {
     "end_time": "2023-02-12T13:00:21.523068Z",
     "start_time": "2023-02-12T13:00:21.502217Z"
    },
    "hidden": true
   },
   "outputs": [
    {
     "data": {
      "text/html": [
       "<div>\n",
       "<style scoped>\n",
       "    .dataframe tbody tr th:only-of-type {\n",
       "        vertical-align: middle;\n",
       "    }\n",
       "\n",
       "    .dataframe tbody tr th {\n",
       "        vertical-align: top;\n",
       "    }\n",
       "\n",
       "    .dataframe thead th {\n",
       "        text-align: right;\n",
       "    }\n",
       "</style>\n",
       "<table border=\"1\" class=\"dataframe\">\n",
       "  <thead>\n",
       "    <tr style=\"text-align: right;\">\n",
       "      <th></th>\n",
       "      <th>populacao</th>\n",
       "      <th>pop_ate9</th>\n",
       "      <th>pop_de10a14</th>\n",
       "      <th>pop_de15a19</th>\n",
       "      <th>pop_de20a24</th>\n",
       "      <th>pop_de25a34</th>\n",
       "      <th>pop_de35a49</th>\n",
       "      <th>pop_de50a59</th>\n",
       "      <th>pop_mais_de60</th>\n",
       "      <th>pop_alvo</th>\n",
       "      <th>domicilios_a1</th>\n",
       "      <th>domicilios_a2</th>\n",
       "      <th>domicilios_b1</th>\n",
       "      <th>domicilios_b2</th>\n",
       "      <th>domicilios_c1</th>\n",
       "      <th>domicilios_c2</th>\n",
       "      <th>domicilios_d</th>\n",
       "      <th>domicilios_e</th>\n",
       "      <th>domicilios_alvo</th>\n",
       "      <th>renda_media</th>\n",
       "    </tr>\n",
       "  </thead>\n",
       "  <tbody>\n",
       "    <tr>\n",
       "      <th>160</th>\n",
       "      <td>94034</td>\n",
       "      <td>12668</td>\n",
       "      <td>6853</td>\n",
       "      <td>9836</td>\n",
       "      <td>7487</td>\n",
       "      <td>14535</td>\n",
       "      <td>21549</td>\n",
       "      <td>10598</td>\n",
       "      <td>10508</td>\n",
       "      <td>36084</td>\n",
       "      <td>0</td>\n",
       "      <td>253</td>\n",
       "      <td>2197</td>\n",
       "      <td>4368</td>\n",
       "      <td>6681</td>\n",
       "      <td>7011</td>\n",
       "      <td>2247</td>\n",
       "      <td>5670</td>\n",
       "      <td>6818</td>\n",
       "      <td>1501</td>\n",
       "    </tr>\n",
       "  </tbody>\n",
       "</table>\n",
       "</div>"
      ],
      "text/plain": [
       "     populacao  pop_ate9  pop_de10a14  pop_de15a19  pop_de20a24  pop_de25a34  pop_de35a49  pop_de50a59  pop_mais_de60  pop_alvo  domicilios_a1  domicilios_a2  domicilios_b1  domicilios_b2  domicilios_c1  domicilios_c2  domicilios_d  domicilios_e  domicilios_alvo renda_media\n",
       "160      94034     12668         6853         9836         7487        14535        21549        10598          10508     36084              0            253           2197           4368           6681           7011          2247          5670             6818        1501"
      ]
     },
     "execution_count": 809,
     "metadata": {},
     "output_type": "execute_result"
    }
   ],
   "source": [
    "df_sp = df_sp[features_scaling].copy()\n",
    "df_sp.head(1)"
   ]
  },
  {
   "cell_type": "markdown",
   "id": "7f2a2112",
   "metadata": {
    "ExecuteTime": {
     "end_time": "2023-02-12T12:57:20.166320Z",
     "start_time": "2023-02-12T12:57:20.157470Z"
    },
    "hidden": true
   },
   "source": [
    "Preencher com zero os 3 registros com '-' em renda_media."
   ]
  },
  {
   "cell_type": "code",
   "execution_count": 810,
   "id": "7d5aad86",
   "metadata": {
    "ExecuteTime": {
     "end_time": "2023-02-12T13:00:23.493448Z",
     "start_time": "2023-02-12T13:00:23.484928Z"
    },
    "hidden": true
   },
   "outputs": [],
   "source": [
    "df_sp.loc[~df_sp.renda_media.str.isnumeric(), 'renda_media'] = 0"
   ]
  },
  {
   "cell_type": "markdown",
   "id": "d15decfd",
   "metadata": {
    "hidden": true
   },
   "source": [
    "Aplicar preperação nos dados com scaler já pronto."
   ]
  },
  {
   "cell_type": "code",
   "execution_count": 813,
   "id": "64818960",
   "metadata": {
    "ExecuteTime": {
     "end_time": "2023-02-12T13:00:56.624748Z",
     "start_time": "2023-02-12T13:00:56.596054Z"
    },
    "hidden": true
   },
   "outputs": [
    {
     "data": {
      "text/html": [
       "<div>\n",
       "<style scoped>\n",
       "    .dataframe tbody tr th:only-of-type {\n",
       "        vertical-align: middle;\n",
       "    }\n",
       "\n",
       "    .dataframe tbody tr th {\n",
       "        vertical-align: top;\n",
       "    }\n",
       "\n",
       "    .dataframe thead th {\n",
       "        text-align: right;\n",
       "    }\n",
       "</style>\n",
       "<table border=\"1\" class=\"dataframe\">\n",
       "  <thead>\n",
       "    <tr style=\"text-align: right;\">\n",
       "      <th></th>\n",
       "      <th>populacao</th>\n",
       "      <th>pop_ate9</th>\n",
       "      <th>pop_de10a14</th>\n",
       "      <th>pop_de15a19</th>\n",
       "      <th>pop_de20a24</th>\n",
       "      <th>pop_de25a34</th>\n",
       "      <th>pop_de35a49</th>\n",
       "      <th>pop_de50a59</th>\n",
       "      <th>pop_mais_de60</th>\n",
       "      <th>pop_alvo</th>\n",
       "      <th>domicilios_a1</th>\n",
       "      <th>domicilios_a2</th>\n",
       "      <th>domicilios_b1</th>\n",
       "      <th>domicilios_b2</th>\n",
       "      <th>domicilios_c1</th>\n",
       "      <th>domicilios_c2</th>\n",
       "      <th>domicilios_d</th>\n",
       "      <th>domicilios_e</th>\n",
       "      <th>domicilios_alvo</th>\n",
       "      <th>renda_media</th>\n",
       "    </tr>\n",
       "  </thead>\n",
       "  <tbody>\n",
       "    <tr>\n",
       "      <th>160</th>\n",
       "      <td>0.14</td>\n",
       "      <td>0.10</td>\n",
       "      <td>0.12</td>\n",
       "      <td>0.16</td>\n",
       "      <td>0.12</td>\n",
       "      <td>0.17</td>\n",
       "      <td>0.20</td>\n",
       "      <td>0.13</td>\n",
       "      <td>0.11</td>\n",
       "      <td>0.19</td>\n",
       "      <td>0.00</td>\n",
       "      <td>0.02</td>\n",
       "      <td>0.11</td>\n",
       "      <td>0.21</td>\n",
       "      <td>0.20</td>\n",
       "      <td>0.27</td>\n",
       "      <td>0.45</td>\n",
       "      <td>0.38</td>\n",
       "      <td>0.14</td>\n",
       "      <td>0.01</td>\n",
       "    </tr>\n",
       "  </tbody>\n",
       "</table>\n",
       "</div>"
      ],
      "text/plain": [
       "     populacao  pop_ate9  pop_de10a14  pop_de15a19  pop_de20a24  pop_de25a34  pop_de35a49  pop_de50a59  pop_mais_de60  pop_alvo  domicilios_a1  domicilios_a2  domicilios_b1  domicilios_b2  domicilios_c1  domicilios_c2  domicilios_d  domicilios_e  domicilios_alvo  renda_media\n",
       "160       0.14      0.10         0.12         0.16         0.12         0.17         0.20         0.13           0.11      0.19           0.00           0.02           0.11           0.21           0.20           0.27          0.45          0.38             0.14         0.01"
      ]
     },
     "execution_count": 813,
     "metadata": {},
     "output_type": "execute_result"
    }
   ],
   "source": [
    "df_sp[features_scaling] = scaler1.transform(df_sp)\n",
    "df_sp.head(1)"
   ]
  },
  {
   "cell_type": "markdown",
   "id": "b3984a17",
   "metadata": {
    "hidden": true
   },
   "source": [
    "Manter mesmas features de X1_trainval_mbfs"
   ]
  },
  {
   "cell_type": "code",
   "execution_count": 821,
   "id": "8cead899",
   "metadata": {
    "ExecuteTime": {
     "end_time": "2023-02-12T13:02:37.586397Z",
     "start_time": "2023-02-12T13:02:37.577314Z"
    },
    "hidden": true
   },
   "outputs": [
    {
     "data": {
      "text/plain": [
       "Index(['pop_ate9', 'pop_de10a14', 'pop_de25a34', 'pop_mais_de60', 'pop_alvo',\n",
       "       'domicilios_a1', 'domicilios_a2', 'domicilios_b1', 'domicilios_c2',\n",
       "       'domicilios_d', 'domicilios_e', 'renda_media'],\n",
       "      dtype='object')"
      ]
     },
     "execution_count": 821,
     "metadata": {},
     "output_type": "execute_result"
    }
   ],
   "source": [
    "df_sp.columns"
   ]
  },
  {
   "cell_type": "code",
   "execution_count": 822,
   "id": "b8f71e4e",
   "metadata": {
    "ExecuteTime": {
     "end_time": "2023-02-12T13:02:39.331703Z",
     "start_time": "2023-02-12T13:02:39.315701Z"
    },
    "hidden": true
   },
   "outputs": [
    {
     "data": {
      "text/plain": [
       "Index(['pop_ate9', 'pop_de10a14', 'pop_de25a34', 'pop_mais_de60', 'pop_alvo',\n",
       "       'domicilios_a1', 'domicilios_a2', 'domicilios_b1', 'domicilios_c2',\n",
       "       'domicilios_d', 'domicilios_e', 'renda_media'],\n",
       "      dtype='object')"
      ]
     },
     "execution_count": 822,
     "metadata": {},
     "output_type": "execute_result"
    }
   ],
   "source": [
    "X1_trainval_mbfs.columns"
   ]
  },
  {
   "cell_type": "code",
   "execution_count": 823,
   "id": "f5e9be5a",
   "metadata": {
    "ExecuteTime": {
     "end_time": "2023-02-12T13:02:40.939408Z",
     "start_time": "2023-02-12T13:02:40.921911Z"
    },
    "hidden": true
   },
   "outputs": [
    {
     "data": {
      "text/html": [
       "<div>\n",
       "<style scoped>\n",
       "    .dataframe tbody tr th:only-of-type {\n",
       "        vertical-align: middle;\n",
       "    }\n",
       "\n",
       "    .dataframe tbody tr th {\n",
       "        vertical-align: top;\n",
       "    }\n",
       "\n",
       "    .dataframe thead th {\n",
       "        text-align: right;\n",
       "    }\n",
       "</style>\n",
       "<table border=\"1\" class=\"dataframe\">\n",
       "  <thead>\n",
       "    <tr style=\"text-align: right;\">\n",
       "      <th></th>\n",
       "      <th>pop_ate9</th>\n",
       "      <th>pop_de10a14</th>\n",
       "      <th>pop_de25a34</th>\n",
       "      <th>pop_mais_de60</th>\n",
       "      <th>pop_alvo</th>\n",
       "      <th>domicilios_a1</th>\n",
       "      <th>domicilios_a2</th>\n",
       "      <th>domicilios_b1</th>\n",
       "      <th>domicilios_c2</th>\n",
       "      <th>domicilios_d</th>\n",
       "      <th>domicilios_e</th>\n",
       "      <th>renda_media</th>\n",
       "    </tr>\n",
       "  </thead>\n",
       "  <tbody>\n",
       "    <tr>\n",
       "      <th>160</th>\n",
       "      <td>0.10</td>\n",
       "      <td>0.12</td>\n",
       "      <td>0.17</td>\n",
       "      <td>0.11</td>\n",
       "      <td>0.19</td>\n",
       "      <td>0.00</td>\n",
       "      <td>0.02</td>\n",
       "      <td>0.11</td>\n",
       "      <td>0.27</td>\n",
       "      <td>0.45</td>\n",
       "      <td>0.38</td>\n",
       "      <td>0.01</td>\n",
       "    </tr>\n",
       "  </tbody>\n",
       "</table>\n",
       "</div>"
      ],
      "text/plain": [
       "     pop_ate9  pop_de10a14  pop_de25a34  pop_mais_de60  pop_alvo  domicilios_a1  domicilios_a2  domicilios_b1  domicilios_c2  domicilios_d  domicilios_e  renda_media\n",
       "160      0.10         0.12         0.17           0.11      0.19           0.00           0.02           0.11           0.27          0.45          0.38         0.01"
      ]
     },
     "execution_count": 823,
     "metadata": {},
     "output_type": "execute_result"
    }
   ],
   "source": [
    "df_sp = df_sp[['pop_ate9', 'pop_de10a14', 'pop_de25a34', 'pop_mais_de60', 'pop_alvo',\n",
    "       'domicilios_a1', 'domicilios_a2', 'domicilios_b1', 'domicilios_c2',\n",
    "       'domicilios_d', 'domicilios_e', 'renda_media']]\n",
    "df_sp.head(1)"
   ]
  },
  {
   "cell_type": "code",
   "execution_count": 824,
   "id": "469d253a",
   "metadata": {
    "ExecuteTime": {
     "end_time": "2023-02-12T13:02:47.225694Z",
     "start_time": "2023-02-12T13:02:47.209596Z"
    },
    "hidden": true
   },
   "outputs": [
    {
     "data": {
      "text/html": [
       "<div>\n",
       "<style scoped>\n",
       "    .dataframe tbody tr th:only-of-type {\n",
       "        vertical-align: middle;\n",
       "    }\n",
       "\n",
       "    .dataframe tbody tr th {\n",
       "        vertical-align: top;\n",
       "    }\n",
       "\n",
       "    .dataframe thead th {\n",
       "        text-align: right;\n",
       "    }\n",
       "</style>\n",
       "<table border=\"1\" class=\"dataframe\">\n",
       "  <thead>\n",
       "    <tr style=\"text-align: right;\">\n",
       "      <th></th>\n",
       "      <th>pop_ate9</th>\n",
       "      <th>pop_de10a14</th>\n",
       "      <th>pop_de25a34</th>\n",
       "      <th>pop_mais_de60</th>\n",
       "      <th>pop_alvo</th>\n",
       "      <th>domicilios_a1</th>\n",
       "      <th>domicilios_a2</th>\n",
       "      <th>domicilios_b1</th>\n",
       "      <th>domicilios_c2</th>\n",
       "      <th>domicilios_d</th>\n",
       "      <th>domicilios_e</th>\n",
       "      <th>renda_media</th>\n",
       "    </tr>\n",
       "  </thead>\n",
       "  <tbody>\n",
       "    <tr>\n",
       "      <th>37</th>\n",
       "      <td>0.05</td>\n",
       "      <td>0.05</td>\n",
       "      <td>0.08</td>\n",
       "      <td>0.09</td>\n",
       "      <td>0.09</td>\n",
       "      <td>0.00</td>\n",
       "      <td>0.00</td>\n",
       "      <td>0.05</td>\n",
       "      <td>0.16</td>\n",
       "      <td>0.15</td>\n",
       "      <td>0.18</td>\n",
       "      <td>0.01</td>\n",
       "    </tr>\n",
       "  </tbody>\n",
       "</table>\n",
       "</div>"
      ],
      "text/plain": [
       "    pop_ate9  pop_de10a14  pop_de25a34  pop_mais_de60  pop_alvo  domicilios_a1  domicilios_a2  domicilios_b1  domicilios_c2  domicilios_d  domicilios_e  renda_media\n",
       "37      0.05         0.05         0.08           0.09      0.09           0.00           0.00           0.05           0.16          0.15          0.18         0.01"
      ]
     },
     "execution_count": 824,
     "metadata": {},
     "output_type": "execute_result"
    }
   ],
   "source": [
    "X1_trainval_mbfs.head(1)"
   ]
  },
  {
   "cell_type": "markdown",
   "id": "77ed8ccf",
   "metadata": {
    "hidden": true
   },
   "source": [
    "Treinamento de modelo final com o melhor set de parâmetros, utilizando os dados treino + validação.\n",
    "\n",
    "Ele fará a previsão dos dados de produção (df_sp)."
   ]
  },
  {
   "cell_type": "code",
   "execution_count": 825,
   "id": "4adfa287",
   "metadata": {
    "ExecuteTime": {
     "end_time": "2023-02-12T13:04:48.298833Z",
     "start_time": "2023-02-12T13:04:48.200472Z"
    },
    "hidden": true
   },
   "outputs": [],
   "source": [
    "xgb_tuning = {'colsample_bytree': 0.5, 'max_depth': 4, 'min_child_weight': 4, 'n_estimators': 50, 'eta':0.1}\n",
    "#treina com melhores parâmetros\n",
    "xgb_reg_gscva_tuned_prod = xgb.XGBRegressor( \n",
    "                                        max_depth = xgb_tuning['max_depth'],\n",
    "                                        min_child_weight = xgb_tuning['min_child_weight'],\n",
    "                                        n_estimators = xgb_tuning['n_estimators'],\n",
    "                                        colsample_bytree = xgb_tuning['colsample_bytree'],\n",
    "                                        eta = xgb_tuning['eta']\n",
    "                                    ).fit( X1_trainval_mbfs, y1_trainval )\n",
    "#prediz com dados de produção (df_sp)\n",
    "xgb_reg_gscva_production_yhat = xgb_reg_gscva_tuned_prod.predict(df_sp)"
   ]
  },
  {
   "cell_type": "markdown",
   "id": "3fac73d0",
   "metadata": {
    "hidden": true
   },
   "source": [
    "Unificar a previsão com o dataset SP original. "
   ]
  },
  {
   "cell_type": "code",
   "execution_count": 829,
   "id": "40db893d",
   "metadata": {
    "ExecuteTime": {
     "end_time": "2023-02-12T13:07:25.769723Z",
     "start_time": "2023-02-12T13:07:25.757473Z"
    },
    "hidden": true
   },
   "outputs": [],
   "source": [
    "df_sp_raw['faturamento'] = xgb_reg_gscva_production_yhat"
   ]
  },
  {
   "cell_type": "markdown",
   "id": "1652d691",
   "metadata": {
    "hidden": true
   },
   "source": [
    "O dataset SP com as com as 296 previsões de faturamento por bairro será exportado, para ser complementado com as análises 2 e 3."
   ]
  },
  {
   "cell_type": "code",
   "execution_count": 833,
   "id": "46730034",
   "metadata": {
    "ExecuteTime": {
     "end_time": "2023-02-12T13:08:38.491398Z",
     "start_time": "2023-02-12T13:08:38.469656Z"
    },
    "hidden": true
   },
   "outputs": [
    {
     "name": "stdout",
     "output_type": "stream",
     "text": [
      "(296, 24)\n"
     ]
    },
    {
     "data": {
      "text/html": [
       "<div>\n",
       "<style scoped>\n",
       "    .dataframe tbody tr th:only-of-type {\n",
       "        vertical-align: middle;\n",
       "    }\n",
       "\n",
       "    .dataframe tbody tr th {\n",
       "        vertical-align: top;\n",
       "    }\n",
       "\n",
       "    .dataframe thead th {\n",
       "        text-align: right;\n",
       "    }\n",
       "</style>\n",
       "<table border=\"1\" class=\"dataframe\">\n",
       "  <thead>\n",
       "    <tr style=\"text-align: right;\">\n",
       "      <th></th>\n",
       "      <th>codigo</th>\n",
       "      <th>bairro</th>\n",
       "      <th>cidade</th>\n",
       "      <th>estado</th>\n",
       "      <th>populacao</th>\n",
       "      <th>pop_ate9</th>\n",
       "      <th>pop_de10a14</th>\n",
       "      <th>pop_de15a19</th>\n",
       "      <th>pop_de20a24</th>\n",
       "      <th>pop_de25a34</th>\n",
       "      <th>pop_de35a49</th>\n",
       "      <th>pop_de50a59</th>\n",
       "      <th>pop_mais_de60</th>\n",
       "      <th>domicilios_a1</th>\n",
       "      <th>domicilios_a2</th>\n",
       "      <th>domicilios_b1</th>\n",
       "      <th>domicilios_b2</th>\n",
       "      <th>domicilios_c1</th>\n",
       "      <th>domicilios_c2</th>\n",
       "      <th>domicilios_d</th>\n",
       "      <th>domicilios_e</th>\n",
       "      <th>renda_media</th>\n",
       "      <th>faturamento</th>\n",
       "      <th>potencial</th>\n",
       "    </tr>\n",
       "  </thead>\n",
       "  <tbody>\n",
       "    <tr>\n",
       "      <th>160</th>\n",
       "      <td>355030251</td>\n",
       "      <td>A. E. Carvalho</td>\n",
       "      <td>São Paulo</td>\n",
       "      <td>SP</td>\n",
       "      <td>94034</td>\n",
       "      <td>12668</td>\n",
       "      <td>6853</td>\n",
       "      <td>9836</td>\n",
       "      <td>7487</td>\n",
       "      <td>14535</td>\n",
       "      <td>21549</td>\n",
       "      <td>10598</td>\n",
       "      <td>10508</td>\n",
       "      <td>0</td>\n",
       "      <td>253</td>\n",
       "      <td>2197</td>\n",
       "      <td>4368</td>\n",
       "      <td>6681</td>\n",
       "      <td>7011</td>\n",
       "      <td>2247</td>\n",
       "      <td>5670</td>\n",
       "      <td>1501</td>\n",
       "      <td>209502.50</td>\n",
       "      <td>NaN</td>\n",
       "    </tr>\n",
       "    <tr>\n",
       "      <th>161</th>\n",
       "      <td>35503020</td>\n",
       "      <td>Aclimação</td>\n",
       "      <td>São Paulo</td>\n",
       "      <td>SP</td>\n",
       "      <td>32791</td>\n",
       "      <td>2297</td>\n",
       "      <td>1017</td>\n",
       "      <td>2096</td>\n",
       "      <td>2197</td>\n",
       "      <td>5341</td>\n",
       "      <td>7281</td>\n",
       "      <td>4917</td>\n",
       "      <td>7645</td>\n",
       "      <td>1413</td>\n",
       "      <td>1734</td>\n",
       "      <td>3704</td>\n",
       "      <td>2351</td>\n",
       "      <td>1946</td>\n",
       "      <td>827</td>\n",
       "      <td>291</td>\n",
       "      <td>1617</td>\n",
       "      <td>5920</td>\n",
       "      <td>1508728.38</td>\n",
       "      <td>NaN</td>\n",
       "    </tr>\n",
       "    <tr>\n",
       "      <th>162</th>\n",
       "      <td>355030285</td>\n",
       "      <td>Adventista</td>\n",
       "      <td>São Paulo</td>\n",
       "      <td>SP</td>\n",
       "      <td>104193</td>\n",
       "      <td>15070</td>\n",
       "      <td>7343</td>\n",
       "      <td>10631</td>\n",
       "      <td>8657</td>\n",
       "      <td>17749</td>\n",
       "      <td>23364</td>\n",
       "      <td>11567</td>\n",
       "      <td>9812</td>\n",
       "      <td>0</td>\n",
       "      <td>0</td>\n",
       "      <td>1423</td>\n",
       "      <td>4875</td>\n",
       "      <td>8595</td>\n",
       "      <td>10082</td>\n",
       "      <td>3111</td>\n",
       "      <td>5776</td>\n",
       "      <td>1284</td>\n",
       "      <td>165232.69</td>\n",
       "      <td>NaN</td>\n",
       "    </tr>\n",
       "  </tbody>\n",
       "</table>\n",
       "</div>"
      ],
      "text/plain": [
       "        codigo          bairro     cidade estado  populacao  pop_ate9  pop_de10a14  pop_de15a19  pop_de20a24  pop_de25a34  pop_de35a49  pop_de50a59  pop_mais_de60  domicilios_a1  domicilios_a2  domicilios_b1  domicilios_b2  domicilios_c1  domicilios_c2  domicilios_d  domicilios_e renda_media  faturamento  potencial\n",
       "160  355030251  A. E. Carvalho  São Paulo     SP      94034     12668         6853         9836         7487        14535        21549        10598          10508              0            253           2197           4368           6681           7011          2247          5670        1501    209502.50        NaN\n",
       "161   35503020       Aclimação  São Paulo     SP      32791      2297         1017         2096         2197         5341         7281         4917           7645           1413           1734           3704           2351           1946            827           291          1617        5920   1508728.38        NaN\n",
       "162  355030285      Adventista  São Paulo     SP     104193     15070         7343        10631         8657        17749        23364        11567           9812              0              0           1423           4875           8595          10082          3111          5776        1284    165232.69        NaN"
      ]
     },
     "execution_count": 833,
     "metadata": {},
     "output_type": "execute_result"
    }
   ],
   "source": [
    "print(df_sp_raw.shape)\n",
    "df_sp_raw.head(3)"
   ]
  },
  {
   "cell_type": "code",
   "execution_count": 834,
   "id": "8b351a92",
   "metadata": {
    "ExecuteTime": {
     "end_time": "2023-02-12T13:11:38.599123Z",
     "start_time": "2023-02-12T13:11:38.585099Z"
    },
    "hidden": true
   },
   "outputs": [],
   "source": [
    "df_sp_raw.to_csv('../data/interim/df_sp_an1_done.csv')"
   ]
  }
 ],
 "metadata": {
  "kernelspec": {
   "display_name": "Python 3 (ipykernel)",
   "language": "python",
   "name": "python3"
  },
  "language_info": {
   "codemirror_mode": {
    "name": "ipython",
    "version": 3
   },
   "file_extension": ".py",
   "mimetype": "text/x-python",
   "name": "python",
   "nbconvert_exporter": "python",
   "pygments_lexer": "ipython3",
   "version": "3.8.12"
  },
  "toc": {
   "base_numbering": 1,
   "nav_menu": {},
   "number_sections": true,
   "sideBar": true,
   "skip_h1_title": false,
   "title_cell": "Table of Contents",
   "title_sidebar": "Contents",
   "toc_cell": false,
   "toc_position": {},
   "toc_section_display": true,
   "toc_window_display": false
  }
 },
 "nbformat": 4,
 "nbformat_minor": 5
}
