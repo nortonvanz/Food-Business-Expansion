{
 "cells": [
  {
   "cell_type": "markdown",
   "id": "c1cc8732",
   "metadata": {},
   "source": [
    "# 1 -  Planejamento da Solução"
   ]
  },
  {
   "cell_type": "markdown",
   "id": "0da8c1a3",
   "metadata": {},
   "source": [
    "## Entendimento de Negócio"
   ]
  },
  {
   "cell_type": "markdown",
   "id": "2a849077",
   "metadata": {},
   "source": [
    "**Qual é o problema de negócio?**\n",
    "\n",
    "- Empresa alimentícia situada no RJ, deseja abrir filiais na cidade de São Paulo. Para isso, precisa de 3 análises:\n",
    "    - 1 - Estimar faturamento que uma loja teria em cada um dos bairros de São Paulo (regressão, neste caso sem séries temporais).\n",
    "    - 2 - Classificar o potencial dos bairros de São Paulo em alto, médio ou baixo (classificação multiclasse).\n",
    "    - 3 - Segmentar os bairros de São Paulo de acordo com o perfil de renda e idade, identificando os com maior aderência ao público alvo.\n",
    "    \n",
    "- Público alvo: adultos de 25 a 50 anos, das classes A (rendas A1 e A2) e B (rendas B1 e B2). \n",
    "\n",
    "**Saída**\n",
    "\n",
    "- Prototipagem técnica da solução: https://docs.google.com/spreadsheets/d/17lxCBRLPEuNCO25BimVFRE3Tms-314WSTpJ1xgEIf38/edit#gid=0\n",
    "\n",
    "- O que será entregue, efetivamente? / Onde o time de negócio quer ver?\n",
    "    - Documento no formato doc, pdf ou ppt, voltado ao negócio, apresentando um racional de como os dados foram analisados. Detalhar com gráficos, tabelas, e descrever conclusões.\n",
    "    - Responder: Dada a natureza do problema apresentado, que outro dado externo (fontes públicas ou privadas) poderia ser utilizado para agregar mais valor ao resultado? Por que?\n",
    "    \n",
    "**Entrada**\n",
    "- Fontes de dados:\n",
    "    - Dataset contendo faturamento e potencial dos bairros do Rio de Janeiro do cliente, bem como dados sociodemográficos do bairros do Rio de Janeiro e São Paulo.\n",
    "\n",
    "- Ferramentas:\n",
    "    - Python 3.8.12, Jupyter Notebook, Git, Github.\n",
    "\n",
    "**Processamento**\n",
    "- Tipo de problema: análise exploratória, regressão, classificação e clusterização.\n",
    "- Metodologia: CRISP-DM, metodologia ágil (iterativa e incremental) para desenvolvimento de projetos de ciência de dados.\n"
   ]
  },
  {
   "cell_type": "markdown",
   "id": "f81fc8d7",
   "metadata": {},
   "source": [
    "## Implementado nesta Sprint"
   ]
  },
  {
   "cell_type": "markdown",
   "id": "8caef480",
   "metadata": {},
   "source": [
    "**Ciclo 1**\n",
    "- Entendimento do problema de negócio e planejamento da solução.\n",
    "- Coleta de dados.\n",
    "- Limpeza e análise preliminar.\n",
    "- Separação entre RJ e SP.\n",
    "- Implementação de modelos de base de machine learning para as análises 1 e 2.\n",
    "- Implementação de modelo de clusterização para a análise 3, e criação de perfis dos clusters."
   ]
  },
  {
   "cell_type": "markdown",
   "id": "ae1f0cf6",
   "metadata": {
    "heading_collapsed": true
   },
   "source": [
    "# 2 - Importações"
   ]
  },
  {
   "cell_type": "markdown",
   "id": "129a9666",
   "metadata": {
    "hidden": true
   },
   "source": [
    "## Bibliotecas"
   ]
  },
  {
   "cell_type": "code",
   "execution_count": 1,
   "id": "574e7623",
   "metadata": {
    "ExecuteTime": {
     "end_time": "2023-02-10T09:56:48.995496Z",
     "start_time": "2023-02-10T09:56:44.960442Z"
    },
    "hidden": true
   },
   "outputs": [],
   "source": [
    "import pandas                      as pd \n",
    "import seaborn                     as sns\n",
    "import numpy                       as np\n",
    "import inflection\n",
    "from IPython.core.display          import HTML\n",
    "from matplotlib                    import pyplot as plt\n",
    "from tabulate                      import tabulate\n",
    "\n",
    "from sklearn.model_selection       import train_test_split\n",
    "from sklearn.neighbors             import KNeighborsRegressor, KNeighborsClassifier\n",
    "from sklearn.cluster               import KMeans\n",
    "from yellowbrick.cluster           import KElbowVisualizer\n",
    "from sklearn.metrics               import silhouette_score, r2_score, accuracy_score"
   ]
  },
  {
   "cell_type": "markdown",
   "id": "82643670",
   "metadata": {
    "hidden": true
   },
   "source": [
    "## Funções Auxiliares"
   ]
  },
  {
   "cell_type": "code",
   "execution_count": 2,
   "id": "62f3e0cc",
   "metadata": {
    "ExecuteTime": {
     "end_time": "2023-02-10T09:56:49.047211Z",
     "start_time": "2023-02-10T09:56:49.000292Z"
    },
    "hidden": true,
    "scrolled": true
   },
   "outputs": [
    {
     "data": {
      "text/html": [
       "<style>.container { width:100% !important; }</style>"
      ],
      "text/plain": [
       "<IPython.core.display.HTML object>"
      ]
     },
     "metadata": {},
     "output_type": "display_data"
    }
   ],
   "source": [
    "def jupyter_settings():\n",
    "    \"\"\" Otimiza configurações gerais, padronizando tamanhos de plots, etc \"\"\"\n",
    "    %matplotlib inline\n",
    "    plt.style.use( 'bmh' )\n",
    "    plt.rcParams['figure.figsize'] = [25, 12]\n",
    "    plt.rcParams['font.size'] = 24\n",
    "    display( HTML( '<style>.container { width:100% !important; }</style>') )\n",
    "    pd.options.display.max_columns = None\n",
    "    pd.options.display.max_rows = None\n",
    "    pd.set_option( 'display.expand_frame_repr', False )\n",
    "    sns.set()\n",
    "    pd.set_option('display.max_columns', 30)\n",
    "    pd.set_option('display.max_rows', 30)\n",
    "jupyter_settings()"
   ]
  },
  {
   "cell_type": "markdown",
   "id": "a8a49cf0",
   "metadata": {
    "hidden": true
   },
   "source": [
    "## Coleta de Dados"
   ]
  },
  {
   "cell_type": "markdown",
   "id": "91805a47",
   "metadata": {
    "hidden": true
   },
   "source": [
    "Carregamento dos dados originais do xlsx."
   ]
  },
  {
   "cell_type": "code",
   "execution_count": 26,
   "id": "fef3014c",
   "metadata": {
    "ExecuteTime": {
     "end_time": "2023-02-10T10:02:27.980406Z",
     "start_time": "2023-02-10T10:02:27.599149Z"
    },
    "hidden": true
   },
   "outputs": [
    {
     "name": "stdout",
     "output_type": "stream",
     "text": [
      "(456, 24)\n"
     ]
    },
    {
     "data": {
      "text/html": [
       "<div>\n",
       "<style scoped>\n",
       "    .dataframe tbody tr th:only-of-type {\n",
       "        vertical-align: middle;\n",
       "    }\n",
       "\n",
       "    .dataframe tbody tr th {\n",
       "        vertical-align: top;\n",
       "    }\n",
       "\n",
       "    .dataframe thead th {\n",
       "        text-align: right;\n",
       "    }\n",
       "</style>\n",
       "<table border=\"1\" class=\"dataframe\">\n",
       "  <thead>\n",
       "    <tr style=\"text-align: right;\">\n",
       "      <th></th>\n",
       "      <th>codigo</th>\n",
       "      <th>nome</th>\n",
       "      <th>cidade</th>\n",
       "      <th>estado</th>\n",
       "      <th>população</th>\n",
       "      <th>popAte9</th>\n",
       "      <th>popDe10a14</th>\n",
       "      <th>popDe15a19</th>\n",
       "      <th>popDe20a24</th>\n",
       "      <th>popDe25a34</th>\n",
       "      <th>popDe35a49</th>\n",
       "      <th>popDe50a59</th>\n",
       "      <th>popMaisDe60</th>\n",
       "      <th>domiciliosA1</th>\n",
       "      <th>domiciliosA2</th>\n",
       "      <th>domiciliosB1</th>\n",
       "      <th>domiciliosB2</th>\n",
       "      <th>domiciliosC1</th>\n",
       "      <th>domiciliosC2</th>\n",
       "      <th>domiciliosD</th>\n",
       "      <th>domiciliosE</th>\n",
       "      <th>rendaMedia</th>\n",
       "      <th>faturamento</th>\n",
       "      <th>potencial</th>\n",
       "    </tr>\n",
       "  </thead>\n",
       "  <tbody>\n",
       "    <tr>\n",
       "      <th>0</th>\n",
       "      <td>3304557060</td>\n",
       "      <td>Abolição</td>\n",
       "      <td>Rio de Janeiro</td>\n",
       "      <td>RJ</td>\n",
       "      <td>11676</td>\n",
       "      <td>1027</td>\n",
       "      <td>483</td>\n",
       "      <td>688</td>\n",
       "      <td>800</td>\n",
       "      <td>1675</td>\n",
       "      <td>2300</td>\n",
       "      <td>1784</td>\n",
       "      <td>2919</td>\n",
       "      <td>0</td>\n",
       "      <td>145</td>\n",
       "      <td>715</td>\n",
       "      <td>1242</td>\n",
       "      <td>1093</td>\n",
       "      <td>758</td>\n",
       "      <td>92</td>\n",
       "      <td>304</td>\n",
       "      <td>2501</td>\n",
       "      <td>932515.0</td>\n",
       "      <td>Médio</td>\n",
       "    </tr>\n",
       "    <tr>\n",
       "      <th>1</th>\n",
       "      <td>3304557138</td>\n",
       "      <td>Acari</td>\n",
       "      <td>Rio de Janeiro</td>\n",
       "      <td>RJ</td>\n",
       "      <td>27564</td>\n",
       "      <td>5131</td>\n",
       "      <td>2188</td>\n",
       "      <td>2697</td>\n",
       "      <td>2630</td>\n",
       "      <td>4810</td>\n",
       "      <td>5308</td>\n",
       "      <td>2403</td>\n",
       "      <td>2397</td>\n",
       "      <td>0</td>\n",
       "      <td>0</td>\n",
       "      <td>82</td>\n",
       "      <td>506</td>\n",
       "      <td>2040</td>\n",
       "      <td>2490</td>\n",
       "      <td>827</td>\n",
       "      <td>2506</td>\n",
       "      <td>931</td>\n",
       "      <td>588833.0</td>\n",
       "      <td>Baixo</td>\n",
       "    </tr>\n",
       "    <tr>\n",
       "      <th>2</th>\n",
       "      <td>3304557057</td>\n",
       "      <td>Água Santa</td>\n",
       "      <td>Rio de Janeiro</td>\n",
       "      <td>RJ</td>\n",
       "      <td>9003</td>\n",
       "      <td>883</td>\n",
       "      <td>399</td>\n",
       "      <td>597</td>\n",
       "      <td>762</td>\n",
       "      <td>1755</td>\n",
       "      <td>2076</td>\n",
       "      <td>1112</td>\n",
       "      <td>1419</td>\n",
       "      <td>0</td>\n",
       "      <td>96</td>\n",
       "      <td>404</td>\n",
       "      <td>652</td>\n",
       "      <td>644</td>\n",
       "      <td>522</td>\n",
       "      <td>77</td>\n",
       "      <td>254</td>\n",
       "      <td>2391</td>\n",
       "      <td>874200.0</td>\n",
       "      <td>Baixo</td>\n",
       "    </tr>\n",
       "  </tbody>\n",
       "</table>\n",
       "</div>"
      ],
      "text/plain": [
       "       codigo        nome          cidade estado  população  popAte9  popDe10a14  popDe15a19  popDe20a24  popDe25a34  popDe35a49  popDe50a59  popMaisDe60  domiciliosA1  domiciliosA2  domiciliosB1  domiciliosB2  domiciliosC1  domiciliosC2  domiciliosD  domiciliosE rendaMedia  faturamento potencial\n",
       "0  3304557060    Abolição  Rio de Janeiro     RJ      11676     1027         483         688         800        1675        2300        1784         2919             0           145           715          1242          1093           758           92          304       2501     932515.0     Médio\n",
       "1  3304557138       Acari  Rio de Janeiro     RJ      27564     5131        2188        2697        2630        4810        5308        2403         2397             0             0            82           506          2040          2490          827         2506        931     588833.0     Baixo\n",
       "2  3304557057  Água Santa  Rio de Janeiro     RJ       9003      883         399         597         762        1755        2076        1112         1419             0            96           404           652           644           522           77          254       2391     874200.0     Baixo"
      ]
     },
     "execution_count": 26,
     "metadata": {},
     "output_type": "execute_result"
    }
   ],
   "source": [
    "df_raw = pd.read_excel(\"../data/raw/data_raw.xlsx\")\n",
    "print(df_raw.shape)\n",
    "df_raw.head(3)"
   ]
  },
  {
   "cell_type": "markdown",
   "id": "5970b7d5",
   "metadata": {
    "heading_collapsed": true
   },
   "source": [
    "# 3 - Limpeza e Análise Preliminar"
   ]
  },
  {
   "cell_type": "markdown",
   "id": "940b7407",
   "metadata": {
    "heading_collapsed": true,
    "hidden": true
   },
   "source": [
    "## Renomear Colunas"
   ]
  },
  {
   "cell_type": "markdown",
   "id": "31354ba2",
   "metadata": {
    "hidden": true
   },
   "source": [
    "Padroinzar nome das variáveis no formato snake_case, melhorando sua legibilidade."
   ]
  },
  {
   "cell_type": "code",
   "execution_count": 4,
   "id": "d85df31c",
   "metadata": {
    "ExecuteTime": {
     "end_time": "2023-02-10T09:57:02.558565Z",
     "start_time": "2023-02-10T09:57:02.545054Z"
    },
    "hidden": true
   },
   "outputs": [
    {
     "data": {
      "text/plain": [
       "Index(['codigo', 'bairro', 'cidade', 'estado', 'populacao', 'pop_ate9',\n",
       "       'pop_de10a14', 'pop_de15a19', 'pop_de20a24', 'pop_de25a34',\n",
       "       'pop_de35a49', 'pop_de50a59', 'pop_mais_de60', 'domicilios_a1',\n",
       "       'domicilios_a2', 'domicilios_b1', 'domicilios_b2', 'domicilios_c1',\n",
       "       'domicilios_c2', 'domicilios_d', 'domicilios_e', 'renda_media',\n",
       "       'faturamento', 'potencial'],\n",
       "      dtype='object')"
      ]
     },
     "execution_count": 4,
     "metadata": {},
     "output_type": "execute_result"
    }
   ],
   "source": [
    "cols_old = ['codigo', 'bairro', 'cidade', 'estado', 'populacao', 'popAte9',\n",
    "       'popDe10a14', 'popDe15a19', 'popDe20a24', 'popDe25a34', 'popDe35a49',\n",
    "       'popDe50a59', 'popMaisDe60', 'domiciliosA1', 'domiciliosA2',\n",
    "       'domiciliosB1', 'domiciliosB2', 'domiciliosC1', 'domiciliosC2',\n",
    "       'domiciliosD', 'domiciliosE', 'rendaMedia', 'faturamento', 'potencial']\n",
    "snakecase = lambda x: inflection.underscore ( x )\n",
    "cols_new = list( map( snakecase, cols_old ) )\n",
    "df_raw.columns = cols_new\n",
    "df_raw.columns"
   ]
  },
  {
   "cell_type": "markdown",
   "id": "5314f00c",
   "metadata": {
    "heading_collapsed": true,
    "hidden": true
   },
   "source": [
    "## Dicionário de Dados"
   ]
  },
  {
   "cell_type": "markdown",
   "id": "39b01e1f",
   "metadata": {
    "hidden": true
   },
   "source": [
    "Compreender com clareza o significado de cada variável é fundamental para avançar no projeto."
   ]
  },
  {
   "cell_type": "code",
   "execution_count": 6,
   "id": "86283301",
   "metadata": {
    "ExecuteTime": {
     "end_time": "2023-02-10T09:57:09.056558Z",
     "start_time": "2023-02-10T09:57:09.039894Z"
    },
    "hidden": true
   },
   "outputs": [
    {
     "name": "stdout",
     "output_type": "stream",
     "text": [
      "Coluna         Significado\n",
      "-------------  ------------------------------------\n",
      "codigo         Código do bairro\n",
      "bairro         Nome do bairro\n",
      "cidade         Cidade\n",
      "estado         Estado\n",
      "populacao      População total\n",
      "pop_ate9       População - até 9 anos\n",
      "pop_de10a14    População - de 10 a 14 anos\n",
      "pop_de15a19    População - de 15 a 19 anos\n",
      "pop_de20a24    População - de 20 a 24 anos\n",
      "pop_de25a34    População - de 25 a 34 anos\n",
      "pop_de35a49    População - de 35 a 49 anos\n",
      "pop_de50a59    População - de 50 a 59 anos\n",
      "pop_mais_de60  População - 60 anos ou mais\n",
      "domicilios_a1  Quantidade de Domicílios de Renda A1\n",
      "domicilios_a2  Quantidade de Domicílios de Renda A2\n",
      "domicilios_b1  Quantidade de Domicílios de Renda B1\n",
      "domicilios_b2  Quantidade de Domicílios de Renda B2\n",
      "domicilios_c1  Quantidade de Domicílios de Renda C1\n",
      "domicilios_c2  Quantidade de Domicílios de Renda C2\n",
      "domicilios_d   Quantidade de Domicílios de Renda D\n",
      "domicilios_e   Quantidade de Domicílios de Renda E\n",
      "renda_media    Renda Média por Domicílio\n",
      "faturamento    Faturamento Total no Bairro\n",
      "potencial      Potencial do Bairro\n"
     ]
    }
   ],
   "source": [
    "tab = [['Coluna', 'Significado'],   \n",
    "       ['codigo', 'Código do bairro'],\n",
    "       ['bairro', 'Nome do bairro'],\n",
    "       ['cidade', 'Cidade'],\n",
    "       ['estado', 'Estado'],\n",
    "       ['populacao', 'População total'],\n",
    "       ['pop_ate9', 'População - até 9 anos'],\n",
    "       ['pop_de10a14', 'População - de 10 a 14 anos'],\n",
    "       ['pop_de15a19', 'População - de 15 a 19 anos'],\n",
    "       ['pop_de20a24', 'População - de 20 a 24 anos'],\n",
    "       ['pop_de25a34', 'População - de 25 a 34 anos'],\n",
    "       ['pop_de35a49', 'População - de 35 a 49 anos'],\n",
    "       ['pop_de50a59', 'População - de 50 a 59 anos'],\n",
    "       ['pop_mais_de60', 'População - 60 anos ou mais'],\n",
    "       ['domicilios_a1', 'Quantidade de Domicílios de Renda A1'],\n",
    "       ['domicilios_a2', 'Quantidade de Domicílios de Renda A2'],\n",
    "       ['domicilios_b1', 'Quantidade de Domicílios de Renda B1'],\n",
    "       ['domicilios_b2', 'Quantidade de Domicílios de Renda B2'],\n",
    "       ['domicilios_c1', 'Quantidade de Domicílios de Renda C1'],\n",
    "       ['domicilios_c2', 'Quantidade de Domicílios de Renda C2'],\n",
    "       ['domicilios_d', 'Quantidade de Domicílios de Renda D'],\n",
    "       ['domicilios_e', 'Quantidade de Domicílios de Renda E'],\n",
    "       ['renda_media', 'Renda Média por Domicílio'],\n",
    "       ['faturamento', 'Faturamento Total no Bairro'],\n",
    "       ['potencial', 'Potencial do Bairro']]\n",
    "print(tabulate(tab, headers='firstrow', stralign='left')) #tablefmt='pipe', tablefmt='grid'"
   ]
  },
  {
   "cell_type": "markdown",
   "id": "a64e336d",
   "metadata": {
    "hidden": true
   },
   "source": [
    "## Tipos de Dados"
   ]
  },
  {
   "cell_type": "markdown",
   "id": "683b0d13",
   "metadata": {
    "hidden": true
   },
   "source": [
    "Avaliar tipos de dados, e necessidade de conversões."
   ]
  },
  {
   "cell_type": "code",
   "execution_count": 8,
   "id": "3f830bab",
   "metadata": {
    "ExecuteTime": {
     "end_time": "2023-02-10T09:57:21.964251Z",
     "start_time": "2023-02-10T09:57:21.953063Z"
    },
    "hidden": true
   },
   "outputs": [
    {
     "data": {
      "text/plain": [
       "codigo             int64\n",
       "bairro            object\n",
       "cidade            object\n",
       "estado            object\n",
       "populacao          int64\n",
       "pop_ate9           int64\n",
       "pop_de10a14        int64\n",
       "pop_de15a19        int64\n",
       "pop_de20a24        int64\n",
       "pop_de25a34        int64\n",
       "pop_de35a49        int64\n",
       "pop_de50a59        int64\n",
       "pop_mais_de60      int64\n",
       "domicilios_a1      int64\n",
       "domicilios_a2      int64\n",
       "domicilios_b1      int64\n",
       "domicilios_b2      int64\n",
       "domicilios_c1      int64\n",
       "domicilios_c2      int64\n",
       "domicilios_d       int64\n",
       "domicilios_e       int64\n",
       "renda_media       object\n",
       "faturamento      float64\n",
       "potencial         object\n",
       "dtype: object"
      ]
     },
     "execution_count": 8,
     "metadata": {},
     "output_type": "execute_result"
    }
   ],
   "source": [
    "df_raw.dtypes"
   ]
  },
  {
   "cell_type": "markdown",
   "id": "3cc58f02",
   "metadata": {
    "hidden": true
   },
   "source": [
    "No momento, não é possível converter \"faturamento\" para o tipo \"int\", em função dos dados de SP, onde há registros nulos.\n",
    "\n",
    "A conversão se justifica porque esta variável não utiliza as casas decimais (sempre zeradas).\n",
    "\n",
    "Farei esta conversão mais abaixo, após a separação entre os dados de RJ e SP.\n",
    "\n",
    "Demais variáveis estão ok."
   ]
  },
  {
   "cell_type": "markdown",
   "id": "3916b6fb",
   "metadata": {
    "hidden": true
   },
   "source": [
    "## Conferência de Nulos"
   ]
  },
  {
   "cell_type": "markdown",
   "id": "f821f9c4",
   "metadata": {
    "hidden": true
   },
   "source": [
    "Avaliação de tratativa de registros nulos."
   ]
  },
  {
   "cell_type": "code",
   "execution_count": 8,
   "id": "67d3e1d0",
   "metadata": {
    "ExecuteTime": {
     "end_time": "2023-02-09T22:10:04.772671Z",
     "start_time": "2023-02-09T22:10:04.737946Z"
    },
    "hidden": true
   },
   "outputs": [
    {
     "data": {
      "text/plain": [
       "codigo             0\n",
       "bairro             0\n",
       "cidade             0\n",
       "estado             0\n",
       "populacao          0\n",
       "pop_ate9           0\n",
       "pop_de10a14        0\n",
       "pop_de15a19        0\n",
       "pop_de20a24        0\n",
       "pop_de25a34        0\n",
       "pop_de35a49        0\n",
       "pop_de50a59        0\n",
       "pop_mais_de60      0\n",
       "domicilios_a1      0\n",
       "domicilios_a2      0\n",
       "domicilios_b1      0\n",
       "domicilios_b2      0\n",
       "domicilios_c1      0\n",
       "domicilios_c2      0\n",
       "domicilios_d       0\n",
       "domicilios_e       0\n",
       "renda_media        6\n",
       "faturamento      296\n",
       "potencial        296\n",
       "dtype: int64"
      ]
     },
     "execution_count": 8,
     "metadata": {},
     "output_type": "execute_result"
    }
   ],
   "source": [
    "df_raw.isna().sum()"
   ]
  },
  {
   "cell_type": "markdown",
   "id": "400ec506",
   "metadata": {
    "hidden": true
   },
   "source": [
    "Confirmar se os registros com valores nulos em \"faturamento\" e \"potencial\" são de fato apenas os registros de SP."
   ]
  },
  {
   "cell_type": "code",
   "execution_count": 10,
   "id": "3c5de446",
   "metadata": {
    "ExecuteTime": {
     "end_time": "2023-02-10T09:57:55.404196Z",
     "start_time": "2023-02-10T09:57:55.391522Z"
    },
    "hidden": true
   },
   "outputs": [
    {
     "data": {
      "text/plain": [
       "(296, 24)"
      ]
     },
     "execution_count": 10,
     "metadata": {},
     "output_type": "execute_result"
    }
   ],
   "source": [
    "df_raw.loc[(df_raw.potencial.isna() == True) & (df_raw.faturamento.isna() == True) & (df_raw.estado == \"SP\")].shape"
   ]
  },
  {
   "cell_type": "markdown",
   "id": "172d1bde",
   "metadata": {
    "hidden": true
   },
   "source": [
    "Confirmado. Dado que \"faturamento\" e \"potencial\" são as variáveis alvo, e iremos prever estes valores nulos. \n",
    "\n",
    "Logo, não há necessidade de tratativas."
   ]
  },
  {
   "cell_type": "markdown",
   "id": "d8cb2e54",
   "metadata": {
    "hidden": true
   },
   "source": [
    "## Separação entre RJ e SP"
   ]
  },
  {
   "cell_type": "markdown",
   "id": "7315928b",
   "metadata": {
    "hidden": true
   },
   "source": [
    "Separação do dataset em duas pares, sendo:\n",
    "- df_rj: registros onde estado = RJ, contendo valores nas variáveis alvo \"faturamento\" e \"potencial\".\n",
    "    - Utilizados para treinar, validar e confirmar aprendizado dos algoritmos supervisionados (análises 1 e 2). \n",
    "    - Também utilizados para treinar e avaliar os algoritmos não supervisionados (análise 3). \n",
    "- df_sp: registros onde estado = SP, contendo valores nulos para as variáveis alvo.\n",
    "    - Utilizados apenas na versão final do modelo de cada uma das 3 análises, se tratando dos registros dos bairros de SP. "
   ]
  },
  {
   "cell_type": "code",
   "execution_count": 12,
   "id": "e6a762fc",
   "metadata": {
    "ExecuteTime": {
     "end_time": "2023-02-10T09:58:21.108087Z",
     "start_time": "2023-02-10T09:58:21.094707Z"
    },
    "hidden": true
   },
   "outputs": [
    {
     "name": "stdout",
     "output_type": "stream",
     "text": [
      "Número de linhas e colunas de df_rj: (160, 24)\n",
      "Número de linhas e colunas de df_sp: (296, 24)\n"
     ]
    }
   ],
   "source": [
    "df_rj = df_raw.loc[df_raw[\"estado\"] == \"RJ\"].copy()\n",
    "df_sp = df_raw.loc[df_raw[\"estado\"] == \"SP\"].copy()\n",
    "\n",
    "print (f\"Número de linhas e colunas de df_rj: {df_rj.shape}\")\n",
    "print (f\"Número de linhas e colunas de df_sp: {df_sp.shape}\")"
   ]
  },
  {
   "cell_type": "markdown",
   "id": "e5caf01b",
   "metadata": {
    "hidden": true
   },
   "source": [
    "Converter \"faturamento\" de df_rj para o tipo int, visto que não utiliza as casas decimais, conforme já citado anteriormente."
   ]
  },
  {
   "cell_type": "code",
   "execution_count": 13,
   "id": "6ac18646",
   "metadata": {
    "ExecuteTime": {
     "end_time": "2023-02-10T09:58:22.363951Z",
     "start_time": "2023-02-10T09:58:22.341822Z"
    },
    "hidden": true,
    "scrolled": true
   },
   "outputs": [
    {
     "data": {
      "text/html": [
       "<div>\n",
       "<style scoped>\n",
       "    .dataframe tbody tr th:only-of-type {\n",
       "        vertical-align: middle;\n",
       "    }\n",
       "\n",
       "    .dataframe tbody tr th {\n",
       "        vertical-align: top;\n",
       "    }\n",
       "\n",
       "    .dataframe thead th {\n",
       "        text-align: right;\n",
       "    }\n",
       "</style>\n",
       "<table border=\"1\" class=\"dataframe\">\n",
       "  <thead>\n",
       "    <tr style=\"text-align: right;\">\n",
       "      <th></th>\n",
       "      <th>codigo</th>\n",
       "      <th>bairro</th>\n",
       "      <th>cidade</th>\n",
       "      <th>estado</th>\n",
       "      <th>populacao</th>\n",
       "      <th>pop_ate9</th>\n",
       "      <th>pop_de10a14</th>\n",
       "      <th>pop_de15a19</th>\n",
       "      <th>pop_de20a24</th>\n",
       "      <th>pop_de25a34</th>\n",
       "      <th>pop_de35a49</th>\n",
       "      <th>pop_de50a59</th>\n",
       "      <th>pop_mais_de60</th>\n",
       "      <th>domicilios_a1</th>\n",
       "      <th>domicilios_a2</th>\n",
       "      <th>domicilios_b1</th>\n",
       "      <th>domicilios_b2</th>\n",
       "      <th>domicilios_c1</th>\n",
       "      <th>domicilios_c2</th>\n",
       "      <th>domicilios_d</th>\n",
       "      <th>domicilios_e</th>\n",
       "      <th>renda_media</th>\n",
       "      <th>faturamento</th>\n",
       "      <th>potencial</th>\n",
       "    </tr>\n",
       "  </thead>\n",
       "  <tbody>\n",
       "    <tr>\n",
       "      <th>0</th>\n",
       "      <td>3304557060</td>\n",
       "      <td>Abolição</td>\n",
       "      <td>Rio de Janeiro</td>\n",
       "      <td>RJ</td>\n",
       "      <td>11676</td>\n",
       "      <td>1027</td>\n",
       "      <td>483</td>\n",
       "      <td>688</td>\n",
       "      <td>800</td>\n",
       "      <td>1675</td>\n",
       "      <td>2300</td>\n",
       "      <td>1784</td>\n",
       "      <td>2919</td>\n",
       "      <td>0</td>\n",
       "      <td>145</td>\n",
       "      <td>715</td>\n",
       "      <td>1242</td>\n",
       "      <td>1093</td>\n",
       "      <td>758</td>\n",
       "      <td>92</td>\n",
       "      <td>304</td>\n",
       "      <td>2501</td>\n",
       "      <td>932515</td>\n",
       "      <td>Médio</td>\n",
       "    </tr>\n",
       "  </tbody>\n",
       "</table>\n",
       "</div>"
      ],
      "text/plain": [
       "       codigo    bairro          cidade estado  populacao  pop_ate9  pop_de10a14  pop_de15a19  pop_de20a24  pop_de25a34  pop_de35a49  pop_de50a59  pop_mais_de60  domicilios_a1  domicilios_a2  domicilios_b1  domicilios_b2  domicilios_c1  domicilios_c2  domicilios_d  domicilios_e renda_media  faturamento potencial\n",
       "0  3304557060  Abolição  Rio de Janeiro     RJ      11676      1027          483          688          800         1675         2300         1784           2919              0            145            715           1242           1093            758            92           304        2501       932515     Médio"
      ]
     },
     "execution_count": 13,
     "metadata": {},
     "output_type": "execute_result"
    }
   ],
   "source": [
    "df_rj[\"faturamento\"] = df_rj[\"faturamento\"].astype(int)\n",
    "df_rj.head(1)"
   ]
  },
  {
   "cell_type": "markdown",
   "id": "aa86f253",
   "metadata": {
    "hidden": true
   },
   "source": [
    "Exportar os dois datasets gerados para o formato .csv."
   ]
  },
  {
   "cell_type": "code",
   "execution_count": 14,
   "id": "502c7d8b",
   "metadata": {
    "ExecuteTime": {
     "end_time": "2023-02-10T09:58:29.933008Z",
     "start_time": "2023-02-10T09:58:29.910255Z"
    },
    "hidden": true
   },
   "outputs": [],
   "source": [
    "df_rj.to_csv('../data/interim/df_rj.csv')\n",
    "df_sp.to_csv('../data/interim/df_sp.csv')"
   ]
  },
  {
   "cell_type": "markdown",
   "id": "bc9f6f64",
   "metadata": {
    "hidden": true
   },
   "source": [
    "## Estatística Descritiva"
   ]
  },
  {
   "cell_type": "markdown",
   "id": "d1933c10",
   "metadata": {
    "ExecuteTime": {
     "end_time": "2023-02-08T21:39:06.128321Z",
     "start_time": "2023-02-08T21:39:06.118645Z"
    },
    "hidden": true
   },
   "source": [
    "Realizada em cimda com 2 propósitos:\n",
    "- Obter maior conhecimento de negócio a partir do comportamento dos dados.\n",
    "- Detectar eventuais erros e sanar dúvidas sobre os dados, como faturamento negativo, por exemplo."
   ]
  },
  {
   "cell_type": "markdown",
   "id": "7a8b48e5",
   "metadata": {
    "hidden": true
   },
   "source": [
    "PS: Será realizada no ciclo 2."
   ]
  },
  {
   "cell_type": "markdown",
   "id": "4baa7d40",
   "metadata": {
    "heading_collapsed": true
   },
   "source": [
    "# 4 - Análise 1: Estimativa de faturamento em SP"
   ]
  },
  {
   "cell_type": "markdown",
   "id": "1acc7406",
   "metadata": {
    "hidden": true
   },
   "source": [
    "Análise 1 - Estimar o faturamento que uma loja teria em cada um dos bairros de São Paulo (regressão)."
   ]
  },
  {
   "cell_type": "markdown",
   "id": "8de39a72",
   "metadata": {
    "hidden": true
   },
   "source": [
    "## Divisão dos Dados"
   ]
  },
  {
   "cell_type": "markdown",
   "id": "48885a42",
   "metadata": {
    "ExecuteTime": {
     "end_time": "2023-02-09T12:51:12.087878Z",
     "start_time": "2023-02-09T12:51:12.077256Z"
    },
    "hidden": true
   },
   "source": [
    "Trata-se portanto de um problema de regressão (supervisionado), sendo a variável alvo \"faturamento\" do tipo float (contínua).\n",
    "\n",
    "df_rj será dividida em três partes, sendo:\n",
    "- Dados de treinamento (train): utilizados para treinar os modelos de machine learning.\n",
    "- Dados de validação (val): utilizados para validar a performance dos modelos, e para tunagem de hiperparâmetros.\n",
    "- Dados de teste (test): utilizados para avaliação final da capacidade de generalização dos modelos, simulando dados de produção (registros de SP)."
   ]
  },
  {
   "cell_type": "markdown",
   "id": "f3375bf5",
   "metadata": {
    "hidden": true
   },
   "source": [
    "Divisão entre features e variável alvo:"
   ]
  },
  {
   "cell_type": "code",
   "execution_count": 27,
   "id": "7355724b",
   "metadata": {
    "ExecuteTime": {
     "end_time": "2023-02-10T10:04:30.864960Z",
     "start_time": "2023-02-10T10:04:30.855159Z"
    },
    "hidden": true
   },
   "outputs": [
    {
     "data": {
      "text/plain": [
       "0    932515\n",
       "1    588833\n",
       "Name: faturamento, dtype: int64"
      ]
     },
     "execution_count": 27,
     "metadata": {},
     "output_type": "execute_result"
    }
   ],
   "source": [
    "y1 = df_rj.faturamento\n",
    "y1.head(2)"
   ]
  },
  {
   "cell_type": "markdown",
   "id": "7e2d015b",
   "metadata": {
    "hidden": true
   },
   "source": [
    "A variável \"codigo\" não é informativa, logo será descartada."
   ]
  },
  {
   "cell_type": "code",
   "execution_count": 28,
   "id": "fd04d789",
   "metadata": {
    "ExecuteTime": {
     "end_time": "2023-02-10T10:04:31.214498Z",
     "start_time": "2023-02-10T10:04:31.189634Z"
    },
    "hidden": true
   },
   "outputs": [
    {
     "data": {
      "text/html": [
       "<div>\n",
       "<style scoped>\n",
       "    .dataframe tbody tr th:only-of-type {\n",
       "        vertical-align: middle;\n",
       "    }\n",
       "\n",
       "    .dataframe tbody tr th {\n",
       "        vertical-align: top;\n",
       "    }\n",
       "\n",
       "    .dataframe thead th {\n",
       "        text-align: right;\n",
       "    }\n",
       "</style>\n",
       "<table border=\"1\" class=\"dataframe\">\n",
       "  <thead>\n",
       "    <tr style=\"text-align: right;\">\n",
       "      <th></th>\n",
       "      <th>bairro</th>\n",
       "      <th>cidade</th>\n",
       "      <th>estado</th>\n",
       "      <th>populacao</th>\n",
       "      <th>pop_ate9</th>\n",
       "      <th>pop_de10a14</th>\n",
       "      <th>pop_de15a19</th>\n",
       "      <th>pop_de20a24</th>\n",
       "      <th>pop_de25a34</th>\n",
       "      <th>pop_de35a49</th>\n",
       "      <th>pop_de50a59</th>\n",
       "      <th>pop_mais_de60</th>\n",
       "      <th>domicilios_a1</th>\n",
       "      <th>domicilios_a2</th>\n",
       "      <th>domicilios_b1</th>\n",
       "      <th>domicilios_b2</th>\n",
       "      <th>domicilios_c1</th>\n",
       "      <th>domicilios_c2</th>\n",
       "      <th>domicilios_d</th>\n",
       "      <th>domicilios_e</th>\n",
       "      <th>renda_media</th>\n",
       "      <th>potencial</th>\n",
       "    </tr>\n",
       "  </thead>\n",
       "  <tbody>\n",
       "    <tr>\n",
       "      <th>0</th>\n",
       "      <td>Abolição</td>\n",
       "      <td>Rio de Janeiro</td>\n",
       "      <td>RJ</td>\n",
       "      <td>11676</td>\n",
       "      <td>1027</td>\n",
       "      <td>483</td>\n",
       "      <td>688</td>\n",
       "      <td>800</td>\n",
       "      <td>1675</td>\n",
       "      <td>2300</td>\n",
       "      <td>1784</td>\n",
       "      <td>2919</td>\n",
       "      <td>0</td>\n",
       "      <td>145</td>\n",
       "      <td>715</td>\n",
       "      <td>1242</td>\n",
       "      <td>1093</td>\n",
       "      <td>758</td>\n",
       "      <td>92</td>\n",
       "      <td>304</td>\n",
       "      <td>2501</td>\n",
       "      <td>Médio</td>\n",
       "    </tr>\n",
       "  </tbody>\n",
       "</table>\n",
       "</div>"
      ],
      "text/plain": [
       "     bairro          cidade estado  populacao  pop_ate9  pop_de10a14  pop_de15a19  pop_de20a24  pop_de25a34  pop_de35a49  pop_de50a59  pop_mais_de60  domicilios_a1  domicilios_a2  domicilios_b1  domicilios_b2  domicilios_c1  domicilios_c2  domicilios_d  domicilios_e renda_media potencial\n",
       "0  Abolição  Rio de Janeiro     RJ      11676      1027          483          688          800         1675         2300         1784           2919              0            145            715           1242           1093            758            92           304        2501     Médio"
      ]
     },
     "execution_count": 28,
     "metadata": {},
     "output_type": "execute_result"
    }
   ],
   "source": [
    "X1 = df_rj.drop([\"codigo\",\"faturamento\"], axis=1)\n",
    "X1.head(1)"
   ]
  },
  {
   "cell_type": "markdown",
   "id": "84dbd3a6",
   "metadata": {
    "hidden": true
   },
   "source": [
    "Divisão entre datasets de treino e teste, mantendo 15% dos registros para teste.\n",
    "\n",
    "O parâmetro \"random_state\" é utilizado para manter a reprodutibilidade da divisão."
   ]
  },
  {
   "cell_type": "code",
   "execution_count": 29,
   "id": "3bb4a50e",
   "metadata": {
    "ExecuteTime": {
     "end_time": "2023-02-10T10:04:31.479762Z",
     "start_time": "2023-02-10T10:04:31.470859Z"
    },
    "hidden": true
   },
   "outputs": [],
   "source": [
    "X1_train, X1_test, y1_train, y1_test = train_test_split(X1, y1, random_state=0, test_size=0.15)"
   ]
  },
  {
   "cell_type": "code",
   "execution_count": 30,
   "id": "e6f48a67",
   "metadata": {
    "ExecuteTime": {
     "end_time": "2023-02-10T10:04:32.075917Z",
     "start_time": "2023-02-10T10:04:32.055928Z"
    },
    "hidden": true
   },
   "outputs": [
    {
     "name": "stdout",
     "output_type": "stream",
     "text": [
      "(136, 22)\n",
      "(24, 22)\n"
     ]
    },
    {
     "data": {
      "text/html": [
       "<div>\n",
       "<style scoped>\n",
       "    .dataframe tbody tr th:only-of-type {\n",
       "        vertical-align: middle;\n",
       "    }\n",
       "\n",
       "    .dataframe tbody tr th {\n",
       "        vertical-align: top;\n",
       "    }\n",
       "\n",
       "    .dataframe thead th {\n",
       "        text-align: right;\n",
       "    }\n",
       "</style>\n",
       "<table border=\"1\" class=\"dataframe\">\n",
       "  <thead>\n",
       "    <tr style=\"text-align: right;\">\n",
       "      <th></th>\n",
       "      <th>bairro</th>\n",
       "      <th>cidade</th>\n",
       "      <th>estado</th>\n",
       "      <th>populacao</th>\n",
       "      <th>pop_ate9</th>\n",
       "      <th>pop_de10a14</th>\n",
       "      <th>pop_de15a19</th>\n",
       "      <th>pop_de20a24</th>\n",
       "      <th>pop_de25a34</th>\n",
       "      <th>pop_de35a49</th>\n",
       "      <th>pop_de50a59</th>\n",
       "      <th>pop_mais_de60</th>\n",
       "      <th>domicilios_a1</th>\n",
       "      <th>domicilios_a2</th>\n",
       "      <th>domicilios_b1</th>\n",
       "      <th>domicilios_b2</th>\n",
       "      <th>domicilios_c1</th>\n",
       "      <th>domicilios_c2</th>\n",
       "      <th>domicilios_d</th>\n",
       "      <th>domicilios_e</th>\n",
       "      <th>renda_media</th>\n",
       "      <th>potencial</th>\n",
       "    </tr>\n",
       "  </thead>\n",
       "  <tbody>\n",
       "    <tr>\n",
       "      <th>37</th>\n",
       "      <td>Cordovil</td>\n",
       "      <td>Rio de Janeiro</td>\n",
       "      <td>RJ</td>\n",
       "      <td>46478</td>\n",
       "      <td>5729</td>\n",
       "      <td>2893</td>\n",
       "      <td>3768</td>\n",
       "      <td>3850</td>\n",
       "      <td>7146</td>\n",
       "      <td>9369</td>\n",
       "      <td>5598</td>\n",
       "      <td>8125</td>\n",
       "      <td>0</td>\n",
       "      <td>0</td>\n",
       "      <td>1047</td>\n",
       "      <td>2433</td>\n",
       "      <td>4599</td>\n",
       "      <td>4053</td>\n",
       "      <td>723</td>\n",
       "      <td>2601</td>\n",
       "      <td>1480</td>\n",
       "      <td>Médio</td>\n",
       "    </tr>\n",
       "  </tbody>\n",
       "</table>\n",
       "</div>"
      ],
      "text/plain": [
       "      bairro          cidade estado  populacao  pop_ate9  pop_de10a14  pop_de15a19  pop_de20a24  pop_de25a34  pop_de35a49  pop_de50a59  pop_mais_de60  domicilios_a1  domicilios_a2  domicilios_b1  domicilios_b2  domicilios_c1  domicilios_c2  domicilios_d  domicilios_e renda_media potencial\n",
       "37  Cordovil  Rio de Janeiro     RJ      46478      5729         2893         3768         3850         7146         9369         5598           8125              0              0           1047           2433           4599           4053           723          2601        1480     Médio"
      ]
     },
     "execution_count": 30,
     "metadata": {},
     "output_type": "execute_result"
    }
   ],
   "source": [
    "print(X1_train.shape)\n",
    "print(X1_test.shape)\n",
    "X1_train.head(1)"
   ]
  },
  {
   "cell_type": "markdown",
   "id": "b4031caf",
   "metadata": {
    "hidden": true
   },
   "source": [
    "Divisão entre datasets de treino e validação (a partir do treino), mantendo 15% dos registros para validação."
   ]
  },
  {
   "cell_type": "code",
   "execution_count": 31,
   "id": "802a6d07",
   "metadata": {
    "ExecuteTime": {
     "end_time": "2023-02-10T10:04:32.394122Z",
     "start_time": "2023-02-10T10:04:32.385185Z"
    },
    "hidden": true
   },
   "outputs": [],
   "source": [
    "X1_train, X1_val, y1_train, y1_val = train_test_split(X1_train, y1_train, random_state=0, test_size=0.15)"
   ]
  },
  {
   "cell_type": "code",
   "execution_count": 32,
   "id": "a6ae442d",
   "metadata": {
    "ExecuteTime": {
     "end_time": "2023-02-10T10:04:33.600856Z",
     "start_time": "2023-02-10T10:04:33.567275Z"
    },
    "hidden": true
   },
   "outputs": [
    {
     "name": "stdout",
     "output_type": "stream",
     "text": [
      "(115, 22)\n",
      "(21, 22)\n"
     ]
    },
    {
     "data": {
      "text/html": [
       "<div>\n",
       "<style scoped>\n",
       "    .dataframe tbody tr th:only-of-type {\n",
       "        vertical-align: middle;\n",
       "    }\n",
       "\n",
       "    .dataframe tbody tr th {\n",
       "        vertical-align: top;\n",
       "    }\n",
       "\n",
       "    .dataframe thead th {\n",
       "        text-align: right;\n",
       "    }\n",
       "</style>\n",
       "<table border=\"1\" class=\"dataframe\">\n",
       "  <thead>\n",
       "    <tr style=\"text-align: right;\">\n",
       "      <th></th>\n",
       "      <th>bairro</th>\n",
       "      <th>cidade</th>\n",
       "      <th>estado</th>\n",
       "      <th>populacao</th>\n",
       "      <th>pop_ate9</th>\n",
       "      <th>pop_de10a14</th>\n",
       "      <th>pop_de15a19</th>\n",
       "      <th>pop_de20a24</th>\n",
       "      <th>pop_de25a34</th>\n",
       "      <th>pop_de35a49</th>\n",
       "      <th>pop_de50a59</th>\n",
       "      <th>pop_mais_de60</th>\n",
       "      <th>domicilios_a1</th>\n",
       "      <th>domicilios_a2</th>\n",
       "      <th>domicilios_b1</th>\n",
       "      <th>domicilios_b2</th>\n",
       "      <th>domicilios_c1</th>\n",
       "      <th>domicilios_c2</th>\n",
       "      <th>domicilios_d</th>\n",
       "      <th>domicilios_e</th>\n",
       "      <th>renda_media</th>\n",
       "      <th>potencial</th>\n",
       "    </tr>\n",
       "  </thead>\n",
       "  <tbody>\n",
       "    <tr>\n",
       "      <th>63</th>\n",
       "      <td>Higienópolis</td>\n",
       "      <td>Rio de Janeiro</td>\n",
       "      <td>RJ</td>\n",
       "      <td>16177</td>\n",
       "      <td>1516</td>\n",
       "      <td>748</td>\n",
       "      <td>1016</td>\n",
       "      <td>1174</td>\n",
       "      <td>2488</td>\n",
       "      <td>3497</td>\n",
       "      <td>2327</td>\n",
       "      <td>3411</td>\n",
       "      <td>0</td>\n",
       "      <td>141</td>\n",
       "      <td>857</td>\n",
       "      <td>1464</td>\n",
       "      <td>1740</td>\n",
       "      <td>1030</td>\n",
       "      <td>87</td>\n",
       "      <td>432</td>\n",
       "      <td>2336</td>\n",
       "      <td>Médio</td>\n",
       "    </tr>\n",
       "  </tbody>\n",
       "</table>\n",
       "</div>"
      ],
      "text/plain": [
       "          bairro          cidade estado  populacao  pop_ate9  pop_de10a14  pop_de15a19  pop_de20a24  pop_de25a34  pop_de35a49  pop_de50a59  pop_mais_de60  domicilios_a1  domicilios_a2  domicilios_b1  domicilios_b2  domicilios_c1  domicilios_c2  domicilios_d  domicilios_e renda_media potencial\n",
       "63  Higienópolis  Rio de Janeiro     RJ      16177      1516          748         1016         1174         2488         3497         2327           3411              0            141            857           1464           1740           1030            87           432        2336     Médio"
      ]
     },
     "execution_count": 32,
     "metadata": {},
     "output_type": "execute_result"
    }
   ],
   "source": [
    "print(X1_train.shape)\n",
    "print(X1_val.shape)\n",
    "X1_train.head(1)"
   ]
  },
  {
   "cell_type": "markdown",
   "id": "34aaa8ad",
   "metadata": {
    "hidden": true
   },
   "source": [
    "## Implementação de Baseline"
   ]
  },
  {
   "cell_type": "markdown",
   "id": "a186cca5",
   "metadata": {
    "hidden": true
   },
   "source": [
    "Como algoritmo de machine learning de base, será implementado o KNN Regressor (K-Nearest Neighbors, ou \"K vizinhos mais próximos\") da biblioteca scikit-learn.\n",
    "- É um bom baseline por ser simples de implementar, explicar ao time de negócio, e demandar pouca parametrização.\n",
    "\n",
    "Funcionamento:\n",
    "- O KNN não constrói um modelo (é chamado de “lazy”), mas armazena o dataset de treino dentro dele.\n",
    "- Para prever um novo ponto sem rótulo, encontra o ponto mais próximo dele com rótulo armazenado, sendo seu \"nearest neighbor\".\n",
    "\n",
    "Premissas:\n",
    "- Receber apenas features numéricas, e na mesma escala (demanda pré processamento), pois realiza cálculos de distâncias entre os pontos."
   ]
  },
  {
   "cell_type": "markdown",
   "id": "85e79f11",
   "metadata": {
    "hidden": true
   },
   "source": [
    "Manter apenas features numéricas, respeitando a premissa do KNN."
   ]
  },
  {
   "cell_type": "code",
   "execution_count": 33,
   "id": "acc18922",
   "metadata": {
    "ExecuteTime": {
     "end_time": "2023-02-10T10:04:35.303552Z",
     "start_time": "2023-02-10T10:04:35.278662Z"
    },
    "hidden": true
   },
   "outputs": [
    {
     "data": {
      "text/html": [
       "<div>\n",
       "<style scoped>\n",
       "    .dataframe tbody tr th:only-of-type {\n",
       "        vertical-align: middle;\n",
       "    }\n",
       "\n",
       "    .dataframe tbody tr th {\n",
       "        vertical-align: top;\n",
       "    }\n",
       "\n",
       "    .dataframe thead th {\n",
       "        text-align: right;\n",
       "    }\n",
       "</style>\n",
       "<table border=\"1\" class=\"dataframe\">\n",
       "  <thead>\n",
       "    <tr style=\"text-align: right;\">\n",
       "      <th></th>\n",
       "      <th>populacao</th>\n",
       "      <th>pop_ate9</th>\n",
       "      <th>pop_de10a14</th>\n",
       "      <th>pop_de15a19</th>\n",
       "      <th>pop_de20a24</th>\n",
       "      <th>pop_de25a34</th>\n",
       "      <th>pop_de35a49</th>\n",
       "      <th>pop_de50a59</th>\n",
       "      <th>pop_mais_de60</th>\n",
       "      <th>domicilios_a1</th>\n",
       "      <th>domicilios_a2</th>\n",
       "      <th>domicilios_b1</th>\n",
       "      <th>domicilios_b2</th>\n",
       "      <th>domicilios_c1</th>\n",
       "      <th>domicilios_c2</th>\n",
       "      <th>domicilios_d</th>\n",
       "      <th>domicilios_e</th>\n",
       "    </tr>\n",
       "  </thead>\n",
       "  <tbody>\n",
       "    <tr>\n",
       "      <th>63</th>\n",
       "      <td>16177</td>\n",
       "      <td>1516</td>\n",
       "      <td>748</td>\n",
       "      <td>1016</td>\n",
       "      <td>1174</td>\n",
       "      <td>2488</td>\n",
       "      <td>3497</td>\n",
       "      <td>2327</td>\n",
       "      <td>3411</td>\n",
       "      <td>0</td>\n",
       "      <td>141</td>\n",
       "      <td>857</td>\n",
       "      <td>1464</td>\n",
       "      <td>1740</td>\n",
       "      <td>1030</td>\n",
       "      <td>87</td>\n",
       "      <td>432</td>\n",
       "    </tr>\n",
       "  </tbody>\n",
       "</table>\n",
       "</div>"
      ],
      "text/plain": [
       "    populacao  pop_ate9  pop_de10a14  pop_de15a19  pop_de20a24  pop_de25a34  pop_de35a49  pop_de50a59  pop_mais_de60  domicilios_a1  domicilios_a2  domicilios_b1  domicilios_b2  domicilios_c1  domicilios_c2  domicilios_d  domicilios_e\n",
       "63      16177      1516          748         1016         1174         2488         3497         2327           3411              0            141            857           1464           1740           1030            87           432"
      ]
     },
     "execution_count": 33,
     "metadata": {},
     "output_type": "execute_result"
    }
   ],
   "source": [
    "X1_train = X1_train.select_dtypes(include=['int64', 'float64'])\n",
    "X1_val = X1_val.select_dtypes(include=['int64', 'float64'])\n",
    "X1_train.head(1)"
   ]
  },
  {
   "cell_type": "markdown",
   "id": "a088a42b",
   "metadata": {
    "hidden": true
   },
   "source": [
    "Instanciar um KNN Regressor, treinar com os dados de treino, e realizar predições com os dados de validação.\n",
    "\n",
    "Será parametrizado neste ciclo um número de k=3, visando um modelo mais simples que o K=5 default, com a expectativa de uma maior capacidade de generalização. Nos próximos ciclos, serão avaliados diferentes valores de K, para comparação.  "
   ]
  },
  {
   "cell_type": "code",
   "execution_count": 34,
   "id": "de2de0bc",
   "metadata": {
    "ExecuteTime": {
     "end_time": "2023-02-10T10:04:35.681785Z",
     "start_time": "2023-02-10T10:04:35.666965Z"
    },
    "hidden": true
   },
   "outputs": [],
   "source": [
    "knn_reg = KNeighborsRegressor(n_neighbors=3)\n",
    "knn_reg.fit(X1_train, y1_train)\n",
    "knn_reg_yhat = knn_reg.predict(X1_val)"
   ]
  },
  {
   "cell_type": "markdown",
   "id": "6d17b876",
   "metadata": {
    "hidden": true
   },
   "source": [
    "A métrica utilizada para medir a performance do modelo será a R squared (ou coeficiente de determinação).\n",
    "- Trata-se de uma medita estatística de quão próximos os dados estão da linha de regressão ajustada.\n",
    "- Varia entre entre 0 e 100%, sendo a porcentagem da variação da variável resposta que é explicada por um modelo linear.\n",
    "- Busca-se portanto, o valor mais próximo de 100% possível, sendo aqui a previsão de faturamento mais próxima da realidade possível."
   ]
  },
  {
   "cell_type": "code",
   "execution_count": 35,
   "id": "eaed2898",
   "metadata": {
    "ExecuteTime": {
     "end_time": "2023-02-10T10:04:37.214886Z",
     "start_time": "2023-02-10T10:04:37.203874Z"
    },
    "hidden": true
   },
   "outputs": [
    {
     "name": "stdout",
     "output_type": "stream",
     "text": [
      "R^2 com dados de Validação 0.5709\n"
     ]
    }
   ],
   "source": [
    "print(\"R^2 com dados de Validação {:.4f}\".format(knn_reg.score(X1_val, y1_val)))"
   ]
  },
  {
   "cell_type": "markdown",
   "id": "241a72dc",
   "metadata": {
    "hidden": true
   },
   "source": [
    "Pode-se calcular também o R^2 a partir da predição do modelo, através do pacote \"metrics\" do scikit-sklearn."
   ]
  },
  {
   "cell_type": "code",
   "execution_count": 36,
   "id": "479a6196",
   "metadata": {
    "ExecuteTime": {
     "end_time": "2023-02-10T10:04:37.956723Z",
     "start_time": "2023-02-10T10:04:37.949010Z"
    },
    "hidden": true
   },
   "outputs": [
    {
     "name": "stdout",
     "output_type": "stream",
     "text": [
      "R^2 com dados de Validação: 0.5709\n"
     ]
    }
   ],
   "source": [
    "print(f\"R^2 com dados de Validação: {round(r2_score(y1_val, knn_reg_yhat),4)}\")"
   ]
  },
  {
   "cell_type": "markdown",
   "id": "62cab86c",
   "metadata": {
    "hidden": true
   },
   "source": [
    "O R Squared do KNN foi satisfatório neste primeiro ciclo. Possivlmente a métrica pode ser melhorada, por meio de:\n",
    "- Reescala de dados.\n",
    "- Seleção de features, removendo as não informativas e aquelas não relacionadas ao público alvo.\n",
    "- Seleção de diferentes valores para K, bem como tunagem de hiperparâmetros no modelo.\n",
    "- Avaliação da presença de outliers, que podem distorcer os cálculos de distâncias.\n",
    "\n",
    "Nos próximos ciclos, estes temas serão tratados, e novos algoritmos com diferentes abordagens também serão implementados.\n",
    "\n",
    "No último ciclo, será avaliada a capacidade de generalização do modelo final (de melhor performance), realizando a previsão com os dados de teste."
   ]
  },
  {
   "cell_type": "markdown",
   "id": "c852474c",
   "metadata": {
    "heading_collapsed": true
   },
   "source": [
    "# 5 - Análise 2: Classificação do potencial em SP"
   ]
  },
  {
   "cell_type": "markdown",
   "id": "c1a3f8ed",
   "metadata": {
    "hidden": true
   },
   "source": [
    "Análise 2 - Classificar o potencial dos bairros de São Paulo em alto, médio ou baixo (classificação multiclasse)."
   ]
  },
  {
   "cell_type": "markdown",
   "id": "dd38cc85",
   "metadata": {
    "hidden": true
   },
   "source": [
    "## Divisão dos Dados"
   ]
  },
  {
   "cell_type": "markdown",
   "id": "798830e8",
   "metadata": {
    "ExecuteTime": {
     "end_time": "2023-02-09T12:51:12.087878Z",
     "start_time": "2023-02-09T12:51:12.077256Z"
    },
    "hidden": true
   },
   "source": [
    "Trata-se portanto de um problema de classificação multiclasse (supervisionado), sendo a variável alvo \"potencial\" categórica. \n",
    "- As possíveis categorias de \"potencial\" são: Alto, Médio e Baixo.\n",
    "\n",
    "Assim como na análise 1, aqui df_rj também será dividido em três partes: dados de treinamento, validação e teste. \n",
    "- A separação dos dados da análise 1 não será aproveitada, porque a variável alvo era \"faturamento\", e nesta análise será \"potencial\".\n",
    "- Ou seja, nesta análise 2, \"faturamento\" será uma variável preditora (feature), e \"potencial\" será a variável dependente (target)."
   ]
  },
  {
   "cell_type": "markdown",
   "id": "d7e5f558",
   "metadata": {
    "hidden": true
   },
   "source": [
    "Divisão entre features e variável alvo."
   ]
  },
  {
   "cell_type": "code",
   "execution_count": 43,
   "id": "f66b8d54",
   "metadata": {
    "ExecuteTime": {
     "end_time": "2023-02-10T10:05:31.820747Z",
     "start_time": "2023-02-10T10:05:31.810887Z"
    },
    "hidden": true
   },
   "outputs": [
    {
     "data": {
      "text/plain": [
       "0    Médio\n",
       "1    Baixo\n",
       "Name: potencial, dtype: object"
      ]
     },
     "execution_count": 43,
     "metadata": {},
     "output_type": "execute_result"
    }
   ],
   "source": [
    "y2 = df_rj.potencial\n",
    "y2.head(2)"
   ]
  },
  {
   "cell_type": "markdown",
   "id": "5b0392c3",
   "metadata": {
    "hidden": true
   },
   "source": [
    "A variável \"codigo\" não é informativa, logo será descartada."
   ]
  },
  {
   "cell_type": "code",
   "execution_count": 44,
   "id": "4b8bcd41",
   "metadata": {
    "ExecuteTime": {
     "end_time": "2023-02-10T10:05:32.983548Z",
     "start_time": "2023-02-10T10:05:32.961789Z"
    },
    "hidden": true
   },
   "outputs": [
    {
     "data": {
      "text/html": [
       "<div>\n",
       "<style scoped>\n",
       "    .dataframe tbody tr th:only-of-type {\n",
       "        vertical-align: middle;\n",
       "    }\n",
       "\n",
       "    .dataframe tbody tr th {\n",
       "        vertical-align: top;\n",
       "    }\n",
       "\n",
       "    .dataframe thead th {\n",
       "        text-align: right;\n",
       "    }\n",
       "</style>\n",
       "<table border=\"1\" class=\"dataframe\">\n",
       "  <thead>\n",
       "    <tr style=\"text-align: right;\">\n",
       "      <th></th>\n",
       "      <th>bairro</th>\n",
       "      <th>cidade</th>\n",
       "      <th>estado</th>\n",
       "      <th>populacao</th>\n",
       "      <th>pop_ate9</th>\n",
       "      <th>pop_de10a14</th>\n",
       "      <th>pop_de15a19</th>\n",
       "      <th>pop_de20a24</th>\n",
       "      <th>pop_de25a34</th>\n",
       "      <th>pop_de35a49</th>\n",
       "      <th>pop_de50a59</th>\n",
       "      <th>pop_mais_de60</th>\n",
       "      <th>domicilios_a1</th>\n",
       "      <th>domicilios_a2</th>\n",
       "      <th>domicilios_b1</th>\n",
       "      <th>domicilios_b2</th>\n",
       "      <th>domicilios_c1</th>\n",
       "      <th>domicilios_c2</th>\n",
       "      <th>domicilios_d</th>\n",
       "      <th>domicilios_e</th>\n",
       "      <th>renda_media</th>\n",
       "      <th>faturamento</th>\n",
       "    </tr>\n",
       "  </thead>\n",
       "  <tbody>\n",
       "    <tr>\n",
       "      <th>0</th>\n",
       "      <td>Abolição</td>\n",
       "      <td>Rio de Janeiro</td>\n",
       "      <td>RJ</td>\n",
       "      <td>11676</td>\n",
       "      <td>1027</td>\n",
       "      <td>483</td>\n",
       "      <td>688</td>\n",
       "      <td>800</td>\n",
       "      <td>1675</td>\n",
       "      <td>2300</td>\n",
       "      <td>1784</td>\n",
       "      <td>2919</td>\n",
       "      <td>0</td>\n",
       "      <td>145</td>\n",
       "      <td>715</td>\n",
       "      <td>1242</td>\n",
       "      <td>1093</td>\n",
       "      <td>758</td>\n",
       "      <td>92</td>\n",
       "      <td>304</td>\n",
       "      <td>2501</td>\n",
       "      <td>932515</td>\n",
       "    </tr>\n",
       "  </tbody>\n",
       "</table>\n",
       "</div>"
      ],
      "text/plain": [
       "     bairro          cidade estado  populacao  pop_ate9  pop_de10a14  pop_de15a19  pop_de20a24  pop_de25a34  pop_de35a49  pop_de50a59  pop_mais_de60  domicilios_a1  domicilios_a2  domicilios_b1  domicilios_b2  domicilios_c1  domicilios_c2  domicilios_d  domicilios_e renda_media  faturamento\n",
       "0  Abolição  Rio de Janeiro     RJ      11676      1027          483          688          800         1675         2300         1784           2919              0            145            715           1242           1093            758            92           304        2501       932515"
      ]
     },
     "execution_count": 44,
     "metadata": {},
     "output_type": "execute_result"
    }
   ],
   "source": [
    "X2 = df_rj.drop([\"codigo\",\"potencial\"], axis=1)\n",
    "X2.head(1)"
   ]
  },
  {
   "cell_type": "markdown",
   "id": "35bec008",
   "metadata": {
    "hidden": true
   },
   "source": [
    "Avaliar balanceamento da var resposta."
   ]
  },
  {
   "cell_type": "code",
   "execution_count": 45,
   "id": "654304a6",
   "metadata": {
    "ExecuteTime": {
     "end_time": "2023-02-10T10:05:34.031222Z",
     "start_time": "2023-02-10T10:05:34.020222Z"
    },
    "hidden": true
   },
   "outputs": [
    {
     "data": {
      "text/plain": [
       "Baixo    38.75\n",
       "Médio    31.25\n",
       "Alto     30.00\n",
       "Name: potencial, dtype: float64"
      ]
     },
     "execution_count": 45,
     "metadata": {},
     "output_type": "execute_result"
    }
   ],
   "source": [
    "y2.value_counts(normalize=True)*100"
   ]
  },
  {
   "cell_type": "markdown",
   "id": "2fbd7340",
   "metadata": {
    "hidden": true
   },
   "source": [
    "A variável alvo \"potencial\" está balanceada, ou seja, tem uma distribuição parecida dos registros nas categorias existentes. \n",
    "- Isto dispensa tratativas para balanceamento, e permite o uso da métrica de acurácia, para avaliação de performance."
   ]
  },
  {
   "cell_type": "markdown",
   "id": "d8ac2d3b",
   "metadata": {
    "hidden": true
   },
   "source": [
    "Divisão entre datasets de treino e teste, mantendo 15% dos registros para teste.\n",
    "\n",
    "- O parâmetro \"stratify\" é utilizado para manter uma proporção parecida da variável alvo nos dados de treino e de teste."
   ]
  },
  {
   "cell_type": "code",
   "execution_count": 46,
   "id": "d5c87f47",
   "metadata": {
    "ExecuteTime": {
     "end_time": "2023-02-10T10:05:36.157281Z",
     "start_time": "2023-02-10T10:05:36.147334Z"
    },
    "hidden": true
   },
   "outputs": [],
   "source": [
    "X2_train, X2_test, y2_train, y2_test = train_test_split(X2, y2, random_state=0, test_size=0.15, stratify=y2)"
   ]
  },
  {
   "cell_type": "code",
   "execution_count": 47,
   "id": "319cb7b8",
   "metadata": {
    "ExecuteTime": {
     "end_time": "2023-02-10T10:05:36.585446Z",
     "start_time": "2023-02-10T10:05:36.563671Z"
    },
    "hidden": true
   },
   "outputs": [
    {
     "name": "stdout",
     "output_type": "stream",
     "text": [
      "(136, 22)\n",
      "(24, 22)\n"
     ]
    },
    {
     "data": {
      "text/html": [
       "<div>\n",
       "<style scoped>\n",
       "    .dataframe tbody tr th:only-of-type {\n",
       "        vertical-align: middle;\n",
       "    }\n",
       "\n",
       "    .dataframe tbody tr th {\n",
       "        vertical-align: top;\n",
       "    }\n",
       "\n",
       "    .dataframe thead th {\n",
       "        text-align: right;\n",
       "    }\n",
       "</style>\n",
       "<table border=\"1\" class=\"dataframe\">\n",
       "  <thead>\n",
       "    <tr style=\"text-align: right;\">\n",
       "      <th></th>\n",
       "      <th>bairro</th>\n",
       "      <th>cidade</th>\n",
       "      <th>estado</th>\n",
       "      <th>populacao</th>\n",
       "      <th>pop_ate9</th>\n",
       "      <th>pop_de10a14</th>\n",
       "      <th>pop_de15a19</th>\n",
       "      <th>pop_de20a24</th>\n",
       "      <th>pop_de25a34</th>\n",
       "      <th>pop_de35a49</th>\n",
       "      <th>pop_de50a59</th>\n",
       "      <th>pop_mais_de60</th>\n",
       "      <th>domicilios_a1</th>\n",
       "      <th>domicilios_a2</th>\n",
       "      <th>domicilios_b1</th>\n",
       "      <th>domicilios_b2</th>\n",
       "      <th>domicilios_c1</th>\n",
       "      <th>domicilios_c2</th>\n",
       "      <th>domicilios_d</th>\n",
       "      <th>domicilios_e</th>\n",
       "      <th>renda_media</th>\n",
       "      <th>faturamento</th>\n",
       "    </tr>\n",
       "  </thead>\n",
       "  <tbody>\n",
       "    <tr>\n",
       "      <th>4</th>\n",
       "      <td>Anchieta</td>\n",
       "      <td>Rio de Janeiro</td>\n",
       "      <td>RJ</td>\n",
       "      <td>57222</td>\n",
       "      <td>7677</td>\n",
       "      <td>3774</td>\n",
       "      <td>4892</td>\n",
       "      <td>4600</td>\n",
       "      <td>8660</td>\n",
       "      <td>12272</td>\n",
       "      <td>7157</td>\n",
       "      <td>8190</td>\n",
       "      <td>0</td>\n",
       "      <td>0</td>\n",
       "      <td>1089</td>\n",
       "      <td>2821</td>\n",
       "      <td>5110</td>\n",
       "      <td>5422</td>\n",
       "      <td>1073</td>\n",
       "      <td>3261</td>\n",
       "      <td>1380</td>\n",
       "      <td>553020</td>\n",
       "    </tr>\n",
       "  </tbody>\n",
       "</table>\n",
       "</div>"
      ],
      "text/plain": [
       "     bairro          cidade estado  populacao  pop_ate9  pop_de10a14  pop_de15a19  pop_de20a24  pop_de25a34  pop_de35a49  pop_de50a59  pop_mais_de60  domicilios_a1  domicilios_a2  domicilios_b1  domicilios_b2  domicilios_c1  domicilios_c2  domicilios_d  domicilios_e renda_media  faturamento\n",
       "4  Anchieta  Rio de Janeiro     RJ      57222      7677         3774         4892         4600         8660        12272         7157           8190              0              0           1089           2821           5110           5422          1073          3261        1380       553020"
      ]
     },
     "execution_count": 47,
     "metadata": {},
     "output_type": "execute_result"
    }
   ],
   "source": [
    "print(X2_train.shape)\n",
    "print(X2_test.shape)\n",
    "X2_train.head(1)"
   ]
  },
  {
   "cell_type": "markdown",
   "id": "85470ca2",
   "metadata": {
    "hidden": true
   },
   "source": [
    "Divisão entre datasets de treino e validação (a partir dos dados de treino), mantendo 15% dos registros para validação."
   ]
  },
  {
   "cell_type": "code",
   "execution_count": 48,
   "id": "487b85f2",
   "metadata": {
    "ExecuteTime": {
     "end_time": "2023-02-10T10:05:41.229837Z",
     "start_time": "2023-02-10T10:05:41.220443Z"
    },
    "hidden": true
   },
   "outputs": [],
   "source": [
    "X2_train, X2_val, y2_train, y2_val = train_test_split(X2_train, y2_train, random_state=0, test_size=0.15, stratify=y2_train)"
   ]
  },
  {
   "cell_type": "code",
   "execution_count": 49,
   "id": "c0b50662",
   "metadata": {
    "ExecuteTime": {
     "end_time": "2023-02-10T10:05:41.459884Z",
     "start_time": "2023-02-10T10:05:41.436872Z"
    },
    "hidden": true,
    "scrolled": true
   },
   "outputs": [
    {
     "name": "stdout",
     "output_type": "stream",
     "text": [
      "(115, 22)\n",
      "(21, 22)\n"
     ]
    },
    {
     "data": {
      "text/html": [
       "<div>\n",
       "<style scoped>\n",
       "    .dataframe tbody tr th:only-of-type {\n",
       "        vertical-align: middle;\n",
       "    }\n",
       "\n",
       "    .dataframe tbody tr th {\n",
       "        vertical-align: top;\n",
       "    }\n",
       "\n",
       "    .dataframe thead th {\n",
       "        text-align: right;\n",
       "    }\n",
       "</style>\n",
       "<table border=\"1\" class=\"dataframe\">\n",
       "  <thead>\n",
       "    <tr style=\"text-align: right;\">\n",
       "      <th></th>\n",
       "      <th>bairro</th>\n",
       "      <th>cidade</th>\n",
       "      <th>estado</th>\n",
       "      <th>populacao</th>\n",
       "      <th>pop_ate9</th>\n",
       "      <th>pop_de10a14</th>\n",
       "      <th>pop_de15a19</th>\n",
       "      <th>pop_de20a24</th>\n",
       "      <th>pop_de25a34</th>\n",
       "      <th>pop_de35a49</th>\n",
       "      <th>pop_de50a59</th>\n",
       "      <th>pop_mais_de60</th>\n",
       "      <th>domicilios_a1</th>\n",
       "      <th>domicilios_a2</th>\n",
       "      <th>domicilios_b1</th>\n",
       "      <th>domicilios_b2</th>\n",
       "      <th>domicilios_c1</th>\n",
       "      <th>domicilios_c2</th>\n",
       "      <th>domicilios_d</th>\n",
       "      <th>domicilios_e</th>\n",
       "      <th>renda_media</th>\n",
       "      <th>faturamento</th>\n",
       "    </tr>\n",
       "  </thead>\n",
       "  <tbody>\n",
       "    <tr>\n",
       "      <th>42</th>\n",
       "      <td>Del Castilho</td>\n",
       "      <td>Rio de Janeiro</td>\n",
       "      <td>RJ</td>\n",
       "      <td>16051</td>\n",
       "      <td>1740</td>\n",
       "      <td>831</td>\n",
       "      <td>1140</td>\n",
       "      <td>1182</td>\n",
       "      <td>2496</td>\n",
       "      <td>3231</td>\n",
       "      <td>2052</td>\n",
       "      <td>3379</td>\n",
       "      <td>0</td>\n",
       "      <td>80</td>\n",
       "      <td>588</td>\n",
       "      <td>1118</td>\n",
       "      <td>1481</td>\n",
       "      <td>1243</td>\n",
       "      <td>166</td>\n",
       "      <td>828</td>\n",
       "      <td>1889</td>\n",
       "      <td>846146</td>\n",
       "    </tr>\n",
       "  </tbody>\n",
       "</table>\n",
       "</div>"
      ],
      "text/plain": [
       "          bairro          cidade estado  populacao  pop_ate9  pop_de10a14  pop_de15a19  pop_de20a24  pop_de25a34  pop_de35a49  pop_de50a59  pop_mais_de60  domicilios_a1  domicilios_a2  domicilios_b1  domicilios_b2  domicilios_c1  domicilios_c2  domicilios_d  domicilios_e renda_media  faturamento\n",
       "42  Del Castilho  Rio de Janeiro     RJ      16051      1740          831         1140         1182         2496         3231         2052           3379              0             80            588           1118           1481           1243           166           828        1889       846146"
      ]
     },
     "execution_count": 49,
     "metadata": {},
     "output_type": "execute_result"
    }
   ],
   "source": [
    "print(X2_train.shape)\n",
    "print(X2_val.shape)\n",
    "X2_train.head(1)"
   ]
  },
  {
   "cell_type": "markdown",
   "id": "267a2bad",
   "metadata": {
    "hidden": true
   },
   "source": [
    "## Implementação de Baseline"
   ]
  },
  {
   "cell_type": "markdown",
   "id": "d04100b7",
   "metadata": {
    "hidden": true
   },
   "source": [
    "Nesta análise, também será implementado o KNN como modelo de base. \n",
    "\n",
    "Se tratando de um problema de classificação, será utilizado o KNN classifier da biblioteca scikit-learn."
   ]
  },
  {
   "cell_type": "markdown",
   "id": "31c568c3",
   "metadata": {
    "hidden": true
   },
   "source": [
    "Manter apenas features numéricas, respeitando a premissa do KNN."
   ]
  },
  {
   "cell_type": "code",
   "execution_count": 50,
   "id": "d8476109",
   "metadata": {
    "ExecuteTime": {
     "end_time": "2023-02-10T10:05:47.646917Z",
     "start_time": "2023-02-10T10:05:47.626993Z"
    },
    "hidden": true
   },
   "outputs": [
    {
     "data": {
      "text/html": [
       "<div>\n",
       "<style scoped>\n",
       "    .dataframe tbody tr th:only-of-type {\n",
       "        vertical-align: middle;\n",
       "    }\n",
       "\n",
       "    .dataframe tbody tr th {\n",
       "        vertical-align: top;\n",
       "    }\n",
       "\n",
       "    .dataframe thead th {\n",
       "        text-align: right;\n",
       "    }\n",
       "</style>\n",
       "<table border=\"1\" class=\"dataframe\">\n",
       "  <thead>\n",
       "    <tr style=\"text-align: right;\">\n",
       "      <th></th>\n",
       "      <th>populacao</th>\n",
       "      <th>pop_ate9</th>\n",
       "      <th>pop_de10a14</th>\n",
       "      <th>pop_de15a19</th>\n",
       "      <th>pop_de20a24</th>\n",
       "      <th>pop_de25a34</th>\n",
       "      <th>pop_de35a49</th>\n",
       "      <th>pop_de50a59</th>\n",
       "      <th>pop_mais_de60</th>\n",
       "      <th>domicilios_a1</th>\n",
       "      <th>domicilios_a2</th>\n",
       "      <th>domicilios_b1</th>\n",
       "      <th>domicilios_b2</th>\n",
       "      <th>domicilios_c1</th>\n",
       "      <th>domicilios_c2</th>\n",
       "      <th>domicilios_d</th>\n",
       "      <th>domicilios_e</th>\n",
       "      <th>faturamento</th>\n",
       "    </tr>\n",
       "  </thead>\n",
       "  <tbody>\n",
       "    <tr>\n",
       "      <th>42</th>\n",
       "      <td>16051</td>\n",
       "      <td>1740</td>\n",
       "      <td>831</td>\n",
       "      <td>1140</td>\n",
       "      <td>1182</td>\n",
       "      <td>2496</td>\n",
       "      <td>3231</td>\n",
       "      <td>2052</td>\n",
       "      <td>3379</td>\n",
       "      <td>0</td>\n",
       "      <td>80</td>\n",
       "      <td>588</td>\n",
       "      <td>1118</td>\n",
       "      <td>1481</td>\n",
       "      <td>1243</td>\n",
       "      <td>166</td>\n",
       "      <td>828</td>\n",
       "      <td>846146</td>\n",
       "    </tr>\n",
       "  </tbody>\n",
       "</table>\n",
       "</div>"
      ],
      "text/plain": [
       "    populacao  pop_ate9  pop_de10a14  pop_de15a19  pop_de20a24  pop_de25a34  pop_de35a49  pop_de50a59  pop_mais_de60  domicilios_a1  domicilios_a2  domicilios_b1  domicilios_b2  domicilios_c1  domicilios_c2  domicilios_d  domicilios_e  faturamento\n",
       "42      16051      1740          831         1140         1182         2496         3231         2052           3379              0             80            588           1118           1481           1243           166           828       846146"
      ]
     },
     "execution_count": 50,
     "metadata": {},
     "output_type": "execute_result"
    }
   ],
   "source": [
    "X2_train = X2_train.select_dtypes(include=['int64', 'float64'])\n",
    "X2_val = X2_val.select_dtypes(include=['int64', 'float64'])\n",
    "X2_train.head(1)"
   ]
  },
  {
   "cell_type": "markdown",
   "id": "18c41acd",
   "metadata": {
    "hidden": true
   },
   "source": [
    "Instanciar um KNN Classifier, treinar com os dados de treino, e realizar predições com os dados de validação.\n",
    "\n",
    "Será parametrizado neste ciclo um número de k=3, visando um modelo mais simples que o K=5 default, com a expectativa de uma maior capacidade de generalização. Nos próximos ciclos, serão avaliados diferentes valores de K, para comparação."
   ]
  },
  {
   "cell_type": "code",
   "execution_count": 51,
   "id": "c0160650",
   "metadata": {
    "ExecuteTime": {
     "end_time": "2023-02-10T10:05:50.123850Z",
     "start_time": "2023-02-10T10:05:50.109491Z"
    },
    "hidden": true
   },
   "outputs": [],
   "source": [
    "knn_cla = KNeighborsClassifier(n_neighbors=3)\n",
    "knn_cla.fit(X2_train, y2_train)\n",
    "knn_cla_yhat = knn_cla.predict(X2_val)"
   ]
  },
  {
   "cell_type": "code",
   "execution_count": 52,
   "id": "e77d4cb9",
   "metadata": {
    "ExecuteTime": {
     "end_time": "2023-02-10T10:05:52.201932Z",
     "start_time": "2023-02-10T10:05:52.193631Z"
    },
    "hidden": true
   },
   "outputs": [
    {
     "data": {
      "text/plain": [
       "array(['Médio', 'Baixo', 'Médio'], dtype=object)"
      ]
     },
     "execution_count": 52,
     "metadata": {},
     "output_type": "execute_result"
    }
   ],
   "source": [
    "knn_cla_yhat[:3]"
   ]
  },
  {
   "cell_type": "markdown",
   "id": "e6db2741",
   "metadata": {
    "hidden": true
   },
   "source": [
    "A métrica utilizada para medir a performance do modelo será a acurácia média.\n",
    "- Varia entre 0 e 100%, e mede quantas predições o modelo acertou, dentre todas as previsões realizadas.\n",
    "- Busca-se portanto, o valor mais próximo de 100% possível, ou seja, a previsão de potencial mais próxima da realidade possível."
   ]
  },
  {
   "cell_type": "code",
   "execution_count": 53,
   "id": "954e666a",
   "metadata": {
    "ExecuteTime": {
     "end_time": "2023-02-10T10:05:53.026741Z",
     "start_time": "2023-02-10T10:05:53.013129Z"
    },
    "hidden": true
   },
   "outputs": [
    {
     "name": "stdout",
     "output_type": "stream",
     "text": [
      "Acurácia com dados de Validação: 0.5714\n"
     ]
    }
   ],
   "source": [
    "print(\"Acurácia com dados de Validação: {:.4f}\".format(knn_cla.score(X2_val, y2_val)))"
   ]
  },
  {
   "cell_type": "markdown",
   "id": "4fe77a35",
   "metadata": {
    "hidden": true
   },
   "source": [
    "Pode-se calcular também a acurácia média a partir da predição do modelo, através do pacote \"metrics\" do scikit-sklearn."
   ]
  },
  {
   "cell_type": "code",
   "execution_count": 54,
   "id": "b6eace74",
   "metadata": {
    "ExecuteTime": {
     "end_time": "2023-02-10T10:05:54.858691Z",
     "start_time": "2023-02-10T10:05:54.850816Z"
    },
    "hidden": true
   },
   "outputs": [
    {
     "name": "stdout",
     "output_type": "stream",
     "text": [
      "Acurácia com dados de Validação: 0.5714\n"
     ]
    }
   ],
   "source": [
    "print(f\"Acurácia com dados de Validação: {round(accuracy_score(y2_val, knn_cla_yhat),4)}\")"
   ]
  },
  {
   "cell_type": "markdown",
   "id": "021a4ddc",
   "metadata": {
    "hidden": true
   },
   "source": [
    "A acurácia do KNN foi satisfatória neste primeiro ciclo. Possivlmente a métrica pode ser melhorada, por meio de:\n",
    "- Reescala de dados.\n",
    "- Seleção de features, removendo as não informativas e aquelas não relacionadas ao público alvo.\n",
    "- Seleção de diferentes valores para K, bem como tunagem de hiperparâmetros no modelo.\n",
    "- Avaliação da presença de outliers, que podem distorcer os cálculos de distâncias.\n",
    "\n",
    "Nos próximos ciclos, estes temas serão tratados, e novos algoritmos com diferentes abordagens também serão implementados.\n",
    "\n",
    "No último ciclo, será avaliada a capacidade de generalização do modelo final (de melhor performance), realizando a previsão com os dados de teste."
   ]
  },
  {
   "cell_type": "markdown",
   "id": "9e41fef4",
   "metadata": {
    "heading_collapsed": true
   },
   "source": [
    "# 6 - Análise 3: Segmentação por perfil de renda e idade em SP"
   ]
  },
  {
   "cell_type": "markdown",
   "id": "c40226c8",
   "metadata": {
    "hidden": true
   },
   "source": [
    "Análise 3 - Segmentar os bairros de São Paulo de acordo com o perfil de renda e idade, identificando os com maior aderência ao público alvo."
   ]
  },
  {
   "cell_type": "markdown",
   "id": "2f6addf7",
   "metadata": {
    "hidden": true
   },
   "source": [
    "Trata-se portanto de um problema de clusterização (não supervisionado). \n",
    "\n",
    "- Nesta tarefa, não há divisão do dataset, sendo passados todos os dados ao modelo, que encontra grupos (clusters) a partir deles.\n",
    "- Diferentemente das análises anteriores, aqui será utilizado o dataset df_sp, a fim de realizar a segmentação destes bairros.\n",
    "- Diferentes modelos serão utilizados, sendo neste primeiro ciclo escolhido o K-Means, disponível na biblioteca scikit-learn."
   ]
  },
  {
   "cell_type": "markdown",
   "id": "f8b852de",
   "metadata": {
    "hidden": true
   },
   "source": [
    "## K-Means"
   ]
  },
  {
   "cell_type": "markdown",
   "id": "c5a6a4ef",
   "metadata": {
    "hidden": true
   },
   "source": [
    "O K-Means (K-médias) possui este nome, porque utiliza centróides, que são o ponto central (médio) do cluster.\n",
    "\n",
    "Funcionamento: \n",
    "- A partir do número de K informado, o K-means criará k centroides aleatoriamente no espaço de dados, que serão os grupos. \n",
    "- Serão então calculadas as distâncias de todos os pontos em relação a cada um dos centroides.\n",
    "- Cada ponto assumirá o rótulo do centroide mais próximo a ele, passando a pertencer a aquele grupo.\n",
    "- Ao fim do processo, reposiciona-se o centróide no centro do cluster, recalcula-se as distênaicas e atribuição dos pontos aos grupos.\n",
    "- Quando o centroide convergir e os pontos pararem de ser atribuídos a outro cluster, o agrupamento está concluído.\n",
    "\n",
    "Características:\n",
    "- O número de K (grupos) é uma parâmetro.\n",
    "- Serão gerados sempre clusters convexos, pelo fato de utilizar o raio para calcular as distâncias.\n",
    "- Assume sempre que os cluster possuem o mesmo diâmetro.\n",
    "- Como a inicialização dos centróides é aleatória, pode formar grupos distintos conforme a sua posição inicial. Isto pode ser atenuado pelo parâmetro \"n_init\", que define o número de inicializações aleatórias, e retorna o melhor resultado.\n",
    "- Necessita que os dados estejam na mesma escala (ou muito próxima), evitando a distorção dos cálculos de distâncias.\n",
    "- É sensível a outliers, demandando remoção ou tratativa destes.\n",
    "\n"
   ]
  },
  {
   "cell_type": "markdown",
   "id": "fb52e664",
   "metadata": {
    "hidden": true
   },
   "source": [
    "Clusterizar apenas perfil de renda e idade do público alvo da empresa."
   ]
  },
  {
   "cell_type": "code",
   "execution_count": 55,
   "id": "7a98aa7a",
   "metadata": {
    "ExecuteTime": {
     "end_time": "2023-02-10T10:09:43.708982Z",
     "start_time": "2023-02-10T10:09:43.685333Z"
    },
    "hidden": true
   },
   "outputs": [
    {
     "data": {
      "text/html": [
       "<div>\n",
       "<style scoped>\n",
       "    .dataframe tbody tr th:only-of-type {\n",
       "        vertical-align: middle;\n",
       "    }\n",
       "\n",
       "    .dataframe tbody tr th {\n",
       "        vertical-align: top;\n",
       "    }\n",
       "\n",
       "    .dataframe thead th {\n",
       "        text-align: right;\n",
       "    }\n",
       "</style>\n",
       "<table border=\"1\" class=\"dataframe\">\n",
       "  <thead>\n",
       "    <tr style=\"text-align: right;\">\n",
       "      <th></th>\n",
       "      <th>codigo</th>\n",
       "      <th>bairro</th>\n",
       "      <th>cidade</th>\n",
       "      <th>estado</th>\n",
       "      <th>populacao</th>\n",
       "      <th>pop_ate9</th>\n",
       "      <th>pop_de10a14</th>\n",
       "      <th>pop_de15a19</th>\n",
       "      <th>pop_de20a24</th>\n",
       "      <th>pop_de25a34</th>\n",
       "      <th>pop_de35a49</th>\n",
       "      <th>pop_de50a59</th>\n",
       "      <th>pop_mais_de60</th>\n",
       "      <th>domicilios_a1</th>\n",
       "      <th>domicilios_a2</th>\n",
       "      <th>domicilios_b1</th>\n",
       "      <th>domicilios_b2</th>\n",
       "      <th>domicilios_c1</th>\n",
       "      <th>domicilios_c2</th>\n",
       "      <th>domicilios_d</th>\n",
       "      <th>domicilios_e</th>\n",
       "      <th>renda_media</th>\n",
       "      <th>faturamento</th>\n",
       "      <th>potencial</th>\n",
       "    </tr>\n",
       "  </thead>\n",
       "  <tbody>\n",
       "    <tr>\n",
       "      <th>160</th>\n",
       "      <td>355030251</td>\n",
       "      <td>A. E. Carvalho</td>\n",
       "      <td>São Paulo</td>\n",
       "      <td>SP</td>\n",
       "      <td>94034</td>\n",
       "      <td>12668</td>\n",
       "      <td>6853</td>\n",
       "      <td>9836</td>\n",
       "      <td>7487</td>\n",
       "      <td>14535</td>\n",
       "      <td>21549</td>\n",
       "      <td>10598</td>\n",
       "      <td>10508</td>\n",
       "      <td>0</td>\n",
       "      <td>253</td>\n",
       "      <td>2197</td>\n",
       "      <td>4368</td>\n",
       "      <td>6681</td>\n",
       "      <td>7011</td>\n",
       "      <td>2247</td>\n",
       "      <td>5670</td>\n",
       "      <td>1501</td>\n",
       "      <td>NaN</td>\n",
       "      <td>NaN</td>\n",
       "    </tr>\n",
       "    <tr>\n",
       "      <th>161</th>\n",
       "      <td>35503020</td>\n",
       "      <td>Aclimação</td>\n",
       "      <td>São Paulo</td>\n",
       "      <td>SP</td>\n",
       "      <td>32791</td>\n",
       "      <td>2297</td>\n",
       "      <td>1017</td>\n",
       "      <td>2096</td>\n",
       "      <td>2197</td>\n",
       "      <td>5341</td>\n",
       "      <td>7281</td>\n",
       "      <td>4917</td>\n",
       "      <td>7645</td>\n",
       "      <td>1413</td>\n",
       "      <td>1734</td>\n",
       "      <td>3704</td>\n",
       "      <td>2351</td>\n",
       "      <td>1946</td>\n",
       "      <td>827</td>\n",
       "      <td>291</td>\n",
       "      <td>1617</td>\n",
       "      <td>5920</td>\n",
       "      <td>NaN</td>\n",
       "      <td>NaN</td>\n",
       "    </tr>\n",
       "  </tbody>\n",
       "</table>\n",
       "</div>"
      ],
      "text/plain": [
       "        codigo          bairro     cidade estado  populacao  pop_ate9  pop_de10a14  pop_de15a19  pop_de20a24  pop_de25a34  pop_de35a49  pop_de50a59  pop_mais_de60  domicilios_a1  domicilios_a2  domicilios_b1  domicilios_b2  domicilios_c1  domicilios_c2  domicilios_d  domicilios_e renda_media  faturamento potencial\n",
       "160  355030251  A. E. Carvalho  São Paulo     SP      94034     12668         6853         9836         7487        14535        21549        10598          10508              0            253           2197           4368           6681           7011          2247          5670        1501          NaN       NaN\n",
       "161   35503020       Aclimação  São Paulo     SP      32791      2297         1017         2096         2197         5341         7281         4917           7645           1413           1734           3704           2351           1946            827           291          1617        5920          NaN       NaN"
      ]
     },
     "execution_count": 55,
     "metadata": {},
     "output_type": "execute_result"
    }
   ],
   "source": [
    "df_sp.head(2)"
   ]
  },
  {
   "cell_type": "code",
   "execution_count": 57,
   "id": "59d94136",
   "metadata": {
    "ExecuteTime": {
     "end_time": "2023-02-10T10:09:52.368075Z",
     "start_time": "2023-02-10T10:09:52.350544Z"
    },
    "hidden": true
   },
   "outputs": [
    {
     "name": "stdout",
     "output_type": "stream",
     "text": [
      "(296, 6)\n"
     ]
    },
    {
     "data": {
      "text/html": [
       "<div>\n",
       "<style scoped>\n",
       "    .dataframe tbody tr th:only-of-type {\n",
       "        vertical-align: middle;\n",
       "    }\n",
       "\n",
       "    .dataframe tbody tr th {\n",
       "        vertical-align: top;\n",
       "    }\n",
       "\n",
       "    .dataframe thead th {\n",
       "        text-align: right;\n",
       "    }\n",
       "</style>\n",
       "<table border=\"1\" class=\"dataframe\">\n",
       "  <thead>\n",
       "    <tr style=\"text-align: right;\">\n",
       "      <th></th>\n",
       "      <th>pop_de25a34</th>\n",
       "      <th>pop_de35a49</th>\n",
       "      <th>domicilios_a1</th>\n",
       "      <th>domicilios_a2</th>\n",
       "      <th>domicilios_b2</th>\n",
       "      <th>domicilios_b2</th>\n",
       "    </tr>\n",
       "  </thead>\n",
       "  <tbody>\n",
       "    <tr>\n",
       "      <th>160</th>\n",
       "      <td>14535</td>\n",
       "      <td>21549</td>\n",
       "      <td>0</td>\n",
       "      <td>253</td>\n",
       "      <td>4368</td>\n",
       "      <td>4368</td>\n",
       "    </tr>\n",
       "  </tbody>\n",
       "</table>\n",
       "</div>"
      ],
      "text/plain": [
       "     pop_de25a34  pop_de35a49  domicilios_a1  domicilios_a2  domicilios_b2  domicilios_b2\n",
       "160        14535        21549              0            253           4368           4368"
      ]
     },
     "execution_count": 57,
     "metadata": {},
     "output_type": "execute_result"
    }
   ],
   "source": [
    "df_seg = df_sp[[\"pop_de25a34\",\"pop_de35a49\",\"domicilios_a1\",\"domicilios_a2\",\"domicilios_b2\",\"domicilios_b2\"]]\n",
    "print(df_seg.shape)\n",
    "df_seg.head(1)"
   ]
  },
  {
   "cell_type": "markdown",
   "id": "100c066c",
   "metadata": {
    "hidden": true
   },
   "source": [
    "Instanciar o KMeans, treinar o modelo, e avaliar sua performance com a biblioteca yellowbrick.\n",
    "- Serão avaliados cenários de 3 a 6 grupos, pelo entendimento que isto otimiza os esforços do time de negócio em suas ações de marketing direcionado."
   ]
  },
  {
   "cell_type": "code",
   "execution_count": 58,
   "id": "809344eb",
   "metadata": {
    "ExecuteTime": {
     "end_time": "2023-02-10T10:10:05.788259Z",
     "start_time": "2023-02-10T10:10:05.781341Z"
    },
    "hidden": true
   },
   "outputs": [],
   "source": [
    "clusters = [3, 4, 5, 6]"
   ]
  },
  {
   "cell_type": "code",
   "execution_count": 65,
   "id": "e8494e8e",
   "metadata": {
    "ExecuteTime": {
     "end_time": "2023-02-10T10:11:17.583724Z",
     "start_time": "2023-02-10T10:11:16.853134Z"
    },
    "hidden": true
   },
   "outputs": [
    {
     "data": {
      "image/png": "[encoded data removed]",
      "text/plain": [
       "<Figure size 600x300 with 1 Axes>"
      ]
     },
     "metadata": {},
     "output_type": "display_data"
    }
   ],
   "source": [
    "plt.figure(figsize = (6,3));\n",
    "kmeans_viz = KElbowVisualizer(KMeans(n_init=10, random_state=0), k=clusters, metric='silhouette', timings=False );\n",
    "kmeans_viz.fit(df_seg);\n",
    "kmeans_viz.show();"
   ]
  },
  {
   "cell_type": "markdown",
   "id": "7ae40ae6",
   "metadata": {
    "hidden": true
   },
   "source": [
    "A avaliação dos modelos será dada pela métrica Silhouette Score (SS), que pode ser utilizada para avaliar diferentes clusterizadores.\n",
    "- A Silhueta (S) é a distância média do ponto em relação aos demais (do mesmo cluster, e de fora dele). A silhuette score é a média de todas as silhuetas de todos os pontos.\n",
    "\n",
    "A SS mede portanto as duas propriedades que definem uma boa clusterização: \n",
    "- A compactação dos clusters (compactness): a distância entre os pontos do mesmo cluster deve ser a menor possível.\n",
    "- A separação entre os clusters (separation): a distância entre os pontos de clusters diferentes deve ser a maior possível.\n",
    "\n",
    "Dado que a SS varia entre 0 e 1, quando mais próximo de 1, melhor pode ser considerada a clusterização, considerando as propriedades acima."
   ]
  },
  {
   "cell_type": "markdown",
   "id": "94b8591f",
   "metadata": {
    "hidden": true
   },
   "source": [
    "A SS do K-Means com k=3 foi levemente superior neste primeiro ciclo. Todavia, pode ser interessante gerar um número maior de grupos de perfil de renda e idade ao time de marketing.\n",
    "\n",
    "Considerando 4 grupos, foi obtida uma SS maior que 0.5 neste primeiro ciclo, o que é aceitável. Possivlmente a métrica pode ser melhorada, por meio de:\n",
    "- Reescala de dados.\n",
    "- Avaliação da presença de outliers, que podem distorcer os cálculos de distâncias.\n",
    "- Tunagem de hiperparâmetros no modelo.\n",
    "- Feature engeneering a partir 6 features de perfil de renda e idade do público alvo, buscando melhorar o espaço de dados. \n",
    "- Novos algoritmos com diferentes abordagens de clusterização.\n",
    "\n",
    "Vamos abaixo treinar um K-Means com k=4 para avançar neste ciclo, e salvar suas previsões em uma variávels. \n",
    "Nos próximos ciclos, os tópicos acima serão abordados. \n",
    "\n"
   ]
  },
  {
   "cell_type": "code",
   "execution_count": 66,
   "id": "811e5a52",
   "metadata": {
    "ExecuteTime": {
     "end_time": "2023-02-10T10:13:13.127353Z",
     "start_time": "2023-02-10T10:13:13.043827Z"
    },
    "hidden": true
   },
   "outputs": [
    {
     "data": {
      "text/plain": [
       "array([3, 0, 3, 2, 0], dtype=int32)"
      ]
     },
     "execution_count": 66,
     "metadata": {},
     "output_type": "execute_result"
    }
   ],
   "source": [
    "kmeans = KMeans( n_clusters=4, #número de clusters\n",
    "                  n_init=10, #número de vezes que o k-means irá com diferentes centroid seeds\n",
    "                 random_state=0) #seed, para gerar a mesma inicialização aleatória\n",
    "kmeans.fit(df_seg)\n",
    "labels_kmeans = kmeans.labels_\n",
    "labels_kmeans[:5]"
   ]
  },
  {
   "cell_type": "code",
   "execution_count": 67,
   "id": "451c181d",
   "metadata": {
    "ExecuteTime": {
     "end_time": "2023-02-10T10:13:23.751549Z",
     "start_time": "2023-02-10T10:13:23.736320Z"
    },
    "hidden": true,
    "scrolled": true
   },
   "outputs": [
    {
     "name": "stdout",
     "output_type": "stream",
     "text": [
      "Silhouette Score com k=4: 0.52\n"
     ]
    }
   ],
   "source": [
    "#this method of k-means (sklearn) returns the SS\n",
    "print(f\"Silhouette Score com k=4: {round(silhouette_score(df_seg, labels_kmeans, metric='euclidean'),2)}\") "
   ]
  },
  {
   "cell_type": "markdown",
   "id": "2b74dc84",
   "metadata": {
    "hidden": true
   },
   "source": [
    "## K-Means - Perfis dos Clusters"
   ]
  },
  {
   "cell_type": "markdown",
   "id": "8cfb3130",
   "metadata": {
    "hidden": true
   },
   "source": [
    "Criar um dataset contendo o grupo de cada bairro pertence. "
   ]
  },
  {
   "cell_type": "code",
   "execution_count": 68,
   "id": "d2924a7d",
   "metadata": {
    "ExecuteTime": {
     "end_time": "2023-02-10T10:14:01.728240Z",
     "start_time": "2023-02-10T10:14:01.718834Z"
    },
    "hidden": true
   },
   "outputs": [
    {
     "data": {
      "text/plain": [
       "Index(['pop_de25a34', 'pop_de35a49', 'domicilios_a1', 'domicilios_a2',\n",
       "       'domicilios_b2', 'domicilios_b2'],\n",
       "      dtype='object')"
      ]
     },
     "execution_count": 68,
     "metadata": {},
     "output_type": "execute_result"
    }
   ],
   "source": [
    "df_seg.columns"
   ]
  },
  {
   "cell_type": "code",
   "execution_count": 70,
   "id": "2bbee2b1",
   "metadata": {
    "ExecuteTime": {
     "end_time": "2023-02-10T10:14:17.562074Z",
     "start_time": "2023-02-10T10:14:17.543709Z"
    },
    "hidden": true
   },
   "outputs": [
    {
     "data": {
      "text/html": [
       "<div>\n",
       "<style scoped>\n",
       "    .dataframe tbody tr th:only-of-type {\n",
       "        vertical-align: middle;\n",
       "    }\n",
       "\n",
       "    .dataframe tbody tr th {\n",
       "        vertical-align: top;\n",
       "    }\n",
       "\n",
       "    .dataframe thead th {\n",
       "        text-align: right;\n",
       "    }\n",
       "</style>\n",
       "<table border=\"1\" class=\"dataframe\">\n",
       "  <thead>\n",
       "    <tr style=\"text-align: right;\">\n",
       "      <th></th>\n",
       "      <th>bairro</th>\n",
       "      <th>pop_de25a34</th>\n",
       "      <th>pop_de35a49</th>\n",
       "      <th>domicilios_a1</th>\n",
       "      <th>domicilios_a2</th>\n",
       "      <th>domicilios_b1</th>\n",
       "      <th>domicilios_b2</th>\n",
       "      <th>cluster</th>\n",
       "    </tr>\n",
       "  </thead>\n",
       "  <tbody>\n",
       "    <tr>\n",
       "      <th>160</th>\n",
       "      <td>A. E. Carvalho</td>\n",
       "      <td>14535</td>\n",
       "      <td>21549</td>\n",
       "      <td>0</td>\n",
       "      <td>253</td>\n",
       "      <td>2197</td>\n",
       "      <td>4368</td>\n",
       "      <td>3</td>\n",
       "    </tr>\n",
       "    <tr>\n",
       "      <th>161</th>\n",
       "      <td>Aclimação</td>\n",
       "      <td>5341</td>\n",
       "      <td>7281</td>\n",
       "      <td>1413</td>\n",
       "      <td>1734</td>\n",
       "      <td>3704</td>\n",
       "      <td>2351</td>\n",
       "      <td>0</td>\n",
       "    </tr>\n",
       "    <tr>\n",
       "      <th>162</th>\n",
       "      <td>Adventista</td>\n",
       "      <td>17749</td>\n",
       "      <td>23364</td>\n",
       "      <td>0</td>\n",
       "      <td>0</td>\n",
       "      <td>1423</td>\n",
       "      <td>4875</td>\n",
       "      <td>3</td>\n",
       "    </tr>\n",
       "  </tbody>\n",
       "</table>\n",
       "</div>"
      ],
      "text/plain": [
       "             bairro  pop_de25a34  pop_de35a49  domicilios_a1  domicilios_a2  domicilios_b1  domicilios_b2  cluster\n",
       "160  A. E. Carvalho        14535        21549              0            253           2197           4368        3\n",
       "161       Aclimação         5341         7281           1413           1734           3704           2351        0\n",
       "162      Adventista        17749        23364              0              0           1423           4875        3"
      ]
     },
     "execution_count": 70,
     "metadata": {},
     "output_type": "execute_result"
    }
   ],
   "source": [
    "df_kmeans = df_sp.copy()\n",
    "df_kmeans = df_kmeans[['bairro', 'pop_de25a34', 'pop_de35a49', 'domicilios_a1', 'domicilios_a2', 'domicilios_b1', 'domicilios_b2']]\n",
    "df_kmeans['cluster'] = labels_kmeans\n",
    "df_kmeans.head(3)"
   ]
  },
  {
   "cell_type": "markdown",
   "id": "450554ba",
   "metadata": {
    "hidden": true
   },
   "source": [
    "Avaliar a quantidade e percentual de bairros por cluster."
   ]
  },
  {
   "cell_type": "code",
   "execution_count": 72,
   "id": "8e762fc2",
   "metadata": {
    "ExecuteTime": {
     "end_time": "2023-02-10T10:14:36.848588Z",
     "start_time": "2023-02-10T10:14:36.821349Z"
    },
    "hidden": true
   },
   "outputs": [
    {
     "data": {
      "text/html": [
       "<div>\n",
       "<style scoped>\n",
       "    .dataframe tbody tr th:only-of-type {\n",
       "        vertical-align: middle;\n",
       "    }\n",
       "\n",
       "    .dataframe tbody tr th {\n",
       "        vertical-align: top;\n",
       "    }\n",
       "\n",
       "    .dataframe thead th {\n",
       "        text-align: right;\n",
       "    }\n",
       "</style>\n",
       "<table border=\"1\" class=\"dataframe\">\n",
       "  <thead>\n",
       "    <tr style=\"text-align: right;\">\n",
       "      <th></th>\n",
       "      <th>cluster</th>\n",
       "      <th>bairro</th>\n",
       "      <th>perc_bairros</th>\n",
       "    </tr>\n",
       "  </thead>\n",
       "  <tbody>\n",
       "    <tr>\n",
       "      <th>0</th>\n",
       "      <td>0</td>\n",
       "      <td>104</td>\n",
       "      <td>35.135135</td>\n",
       "    </tr>\n",
       "    <tr>\n",
       "      <th>1</th>\n",
       "      <td>1</td>\n",
       "      <td>12</td>\n",
       "      <td>4.054054</td>\n",
       "    </tr>\n",
       "    <tr>\n",
       "      <th>2</th>\n",
       "      <td>2</td>\n",
       "      <td>132</td>\n",
       "      <td>44.594595</td>\n",
       "    </tr>\n",
       "    <tr>\n",
       "      <th>3</th>\n",
       "      <td>3</td>\n",
       "      <td>48</td>\n",
       "      <td>16.216216</td>\n",
       "    </tr>\n",
       "  </tbody>\n",
       "</table>\n",
       "</div>"
      ],
      "text/plain": [
       "   cluster  bairro  perc_bairros\n",
       "0        0     104     35.135135\n",
       "1        1      12      4.054054\n",
       "2        2     132     44.594595\n",
       "3        3      48     16.216216"
      ]
     },
     "execution_count": 72,
     "metadata": {},
     "output_type": "execute_result"
    }
   ],
   "source": [
    "df_kmeans_prof = df_kmeans[['bairro', 'cluster']].groupby('cluster').count().reset_index()\n",
    "df_kmeans_prof['perc_bairros'] = df_kmeans_prof['bairro'] / df_kmeans_prof['bairro'].sum()*100\n",
    "df_kmeans_prof"
   ]
  },
  {
   "cell_type": "markdown",
   "id": "507a4505",
   "metadata": {
    "hidden": true
   },
   "source": [
    "Na sequência, serão calculadas as médias dos features, para representar o centroide dos grupos. \n",
    "\n",
    "Desta forma, será possível compreender o perfil de renda e idade dos bairros. "
   ]
  },
  {
   "cell_type": "code",
   "execution_count": 73,
   "id": "7de8d08f",
   "metadata": {
    "ExecuteTime": {
     "end_time": "2023-02-10T10:15:02.919362Z",
     "start_time": "2023-02-10T10:15:02.815409Z"
    },
    "hidden": true
   },
   "outputs": [
    {
     "data": {
      "text/html": [
       "<div>\n",
       "<style scoped>\n",
       "    .dataframe tbody tr th:only-of-type {\n",
       "        vertical-align: middle;\n",
       "    }\n",
       "\n",
       "    .dataframe tbody tr th {\n",
       "        vertical-align: top;\n",
       "    }\n",
       "\n",
       "    .dataframe thead th {\n",
       "        text-align: right;\n",
       "    }\n",
       "</style>\n",
       "<table border=\"1\" class=\"dataframe\">\n",
       "  <thead>\n",
       "    <tr style=\"text-align: right;\">\n",
       "      <th></th>\n",
       "      <th>cluster</th>\n",
       "      <th>bairro</th>\n",
       "      <th>perc_bairros</th>\n",
       "      <th>pop_de25a34</th>\n",
       "      <th>pop_de35a49</th>\n",
       "      <th>domicilios_a1</th>\n",
       "      <th>domicilios_a2</th>\n",
       "      <th>domicilios_b1</th>\n",
       "      <th>domicilios_b2</th>\n",
       "    </tr>\n",
       "  </thead>\n",
       "  <tbody>\n",
       "    <tr>\n",
       "      <th>0</th>\n",
       "      <td>0</td>\n",
       "      <td>104</td>\n",
       "      <td>35.135135</td>\n",
       "      <td>6691.673077</td>\n",
       "      <td>9684.740385</td>\n",
       "      <td>493.375000</td>\n",
       "      <td>774.692308</td>\n",
       "      <td>2583.817308</td>\n",
       "      <td>2662.884615</td>\n",
       "    </tr>\n",
       "    <tr>\n",
       "      <th>1</th>\n",
       "      <td>1</td>\n",
       "      <td>12</td>\n",
       "      <td>4.054054</td>\n",
       "      <td>24031.166667</td>\n",
       "      <td>33197.500000</td>\n",
       "      <td>0.666667</td>\n",
       "      <td>212.583333</td>\n",
       "      <td>2674.250000</td>\n",
       "      <td>6423.166667</td>\n",
       "    </tr>\n",
       "    <tr>\n",
       "      <th>2</th>\n",
       "      <td>2</td>\n",
       "      <td>132</td>\n",
       "      <td>44.594595</td>\n",
       "      <td>2220.810606</td>\n",
       "      <td>3124.060606</td>\n",
       "      <td>525.075758</td>\n",
       "      <td>544.666667</td>\n",
       "      <td>1240.772727</td>\n",
       "      <td>860.787879</td>\n",
       "    </tr>\n",
       "    <tr>\n",
       "      <th>3</th>\n",
       "      <td>3</td>\n",
       "      <td>48</td>\n",
       "      <td>16.216216</td>\n",
       "      <td>13102.791667</td>\n",
       "      <td>18474.812500</td>\n",
       "      <td>45.020833</td>\n",
       "      <td>260.395833</td>\n",
       "      <td>2108.145833</td>\n",
       "      <td>4132.854167</td>\n",
       "    </tr>\n",
       "  </tbody>\n",
       "</table>\n",
       "</div>"
      ],
      "text/plain": [
       "   cluster  bairro  perc_bairros   pop_de25a34   pop_de35a49  domicilios_a1  domicilios_a2  domicilios_b1  domicilios_b2\n",
       "0        0     104     35.135135   6691.673077   9684.740385     493.375000     774.692308    2583.817308    2662.884615\n",
       "1        1      12      4.054054  24031.166667  33197.500000       0.666667     212.583333    2674.250000    6423.166667\n",
       "2        2     132     44.594595   2220.810606   3124.060606     525.075758     544.666667    1240.772727     860.787879\n",
       "3        3      48     16.216216  13102.791667  18474.812500      45.020833     260.395833    2108.145833    4132.854167"
      ]
     },
     "execution_count": 73,
     "metadata": {},
     "output_type": "execute_result"
    }
   ],
   "source": [
    "#média da feature pop_de25a34\n",
    "df_avg_pop_de25a34 = df_kmeans[['pop_de25a34','cluster']].groupby('cluster').mean().reset_index()\n",
    "df_kmeans_prof = pd.merge(df_kmeans_prof, df_avg_pop_de25a34, how='inner', on='cluster')\n",
    "\n",
    "#média da feature pop_de35a49\n",
    "df_avg_pop_de35a49 = df_kmeans[['pop_de35a49','cluster']].groupby('cluster').mean().reset_index()\n",
    "df_kmeans_prof = pd.merge(df_kmeans_prof, df_avg_pop_de35a49, how='inner', on='cluster')\n",
    "\n",
    "#média da feature domicilios_a1\n",
    "df_avg_domicilios_a1 = df_kmeans[['domicilios_a1','cluster']].groupby('cluster').mean().reset_index()\n",
    "df_kmeans_prof = pd.merge(df_kmeans_prof, df_avg_domicilios_a1, how='inner', on='cluster')\n",
    "\n",
    "#média da feature domicilios_a1\n",
    "df_avg_domicilios_a2 = df_kmeans[['domicilios_a2','cluster']].groupby('cluster').mean().reset_index()\n",
    "df_kmeans_prof = pd.merge(df_kmeans_prof, df_avg_domicilios_a2, how='inner', on='cluster')\n",
    "\n",
    "#média da feature domicilios_b1\n",
    "df_avg_domicilios_b1 = df_kmeans[['domicilios_b1','cluster']].groupby('cluster').mean().reset_index()\n",
    "df_kmeans_prof = pd.merge(df_kmeans_prof, df_avg_domicilios_b1, how='inner', on='cluster')\n",
    "\n",
    "#média da feature domicilios_b2\n",
    "df_avg_domicilios_b2 = df_kmeans[['domicilios_b2','cluster']].groupby('cluster').mean().reset_index()\n",
    "df_kmeans_prof = pd.merge(df_kmeans_prof, df_avg_domicilios_b2, how='inner', on='cluster')\n",
    "\n",
    "df_kmeans_prof"
   ]
  },
  {
   "cell_type": "markdown",
   "id": "b0ef8732",
   "metadata": {
    "ExecuteTime": {
     "end_time": "2023-02-09T20:16:22.277744Z",
     "start_time": "2023-02-09T20:16:22.265511Z"
    },
    "hidden": true
   },
   "source": [
    "Gerar relatório de perfil de renda e idade dos bairros."
   ]
  },
  {
   "cell_type": "code",
   "execution_count": 75,
   "id": "31d0ffa4",
   "metadata": {
    "ExecuteTime": {
     "end_time": "2023-02-10T10:15:15.458764Z",
     "start_time": "2023-02-10T10:15:15.444887Z"
    },
    "hidden": true,
    "scrolled": true
   },
   "outputs": [
    {
     "name": "stdout",
     "output_type": "stream",
     "text": [
      " Cluster 0:\n",
      "    -Número de bairros:     104 (35%) \n",
      "    -População 25-34 anos:  6692 (15%) \n",
      "    -População 35-49 anos:  9685 (15%)\n",
      "    -Domicílios renda A1:   493 (46%)\n",
      "    -Domicílios renda A2:   775 (43%)\n",
      "    -Domicílios renda B1:   2584 (30%)\n",
      "    -Domicílios renda B2:   2663 (19%) \n",
      "\n",
      " Cluster 1:\n",
      "    -Número de bairros:     12 (4%) \n",
      "    -População 25-34 anos:  24031 (52%) \n",
      "    -População 35-49 anos:  33198 (51%)\n",
      "    -Domicílios renda A1:   1 (0%)\n",
      "    -Domicílios renda A2:   213 (12%)\n",
      "    -Domicílios renda B1:   2674 (31%)\n",
      "    -Domicílios renda B2:   6423 (46%) \n",
      "\n",
      " Cluster 2:\n",
      "    -Número de bairros:     132 (45%) \n",
      "    -População 25-34 anos:  2221 (5%) \n",
      "    -População 35-49 anos:  3124 (5%)\n",
      "    -Domicílios renda A1:   525 (49%)\n",
      "    -Domicílios renda A2:   545 (30%)\n",
      "    -Domicílios renda B1:   1241 (14%)\n",
      "    -Domicílios renda B2:   861 (6%) \n",
      "\n",
      " Cluster 3:\n",
      "    -Número de bairros:     48 (16%) \n",
      "    -População 25-34 anos:  13103 (28%) \n",
      "    -População 35-49 anos:  18475 (29%)\n",
      "    -Domicílios renda A1:   45 (4%)\n",
      "    -Domicílios renda A2:   260 (15%)\n",
      "    -Domicílios renda B1:   2108 (24%)\n",
      "    -Domicílios renda B2:   4133 (29%) \n",
      "\n"
     ]
    }
   ],
   "source": [
    "for i in range(len(df_kmeans_prof['bairro'])):\n",
    "    print(f\"\"\" Cluster {df_kmeans_prof['cluster'][i]}:\n",
    "    -Número de bairros:     {df_kmeans_prof['bairro'][i]} ({round(df_kmeans_prof['perc_bairros'][i])}%) \n",
    "    -População 25-34 anos:  {round(df_kmeans_prof['pop_de25a34'][i])} ({round(df_kmeans_prof.pop_de25a34[i]/df_kmeans_prof.pop_de25a34.sum()*100)}%) \n",
    "    -População 35-49 anos:  {round(df_kmeans_prof['pop_de35a49'][i])} ({round(df_kmeans_prof.pop_de35a49[i]/df_kmeans_prof.pop_de35a49.sum()*100)}%)\n",
    "    -Domicílios renda A1:   {round(df_kmeans_prof['domicilios_a1'][i])} ({round(df_kmeans_prof.domicilios_a1[i]/df_kmeans_prof.domicilios_a1.sum()*100)}%)\n",
    "    -Domicílios renda A2:   {round(df_kmeans_prof['domicilios_a2'][i])} ({round(df_kmeans_prof.domicilios_a2[i]/df_kmeans_prof.domicilios_a2.sum()*100)}%)\n",
    "    -Domicílios renda B1:   {round(df_kmeans_prof['domicilios_b1'][i])} ({round(df_kmeans_prof.domicilios_b1[i]/df_kmeans_prof.domicilios_b1.sum()*100)}%)\n",
    "    -Domicílios renda B2:   {round(df_kmeans_prof['domicilios_b2'][i])} ({round(df_kmeans_prof.domicilios_b2[i]/df_kmeans_prof.domicilios_b2.sum()*100)}%) \\n\"\"\")"
   ]
  },
  {
   "cell_type": "markdown",
   "id": "19043f80",
   "metadata": {
    "hidden": true
   },
   "source": [
    "Através do relatório acima, podem ser identificados 4 grupos de bairros onde o perfil de renda e idade são mais homogêneos dentro de cada grupo. \n",
    "\n",
    "Referente a indicação dos grupos ou bairros com maior aderência ao público alvo, será feita nova análise no próximo ciclo, utilizando uma variável para população, e outra para renda, para simplificar a interpretação e tomada de decisão do time de negócio. "
   ]
  }
 ],
 "metadata": {
  "kernelspec": {
   "display_name": "Python 3 (ipykernel)",
   "language": "python",
   "name": "python3"
  },
  "language_info": {
   "codemirror_mode": {
    "name": "ipython",
    "version": 3
   },
   "file_extension": ".py",
   "mimetype": "text/x-python",
   "name": "python",
   "nbconvert_exporter": "python",
   "pygments_lexer": "ipython3",
   "version": "3.8.12"
  },
  "toc": {
   "base_numbering": 1,
   "nav_menu": {},
   "number_sections": true,
   "sideBar": true,
   "skip_h1_title": false,
   "title_cell": "Table of Contents",
   "title_sidebar": "Contents",
   "toc_cell": false,
   "toc_position": {},
   "toc_section_display": true,
   "toc_window_display": false
  }
 },
 "nbformat": 4,
 "nbformat_minor": 5
}
