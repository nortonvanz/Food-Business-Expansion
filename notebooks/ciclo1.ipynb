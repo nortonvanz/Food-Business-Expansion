{
 "cells": [
  {
   "cell_type": "markdown",
   "id": "6d76752b",
   "metadata": {
    "heading_collapsed": true
   },
   "source": [
    "# Planejamento da Solução"
   ]
  },
  {
   "cell_type": "markdown",
   "id": "f805e277",
   "metadata": {
    "hidden": true
   },
   "source": [
    "**Qual é o problema de negócio?**\n",
    "\n",
    "- Empresa alimentícia situada no RJ, deseja abrir filiais na cidade de São Paulo. Para isso, precisa de 3 análises:\n",
    "    - 1 - Estimar faturamento que uma loja teria em cada um dos bairros de São Paulo (regressão, neste caso sem séries temporais).\n",
    "    - 2 - Classificar o potencial dos bairros de São Paulo em alto, médio ou baixo (classificação multiclasse).\n",
    "    - 3 - Segmentar os bairros de São Paulo de acordo com o perfil de renda e idade, identificando os com maior aderência ao público alvo.\n",
    "    \n",
    "- Público alvo: adultos de 25 a 50 anos, das classes A (rendas A1 e A2) e B (rendas B1 e B2). \n",
    "\n",
    "**Saída**\n",
    "\n",
    "- Prototipagem técnica da solução: https://docs.google.com/spreadsheets/d/17lxCBRLPEuNCO25BimVFRE3Tms-314WSTpJ1xgEIf38/edit#gid=0\n",
    "\n",
    "- O que será entregue, efetivamente? / Onde o time de negócio quer ver?\n",
    "    - Documento no formato doc, pdf ou ppt, voltado ao negócio, apresentando um racional de como os dados foram analisados. Detalhar com gráficos, tabelas, e descrever conclusões.\n",
    "    - Responder: Dada a natureza do problema apresentado, que outro dado externo (fontes públicas ou privadas) poderia ser utilizado para agregar mais valor ao resultado? Por que?\n",
    "    \n",
    "**Entrada**\n",
    "- Fontes de dados:\n",
    "    - Dataset contendo faturamento e potencial dos bairros do Rio de Janeiro do cliente, bem como dados sociodemográficos do bairros do Rio de Janeiro e São Paulo.\n",
    "\n",
    "- Ferramentas:\n",
    "    - Python 3.8.12, Jupyter Notebook, Git, Github.\n",
    "\n",
    "**Processamento**\n",
    "- Tipo de problema: Análise exploratória, regressão, classificação e clusterização.\n"
   ]
  },
  {
   "cell_type": "markdown",
   "id": "aa4130d8",
   "metadata": {
    "hidden": true
   },
   "source": [
    "**Estratégia de condução**\n",
    "- Ciclo 1: \n",
    "    - Entendimento do problema de negócio e planejamento da solução.\n",
    "    - Coleta de dados.\n",
    "    - Limpeza e análise preliminar.\n",
    "    - Separação entre RJ e SP.\n",
    "    - Implementação de modelos de base de machine learning para as análises 1 e 2\n",
    "    - Implementação de modelo de agrupamento para a análise 3.\n",
    "- Ciclo 2: \n",
    "    - TBD"
   ]
  },
  {
   "cell_type": "markdown",
   "id": "3a1d6f4d",
   "metadata": {
    "heading_collapsed": true
   },
   "source": [
    "# Importações"
   ]
  },
  {
   "cell_type": "markdown",
   "id": "148f73ea",
   "metadata": {
    "hidden": true
   },
   "source": [
    "## Bibliotecas"
   ]
  },
  {
   "cell_type": "code",
   "execution_count": 103,
   "id": "0def86a6",
   "metadata": {
    "ExecuteTime": {
     "end_time": "2023-02-09T22:57:25.779218Z",
     "start_time": "2023-02-09T22:57:25.770280Z"
    },
    "hidden": true
   },
   "outputs": [],
   "source": [
    "import pandas                      as pd \n",
    "import seaborn                     as sns\n",
    "import numpy                       as np\n",
    "import inflection\n",
    "from IPython.core.display          import HTML\n",
    "from matplotlib                    import pyplot as plt\n",
    "from tabulate                      import tabulate\n",
    "\n",
    "from sklearn.model_selection       import train_test_split\n",
    "from sklearn.neighbors             import KNeighborsRegressor, KNeighborsClassifier\n",
    "from sklearn.cluster               import KMeans\n",
    "from yellowbrick.cluster           import KElbowVisualizer\n",
    "from sklearn.metrics               import silhouette_score, r2_score, accuracy_score"
   ]
  },
  {
   "cell_type": "markdown",
   "id": "abeb7ff7",
   "metadata": {
    "heading_collapsed": true,
    "hidden": true
   },
   "source": [
    "## Funções Auxiliares"
   ]
  },
  {
   "cell_type": "code",
   "execution_count": 2,
   "id": "4610b961",
   "metadata": {
    "ExecuteTime": {
     "end_time": "2023-02-09T22:09:42.647899Z",
     "start_time": "2023-02-09T22:09:42.595938Z"
    },
    "hidden": true,
    "scrolled": true
   },
   "outputs": [
    {
     "data": {
      "text/html": [
       "<style>.container { width:100% !important; }</style>"
      ],
      "text/plain": [
       "<IPython.core.display.HTML object>"
      ]
     },
     "metadata": {},
     "output_type": "display_data"
    }
   ],
   "source": [
    "def jupyter_settings():\n",
    "    \"\"\" Otimiza configurações gerais, padronizando tamanhos de plots, etc \"\"\"\n",
    "    %matplotlib inline\n",
    "    plt.style.use( 'bmh' )\n",
    "    plt.rcParams['figure.figsize'] = [25, 12]\n",
    "    plt.rcParams['font.size'] = 24\n",
    "    display( HTML( '<style>.container { width:100% !important; }</style>') )\n",
    "    pd.options.display.max_columns = None\n",
    "    pd.options.display.max_rows = None\n",
    "    pd.set_option( 'display.expand_frame_repr', False )\n",
    "    sns.set()\n",
    "    pd.set_option('display.max_columns', 30)\n",
    "    pd.set_option('display.max_rows', 30)\n",
    "jupyter_settings()"
   ]
  },
  {
   "cell_type": "markdown",
   "id": "90a8c8ca",
   "metadata": {
    "heading_collapsed": true,
    "hidden": true
   },
   "source": [
    "## Coleta de Dados"
   ]
  },
  {
   "cell_type": "markdown",
   "id": "ded343d5",
   "metadata": {
    "hidden": true
   },
   "source": [
    "Carregamento dos dados originais do xlsx."
   ]
  },
  {
   "cell_type": "code",
   "execution_count": 3,
   "id": "a19e26ef",
   "metadata": {
    "ExecuteTime": {
     "end_time": "2023-02-09T22:09:44.821010Z",
     "start_time": "2023-02-09T22:09:43.931037Z"
    },
    "hidden": true
   },
   "outputs": [
    {
     "data": {
      "text/html": [
       "<div>\n",
       "<style scoped>\n",
       "    .dataframe tbody tr th:only-of-type {\n",
       "        vertical-align: middle;\n",
       "    }\n",
       "\n",
       "    .dataframe tbody tr th {\n",
       "        vertical-align: top;\n",
       "    }\n",
       "\n",
       "    .dataframe thead th {\n",
       "        text-align: right;\n",
       "    }\n",
       "</style>\n",
       "<table border=\"1\" class=\"dataframe\">\n",
       "  <thead>\n",
       "    <tr style=\"text-align: right;\">\n",
       "      <th></th>\n",
       "      <th>codigo</th>\n",
       "      <th>nome</th>\n",
       "      <th>cidade</th>\n",
       "      <th>estado</th>\n",
       "      <th>população</th>\n",
       "      <th>popAte9</th>\n",
       "      <th>popDe10a14</th>\n",
       "      <th>popDe15a19</th>\n",
       "      <th>popDe20a24</th>\n",
       "      <th>popDe25a34</th>\n",
       "      <th>popDe35a49</th>\n",
       "      <th>popDe50a59</th>\n",
       "      <th>popMaisDe60</th>\n",
       "      <th>domiciliosA1</th>\n",
       "      <th>domiciliosA2</th>\n",
       "      <th>domiciliosB1</th>\n",
       "      <th>domiciliosB2</th>\n",
       "      <th>domiciliosC1</th>\n",
       "      <th>domiciliosC2</th>\n",
       "      <th>domiciliosD</th>\n",
       "      <th>domiciliosE</th>\n",
       "      <th>rendaMedia</th>\n",
       "      <th>faturamento</th>\n",
       "      <th>potencial</th>\n",
       "    </tr>\n",
       "  </thead>\n",
       "  <tbody>\n",
       "    <tr>\n",
       "      <th>0</th>\n",
       "      <td>3304557060</td>\n",
       "      <td>Abolição</td>\n",
       "      <td>Rio de Janeiro</td>\n",
       "      <td>RJ</td>\n",
       "      <td>11676</td>\n",
       "      <td>1027</td>\n",
       "      <td>483</td>\n",
       "      <td>688</td>\n",
       "      <td>800</td>\n",
       "      <td>1675</td>\n",
       "      <td>2300</td>\n",
       "      <td>1784</td>\n",
       "      <td>2919</td>\n",
       "      <td>0</td>\n",
       "      <td>145</td>\n",
       "      <td>715</td>\n",
       "      <td>1242</td>\n",
       "      <td>1093</td>\n",
       "      <td>758</td>\n",
       "      <td>92</td>\n",
       "      <td>304</td>\n",
       "      <td>2501</td>\n",
       "      <td>932515.0</td>\n",
       "      <td>Médio</td>\n",
       "    </tr>\n",
       "    <tr>\n",
       "      <th>1</th>\n",
       "      <td>3304557138</td>\n",
       "      <td>Acari</td>\n",
       "      <td>Rio de Janeiro</td>\n",
       "      <td>RJ</td>\n",
       "      <td>27564</td>\n",
       "      <td>5131</td>\n",
       "      <td>2188</td>\n",
       "      <td>2697</td>\n",
       "      <td>2630</td>\n",
       "      <td>4810</td>\n",
       "      <td>5308</td>\n",
       "      <td>2403</td>\n",
       "      <td>2397</td>\n",
       "      <td>0</td>\n",
       "      <td>0</td>\n",
       "      <td>82</td>\n",
       "      <td>506</td>\n",
       "      <td>2040</td>\n",
       "      <td>2490</td>\n",
       "      <td>827</td>\n",
       "      <td>2506</td>\n",
       "      <td>931</td>\n",
       "      <td>588833.0</td>\n",
       "      <td>Baixo</td>\n",
       "    </tr>\n",
       "    <tr>\n",
       "      <th>2</th>\n",
       "      <td>3304557057</td>\n",
       "      <td>Água Santa</td>\n",
       "      <td>Rio de Janeiro</td>\n",
       "      <td>RJ</td>\n",
       "      <td>9003</td>\n",
       "      <td>883</td>\n",
       "      <td>399</td>\n",
       "      <td>597</td>\n",
       "      <td>762</td>\n",
       "      <td>1755</td>\n",
       "      <td>2076</td>\n",
       "      <td>1112</td>\n",
       "      <td>1419</td>\n",
       "      <td>0</td>\n",
       "      <td>96</td>\n",
       "      <td>404</td>\n",
       "      <td>652</td>\n",
       "      <td>644</td>\n",
       "      <td>522</td>\n",
       "      <td>77</td>\n",
       "      <td>254</td>\n",
       "      <td>2391</td>\n",
       "      <td>874200.0</td>\n",
       "      <td>Baixo</td>\n",
       "    </tr>\n",
       "    <tr>\n",
       "      <th>3</th>\n",
       "      <td>3304557031</td>\n",
       "      <td>Alto Da Boa Vista</td>\n",
       "      <td>Rio de Janeiro</td>\n",
       "      <td>RJ</td>\n",
       "      <td>9606</td>\n",
       "      <td>1072</td>\n",
       "      <td>538</td>\n",
       "      <td>660</td>\n",
       "      <td>685</td>\n",
       "      <td>1317</td>\n",
       "      <td>2007</td>\n",
       "      <td>1341</td>\n",
       "      <td>1986</td>\n",
       "      <td>114</td>\n",
       "      <td>178</td>\n",
       "      <td>393</td>\n",
       "      <td>517</td>\n",
       "      <td>945</td>\n",
       "      <td>584</td>\n",
       "      <td>137</td>\n",
       "      <td>286</td>\n",
       "      <td>3727</td>\n",
       "      <td>912226.0</td>\n",
       "      <td>Médio</td>\n",
       "    </tr>\n",
       "    <tr>\n",
       "      <th>4</th>\n",
       "      <td>3304557125</td>\n",
       "      <td>Anchieta</td>\n",
       "      <td>Rio de Janeiro</td>\n",
       "      <td>RJ</td>\n",
       "      <td>57222</td>\n",
       "      <td>7677</td>\n",
       "      <td>3774</td>\n",
       "      <td>4892</td>\n",
       "      <td>4600</td>\n",
       "      <td>8660</td>\n",
       "      <td>12272</td>\n",
       "      <td>7157</td>\n",
       "      <td>8190</td>\n",
       "      <td>0</td>\n",
       "      <td>0</td>\n",
       "      <td>1089</td>\n",
       "      <td>2821</td>\n",
       "      <td>5110</td>\n",
       "      <td>5422</td>\n",
       "      <td>1073</td>\n",
       "      <td>3261</td>\n",
       "      <td>1380</td>\n",
       "      <td>553020.0</td>\n",
       "      <td>Médio</td>\n",
       "    </tr>\n",
       "    <tr>\n",
       "      <th>...</th>\n",
       "      <td>...</td>\n",
       "      <td>...</td>\n",
       "      <td>...</td>\n",
       "      <td>...</td>\n",
       "      <td>...</td>\n",
       "      <td>...</td>\n",
       "      <td>...</td>\n",
       "      <td>...</td>\n",
       "      <td>...</td>\n",
       "      <td>...</td>\n",
       "      <td>...</td>\n",
       "      <td>...</td>\n",
       "      <td>...</td>\n",
       "      <td>...</td>\n",
       "      <td>...</td>\n",
       "      <td>...</td>\n",
       "      <td>...</td>\n",
       "      <td>...</td>\n",
       "      <td>...</td>\n",
       "      <td>...</td>\n",
       "      <td>...</td>\n",
       "      <td>...</td>\n",
       "      <td>...</td>\n",
       "      <td>...</td>\n",
       "    </tr>\n",
       "    <tr>\n",
       "      <th>451</th>\n",
       "      <td>355030213</td>\n",
       "      <td>Vila Sônia</td>\n",
       "      <td>São Paulo</td>\n",
       "      <td>SP</td>\n",
       "      <td>34061</td>\n",
       "      <td>2908</td>\n",
       "      <td>1462</td>\n",
       "      <td>2253</td>\n",
       "      <td>2076</td>\n",
       "      <td>4579</td>\n",
       "      <td>7557</td>\n",
       "      <td>5227</td>\n",
       "      <td>7999</td>\n",
       "      <td>942</td>\n",
       "      <td>1089</td>\n",
       "      <td>2866</td>\n",
       "      <td>2219</td>\n",
       "      <td>2216</td>\n",
       "      <td>1227</td>\n",
       "      <td>306</td>\n",
       "      <td>1098</td>\n",
       "      <td>5285</td>\n",
       "      <td>NaN</td>\n",
       "      <td>NaN</td>\n",
       "    </tr>\n",
       "    <tr>\n",
       "      <th>452</th>\n",
       "      <td>355030207</td>\n",
       "      <td>Vila Suzana</td>\n",
       "      <td>São Paulo</td>\n",
       "      <td>SP</td>\n",
       "      <td>35403</td>\n",
       "      <td>4127</td>\n",
       "      <td>1890</td>\n",
       "      <td>2678</td>\n",
       "      <td>2433</td>\n",
       "      <td>5855</td>\n",
       "      <td>9107</td>\n",
       "      <td>4608</td>\n",
       "      <td>4705</td>\n",
       "      <td>1726</td>\n",
       "      <td>1522</td>\n",
       "      <td>2458</td>\n",
       "      <td>1186</td>\n",
       "      <td>1166</td>\n",
       "      <td>918</td>\n",
       "      <td>209</td>\n",
       "      <td>3840</td>\n",
       "      <td>7418</td>\n",
       "      <td>NaN</td>\n",
       "      <td>NaN</td>\n",
       "    </tr>\n",
       "    <tr>\n",
       "      <th>453</th>\n",
       "      <td>355030162</td>\n",
       "      <td>Vila Terezinha</td>\n",
       "      <td>São Paulo</td>\n",
       "      <td>SP</td>\n",
       "      <td>122359</td>\n",
       "      <td>18304</td>\n",
       "      <td>9304</td>\n",
       "      <td>13258</td>\n",
       "      <td>9965</td>\n",
       "      <td>19248</td>\n",
       "      <td>26592</td>\n",
       "      <td>12579</td>\n",
       "      <td>13109</td>\n",
       "      <td>0</td>\n",
       "      <td>0</td>\n",
       "      <td>1758</td>\n",
       "      <td>4517</td>\n",
       "      <td>9450</td>\n",
       "      <td>11473</td>\n",
       "      <td>3218</td>\n",
       "      <td>7540</td>\n",
       "      <td>1252</td>\n",
       "      <td>NaN</td>\n",
       "      <td>NaN</td>\n",
       "    </tr>\n",
       "    <tr>\n",
       "      <th>454</th>\n",
       "      <td>355030157</td>\n",
       "      <td>Vila Zatt</td>\n",
       "      <td>São Paulo</td>\n",
       "      <td>SP</td>\n",
       "      <td>125864</td>\n",
       "      <td>14670</td>\n",
       "      <td>7305</td>\n",
       "      <td>11225</td>\n",
       "      <td>9338</td>\n",
       "      <td>18841</td>\n",
       "      <td>28500</td>\n",
       "      <td>16700</td>\n",
       "      <td>19285</td>\n",
       "      <td>8</td>\n",
       "      <td>872</td>\n",
       "      <td>5093</td>\n",
       "      <td>8063</td>\n",
       "      <td>10012</td>\n",
       "      <td>8082</td>\n",
       "      <td>2856</td>\n",
       "      <td>6853</td>\n",
       "      <td>1936</td>\n",
       "      <td>NaN</td>\n",
       "      <td>NaN</td>\n",
       "    </tr>\n",
       "    <tr>\n",
       "      <th>455</th>\n",
       "      <td>355030164</td>\n",
       "      <td>Vista Alegre</td>\n",
       "      <td>São Paulo</td>\n",
       "      <td>SP</td>\n",
       "      <td>106</td>\n",
       "      <td>23</td>\n",
       "      <td>7</td>\n",
       "      <td>15</td>\n",
       "      <td>11</td>\n",
       "      <td>15</td>\n",
       "      <td>26</td>\n",
       "      <td>4</td>\n",
       "      <td>5</td>\n",
       "      <td>0</td>\n",
       "      <td>0</td>\n",
       "      <td>0</td>\n",
       "      <td>6</td>\n",
       "      <td>9</td>\n",
       "      <td>8</td>\n",
       "      <td>2</td>\n",
       "      <td>4</td>\n",
       "      <td>1288</td>\n",
       "      <td>NaN</td>\n",
       "      <td>NaN</td>\n",
       "    </tr>\n",
       "  </tbody>\n",
       "</table>\n",
       "<p>456 rows × 24 columns</p>\n",
       "</div>"
      ],
      "text/plain": [
       "         codigo               nome          cidade estado  população  popAte9  popDe10a14  popDe15a19  popDe20a24  popDe25a34  popDe35a49  popDe50a59  popMaisDe60  domiciliosA1  domiciliosA2  domiciliosB1  domiciliosB2  domiciliosC1  domiciliosC2  domiciliosD  domiciliosE rendaMedia  faturamento potencial\n",
       "0    3304557060           Abolição  Rio de Janeiro     RJ      11676     1027         483         688         800        1675        2300        1784         2919             0           145           715          1242          1093           758           92          304       2501     932515.0     Médio\n",
       "1    3304557138              Acari  Rio de Janeiro     RJ      27564     5131        2188        2697        2630        4810        5308        2403         2397             0             0            82           506          2040          2490          827         2506        931     588833.0     Baixo\n",
       "2    3304557057         Água Santa  Rio de Janeiro     RJ       9003      883         399         597         762        1755        2076        1112         1419             0            96           404           652           644           522           77          254       2391     874200.0     Baixo\n",
       "3    3304557031  Alto Da Boa Vista  Rio de Janeiro     RJ       9606     1072         538         660         685        1317        2007        1341         1986           114           178           393           517           945           584          137          286       3727     912226.0     Médio\n",
       "4    3304557125           Anchieta  Rio de Janeiro     RJ      57222     7677        3774        4892        4600        8660       12272        7157         8190             0             0          1089          2821          5110          5422         1073         3261       1380     553020.0     Médio\n",
       "..          ...                ...             ...    ...        ...      ...         ...         ...         ...         ...         ...         ...          ...           ...           ...           ...           ...           ...           ...          ...          ...        ...          ...       ...\n",
       "451   355030213         Vila Sônia       São Paulo     SP      34061     2908        1462        2253        2076        4579        7557        5227         7999           942          1089          2866          2219          2216          1227          306         1098       5285          NaN       NaN\n",
       "452   355030207        Vila Suzana       São Paulo     SP      35403     4127        1890        2678        2433        5855        9107        4608         4705          1726          1522          2458          1186          1166           918          209         3840       7418          NaN       NaN\n",
       "453   355030162     Vila Terezinha       São Paulo     SP     122359    18304        9304       13258        9965       19248       26592       12579        13109             0             0          1758          4517          9450         11473         3218         7540       1252          NaN       NaN\n",
       "454   355030157          Vila Zatt       São Paulo     SP     125864    14670        7305       11225        9338       18841       28500       16700        19285             8           872          5093          8063         10012          8082         2856         6853       1936          NaN       NaN\n",
       "455   355030164       Vista Alegre       São Paulo     SP        106       23           7          15          11          15          26           4            5             0             0             0             6             9             8            2            4       1288          NaN       NaN\n",
       "\n",
       "[456 rows x 24 columns]"
      ]
     },
     "execution_count": 3,
     "metadata": {},
     "output_type": "execute_result"
    }
   ],
   "source": [
    "df_raw = pd.read_excel(\"../data/raw/data_raw.xlsx\")\n",
    "df_raw"
   ]
  },
  {
   "cell_type": "markdown",
   "id": "2fc3eb08",
   "metadata": {
    "heading_collapsed": true
   },
   "source": [
    "# Limpeza e Análise Preliminar"
   ]
  },
  {
   "cell_type": "markdown",
   "id": "e5d0092f",
   "metadata": {
    "heading_collapsed": true,
    "hidden": true
   },
   "source": [
    "## Renomear Colunas"
   ]
  },
  {
   "cell_type": "markdown",
   "id": "e23a6ae5",
   "metadata": {
    "hidden": true
   },
   "source": [
    "Padroinzar nome das variáveis no formato snake_case, melhorando sua legibilidade."
   ]
  },
  {
   "cell_type": "code",
   "execution_count": 4,
   "id": "77fb9cf4",
   "metadata": {
    "ExecuteTime": {
     "end_time": "2023-02-09T22:09:46.341640Z",
     "start_time": "2023-02-09T22:09:46.329185Z"
    },
    "hidden": true
   },
   "outputs": [
    {
     "data": {
      "text/plain": [
       "Index(['codigo', 'bairro', 'cidade', 'estado', 'populacao', 'pop_ate9',\n",
       "       'pop_de10a14', 'pop_de15a19', 'pop_de20a24', 'pop_de25a34',\n",
       "       'pop_de35a49', 'pop_de50a59', 'pop_mais_de60', 'domicilios_a1',\n",
       "       'domicilios_a2', 'domicilios_b1', 'domicilios_b2', 'domicilios_c1',\n",
       "       'domicilios_c2', 'domicilios_d', 'domicilios_e', 'renda_media',\n",
       "       'faturamento', 'potencial'],\n",
       "      dtype='object')"
      ]
     },
     "execution_count": 4,
     "metadata": {},
     "output_type": "execute_result"
    }
   ],
   "source": [
    "cols_old = ['codigo', 'bairro', 'cidade', 'estado', 'populacao', 'popAte9',\n",
    "       'popDe10a14', 'popDe15a19', 'popDe20a24', 'popDe25a34', 'popDe35a49',\n",
    "       'popDe50a59', 'popMaisDe60', 'domiciliosA1', 'domiciliosA2',\n",
    "       'domiciliosB1', 'domiciliosB2', 'domiciliosC1', 'domiciliosC2',\n",
    "       'domiciliosD', 'domiciliosE', 'rendaMedia', 'faturamento', 'potencial']\n",
    "snakecase = lambda x: inflection.underscore ( x )\n",
    "cols_new = list( map( snakecase, cols_old ) )\n",
    "df_raw.columns = cols_new\n",
    "df_raw.columns"
   ]
  },
  {
   "cell_type": "markdown",
   "id": "e3f34c54",
   "metadata": {
    "heading_collapsed": true,
    "hidden": true
   },
   "source": [
    "## Dicionário de Dados"
   ]
  },
  {
   "cell_type": "markdown",
   "id": "9b65f632",
   "metadata": {
    "hidden": true
   },
   "source": [
    "Compreender com clareza o significado de cada variável é fundamental para avançar no projeto."
   ]
  },
  {
   "cell_type": "code",
   "execution_count": 5,
   "id": "01d63f28",
   "metadata": {
    "ExecuteTime": {
     "end_time": "2023-02-09T22:09:50.652575Z",
     "start_time": "2023-02-09T22:09:50.632269Z"
    },
    "hidden": true
   },
   "outputs": [
    {
     "name": "stdout",
     "output_type": "stream",
     "text": [
      "Coluna         Significado\n",
      "-------------  ------------------------------------\n",
      "codigo         Código do bairro\n",
      "bairro         Nome do bairro\n",
      "cidade         Cidade\n",
      "estado         Estado\n",
      "populacao      População total\n",
      "pop_ate9       População - até 9 anos\n",
      "pop_de10a14    População - de 10 a 14 anos\n",
      "pop_de15a19    População - de 15 a 19 anos\n",
      "pop_de20a24    População - de 20 a 24 anos\n",
      "pop_de25a34    População - de 25 a 34 anos\n",
      "pop_de35a49    População - de 35 a 49 anos\n",
      "pop_de50a59    População - de 50 a 59 anos\n",
      "pop_mais_de60  População - 60 anos ou mais\n",
      "domicilios_a1  Quantidade de Domicílios de Renda A1\n",
      "domicilios_a2  Quantidade de Domicílios de Renda A2\n",
      "domicilios_b1  Quantidade de Domicílios de Renda B1\n",
      "domicilios_b2  Quantidade de Domicílios de Renda B2\n",
      "domicilios_c1  Quantidade de Domicílios de Renda C1\n",
      "domicilios_c2  Quantidade de Domicílios de Renda C2\n",
      "domicilios_d   Quantidade de Domicílios de Renda D\n",
      "domicilios_e   Quantidade de Domicílios de Renda E\n",
      "renda_media    Renda Média por Domicílio\n",
      "faturamento    Faturamento Total no Bairro\n",
      "potencial      Potencial do Bairro\n"
     ]
    }
   ],
   "source": [
    "tab = [['Coluna', 'Significado'],   \n",
    "       ['codigo', 'Código do bairro'],\n",
    "       ['bairro', 'Nome do bairro'],\n",
    "       ['cidade', 'Cidade'],\n",
    "       ['estado', 'Estado'],\n",
    "       ['populacao', 'População total'],\n",
    "       ['pop_ate9', 'População - até 9 anos'],\n",
    "       ['pop_de10a14', 'População - de 10 a 14 anos'],\n",
    "       ['pop_de15a19', 'População - de 15 a 19 anos'],\n",
    "       ['pop_de20a24', 'População - de 20 a 24 anos'],\n",
    "       ['pop_de25a34', 'População - de 25 a 34 anos'],\n",
    "       ['pop_de35a49', 'População - de 35 a 49 anos'],\n",
    "       ['pop_de50a59', 'População - de 50 a 59 anos'],\n",
    "       ['pop_mais_de60', 'População - 60 anos ou mais'],\n",
    "       ['domicilios_a1', 'Quantidade de Domicílios de Renda A1'],\n",
    "       ['domicilios_a2', 'Quantidade de Domicílios de Renda A2'],\n",
    "       ['domicilios_b1', 'Quantidade de Domicílios de Renda B1'],\n",
    "       ['domicilios_b2', 'Quantidade de Domicílios de Renda B2'],\n",
    "       ['domicilios_c1', 'Quantidade de Domicílios de Renda C1'],\n",
    "       ['domicilios_c2', 'Quantidade de Domicílios de Renda C2'],\n",
    "       ['domicilios_d', 'Quantidade de Domicílios de Renda D'],\n",
    "       ['domicilios_e', 'Quantidade de Domicílios de Renda E'],\n",
    "       ['renda_media', 'Renda Média por Domicílio'],\n",
    "       ['faturamento', 'Faturamento Total no Bairro'],\n",
    "       ['potencial', 'Potencial do Bairro']]\n",
    "print(tabulate(tab, headers='firstrow', stralign='left')) #tablefmt='pipe', tablefmt='grid'"
   ]
  },
  {
   "cell_type": "markdown",
   "id": "faf2673d",
   "metadata": {
    "heading_collapsed": true,
    "hidden": true
   },
   "source": [
    "## Tipos de Dados"
   ]
  },
  {
   "cell_type": "markdown",
   "id": "c5a1825b",
   "metadata": {
    "hidden": true
   },
   "source": [
    "Avaliar tipos de dados, e necessidade de conversões."
   ]
  },
  {
   "cell_type": "code",
   "execution_count": 6,
   "id": "240a1db3",
   "metadata": {
    "ExecuteTime": {
     "end_time": "2023-02-09T22:09:52.688592Z",
     "start_time": "2023-02-09T22:09:52.664609Z"
    },
    "hidden": true
   },
   "outputs": [
    {
     "data": {
      "text/html": [
       "<div>\n",
       "<style scoped>\n",
       "    .dataframe tbody tr th:only-of-type {\n",
       "        vertical-align: middle;\n",
       "    }\n",
       "\n",
       "    .dataframe tbody tr th {\n",
       "        vertical-align: top;\n",
       "    }\n",
       "\n",
       "    .dataframe thead th {\n",
       "        text-align: right;\n",
       "    }\n",
       "</style>\n",
       "<table border=\"1\" class=\"dataframe\">\n",
       "  <thead>\n",
       "    <tr style=\"text-align: right;\">\n",
       "      <th></th>\n",
       "      <th>codigo</th>\n",
       "      <th>bairro</th>\n",
       "      <th>cidade</th>\n",
       "      <th>estado</th>\n",
       "      <th>populacao</th>\n",
       "      <th>pop_ate9</th>\n",
       "      <th>pop_de10a14</th>\n",
       "      <th>pop_de15a19</th>\n",
       "      <th>pop_de20a24</th>\n",
       "      <th>pop_de25a34</th>\n",
       "      <th>pop_de35a49</th>\n",
       "      <th>pop_de50a59</th>\n",
       "      <th>pop_mais_de60</th>\n",
       "      <th>domicilios_a1</th>\n",
       "      <th>domicilios_a2</th>\n",
       "      <th>domicilios_b1</th>\n",
       "      <th>domicilios_b2</th>\n",
       "      <th>domicilios_c1</th>\n",
       "      <th>domicilios_c2</th>\n",
       "      <th>domicilios_d</th>\n",
       "      <th>domicilios_e</th>\n",
       "      <th>renda_media</th>\n",
       "      <th>faturamento</th>\n",
       "      <th>potencial</th>\n",
       "    </tr>\n",
       "  </thead>\n",
       "  <tbody>\n",
       "    <tr>\n",
       "      <th>0</th>\n",
       "      <td>3304557060</td>\n",
       "      <td>Abolição</td>\n",
       "      <td>Rio de Janeiro</td>\n",
       "      <td>RJ</td>\n",
       "      <td>11676</td>\n",
       "      <td>1027</td>\n",
       "      <td>483</td>\n",
       "      <td>688</td>\n",
       "      <td>800</td>\n",
       "      <td>1675</td>\n",
       "      <td>2300</td>\n",
       "      <td>1784</td>\n",
       "      <td>2919</td>\n",
       "      <td>0</td>\n",
       "      <td>145</td>\n",
       "      <td>715</td>\n",
       "      <td>1242</td>\n",
       "      <td>1093</td>\n",
       "      <td>758</td>\n",
       "      <td>92</td>\n",
       "      <td>304</td>\n",
       "      <td>2501</td>\n",
       "      <td>932515.0</td>\n",
       "      <td>Médio</td>\n",
       "    </tr>\n",
       "    <tr>\n",
       "      <th>1</th>\n",
       "      <td>3304557138</td>\n",
       "      <td>Acari</td>\n",
       "      <td>Rio de Janeiro</td>\n",
       "      <td>RJ</td>\n",
       "      <td>27564</td>\n",
       "      <td>5131</td>\n",
       "      <td>2188</td>\n",
       "      <td>2697</td>\n",
       "      <td>2630</td>\n",
       "      <td>4810</td>\n",
       "      <td>5308</td>\n",
       "      <td>2403</td>\n",
       "      <td>2397</td>\n",
       "      <td>0</td>\n",
       "      <td>0</td>\n",
       "      <td>82</td>\n",
       "      <td>506</td>\n",
       "      <td>2040</td>\n",
       "      <td>2490</td>\n",
       "      <td>827</td>\n",
       "      <td>2506</td>\n",
       "      <td>931</td>\n",
       "      <td>588833.0</td>\n",
       "      <td>Baixo</td>\n",
       "    </tr>\n",
       "  </tbody>\n",
       "</table>\n",
       "</div>"
      ],
      "text/plain": [
       "       codigo    bairro          cidade estado  populacao  pop_ate9  pop_de10a14  pop_de15a19  pop_de20a24  pop_de25a34  pop_de35a49  pop_de50a59  pop_mais_de60  domicilios_a1  domicilios_a2  domicilios_b1  domicilios_b2  domicilios_c1  domicilios_c2  domicilios_d  domicilios_e renda_media  faturamento potencial\n",
       "0  3304557060  Abolição  Rio de Janeiro     RJ      11676      1027          483          688          800         1675         2300         1784           2919              0            145            715           1242           1093            758            92           304        2501     932515.0     Médio\n",
       "1  3304557138     Acari  Rio de Janeiro     RJ      27564      5131         2188         2697         2630         4810         5308         2403           2397              0              0             82            506           2040           2490           827          2506         931     588833.0     Baixo"
      ]
     },
     "execution_count": 6,
     "metadata": {},
     "output_type": "execute_result"
    }
   ],
   "source": [
    "df_raw.head(2)"
   ]
  },
  {
   "cell_type": "code",
   "execution_count": 7,
   "id": "842c9e93",
   "metadata": {
    "ExecuteTime": {
     "end_time": "2023-02-09T22:09:56.603355Z",
     "start_time": "2023-02-09T22:09:56.592820Z"
    },
    "hidden": true
   },
   "outputs": [
    {
     "data": {
      "text/plain": [
       "codigo             int64\n",
       "bairro            object\n",
       "cidade            object\n",
       "estado            object\n",
       "populacao          int64\n",
       "pop_ate9           int64\n",
       "pop_de10a14        int64\n",
       "pop_de15a19        int64\n",
       "pop_de20a24        int64\n",
       "pop_de25a34        int64\n",
       "pop_de35a49        int64\n",
       "pop_de50a59        int64\n",
       "pop_mais_de60      int64\n",
       "domicilios_a1      int64\n",
       "domicilios_a2      int64\n",
       "domicilios_b1      int64\n",
       "domicilios_b2      int64\n",
       "domicilios_c1      int64\n",
       "domicilios_c2      int64\n",
       "domicilios_d       int64\n",
       "domicilios_e       int64\n",
       "renda_media       object\n",
       "faturamento      float64\n",
       "potencial         object\n",
       "dtype: object"
      ]
     },
     "execution_count": 7,
     "metadata": {},
     "output_type": "execute_result"
    }
   ],
   "source": [
    "df_raw.dtypes"
   ]
  },
  {
   "cell_type": "markdown",
   "id": "1a7ac488",
   "metadata": {
    "hidden": true
   },
   "source": [
    "No momento, não é possível converter \"faturamento\" para o tipo \"int\", em função dos dados de SP, onde há registros nulos.\n",
    "\n",
    "A conversão se justifica porque esta variável não utiliza as casas decimais (sempre zeradas).\n",
    "\n",
    "Farei esta conversão mais abaixo, após a separação entre os dados de RJ e SP.\n",
    "\n",
    "Demais variáveis estão ok."
   ]
  },
  {
   "cell_type": "markdown",
   "id": "aaf29201",
   "metadata": {
    "heading_collapsed": true,
    "hidden": true
   },
   "source": [
    "## Conferência de Nulos"
   ]
  },
  {
   "cell_type": "markdown",
   "id": "8ac4eae5",
   "metadata": {
    "hidden": true
   },
   "source": [
    "Avaliação de tratativa de registros nulos."
   ]
  },
  {
   "cell_type": "code",
   "execution_count": 8,
   "id": "929f6bb2",
   "metadata": {
    "ExecuteTime": {
     "end_time": "2023-02-09T22:10:04.772671Z",
     "start_time": "2023-02-09T22:10:04.737946Z"
    },
    "hidden": true
   },
   "outputs": [
    {
     "data": {
      "text/plain": [
       "codigo             0\n",
       "bairro             0\n",
       "cidade             0\n",
       "estado             0\n",
       "populacao          0\n",
       "pop_ate9           0\n",
       "pop_de10a14        0\n",
       "pop_de15a19        0\n",
       "pop_de20a24        0\n",
       "pop_de25a34        0\n",
       "pop_de35a49        0\n",
       "pop_de50a59        0\n",
       "pop_mais_de60      0\n",
       "domicilios_a1      0\n",
       "domicilios_a2      0\n",
       "domicilios_b1      0\n",
       "domicilios_b2      0\n",
       "domicilios_c1      0\n",
       "domicilios_c2      0\n",
       "domicilios_d       0\n",
       "domicilios_e       0\n",
       "renda_media        6\n",
       "faturamento      296\n",
       "potencial        296\n",
       "dtype: int64"
      ]
     },
     "execution_count": 8,
     "metadata": {},
     "output_type": "execute_result"
    }
   ],
   "source": [
    "df_raw.isna().sum()"
   ]
  },
  {
   "cell_type": "markdown",
   "id": "c052a8e6",
   "metadata": {
    "hidden": true
   },
   "source": [
    "Confirmar se os registros com valores nulos em \"faturamento\" e \"potencial\" são de fato apenas os registros de SP."
   ]
  },
  {
   "cell_type": "code",
   "execution_count": 9,
   "id": "4ffba729",
   "metadata": {
    "ExecuteTime": {
     "end_time": "2023-02-09T22:10:15.299977Z",
     "start_time": "2023-02-09T22:10:15.264785Z"
    },
    "hidden": true
   },
   "outputs": [
    {
     "data": {
      "text/html": [
       "<div>\n",
       "<style scoped>\n",
       "    .dataframe tbody tr th:only-of-type {\n",
       "        vertical-align: middle;\n",
       "    }\n",
       "\n",
       "    .dataframe tbody tr th {\n",
       "        vertical-align: top;\n",
       "    }\n",
       "\n",
       "    .dataframe thead th {\n",
       "        text-align: right;\n",
       "    }\n",
       "</style>\n",
       "<table border=\"1\" class=\"dataframe\">\n",
       "  <thead>\n",
       "    <tr style=\"text-align: right;\">\n",
       "      <th></th>\n",
       "      <th>codigo</th>\n",
       "      <th>bairro</th>\n",
       "      <th>cidade</th>\n",
       "      <th>estado</th>\n",
       "      <th>populacao</th>\n",
       "      <th>pop_ate9</th>\n",
       "      <th>pop_de10a14</th>\n",
       "      <th>pop_de15a19</th>\n",
       "      <th>pop_de20a24</th>\n",
       "      <th>pop_de25a34</th>\n",
       "      <th>pop_de35a49</th>\n",
       "      <th>pop_de50a59</th>\n",
       "      <th>pop_mais_de60</th>\n",
       "      <th>domicilios_a1</th>\n",
       "      <th>domicilios_a2</th>\n",
       "      <th>domicilios_b1</th>\n",
       "      <th>domicilios_b2</th>\n",
       "      <th>domicilios_c1</th>\n",
       "      <th>domicilios_c2</th>\n",
       "      <th>domicilios_d</th>\n",
       "      <th>domicilios_e</th>\n",
       "      <th>renda_media</th>\n",
       "      <th>faturamento</th>\n",
       "      <th>potencial</th>\n",
       "    </tr>\n",
       "  </thead>\n",
       "  <tbody>\n",
       "    <tr>\n",
       "      <th>160</th>\n",
       "      <td>355030251</td>\n",
       "      <td>A. E. Carvalho</td>\n",
       "      <td>São Paulo</td>\n",
       "      <td>SP</td>\n",
       "      <td>94034</td>\n",
       "      <td>12668</td>\n",
       "      <td>6853</td>\n",
       "      <td>9836</td>\n",
       "      <td>7487</td>\n",
       "      <td>14535</td>\n",
       "      <td>21549</td>\n",
       "      <td>10598</td>\n",
       "      <td>10508</td>\n",
       "      <td>0</td>\n",
       "      <td>253</td>\n",
       "      <td>2197</td>\n",
       "      <td>4368</td>\n",
       "      <td>6681</td>\n",
       "      <td>7011</td>\n",
       "      <td>2247</td>\n",
       "      <td>5670</td>\n",
       "      <td>1501</td>\n",
       "      <td>NaN</td>\n",
       "      <td>NaN</td>\n",
       "    </tr>\n",
       "    <tr>\n",
       "      <th>161</th>\n",
       "      <td>35503020</td>\n",
       "      <td>Aclimação</td>\n",
       "      <td>São Paulo</td>\n",
       "      <td>SP</td>\n",
       "      <td>32791</td>\n",
       "      <td>2297</td>\n",
       "      <td>1017</td>\n",
       "      <td>2096</td>\n",
       "      <td>2197</td>\n",
       "      <td>5341</td>\n",
       "      <td>7281</td>\n",
       "      <td>4917</td>\n",
       "      <td>7645</td>\n",
       "      <td>1413</td>\n",
       "      <td>1734</td>\n",
       "      <td>3704</td>\n",
       "      <td>2351</td>\n",
       "      <td>1946</td>\n",
       "      <td>827</td>\n",
       "      <td>291</td>\n",
       "      <td>1617</td>\n",
       "      <td>5920</td>\n",
       "      <td>NaN</td>\n",
       "      <td>NaN</td>\n",
       "    </tr>\n",
       "    <tr>\n",
       "      <th>162</th>\n",
       "      <td>355030285</td>\n",
       "      <td>Adventista</td>\n",
       "      <td>São Paulo</td>\n",
       "      <td>SP</td>\n",
       "      <td>104193</td>\n",
       "      <td>15070</td>\n",
       "      <td>7343</td>\n",
       "      <td>10631</td>\n",
       "      <td>8657</td>\n",
       "      <td>17749</td>\n",
       "      <td>23364</td>\n",
       "      <td>11567</td>\n",
       "      <td>9812</td>\n",
       "      <td>0</td>\n",
       "      <td>0</td>\n",
       "      <td>1423</td>\n",
       "      <td>4875</td>\n",
       "      <td>8595</td>\n",
       "      <td>10082</td>\n",
       "      <td>3111</td>\n",
       "      <td>5776</td>\n",
       "      <td>1284</td>\n",
       "      <td>NaN</td>\n",
       "      <td>NaN</td>\n",
       "    </tr>\n",
       "    <tr>\n",
       "      <th>163</th>\n",
       "      <td>35503088</td>\n",
       "      <td>Água Branca</td>\n",
       "      <td>São Paulo</td>\n",
       "      <td>SP</td>\n",
       "      <td>12721</td>\n",
       "      <td>953</td>\n",
       "      <td>343</td>\n",
       "      <td>627</td>\n",
       "      <td>819</td>\n",
       "      <td>2142</td>\n",
       "      <td>2833</td>\n",
       "      <td>1790</td>\n",
       "      <td>3214</td>\n",
       "      <td>624</td>\n",
       "      <td>667</td>\n",
       "      <td>1558</td>\n",
       "      <td>1032</td>\n",
       "      <td>915</td>\n",
       "      <td>361</td>\n",
       "      <td>84</td>\n",
       "      <td>404</td>\n",
       "      <td>6278</td>\n",
       "      <td>NaN</td>\n",
       "      <td>NaN</td>\n",
       "    </tr>\n",
       "    <tr>\n",
       "      <th>164</th>\n",
       "      <td>35503066</td>\n",
       "      <td>Água Funda</td>\n",
       "      <td>São Paulo</td>\n",
       "      <td>SP</td>\n",
       "      <td>48417</td>\n",
       "      <td>5078</td>\n",
       "      <td>2396</td>\n",
       "      <td>4018</td>\n",
       "      <td>3571</td>\n",
       "      <td>7388</td>\n",
       "      <td>10751</td>\n",
       "      <td>6648</td>\n",
       "      <td>8567</td>\n",
       "      <td>0</td>\n",
       "      <td>303</td>\n",
       "      <td>1794</td>\n",
       "      <td>2986</td>\n",
       "      <td>4489</td>\n",
       "      <td>2836</td>\n",
       "      <td>1104</td>\n",
       "      <td>2553</td>\n",
       "      <td>1905</td>\n",
       "      <td>NaN</td>\n",
       "      <td>NaN</td>\n",
       "    </tr>\n",
       "    <tr>\n",
       "      <th>...</th>\n",
       "      <td>...</td>\n",
       "      <td>...</td>\n",
       "      <td>...</td>\n",
       "      <td>...</td>\n",
       "      <td>...</td>\n",
       "      <td>...</td>\n",
       "      <td>...</td>\n",
       "      <td>...</td>\n",
       "      <td>...</td>\n",
       "      <td>...</td>\n",
       "      <td>...</td>\n",
       "      <td>...</td>\n",
       "      <td>...</td>\n",
       "      <td>...</td>\n",
       "      <td>...</td>\n",
       "      <td>...</td>\n",
       "      <td>...</td>\n",
       "      <td>...</td>\n",
       "      <td>...</td>\n",
       "      <td>...</td>\n",
       "      <td>...</td>\n",
       "      <td>...</td>\n",
       "      <td>...</td>\n",
       "      <td>...</td>\n",
       "    </tr>\n",
       "    <tr>\n",
       "      <th>451</th>\n",
       "      <td>355030213</td>\n",
       "      <td>Vila Sônia</td>\n",
       "      <td>São Paulo</td>\n",
       "      <td>SP</td>\n",
       "      <td>34061</td>\n",
       "      <td>2908</td>\n",
       "      <td>1462</td>\n",
       "      <td>2253</td>\n",
       "      <td>2076</td>\n",
       "      <td>4579</td>\n",
       "      <td>7557</td>\n",
       "      <td>5227</td>\n",
       "      <td>7999</td>\n",
       "      <td>942</td>\n",
       "      <td>1089</td>\n",
       "      <td>2866</td>\n",
       "      <td>2219</td>\n",
       "      <td>2216</td>\n",
       "      <td>1227</td>\n",
       "      <td>306</td>\n",
       "      <td>1098</td>\n",
       "      <td>5285</td>\n",
       "      <td>NaN</td>\n",
       "      <td>NaN</td>\n",
       "    </tr>\n",
       "    <tr>\n",
       "      <th>452</th>\n",
       "      <td>355030207</td>\n",
       "      <td>Vila Suzana</td>\n",
       "      <td>São Paulo</td>\n",
       "      <td>SP</td>\n",
       "      <td>35403</td>\n",
       "      <td>4127</td>\n",
       "      <td>1890</td>\n",
       "      <td>2678</td>\n",
       "      <td>2433</td>\n",
       "      <td>5855</td>\n",
       "      <td>9107</td>\n",
       "      <td>4608</td>\n",
       "      <td>4705</td>\n",
       "      <td>1726</td>\n",
       "      <td>1522</td>\n",
       "      <td>2458</td>\n",
       "      <td>1186</td>\n",
       "      <td>1166</td>\n",
       "      <td>918</td>\n",
       "      <td>209</td>\n",
       "      <td>3840</td>\n",
       "      <td>7418</td>\n",
       "      <td>NaN</td>\n",
       "      <td>NaN</td>\n",
       "    </tr>\n",
       "    <tr>\n",
       "      <th>453</th>\n",
       "      <td>355030162</td>\n",
       "      <td>Vila Terezinha</td>\n",
       "      <td>São Paulo</td>\n",
       "      <td>SP</td>\n",
       "      <td>122359</td>\n",
       "      <td>18304</td>\n",
       "      <td>9304</td>\n",
       "      <td>13258</td>\n",
       "      <td>9965</td>\n",
       "      <td>19248</td>\n",
       "      <td>26592</td>\n",
       "      <td>12579</td>\n",
       "      <td>13109</td>\n",
       "      <td>0</td>\n",
       "      <td>0</td>\n",
       "      <td>1758</td>\n",
       "      <td>4517</td>\n",
       "      <td>9450</td>\n",
       "      <td>11473</td>\n",
       "      <td>3218</td>\n",
       "      <td>7540</td>\n",
       "      <td>1252</td>\n",
       "      <td>NaN</td>\n",
       "      <td>NaN</td>\n",
       "    </tr>\n",
       "    <tr>\n",
       "      <th>454</th>\n",
       "      <td>355030157</td>\n",
       "      <td>Vila Zatt</td>\n",
       "      <td>São Paulo</td>\n",
       "      <td>SP</td>\n",
       "      <td>125864</td>\n",
       "      <td>14670</td>\n",
       "      <td>7305</td>\n",
       "      <td>11225</td>\n",
       "      <td>9338</td>\n",
       "      <td>18841</td>\n",
       "      <td>28500</td>\n",
       "      <td>16700</td>\n",
       "      <td>19285</td>\n",
       "      <td>8</td>\n",
       "      <td>872</td>\n",
       "      <td>5093</td>\n",
       "      <td>8063</td>\n",
       "      <td>10012</td>\n",
       "      <td>8082</td>\n",
       "      <td>2856</td>\n",
       "      <td>6853</td>\n",
       "      <td>1936</td>\n",
       "      <td>NaN</td>\n",
       "      <td>NaN</td>\n",
       "    </tr>\n",
       "    <tr>\n",
       "      <th>455</th>\n",
       "      <td>355030164</td>\n",
       "      <td>Vista Alegre</td>\n",
       "      <td>São Paulo</td>\n",
       "      <td>SP</td>\n",
       "      <td>106</td>\n",
       "      <td>23</td>\n",
       "      <td>7</td>\n",
       "      <td>15</td>\n",
       "      <td>11</td>\n",
       "      <td>15</td>\n",
       "      <td>26</td>\n",
       "      <td>4</td>\n",
       "      <td>5</td>\n",
       "      <td>0</td>\n",
       "      <td>0</td>\n",
       "      <td>0</td>\n",
       "      <td>6</td>\n",
       "      <td>9</td>\n",
       "      <td>8</td>\n",
       "      <td>2</td>\n",
       "      <td>4</td>\n",
       "      <td>1288</td>\n",
       "      <td>NaN</td>\n",
       "      <td>NaN</td>\n",
       "    </tr>\n",
       "  </tbody>\n",
       "</table>\n",
       "<p>296 rows × 24 columns</p>\n",
       "</div>"
      ],
      "text/plain": [
       "        codigo          bairro     cidade estado  populacao  pop_ate9  pop_de10a14  pop_de15a19  pop_de20a24  pop_de25a34  pop_de35a49  pop_de50a59  pop_mais_de60  domicilios_a1  domicilios_a2  domicilios_b1  domicilios_b2  domicilios_c1  domicilios_c2  domicilios_d  domicilios_e renda_media  faturamento potencial\n",
       "160  355030251  A. E. Carvalho  São Paulo     SP      94034     12668         6853         9836         7487        14535        21549        10598          10508              0            253           2197           4368           6681           7011          2247          5670        1501          NaN       NaN\n",
       "161   35503020       Aclimação  São Paulo     SP      32791      2297         1017         2096         2197         5341         7281         4917           7645           1413           1734           3704           2351           1946            827           291          1617        5920          NaN       NaN\n",
       "162  355030285      Adventista  São Paulo     SP     104193     15070         7343        10631         8657        17749        23364        11567           9812              0              0           1423           4875           8595          10082          3111          5776        1284          NaN       NaN\n",
       "163   35503088     Água Branca  São Paulo     SP      12721       953          343          627          819         2142         2833         1790           3214            624            667           1558           1032            915            361            84           404        6278          NaN       NaN\n",
       "164   35503066      Água Funda  São Paulo     SP      48417      5078         2396         4018         3571         7388        10751         6648           8567              0            303           1794           2986           4489           2836          1104          2553        1905          NaN       NaN\n",
       "..         ...             ...        ...    ...        ...       ...          ...          ...          ...          ...          ...          ...            ...            ...            ...            ...            ...            ...            ...           ...           ...         ...          ...       ...\n",
       "451  355030213      Vila Sônia  São Paulo     SP      34061      2908         1462         2253         2076         4579         7557         5227           7999            942           1089           2866           2219           2216           1227           306          1098        5285          NaN       NaN\n",
       "452  355030207     Vila Suzana  São Paulo     SP      35403      4127         1890         2678         2433         5855         9107         4608           4705           1726           1522           2458           1186           1166            918           209          3840        7418          NaN       NaN\n",
       "453  355030162  Vila Terezinha  São Paulo     SP     122359     18304         9304        13258         9965        19248        26592        12579          13109              0              0           1758           4517           9450          11473          3218          7540        1252          NaN       NaN\n",
       "454  355030157       Vila Zatt  São Paulo     SP     125864     14670         7305        11225         9338        18841        28500        16700          19285              8            872           5093           8063          10012           8082          2856          6853        1936          NaN       NaN\n",
       "455  355030164    Vista Alegre  São Paulo     SP        106        23            7           15           11           15           26            4              5              0              0              0              6              9              8             2             4        1288          NaN       NaN\n",
       "\n",
       "[296 rows x 24 columns]"
      ]
     },
     "execution_count": 9,
     "metadata": {},
     "output_type": "execute_result"
    }
   ],
   "source": [
    "df_raw.loc[(df_raw.potencial.isna() == True) & (df_raw.faturamento.isna() == True) & (df_raw.estado == \"SP\")]"
   ]
  },
  {
   "cell_type": "markdown",
   "id": "358e4aba",
   "metadata": {
    "hidden": true
   },
   "source": [
    "Confirmado. Dado que \"faturamento\" e \"potencial\" são as variáveis alvo, e iremos prever estes valores nulos. \n",
    "\n",
    "Logo, não há necessidade de tratativas."
   ]
  },
  {
   "cell_type": "markdown",
   "id": "ab8c661f",
   "metadata": {
    "heading_collapsed": true,
    "hidden": true
   },
   "source": [
    "## Separação entre RJ e SP"
   ]
  },
  {
   "cell_type": "markdown",
   "id": "87fbccb1",
   "metadata": {
    "hidden": true
   },
   "source": [
    "Separação do dataset em duas pares, sendo:\n",
    "- df_rj: registros onde estado = RJ, contendo valores nas variáveis alvo \"faturamento\" e \"potencial\".\n",
    "    - Utilizados para treinar, validar e confirmar aprendizado dos algoritmos supervisionados (análises 1 e 2). \n",
    "    - Também utilizados para treinar e avaliar os algoritmos não supervisionados (análise 3). \n",
    "- df_sp: registros onde estado = SP, contendo valores nulos para as variáveis alvo.\n",
    "    - Utilizados apenas na versão final do modelo de cada uma das 3 análises, se tratando dos registros dos bairros de SP. "
   ]
  },
  {
   "cell_type": "code",
   "execution_count": 10,
   "id": "ab8b655c",
   "metadata": {
    "ExecuteTime": {
     "end_time": "2023-02-09T22:10:19.448507Z",
     "start_time": "2023-02-09T22:10:19.435749Z"
    },
    "hidden": true
   },
   "outputs": [
    {
     "name": "stdout",
     "output_type": "stream",
     "text": [
      "Número de linhas e colunas de df_rj: (160, 24)\n",
      "Número de linhas e colunas de df_sp: (296, 24)\n"
     ]
    }
   ],
   "source": [
    "df_rj = df_raw.loc[df_raw[\"estado\"] == \"RJ\"].copy()\n",
    "df_sp = df_raw.loc[df_raw[\"estado\"] == \"SP\"].copy()\n",
    "\n",
    "print (f\"Número de linhas e colunas de df_rj: {df_rj.shape}\")\n",
    "print (f\"Número de linhas e colunas de df_sp: {df_sp.shape}\")"
   ]
  },
  {
   "cell_type": "markdown",
   "id": "99f6bf6e",
   "metadata": {
    "hidden": true
   },
   "source": [
    "Converter \"faturamento\" de df_rj para o tipo int, visto que não utiliza as casas decimais, conforme já citado anteriormente."
   ]
  },
  {
   "cell_type": "code",
   "execution_count": 12,
   "id": "8e64e0b9",
   "metadata": {
    "ExecuteTime": {
     "end_time": "2023-02-09T22:10:24.496606Z",
     "start_time": "2023-02-09T22:10:24.472126Z"
    },
    "hidden": true,
    "scrolled": true
   },
   "outputs": [
    {
     "data": {
      "text/html": [
       "<div>\n",
       "<style scoped>\n",
       "    .dataframe tbody tr th:only-of-type {\n",
       "        vertical-align: middle;\n",
       "    }\n",
       "\n",
       "    .dataframe tbody tr th {\n",
       "        vertical-align: top;\n",
       "    }\n",
       "\n",
       "    .dataframe thead th {\n",
       "        text-align: right;\n",
       "    }\n",
       "</style>\n",
       "<table border=\"1\" class=\"dataframe\">\n",
       "  <thead>\n",
       "    <tr style=\"text-align: right;\">\n",
       "      <th></th>\n",
       "      <th>codigo</th>\n",
       "      <th>bairro</th>\n",
       "      <th>cidade</th>\n",
       "      <th>estado</th>\n",
       "      <th>populacao</th>\n",
       "      <th>pop_ate9</th>\n",
       "      <th>pop_de10a14</th>\n",
       "      <th>pop_de15a19</th>\n",
       "      <th>pop_de20a24</th>\n",
       "      <th>pop_de25a34</th>\n",
       "      <th>pop_de35a49</th>\n",
       "      <th>pop_de50a59</th>\n",
       "      <th>pop_mais_de60</th>\n",
       "      <th>domicilios_a1</th>\n",
       "      <th>domicilios_a2</th>\n",
       "      <th>domicilios_b1</th>\n",
       "      <th>domicilios_b2</th>\n",
       "      <th>domicilios_c1</th>\n",
       "      <th>domicilios_c2</th>\n",
       "      <th>domicilios_d</th>\n",
       "      <th>domicilios_e</th>\n",
       "      <th>renda_media</th>\n",
       "      <th>faturamento</th>\n",
       "      <th>potencial</th>\n",
       "    </tr>\n",
       "  </thead>\n",
       "  <tbody>\n",
       "    <tr>\n",
       "      <th>0</th>\n",
       "      <td>3304557060</td>\n",
       "      <td>Abolição</td>\n",
       "      <td>Rio de Janeiro</td>\n",
       "      <td>RJ</td>\n",
       "      <td>11676</td>\n",
       "      <td>1027</td>\n",
       "      <td>483</td>\n",
       "      <td>688</td>\n",
       "      <td>800</td>\n",
       "      <td>1675</td>\n",
       "      <td>2300</td>\n",
       "      <td>1784</td>\n",
       "      <td>2919</td>\n",
       "      <td>0</td>\n",
       "      <td>145</td>\n",
       "      <td>715</td>\n",
       "      <td>1242</td>\n",
       "      <td>1093</td>\n",
       "      <td>758</td>\n",
       "      <td>92</td>\n",
       "      <td>304</td>\n",
       "      <td>2501</td>\n",
       "      <td>932515</td>\n",
       "      <td>Médio</td>\n",
       "    </tr>\n",
       "    <tr>\n",
       "      <th>1</th>\n",
       "      <td>3304557138</td>\n",
       "      <td>Acari</td>\n",
       "      <td>Rio de Janeiro</td>\n",
       "      <td>RJ</td>\n",
       "      <td>27564</td>\n",
       "      <td>5131</td>\n",
       "      <td>2188</td>\n",
       "      <td>2697</td>\n",
       "      <td>2630</td>\n",
       "      <td>4810</td>\n",
       "      <td>5308</td>\n",
       "      <td>2403</td>\n",
       "      <td>2397</td>\n",
       "      <td>0</td>\n",
       "      <td>0</td>\n",
       "      <td>82</td>\n",
       "      <td>506</td>\n",
       "      <td>2040</td>\n",
       "      <td>2490</td>\n",
       "      <td>827</td>\n",
       "      <td>2506</td>\n",
       "      <td>931</td>\n",
       "      <td>588833</td>\n",
       "      <td>Baixo</td>\n",
       "    </tr>\n",
       "  </tbody>\n",
       "</table>\n",
       "</div>"
      ],
      "text/plain": [
       "       codigo    bairro          cidade estado  populacao  pop_ate9  pop_de10a14  pop_de15a19  pop_de20a24  pop_de25a34  pop_de35a49  pop_de50a59  pop_mais_de60  domicilios_a1  domicilios_a2  domicilios_b1  domicilios_b2  domicilios_c1  domicilios_c2  domicilios_d  domicilios_e renda_media  faturamento potencial\n",
       "0  3304557060  Abolição  Rio de Janeiro     RJ      11676      1027          483          688          800         1675         2300         1784           2919              0            145            715           1242           1093            758            92           304        2501       932515     Médio\n",
       "1  3304557138     Acari  Rio de Janeiro     RJ      27564      5131         2188         2697         2630         4810         5308         2403           2397              0              0             82            506           2040           2490           827          2506         931       588833     Baixo"
      ]
     },
     "execution_count": 12,
     "metadata": {},
     "output_type": "execute_result"
    }
   ],
   "source": [
    "df_rj[\"faturamento\"] = df_rj[\"faturamento\"].astype(int)\n",
    "df_rj.head(2)"
   ]
  },
  {
   "cell_type": "markdown",
   "id": "75959d4e",
   "metadata": {
    "hidden": true
   },
   "source": [
    "Exportar os dois datasets gerados para o formato .csv."
   ]
  },
  {
   "cell_type": "code",
   "execution_count": 13,
   "id": "1e12e9a0",
   "metadata": {
    "ExecuteTime": {
     "end_time": "2023-02-09T22:10:27.769472Z",
     "start_time": "2023-02-09T22:10:27.742395Z"
    },
    "hidden": true
   },
   "outputs": [],
   "source": [
    "df_rj.to_csv('../data/interim/df_rj.csv')\n",
    "df_sp.to_csv('../data/interim/df_sp.csv')"
   ]
  },
  {
   "cell_type": "markdown",
   "id": "bdbb3aa5",
   "metadata": {
    "heading_collapsed": true,
    "hidden": true
   },
   "source": [
    "## Estatística Descritiva"
   ]
  },
  {
   "cell_type": "markdown",
   "id": "238bd7aa",
   "metadata": {
    "ExecuteTime": {
     "end_time": "2023-02-08T21:39:06.128321Z",
     "start_time": "2023-02-08T21:39:06.118645Z"
    },
    "hidden": true
   },
   "source": [
    "Realizada em cimda com 2 propósitos:\n",
    "- Obter maior conhecimento de negócio a partir do comportamento dos dados.\n",
    "- Detectar eventuais erros e sanar dúvidas sobre os dados, como faturamento negativo, por exemplo."
   ]
  },
  {
   "cell_type": "markdown",
   "id": "4eb21c1a",
   "metadata": {
    "hidden": true
   },
   "source": [
    "PS: Será realizada no ciclo 2."
   ]
  },
  {
   "cell_type": "markdown",
   "id": "4f601e72",
   "metadata": {
    "heading_collapsed": true
   },
   "source": [
    "# Análise 1 - Estimativa de faturamento em SP"
   ]
  },
  {
   "cell_type": "markdown",
   "id": "50a7ecd1",
   "metadata": {
    "hidden": true
   },
   "source": [
    "Análise 1 - Estimar o faturamento que uma loja teria em cada um dos bairros de São Paulo (regressão)."
   ]
  },
  {
   "cell_type": "markdown",
   "id": "e9604c31",
   "metadata": {
    "hidden": true
   },
   "source": [
    "## Divisão dos Dados"
   ]
  },
  {
   "cell_type": "markdown",
   "id": "54af6793",
   "metadata": {
    "ExecuteTime": {
     "end_time": "2023-02-09T12:51:12.087878Z",
     "start_time": "2023-02-09T12:51:12.077256Z"
    },
    "hidden": true
   },
   "source": [
    "Trata-se portanto de um problema de regressão (supervisionado), sendo a variável alvo \"faturamento\" do tipo float (contínua).\n",
    "\n",
    "df_rj será dividida em três partes, sendo:\n",
    "- Dados de treinamento (train): utilizados para treinar os modelos de machine learning.\n",
    "- Dados de validação (val): utilizados para validar a performance dos modelos, e para tunagem de hiperparâmetros.\n",
    "- Dados de teste (test): utilizados para avaliação final da capacidade de generalização dos modelos, simulando dados de produção (registros de SP)."
   ]
  },
  {
   "cell_type": "markdown",
   "id": "7fa29d7b",
   "metadata": {
    "hidden": true
   },
   "source": [
    "Divisão entre features e variável alvo:"
   ]
  },
  {
   "cell_type": "code",
   "execution_count": 76,
   "id": "7b7eaf1d",
   "metadata": {
    "ExecuteTime": {
     "end_time": "2023-02-09T22:44:20.212388Z",
     "start_time": "2023-02-09T22:44:20.201119Z"
    },
    "hidden": true
   },
   "outputs": [
    {
     "data": {
      "text/plain": [
       "0    932515\n",
       "1    588833\n",
       "Name: faturamento, dtype: int64"
      ]
     },
     "execution_count": 76,
     "metadata": {},
     "output_type": "execute_result"
    }
   ],
   "source": [
    "y1 = df_rj.faturamento\n",
    "y1.head(2)"
   ]
  },
  {
   "cell_type": "markdown",
   "id": "ec519242",
   "metadata": {
    "hidden": true
   },
   "source": [
    "A variável \"codigo\" não é informativa, logo será descartada."
   ]
  },
  {
   "cell_type": "code",
   "execution_count": 77,
   "id": "f777fb16",
   "metadata": {
    "ExecuteTime": {
     "end_time": "2023-02-09T22:44:23.637161Z",
     "start_time": "2023-02-09T22:44:23.615556Z"
    },
    "hidden": true
   },
   "outputs": [
    {
     "data": {
      "text/html": [
       "<div>\n",
       "<style scoped>\n",
       "    .dataframe tbody tr th:only-of-type {\n",
       "        vertical-align: middle;\n",
       "    }\n",
       "\n",
       "    .dataframe tbody tr th {\n",
       "        vertical-align: top;\n",
       "    }\n",
       "\n",
       "    .dataframe thead th {\n",
       "        text-align: right;\n",
       "    }\n",
       "</style>\n",
       "<table border=\"1\" class=\"dataframe\">\n",
       "  <thead>\n",
       "    <tr style=\"text-align: right;\">\n",
       "      <th></th>\n",
       "      <th>bairro</th>\n",
       "      <th>cidade</th>\n",
       "      <th>estado</th>\n",
       "      <th>populacao</th>\n",
       "      <th>pop_ate9</th>\n",
       "      <th>pop_de10a14</th>\n",
       "      <th>pop_de15a19</th>\n",
       "      <th>pop_de20a24</th>\n",
       "      <th>pop_de25a34</th>\n",
       "      <th>pop_de35a49</th>\n",
       "      <th>pop_de50a59</th>\n",
       "      <th>pop_mais_de60</th>\n",
       "      <th>domicilios_a1</th>\n",
       "      <th>domicilios_a2</th>\n",
       "      <th>domicilios_b1</th>\n",
       "      <th>domicilios_b2</th>\n",
       "      <th>domicilios_c1</th>\n",
       "      <th>domicilios_c2</th>\n",
       "      <th>domicilios_d</th>\n",
       "      <th>domicilios_e</th>\n",
       "      <th>renda_media</th>\n",
       "      <th>potencial</th>\n",
       "    </tr>\n",
       "  </thead>\n",
       "  <tbody>\n",
       "    <tr>\n",
       "      <th>0</th>\n",
       "      <td>Abolição</td>\n",
       "      <td>Rio de Janeiro</td>\n",
       "      <td>RJ</td>\n",
       "      <td>11676</td>\n",
       "      <td>1027</td>\n",
       "      <td>483</td>\n",
       "      <td>688</td>\n",
       "      <td>800</td>\n",
       "      <td>1675</td>\n",
       "      <td>2300</td>\n",
       "      <td>1784</td>\n",
       "      <td>2919</td>\n",
       "      <td>0</td>\n",
       "      <td>145</td>\n",
       "      <td>715</td>\n",
       "      <td>1242</td>\n",
       "      <td>1093</td>\n",
       "      <td>758</td>\n",
       "      <td>92</td>\n",
       "      <td>304</td>\n",
       "      <td>2501</td>\n",
       "      <td>Médio</td>\n",
       "    </tr>\n",
       "    <tr>\n",
       "      <th>1</th>\n",
       "      <td>Acari</td>\n",
       "      <td>Rio de Janeiro</td>\n",
       "      <td>RJ</td>\n",
       "      <td>27564</td>\n",
       "      <td>5131</td>\n",
       "      <td>2188</td>\n",
       "      <td>2697</td>\n",
       "      <td>2630</td>\n",
       "      <td>4810</td>\n",
       "      <td>5308</td>\n",
       "      <td>2403</td>\n",
       "      <td>2397</td>\n",
       "      <td>0</td>\n",
       "      <td>0</td>\n",
       "      <td>82</td>\n",
       "      <td>506</td>\n",
       "      <td>2040</td>\n",
       "      <td>2490</td>\n",
       "      <td>827</td>\n",
       "      <td>2506</td>\n",
       "      <td>931</td>\n",
       "      <td>Baixo</td>\n",
       "    </tr>\n",
       "  </tbody>\n",
       "</table>\n",
       "</div>"
      ],
      "text/plain": [
       "     bairro          cidade estado  populacao  pop_ate9  pop_de10a14  pop_de15a19  pop_de20a24  pop_de25a34  pop_de35a49  pop_de50a59  pop_mais_de60  domicilios_a1  domicilios_a2  domicilios_b1  domicilios_b2  domicilios_c1  domicilios_c2  domicilios_d  domicilios_e renda_media potencial\n",
       "0  Abolição  Rio de Janeiro     RJ      11676      1027          483          688          800         1675         2300         1784           2919              0            145            715           1242           1093            758            92           304        2501     Médio\n",
       "1     Acari  Rio de Janeiro     RJ      27564      5131         2188         2697         2630         4810         5308         2403           2397              0              0             82            506           2040           2490           827          2506         931     Baixo"
      ]
     },
     "execution_count": 77,
     "metadata": {},
     "output_type": "execute_result"
    }
   ],
   "source": [
    "X1 = df_rj.drop([\"codigo\",\"faturamento\"], axis=1)\n",
    "X1.head(2)"
   ]
  },
  {
   "cell_type": "markdown",
   "id": "d81a5e2e",
   "metadata": {
    "hidden": true
   },
   "source": [
    "Divisão entre datasets de treino e teste, mantendo 15% dos registros para teste.\n",
    "\n",
    "O parâmetro \"random_state\" é utilizado para manter a reprodutibilidade da divisão."
   ]
  },
  {
   "cell_type": "code",
   "execution_count": 78,
   "id": "47068872",
   "metadata": {
    "ExecuteTime": {
     "end_time": "2023-02-09T22:44:29.264653Z",
     "start_time": "2023-02-09T22:44:29.255999Z"
    },
    "hidden": true
   },
   "outputs": [],
   "source": [
    "X1_train, X1_test, y1_train, y1_test = train_test_split(X1, y1, random_state=0, test_size=0.15)"
   ]
  },
  {
   "cell_type": "code",
   "execution_count": 79,
   "id": "28b1d7f8",
   "metadata": {
    "ExecuteTime": {
     "end_time": "2023-02-09T22:44:29.734486Z",
     "start_time": "2023-02-09T22:44:29.705537Z"
    },
    "hidden": true
   },
   "outputs": [
    {
     "name": "stdout",
     "output_type": "stream",
     "text": [
      "(136, 22)\n",
      "(24, 22)\n"
     ]
    },
    {
     "data": {
      "text/html": [
       "<div>\n",
       "<style scoped>\n",
       "    .dataframe tbody tr th:only-of-type {\n",
       "        vertical-align: middle;\n",
       "    }\n",
       "\n",
       "    .dataframe tbody tr th {\n",
       "        vertical-align: top;\n",
       "    }\n",
       "\n",
       "    .dataframe thead th {\n",
       "        text-align: right;\n",
       "    }\n",
       "</style>\n",
       "<table border=\"1\" class=\"dataframe\">\n",
       "  <thead>\n",
       "    <tr style=\"text-align: right;\">\n",
       "      <th></th>\n",
       "      <th>bairro</th>\n",
       "      <th>cidade</th>\n",
       "      <th>estado</th>\n",
       "      <th>populacao</th>\n",
       "      <th>pop_ate9</th>\n",
       "      <th>pop_de10a14</th>\n",
       "      <th>pop_de15a19</th>\n",
       "      <th>pop_de20a24</th>\n",
       "      <th>pop_de25a34</th>\n",
       "      <th>pop_de35a49</th>\n",
       "      <th>pop_de50a59</th>\n",
       "      <th>pop_mais_de60</th>\n",
       "      <th>domicilios_a1</th>\n",
       "      <th>domicilios_a2</th>\n",
       "      <th>domicilios_b1</th>\n",
       "      <th>domicilios_b2</th>\n",
       "      <th>domicilios_c1</th>\n",
       "      <th>domicilios_c2</th>\n",
       "      <th>domicilios_d</th>\n",
       "      <th>domicilios_e</th>\n",
       "      <th>renda_media</th>\n",
       "      <th>potencial</th>\n",
       "    </tr>\n",
       "  </thead>\n",
       "  <tbody>\n",
       "    <tr>\n",
       "      <th>37</th>\n",
       "      <td>Cordovil</td>\n",
       "      <td>Rio de Janeiro</td>\n",
       "      <td>RJ</td>\n",
       "      <td>46478</td>\n",
       "      <td>5729</td>\n",
       "      <td>2893</td>\n",
       "      <td>3768</td>\n",
       "      <td>3850</td>\n",
       "      <td>7146</td>\n",
       "      <td>9369</td>\n",
       "      <td>5598</td>\n",
       "      <td>8125</td>\n",
       "      <td>0</td>\n",
       "      <td>0</td>\n",
       "      <td>1047</td>\n",
       "      <td>2433</td>\n",
       "      <td>4599</td>\n",
       "      <td>4053</td>\n",
       "      <td>723</td>\n",
       "      <td>2601</td>\n",
       "      <td>1480</td>\n",
       "      <td>Médio</td>\n",
       "    </tr>\n",
       "    <tr>\n",
       "      <th>33</th>\n",
       "      <td>Coelho Neto</td>\n",
       "      <td>Rio de Janeiro</td>\n",
       "      <td>RJ</td>\n",
       "      <td>33338</td>\n",
       "      <td>3923</td>\n",
       "      <td>1966</td>\n",
       "      <td>2517</td>\n",
       "      <td>2280</td>\n",
       "      <td>4796</td>\n",
       "      <td>7294</td>\n",
       "      <td>4280</td>\n",
       "      <td>6282</td>\n",
       "      <td>0</td>\n",
       "      <td>0</td>\n",
       "      <td>488</td>\n",
       "      <td>2295</td>\n",
       "      <td>3573</td>\n",
       "      <td>2820</td>\n",
       "      <td>470</td>\n",
       "      <td>2044</td>\n",
       "      <td>1425</td>\n",
       "      <td>Baixo</td>\n",
       "    </tr>\n",
       "  </tbody>\n",
       "</table>\n",
       "</div>"
      ],
      "text/plain": [
       "         bairro          cidade estado  populacao  pop_ate9  pop_de10a14  pop_de15a19  pop_de20a24  pop_de25a34  pop_de35a49  pop_de50a59  pop_mais_de60  domicilios_a1  domicilios_a2  domicilios_b1  domicilios_b2  domicilios_c1  domicilios_c2  domicilios_d  domicilios_e renda_media potencial\n",
       "37     Cordovil  Rio de Janeiro     RJ      46478      5729         2893         3768         3850         7146         9369         5598           8125              0              0           1047           2433           4599           4053           723          2601        1480     Médio\n",
       "33  Coelho Neto  Rio de Janeiro     RJ      33338      3923         1966         2517         2280         4796         7294         4280           6282              0              0            488           2295           3573           2820           470          2044        1425     Baixo"
      ]
     },
     "execution_count": 79,
     "metadata": {},
     "output_type": "execute_result"
    }
   ],
   "source": [
    "print(X1_train.shape)\n",
    "print(X1_test.shape)\n",
    "X1_train.head(2)"
   ]
  },
  {
   "cell_type": "markdown",
   "id": "3dcfe795",
   "metadata": {
    "hidden": true
   },
   "source": [
    "Divisão entre datasets de treino e validação (a partir do treino), mantendo 15% dos registros para validação."
   ]
  },
  {
   "cell_type": "code",
   "execution_count": 80,
   "id": "d8468421",
   "metadata": {
    "ExecuteTime": {
     "end_time": "2023-02-09T22:44:38.400001Z",
     "start_time": "2023-02-09T22:44:38.390996Z"
    },
    "hidden": true
   },
   "outputs": [],
   "source": [
    "X1_train, X1_val, y1_train, y1_val = train_test_split(X1_train, y1_train, random_state=0, test_size=0.15)"
   ]
  },
  {
   "cell_type": "code",
   "execution_count": 81,
   "id": "bf1f1c78",
   "metadata": {
    "ExecuteTime": {
     "end_time": "2023-02-09T22:44:39.386227Z",
     "start_time": "2023-02-09T22:44:39.360571Z"
    },
    "hidden": true
   },
   "outputs": [
    {
     "name": "stdout",
     "output_type": "stream",
     "text": [
      "(115, 22)\n",
      "(21, 22)\n"
     ]
    },
    {
     "data": {
      "text/html": [
       "<div>\n",
       "<style scoped>\n",
       "    .dataframe tbody tr th:only-of-type {\n",
       "        vertical-align: middle;\n",
       "    }\n",
       "\n",
       "    .dataframe tbody tr th {\n",
       "        vertical-align: top;\n",
       "    }\n",
       "\n",
       "    .dataframe thead th {\n",
       "        text-align: right;\n",
       "    }\n",
       "</style>\n",
       "<table border=\"1\" class=\"dataframe\">\n",
       "  <thead>\n",
       "    <tr style=\"text-align: right;\">\n",
       "      <th></th>\n",
       "      <th>bairro</th>\n",
       "      <th>cidade</th>\n",
       "      <th>estado</th>\n",
       "      <th>populacao</th>\n",
       "      <th>pop_ate9</th>\n",
       "      <th>pop_de10a14</th>\n",
       "      <th>pop_de15a19</th>\n",
       "      <th>pop_de20a24</th>\n",
       "      <th>pop_de25a34</th>\n",
       "      <th>pop_de35a49</th>\n",
       "      <th>pop_de50a59</th>\n",
       "      <th>pop_mais_de60</th>\n",
       "      <th>domicilios_a1</th>\n",
       "      <th>domicilios_a2</th>\n",
       "      <th>domicilios_b1</th>\n",
       "      <th>domicilios_b2</th>\n",
       "      <th>domicilios_c1</th>\n",
       "      <th>domicilios_c2</th>\n",
       "      <th>domicilios_d</th>\n",
       "      <th>domicilios_e</th>\n",
       "      <th>renda_media</th>\n",
       "      <th>potencial</th>\n",
       "    </tr>\n",
       "  </thead>\n",
       "  <tbody>\n",
       "    <tr>\n",
       "      <th>63</th>\n",
       "      <td>Higienópolis</td>\n",
       "      <td>Rio de Janeiro</td>\n",
       "      <td>RJ</td>\n",
       "      <td>16177</td>\n",
       "      <td>1516</td>\n",
       "      <td>748</td>\n",
       "      <td>1016</td>\n",
       "      <td>1174</td>\n",
       "      <td>2488</td>\n",
       "      <td>3497</td>\n",
       "      <td>2327</td>\n",
       "      <td>3411</td>\n",
       "      <td>0</td>\n",
       "      <td>141</td>\n",
       "      <td>857</td>\n",
       "      <td>1464</td>\n",
       "      <td>1740</td>\n",
       "      <td>1030</td>\n",
       "      <td>87</td>\n",
       "      <td>432</td>\n",
       "      <td>2336</td>\n",
       "      <td>Médio</td>\n",
       "    </tr>\n",
       "    <tr>\n",
       "      <th>105</th>\n",
       "      <td>Pedra De Guaratiba</td>\n",
       "      <td>Rio de Janeiro</td>\n",
       "      <td>RJ</td>\n",
       "      <td>9666</td>\n",
       "      <td>1139</td>\n",
       "      <td>535</td>\n",
       "      <td>715</td>\n",
       "      <td>690</td>\n",
       "      <td>1415</td>\n",
       "      <td>2068</td>\n",
       "      <td>1284</td>\n",
       "      <td>1820</td>\n",
       "      <td>0</td>\n",
       "      <td>0</td>\n",
       "      <td>231</td>\n",
       "      <td>662</td>\n",
       "      <td>876</td>\n",
       "      <td>783</td>\n",
       "      <td>150</td>\n",
       "      <td>532</td>\n",
       "      <td>1522</td>\n",
       "      <td>Baixo</td>\n",
       "    </tr>\n",
       "  </tbody>\n",
       "</table>\n",
       "</div>"
      ],
      "text/plain": [
       "                 bairro          cidade estado  populacao  pop_ate9  pop_de10a14  pop_de15a19  pop_de20a24  pop_de25a34  pop_de35a49  pop_de50a59  pop_mais_de60  domicilios_a1  domicilios_a2  domicilios_b1  domicilios_b2  domicilios_c1  domicilios_c2  domicilios_d  domicilios_e renda_media potencial\n",
       "63         Higienópolis  Rio de Janeiro     RJ      16177      1516          748         1016         1174         2488         3497         2327           3411              0            141            857           1464           1740           1030            87           432        2336     Médio\n",
       "105  Pedra De Guaratiba  Rio de Janeiro     RJ       9666      1139          535          715          690         1415         2068         1284           1820              0              0            231            662            876            783           150           532        1522     Baixo"
      ]
     },
     "execution_count": 81,
     "metadata": {},
     "output_type": "execute_result"
    }
   ],
   "source": [
    "print(X1_train.shape)\n",
    "print(X1_val.shape)\n",
    "X1_train.head(2)"
   ]
  },
  {
   "cell_type": "markdown",
   "id": "2d169867",
   "metadata": {
    "hidden": true
   },
   "source": [
    "## Implementação de Baseline"
   ]
  },
  {
   "cell_type": "markdown",
   "id": "fcf228ff",
   "metadata": {
    "hidden": true
   },
   "source": [
    "Como algoritmos de machine learning de base, será implementado o KNN Regressor (K-Nearest Neighbors, ou \"K vizinhos mais próximos\") da biblioteca scikit-learn.\n",
    "- É um bom baseline por ser simples de implementar, explicar ao time de negócio, e demandar pouca parametrização.\n",
    "\n",
    "Funcionamento:\n",
    "- O KNN não constrói um modelo (é chamado de “lazy”), mas armazena o dataset de treino dentro dele.\n",
    "- Para prever um novo ponto sem rótulo, encontra o ponto mais próximo dele com rótulo armazenado, sendo seu \"nearest neighbor\".\n",
    "\n",
    "Premissas:\n",
    "- premissa receber apenas features numéricas, e na mesma escala (demanda pré processamento), pois realiza cálculos de distâncias entre os pontos."
   ]
  },
  {
   "cell_type": "markdown",
   "id": "d8724307",
   "metadata": {
    "hidden": true
   },
   "source": [
    "Manter apenas features numéricas, respeitando a premissa do KNN."
   ]
  },
  {
   "cell_type": "code",
   "execution_count": 82,
   "id": "146c780d",
   "metadata": {
    "ExecuteTime": {
     "end_time": "2023-02-09T22:44:44.372653Z",
     "start_time": "2023-02-09T22:44:44.351206Z"
    },
    "hidden": true
   },
   "outputs": [
    {
     "data": {
      "text/html": [
       "<div>\n",
       "<style scoped>\n",
       "    .dataframe tbody tr th:only-of-type {\n",
       "        vertical-align: middle;\n",
       "    }\n",
       "\n",
       "    .dataframe tbody tr th {\n",
       "        vertical-align: top;\n",
       "    }\n",
       "\n",
       "    .dataframe thead th {\n",
       "        text-align: right;\n",
       "    }\n",
       "</style>\n",
       "<table border=\"1\" class=\"dataframe\">\n",
       "  <thead>\n",
       "    <tr style=\"text-align: right;\">\n",
       "      <th></th>\n",
       "      <th>populacao</th>\n",
       "      <th>pop_ate9</th>\n",
       "      <th>pop_de10a14</th>\n",
       "      <th>pop_de15a19</th>\n",
       "      <th>pop_de20a24</th>\n",
       "      <th>pop_de25a34</th>\n",
       "      <th>pop_de35a49</th>\n",
       "      <th>pop_de50a59</th>\n",
       "      <th>pop_mais_de60</th>\n",
       "      <th>domicilios_a1</th>\n",
       "      <th>domicilios_a2</th>\n",
       "      <th>domicilios_b1</th>\n",
       "      <th>domicilios_b2</th>\n",
       "      <th>domicilios_c1</th>\n",
       "      <th>domicilios_c2</th>\n",
       "      <th>domicilios_d</th>\n",
       "      <th>domicilios_e</th>\n",
       "    </tr>\n",
       "  </thead>\n",
       "  <tbody>\n",
       "    <tr>\n",
       "      <th>63</th>\n",
       "      <td>16177</td>\n",
       "      <td>1516</td>\n",
       "      <td>748</td>\n",
       "      <td>1016</td>\n",
       "      <td>1174</td>\n",
       "      <td>2488</td>\n",
       "      <td>3497</td>\n",
       "      <td>2327</td>\n",
       "      <td>3411</td>\n",
       "      <td>0</td>\n",
       "      <td>141</td>\n",
       "      <td>857</td>\n",
       "      <td>1464</td>\n",
       "      <td>1740</td>\n",
       "      <td>1030</td>\n",
       "      <td>87</td>\n",
       "      <td>432</td>\n",
       "    </tr>\n",
       "    <tr>\n",
       "      <th>105</th>\n",
       "      <td>9666</td>\n",
       "      <td>1139</td>\n",
       "      <td>535</td>\n",
       "      <td>715</td>\n",
       "      <td>690</td>\n",
       "      <td>1415</td>\n",
       "      <td>2068</td>\n",
       "      <td>1284</td>\n",
       "      <td>1820</td>\n",
       "      <td>0</td>\n",
       "      <td>0</td>\n",
       "      <td>231</td>\n",
       "      <td>662</td>\n",
       "      <td>876</td>\n",
       "      <td>783</td>\n",
       "      <td>150</td>\n",
       "      <td>532</td>\n",
       "    </tr>\n",
       "  </tbody>\n",
       "</table>\n",
       "</div>"
      ],
      "text/plain": [
       "     populacao  pop_ate9  pop_de10a14  pop_de15a19  pop_de20a24  pop_de25a34  pop_de35a49  pop_de50a59  pop_mais_de60  domicilios_a1  domicilios_a2  domicilios_b1  domicilios_b2  domicilios_c1  domicilios_c2  domicilios_d  domicilios_e\n",
       "63       16177      1516          748         1016         1174         2488         3497         2327           3411              0            141            857           1464           1740           1030            87           432\n",
       "105       9666      1139          535          715          690         1415         2068         1284           1820              0              0            231            662            876            783           150           532"
      ]
     },
     "execution_count": 82,
     "metadata": {},
     "output_type": "execute_result"
    }
   ],
   "source": [
    "X1_train = X1_train.select_dtypes(include=['int64', 'float64'])\n",
    "X1_val = X1_val.select_dtypes(include=['int64', 'float64'])\n",
    "X1_train.head(2)"
   ]
  },
  {
   "cell_type": "markdown",
   "id": "1943feec",
   "metadata": {
    "hidden": true
   },
   "source": [
    "Instanciar um KNN Regressor, treinar com os dados de treino, e realizar predições com os dados de validação.\n",
    "\n",
    "Será parametrizado neste ciclo um número de k=3, visando um modelo mais simples que o K=5 default, com a expectativa de uma maior capacidade de generalização. Nos próximos ciclos, serão avaliados diferentes valores de K, para comparação.  "
   ]
  },
  {
   "cell_type": "code",
   "execution_count": 83,
   "id": "692770fd",
   "metadata": {
    "ExecuteTime": {
     "end_time": "2023-02-09T22:44:45.713614Z",
     "start_time": "2023-02-09T22:44:45.702088Z"
    },
    "hidden": true
   },
   "outputs": [],
   "source": [
    "knn_reg = KNeighborsRegressor(n_neighbors=3)\n",
    "knn_reg.fit(X1_train, y1_train)\n",
    "knn_reg_yhat = knn_reg.predict(X1_val)"
   ]
  },
  {
   "cell_type": "markdown",
   "id": "7a7233b4",
   "metadata": {
    "hidden": true
   },
   "source": [
    "A métrica utilizada para medir a performance do modelo será a R squared (ou coeficiente de determinação).\n",
    "\n",
    "Trata-se de uma medita estatística de quão próximos os dados estão da linha de regressão ajustada.\n",
    "\n",
    "Varia entre entre 0 e 100%, sendo a porcentagem da variação da variável resposta que é explicada por um modelo linear.\n",
    "\n",
    "Busca-se portanto, o valor mais próximo de 100% possível, sendo aqui a previsão de faturamento mais próxima da realidade possível."
   ]
  },
  {
   "cell_type": "code",
   "execution_count": 119,
   "id": "4abb4d14",
   "metadata": {
    "ExecuteTime": {
     "end_time": "2023-02-09T23:02:55.262403Z",
     "start_time": "2023-02-09T23:02:55.250128Z"
    },
    "hidden": true
   },
   "outputs": [
    {
     "name": "stdout",
     "output_type": "stream",
     "text": [
      "R^2 com dados de Validação 0.5709\n"
     ]
    }
   ],
   "source": [
    "print(\"R^2 com dados de Validação {:.4f}\".format(knn_reg.score(X1_val, y1_val)))"
   ]
  },
  {
   "cell_type": "markdown",
   "id": "868d7a81",
   "metadata": {
    "hidden": true
   },
   "source": [
    "Pode-se calcular também o R^2 a partir da predição do modelo, através do pacote \"metrics\" do scikit-sklearn."
   ]
  },
  {
   "cell_type": "code",
   "execution_count": 118,
   "id": "456ad565",
   "metadata": {
    "ExecuteTime": {
     "end_time": "2023-02-09T23:02:51.189809Z",
     "start_time": "2023-02-09T23:02:51.179508Z"
    },
    "hidden": true
   },
   "outputs": [
    {
     "name": "stdout",
     "output_type": "stream",
     "text": [
      "R^2 com dados de Validação: 0.5709\n"
     ]
    }
   ],
   "source": [
    "print(f\"R^2 com dados de Validação: {round(r2_score(y1_val, knn_reg_yhat),4)}\")"
   ]
  },
  {
   "cell_type": "markdown",
   "id": "f061966c",
   "metadata": {
    "hidden": true
   },
   "source": [
    "O R Squared do KNN foi satisfatório neste primeiro ciclo. Possivlmente a métrica pode ser melhorada, por meio de:\n",
    "- Reescala de dados.\n",
    "- Seleção de features, removendo as não informativas e aquelas não relacionadas ao público alvo.\n",
    "- Seleção de diferentes valores para K, bem como tunagem de hiperparâmetros no modelo.\n",
    "- Avaliação da presença de outliers, que podem distorcer os cálculos de distâncias.\n",
    "\n",
    "Nos próximos ciclos, estes temas serão tratados, e novos algoritmos com diferentes abordagens também serão implementados.\n",
    "\n",
    "No último ciclo, será avaliada a capacidade de generalização do modelo final (de melhor performance), realizando a previsão com os dados de teste."
   ]
  },
  {
   "cell_type": "markdown",
   "id": "85a77665",
   "metadata": {
    "heading_collapsed": true
   },
   "source": [
    "# Análise 2 - Classificação do potencial em SP"
   ]
  },
  {
   "cell_type": "markdown",
   "id": "f466659e",
   "metadata": {
    "hidden": true
   },
   "source": [
    "Análise 2 - Classificar o potencial dos bairros de São Paulo em alto, médio ou baixo (classificação multiclasse)."
   ]
  },
  {
   "cell_type": "markdown",
   "id": "a848cec9",
   "metadata": {
    "hidden": true
   },
   "source": [
    "## Divisão dos Dados"
   ]
  },
  {
   "cell_type": "markdown",
   "id": "7045a6b6",
   "metadata": {
    "ExecuteTime": {
     "end_time": "2023-02-09T12:51:12.087878Z",
     "start_time": "2023-02-09T12:51:12.077256Z"
    },
    "hidden": true
   },
   "source": [
    "Trata-se portanto de um problema de classificação multiclasse (supervisionado), sendo a variável alvo \"potencial\" categórica. \n",
    "- As possíveis categorias de \"potencial\" são: Alto, Médio e Baixo.\n",
    "\n",
    "Assim como na análise 1, aqui df_rj também será dividido em três partes: dados de treinamento, validação e teste. \n",
    "- A separação dos dados da análise 1 não será aproveitada, porque a variável alvo era \"faturamento\", e nesta análise será \"potencial\".\n",
    "- Ou seja, nesta análise 2, \"faturamento\" será uma variável preditora (feature), e \"potencial\" será a variável dependente (target)."
   ]
  },
  {
   "cell_type": "markdown",
   "id": "387fd000",
   "metadata": {
    "hidden": true
   },
   "source": [
    "Divisão entre features e variável alvo."
   ]
  },
  {
   "cell_type": "code",
   "execution_count": 85,
   "id": "95d9f3be",
   "metadata": {
    "ExecuteTime": {
     "end_time": "2023-02-09T22:45:12.032732Z",
     "start_time": "2023-02-09T22:45:12.022580Z"
    },
    "hidden": true
   },
   "outputs": [
    {
     "data": {
      "text/plain": [
       "0    Médio\n",
       "1    Baixo\n",
       "Name: potencial, dtype: object"
      ]
     },
     "execution_count": 85,
     "metadata": {},
     "output_type": "execute_result"
    }
   ],
   "source": [
    "y2 = df_rj.potencial\n",
    "y2.head(2)"
   ]
  },
  {
   "cell_type": "markdown",
   "id": "3958523d",
   "metadata": {
    "hidden": true
   },
   "source": [
    "A variável \"codigo\" não é informativa, logo será descartada."
   ]
  },
  {
   "cell_type": "code",
   "execution_count": 86,
   "id": "25936901",
   "metadata": {
    "ExecuteTime": {
     "end_time": "2023-02-09T22:45:12.869340Z",
     "start_time": "2023-02-09T22:45:12.846262Z"
    },
    "hidden": true
   },
   "outputs": [
    {
     "data": {
      "text/html": [
       "<div>\n",
       "<style scoped>\n",
       "    .dataframe tbody tr th:only-of-type {\n",
       "        vertical-align: middle;\n",
       "    }\n",
       "\n",
       "    .dataframe tbody tr th {\n",
       "        vertical-align: top;\n",
       "    }\n",
       "\n",
       "    .dataframe thead th {\n",
       "        text-align: right;\n",
       "    }\n",
       "</style>\n",
       "<table border=\"1\" class=\"dataframe\">\n",
       "  <thead>\n",
       "    <tr style=\"text-align: right;\">\n",
       "      <th></th>\n",
       "      <th>bairro</th>\n",
       "      <th>cidade</th>\n",
       "      <th>estado</th>\n",
       "      <th>populacao</th>\n",
       "      <th>pop_ate9</th>\n",
       "      <th>pop_de10a14</th>\n",
       "      <th>pop_de15a19</th>\n",
       "      <th>pop_de20a24</th>\n",
       "      <th>pop_de25a34</th>\n",
       "      <th>pop_de35a49</th>\n",
       "      <th>pop_de50a59</th>\n",
       "      <th>pop_mais_de60</th>\n",
       "      <th>domicilios_a1</th>\n",
       "      <th>domicilios_a2</th>\n",
       "      <th>domicilios_b1</th>\n",
       "      <th>domicilios_b2</th>\n",
       "      <th>domicilios_c1</th>\n",
       "      <th>domicilios_c2</th>\n",
       "      <th>domicilios_d</th>\n",
       "      <th>domicilios_e</th>\n",
       "      <th>renda_media</th>\n",
       "      <th>faturamento</th>\n",
       "    </tr>\n",
       "  </thead>\n",
       "  <tbody>\n",
       "    <tr>\n",
       "      <th>0</th>\n",
       "      <td>Abolição</td>\n",
       "      <td>Rio de Janeiro</td>\n",
       "      <td>RJ</td>\n",
       "      <td>11676</td>\n",
       "      <td>1027</td>\n",
       "      <td>483</td>\n",
       "      <td>688</td>\n",
       "      <td>800</td>\n",
       "      <td>1675</td>\n",
       "      <td>2300</td>\n",
       "      <td>1784</td>\n",
       "      <td>2919</td>\n",
       "      <td>0</td>\n",
       "      <td>145</td>\n",
       "      <td>715</td>\n",
       "      <td>1242</td>\n",
       "      <td>1093</td>\n",
       "      <td>758</td>\n",
       "      <td>92</td>\n",
       "      <td>304</td>\n",
       "      <td>2501</td>\n",
       "      <td>932515</td>\n",
       "    </tr>\n",
       "    <tr>\n",
       "      <th>1</th>\n",
       "      <td>Acari</td>\n",
       "      <td>Rio de Janeiro</td>\n",
       "      <td>RJ</td>\n",
       "      <td>27564</td>\n",
       "      <td>5131</td>\n",
       "      <td>2188</td>\n",
       "      <td>2697</td>\n",
       "      <td>2630</td>\n",
       "      <td>4810</td>\n",
       "      <td>5308</td>\n",
       "      <td>2403</td>\n",
       "      <td>2397</td>\n",
       "      <td>0</td>\n",
       "      <td>0</td>\n",
       "      <td>82</td>\n",
       "      <td>506</td>\n",
       "      <td>2040</td>\n",
       "      <td>2490</td>\n",
       "      <td>827</td>\n",
       "      <td>2506</td>\n",
       "      <td>931</td>\n",
       "      <td>588833</td>\n",
       "    </tr>\n",
       "  </tbody>\n",
       "</table>\n",
       "</div>"
      ],
      "text/plain": [
       "     bairro          cidade estado  populacao  pop_ate9  pop_de10a14  pop_de15a19  pop_de20a24  pop_de25a34  pop_de35a49  pop_de50a59  pop_mais_de60  domicilios_a1  domicilios_a2  domicilios_b1  domicilios_b2  domicilios_c1  domicilios_c2  domicilios_d  domicilios_e renda_media  faturamento\n",
       "0  Abolição  Rio de Janeiro     RJ      11676      1027          483          688          800         1675         2300         1784           2919              0            145            715           1242           1093            758            92           304        2501       932515\n",
       "1     Acari  Rio de Janeiro     RJ      27564      5131         2188         2697         2630         4810         5308         2403           2397              0              0             82            506           2040           2490           827          2506         931       588833"
      ]
     },
     "execution_count": 86,
     "metadata": {},
     "output_type": "execute_result"
    }
   ],
   "source": [
    "X2 = df_rj.drop([\"codigo\",\"potencial\"], axis=1)\n",
    "X2.head(2)"
   ]
  },
  {
   "cell_type": "markdown",
   "id": "3561284f",
   "metadata": {
    "hidden": true
   },
   "source": [
    "Avaliar balanceamento da var resposta."
   ]
  },
  {
   "cell_type": "code",
   "execution_count": 87,
   "id": "fd739f0a",
   "metadata": {
    "ExecuteTime": {
     "end_time": "2023-02-09T22:45:15.473114Z",
     "start_time": "2023-02-09T22:45:15.461912Z"
    },
    "hidden": true
   },
   "outputs": [
    {
     "data": {
      "text/plain": [
       "Baixo    38.75\n",
       "Médio    31.25\n",
       "Alto     30.00\n",
       "Name: potencial, dtype: float64"
      ]
     },
     "execution_count": 87,
     "metadata": {},
     "output_type": "execute_result"
    }
   ],
   "source": [
    "y2.value_counts(normalize=True)*100"
   ]
  },
  {
   "cell_type": "markdown",
   "id": "a7734205",
   "metadata": {
    "hidden": true
   },
   "source": [
    "A variável alvo \"potencial\" está balanceada, ou seja, tem uma distribuição parecida dos registros nas categorias existentes. \n",
    "\n",
    "Isto dispensa tratativas para balanceamento, e permite o uso da métrica de acurácia, para avaliação de performance."
   ]
  },
  {
   "cell_type": "markdown",
   "id": "a3f54045",
   "metadata": {
    "hidden": true
   },
   "source": [
    "Divisão entre datasets de treino e teste, mantendo 15% dos registros para teste.\n",
    "\n",
    "O parâmetro \"stratify\" é utilizado para manter uma proporção parecida da variável alvo nos dados de treino e de teste."
   ]
  },
  {
   "cell_type": "code",
   "execution_count": 88,
   "id": "a99f67e2",
   "metadata": {
    "ExecuteTime": {
     "end_time": "2023-02-09T22:45:18.488858Z",
     "start_time": "2023-02-09T22:45:18.477473Z"
    },
    "hidden": true
   },
   "outputs": [],
   "source": [
    "X2_train, X2_test, y2_train, y2_test = train_test_split(X2, y2, random_state=0, test_size=0.15, stratify=y2)"
   ]
  },
  {
   "cell_type": "code",
   "execution_count": 89,
   "id": "85c31bb7",
   "metadata": {
    "ExecuteTime": {
     "end_time": "2023-02-09T22:45:22.550523Z",
     "start_time": "2023-02-09T22:45:22.525985Z"
    },
    "hidden": true
   },
   "outputs": [
    {
     "name": "stdout",
     "output_type": "stream",
     "text": [
      "(136, 22)\n",
      "(24, 22)\n"
     ]
    },
    {
     "data": {
      "text/html": [
       "<div>\n",
       "<style scoped>\n",
       "    .dataframe tbody tr th:only-of-type {\n",
       "        vertical-align: middle;\n",
       "    }\n",
       "\n",
       "    .dataframe tbody tr th {\n",
       "        vertical-align: top;\n",
       "    }\n",
       "\n",
       "    .dataframe thead th {\n",
       "        text-align: right;\n",
       "    }\n",
       "</style>\n",
       "<table border=\"1\" class=\"dataframe\">\n",
       "  <thead>\n",
       "    <tr style=\"text-align: right;\">\n",
       "      <th></th>\n",
       "      <th>bairro</th>\n",
       "      <th>cidade</th>\n",
       "      <th>estado</th>\n",
       "      <th>populacao</th>\n",
       "      <th>pop_ate9</th>\n",
       "      <th>pop_de10a14</th>\n",
       "      <th>pop_de15a19</th>\n",
       "      <th>pop_de20a24</th>\n",
       "      <th>pop_de25a34</th>\n",
       "      <th>pop_de35a49</th>\n",
       "      <th>pop_de50a59</th>\n",
       "      <th>pop_mais_de60</th>\n",
       "      <th>domicilios_a1</th>\n",
       "      <th>domicilios_a2</th>\n",
       "      <th>domicilios_b1</th>\n",
       "      <th>domicilios_b2</th>\n",
       "      <th>domicilios_c1</th>\n",
       "      <th>domicilios_c2</th>\n",
       "      <th>domicilios_d</th>\n",
       "      <th>domicilios_e</th>\n",
       "      <th>renda_media</th>\n",
       "      <th>faturamento</th>\n",
       "    </tr>\n",
       "  </thead>\n",
       "  <tbody>\n",
       "    <tr>\n",
       "      <th>4</th>\n",
       "      <td>Anchieta</td>\n",
       "      <td>Rio de Janeiro</td>\n",
       "      <td>RJ</td>\n",
       "      <td>57222</td>\n",
       "      <td>7677</td>\n",
       "      <td>3774</td>\n",
       "      <td>4892</td>\n",
       "      <td>4600</td>\n",
       "      <td>8660</td>\n",
       "      <td>12272</td>\n",
       "      <td>7157</td>\n",
       "      <td>8190</td>\n",
       "      <td>0</td>\n",
       "      <td>0</td>\n",
       "      <td>1089</td>\n",
       "      <td>2821</td>\n",
       "      <td>5110</td>\n",
       "      <td>5422</td>\n",
       "      <td>1073</td>\n",
       "      <td>3261</td>\n",
       "      <td>1380</td>\n",
       "      <td>553020</td>\n",
       "    </tr>\n",
       "    <tr>\n",
       "      <th>106</th>\n",
       "      <td>Penha</td>\n",
       "      <td>Rio de Janeiro</td>\n",
       "      <td>RJ</td>\n",
       "      <td>80900</td>\n",
       "      <td>9269</td>\n",
       "      <td>4616</td>\n",
       "      <td>7545</td>\n",
       "      <td>8520</td>\n",
       "      <td>12940</td>\n",
       "      <td>15618</td>\n",
       "      <td>9160</td>\n",
       "      <td>13232</td>\n",
       "      <td>0</td>\n",
       "      <td>239</td>\n",
       "      <td>2129</td>\n",
       "      <td>4629</td>\n",
       "      <td>7639</td>\n",
       "      <td>6086</td>\n",
       "      <td>1082</td>\n",
       "      <td>3563</td>\n",
       "      <td>1682</td>\n",
       "      <td>593191</td>\n",
       "    </tr>\n",
       "  </tbody>\n",
       "</table>\n",
       "</div>"
      ],
      "text/plain": [
       "       bairro          cidade estado  populacao  pop_ate9  pop_de10a14  pop_de15a19  pop_de20a24  pop_de25a34  pop_de35a49  pop_de50a59  pop_mais_de60  domicilios_a1  domicilios_a2  domicilios_b1  domicilios_b2  domicilios_c1  domicilios_c2  domicilios_d  domicilios_e renda_media  faturamento\n",
       "4    Anchieta  Rio de Janeiro     RJ      57222      7677         3774         4892         4600         8660        12272         7157           8190              0              0           1089           2821           5110           5422          1073          3261        1380       553020\n",
       "106     Penha  Rio de Janeiro     RJ      80900      9269         4616         7545         8520        12940        15618         9160          13232              0            239           2129           4629           7639           6086          1082          3563        1682       593191"
      ]
     },
     "execution_count": 89,
     "metadata": {},
     "output_type": "execute_result"
    }
   ],
   "source": [
    "print(X2_train.shape)\n",
    "print(X2_test.shape)\n",
    "X2_train.head(2)"
   ]
  },
  {
   "cell_type": "markdown",
   "id": "ec17eb17",
   "metadata": {
    "hidden": true
   },
   "source": [
    "Divisão entre datasets de treino e validação (a partir dos dados de treino), mantendo 15% dos registros para validação."
   ]
  },
  {
   "cell_type": "code",
   "execution_count": 94,
   "id": "ddf7ef8c",
   "metadata": {
    "ExecuteTime": {
     "end_time": "2023-02-09T22:46:13.503503Z",
     "start_time": "2023-02-09T22:46:13.492560Z"
    },
    "hidden": true
   },
   "outputs": [],
   "source": [
    "X2_train, X2_val, y2_train, y2_val = train_test_split(X2_train, y2_train, random_state=0, test_size=0.15, stratify=y2_train)"
   ]
  },
  {
   "cell_type": "code",
   "execution_count": 95,
   "id": "81ef056f",
   "metadata": {
    "ExecuteTime": {
     "end_time": "2023-02-09T22:46:15.163289Z",
     "start_time": "2023-02-09T22:46:15.141171Z"
    },
    "hidden": true,
    "scrolled": true
   },
   "outputs": [
    {
     "name": "stdout",
     "output_type": "stream",
     "text": [
      "(115, 22)\n",
      "(21, 22)\n"
     ]
    },
    {
     "data": {
      "text/html": [
       "<div>\n",
       "<style scoped>\n",
       "    .dataframe tbody tr th:only-of-type {\n",
       "        vertical-align: middle;\n",
       "    }\n",
       "\n",
       "    .dataframe tbody tr th {\n",
       "        vertical-align: top;\n",
       "    }\n",
       "\n",
       "    .dataframe thead th {\n",
       "        text-align: right;\n",
       "    }\n",
       "</style>\n",
       "<table border=\"1\" class=\"dataframe\">\n",
       "  <thead>\n",
       "    <tr style=\"text-align: right;\">\n",
       "      <th></th>\n",
       "      <th>bairro</th>\n",
       "      <th>cidade</th>\n",
       "      <th>estado</th>\n",
       "      <th>populacao</th>\n",
       "      <th>pop_ate9</th>\n",
       "      <th>pop_de10a14</th>\n",
       "      <th>pop_de15a19</th>\n",
       "      <th>pop_de20a24</th>\n",
       "      <th>pop_de25a34</th>\n",
       "      <th>pop_de35a49</th>\n",
       "      <th>pop_de50a59</th>\n",
       "      <th>pop_mais_de60</th>\n",
       "      <th>domicilios_a1</th>\n",
       "      <th>domicilios_a2</th>\n",
       "      <th>domicilios_b1</th>\n",
       "      <th>domicilios_b2</th>\n",
       "      <th>domicilios_c1</th>\n",
       "      <th>domicilios_c2</th>\n",
       "      <th>domicilios_d</th>\n",
       "      <th>domicilios_e</th>\n",
       "      <th>renda_media</th>\n",
       "      <th>faturamento</th>\n",
       "    </tr>\n",
       "  </thead>\n",
       "  <tbody>\n",
       "    <tr>\n",
       "      <th>42</th>\n",
       "      <td>Del Castilho</td>\n",
       "      <td>Rio de Janeiro</td>\n",
       "      <td>RJ</td>\n",
       "      <td>16051</td>\n",
       "      <td>1740</td>\n",
       "      <td>831</td>\n",
       "      <td>1140</td>\n",
       "      <td>1182</td>\n",
       "      <td>2496</td>\n",
       "      <td>3231</td>\n",
       "      <td>2052</td>\n",
       "      <td>3379</td>\n",
       "      <td>0</td>\n",
       "      <td>80</td>\n",
       "      <td>588</td>\n",
       "      <td>1118</td>\n",
       "      <td>1481</td>\n",
       "      <td>1243</td>\n",
       "      <td>166</td>\n",
       "      <td>828</td>\n",
       "      <td>1889</td>\n",
       "      <td>846146</td>\n",
       "    </tr>\n",
       "    <tr>\n",
       "      <th>109</th>\n",
       "      <td>Pilares</td>\n",
       "      <td>Rio de Janeiro</td>\n",
       "      <td>RJ</td>\n",
       "      <td>28018</td>\n",
       "      <td>3008</td>\n",
       "      <td>1476</td>\n",
       "      <td>1999</td>\n",
       "      <td>1993</td>\n",
       "      <td>4011</td>\n",
       "      <td>5830</td>\n",
       "      <td>3820</td>\n",
       "      <td>5881</td>\n",
       "      <td>0</td>\n",
       "      <td>0</td>\n",
       "      <td>913</td>\n",
       "      <td>1659</td>\n",
       "      <td>2729</td>\n",
       "      <td>1997</td>\n",
       "      <td>456</td>\n",
       "      <td>2074</td>\n",
       "      <td>1535</td>\n",
       "      <td>826523</td>\n",
       "    </tr>\n",
       "  </tbody>\n",
       "</table>\n",
       "</div>"
      ],
      "text/plain": [
       "           bairro          cidade estado  populacao  pop_ate9  pop_de10a14  pop_de15a19  pop_de20a24  pop_de25a34  pop_de35a49  pop_de50a59  pop_mais_de60  domicilios_a1  domicilios_a2  domicilios_b1  domicilios_b2  domicilios_c1  domicilios_c2  domicilios_d  domicilios_e renda_media  faturamento\n",
       "42   Del Castilho  Rio de Janeiro     RJ      16051      1740          831         1140         1182         2496         3231         2052           3379              0             80            588           1118           1481           1243           166           828        1889       846146\n",
       "109       Pilares  Rio de Janeiro     RJ      28018      3008         1476         1999         1993         4011         5830         3820           5881              0              0            913           1659           2729           1997           456          2074        1535       826523"
      ]
     },
     "execution_count": 95,
     "metadata": {},
     "output_type": "execute_result"
    }
   ],
   "source": [
    "print(X2_train.shape)\n",
    "print(X2_val.shape)\n",
    "X2_train.head(2)"
   ]
  },
  {
   "cell_type": "markdown",
   "id": "e7d7a6f2",
   "metadata": {
    "hidden": true
   },
   "source": [
    "## Implementação de Baseline"
   ]
  },
  {
   "cell_type": "markdown",
   "id": "2e08c3fa",
   "metadata": {
    "hidden": true
   },
   "source": [
    "Nesta análise, também será implementado o KNN como modelo de base. \n",
    "\n",
    "Se tratando de um problema de classificação, será utilizado o KNN classifier da biblioteca scikit-learn."
   ]
  },
  {
   "cell_type": "markdown",
   "id": "c0819198",
   "metadata": {
    "hidden": true
   },
   "source": [
    "Manter apenas features numéricas, respeitando a premissa do KNN."
   ]
  },
  {
   "cell_type": "code",
   "execution_count": 96,
   "id": "b0d9a435",
   "metadata": {
    "ExecuteTime": {
     "end_time": "2023-02-09T22:46:39.208047Z",
     "start_time": "2023-02-09T22:46:39.187987Z"
    },
    "hidden": true
   },
   "outputs": [
    {
     "data": {
      "text/html": [
       "<div>\n",
       "<style scoped>\n",
       "    .dataframe tbody tr th:only-of-type {\n",
       "        vertical-align: middle;\n",
       "    }\n",
       "\n",
       "    .dataframe tbody tr th {\n",
       "        vertical-align: top;\n",
       "    }\n",
       "\n",
       "    .dataframe thead th {\n",
       "        text-align: right;\n",
       "    }\n",
       "</style>\n",
       "<table border=\"1\" class=\"dataframe\">\n",
       "  <thead>\n",
       "    <tr style=\"text-align: right;\">\n",
       "      <th></th>\n",
       "      <th>populacao</th>\n",
       "      <th>pop_ate9</th>\n",
       "      <th>pop_de10a14</th>\n",
       "      <th>pop_de15a19</th>\n",
       "      <th>pop_de20a24</th>\n",
       "      <th>pop_de25a34</th>\n",
       "      <th>pop_de35a49</th>\n",
       "      <th>pop_de50a59</th>\n",
       "      <th>pop_mais_de60</th>\n",
       "      <th>domicilios_a1</th>\n",
       "      <th>domicilios_a2</th>\n",
       "      <th>domicilios_b1</th>\n",
       "      <th>domicilios_b2</th>\n",
       "      <th>domicilios_c1</th>\n",
       "      <th>domicilios_c2</th>\n",
       "      <th>domicilios_d</th>\n",
       "      <th>domicilios_e</th>\n",
       "      <th>faturamento</th>\n",
       "    </tr>\n",
       "  </thead>\n",
       "  <tbody>\n",
       "    <tr>\n",
       "      <th>42</th>\n",
       "      <td>16051</td>\n",
       "      <td>1740</td>\n",
       "      <td>831</td>\n",
       "      <td>1140</td>\n",
       "      <td>1182</td>\n",
       "      <td>2496</td>\n",
       "      <td>3231</td>\n",
       "      <td>2052</td>\n",
       "      <td>3379</td>\n",
       "      <td>0</td>\n",
       "      <td>80</td>\n",
       "      <td>588</td>\n",
       "      <td>1118</td>\n",
       "      <td>1481</td>\n",
       "      <td>1243</td>\n",
       "      <td>166</td>\n",
       "      <td>828</td>\n",
       "      <td>846146</td>\n",
       "    </tr>\n",
       "    <tr>\n",
       "      <th>109</th>\n",
       "      <td>28018</td>\n",
       "      <td>3008</td>\n",
       "      <td>1476</td>\n",
       "      <td>1999</td>\n",
       "      <td>1993</td>\n",
       "      <td>4011</td>\n",
       "      <td>5830</td>\n",
       "      <td>3820</td>\n",
       "      <td>5881</td>\n",
       "      <td>0</td>\n",
       "      <td>0</td>\n",
       "      <td>913</td>\n",
       "      <td>1659</td>\n",
       "      <td>2729</td>\n",
       "      <td>1997</td>\n",
       "      <td>456</td>\n",
       "      <td>2074</td>\n",
       "      <td>826523</td>\n",
       "    </tr>\n",
       "  </tbody>\n",
       "</table>\n",
       "</div>"
      ],
      "text/plain": [
       "     populacao  pop_ate9  pop_de10a14  pop_de15a19  pop_de20a24  pop_de25a34  pop_de35a49  pop_de50a59  pop_mais_de60  domicilios_a1  domicilios_a2  domicilios_b1  domicilios_b2  domicilios_c1  domicilios_c2  domicilios_d  domicilios_e  faturamento\n",
       "42       16051      1740          831         1140         1182         2496         3231         2052           3379              0             80            588           1118           1481           1243           166           828       846146\n",
       "109      28018      3008         1476         1999         1993         4011         5830         3820           5881              0              0            913           1659           2729           1997           456          2074       826523"
      ]
     },
     "execution_count": 96,
     "metadata": {},
     "output_type": "execute_result"
    }
   ],
   "source": [
    "X2_train = X2_train.select_dtypes(include=['int64', 'float64'])\n",
    "X2_val = X2_val.select_dtypes(include=['int64', 'float64'])\n",
    "X2_train.head(2)"
   ]
  },
  {
   "cell_type": "markdown",
   "id": "30ccee84",
   "metadata": {
    "hidden": true
   },
   "source": [
    "Instanciar um KNN Classifier, treinar com os dados de treino, e realizar predições com os dados de validação.\n",
    "\n",
    "Será parametrizado neste ciclo um número de k=3, visando um modelo mais simples que o K=5 default, com a expectativa de uma maior capacidade de generalização. Nos próximos ciclos, serão avaliados diferentes valores de K, para comparação."
   ]
  },
  {
   "cell_type": "code",
   "execution_count": 98,
   "id": "ac50cae8",
   "metadata": {
    "ExecuteTime": {
     "end_time": "2023-02-09T22:46:52.193638Z",
     "start_time": "2023-02-09T22:46:52.178665Z"
    },
    "hidden": true
   },
   "outputs": [],
   "source": [
    "knn_cla = KNeighborsClassifier(n_neighbors=3)\n",
    "knn_cla.fit(X2_train, y2_train)\n",
    "knn_cla_yhat = knn_cla.predict(X2_val)"
   ]
  },
  {
   "cell_type": "code",
   "execution_count": 99,
   "id": "adb4bff8",
   "metadata": {
    "ExecuteTime": {
     "end_time": "2023-02-09T22:47:09.274780Z",
     "start_time": "2023-02-09T22:47:09.266900Z"
    },
    "hidden": true
   },
   "outputs": [
    {
     "data": {
      "text/plain": [
       "array(['Médio', 'Baixo', 'Médio'], dtype=object)"
      ]
     },
     "execution_count": 99,
     "metadata": {},
     "output_type": "execute_result"
    }
   ],
   "source": [
    "knn_cla_yhat[:3]"
   ]
  },
  {
   "cell_type": "markdown",
   "id": "bf73ab2e",
   "metadata": {
    "hidden": true
   },
   "source": [
    "A métrica utilizada para medir a performance do modelo será a acurácia média.\n",
    "\n",
    "Varia entre 0 e 100%, e mede quantas predições o modelo acertou, dentre todas as previsões realizadas.\n",
    "\n",
    "Busca-se portanto, o valor mais próximo de 100% possível, ou seja, a previsão de potencial mais próxima da realidade possível."
   ]
  },
  {
   "cell_type": "code",
   "execution_count": 121,
   "id": "8d004911",
   "metadata": {
    "ExecuteTime": {
     "end_time": "2023-02-09T23:04:22.681084Z",
     "start_time": "2023-02-09T23:04:22.666456Z"
    },
    "hidden": true
   },
   "outputs": [
    {
     "name": "stdout",
     "output_type": "stream",
     "text": [
      "Acurácia com dados de Validação: 0.5714\n"
     ]
    }
   ],
   "source": [
    "print(\"Acurácia com dados de Validação: {:.4f}\".format(knn_cla.score(X2_val, y2_val)))"
   ]
  },
  {
   "cell_type": "markdown",
   "id": "572699cf",
   "metadata": {
    "hidden": true
   },
   "source": [
    "Pode-se calcular também a acurácia média a partir da predição do modelo, através do pacote \"metrics\" do scikit-sklearn."
   ]
  },
  {
   "cell_type": "code",
   "execution_count": 122,
   "id": "aee7d0f2",
   "metadata": {
    "ExecuteTime": {
     "end_time": "2023-02-09T23:04:24.402014Z",
     "start_time": "2023-02-09T23:04:24.393545Z"
    },
    "hidden": true
   },
   "outputs": [
    {
     "name": "stdout",
     "output_type": "stream",
     "text": [
      "Acurácia com dados de Validação: 0.5714\n"
     ]
    }
   ],
   "source": [
    "print(f\"Acurácia com dados de Validação: {round(accuracy_score(y2_val, knn_cla_yhat),4)}\")"
   ]
  },
  {
   "cell_type": "markdown",
   "id": "241b19cf",
   "metadata": {
    "hidden": true
   },
   "source": [
    "A acurácia do KNN foi satisfatória neste primeiro ciclo. Possivlmente a métrica pode ser melhorada, por meio de:\n",
    "- Reescala de dados.\n",
    "- Seleção de features, removendo as não informativas e aquelas não relacionadas ao público alvo.\n",
    "- Seleção de diferentes valores para K, bem como tunagem de hiperparâmetros no modelo.\n",
    "- Avaliação da presença de outliers, que podem distorcer os cálculos de distâncias.\n",
    "\n",
    "Nos próximos ciclos, estes temas serão tratados, e novos algoritmos com diferentes abordagens também serão implementados.\n",
    "\n",
    "No último ciclo, será avaliada a capacidade de generalização do modelo final (de melhor performance), realizando a previsão com os dados de teste."
   ]
  },
  {
   "cell_type": "markdown",
   "id": "f2cfa662",
   "metadata": {
    "heading_collapsed": true
   },
   "source": [
    "# Análise 3 - Segmentação por perfil de renda e idade em SP"
   ]
  },
  {
   "cell_type": "markdown",
   "id": "26df1475",
   "metadata": {
    "hidden": true
   },
   "source": [
    "Análise 3 - Segmentar os bairros de São Paulo de acordo com o perfil de renda e idade, identificando os com maior aderência ao público alvo."
   ]
  },
  {
   "cell_type": "markdown",
   "id": "199d99e0",
   "metadata": {
    "hidden": true
   },
   "source": [
    "Trata-se portanto de um problema de clusterização (não supervisionado). \n",
    "\n",
    "Nesta tarefa, não há divisão do dataset, sendo passados todos os dados ao modelo, que encontra grupos (clusters) a partir deles.\n",
    "\n",
    "Diferentemente das análises anteriores, aqui será utilizado o dataset df_sp, a fim de realizar a segmentação destes bairros.\n",
    "\n",
    "Diferentes modelos serão utilizados, sendo neste primeiro ciclo escolhido o K-Means, disponível na biblioteca scikit-learn."
   ]
  },
  {
   "cell_type": "markdown",
   "id": "0b97e80d",
   "metadata": {
    "heading_collapsed": true,
    "hidden": true
   },
   "source": [
    "## K-Means"
   ]
  },
  {
   "cell_type": "markdown",
   "id": "fdca484b",
   "metadata": {
    "hidden": true
   },
   "source": [
    "O K-Means (K-médias) possui este nome, porque utiliza centróides, que são o ponto central (médio) do cluster.\n",
    "\n",
    "Funcionamento: \n",
    "- A partir do número de K informado, o K-means criará k centroides aleatoriamente no espaço de dados, que serão os grupos. \n",
    "- Serão então calculadas as distâncias de todos os pontos em relação a cada um dos centroides.\n",
    "- Cada ponto assumirá o rótulo do centroide mais próximo a ele, passando a pertencer a aquele grupo.\n",
    "- Ao fim do processo, reposiciona-se o centróide no centro do cluster, recalcula-se as distênaicas e atribuição dos pontos aos grupos.\n",
    "- Quando o centroide convergir e os pontos pararem de ser atribuídos a outro cluster, o agrupamento está concluído.\n",
    "\n",
    "Características:\n",
    "- O número de K (grupos) é uma parâmetro.\n",
    "- Serão gerados sempre clusters convexos, pelo fato de utilizar o raio para calcular as distâncias.\n",
    "- Assume sempre que os cluster possuem o mesmo diâmetro.\n",
    "- Como a inicialização dos centróides é aleatória, pode formar grupos distintos conforme a sua posição inicial. Isto pode ser atenuado pelo parâmetro \"n_init\", que define o número de inicializações aleatórias, e retorna o melhor resultado.\n",
    "- Necessita que os dados estejam na mesma escala (ou muito próxima), evitando a distorção dos cálculos de distâncias.\n",
    "- É sensível a outliers, demandando remoção ou tratativa destes.\n",
    "\n"
   ]
  },
  {
   "cell_type": "markdown",
   "id": "9652ed08",
   "metadata": {
    "hidden": true
   },
   "source": [
    "Clusterizar apenas perfil de renda e idade do público alvo da empresa."
   ]
  },
  {
   "cell_type": "code",
   "execution_count": 521,
   "id": "62fc7785",
   "metadata": {
    "ExecuteTime": {
     "end_time": "2023-02-09T20:48:06.557928Z",
     "start_time": "2023-02-09T20:48:06.532005Z"
    },
    "hidden": true
   },
   "outputs": [
    {
     "data": {
      "text/html": [
       "<div>\n",
       "<style scoped>\n",
       "    .dataframe tbody tr th:only-of-type {\n",
       "        vertical-align: middle;\n",
       "    }\n",
       "\n",
       "    .dataframe tbody tr th {\n",
       "        vertical-align: top;\n",
       "    }\n",
       "\n",
       "    .dataframe thead th {\n",
       "        text-align: right;\n",
       "    }\n",
       "</style>\n",
       "<table border=\"1\" class=\"dataframe\">\n",
       "  <thead>\n",
       "    <tr style=\"text-align: right;\">\n",
       "      <th></th>\n",
       "      <th>codigo</th>\n",
       "      <th>nome</th>\n",
       "      <th>cidade</th>\n",
       "      <th>estado</th>\n",
       "      <th>populacao</th>\n",
       "      <th>pop_ate9</th>\n",
       "      <th>pop_de10a14</th>\n",
       "      <th>pop_de15a19</th>\n",
       "      <th>pop_de20a24</th>\n",
       "      <th>pop_de25a34</th>\n",
       "      <th>pop_de35a49</th>\n",
       "      <th>pop_de50a59</th>\n",
       "      <th>pop_mais_de60</th>\n",
       "      <th>domicilios_a1</th>\n",
       "      <th>domicilios_a2</th>\n",
       "      <th>domicilios_b1</th>\n",
       "      <th>domicilios_b2</th>\n",
       "      <th>domicilios_c1</th>\n",
       "      <th>domicilios_c2</th>\n",
       "      <th>domicilios_d</th>\n",
       "      <th>domicilios_e</th>\n",
       "      <th>renda_media</th>\n",
       "      <th>faturamento</th>\n",
       "      <th>potencial</th>\n",
       "    </tr>\n",
       "  </thead>\n",
       "  <tbody>\n",
       "    <tr>\n",
       "      <th>160</th>\n",
       "      <td>355030251</td>\n",
       "      <td>A. E. Carvalho</td>\n",
       "      <td>São Paulo</td>\n",
       "      <td>SP</td>\n",
       "      <td>94034</td>\n",
       "      <td>12668</td>\n",
       "      <td>6853</td>\n",
       "      <td>9836</td>\n",
       "      <td>7487</td>\n",
       "      <td>14535</td>\n",
       "      <td>21549</td>\n",
       "      <td>10598</td>\n",
       "      <td>10508</td>\n",
       "      <td>0</td>\n",
       "      <td>253</td>\n",
       "      <td>2197</td>\n",
       "      <td>4368</td>\n",
       "      <td>6681</td>\n",
       "      <td>7011</td>\n",
       "      <td>2247</td>\n",
       "      <td>5670</td>\n",
       "      <td>1501</td>\n",
       "      <td>NaN</td>\n",
       "      <td>NaN</td>\n",
       "    </tr>\n",
       "    <tr>\n",
       "      <th>161</th>\n",
       "      <td>35503020</td>\n",
       "      <td>Aclimação</td>\n",
       "      <td>São Paulo</td>\n",
       "      <td>SP</td>\n",
       "      <td>32791</td>\n",
       "      <td>2297</td>\n",
       "      <td>1017</td>\n",
       "      <td>2096</td>\n",
       "      <td>2197</td>\n",
       "      <td>5341</td>\n",
       "      <td>7281</td>\n",
       "      <td>4917</td>\n",
       "      <td>7645</td>\n",
       "      <td>1413</td>\n",
       "      <td>1734</td>\n",
       "      <td>3704</td>\n",
       "      <td>2351</td>\n",
       "      <td>1946</td>\n",
       "      <td>827</td>\n",
       "      <td>291</td>\n",
       "      <td>1617</td>\n",
       "      <td>5920</td>\n",
       "      <td>NaN</td>\n",
       "      <td>NaN</td>\n",
       "    </tr>\n",
       "  </tbody>\n",
       "</table>\n",
       "</div>"
      ],
      "text/plain": [
       "        codigo            nome     cidade estado  populacao  pop_ate9  pop_de10a14  pop_de15a19  pop_de20a24  pop_de25a34  pop_de35a49  pop_de50a59  pop_mais_de60  domicilios_a1  domicilios_a2  domicilios_b1  domicilios_b2  domicilios_c1  domicilios_c2  domicilios_d  domicilios_e renda_media  faturamento potencial\n",
       "160  355030251  A. E. Carvalho  São Paulo     SP      94034     12668         6853         9836         7487        14535        21549        10598          10508              0            253           2197           4368           6681           7011          2247          5670        1501          NaN       NaN\n",
       "161   35503020       Aclimação  São Paulo     SP      32791      2297         1017         2096         2197         5341         7281         4917           7645           1413           1734           3704           2351           1946            827           291          1617        5920          NaN       NaN"
      ]
     },
     "execution_count": 521,
     "metadata": {},
     "output_type": "execute_result"
    }
   ],
   "source": [
    "df_sp.head(2)"
   ]
  },
  {
   "cell_type": "code",
   "execution_count": 524,
   "id": "44d4f661",
   "metadata": {
    "ExecuteTime": {
     "end_time": "2023-02-09T20:48:49.008515Z",
     "start_time": "2023-02-09T20:48:48.989058Z"
    },
    "hidden": true
   },
   "outputs": [
    {
     "name": "stdout",
     "output_type": "stream",
     "text": [
      "(296, 6)\n"
     ]
    },
    {
     "data": {
      "text/html": [
       "<div>\n",
       "<style scoped>\n",
       "    .dataframe tbody tr th:only-of-type {\n",
       "        vertical-align: middle;\n",
       "    }\n",
       "\n",
       "    .dataframe tbody tr th {\n",
       "        vertical-align: top;\n",
       "    }\n",
       "\n",
       "    .dataframe thead th {\n",
       "        text-align: right;\n",
       "    }\n",
       "</style>\n",
       "<table border=\"1\" class=\"dataframe\">\n",
       "  <thead>\n",
       "    <tr style=\"text-align: right;\">\n",
       "      <th></th>\n",
       "      <th>pop_de25a34</th>\n",
       "      <th>pop_de35a49</th>\n",
       "      <th>domicilios_a1</th>\n",
       "      <th>domicilios_a2</th>\n",
       "      <th>domicilios_b2</th>\n",
       "      <th>domicilios_b2</th>\n",
       "    </tr>\n",
       "  </thead>\n",
       "  <tbody>\n",
       "    <tr>\n",
       "      <th>160</th>\n",
       "      <td>14535</td>\n",
       "      <td>21549</td>\n",
       "      <td>0</td>\n",
       "      <td>253</td>\n",
       "      <td>4368</td>\n",
       "      <td>4368</td>\n",
       "    </tr>\n",
       "    <tr>\n",
       "      <th>161</th>\n",
       "      <td>5341</td>\n",
       "      <td>7281</td>\n",
       "      <td>1413</td>\n",
       "      <td>1734</td>\n",
       "      <td>2351</td>\n",
       "      <td>2351</td>\n",
       "    </tr>\n",
       "    <tr>\n",
       "      <th>162</th>\n",
       "      <td>17749</td>\n",
       "      <td>23364</td>\n",
       "      <td>0</td>\n",
       "      <td>0</td>\n",
       "      <td>4875</td>\n",
       "      <td>4875</td>\n",
       "    </tr>\n",
       "  </tbody>\n",
       "</table>\n",
       "</div>"
      ],
      "text/plain": [
       "     pop_de25a34  pop_de35a49  domicilios_a1  domicilios_a2  domicilios_b2  domicilios_b2\n",
       "160        14535        21549              0            253           4368           4368\n",
       "161         5341         7281           1413           1734           2351           2351\n",
       "162        17749        23364              0              0           4875           4875"
      ]
     },
     "execution_count": 524,
     "metadata": {},
     "output_type": "execute_result"
    }
   ],
   "source": [
    "df_seg = df_sp[[\"pop_de25a34\",\"pop_de35a49\",\"domicilios_a1\",\"domicilios_a2\",\"domicilios_b2\",\"domicilios_b2\"]]\n",
    "print(df_seg.shape)\n",
    "df_seg.head(3)"
   ]
  },
  {
   "cell_type": "markdown",
   "id": "d1d547db",
   "metadata": {
    "hidden": true
   },
   "source": [
    "Instanciar o KMeans, treinar o modelo, e avaliar sua performance com a biblioteca yellowbrick.\n",
    "\n",
    "Serão avaliados cenários de 3 a 6 grupos, pelo entendimento que isto otimiza os esforços do time de negócio em suas ações de marketing direcionado."
   ]
  },
  {
   "cell_type": "code",
   "execution_count": 525,
   "id": "cb5bb402",
   "metadata": {
    "ExecuteTime": {
     "end_time": "2023-02-09T20:48:56.329999Z",
     "start_time": "2023-02-09T20:48:56.323785Z"
    },
    "hidden": true
   },
   "outputs": [],
   "source": [
    "clusters = [3, 4, 5, 6]"
   ]
  },
  {
   "cell_type": "code",
   "execution_count": 526,
   "id": "e88bfa0b",
   "metadata": {
    "ExecuteTime": {
     "end_time": "2023-02-09T20:48:59.074223Z",
     "start_time": "2023-02-09T20:48:58.291098Z"
    },
    "hidden": true
   },
   "outputs": [
    {
     "data": {
      "image/png": "[encoded data removed]",
      "text/plain": [
       "<Figure size 800x550 with 1 Axes>"
      ]
     },
     "metadata": {},
     "output_type": "display_data"
    }
   ],
   "source": [
    "kmeans_viz = KElbowVisualizer(KMeans(n_init=10, random_state=0), k=clusters, metric='silhouette', timings=False );\n",
    "kmeans_viz.fit(df_seg);\n",
    "kmeans_viz.show();"
   ]
  },
  {
   "cell_type": "markdown",
   "id": "06b3efed",
   "metadata": {
    "hidden": true
   },
   "source": [
    "A avaliação dos modelos será dada pela métrica Silhouette Score (SS), que pode ser utilizada para avaliar diferentes clusterizadores.\n",
    "\n",
    "A Silhueta (S) é a distância média do ponto em relação aos demais (do mesmo cluster, e de fora dele). A silhuette score é a média de todas as silhuetas de todos os pontos.\n",
    "\n",
    "A SS mede portanto as duas propriedades que definem uma boa clusterização: \n",
    "- A compactação dos clusters (compactness): a distância entre os pontos do mesmo cluster deve ser a menor possível.\n",
    "- A separação entre os clusters (separation): a distância entre os pontos de clusters diferentes deve ser a maior possível.\n",
    "\n",
    "Dado que a SS varia entre 0 e 1, quando mais próximo de 1, melhor pode ser considerada a clusterização, considerando as propriedades acima."
   ]
  },
  {
   "cell_type": "markdown",
   "id": "6cb6d5d8",
   "metadata": {
    "hidden": true
   },
   "source": [
    "A SS do K-Means com k=3 foi levemente superior neste primeiro ciclo. Todavia, pode ser interessante gerar um número maior de grupos de perfil de renda e idade ao time de marketing.\n",
    "\n",
    "Considerando 4 grupos, foi obtida uma SS maior que 0.5 neste primeiro ciclo, o que é aceitável. Possivlmente a métrica pode ser melhorada, por meio de:\n",
    "- Reescala de dados.\n",
    "- Avaliação da presença de outliers, que podem distorcer os cálculos de distâncias.\n",
    "- Tunagem de hiperparâmetros no modelo.\n",
    "- Feature engeneering a partir 6 features de perfil de renda e idade do público alvo, buscando melhorar o espaço de dados. \n",
    "- Novos algoritmos com diferentes abordagens de clusterização.\n",
    "\n",
    "Vamos abaixo treinar um K-Means com k=4 para avançar neste ciclo, e no próximos, os tópicos acima serão abordados. \n",
    "\n"
   ]
  },
  {
   "cell_type": "code",
   "execution_count": 533,
   "id": "c14c7876",
   "metadata": {
    "ExecuteTime": {
     "end_time": "2023-02-09T20:50:33.555324Z",
     "start_time": "2023-02-09T20:50:33.458278Z"
    },
    "hidden": true
   },
   "outputs": [
    {
     "data": {
      "text/html": [
       "<style>#sk-container-id-6 {color: black;background-color: white;}#sk-container-id-6 pre{padding: 0;}#sk-container-id-6 div.sk-toggleable {background-color: white;}#sk-container-id-6 label.sk-toggleable__label {cursor: pointer;display: block;width: 100%;margin-bottom: 0;padding: 0.3em;box-sizing: border-box;text-align: center;}#sk-container-id-6 label.sk-toggleable__label-arrow:before {content: \"▸\";float: left;margin-right: 0.25em;color: #696969;}#sk-container-id-6 label.sk-toggleable__label-arrow:hover:before {color: black;}#sk-container-id-6 div.sk-estimator:hover label.sk-toggleable__label-arrow:before {color: black;}#sk-container-id-6 div.sk-toggleable__content {max-height: 0;max-width: 0;overflow: hidden;text-align: left;background-color: #f0f8ff;}#sk-container-id-6 div.sk-toggleable__content pre {margin: 0.2em;color: black;border-radius: 0.25em;background-color: #f0f8ff;}#sk-container-id-6 input.sk-toggleable__control:checked~div.sk-toggleable__content {max-height: 200px;max-width: 100%;overflow: auto;}#sk-container-id-6 input.sk-toggleable__control:checked~label.sk-toggleable__label-arrow:before {content: \"▾\";}#sk-container-id-6 div.sk-estimator input.sk-toggleable__control:checked~label.sk-toggleable__label {background-color: #d4ebff;}#sk-container-id-6 div.sk-label input.sk-toggleable__control:checked~label.sk-toggleable__label {background-color: #d4ebff;}#sk-container-id-6 input.sk-hidden--visually {border: 0;clip: rect(1px 1px 1px 1px);clip: rect(1px, 1px, 1px, 1px);height: 1px;margin: -1px;overflow: hidden;padding: 0;position: absolute;width: 1px;}#sk-container-id-6 div.sk-estimator {font-family: monospace;background-color: #f0f8ff;border: 1px dotted black;border-radius: 0.25em;box-sizing: border-box;margin-bottom: 0.5em;}#sk-container-id-6 div.sk-estimator:hover {background-color: #d4ebff;}#sk-container-id-6 div.sk-parallel-item::after {content: \"\";width: 100%;border-bottom: 1px solid gray;flex-grow: 1;}#sk-container-id-6 div.sk-label:hover label.sk-toggleable__label {background-color: #d4ebff;}#sk-container-id-6 div.sk-serial::before {content: \"\";position: absolute;border-left: 1px solid gray;box-sizing: border-box;top: 0;bottom: 0;left: 50%;z-index: 0;}#sk-container-id-6 div.sk-serial {display: flex;flex-direction: column;align-items: center;background-color: white;padding-right: 0.2em;padding-left: 0.2em;position: relative;}#sk-container-id-6 div.sk-item {position: relative;z-index: 1;}#sk-container-id-6 div.sk-parallel {display: flex;align-items: stretch;justify-content: center;background-color: white;position: relative;}#sk-container-id-6 div.sk-item::before, #sk-container-id-6 div.sk-parallel-item::before {content: \"\";position: absolute;border-left: 1px solid gray;box-sizing: border-box;top: 0;bottom: 0;left: 50%;z-index: -1;}#sk-container-id-6 div.sk-parallel-item {display: flex;flex-direction: column;z-index: 1;position: relative;background-color: white;}#sk-container-id-6 div.sk-parallel-item:first-child::after {align-self: flex-end;width: 50%;}#sk-container-id-6 div.sk-parallel-item:last-child::after {align-self: flex-start;width: 50%;}#sk-container-id-6 div.sk-parallel-item:only-child::after {width: 0;}#sk-container-id-6 div.sk-dashed-wrapped {border: 1px dashed gray;margin: 0 0.4em 0.5em 0.4em;box-sizing: border-box;padding-bottom: 0.4em;background-color: white;}#sk-container-id-6 div.sk-label label {font-family: monospace;font-weight: bold;display: inline-block;line-height: 1.2em;}#sk-container-id-6 div.sk-label-container {text-align: center;}#sk-container-id-6 div.sk-container {/* jupyter's `normalize.less` sets `[hidden] { display: none; }` but bootstrap.min.css set `[hidden] { display: none !important; }` so we also need the `!important` here to be able to override the default hidden behavior on the sphinx rendered scikit-learn.org. See: https://github.com/scikit-learn/scikit-learn/issues/21755 */display: inline-block !important;position: relative;}#sk-container-id-6 div.sk-text-repr-fallback {display: none;}</style><div id=\"sk-container-id-6\" class=\"sk-top-container\"><div class=\"sk-text-repr-fallback\"><pre>KMeans(n_clusters=4, n_init=10, random_state=0)</pre><b>In a Jupyter environment, please rerun this cell to show the HTML representation or trust the notebook. <br />On GitHub, the HTML representation is unable to render, please try loading this page with nbviewer.org.</b></div><div class=\"sk-container\" hidden><div class=\"sk-item\"><div class=\"sk-estimator sk-toggleable\"><input class=\"sk-toggleable__control sk-hidden--visually\" id=\"sk-estimator-id-6\" type=\"checkbox\" checked><label for=\"sk-estimator-id-6\" class=\"sk-toggleable__label sk-toggleable__label-arrow\">KMeans</label><div class=\"sk-toggleable__content\"><pre>KMeans(n_clusters=4, n_init=10, random_state=0)</pre></div></div></div></div></div>"
      ],
      "text/plain": [
       "KMeans(n_clusters=4, n_init=10, random_state=0)"
      ]
     },
     "execution_count": 533,
     "metadata": {},
     "output_type": "execute_result"
    }
   ],
   "source": [
    "kmeans = KMeans( n_clusters=4, #número de clusters\n",
    "                  n_init=10, #número de vezes que o k-means irá com diferentes centroid seeds\n",
    "                 random_state=0) #seed, para gerar a mesma inicialização aleatória\n",
    "kmeans.fit(df_seg)"
   ]
  },
  {
   "cell_type": "markdown",
   "id": "840061ed",
   "metadata": {
    "hidden": true
   },
   "source": [
    "Obtendo os grupos no qual cada bairro foi separado."
   ]
  },
  {
   "cell_type": "code",
   "execution_count": 534,
   "id": "cef6972d",
   "metadata": {
    "ExecuteTime": {
     "end_time": "2023-02-09T20:50:33.845998Z",
     "start_time": "2023-02-09T20:50:33.837550Z"
    },
    "hidden": true
   },
   "outputs": [
    {
     "data": {
      "text/plain": [
       "array([3, 0, 3, 2, 0], dtype=int32)"
      ]
     },
     "execution_count": 534,
     "metadata": {},
     "output_type": "execute_result"
    }
   ],
   "source": [
    "labels_kmeans = kmeans.labels_\n",
    "labels_kmeans[:5]"
   ]
  },
  {
   "cell_type": "code",
   "execution_count": 535,
   "id": "6f833119",
   "metadata": {
    "ExecuteTime": {
     "end_time": "2023-02-09T20:50:34.777160Z",
     "start_time": "2023-02-09T20:50:34.761872Z"
    },
    "hidden": true,
    "scrolled": true
   },
   "outputs": [
    {
     "name": "stdout",
     "output_type": "stream",
     "text": [
      "Silhouette Score com k=4: 0.52\n"
     ]
    }
   ],
   "source": [
    "#this method of k-means (sklearn) returns the SS\n",
    "print(f\"Silhouette Score com k=4: {round(silhouette_score(df_seg, labels_kmeans, metric='euclidean'),2)}\") "
   ]
  },
  {
   "cell_type": "markdown",
   "id": "5c009a49",
   "metadata": {
    "heading_collapsed": true,
    "hidden": true
   },
   "source": [
    "## K-Means - Análise dos Clusters"
   ]
  },
  {
   "cell_type": "markdown",
   "id": "ec8c3356",
   "metadata": {
    "hidden": true
   },
   "source": [
    "Criar um dataset contendo o grupo de cada bairro pertence. "
   ]
  },
  {
   "cell_type": "code",
   "execution_count": 537,
   "id": "8f417700",
   "metadata": {
    "ExecuteTime": {
     "end_time": "2023-02-09T20:51:31.647908Z",
     "start_time": "2023-02-09T20:51:31.639518Z"
    },
    "hidden": true
   },
   "outputs": [
    {
     "data": {
      "text/plain": [
       "Index(['pop_de25a34', 'pop_de35a49', 'domicilios_a1', 'domicilios_a2',\n",
       "       'domicilios_b2', 'domicilios_b2'],\n",
       "      dtype='object')"
      ]
     },
     "execution_count": 537,
     "metadata": {},
     "output_type": "execute_result"
    }
   ],
   "source": [
    "df_seg.columns"
   ]
  },
  {
   "cell_type": "code",
   "execution_count": 539,
   "id": "0bef56ab",
   "metadata": {
    "ExecuteTime": {
     "end_time": "2023-02-09T20:52:04.233196Z",
     "start_time": "2023-02-09T20:52:04.214521Z"
    },
    "hidden": true
   },
   "outputs": [
    {
     "data": {
      "text/html": [
       "<div>\n",
       "<style scoped>\n",
       "    .dataframe tbody tr th:only-of-type {\n",
       "        vertical-align: middle;\n",
       "    }\n",
       "\n",
       "    .dataframe tbody tr th {\n",
       "        vertical-align: top;\n",
       "    }\n",
       "\n",
       "    .dataframe thead th {\n",
       "        text-align: right;\n",
       "    }\n",
       "</style>\n",
       "<table border=\"1\" class=\"dataframe\">\n",
       "  <thead>\n",
       "    <tr style=\"text-align: right;\">\n",
       "      <th></th>\n",
       "      <th>nome</th>\n",
       "      <th>pop_de25a34</th>\n",
       "      <th>pop_de35a49</th>\n",
       "      <th>domicilios_a1</th>\n",
       "      <th>domicilios_a2</th>\n",
       "      <th>domicilios_b1</th>\n",
       "      <th>domicilios_b2</th>\n",
       "      <th>cluster</th>\n",
       "    </tr>\n",
       "  </thead>\n",
       "  <tbody>\n",
       "    <tr>\n",
       "      <th>160</th>\n",
       "      <td>A. E. Carvalho</td>\n",
       "      <td>14535</td>\n",
       "      <td>21549</td>\n",
       "      <td>0</td>\n",
       "      <td>253</td>\n",
       "      <td>2197</td>\n",
       "      <td>4368</td>\n",
       "      <td>3</td>\n",
       "    </tr>\n",
       "    <tr>\n",
       "      <th>161</th>\n",
       "      <td>Aclimação</td>\n",
       "      <td>5341</td>\n",
       "      <td>7281</td>\n",
       "      <td>1413</td>\n",
       "      <td>1734</td>\n",
       "      <td>3704</td>\n",
       "      <td>2351</td>\n",
       "      <td>0</td>\n",
       "    </tr>\n",
       "    <tr>\n",
       "      <th>162</th>\n",
       "      <td>Adventista</td>\n",
       "      <td>17749</td>\n",
       "      <td>23364</td>\n",
       "      <td>0</td>\n",
       "      <td>0</td>\n",
       "      <td>1423</td>\n",
       "      <td>4875</td>\n",
       "      <td>3</td>\n",
       "    </tr>\n",
       "    <tr>\n",
       "      <th>163</th>\n",
       "      <td>Água Branca</td>\n",
       "      <td>2142</td>\n",
       "      <td>2833</td>\n",
       "      <td>624</td>\n",
       "      <td>667</td>\n",
       "      <td>1558</td>\n",
       "      <td>1032</td>\n",
       "      <td>2</td>\n",
       "    </tr>\n",
       "    <tr>\n",
       "      <th>164</th>\n",
       "      <td>Água Funda</td>\n",
       "      <td>7388</td>\n",
       "      <td>10751</td>\n",
       "      <td>0</td>\n",
       "      <td>303</td>\n",
       "      <td>1794</td>\n",
       "      <td>2986</td>\n",
       "      <td>0</td>\n",
       "    </tr>\n",
       "  </tbody>\n",
       "</table>\n",
       "</div>"
      ],
      "text/plain": [
       "               nome  pop_de25a34  pop_de35a49  domicilios_a1  domicilios_a2  domicilios_b1  domicilios_b2  cluster\n",
       "160  A. E. Carvalho        14535        21549              0            253           2197           4368        3\n",
       "161       Aclimação         5341         7281           1413           1734           3704           2351        0\n",
       "162      Adventista        17749        23364              0              0           1423           4875        3\n",
       "163     Água Branca         2142         2833            624            667           1558           1032        2\n",
       "164      Água Funda         7388        10751              0            303           1794           2986        0"
      ]
     },
     "execution_count": 539,
     "metadata": {},
     "output_type": "execute_result"
    }
   ],
   "source": [
    "df_kmeans = df_sp.copy()\n",
    "df_kmeans = df_kmeans[['nome', 'pop_de25a34', 'pop_de35a49', 'domicilios_a1', 'domicilios_a2', 'domicilios_b1', 'domicilios_b2']]\n",
    "df_kmeans['cluster'] = labels_kmeans\n",
    "df_kmeans.head(5)"
   ]
  },
  {
   "cell_type": "markdown",
   "id": "1ce7071b",
   "metadata": {
    "hidden": true
   },
   "source": [
    "Avaliar a quantidade e percentual de bairros por cluster."
   ]
  },
  {
   "cell_type": "code",
   "execution_count": 540,
   "id": "193b2c46",
   "metadata": {
    "ExecuteTime": {
     "end_time": "2023-02-09T20:52:13.548453Z",
     "start_time": "2023-02-09T20:52:13.528543Z"
    },
    "hidden": true
   },
   "outputs": [
    {
     "data": {
      "text/html": [
       "<div>\n",
       "<style scoped>\n",
       "    .dataframe tbody tr th:only-of-type {\n",
       "        vertical-align: middle;\n",
       "    }\n",
       "\n",
       "    .dataframe tbody tr th {\n",
       "        vertical-align: top;\n",
       "    }\n",
       "\n",
       "    .dataframe thead th {\n",
       "        text-align: right;\n",
       "    }\n",
       "</style>\n",
       "<table border=\"1\" class=\"dataframe\">\n",
       "  <thead>\n",
       "    <tr style=\"text-align: right;\">\n",
       "      <th></th>\n",
       "      <th>cluster</th>\n",
       "      <th>nome</th>\n",
       "      <th>perc_bairros</th>\n",
       "    </tr>\n",
       "  </thead>\n",
       "  <tbody>\n",
       "    <tr>\n",
       "      <th>0</th>\n",
       "      <td>0</td>\n",
       "      <td>104</td>\n",
       "      <td>35.135135</td>\n",
       "    </tr>\n",
       "    <tr>\n",
       "      <th>1</th>\n",
       "      <td>1</td>\n",
       "      <td>12</td>\n",
       "      <td>4.054054</td>\n",
       "    </tr>\n",
       "    <tr>\n",
       "      <th>2</th>\n",
       "      <td>2</td>\n",
       "      <td>132</td>\n",
       "      <td>44.594595</td>\n",
       "    </tr>\n",
       "    <tr>\n",
       "      <th>3</th>\n",
       "      <td>3</td>\n",
       "      <td>48</td>\n",
       "      <td>16.216216</td>\n",
       "    </tr>\n",
       "  </tbody>\n",
       "</table>\n",
       "</div>"
      ],
      "text/plain": [
       "   cluster  nome  perc_bairros\n",
       "0        0   104     35.135135\n",
       "1        1    12      4.054054\n",
       "2        2   132     44.594595\n",
       "3        3    48     16.216216"
      ]
     },
     "execution_count": 540,
     "metadata": {},
     "output_type": "execute_result"
    }
   ],
   "source": [
    "df_kmeans_prof = df_kmeans[['nome', 'cluster']].groupby('cluster').count().reset_index()\n",
    "df_kmeans_prof['perc_bairros'] = df_kmeans_prof['nome'] / df_kmeans_prof['nome'].sum()*100\n",
    "df_kmeans_prof"
   ]
  },
  {
   "cell_type": "markdown",
   "id": "ce1feea5",
   "metadata": {
    "hidden": true
   },
   "source": [
    "Apenas 2 clusters contém aproximadamente 95% dos bairros.\n",
    "\n",
    "Na sequência, serão calculadas as médias dos features, para representar o centroide dos grupos. \n",
    "\n",
    "Desta forma, será possível compreender o perfil de renda e idade dos bairros. "
   ]
  },
  {
   "cell_type": "code",
   "execution_count": 541,
   "id": "62d13b35",
   "metadata": {
    "ExecuteTime": {
     "end_time": "2023-02-09T20:52:16.979181Z",
     "start_time": "2023-02-09T20:52:16.904634Z"
    },
    "hidden": true
   },
   "outputs": [
    {
     "data": {
      "text/html": [
       "<div>\n",
       "<style scoped>\n",
       "    .dataframe tbody tr th:only-of-type {\n",
       "        vertical-align: middle;\n",
       "    }\n",
       "\n",
       "    .dataframe tbody tr th {\n",
       "        vertical-align: top;\n",
       "    }\n",
       "\n",
       "    .dataframe thead th {\n",
       "        text-align: right;\n",
       "    }\n",
       "</style>\n",
       "<table border=\"1\" class=\"dataframe\">\n",
       "  <thead>\n",
       "    <tr style=\"text-align: right;\">\n",
       "      <th></th>\n",
       "      <th>cluster</th>\n",
       "      <th>nome</th>\n",
       "      <th>perc_bairros</th>\n",
       "      <th>pop_de25a34</th>\n",
       "      <th>pop_de35a49</th>\n",
       "      <th>domicilios_a1</th>\n",
       "      <th>domicilios_a2</th>\n",
       "      <th>domicilios_b1</th>\n",
       "      <th>domicilios_b2</th>\n",
       "    </tr>\n",
       "  </thead>\n",
       "  <tbody>\n",
       "    <tr>\n",
       "      <th>0</th>\n",
       "      <td>0</td>\n",
       "      <td>104</td>\n",
       "      <td>35.135135</td>\n",
       "      <td>6691.673077</td>\n",
       "      <td>9684.740385</td>\n",
       "      <td>493.375000</td>\n",
       "      <td>774.692308</td>\n",
       "      <td>2583.817308</td>\n",
       "      <td>2662.884615</td>\n",
       "    </tr>\n",
       "    <tr>\n",
       "      <th>1</th>\n",
       "      <td>1</td>\n",
       "      <td>12</td>\n",
       "      <td>4.054054</td>\n",
       "      <td>24031.166667</td>\n",
       "      <td>33197.500000</td>\n",
       "      <td>0.666667</td>\n",
       "      <td>212.583333</td>\n",
       "      <td>2674.250000</td>\n",
       "      <td>6423.166667</td>\n",
       "    </tr>\n",
       "    <tr>\n",
       "      <th>2</th>\n",
       "      <td>2</td>\n",
       "      <td>132</td>\n",
       "      <td>44.594595</td>\n",
       "      <td>2220.810606</td>\n",
       "      <td>3124.060606</td>\n",
       "      <td>525.075758</td>\n",
       "      <td>544.666667</td>\n",
       "      <td>1240.772727</td>\n",
       "      <td>860.787879</td>\n",
       "    </tr>\n",
       "    <tr>\n",
       "      <th>3</th>\n",
       "      <td>3</td>\n",
       "      <td>48</td>\n",
       "      <td>16.216216</td>\n",
       "      <td>13102.791667</td>\n",
       "      <td>18474.812500</td>\n",
       "      <td>45.020833</td>\n",
       "      <td>260.395833</td>\n",
       "      <td>2108.145833</td>\n",
       "      <td>4132.854167</td>\n",
       "    </tr>\n",
       "  </tbody>\n",
       "</table>\n",
       "</div>"
      ],
      "text/plain": [
       "   cluster  nome  perc_bairros   pop_de25a34   pop_de35a49  domicilios_a1  domicilios_a2  domicilios_b1  domicilios_b2\n",
       "0        0   104     35.135135   6691.673077   9684.740385     493.375000     774.692308    2583.817308    2662.884615\n",
       "1        1    12      4.054054  24031.166667  33197.500000       0.666667     212.583333    2674.250000    6423.166667\n",
       "2        2   132     44.594595   2220.810606   3124.060606     525.075758     544.666667    1240.772727     860.787879\n",
       "3        3    48     16.216216  13102.791667  18474.812500      45.020833     260.395833    2108.145833    4132.854167"
      ]
     },
     "execution_count": 541,
     "metadata": {},
     "output_type": "execute_result"
    }
   ],
   "source": [
    "#média da feature pop_de25a34\n",
    "df_avg_pop_de25a34 = df_kmeans[['pop_de25a34','cluster']].groupby('cluster').mean().reset_index()\n",
    "df_kmeans_prof = pd.merge(df_kmeans_prof, df_avg_pop_de25a34, how='inner', on='cluster')\n",
    "\n",
    "#média da feature pop_de35a49\n",
    "df_avg_pop_de35a49 = df_kmeans[['pop_de35a49','cluster']].groupby('cluster').mean().reset_index()\n",
    "df_kmeans_prof = pd.merge(df_kmeans_prof, df_avg_pop_de35a49, how='inner', on='cluster')\n",
    "\n",
    "#média da feature domicilios_a1\n",
    "df_avg_domicilios_a1 = df_kmeans[['domicilios_a1','cluster']].groupby('cluster').mean().reset_index()\n",
    "df_kmeans_prof = pd.merge(df_kmeans_prof, df_avg_domicilios_a1, how='inner', on='cluster')\n",
    "\n",
    "#média da feature domicilios_a1\n",
    "df_avg_domicilios_a2 = df_kmeans[['domicilios_a2','cluster']].groupby('cluster').mean().reset_index()\n",
    "df_kmeans_prof = pd.merge(df_kmeans_prof, df_avg_domicilios_a2, how='inner', on='cluster')\n",
    "\n",
    "#média da feature domicilios_b1\n",
    "df_avg_domicilios_b1 = df_kmeans[['domicilios_b1','cluster']].groupby('cluster').mean().reset_index()\n",
    "df_kmeans_prof = pd.merge(df_kmeans_prof, df_avg_domicilios_b1, how='inner', on='cluster')\n",
    "\n",
    "#média da feature domicilios_b2\n",
    "df_avg_domicilios_b2 = df_kmeans[['domicilios_b2','cluster']].groupby('cluster').mean().reset_index()\n",
    "df_kmeans_prof = pd.merge(df_kmeans_prof, df_avg_domicilios_b2, how='inner', on='cluster')\n",
    "\n",
    "df_kmeans_prof"
   ]
  },
  {
   "cell_type": "markdown",
   "id": "1ab7d59d",
   "metadata": {
    "ExecuteTime": {
     "end_time": "2023-02-09T20:16:22.277744Z",
     "start_time": "2023-02-09T20:16:22.265511Z"
    },
    "hidden": true
   },
   "source": [
    "Gerar relatório de perfil de renda e idade dos bairros."
   ]
  },
  {
   "cell_type": "code",
   "execution_count": 542,
   "id": "bb7bcbf9",
   "metadata": {
    "ExecuteTime": {
     "end_time": "2023-02-09T20:52:26.629291Z",
     "start_time": "2023-02-09T20:52:26.614495Z"
    },
    "hidden": true,
    "scrolled": true
   },
   "outputs": [
    {
     "name": "stdout",
     "output_type": "stream",
     "text": [
      " Cluster 0:\n",
      "    -Número de bairros:     104 (35%) \n",
      "    -População 25-34 anos:  6692 (15%) \n",
      "    -População 35-49 anos:  9685 (15%)\n",
      "    -Domicílios renda A1:   493 (46%)\n",
      "    -Domicílios renda A2:   775 (43%)\n",
      "    -Domicílios renda B1:   2584 (30%)\n",
      "    -Domicílios renda B2:   2663 (19%) \n",
      "\n",
      " Cluster 1:\n",
      "    -Número de bairros:     12 (4%) \n",
      "    -População 25-34 anos:  24031 (52%) \n",
      "    -População 35-49 anos:  33198 (51%)\n",
      "    -Domicílios renda A1:   1 (0%)\n",
      "    -Domicílios renda A2:   213 (12%)\n",
      "    -Domicílios renda B1:   2674 (31%)\n",
      "    -Domicílios renda B2:   6423 (46%) \n",
      "\n",
      " Cluster 2:\n",
      "    -Número de bairros:     132 (45%) \n",
      "    -População 25-34 anos:  2221 (5%) \n",
      "    -População 35-49 anos:  3124 (5%)\n",
      "    -Domicílios renda A1:   525 (49%)\n",
      "    -Domicílios renda A2:   545 (30%)\n",
      "    -Domicílios renda B1:   1241 (14%)\n",
      "    -Domicílios renda B2:   861 (6%) \n",
      "\n",
      " Cluster 3:\n",
      "    -Número de bairros:     48 (16%) \n",
      "    -População 25-34 anos:  13103 (28%) \n",
      "    -População 35-49 anos:  18475 (29%)\n",
      "    -Domicílios renda A1:   45 (4%)\n",
      "    -Domicílios renda A2:   260 (15%)\n",
      "    -Domicílios renda B1:   2108 (24%)\n",
      "    -Domicílios renda B2:   4133 (29%) \n",
      "\n"
     ]
    }
   ],
   "source": [
    "for i in range(len(df_kmeans_prof['nome'])):\n",
    "    print(f\"\"\" Cluster {df_kmeans_prof['cluster'][i]}:\n",
    "    -Número de bairros:     {df_kmeans_prof['nome'][i]} ({round(df_kmeans_prof['perc_bairros'][i])}%) \n",
    "    -População 25-34 anos:  {round(df_kmeans_prof['pop_de25a34'][i])} ({round(df_kmeans_prof.pop_de25a34[i]/df_kmeans_prof.pop_de25a34.sum()*100)}%) \n",
    "    -População 35-49 anos:  {round(df_kmeans_prof['pop_de35a49'][i])} ({round(df_kmeans_prof.pop_de35a49[i]/df_kmeans_prof.pop_de35a49.sum()*100)}%)\n",
    "    -Domicílios renda A1:   {round(df_kmeans_prof['domicilios_a1'][i])} ({round(df_kmeans_prof.domicilios_a1[i]/df_kmeans_prof.domicilios_a1.sum()*100)}%)\n",
    "    -Domicílios renda A2:   {round(df_kmeans_prof['domicilios_a2'][i])} ({round(df_kmeans_prof.domicilios_a2[i]/df_kmeans_prof.domicilios_a2.sum()*100)}%)\n",
    "    -Domicílios renda B1:   {round(df_kmeans_prof['domicilios_b1'][i])} ({round(df_kmeans_prof.domicilios_b1[i]/df_kmeans_prof.domicilios_b1.sum()*100)}%)\n",
    "    -Domicílios renda B2:   {round(df_kmeans_prof['domicilios_b2'][i])} ({round(df_kmeans_prof.domicilios_b2[i]/df_kmeans_prof.domicilios_b2.sum()*100)}%) \\n\"\"\")"
   ]
  },
  {
   "cell_type": "markdown",
   "id": "8094443a",
   "metadata": {
    "hidden": true
   },
   "source": [
    "Através do relatório acima, podem ser identificados 4 grupos de bairros onde o perfil de renda e idade são mais homogêneos dentro do grupo. \n",
    "\n",
    "Referente a indicação dos grupos ou bairros com maior aderência ao público alvo, será feita nova análise no próximo ciclo, utilizando uma variável para população, e outra para renda, para simplificar a interpretação e tomada de decisão do time de negócio. "
   ]
  }
 ],
 "metadata": {
  "kernelspec": {
   "display_name": "Python 3 (ipykernel)",
   "language": "python",
   "name": "python3"
  },
  "language_info": {
   "codemirror_mode": {
    "name": "ipython",
    "version": 3
   },
   "file_extension": ".py",
   "mimetype": "text/x-python",
   "name": "python",
   "nbconvert_exporter": "python",
   "pygments_lexer": "ipython3",
   "version": "3.8.12"
  },
  "toc": {
   "base_numbering": 1,
   "nav_menu": {},
   "number_sections": true,
   "sideBar": true,
   "skip_h1_title": false,
   "title_cell": "Table of Contents",
   "title_sidebar": "Contents",
   "toc_cell": false,
   "toc_position": {},
   "toc_section_display": true,
   "toc_window_display": false
  }
 },
 "nbformat": 4,
 "nbformat_minor": 5
}
