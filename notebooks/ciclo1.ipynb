{
 "cells": [
  {
   "cell_type": "markdown",
   "id": "4a8c2964",
   "metadata": {
    "heading_collapsed": true
   },
   "source": [
    "# Planejamento da Solução"
   ]
  },
  {
   "cell_type": "markdown",
   "id": "af859b9a",
   "metadata": {
    "hidden": true
   },
   "source": [
    "**Qual é o problema de negócio?**\n",
    "\n",
    "- Empresa alimentícia situada no RJ, deseja abrir filiais na cidade de São Paulo. Para isso, precisa de 3 análises:\n",
    "    - 1 - Estimar faturamento que uma loja teria em cada um dos bairros de São Paulo (regressão, neste caso sem séries temporais).\n",
    "    - 2 - Classificar o potencial dos bairros de São Paulo em alto, médio ou baixo (classificação multiclasse).\n",
    "    - 3 - Segmentar os bairros de São Paulo de acordo com o perfil de renda e idade, identificando os com maior aderência ao público alvo.\n",
    "    \n",
    "- Público alvo: adultos de 25 a 50 anos, das classes A (rendas A1 e A2) e B (rendas B1 e B2). \n",
    "\n",
    "**Saída**\n",
    "\n",
    "- Prototipagem técnica da solução: https://docs.google.com/spreadsheets/d/17lxCBRLPEuNCO25BimVFRE3Tms-314WSTpJ1xgEIf38/edit#gid=0\n",
    "\n",
    "- O que será entregue, efetivamente? / Onde o time de negócio quer ver?\n",
    "    - Documento no formato doc, pdf ou ppt, voltado ao negócio, apresentando um racional de como os dados foram analisados. Detalhar com gráficos, tabelas, e descrever conclusões.\n",
    "    - Responder: Dada a natureza do problema apresentado, que outro dado externo (fontes públicas ou privadas) poderia ser utilizado para agregar mais valor ao resultado? Por que?\n",
    "    \n",
    "**Entrada**\n",
    "- Fontes de dados:\n",
    "    - Dataset contendo faturamento e potencial dos bairros do Rio de Janeiro do cliente, bem como dados sociodemográficos do bairros do Rio de Janeiro e São Paulo.\n",
    "\n",
    "- Ferramentas:\n",
    "    - Python 3.8.12, Jupyter Notebook, Git, Github.\n",
    "\n",
    "**Processamento**\n",
    "- Tipo de problema: Análise exploratória, regressão, classificação e clusterização.\n"
   ]
  },
  {
   "cell_type": "markdown",
   "id": "849681d9",
   "metadata": {
    "hidden": true
   },
   "source": [
    "**Estratégia de condução**\n",
    "- Ciclo 1: \n",
    "    - Entendimento do problema de negócio e planejamento da solução, coleta de dados, descrição dos dados, split do dataset entre treino, validação e teste, criação de modelos de machine learning para análises 1, 2 e 3.\n",
    "- Ciclo 2: \n",
    "    - Inclusão de limpeza de dados, EDA (análise exploratória dos dados), modelagem de dados, e retreino dos modelos das análises 1, 2 e 3."
   ]
  },
  {
   "cell_type": "markdown",
   "id": "69ed2cc1",
   "metadata": {
    "heading_collapsed": true
   },
   "source": [
    "# Importações"
   ]
  },
  {
   "cell_type": "markdown",
   "id": "04a13d06",
   "metadata": {
    "heading_collapsed": true,
    "hidden": true
   },
   "source": [
    "## Bibliotecas"
   ]
  },
  {
   "cell_type": "code",
   "execution_count": 233,
   "id": "cf674800",
   "metadata": {
    "ExecuteTime": {
     "end_time": "2023-02-09T01:48:58.684203Z",
     "start_time": "2023-02-09T01:48:58.675916Z"
    },
    "hidden": true
   },
   "outputs": [],
   "source": [
    "import pandas                      as pd \n",
    "import seaborn                     as sns\n",
    "import numpy                       as np\n",
    "from IPython.core.display          import HTML\n",
    "from matplotlib                    import pyplot as plt\n",
    "from tabulate                      import tabulate\n",
    "import inflection\n",
    "#sklearn\n",
    "from sklearn.model_selection       import train_test_split\n",
    "from sklearn.neighbors             import KNeighborsRegressor\n",
    "from sklearn.neighbors             import KNeighborsClassifier"
   ]
  },
  {
   "cell_type": "markdown",
   "id": "d961d959",
   "metadata": {
    "heading_collapsed": true,
    "hidden": true
   },
   "source": [
    "## Funções Auxiliares"
   ]
  },
  {
   "cell_type": "code",
   "execution_count": 3,
   "id": "7fa22030",
   "metadata": {
    "ExecuteTime": {
     "end_time": "2023-02-08T21:07:21.988338Z",
     "start_time": "2023-02-08T21:07:21.940622Z"
    },
    "hidden": true,
    "scrolled": true
   },
   "outputs": [
    {
     "data": {
      "text/html": [
       "<style>.container { width:100% !important; }</style>"
      ],
      "text/plain": [
       "<IPython.core.display.HTML object>"
      ]
     },
     "metadata": {},
     "output_type": "display_data"
    }
   ],
   "source": [
    "def jupyter_settings():\n",
    "    \"\"\" Otimiza configurações gerais, padronizanod tamanhos de plots, etc \"\"\"\n",
    "    %matplotlib inline\n",
    "    plt.style.use( 'bmh' )\n",
    "    plt.rcParams['figure.figsize'] = [25, 12]\n",
    "    plt.rcParams['font.size'] = 24\n",
    "    display( HTML( '<style>.container { width:100% !important; }</style>') )\n",
    "    pd.options.display.max_columns = None\n",
    "    pd.options.display.max_rows = None\n",
    "    pd.set_option( 'display.expand_frame_repr', False )\n",
    "    sns.set()\n",
    "    pd.set_option('display.max_columns', 30)\n",
    "    pd.set_option('display.max_rows', 30)\n",
    "jupyter_settings()"
   ]
  },
  {
   "cell_type": "markdown",
   "id": "2c0fa88b",
   "metadata": {
    "heading_collapsed": true,
    "hidden": true
   },
   "source": [
    "## Coleta de Dados"
   ]
  },
  {
   "cell_type": "markdown",
   "id": "94a0b244",
   "metadata": {
    "hidden": true
   },
   "source": [
    "Carregamento dos dados originais do xlsx."
   ]
  },
  {
   "cell_type": "code",
   "execution_count": 5,
   "id": "d356caf7",
   "metadata": {
    "ExecuteTime": {
     "end_time": "2023-02-08T21:07:27.264805Z",
     "start_time": "2023-02-08T21:07:26.817012Z"
    },
    "hidden": true
   },
   "outputs": [
    {
     "data": {
      "text/html": [
       "<div>\n",
       "<style scoped>\n",
       "    .dataframe tbody tr th:only-of-type {\n",
       "        vertical-align: middle;\n",
       "    }\n",
       "\n",
       "    .dataframe tbody tr th {\n",
       "        vertical-align: top;\n",
       "    }\n",
       "\n",
       "    .dataframe thead th {\n",
       "        text-align: right;\n",
       "    }\n",
       "</style>\n",
       "<table border=\"1\" class=\"dataframe\">\n",
       "  <thead>\n",
       "    <tr style=\"text-align: right;\">\n",
       "      <th></th>\n",
       "      <th>codigo</th>\n",
       "      <th>nome</th>\n",
       "      <th>cidade</th>\n",
       "      <th>estado</th>\n",
       "      <th>população</th>\n",
       "      <th>popAte9</th>\n",
       "      <th>popDe10a14</th>\n",
       "      <th>popDe15a19</th>\n",
       "      <th>popDe20a24</th>\n",
       "      <th>popDe25a34</th>\n",
       "      <th>popDe35a49</th>\n",
       "      <th>popDe50a59</th>\n",
       "      <th>popMaisDe60</th>\n",
       "      <th>domiciliosA1</th>\n",
       "      <th>domiciliosA2</th>\n",
       "      <th>domiciliosB1</th>\n",
       "      <th>domiciliosB2</th>\n",
       "      <th>domiciliosC1</th>\n",
       "      <th>domiciliosC2</th>\n",
       "      <th>domiciliosD</th>\n",
       "      <th>domiciliosE</th>\n",
       "      <th>rendaMedia</th>\n",
       "      <th>faturamento</th>\n",
       "      <th>potencial</th>\n",
       "    </tr>\n",
       "  </thead>\n",
       "  <tbody>\n",
       "    <tr>\n",
       "      <th>0</th>\n",
       "      <td>3304557060</td>\n",
       "      <td>Abolição</td>\n",
       "      <td>Rio de Janeiro</td>\n",
       "      <td>RJ</td>\n",
       "      <td>11676</td>\n",
       "      <td>1027</td>\n",
       "      <td>483</td>\n",
       "      <td>688</td>\n",
       "      <td>800</td>\n",
       "      <td>1675</td>\n",
       "      <td>2300</td>\n",
       "      <td>1784</td>\n",
       "      <td>2919</td>\n",
       "      <td>0</td>\n",
       "      <td>145</td>\n",
       "      <td>715</td>\n",
       "      <td>1242</td>\n",
       "      <td>1093</td>\n",
       "      <td>758</td>\n",
       "      <td>92</td>\n",
       "      <td>304</td>\n",
       "      <td>2501</td>\n",
       "      <td>932515.0</td>\n",
       "      <td>Médio</td>\n",
       "    </tr>\n",
       "    <tr>\n",
       "      <th>1</th>\n",
       "      <td>3304557138</td>\n",
       "      <td>Acari</td>\n",
       "      <td>Rio de Janeiro</td>\n",
       "      <td>RJ</td>\n",
       "      <td>27564</td>\n",
       "      <td>5131</td>\n",
       "      <td>2188</td>\n",
       "      <td>2697</td>\n",
       "      <td>2630</td>\n",
       "      <td>4810</td>\n",
       "      <td>5308</td>\n",
       "      <td>2403</td>\n",
       "      <td>2397</td>\n",
       "      <td>0</td>\n",
       "      <td>0</td>\n",
       "      <td>82</td>\n",
       "      <td>506</td>\n",
       "      <td>2040</td>\n",
       "      <td>2490</td>\n",
       "      <td>827</td>\n",
       "      <td>2506</td>\n",
       "      <td>931</td>\n",
       "      <td>588833.0</td>\n",
       "      <td>Baixo</td>\n",
       "    </tr>\n",
       "    <tr>\n",
       "      <th>2</th>\n",
       "      <td>3304557057</td>\n",
       "      <td>Água Santa</td>\n",
       "      <td>Rio de Janeiro</td>\n",
       "      <td>RJ</td>\n",
       "      <td>9003</td>\n",
       "      <td>883</td>\n",
       "      <td>399</td>\n",
       "      <td>597</td>\n",
       "      <td>762</td>\n",
       "      <td>1755</td>\n",
       "      <td>2076</td>\n",
       "      <td>1112</td>\n",
       "      <td>1419</td>\n",
       "      <td>0</td>\n",
       "      <td>96</td>\n",
       "      <td>404</td>\n",
       "      <td>652</td>\n",
       "      <td>644</td>\n",
       "      <td>522</td>\n",
       "      <td>77</td>\n",
       "      <td>254</td>\n",
       "      <td>2391</td>\n",
       "      <td>874200.0</td>\n",
       "      <td>Baixo</td>\n",
       "    </tr>\n",
       "    <tr>\n",
       "      <th>3</th>\n",
       "      <td>3304557031</td>\n",
       "      <td>Alto Da Boa Vista</td>\n",
       "      <td>Rio de Janeiro</td>\n",
       "      <td>RJ</td>\n",
       "      <td>9606</td>\n",
       "      <td>1072</td>\n",
       "      <td>538</td>\n",
       "      <td>660</td>\n",
       "      <td>685</td>\n",
       "      <td>1317</td>\n",
       "      <td>2007</td>\n",
       "      <td>1341</td>\n",
       "      <td>1986</td>\n",
       "      <td>114</td>\n",
       "      <td>178</td>\n",
       "      <td>393</td>\n",
       "      <td>517</td>\n",
       "      <td>945</td>\n",
       "      <td>584</td>\n",
       "      <td>137</td>\n",
       "      <td>286</td>\n",
       "      <td>3727</td>\n",
       "      <td>912226.0</td>\n",
       "      <td>Médio</td>\n",
       "    </tr>\n",
       "    <tr>\n",
       "      <th>4</th>\n",
       "      <td>3304557125</td>\n",
       "      <td>Anchieta</td>\n",
       "      <td>Rio de Janeiro</td>\n",
       "      <td>RJ</td>\n",
       "      <td>57222</td>\n",
       "      <td>7677</td>\n",
       "      <td>3774</td>\n",
       "      <td>4892</td>\n",
       "      <td>4600</td>\n",
       "      <td>8660</td>\n",
       "      <td>12272</td>\n",
       "      <td>7157</td>\n",
       "      <td>8190</td>\n",
       "      <td>0</td>\n",
       "      <td>0</td>\n",
       "      <td>1089</td>\n",
       "      <td>2821</td>\n",
       "      <td>5110</td>\n",
       "      <td>5422</td>\n",
       "      <td>1073</td>\n",
       "      <td>3261</td>\n",
       "      <td>1380</td>\n",
       "      <td>553020.0</td>\n",
       "      <td>Médio</td>\n",
       "    </tr>\n",
       "    <tr>\n",
       "      <th>...</th>\n",
       "      <td>...</td>\n",
       "      <td>...</td>\n",
       "      <td>...</td>\n",
       "      <td>...</td>\n",
       "      <td>...</td>\n",
       "      <td>...</td>\n",
       "      <td>...</td>\n",
       "      <td>...</td>\n",
       "      <td>...</td>\n",
       "      <td>...</td>\n",
       "      <td>...</td>\n",
       "      <td>...</td>\n",
       "      <td>...</td>\n",
       "      <td>...</td>\n",
       "      <td>...</td>\n",
       "      <td>...</td>\n",
       "      <td>...</td>\n",
       "      <td>...</td>\n",
       "      <td>...</td>\n",
       "      <td>...</td>\n",
       "      <td>...</td>\n",
       "      <td>...</td>\n",
       "      <td>...</td>\n",
       "      <td>...</td>\n",
       "    </tr>\n",
       "    <tr>\n",
       "      <th>451</th>\n",
       "      <td>355030213</td>\n",
       "      <td>Vila Sônia</td>\n",
       "      <td>São Paulo</td>\n",
       "      <td>SP</td>\n",
       "      <td>34061</td>\n",
       "      <td>2908</td>\n",
       "      <td>1462</td>\n",
       "      <td>2253</td>\n",
       "      <td>2076</td>\n",
       "      <td>4579</td>\n",
       "      <td>7557</td>\n",
       "      <td>5227</td>\n",
       "      <td>7999</td>\n",
       "      <td>942</td>\n",
       "      <td>1089</td>\n",
       "      <td>2866</td>\n",
       "      <td>2219</td>\n",
       "      <td>2216</td>\n",
       "      <td>1227</td>\n",
       "      <td>306</td>\n",
       "      <td>1098</td>\n",
       "      <td>5285</td>\n",
       "      <td>NaN</td>\n",
       "      <td>NaN</td>\n",
       "    </tr>\n",
       "    <tr>\n",
       "      <th>452</th>\n",
       "      <td>355030207</td>\n",
       "      <td>Vila Suzana</td>\n",
       "      <td>São Paulo</td>\n",
       "      <td>SP</td>\n",
       "      <td>35403</td>\n",
       "      <td>4127</td>\n",
       "      <td>1890</td>\n",
       "      <td>2678</td>\n",
       "      <td>2433</td>\n",
       "      <td>5855</td>\n",
       "      <td>9107</td>\n",
       "      <td>4608</td>\n",
       "      <td>4705</td>\n",
       "      <td>1726</td>\n",
       "      <td>1522</td>\n",
       "      <td>2458</td>\n",
       "      <td>1186</td>\n",
       "      <td>1166</td>\n",
       "      <td>918</td>\n",
       "      <td>209</td>\n",
       "      <td>3840</td>\n",
       "      <td>7418</td>\n",
       "      <td>NaN</td>\n",
       "      <td>NaN</td>\n",
       "    </tr>\n",
       "    <tr>\n",
       "      <th>453</th>\n",
       "      <td>355030162</td>\n",
       "      <td>Vila Terezinha</td>\n",
       "      <td>São Paulo</td>\n",
       "      <td>SP</td>\n",
       "      <td>122359</td>\n",
       "      <td>18304</td>\n",
       "      <td>9304</td>\n",
       "      <td>13258</td>\n",
       "      <td>9965</td>\n",
       "      <td>19248</td>\n",
       "      <td>26592</td>\n",
       "      <td>12579</td>\n",
       "      <td>13109</td>\n",
       "      <td>0</td>\n",
       "      <td>0</td>\n",
       "      <td>1758</td>\n",
       "      <td>4517</td>\n",
       "      <td>9450</td>\n",
       "      <td>11473</td>\n",
       "      <td>3218</td>\n",
       "      <td>7540</td>\n",
       "      <td>1252</td>\n",
       "      <td>NaN</td>\n",
       "      <td>NaN</td>\n",
       "    </tr>\n",
       "    <tr>\n",
       "      <th>454</th>\n",
       "      <td>355030157</td>\n",
       "      <td>Vila Zatt</td>\n",
       "      <td>São Paulo</td>\n",
       "      <td>SP</td>\n",
       "      <td>125864</td>\n",
       "      <td>14670</td>\n",
       "      <td>7305</td>\n",
       "      <td>11225</td>\n",
       "      <td>9338</td>\n",
       "      <td>18841</td>\n",
       "      <td>28500</td>\n",
       "      <td>16700</td>\n",
       "      <td>19285</td>\n",
       "      <td>8</td>\n",
       "      <td>872</td>\n",
       "      <td>5093</td>\n",
       "      <td>8063</td>\n",
       "      <td>10012</td>\n",
       "      <td>8082</td>\n",
       "      <td>2856</td>\n",
       "      <td>6853</td>\n",
       "      <td>1936</td>\n",
       "      <td>NaN</td>\n",
       "      <td>NaN</td>\n",
       "    </tr>\n",
       "    <tr>\n",
       "      <th>455</th>\n",
       "      <td>355030164</td>\n",
       "      <td>Vista Alegre</td>\n",
       "      <td>São Paulo</td>\n",
       "      <td>SP</td>\n",
       "      <td>106</td>\n",
       "      <td>23</td>\n",
       "      <td>7</td>\n",
       "      <td>15</td>\n",
       "      <td>11</td>\n",
       "      <td>15</td>\n",
       "      <td>26</td>\n",
       "      <td>4</td>\n",
       "      <td>5</td>\n",
       "      <td>0</td>\n",
       "      <td>0</td>\n",
       "      <td>0</td>\n",
       "      <td>6</td>\n",
       "      <td>9</td>\n",
       "      <td>8</td>\n",
       "      <td>2</td>\n",
       "      <td>4</td>\n",
       "      <td>1288</td>\n",
       "      <td>NaN</td>\n",
       "      <td>NaN</td>\n",
       "    </tr>\n",
       "  </tbody>\n",
       "</table>\n",
       "<p>456 rows × 24 columns</p>\n",
       "</div>"
      ],
      "text/plain": [
       "         codigo               nome          cidade estado  população  popAte9  popDe10a14  popDe15a19  popDe20a24  popDe25a34  popDe35a49  popDe50a59  popMaisDe60  domiciliosA1  domiciliosA2  domiciliosB1  domiciliosB2  domiciliosC1  domiciliosC2  domiciliosD  domiciliosE rendaMedia  faturamento potencial\n",
       "0    3304557060           Abolição  Rio de Janeiro     RJ      11676     1027         483         688         800        1675        2300        1784         2919             0           145           715          1242          1093           758           92          304       2501     932515.0     Médio\n",
       "1    3304557138              Acari  Rio de Janeiro     RJ      27564     5131        2188        2697        2630        4810        5308        2403         2397             0             0            82           506          2040          2490          827         2506        931     588833.0     Baixo\n",
       "2    3304557057         Água Santa  Rio de Janeiro     RJ       9003      883         399         597         762        1755        2076        1112         1419             0            96           404           652           644           522           77          254       2391     874200.0     Baixo\n",
       "3    3304557031  Alto Da Boa Vista  Rio de Janeiro     RJ       9606     1072         538         660         685        1317        2007        1341         1986           114           178           393           517           945           584          137          286       3727     912226.0     Médio\n",
       "4    3304557125           Anchieta  Rio de Janeiro     RJ      57222     7677        3774        4892        4600        8660       12272        7157         8190             0             0          1089          2821          5110          5422         1073         3261       1380     553020.0     Médio\n",
       "..          ...                ...             ...    ...        ...      ...         ...         ...         ...         ...         ...         ...          ...           ...           ...           ...           ...           ...           ...          ...          ...        ...          ...       ...\n",
       "451   355030213         Vila Sônia       São Paulo     SP      34061     2908        1462        2253        2076        4579        7557        5227         7999           942          1089          2866          2219          2216          1227          306         1098       5285          NaN       NaN\n",
       "452   355030207        Vila Suzana       São Paulo     SP      35403     4127        1890        2678        2433        5855        9107        4608         4705          1726          1522          2458          1186          1166           918          209         3840       7418          NaN       NaN\n",
       "453   355030162     Vila Terezinha       São Paulo     SP     122359    18304        9304       13258        9965       19248       26592       12579        13109             0             0          1758          4517          9450         11473         3218         7540       1252          NaN       NaN\n",
       "454   355030157          Vila Zatt       São Paulo     SP     125864    14670        7305       11225        9338       18841       28500       16700        19285             8           872          5093          8063         10012          8082         2856         6853       1936          NaN       NaN\n",
       "455   355030164       Vista Alegre       São Paulo     SP        106       23           7          15          11          15          26           4            5             0             0             0             6             9             8            2            4       1288          NaN       NaN\n",
       "\n",
       "[456 rows x 24 columns]"
      ]
     },
     "execution_count": 5,
     "metadata": {},
     "output_type": "execute_result"
    }
   ],
   "source": [
    "df_raw = pd.read_excel(\"../data/data_raw.xlsx\")\n",
    "df_raw"
   ]
  },
  {
   "cell_type": "markdown",
   "id": "47b033b6",
   "metadata": {
    "heading_collapsed": true
   },
   "source": [
    "# Limpeza e Análise Preliminar"
   ]
  },
  {
   "cell_type": "markdown",
   "id": "61252d27",
   "metadata": {
    "heading_collapsed": true,
    "hidden": true
   },
   "source": [
    "## Renomear Colunas"
   ]
  },
  {
   "cell_type": "markdown",
   "id": "8160fbec",
   "metadata": {
    "hidden": true
   },
   "source": [
    "Padroinzar nome das variáveis no formato snake_case, melhorando sua legibilidade."
   ]
  },
  {
   "cell_type": "code",
   "execution_count": 6,
   "id": "46456369",
   "metadata": {
    "ExecuteTime": {
     "end_time": "2023-02-08T21:07:31.199553Z",
     "start_time": "2023-02-08T21:07:31.189051Z"
    },
    "hidden": true
   },
   "outputs": [
    {
     "data": {
      "text/plain": [
       "Index(['codigo', 'nome', 'cidade', 'estado', 'população', 'popAte9',\n",
       "       'popDe10a14', 'popDe15a19', 'popDe20a24', 'popDe25a34', 'popDe35a49',\n",
       "       'popDe50a59', 'popMaisDe60', 'domiciliosA1', 'domiciliosA2',\n",
       "       'domiciliosB1', 'domiciliosB2', 'domiciliosC1', 'domiciliosC2',\n",
       "       'domiciliosD', 'domiciliosE', 'rendaMedia', 'faturamento', 'potencial'],\n",
       "      dtype='object')"
      ]
     },
     "execution_count": 6,
     "metadata": {},
     "output_type": "execute_result"
    }
   ],
   "source": [
    "df_raw.columns"
   ]
  },
  {
   "cell_type": "code",
   "execution_count": 7,
   "id": "2813d340",
   "metadata": {
    "ExecuteTime": {
     "end_time": "2023-02-08T21:07:32.034553Z",
     "start_time": "2023-02-08T21:07:32.020357Z"
    },
    "hidden": true
   },
   "outputs": [
    {
     "data": {
      "text/plain": [
       "Index(['codigo', 'nome', 'cidade', 'estado', 'populacao', 'pop_ate9',\n",
       "       'pop_de10a14', 'pop_de15a19', 'pop_de20a24', 'pop_de25a34',\n",
       "       'pop_de35a49', 'pop_de50a59', 'pop_mais_de60', 'domicilios_a1',\n",
       "       'domicilios_a2', 'domicilios_b1', 'domicilios_b2', 'domicilios_c1',\n",
       "       'domicilios_c2', 'domicilios_d', 'domicilios_e', 'renda_media',\n",
       "       'faturamento', 'potencial'],\n",
       "      dtype='object')"
      ]
     },
     "execution_count": 7,
     "metadata": {},
     "output_type": "execute_result"
    }
   ],
   "source": [
    "cols_old = ['codigo', 'nome', 'cidade', 'estado', 'populacao', 'popAte9',\n",
    "       'popDe10a14', 'popDe15a19', 'popDe20a24', 'popDe25a34', 'popDe35a49',\n",
    "       'popDe50a59', 'popMaisDe60', 'domiciliosA1', 'domiciliosA2',\n",
    "       'domiciliosB1', 'domiciliosB2', 'domiciliosC1', 'domiciliosC2',\n",
    "       'domiciliosD', 'domiciliosE', 'rendaMedia', 'faturamento', 'potencial']\n",
    "snakecase = lambda x: inflection.underscore ( x )\n",
    "cols_new = list( map( snakecase, cols_old ) )\n",
    "df_raw.columns = cols_new\n",
    "df_raw.columns"
   ]
  },
  {
   "cell_type": "markdown",
   "id": "d28dd34d",
   "metadata": {
    "heading_collapsed": true,
    "hidden": true
   },
   "source": [
    "## Dicionário de Dados"
   ]
  },
  {
   "cell_type": "markdown",
   "id": "4042cbbe",
   "metadata": {
    "hidden": true
   },
   "source": [
    "Compreender com clareza o significado de cada variável é fundamental para avançar no projeto."
   ]
  },
  {
   "cell_type": "code",
   "execution_count": 8,
   "id": "ff6a3e86",
   "metadata": {
    "ExecuteTime": {
     "end_time": "2023-02-08T21:07:36.893418Z",
     "start_time": "2023-02-08T21:07:36.875687Z"
    },
    "hidden": true
   },
   "outputs": [
    {
     "name": "stdout",
     "output_type": "stream",
     "text": [
      "Coluna         Significado\n",
      "-------------  ------------------------------------\n",
      "codigo         Código do bairro\n",
      "nome           Nome do bairro\n",
      "cidade         Cidade\n",
      "estado         Estado\n",
      "populacao      População total\n",
      "pop_ate9       População - até 9 anos\n",
      "pop_de10a14    População - de 10 a 14 anos\n",
      "pop_de15a19    População - de 15 a 19 anos\n",
      "pop_de20a24    População - de 20 a 24 anos\n",
      "pop_de25a34    População - de 25 a 34 anos\n",
      "pop_de35a49    População - de 35 a 49 anos\n",
      "pop_de50a59    População - de 50 a 59 anos\n",
      "pop_mais_de60  População - 60 anos ou mais\n",
      "domicilios_a1  Quantidade de Domicílios de Renda A1\n",
      "domicilios_a2  Quantidade de Domicílios de Renda A2\n",
      "domicilios_b1  Quantidade de Domicílios de Renda B1\n",
      "domicilios_b2  Quantidade de Domicílios de Renda B2\n",
      "domicilios_c1  Quantidade de Domicílios de Renda C1\n",
      "domicilios_c2  Quantidade de Domicílios de Renda C2\n",
      "domicilios_d   Quantidade de Domicílios de Renda D\n",
      "domicilios_e   Quantidade de Domicílios de Renda E\n",
      "renda_media    Renda Média por Domicílio\n",
      "faturamento    Faturamento Total no Bairro\n",
      "potencial      Potencial do Bairro\n"
     ]
    }
   ],
   "source": [
    "tab = [['Coluna', 'Significado'],   \n",
    "       ['codigo', 'Código do bairro'],\n",
    "       ['nome', 'Nome do bairro'],\n",
    "       ['cidade', 'Cidade'],\n",
    "       ['estado', 'Estado'],\n",
    "       ['populacao', 'População total'],\n",
    "       ['pop_ate9', 'População - até 9 anos'],\n",
    "       ['pop_de10a14', 'População - de 10 a 14 anos'],\n",
    "       ['pop_de15a19', 'População - de 15 a 19 anos'],\n",
    "       ['pop_de20a24', 'População - de 20 a 24 anos'],\n",
    "       ['pop_de25a34', 'População - de 25 a 34 anos'],\n",
    "       ['pop_de35a49', 'População - de 35 a 49 anos'],\n",
    "       ['pop_de50a59', 'População - de 50 a 59 anos'],\n",
    "       ['pop_mais_de60', 'População - 60 anos ou mais'],\n",
    "       ['domicilios_a1', 'Quantidade de Domicílios de Renda A1'],\n",
    "       ['domicilios_a2', 'Quantidade de Domicílios de Renda A2'],\n",
    "       ['domicilios_b1', 'Quantidade de Domicílios de Renda B1'],\n",
    "       ['domicilios_b2', 'Quantidade de Domicílios de Renda B2'],\n",
    "       ['domicilios_c1', 'Quantidade de Domicílios de Renda C1'],\n",
    "       ['domicilios_c2', 'Quantidade de Domicílios de Renda C2'],\n",
    "       ['domicilios_d', 'Quantidade de Domicílios de Renda D'],\n",
    "       ['domicilios_e', 'Quantidade de Domicílios de Renda E'],\n",
    "       ['renda_media', 'Renda Média por Domicílio'],\n",
    "       ['faturamento', 'Faturamento Total no Bairro'],\n",
    "       ['potencial', 'Potencial do Bairro']]\n",
    "print(tabulate(tab, headers='firstrow', stralign='left')) #tablefmt='pipe', tablefmt='grid'"
   ]
  },
  {
   "cell_type": "markdown",
   "id": "ef0f1e06",
   "metadata": {
    "heading_collapsed": true,
    "hidden": true
   },
   "source": [
    "## Tipos de Dados"
   ]
  },
  {
   "cell_type": "markdown",
   "id": "7c34dfd4",
   "metadata": {
    "hidden": true
   },
   "source": [
    "Avaliar tipos de dados, e necessidade de conversões."
   ]
  },
  {
   "cell_type": "code",
   "execution_count": 9,
   "id": "1fb4b827",
   "metadata": {
    "ExecuteTime": {
     "end_time": "2023-02-08T21:07:41.293254Z",
     "start_time": "2023-02-08T21:07:41.267925Z"
    },
    "hidden": true
   },
   "outputs": [
    {
     "data": {
      "text/html": [
       "<div>\n",
       "<style scoped>\n",
       "    .dataframe tbody tr th:only-of-type {\n",
       "        vertical-align: middle;\n",
       "    }\n",
       "\n",
       "    .dataframe tbody tr th {\n",
       "        vertical-align: top;\n",
       "    }\n",
       "\n",
       "    .dataframe thead th {\n",
       "        text-align: right;\n",
       "    }\n",
       "</style>\n",
       "<table border=\"1\" class=\"dataframe\">\n",
       "  <thead>\n",
       "    <tr style=\"text-align: right;\">\n",
       "      <th></th>\n",
       "      <th>codigo</th>\n",
       "      <th>nome</th>\n",
       "      <th>cidade</th>\n",
       "      <th>estado</th>\n",
       "      <th>populacao</th>\n",
       "      <th>pop_ate9</th>\n",
       "      <th>pop_de10a14</th>\n",
       "      <th>pop_de15a19</th>\n",
       "      <th>pop_de20a24</th>\n",
       "      <th>pop_de25a34</th>\n",
       "      <th>pop_de35a49</th>\n",
       "      <th>pop_de50a59</th>\n",
       "      <th>pop_mais_de60</th>\n",
       "      <th>domicilios_a1</th>\n",
       "      <th>domicilios_a2</th>\n",
       "      <th>domicilios_b1</th>\n",
       "      <th>domicilios_b2</th>\n",
       "      <th>domicilios_c1</th>\n",
       "      <th>domicilios_c2</th>\n",
       "      <th>domicilios_d</th>\n",
       "      <th>domicilios_e</th>\n",
       "      <th>renda_media</th>\n",
       "      <th>faturamento</th>\n",
       "      <th>potencial</th>\n",
       "    </tr>\n",
       "  </thead>\n",
       "  <tbody>\n",
       "    <tr>\n",
       "      <th>0</th>\n",
       "      <td>3304557060</td>\n",
       "      <td>Abolição</td>\n",
       "      <td>Rio de Janeiro</td>\n",
       "      <td>RJ</td>\n",
       "      <td>11676</td>\n",
       "      <td>1027</td>\n",
       "      <td>483</td>\n",
       "      <td>688</td>\n",
       "      <td>800</td>\n",
       "      <td>1675</td>\n",
       "      <td>2300</td>\n",
       "      <td>1784</td>\n",
       "      <td>2919</td>\n",
       "      <td>0</td>\n",
       "      <td>145</td>\n",
       "      <td>715</td>\n",
       "      <td>1242</td>\n",
       "      <td>1093</td>\n",
       "      <td>758</td>\n",
       "      <td>92</td>\n",
       "      <td>304</td>\n",
       "      <td>2501</td>\n",
       "      <td>932515.0</td>\n",
       "      <td>Médio</td>\n",
       "    </tr>\n",
       "    <tr>\n",
       "      <th>1</th>\n",
       "      <td>3304557138</td>\n",
       "      <td>Acari</td>\n",
       "      <td>Rio de Janeiro</td>\n",
       "      <td>RJ</td>\n",
       "      <td>27564</td>\n",
       "      <td>5131</td>\n",
       "      <td>2188</td>\n",
       "      <td>2697</td>\n",
       "      <td>2630</td>\n",
       "      <td>4810</td>\n",
       "      <td>5308</td>\n",
       "      <td>2403</td>\n",
       "      <td>2397</td>\n",
       "      <td>0</td>\n",
       "      <td>0</td>\n",
       "      <td>82</td>\n",
       "      <td>506</td>\n",
       "      <td>2040</td>\n",
       "      <td>2490</td>\n",
       "      <td>827</td>\n",
       "      <td>2506</td>\n",
       "      <td>931</td>\n",
       "      <td>588833.0</td>\n",
       "      <td>Baixo</td>\n",
       "    </tr>\n",
       "  </tbody>\n",
       "</table>\n",
       "</div>"
      ],
      "text/plain": [
       "       codigo      nome          cidade estado  populacao  pop_ate9  pop_de10a14  pop_de15a19  pop_de20a24  pop_de25a34  pop_de35a49  pop_de50a59  pop_mais_de60  domicilios_a1  domicilios_a2  domicilios_b1  domicilios_b2  domicilios_c1  domicilios_c2  domicilios_d  domicilios_e renda_media  faturamento potencial\n",
       "0  3304557060  Abolição  Rio de Janeiro     RJ      11676      1027          483          688          800         1675         2300         1784           2919              0            145            715           1242           1093            758            92           304        2501     932515.0     Médio\n",
       "1  3304557138     Acari  Rio de Janeiro     RJ      27564      5131         2188         2697         2630         4810         5308         2403           2397              0              0             82            506           2040           2490           827          2506         931     588833.0     Baixo"
      ]
     },
     "execution_count": 9,
     "metadata": {},
     "output_type": "execute_result"
    }
   ],
   "source": [
    "df_raw.head(2)"
   ]
  },
  {
   "cell_type": "code",
   "execution_count": 10,
   "id": "d314c7ec",
   "metadata": {
    "ExecuteTime": {
     "end_time": "2023-02-08T21:07:42.416692Z",
     "start_time": "2023-02-08T21:07:42.404207Z"
    },
    "hidden": true
   },
   "outputs": [
    {
     "data": {
      "text/plain": [
       "codigo             int64\n",
       "nome              object\n",
       "cidade            object\n",
       "estado            object\n",
       "populacao          int64\n",
       "pop_ate9           int64\n",
       "pop_de10a14        int64\n",
       "pop_de15a19        int64\n",
       "pop_de20a24        int64\n",
       "pop_de25a34        int64\n",
       "pop_de35a49        int64\n",
       "pop_de50a59        int64\n",
       "pop_mais_de60      int64\n",
       "domicilios_a1      int64\n",
       "domicilios_a2      int64\n",
       "domicilios_b1      int64\n",
       "domicilios_b2      int64\n",
       "domicilios_c1      int64\n",
       "domicilios_c2      int64\n",
       "domicilios_d       int64\n",
       "domicilios_e       int64\n",
       "renda_media       object\n",
       "faturamento      float64\n",
       "potencial         object\n",
       "dtype: object"
      ]
     },
     "execution_count": 10,
     "metadata": {},
     "output_type": "execute_result"
    }
   ],
   "source": [
    "df_raw.dtypes"
   ]
  },
  {
   "cell_type": "markdown",
   "id": "0c7adbba",
   "metadata": {
    "hidden": true
   },
   "source": [
    "No momento, não será possível converter \"faturamento\" para int (visto que não utiliza as casas decimais), em função dos dados de SP, onde há registros nulos. Farei isto após a separação dos datasets.\n",
    "\n",
    "Demais variáveis estão ok."
   ]
  },
  {
   "cell_type": "markdown",
   "id": "3e57d42d",
   "metadata": {
    "heading_collapsed": true,
    "hidden": true
   },
   "source": [
    "## Conferência de Nulos"
   ]
  },
  {
   "cell_type": "markdown",
   "id": "9f60f778",
   "metadata": {
    "hidden": true
   },
   "source": [
    "Avaliação de tratativa de registros nulos."
   ]
  },
  {
   "cell_type": "code",
   "execution_count": 12,
   "id": "54fd5508",
   "metadata": {
    "ExecuteTime": {
     "end_time": "2023-02-08T21:22:56.207174Z",
     "start_time": "2023-02-08T21:22:56.190377Z"
    },
    "hidden": true
   },
   "outputs": [
    {
     "data": {
      "text/plain": [
       "codigo             0\n",
       "nome               0\n",
       "cidade             0\n",
       "estado             0\n",
       "populacao          0\n",
       "pop_ate9           0\n",
       "pop_de10a14        0\n",
       "pop_de15a19        0\n",
       "pop_de20a24        0\n",
       "pop_de25a34        0\n",
       "pop_de35a49        0\n",
       "pop_de50a59        0\n",
       "pop_mais_de60      0\n",
       "domicilios_a1      0\n",
       "domicilios_a2      0\n",
       "domicilios_b1      0\n",
       "domicilios_b2      0\n",
       "domicilios_c1      0\n",
       "domicilios_c2      0\n",
       "domicilios_d       0\n",
       "domicilios_e       0\n",
       "renda_media        6\n",
       "faturamento      296\n",
       "potencial        296\n",
       "dtype: int64"
      ]
     },
     "execution_count": 12,
     "metadata": {},
     "output_type": "execute_result"
    }
   ],
   "source": [
    "df_raw.isna().sum()"
   ]
  },
  {
   "cell_type": "markdown",
   "id": "263fb97a",
   "metadata": {
    "hidden": true
   },
   "source": [
    "Conferir se os registros com valores nulos em \"faturamento\" e \"potencial\" são apenas os registros de SP."
   ]
  },
  {
   "cell_type": "code",
   "execution_count": 56,
   "id": "99d420e0",
   "metadata": {
    "ExecuteTime": {
     "end_time": "2023-02-08T22:00:04.119345Z",
     "start_time": "2023-02-08T22:00:04.077391Z"
    },
    "hidden": true
   },
   "outputs": [
    {
     "data": {
      "text/html": [
       "<div>\n",
       "<style scoped>\n",
       "    .dataframe tbody tr th:only-of-type {\n",
       "        vertical-align: middle;\n",
       "    }\n",
       "\n",
       "    .dataframe tbody tr th {\n",
       "        vertical-align: top;\n",
       "    }\n",
       "\n",
       "    .dataframe thead th {\n",
       "        text-align: right;\n",
       "    }\n",
       "</style>\n",
       "<table border=\"1\" class=\"dataframe\">\n",
       "  <thead>\n",
       "    <tr style=\"text-align: right;\">\n",
       "      <th></th>\n",
       "      <th>codigo</th>\n",
       "      <th>nome</th>\n",
       "      <th>cidade</th>\n",
       "      <th>estado</th>\n",
       "      <th>populacao</th>\n",
       "      <th>pop_ate9</th>\n",
       "      <th>pop_de10a14</th>\n",
       "      <th>pop_de15a19</th>\n",
       "      <th>pop_de20a24</th>\n",
       "      <th>pop_de25a34</th>\n",
       "      <th>pop_de35a49</th>\n",
       "      <th>pop_de50a59</th>\n",
       "      <th>pop_mais_de60</th>\n",
       "      <th>domicilios_a1</th>\n",
       "      <th>domicilios_a2</th>\n",
       "      <th>domicilios_b1</th>\n",
       "      <th>domicilios_b2</th>\n",
       "      <th>domicilios_c1</th>\n",
       "      <th>domicilios_c2</th>\n",
       "      <th>domicilios_d</th>\n",
       "      <th>domicilios_e</th>\n",
       "      <th>renda_media</th>\n",
       "      <th>faturamento</th>\n",
       "      <th>potencial</th>\n",
       "    </tr>\n",
       "  </thead>\n",
       "  <tbody>\n",
       "    <tr>\n",
       "      <th>160</th>\n",
       "      <td>355030251</td>\n",
       "      <td>A. E. Carvalho</td>\n",
       "      <td>São Paulo</td>\n",
       "      <td>SP</td>\n",
       "      <td>94034</td>\n",
       "      <td>12668</td>\n",
       "      <td>6853</td>\n",
       "      <td>9836</td>\n",
       "      <td>7487</td>\n",
       "      <td>14535</td>\n",
       "      <td>21549</td>\n",
       "      <td>10598</td>\n",
       "      <td>10508</td>\n",
       "      <td>0</td>\n",
       "      <td>253</td>\n",
       "      <td>2197</td>\n",
       "      <td>4368</td>\n",
       "      <td>6681</td>\n",
       "      <td>7011</td>\n",
       "      <td>2247</td>\n",
       "      <td>5670</td>\n",
       "      <td>1501</td>\n",
       "      <td>NaN</td>\n",
       "      <td>NaN</td>\n",
       "    </tr>\n",
       "    <tr>\n",
       "      <th>161</th>\n",
       "      <td>35503020</td>\n",
       "      <td>Aclimação</td>\n",
       "      <td>São Paulo</td>\n",
       "      <td>SP</td>\n",
       "      <td>32791</td>\n",
       "      <td>2297</td>\n",
       "      <td>1017</td>\n",
       "      <td>2096</td>\n",
       "      <td>2197</td>\n",
       "      <td>5341</td>\n",
       "      <td>7281</td>\n",
       "      <td>4917</td>\n",
       "      <td>7645</td>\n",
       "      <td>1413</td>\n",
       "      <td>1734</td>\n",
       "      <td>3704</td>\n",
       "      <td>2351</td>\n",
       "      <td>1946</td>\n",
       "      <td>827</td>\n",
       "      <td>291</td>\n",
       "      <td>1617</td>\n",
       "      <td>5920</td>\n",
       "      <td>NaN</td>\n",
       "      <td>NaN</td>\n",
       "    </tr>\n",
       "    <tr>\n",
       "      <th>162</th>\n",
       "      <td>355030285</td>\n",
       "      <td>Adventista</td>\n",
       "      <td>São Paulo</td>\n",
       "      <td>SP</td>\n",
       "      <td>104193</td>\n",
       "      <td>15070</td>\n",
       "      <td>7343</td>\n",
       "      <td>10631</td>\n",
       "      <td>8657</td>\n",
       "      <td>17749</td>\n",
       "      <td>23364</td>\n",
       "      <td>11567</td>\n",
       "      <td>9812</td>\n",
       "      <td>0</td>\n",
       "      <td>0</td>\n",
       "      <td>1423</td>\n",
       "      <td>4875</td>\n",
       "      <td>8595</td>\n",
       "      <td>10082</td>\n",
       "      <td>3111</td>\n",
       "      <td>5776</td>\n",
       "      <td>1284</td>\n",
       "      <td>NaN</td>\n",
       "      <td>NaN</td>\n",
       "    </tr>\n",
       "    <tr>\n",
       "      <th>163</th>\n",
       "      <td>35503088</td>\n",
       "      <td>Água Branca</td>\n",
       "      <td>São Paulo</td>\n",
       "      <td>SP</td>\n",
       "      <td>12721</td>\n",
       "      <td>953</td>\n",
       "      <td>343</td>\n",
       "      <td>627</td>\n",
       "      <td>819</td>\n",
       "      <td>2142</td>\n",
       "      <td>2833</td>\n",
       "      <td>1790</td>\n",
       "      <td>3214</td>\n",
       "      <td>624</td>\n",
       "      <td>667</td>\n",
       "      <td>1558</td>\n",
       "      <td>1032</td>\n",
       "      <td>915</td>\n",
       "      <td>361</td>\n",
       "      <td>84</td>\n",
       "      <td>404</td>\n",
       "      <td>6278</td>\n",
       "      <td>NaN</td>\n",
       "      <td>NaN</td>\n",
       "    </tr>\n",
       "    <tr>\n",
       "      <th>164</th>\n",
       "      <td>35503066</td>\n",
       "      <td>Água Funda</td>\n",
       "      <td>São Paulo</td>\n",
       "      <td>SP</td>\n",
       "      <td>48417</td>\n",
       "      <td>5078</td>\n",
       "      <td>2396</td>\n",
       "      <td>4018</td>\n",
       "      <td>3571</td>\n",
       "      <td>7388</td>\n",
       "      <td>10751</td>\n",
       "      <td>6648</td>\n",
       "      <td>8567</td>\n",
       "      <td>0</td>\n",
       "      <td>303</td>\n",
       "      <td>1794</td>\n",
       "      <td>2986</td>\n",
       "      <td>4489</td>\n",
       "      <td>2836</td>\n",
       "      <td>1104</td>\n",
       "      <td>2553</td>\n",
       "      <td>1905</td>\n",
       "      <td>NaN</td>\n",
       "      <td>NaN</td>\n",
       "    </tr>\n",
       "    <tr>\n",
       "      <th>...</th>\n",
       "      <td>...</td>\n",
       "      <td>...</td>\n",
       "      <td>...</td>\n",
       "      <td>...</td>\n",
       "      <td>...</td>\n",
       "      <td>...</td>\n",
       "      <td>...</td>\n",
       "      <td>...</td>\n",
       "      <td>...</td>\n",
       "      <td>...</td>\n",
       "      <td>...</td>\n",
       "      <td>...</td>\n",
       "      <td>...</td>\n",
       "      <td>...</td>\n",
       "      <td>...</td>\n",
       "      <td>...</td>\n",
       "      <td>...</td>\n",
       "      <td>...</td>\n",
       "      <td>...</td>\n",
       "      <td>...</td>\n",
       "      <td>...</td>\n",
       "      <td>...</td>\n",
       "      <td>...</td>\n",
       "      <td>...</td>\n",
       "    </tr>\n",
       "    <tr>\n",
       "      <th>451</th>\n",
       "      <td>355030213</td>\n",
       "      <td>Vila Sônia</td>\n",
       "      <td>São Paulo</td>\n",
       "      <td>SP</td>\n",
       "      <td>34061</td>\n",
       "      <td>2908</td>\n",
       "      <td>1462</td>\n",
       "      <td>2253</td>\n",
       "      <td>2076</td>\n",
       "      <td>4579</td>\n",
       "      <td>7557</td>\n",
       "      <td>5227</td>\n",
       "      <td>7999</td>\n",
       "      <td>942</td>\n",
       "      <td>1089</td>\n",
       "      <td>2866</td>\n",
       "      <td>2219</td>\n",
       "      <td>2216</td>\n",
       "      <td>1227</td>\n",
       "      <td>306</td>\n",
       "      <td>1098</td>\n",
       "      <td>5285</td>\n",
       "      <td>NaN</td>\n",
       "      <td>NaN</td>\n",
       "    </tr>\n",
       "    <tr>\n",
       "      <th>452</th>\n",
       "      <td>355030207</td>\n",
       "      <td>Vila Suzana</td>\n",
       "      <td>São Paulo</td>\n",
       "      <td>SP</td>\n",
       "      <td>35403</td>\n",
       "      <td>4127</td>\n",
       "      <td>1890</td>\n",
       "      <td>2678</td>\n",
       "      <td>2433</td>\n",
       "      <td>5855</td>\n",
       "      <td>9107</td>\n",
       "      <td>4608</td>\n",
       "      <td>4705</td>\n",
       "      <td>1726</td>\n",
       "      <td>1522</td>\n",
       "      <td>2458</td>\n",
       "      <td>1186</td>\n",
       "      <td>1166</td>\n",
       "      <td>918</td>\n",
       "      <td>209</td>\n",
       "      <td>3840</td>\n",
       "      <td>7418</td>\n",
       "      <td>NaN</td>\n",
       "      <td>NaN</td>\n",
       "    </tr>\n",
       "    <tr>\n",
       "      <th>453</th>\n",
       "      <td>355030162</td>\n",
       "      <td>Vila Terezinha</td>\n",
       "      <td>São Paulo</td>\n",
       "      <td>SP</td>\n",
       "      <td>122359</td>\n",
       "      <td>18304</td>\n",
       "      <td>9304</td>\n",
       "      <td>13258</td>\n",
       "      <td>9965</td>\n",
       "      <td>19248</td>\n",
       "      <td>26592</td>\n",
       "      <td>12579</td>\n",
       "      <td>13109</td>\n",
       "      <td>0</td>\n",
       "      <td>0</td>\n",
       "      <td>1758</td>\n",
       "      <td>4517</td>\n",
       "      <td>9450</td>\n",
       "      <td>11473</td>\n",
       "      <td>3218</td>\n",
       "      <td>7540</td>\n",
       "      <td>1252</td>\n",
       "      <td>NaN</td>\n",
       "      <td>NaN</td>\n",
       "    </tr>\n",
       "    <tr>\n",
       "      <th>454</th>\n",
       "      <td>355030157</td>\n",
       "      <td>Vila Zatt</td>\n",
       "      <td>São Paulo</td>\n",
       "      <td>SP</td>\n",
       "      <td>125864</td>\n",
       "      <td>14670</td>\n",
       "      <td>7305</td>\n",
       "      <td>11225</td>\n",
       "      <td>9338</td>\n",
       "      <td>18841</td>\n",
       "      <td>28500</td>\n",
       "      <td>16700</td>\n",
       "      <td>19285</td>\n",
       "      <td>8</td>\n",
       "      <td>872</td>\n",
       "      <td>5093</td>\n",
       "      <td>8063</td>\n",
       "      <td>10012</td>\n",
       "      <td>8082</td>\n",
       "      <td>2856</td>\n",
       "      <td>6853</td>\n",
       "      <td>1936</td>\n",
       "      <td>NaN</td>\n",
       "      <td>NaN</td>\n",
       "    </tr>\n",
       "    <tr>\n",
       "      <th>455</th>\n",
       "      <td>355030164</td>\n",
       "      <td>Vista Alegre</td>\n",
       "      <td>São Paulo</td>\n",
       "      <td>SP</td>\n",
       "      <td>106</td>\n",
       "      <td>23</td>\n",
       "      <td>7</td>\n",
       "      <td>15</td>\n",
       "      <td>11</td>\n",
       "      <td>15</td>\n",
       "      <td>26</td>\n",
       "      <td>4</td>\n",
       "      <td>5</td>\n",
       "      <td>0</td>\n",
       "      <td>0</td>\n",
       "      <td>0</td>\n",
       "      <td>6</td>\n",
       "      <td>9</td>\n",
       "      <td>8</td>\n",
       "      <td>2</td>\n",
       "      <td>4</td>\n",
       "      <td>1288</td>\n",
       "      <td>NaN</td>\n",
       "      <td>NaN</td>\n",
       "    </tr>\n",
       "  </tbody>\n",
       "</table>\n",
       "<p>296 rows × 24 columns</p>\n",
       "</div>"
      ],
      "text/plain": [
       "        codigo            nome     cidade estado  populacao  pop_ate9  pop_de10a14  pop_de15a19  pop_de20a24  pop_de25a34  pop_de35a49  pop_de50a59  pop_mais_de60  domicilios_a1  domicilios_a2  domicilios_b1  domicilios_b2  domicilios_c1  domicilios_c2  domicilios_d  domicilios_e renda_media  faturamento potencial\n",
       "160  355030251  A. E. Carvalho  São Paulo     SP      94034     12668         6853         9836         7487        14535        21549        10598          10508              0            253           2197           4368           6681           7011          2247          5670        1501          NaN       NaN\n",
       "161   35503020       Aclimação  São Paulo     SP      32791      2297         1017         2096         2197         5341         7281         4917           7645           1413           1734           3704           2351           1946            827           291          1617        5920          NaN       NaN\n",
       "162  355030285      Adventista  São Paulo     SP     104193     15070         7343        10631         8657        17749        23364        11567           9812              0              0           1423           4875           8595          10082          3111          5776        1284          NaN       NaN\n",
       "163   35503088     Água Branca  São Paulo     SP      12721       953          343          627          819         2142         2833         1790           3214            624            667           1558           1032            915            361            84           404        6278          NaN       NaN\n",
       "164   35503066      Água Funda  São Paulo     SP      48417      5078         2396         4018         3571         7388        10751         6648           8567              0            303           1794           2986           4489           2836          1104          2553        1905          NaN       NaN\n",
       "..         ...             ...        ...    ...        ...       ...          ...          ...          ...          ...          ...          ...            ...            ...            ...            ...            ...            ...            ...           ...           ...         ...          ...       ...\n",
       "451  355030213      Vila Sônia  São Paulo     SP      34061      2908         1462         2253         2076         4579         7557         5227           7999            942           1089           2866           2219           2216           1227           306          1098        5285          NaN       NaN\n",
       "452  355030207     Vila Suzana  São Paulo     SP      35403      4127         1890         2678         2433         5855         9107         4608           4705           1726           1522           2458           1186           1166            918           209          3840        7418          NaN       NaN\n",
       "453  355030162  Vila Terezinha  São Paulo     SP     122359     18304         9304        13258         9965        19248        26592        12579          13109              0              0           1758           4517           9450          11473          3218          7540        1252          NaN       NaN\n",
       "454  355030157       Vila Zatt  São Paulo     SP     125864     14670         7305        11225         9338        18841        28500        16700          19285              8            872           5093           8063          10012           8082          2856          6853        1936          NaN       NaN\n",
       "455  355030164    Vista Alegre  São Paulo     SP        106        23            7           15           11           15           26            4              5              0              0              0              6              9              8             2             4        1288          NaN       NaN\n",
       "\n",
       "[296 rows x 24 columns]"
      ]
     },
     "execution_count": 56,
     "metadata": {},
     "output_type": "execute_result"
    }
   ],
   "source": [
    "df_raw.loc[(df_raw.potencial.isna() == True) & (df_raw.faturamento.isna() == True) & (df_raw.estado == \"SP\")]"
   ]
  },
  {
   "cell_type": "markdown",
   "id": "d9550cfd",
   "metadata": {
    "hidden": true
   },
   "source": [
    "Confirmado, \"faturametno\" será tratado abaixo. Demais variáveis sem necessidade de tratativas."
   ]
  },
  {
   "cell_type": "markdown",
   "id": "1daa8fcd",
   "metadata": {
    "heading_collapsed": true,
    "hidden": true
   },
   "source": [
    "## Separação entre RJ e SP"
   ]
  },
  {
   "cell_type": "markdown",
   "id": "9747857e",
   "metadata": {
    "hidden": true
   },
   "source": [
    "Separação do dataset em duas pares, sendo:\n",
    "- df_rj: registros onde estado = RJ, contendo valores nas variáveis alvo \"faturamento\" e \"potencial\".\n",
    "- df_sp: registros onde estado = SP, contendo valores nulos para as variáveis alvo."
   ]
  },
  {
   "cell_type": "code",
   "execution_count": 106,
   "id": "b97978d1",
   "metadata": {
    "ExecuteTime": {
     "end_time": "2023-02-08T22:24:34.600751Z",
     "start_time": "2023-02-08T22:24:34.591862Z"
    },
    "hidden": true
   },
   "outputs": [
    {
     "name": "stdout",
     "output_type": "stream",
     "text": [
      "Número de linhas e colunas de df_rj: (160, 24)\n",
      "Número de linhas e colunas de df_sp: (296, 24)\n"
     ]
    }
   ],
   "source": [
    "df_rj = df_raw.loc[df_raw[\"estado\"] == \"RJ\"]\n",
    "df_sp = df_raw.loc[df_raw[\"estado\"] == \"SP\"]\n",
    "\n",
    "print (f\"Número de linhas e colunas de df_rj: {df_rj.shape}\")\n",
    "print (f\"Número de linhas e colunas de df_sp: {df_sp.shape}\")"
   ]
  },
  {
   "cell_type": "markdown",
   "id": "26832c22",
   "metadata": {
    "hidden": true
   },
   "source": [
    "Converter \"faturamento\" de df_rj para o tipo int, visto que não utiliza as casas decimais."
   ]
  },
  {
   "cell_type": "code",
   "execution_count": 107,
   "id": "13f34506",
   "metadata": {
    "ExecuteTime": {
     "end_time": "2023-02-08T22:24:35.211518Z",
     "start_time": "2023-02-08T22:24:35.183548Z"
    },
    "hidden": true
   },
   "outputs": [
    {
     "name": "stderr",
     "output_type": "stream",
     "text": [
      "/var/folders/z7/spd20rg13kl9j0xgnkbzdrf40000gn/T/ipykernel_8631/3496868274.py:1: SettingWithCopyWarning: \n",
      "A value is trying to be set on a copy of a slice from a DataFrame.\n",
      "Try using .loc[row_indexer,col_indexer] = value instead\n",
      "\n",
      "See the caveats in the documentation: https://pandas.pydata.org/pandas-docs/stable/user_guide/indexing.html#returning-a-view-versus-a-copy\n",
      "  df_rj[\"faturamento\"] = df_rj[\"faturamento\"].astype(int).copy()\n"
     ]
    },
    {
     "data": {
      "text/html": [
       "<div>\n",
       "<style scoped>\n",
       "    .dataframe tbody tr th:only-of-type {\n",
       "        vertical-align: middle;\n",
       "    }\n",
       "\n",
       "    .dataframe tbody tr th {\n",
       "        vertical-align: top;\n",
       "    }\n",
       "\n",
       "    .dataframe thead th {\n",
       "        text-align: right;\n",
       "    }\n",
       "</style>\n",
       "<table border=\"1\" class=\"dataframe\">\n",
       "  <thead>\n",
       "    <tr style=\"text-align: right;\">\n",
       "      <th></th>\n",
       "      <th>codigo</th>\n",
       "      <th>nome</th>\n",
       "      <th>cidade</th>\n",
       "      <th>estado</th>\n",
       "      <th>populacao</th>\n",
       "      <th>pop_ate9</th>\n",
       "      <th>pop_de10a14</th>\n",
       "      <th>pop_de15a19</th>\n",
       "      <th>pop_de20a24</th>\n",
       "      <th>pop_de25a34</th>\n",
       "      <th>pop_de35a49</th>\n",
       "      <th>pop_de50a59</th>\n",
       "      <th>pop_mais_de60</th>\n",
       "      <th>domicilios_a1</th>\n",
       "      <th>domicilios_a2</th>\n",
       "      <th>domicilios_b1</th>\n",
       "      <th>domicilios_b2</th>\n",
       "      <th>domicilios_c1</th>\n",
       "      <th>domicilios_c2</th>\n",
       "      <th>domicilios_d</th>\n",
       "      <th>domicilios_e</th>\n",
       "      <th>renda_media</th>\n",
       "      <th>faturamento</th>\n",
       "      <th>potencial</th>\n",
       "    </tr>\n",
       "  </thead>\n",
       "  <tbody>\n",
       "    <tr>\n",
       "      <th>0</th>\n",
       "      <td>3304557060</td>\n",
       "      <td>Abolição</td>\n",
       "      <td>Rio de Janeiro</td>\n",
       "      <td>RJ</td>\n",
       "      <td>11676</td>\n",
       "      <td>1027</td>\n",
       "      <td>483</td>\n",
       "      <td>688</td>\n",
       "      <td>800</td>\n",
       "      <td>1675</td>\n",
       "      <td>2300</td>\n",
       "      <td>1784</td>\n",
       "      <td>2919</td>\n",
       "      <td>0</td>\n",
       "      <td>145</td>\n",
       "      <td>715</td>\n",
       "      <td>1242</td>\n",
       "      <td>1093</td>\n",
       "      <td>758</td>\n",
       "      <td>92</td>\n",
       "      <td>304</td>\n",
       "      <td>2501</td>\n",
       "      <td>932515</td>\n",
       "      <td>Médio</td>\n",
       "    </tr>\n",
       "    <tr>\n",
       "      <th>1</th>\n",
       "      <td>3304557138</td>\n",
       "      <td>Acari</td>\n",
       "      <td>Rio de Janeiro</td>\n",
       "      <td>RJ</td>\n",
       "      <td>27564</td>\n",
       "      <td>5131</td>\n",
       "      <td>2188</td>\n",
       "      <td>2697</td>\n",
       "      <td>2630</td>\n",
       "      <td>4810</td>\n",
       "      <td>5308</td>\n",
       "      <td>2403</td>\n",
       "      <td>2397</td>\n",
       "      <td>0</td>\n",
       "      <td>0</td>\n",
       "      <td>82</td>\n",
       "      <td>506</td>\n",
       "      <td>2040</td>\n",
       "      <td>2490</td>\n",
       "      <td>827</td>\n",
       "      <td>2506</td>\n",
       "      <td>931</td>\n",
       "      <td>588833</td>\n",
       "      <td>Baixo</td>\n",
       "    </tr>\n",
       "  </tbody>\n",
       "</table>\n",
       "</div>"
      ],
      "text/plain": [
       "       codigo      nome          cidade estado  populacao  pop_ate9  pop_de10a14  pop_de15a19  pop_de20a24  pop_de25a34  pop_de35a49  pop_de50a59  pop_mais_de60  domicilios_a1  domicilios_a2  domicilios_b1  domicilios_b2  domicilios_c1  domicilios_c2  domicilios_d  domicilios_e renda_media  faturamento potencial\n",
       "0  3304557060  Abolição  Rio de Janeiro     RJ      11676      1027          483          688          800         1675         2300         1784           2919              0            145            715           1242           1093            758            92           304        2501       932515     Médio\n",
       "1  3304557138     Acari  Rio de Janeiro     RJ      27564      5131         2188         2697         2630         4810         5308         2403           2397              0              0             82            506           2040           2490           827          2506         931       588833     Baixo"
      ]
     },
     "execution_count": 107,
     "metadata": {},
     "output_type": "execute_result"
    }
   ],
   "source": [
    "df_rj[\"faturamento\"] = df_rj[\"faturamento\"].astype(int).copy()\n",
    "df_rj.head(2)"
   ]
  },
  {
   "cell_type": "markdown",
   "id": "59cc92e2",
   "metadata": {
    "hidden": true
   },
   "source": [
    "df_rj será dividida em três partes, para realizar as análises 1 e 2 (problemas supervisionados de regressão e classificação), sendo:\n",
    "- Dados de treinamento (train): utilizados para treinar os modelos de machine learning.\n",
    "- Dados de validação (val): utilizados para validar a performance dos modelos, e para tunagem de hiperparâmetros.\n",
    "- Dados de teste (test): utilizados para avaliação final da capacidade de generalização dos modelos, simulando dados de produção.\n",
    "\n",
    "Para a análise 3 (problema não supervisionado de clusterização), não haverá separação entre treino, validação e teste, dado que a tarefa é agrupar os dados em 4 grupos, de acordo com as variáveis disponíveis no dataset.\n",
    "\n",
    "df_sp será guardado, e utilizado como insumo dos modelos em sua versão final, a fim de realizar as análises 1, 2 e 3 (bairros de São Paulo)."
   ]
  },
  {
   "cell_type": "markdown",
   "id": "bf2d1603",
   "metadata": {
    "heading_collapsed": true,
    "hidden": true
   },
   "source": [
    "## Estatística Descritiva"
   ]
  },
  {
   "cell_type": "markdown",
   "id": "b9b84bd8",
   "metadata": {
    "ExecuteTime": {
     "end_time": "2023-02-08T21:39:06.128321Z",
     "start_time": "2023-02-08T21:39:06.118645Z"
    },
    "hidden": true
   },
   "source": [
    "Realizada em cimda com 2 propósitos:\n",
    "- Obter maior conhecimento de negócio a partir do comportamento dos dados.\n",
    "- Detectar eventuais erros e sanar dúvidas sobre os dados, como faturamento negativo, por exemplo."
   ]
  },
  {
   "cell_type": "markdown",
   "id": "84bca929",
   "metadata": {
    "hidden": true
   },
   "source": [
    "PS: Será realizada no ciclo 2."
   ]
  },
  {
   "cell_type": "markdown",
   "id": "8d123f45",
   "metadata": {},
   "source": [
    "# Análise 1 - Estimativa de faturamento em SP"
   ]
  },
  {
   "cell_type": "markdown",
   "id": "5f2e6ec6",
   "metadata": {},
   "source": [
    "Análise 1 - Estimar o faturamento que uma loja teria em cada um dos bairros de São Paulo (regressão)."
   ]
  },
  {
   "cell_type": "markdown",
   "id": "55951a38",
   "metadata": {
    "heading_collapsed": true
   },
   "source": [
    "## Divisão entre Treino e Teste"
   ]
  },
  {
   "cell_type": "markdown",
   "id": "edd3c091",
   "metadata": {
    "hidden": true
   },
   "source": [
    "Como a variável alvo da análise 1 (regressão) é \"faturamento\", e a da análise 2 (classificação) é \"potencial\", para cada análise, serão realizadas diferentes quebras entre treino, validação e teste."
   ]
  },
  {
   "cell_type": "markdown",
   "id": "87325f9e",
   "metadata": {
    "hidden": true
   },
   "source": [
    "Divisão entre features e variável alvo:"
   ]
  },
  {
   "cell_type": "code",
   "execution_count": 165,
   "id": "a1e2b06c",
   "metadata": {
    "ExecuteTime": {
     "end_time": "2023-02-08T22:47:16.209681Z",
     "start_time": "2023-02-08T22:47:16.199698Z"
    },
    "hidden": true
   },
   "outputs": [
    {
     "data": {
      "text/plain": [
       "0    932515\n",
       "1    588833\n",
       "Name: faturamento, dtype: int64"
      ]
     },
     "execution_count": 165,
     "metadata": {},
     "output_type": "execute_result"
    }
   ],
   "source": [
    "y1 = df_rj.faturamento\n",
    "y1.head(2)"
   ]
  },
  {
   "cell_type": "code",
   "execution_count": 166,
   "id": "8fd25353",
   "metadata": {
    "ExecuteTime": {
     "end_time": "2023-02-08T22:47:16.653220Z",
     "start_time": "2023-02-08T22:47:16.624101Z"
    },
    "hidden": true
   },
   "outputs": [
    {
     "data": {
      "text/html": [
       "<div>\n",
       "<style scoped>\n",
       "    .dataframe tbody tr th:only-of-type {\n",
       "        vertical-align: middle;\n",
       "    }\n",
       "\n",
       "    .dataframe tbody tr th {\n",
       "        vertical-align: top;\n",
       "    }\n",
       "\n",
       "    .dataframe thead th {\n",
       "        text-align: right;\n",
       "    }\n",
       "</style>\n",
       "<table border=\"1\" class=\"dataframe\">\n",
       "  <thead>\n",
       "    <tr style=\"text-align: right;\">\n",
       "      <th></th>\n",
       "      <th>nome</th>\n",
       "      <th>cidade</th>\n",
       "      <th>estado</th>\n",
       "      <th>populacao</th>\n",
       "      <th>pop_ate9</th>\n",
       "      <th>pop_de10a14</th>\n",
       "      <th>pop_de15a19</th>\n",
       "      <th>pop_de20a24</th>\n",
       "      <th>pop_de25a34</th>\n",
       "      <th>pop_de35a49</th>\n",
       "      <th>pop_de50a59</th>\n",
       "      <th>pop_mais_de60</th>\n",
       "      <th>domicilios_a1</th>\n",
       "      <th>domicilios_a2</th>\n",
       "      <th>domicilios_b1</th>\n",
       "      <th>domicilios_b2</th>\n",
       "      <th>domicilios_c1</th>\n",
       "      <th>domicilios_c2</th>\n",
       "      <th>domicilios_d</th>\n",
       "      <th>domicilios_e</th>\n",
       "      <th>renda_media</th>\n",
       "      <th>potencial</th>\n",
       "    </tr>\n",
       "  </thead>\n",
       "  <tbody>\n",
       "    <tr>\n",
       "      <th>0</th>\n",
       "      <td>Abolição</td>\n",
       "      <td>Rio de Janeiro</td>\n",
       "      <td>RJ</td>\n",
       "      <td>11676</td>\n",
       "      <td>1027</td>\n",
       "      <td>483</td>\n",
       "      <td>688</td>\n",
       "      <td>800</td>\n",
       "      <td>1675</td>\n",
       "      <td>2300</td>\n",
       "      <td>1784</td>\n",
       "      <td>2919</td>\n",
       "      <td>0</td>\n",
       "      <td>145</td>\n",
       "      <td>715</td>\n",
       "      <td>1242</td>\n",
       "      <td>1093</td>\n",
       "      <td>758</td>\n",
       "      <td>92</td>\n",
       "      <td>304</td>\n",
       "      <td>2501</td>\n",
       "      <td>Médio</td>\n",
       "    </tr>\n",
       "    <tr>\n",
       "      <th>1</th>\n",
       "      <td>Acari</td>\n",
       "      <td>Rio de Janeiro</td>\n",
       "      <td>RJ</td>\n",
       "      <td>27564</td>\n",
       "      <td>5131</td>\n",
       "      <td>2188</td>\n",
       "      <td>2697</td>\n",
       "      <td>2630</td>\n",
       "      <td>4810</td>\n",
       "      <td>5308</td>\n",
       "      <td>2403</td>\n",
       "      <td>2397</td>\n",
       "      <td>0</td>\n",
       "      <td>0</td>\n",
       "      <td>82</td>\n",
       "      <td>506</td>\n",
       "      <td>2040</td>\n",
       "      <td>2490</td>\n",
       "      <td>827</td>\n",
       "      <td>2506</td>\n",
       "      <td>931</td>\n",
       "      <td>Baixo</td>\n",
       "    </tr>\n",
       "  </tbody>\n",
       "</table>\n",
       "</div>"
      ],
      "text/plain": [
       "       nome          cidade estado  populacao  pop_ate9  pop_de10a14  pop_de15a19  pop_de20a24  pop_de25a34  pop_de35a49  pop_de50a59  pop_mais_de60  domicilios_a1  domicilios_a2  domicilios_b1  domicilios_b2  domicilios_c1  domicilios_c2  domicilios_d  domicilios_e renda_media potencial\n",
       "0  Abolição  Rio de Janeiro     RJ      11676      1027          483          688          800         1675         2300         1784           2919              0            145            715           1242           1093            758            92           304        2501     Médio\n",
       "1     Acari  Rio de Janeiro     RJ      27564      5131         2188         2697         2630         4810         5308         2403           2397              0              0             82            506           2040           2490           827          2506         931     Baixo"
      ]
     },
     "execution_count": 166,
     "metadata": {},
     "output_type": "execute_result"
    }
   ],
   "source": [
    "X1 = df_rj.drop([\"codigo\",\"faturamento\"], axis=1)\n",
    "X1.head(2)"
   ]
  },
  {
   "cell_type": "markdown",
   "id": "f343bbb0",
   "metadata": {
    "hidden": true
   },
   "source": [
    "Divisão entre datasets de treino e teste, separando 15% dos registros para teste."
   ]
  },
  {
   "cell_type": "code",
   "execution_count": 167,
   "id": "490d1d75",
   "metadata": {
    "ExecuteTime": {
     "end_time": "2023-02-08T22:47:18.055169Z",
     "start_time": "2023-02-08T22:47:18.046031Z"
    },
    "hidden": true
   },
   "outputs": [],
   "source": [
    "X1_train, X1_test, y1_train, y1_test = train_test_split(X1, y1, random_state=0, test_size=0.15)"
   ]
  },
  {
   "cell_type": "code",
   "execution_count": 168,
   "id": "3fcf5220",
   "metadata": {
    "ExecuteTime": {
     "end_time": "2023-02-08T22:47:19.007939Z",
     "start_time": "2023-02-08T22:47:18.982237Z"
    },
    "hidden": true
   },
   "outputs": [
    {
     "name": "stdout",
     "output_type": "stream",
     "text": [
      "(136, 22)\n",
      "(24, 22)\n"
     ]
    },
    {
     "data": {
      "text/html": [
       "<div>\n",
       "<style scoped>\n",
       "    .dataframe tbody tr th:only-of-type {\n",
       "        vertical-align: middle;\n",
       "    }\n",
       "\n",
       "    .dataframe tbody tr th {\n",
       "        vertical-align: top;\n",
       "    }\n",
       "\n",
       "    .dataframe thead th {\n",
       "        text-align: right;\n",
       "    }\n",
       "</style>\n",
       "<table border=\"1\" class=\"dataframe\">\n",
       "  <thead>\n",
       "    <tr style=\"text-align: right;\">\n",
       "      <th></th>\n",
       "      <th>nome</th>\n",
       "      <th>cidade</th>\n",
       "      <th>estado</th>\n",
       "      <th>populacao</th>\n",
       "      <th>pop_ate9</th>\n",
       "      <th>pop_de10a14</th>\n",
       "      <th>pop_de15a19</th>\n",
       "      <th>pop_de20a24</th>\n",
       "      <th>pop_de25a34</th>\n",
       "      <th>pop_de35a49</th>\n",
       "      <th>pop_de50a59</th>\n",
       "      <th>pop_mais_de60</th>\n",
       "      <th>domicilios_a1</th>\n",
       "      <th>domicilios_a2</th>\n",
       "      <th>domicilios_b1</th>\n",
       "      <th>domicilios_b2</th>\n",
       "      <th>domicilios_c1</th>\n",
       "      <th>domicilios_c2</th>\n",
       "      <th>domicilios_d</th>\n",
       "      <th>domicilios_e</th>\n",
       "      <th>renda_media</th>\n",
       "      <th>potencial</th>\n",
       "    </tr>\n",
       "  </thead>\n",
       "  <tbody>\n",
       "    <tr>\n",
       "      <th>37</th>\n",
       "      <td>Cordovil</td>\n",
       "      <td>Rio de Janeiro</td>\n",
       "      <td>RJ</td>\n",
       "      <td>46478</td>\n",
       "      <td>5729</td>\n",
       "      <td>2893</td>\n",
       "      <td>3768</td>\n",
       "      <td>3850</td>\n",
       "      <td>7146</td>\n",
       "      <td>9369</td>\n",
       "      <td>5598</td>\n",
       "      <td>8125</td>\n",
       "      <td>0</td>\n",
       "      <td>0</td>\n",
       "      <td>1047</td>\n",
       "      <td>2433</td>\n",
       "      <td>4599</td>\n",
       "      <td>4053</td>\n",
       "      <td>723</td>\n",
       "      <td>2601</td>\n",
       "      <td>1480</td>\n",
       "      <td>Médio</td>\n",
       "    </tr>\n",
       "    <tr>\n",
       "      <th>33</th>\n",
       "      <td>Coelho Neto</td>\n",
       "      <td>Rio de Janeiro</td>\n",
       "      <td>RJ</td>\n",
       "      <td>33338</td>\n",
       "      <td>3923</td>\n",
       "      <td>1966</td>\n",
       "      <td>2517</td>\n",
       "      <td>2280</td>\n",
       "      <td>4796</td>\n",
       "      <td>7294</td>\n",
       "      <td>4280</td>\n",
       "      <td>6282</td>\n",
       "      <td>0</td>\n",
       "      <td>0</td>\n",
       "      <td>488</td>\n",
       "      <td>2295</td>\n",
       "      <td>3573</td>\n",
       "      <td>2820</td>\n",
       "      <td>470</td>\n",
       "      <td>2044</td>\n",
       "      <td>1425</td>\n",
       "      <td>Baixo</td>\n",
       "    </tr>\n",
       "  </tbody>\n",
       "</table>\n",
       "</div>"
      ],
      "text/plain": [
       "           nome          cidade estado  populacao  pop_ate9  pop_de10a14  pop_de15a19  pop_de20a24  pop_de25a34  pop_de35a49  pop_de50a59  pop_mais_de60  domicilios_a1  domicilios_a2  domicilios_b1  domicilios_b2  domicilios_c1  domicilios_c2  domicilios_d  domicilios_e renda_media potencial\n",
       "37     Cordovil  Rio de Janeiro     RJ      46478      5729         2893         3768         3850         7146         9369         5598           8125              0              0           1047           2433           4599           4053           723          2601        1480     Médio\n",
       "33  Coelho Neto  Rio de Janeiro     RJ      33338      3923         1966         2517         2280         4796         7294         4280           6282              0              0            488           2295           3573           2820           470          2044        1425     Baixo"
      ]
     },
     "execution_count": 168,
     "metadata": {},
     "output_type": "execute_result"
    }
   ],
   "source": [
    "print(X1_train.shape)\n",
    "print(X1_test.shape)\n",
    "X1_train.head(2)"
   ]
  },
  {
   "cell_type": "markdown",
   "id": "cdcc63dc",
   "metadata": {
    "hidden": true
   },
   "source": [
    "Divisão entre datasets de treino e validação (a partir do treino), separando 15% dos registros para validação."
   ]
  },
  {
   "cell_type": "code",
   "execution_count": 174,
   "id": "deaebfa1",
   "metadata": {
    "ExecuteTime": {
     "end_time": "2023-02-08T22:48:39.069970Z",
     "start_time": "2023-02-08T22:48:39.060331Z"
    },
    "hidden": true
   },
   "outputs": [],
   "source": [
    "X1_train, X1_val, y1_train, y1_val = train_test_split(X1_train, y1_train, random_state=0, test_size=0.15)"
   ]
  },
  {
   "cell_type": "code",
   "execution_count": 176,
   "id": "d4ea24db",
   "metadata": {
    "ExecuteTime": {
     "end_time": "2023-02-08T22:48:49.771354Z",
     "start_time": "2023-02-08T22:48:49.749422Z"
    },
    "hidden": true
   },
   "outputs": [
    {
     "name": "stdout",
     "output_type": "stream",
     "text": [
      "(115, 22)\n",
      "(21, 22)\n"
     ]
    },
    {
     "data": {
      "text/html": [
       "<div>\n",
       "<style scoped>\n",
       "    .dataframe tbody tr th:only-of-type {\n",
       "        vertical-align: middle;\n",
       "    }\n",
       "\n",
       "    .dataframe tbody tr th {\n",
       "        vertical-align: top;\n",
       "    }\n",
       "\n",
       "    .dataframe thead th {\n",
       "        text-align: right;\n",
       "    }\n",
       "</style>\n",
       "<table border=\"1\" class=\"dataframe\">\n",
       "  <thead>\n",
       "    <tr style=\"text-align: right;\">\n",
       "      <th></th>\n",
       "      <th>nome</th>\n",
       "      <th>cidade</th>\n",
       "      <th>estado</th>\n",
       "      <th>populacao</th>\n",
       "      <th>pop_ate9</th>\n",
       "      <th>pop_de10a14</th>\n",
       "      <th>pop_de15a19</th>\n",
       "      <th>pop_de20a24</th>\n",
       "      <th>pop_de25a34</th>\n",
       "      <th>pop_de35a49</th>\n",
       "      <th>pop_de50a59</th>\n",
       "      <th>pop_mais_de60</th>\n",
       "      <th>domicilios_a1</th>\n",
       "      <th>domicilios_a2</th>\n",
       "      <th>domicilios_b1</th>\n",
       "      <th>domicilios_b2</th>\n",
       "      <th>domicilios_c1</th>\n",
       "      <th>domicilios_c2</th>\n",
       "      <th>domicilios_d</th>\n",
       "      <th>domicilios_e</th>\n",
       "      <th>renda_media</th>\n",
       "      <th>potencial</th>\n",
       "    </tr>\n",
       "  </thead>\n",
       "  <tbody>\n",
       "    <tr>\n",
       "      <th>63</th>\n",
       "      <td>Higienópolis</td>\n",
       "      <td>Rio de Janeiro</td>\n",
       "      <td>RJ</td>\n",
       "      <td>16177</td>\n",
       "      <td>1516</td>\n",
       "      <td>748</td>\n",
       "      <td>1016</td>\n",
       "      <td>1174</td>\n",
       "      <td>2488</td>\n",
       "      <td>3497</td>\n",
       "      <td>2327</td>\n",
       "      <td>3411</td>\n",
       "      <td>0</td>\n",
       "      <td>141</td>\n",
       "      <td>857</td>\n",
       "      <td>1464</td>\n",
       "      <td>1740</td>\n",
       "      <td>1030</td>\n",
       "      <td>87</td>\n",
       "      <td>432</td>\n",
       "      <td>2336</td>\n",
       "      <td>Médio</td>\n",
       "    </tr>\n",
       "    <tr>\n",
       "      <th>105</th>\n",
       "      <td>Pedra De Guaratiba</td>\n",
       "      <td>Rio de Janeiro</td>\n",
       "      <td>RJ</td>\n",
       "      <td>9666</td>\n",
       "      <td>1139</td>\n",
       "      <td>535</td>\n",
       "      <td>715</td>\n",
       "      <td>690</td>\n",
       "      <td>1415</td>\n",
       "      <td>2068</td>\n",
       "      <td>1284</td>\n",
       "      <td>1820</td>\n",
       "      <td>0</td>\n",
       "      <td>0</td>\n",
       "      <td>231</td>\n",
       "      <td>662</td>\n",
       "      <td>876</td>\n",
       "      <td>783</td>\n",
       "      <td>150</td>\n",
       "      <td>532</td>\n",
       "      <td>1522</td>\n",
       "      <td>Baixo</td>\n",
       "    </tr>\n",
       "  </tbody>\n",
       "</table>\n",
       "</div>"
      ],
      "text/plain": [
       "                   nome          cidade estado  populacao  pop_ate9  pop_de10a14  pop_de15a19  pop_de20a24  pop_de25a34  pop_de35a49  pop_de50a59  pop_mais_de60  domicilios_a1  domicilios_a2  domicilios_b1  domicilios_b2  domicilios_c1  domicilios_c2  domicilios_d  domicilios_e renda_media potencial\n",
       "63         Higienópolis  Rio de Janeiro     RJ      16177      1516          748         1016         1174         2488         3497         2327           3411              0            141            857           1464           1740           1030            87           432        2336     Médio\n",
       "105  Pedra De Guaratiba  Rio de Janeiro     RJ       9666      1139          535          715          690         1415         2068         1284           1820              0              0            231            662            876            783           150           532        1522     Baixo"
      ]
     },
     "execution_count": 176,
     "metadata": {},
     "output_type": "execute_result"
    }
   ],
   "source": [
    "print(X1_train.shape)\n",
    "print(X1_val.shape)\n",
    "X1_train.head(2)"
   ]
  },
  {
   "cell_type": "markdown",
   "id": "9fedc2ee",
   "metadata": {},
   "source": [
    "## Implementação de Modelo Baseline"
   ]
  },
  {
   "cell_type": "markdown",
   "id": "b9eb03be",
   "metadata": {},
   "source": [
    "Implementar KNN regressor:    -> descrever o algoritmo.."
   ]
  },
  {
   "cell_type": "markdown",
   "id": "534e52b5",
   "metadata": {},
   "source": [
    "Manter apenas features numéricas, para respeitar a premissa do KNN de que a proximidade entre duas evidências de um fenômeno observado pode ser representada por uma medida de distância."
   ]
  },
  {
   "cell_type": "code",
   "execution_count": 179,
   "id": "e88965b2",
   "metadata": {
    "ExecuteTime": {
     "end_time": "2023-02-08T22:49:05.383561Z",
     "start_time": "2023-02-08T22:49:05.364561Z"
    }
   },
   "outputs": [
    {
     "data": {
      "text/html": [
       "<div>\n",
       "<style scoped>\n",
       "    .dataframe tbody tr th:only-of-type {\n",
       "        vertical-align: middle;\n",
       "    }\n",
       "\n",
       "    .dataframe tbody tr th {\n",
       "        vertical-align: top;\n",
       "    }\n",
       "\n",
       "    .dataframe thead th {\n",
       "        text-align: right;\n",
       "    }\n",
       "</style>\n",
       "<table border=\"1\" class=\"dataframe\">\n",
       "  <thead>\n",
       "    <tr style=\"text-align: right;\">\n",
       "      <th></th>\n",
       "      <th>populacao</th>\n",
       "      <th>pop_ate9</th>\n",
       "      <th>pop_de10a14</th>\n",
       "      <th>pop_de15a19</th>\n",
       "      <th>pop_de20a24</th>\n",
       "      <th>pop_de25a34</th>\n",
       "      <th>pop_de35a49</th>\n",
       "      <th>pop_de50a59</th>\n",
       "      <th>pop_mais_de60</th>\n",
       "      <th>domicilios_a1</th>\n",
       "      <th>domicilios_a2</th>\n",
       "      <th>domicilios_b1</th>\n",
       "      <th>domicilios_b2</th>\n",
       "      <th>domicilios_c1</th>\n",
       "      <th>domicilios_c2</th>\n",
       "      <th>domicilios_d</th>\n",
       "      <th>domicilios_e</th>\n",
       "    </tr>\n",
       "  </thead>\n",
       "  <tbody>\n",
       "    <tr>\n",
       "      <th>63</th>\n",
       "      <td>16177</td>\n",
       "      <td>1516</td>\n",
       "      <td>748</td>\n",
       "      <td>1016</td>\n",
       "      <td>1174</td>\n",
       "      <td>2488</td>\n",
       "      <td>3497</td>\n",
       "      <td>2327</td>\n",
       "      <td>3411</td>\n",
       "      <td>0</td>\n",
       "      <td>141</td>\n",
       "      <td>857</td>\n",
       "      <td>1464</td>\n",
       "      <td>1740</td>\n",
       "      <td>1030</td>\n",
       "      <td>87</td>\n",
       "      <td>432</td>\n",
       "    </tr>\n",
       "    <tr>\n",
       "      <th>105</th>\n",
       "      <td>9666</td>\n",
       "      <td>1139</td>\n",
       "      <td>535</td>\n",
       "      <td>715</td>\n",
       "      <td>690</td>\n",
       "      <td>1415</td>\n",
       "      <td>2068</td>\n",
       "      <td>1284</td>\n",
       "      <td>1820</td>\n",
       "      <td>0</td>\n",
       "      <td>0</td>\n",
       "      <td>231</td>\n",
       "      <td>662</td>\n",
       "      <td>876</td>\n",
       "      <td>783</td>\n",
       "      <td>150</td>\n",
       "      <td>532</td>\n",
       "    </tr>\n",
       "  </tbody>\n",
       "</table>\n",
       "</div>"
      ],
      "text/plain": [
       "     populacao  pop_ate9  pop_de10a14  pop_de15a19  pop_de20a24  pop_de25a34  pop_de35a49  pop_de50a59  pop_mais_de60  domicilios_a1  domicilios_a2  domicilios_b1  domicilios_b2  domicilios_c1  domicilios_c2  domicilios_d  domicilios_e\n",
       "63       16177      1516          748         1016         1174         2488         3497         2327           3411              0            141            857           1464           1740           1030            87           432\n",
       "105       9666      1139          535          715          690         1415         2068         1284           1820              0              0            231            662            876            783           150           532"
      ]
     },
     "execution_count": 179,
     "metadata": {},
     "output_type": "execute_result"
    }
   ],
   "source": [
    "X1_train = X1_train.select_dtypes(include=['int64', 'float64'])\n",
    "X1_val = X1_val.select_dtypes(include=['int64', 'float64'])\n",
    "X1_train.head(2)"
   ]
  },
  {
   "cell_type": "markdown",
   "id": "a2a7a115",
   "metadata": {},
   "source": [
    "Instanciar um KNN Regressor, treinar com os dados de treino, e realizar predições contra os dados de validação."
   ]
  },
  {
   "cell_type": "code",
   "execution_count": 180,
   "id": "c9927e1d",
   "metadata": {
    "ExecuteTime": {
     "end_time": "2023-02-08T22:49:09.599294Z",
     "start_time": "2023-02-08T22:49:09.588820Z"
    }
   },
   "outputs": [],
   "source": [
    "knn_reg = KNeighborsRegressor(n_neighbors=3)\n",
    "knn_reg.fit(X1_train, y1_train)\n",
    "knn_reg_yhat = knn_reg.predict(X1_val)"
   ]
  },
  {
   "cell_type": "markdown",
   "id": "e1939404",
   "metadata": {},
   "source": [
    "A métrica de performance será a R squared, ou coeficiente de determinação.\n",
    "Ele é uma medita estatística de quão próximos os dados estão da linha de regressão ajustada.\n",
    "Varia entre entre 0 e 100%, sendo a porcentagem da variação da variável resposta que é explicada por um modelo linear."
   ]
  },
  {
   "cell_type": "code",
   "execution_count": 328,
   "id": "6c5d23d5",
   "metadata": {
    "ExecuteTime": {
     "end_time": "2023-02-09T02:17:03.030914Z",
     "start_time": "2023-02-09T02:17:03.020160Z"
    }
   },
   "outputs": [
    {
     "name": "stdout",
     "output_type": "stream",
     "text": [
      "R^2 com dados de Validação: 57.099999999999994 %\n"
     ]
    }
   ],
   "source": [
    "print(f\"R^2 com dados de Validação: {round(knn_reg.score(X1_val, y1_val) ,3 )*100 } %\")"
   ]
  },
  {
   "cell_type": "markdown",
   "id": "0cdb484d",
   "metadata": {},
   "source": [
    "# Análise 2 - Classificação do potencial em SP"
   ]
  },
  {
   "cell_type": "markdown",
   "id": "6e37fcbc",
   "metadata": {},
   "source": [
    "Análise 2 - Classificar o potencial dos bairros de São Paulo em alto, médio ou baixo (classificação multiclasse)."
   ]
  },
  {
   "cell_type": "markdown",
   "id": "838f2772",
   "metadata": {},
   "source": [
    "## Divisão entre Treino e Teste"
   ]
  },
  {
   "cell_type": "markdown",
   "id": "053cdb24",
   "metadata": {},
   "source": [
    "Divisão entre features e variável alvo."
   ]
  },
  {
   "cell_type": "code",
   "execution_count": 247,
   "id": "aad6c62b",
   "metadata": {
    "ExecuteTime": {
     "end_time": "2023-02-09T01:55:50.677123Z",
     "start_time": "2023-02-09T01:55:50.665882Z"
    }
   },
   "outputs": [
    {
     "data": {
      "text/plain": [
       "0    Médio\n",
       "1    Baixo\n",
       "Name: potencial, dtype: object"
      ]
     },
     "execution_count": 247,
     "metadata": {},
     "output_type": "execute_result"
    }
   ],
   "source": [
    "y2 = df_rj.potencial\n",
    "y2.head(2)"
   ]
  },
  {
   "cell_type": "code",
   "execution_count": 248,
   "id": "cd8e5551",
   "metadata": {
    "ExecuteTime": {
     "end_time": "2023-02-09T01:55:51.081317Z",
     "start_time": "2023-02-09T01:55:51.053978Z"
    }
   },
   "outputs": [
    {
     "data": {
      "text/html": [
       "<div>\n",
       "<style scoped>\n",
       "    .dataframe tbody tr th:only-of-type {\n",
       "        vertical-align: middle;\n",
       "    }\n",
       "\n",
       "    .dataframe tbody tr th {\n",
       "        vertical-align: top;\n",
       "    }\n",
       "\n",
       "    .dataframe thead th {\n",
       "        text-align: right;\n",
       "    }\n",
       "</style>\n",
       "<table border=\"1\" class=\"dataframe\">\n",
       "  <thead>\n",
       "    <tr style=\"text-align: right;\">\n",
       "      <th></th>\n",
       "      <th>nome</th>\n",
       "      <th>cidade</th>\n",
       "      <th>estado</th>\n",
       "      <th>populacao</th>\n",
       "      <th>pop_ate9</th>\n",
       "      <th>pop_de10a14</th>\n",
       "      <th>pop_de15a19</th>\n",
       "      <th>pop_de20a24</th>\n",
       "      <th>pop_de25a34</th>\n",
       "      <th>pop_de35a49</th>\n",
       "      <th>pop_de50a59</th>\n",
       "      <th>pop_mais_de60</th>\n",
       "      <th>domicilios_a1</th>\n",
       "      <th>domicilios_a2</th>\n",
       "      <th>domicilios_b1</th>\n",
       "      <th>domicilios_b2</th>\n",
       "      <th>domicilios_c1</th>\n",
       "      <th>domicilios_c2</th>\n",
       "      <th>domicilios_d</th>\n",
       "      <th>domicilios_e</th>\n",
       "      <th>renda_media</th>\n",
       "      <th>faturamento</th>\n",
       "    </tr>\n",
       "  </thead>\n",
       "  <tbody>\n",
       "    <tr>\n",
       "      <th>0</th>\n",
       "      <td>Abolição</td>\n",
       "      <td>Rio de Janeiro</td>\n",
       "      <td>RJ</td>\n",
       "      <td>11676</td>\n",
       "      <td>1027</td>\n",
       "      <td>483</td>\n",
       "      <td>688</td>\n",
       "      <td>800</td>\n",
       "      <td>1675</td>\n",
       "      <td>2300</td>\n",
       "      <td>1784</td>\n",
       "      <td>2919</td>\n",
       "      <td>0</td>\n",
       "      <td>145</td>\n",
       "      <td>715</td>\n",
       "      <td>1242</td>\n",
       "      <td>1093</td>\n",
       "      <td>758</td>\n",
       "      <td>92</td>\n",
       "      <td>304</td>\n",
       "      <td>2501</td>\n",
       "      <td>932515</td>\n",
       "    </tr>\n",
       "    <tr>\n",
       "      <th>1</th>\n",
       "      <td>Acari</td>\n",
       "      <td>Rio de Janeiro</td>\n",
       "      <td>RJ</td>\n",
       "      <td>27564</td>\n",
       "      <td>5131</td>\n",
       "      <td>2188</td>\n",
       "      <td>2697</td>\n",
       "      <td>2630</td>\n",
       "      <td>4810</td>\n",
       "      <td>5308</td>\n",
       "      <td>2403</td>\n",
       "      <td>2397</td>\n",
       "      <td>0</td>\n",
       "      <td>0</td>\n",
       "      <td>82</td>\n",
       "      <td>506</td>\n",
       "      <td>2040</td>\n",
       "      <td>2490</td>\n",
       "      <td>827</td>\n",
       "      <td>2506</td>\n",
       "      <td>931</td>\n",
       "      <td>588833</td>\n",
       "    </tr>\n",
       "  </tbody>\n",
       "</table>\n",
       "</div>"
      ],
      "text/plain": [
       "       nome          cidade estado  populacao  pop_ate9  pop_de10a14  pop_de15a19  pop_de20a24  pop_de25a34  pop_de35a49  pop_de50a59  pop_mais_de60  domicilios_a1  domicilios_a2  domicilios_b1  domicilios_b2  domicilios_c1  domicilios_c2  domicilios_d  domicilios_e renda_media  faturamento\n",
       "0  Abolição  Rio de Janeiro     RJ      11676      1027          483          688          800         1675         2300         1784           2919              0            145            715           1242           1093            758            92           304        2501       932515\n",
       "1     Acari  Rio de Janeiro     RJ      27564      5131         2188         2697         2630         4810         5308         2403           2397              0              0             82            506           2040           2490           827          2506         931       588833"
      ]
     },
     "execution_count": 248,
     "metadata": {},
     "output_type": "execute_result"
    }
   ],
   "source": [
    "X2 = df_rj.drop([\"codigo\",\"potencial\"], axis=1)\n",
    "X2.head(2)"
   ]
  },
  {
   "cell_type": "markdown",
   "id": "debee1d0",
   "metadata": {},
   "source": [
    "Avaliar balanceamento da var resposta."
   ]
  },
  {
   "cell_type": "code",
   "execution_count": 249,
   "id": "bff80b01",
   "metadata": {
    "ExecuteTime": {
     "end_time": "2023-02-09T01:55:52.806173Z",
     "start_time": "2023-02-09T01:55:52.794461Z"
    }
   },
   "outputs": [
    {
     "data": {
      "text/plain": [
       "Baixo    38.75\n",
       "Médio    31.25\n",
       "Alto     30.00\n",
       "Name: potencial, dtype: float64"
      ]
     },
     "execution_count": 249,
     "metadata": {},
     "output_type": "execute_result"
    }
   ],
   "source": [
    "y2.value_counts(normalize=True)*100"
   ]
  },
  {
   "cell_type": "markdown",
   "id": "eb79414a",
   "metadata": {},
   "source": [
    "Divisão entre datasets de treino e teste, separando 15% dos registros para teste.\n",
    "\n",
    "Parâmetro stratify para manter a proportção da variável parecida no treino e teste."
   ]
  },
  {
   "cell_type": "code",
   "execution_count": 250,
   "id": "af9868ba",
   "metadata": {
    "ExecuteTime": {
     "end_time": "2023-02-09T01:56:09.068911Z",
     "start_time": "2023-02-09T01:56:09.058800Z"
    }
   },
   "outputs": [],
   "source": [
    "X2_train, X2_test, y2_train, y2_test = train_test_split(X2, y2, random_state=0, test_size=0.15, stratify=y2)"
   ]
  },
  {
   "cell_type": "code",
   "execution_count": 251,
   "id": "936b7d91",
   "metadata": {
    "ExecuteTime": {
     "end_time": "2023-02-09T01:56:09.817610Z",
     "start_time": "2023-02-09T01:56:09.794797Z"
    }
   },
   "outputs": [
    {
     "name": "stdout",
     "output_type": "stream",
     "text": [
      "(136, 22)\n",
      "(24, 22)\n"
     ]
    },
    {
     "data": {
      "text/html": [
       "<div>\n",
       "<style scoped>\n",
       "    .dataframe tbody tr th:only-of-type {\n",
       "        vertical-align: middle;\n",
       "    }\n",
       "\n",
       "    .dataframe tbody tr th {\n",
       "        vertical-align: top;\n",
       "    }\n",
       "\n",
       "    .dataframe thead th {\n",
       "        text-align: right;\n",
       "    }\n",
       "</style>\n",
       "<table border=\"1\" class=\"dataframe\">\n",
       "  <thead>\n",
       "    <tr style=\"text-align: right;\">\n",
       "      <th></th>\n",
       "      <th>nome</th>\n",
       "      <th>cidade</th>\n",
       "      <th>estado</th>\n",
       "      <th>populacao</th>\n",
       "      <th>pop_ate9</th>\n",
       "      <th>pop_de10a14</th>\n",
       "      <th>pop_de15a19</th>\n",
       "      <th>pop_de20a24</th>\n",
       "      <th>pop_de25a34</th>\n",
       "      <th>pop_de35a49</th>\n",
       "      <th>pop_de50a59</th>\n",
       "      <th>pop_mais_de60</th>\n",
       "      <th>domicilios_a1</th>\n",
       "      <th>domicilios_a2</th>\n",
       "      <th>domicilios_b1</th>\n",
       "      <th>domicilios_b2</th>\n",
       "      <th>domicilios_c1</th>\n",
       "      <th>domicilios_c2</th>\n",
       "      <th>domicilios_d</th>\n",
       "      <th>domicilios_e</th>\n",
       "      <th>renda_media</th>\n",
       "      <th>faturamento</th>\n",
       "    </tr>\n",
       "  </thead>\n",
       "  <tbody>\n",
       "    <tr>\n",
       "      <th>4</th>\n",
       "      <td>Anchieta</td>\n",
       "      <td>Rio de Janeiro</td>\n",
       "      <td>RJ</td>\n",
       "      <td>57222</td>\n",
       "      <td>7677</td>\n",
       "      <td>3774</td>\n",
       "      <td>4892</td>\n",
       "      <td>4600</td>\n",
       "      <td>8660</td>\n",
       "      <td>12272</td>\n",
       "      <td>7157</td>\n",
       "      <td>8190</td>\n",
       "      <td>0</td>\n",
       "      <td>0</td>\n",
       "      <td>1089</td>\n",
       "      <td>2821</td>\n",
       "      <td>5110</td>\n",
       "      <td>5422</td>\n",
       "      <td>1073</td>\n",
       "      <td>3261</td>\n",
       "      <td>1380</td>\n",
       "      <td>553020</td>\n",
       "    </tr>\n",
       "    <tr>\n",
       "      <th>106</th>\n",
       "      <td>Penha</td>\n",
       "      <td>Rio de Janeiro</td>\n",
       "      <td>RJ</td>\n",
       "      <td>80900</td>\n",
       "      <td>9269</td>\n",
       "      <td>4616</td>\n",
       "      <td>7545</td>\n",
       "      <td>8520</td>\n",
       "      <td>12940</td>\n",
       "      <td>15618</td>\n",
       "      <td>9160</td>\n",
       "      <td>13232</td>\n",
       "      <td>0</td>\n",
       "      <td>239</td>\n",
       "      <td>2129</td>\n",
       "      <td>4629</td>\n",
       "      <td>7639</td>\n",
       "      <td>6086</td>\n",
       "      <td>1082</td>\n",
       "      <td>3563</td>\n",
       "      <td>1682</td>\n",
       "      <td>593191</td>\n",
       "    </tr>\n",
       "  </tbody>\n",
       "</table>\n",
       "</div>"
      ],
      "text/plain": [
       "         nome          cidade estado  populacao  pop_ate9  pop_de10a14  pop_de15a19  pop_de20a24  pop_de25a34  pop_de35a49  pop_de50a59  pop_mais_de60  domicilios_a1  domicilios_a2  domicilios_b1  domicilios_b2  domicilios_c1  domicilios_c2  domicilios_d  domicilios_e renda_media  faturamento\n",
       "4    Anchieta  Rio de Janeiro     RJ      57222      7677         3774         4892         4600         8660        12272         7157           8190              0              0           1089           2821           5110           5422          1073          3261        1380       553020\n",
       "106     Penha  Rio de Janeiro     RJ      80900      9269         4616         7545         8520        12940        15618         9160          13232              0            239           2129           4629           7639           6086          1082          3563        1682       593191"
      ]
     },
     "execution_count": 251,
     "metadata": {},
     "output_type": "execute_result"
    }
   ],
   "source": [
    "print(X2_train.shape)\n",
    "print(X2_test.shape)\n",
    "X2_train.head(2)"
   ]
  },
  {
   "cell_type": "markdown",
   "id": "d2379e57",
   "metadata": {},
   "source": [
    "Divisão entre datasets de treino e validação (a partir do treino), separando 15% dos registros para validação."
   ]
  },
  {
   "cell_type": "code",
   "execution_count": 257,
   "id": "97fb1d7f",
   "metadata": {
    "ExecuteTime": {
     "end_time": "2023-02-09T01:57:05.836062Z",
     "start_time": "2023-02-09T01:57:05.824856Z"
    }
   },
   "outputs": [],
   "source": [
    "X2_train, X2_val, y2_train, y2_val = train_test_split(X2_train, y2_train, random_state=0, test_size=0.15, stratify=y2_train)"
   ]
  },
  {
   "cell_type": "code",
   "execution_count": 259,
   "id": "def4e513",
   "metadata": {
    "ExecuteTime": {
     "end_time": "2023-02-09T01:57:20.110953Z",
     "start_time": "2023-02-09T01:57:20.088398Z"
    }
   },
   "outputs": [
    {
     "name": "stdout",
     "output_type": "stream",
     "text": [
      "(97, 22)\n",
      "(18, 22)\n"
     ]
    },
    {
     "data": {
      "text/html": [
       "<div>\n",
       "<style scoped>\n",
       "    .dataframe tbody tr th:only-of-type {\n",
       "        vertical-align: middle;\n",
       "    }\n",
       "\n",
       "    .dataframe tbody tr th {\n",
       "        vertical-align: top;\n",
       "    }\n",
       "\n",
       "    .dataframe thead th {\n",
       "        text-align: right;\n",
       "    }\n",
       "</style>\n",
       "<table border=\"1\" class=\"dataframe\">\n",
       "  <thead>\n",
       "    <tr style=\"text-align: right;\">\n",
       "      <th></th>\n",
       "      <th>nome</th>\n",
       "      <th>cidade</th>\n",
       "      <th>estado</th>\n",
       "      <th>populacao</th>\n",
       "      <th>pop_ate9</th>\n",
       "      <th>pop_de10a14</th>\n",
       "      <th>pop_de15a19</th>\n",
       "      <th>pop_de20a24</th>\n",
       "      <th>pop_de25a34</th>\n",
       "      <th>pop_de35a49</th>\n",
       "      <th>pop_de50a59</th>\n",
       "      <th>pop_mais_de60</th>\n",
       "      <th>domicilios_a1</th>\n",
       "      <th>domicilios_a2</th>\n",
       "      <th>domicilios_b1</th>\n",
       "      <th>domicilios_b2</th>\n",
       "      <th>domicilios_c1</th>\n",
       "      <th>domicilios_c2</th>\n",
       "      <th>domicilios_d</th>\n",
       "      <th>domicilios_e</th>\n",
       "      <th>renda_media</th>\n",
       "      <th>faturamento</th>\n",
       "    </tr>\n",
       "  </thead>\n",
       "  <tbody>\n",
       "    <tr>\n",
       "      <th>82</th>\n",
       "      <td>Leblon</td>\n",
       "      <td>Rio de Janeiro</td>\n",
       "      <td>RJ</td>\n",
       "      <td>47342</td>\n",
       "      <td>3134</td>\n",
       "      <td>1380</td>\n",
       "      <td>2131</td>\n",
       "      <td>2390</td>\n",
       "      <td>6177</td>\n",
       "      <td>9519</td>\n",
       "      <td>7181</td>\n",
       "      <td>15430</td>\n",
       "      <td>5423</td>\n",
       "      <td>3532</td>\n",
       "      <td>5342</td>\n",
       "      <td>1863</td>\n",
       "      <td>1890</td>\n",
       "      <td>917</td>\n",
       "      <td>217</td>\n",
       "      <td>1595</td>\n",
       "      <td>14738</td>\n",
       "      <td>2119774</td>\n",
       "    </tr>\n",
       "    <tr>\n",
       "      <th>6</th>\n",
       "      <td>Anil</td>\n",
       "      <td>Rio de Janeiro</td>\n",
       "      <td>RJ</td>\n",
       "      <td>24855</td>\n",
       "      <td>2427</td>\n",
       "      <td>1227</td>\n",
       "      <td>1777</td>\n",
       "      <td>1804</td>\n",
       "      <td>3730</td>\n",
       "      <td>5573</td>\n",
       "      <td>3556</td>\n",
       "      <td>4761</td>\n",
       "      <td>355</td>\n",
       "      <td>759</td>\n",
       "      <td>1771</td>\n",
       "      <td>1863</td>\n",
       "      <td>1902</td>\n",
       "      <td>1155</td>\n",
       "      <td>326</td>\n",
       "      <td>424</td>\n",
       "      <td>NaN</td>\n",
       "      <td>1092081</td>\n",
       "    </tr>\n",
       "  </tbody>\n",
       "</table>\n",
       "</div>"
      ],
      "text/plain": [
       "      nome          cidade estado  populacao  pop_ate9  pop_de10a14  pop_de15a19  pop_de20a24  pop_de25a34  pop_de35a49  pop_de50a59  pop_mais_de60  domicilios_a1  domicilios_a2  domicilios_b1  domicilios_b2  domicilios_c1  domicilios_c2  domicilios_d  domicilios_e renda_media  faturamento\n",
       "82  Leblon  Rio de Janeiro     RJ      47342      3134         1380         2131         2390         6177         9519         7181          15430           5423           3532           5342           1863           1890            917           217          1595       14738      2119774\n",
       "6     Anil  Rio de Janeiro     RJ      24855      2427         1227         1777         1804         3730         5573         3556           4761            355            759           1771           1863           1902           1155           326           424         NaN      1092081"
      ]
     },
     "execution_count": 259,
     "metadata": {},
     "output_type": "execute_result"
    }
   ],
   "source": [
    "print(X2_train.shape)\n",
    "print(X2_val.shape)\n",
    "X2_train.head(2)"
   ]
  },
  {
   "cell_type": "markdown",
   "id": "88d060b3",
   "metadata": {},
   "source": [
    "## Implementação de Modelo Baseline"
   ]
  },
  {
   "cell_type": "markdown",
   "id": "706475da",
   "metadata": {},
   "source": [
    "Implementar KNN classifier:    -> descrever o algoritmo.."
   ]
  },
  {
   "cell_type": "markdown",
   "id": "59a35d34",
   "metadata": {},
   "source": [
    "Manter apenas features numéricas, para respeitar a premissa do KNN de que a proximidade entre duas evidências de um fenômeno observado pode ser representada por uma medida de distância."
   ]
  },
  {
   "cell_type": "code",
   "execution_count": 260,
   "id": "480c1db6",
   "metadata": {
    "ExecuteTime": {
     "end_time": "2023-02-09T01:57:34.251424Z",
     "start_time": "2023-02-09T01:57:34.232423Z"
    }
   },
   "outputs": [
    {
     "data": {
      "text/html": [
       "<div>\n",
       "<style scoped>\n",
       "    .dataframe tbody tr th:only-of-type {\n",
       "        vertical-align: middle;\n",
       "    }\n",
       "\n",
       "    .dataframe tbody tr th {\n",
       "        vertical-align: top;\n",
       "    }\n",
       "\n",
       "    .dataframe thead th {\n",
       "        text-align: right;\n",
       "    }\n",
       "</style>\n",
       "<table border=\"1\" class=\"dataframe\">\n",
       "  <thead>\n",
       "    <tr style=\"text-align: right;\">\n",
       "      <th></th>\n",
       "      <th>populacao</th>\n",
       "      <th>pop_ate9</th>\n",
       "      <th>pop_de10a14</th>\n",
       "      <th>pop_de15a19</th>\n",
       "      <th>pop_de20a24</th>\n",
       "      <th>pop_de25a34</th>\n",
       "      <th>pop_de35a49</th>\n",
       "      <th>pop_de50a59</th>\n",
       "      <th>pop_mais_de60</th>\n",
       "      <th>domicilios_a1</th>\n",
       "      <th>domicilios_a2</th>\n",
       "      <th>domicilios_b1</th>\n",
       "      <th>domicilios_b2</th>\n",
       "      <th>domicilios_c1</th>\n",
       "      <th>domicilios_c2</th>\n",
       "      <th>domicilios_d</th>\n",
       "      <th>domicilios_e</th>\n",
       "      <th>faturamento</th>\n",
       "    </tr>\n",
       "  </thead>\n",
       "  <tbody>\n",
       "    <tr>\n",
       "      <th>82</th>\n",
       "      <td>47342</td>\n",
       "      <td>3134</td>\n",
       "      <td>1380</td>\n",
       "      <td>2131</td>\n",
       "      <td>2390</td>\n",
       "      <td>6177</td>\n",
       "      <td>9519</td>\n",
       "      <td>7181</td>\n",
       "      <td>15430</td>\n",
       "      <td>5423</td>\n",
       "      <td>3532</td>\n",
       "      <td>5342</td>\n",
       "      <td>1863</td>\n",
       "      <td>1890</td>\n",
       "      <td>917</td>\n",
       "      <td>217</td>\n",
       "      <td>1595</td>\n",
       "      <td>2119774</td>\n",
       "    </tr>\n",
       "    <tr>\n",
       "      <th>6</th>\n",
       "      <td>24855</td>\n",
       "      <td>2427</td>\n",
       "      <td>1227</td>\n",
       "      <td>1777</td>\n",
       "      <td>1804</td>\n",
       "      <td>3730</td>\n",
       "      <td>5573</td>\n",
       "      <td>3556</td>\n",
       "      <td>4761</td>\n",
       "      <td>355</td>\n",
       "      <td>759</td>\n",
       "      <td>1771</td>\n",
       "      <td>1863</td>\n",
       "      <td>1902</td>\n",
       "      <td>1155</td>\n",
       "      <td>326</td>\n",
       "      <td>424</td>\n",
       "      <td>1092081</td>\n",
       "    </tr>\n",
       "  </tbody>\n",
       "</table>\n",
       "</div>"
      ],
      "text/plain": [
       "    populacao  pop_ate9  pop_de10a14  pop_de15a19  pop_de20a24  pop_de25a34  pop_de35a49  pop_de50a59  pop_mais_de60  domicilios_a1  domicilios_a2  domicilios_b1  domicilios_b2  domicilios_c1  domicilios_c2  domicilios_d  domicilios_e  faturamento\n",
       "82      47342      3134         1380         2131         2390         6177         9519         7181          15430           5423           3532           5342           1863           1890            917           217          1595      2119774\n",
       "6       24855      2427         1227         1777         1804         3730         5573         3556           4761            355            759           1771           1863           1902           1155           326           424      1092081"
      ]
     },
     "execution_count": 260,
     "metadata": {},
     "output_type": "execute_result"
    }
   ],
   "source": [
    "X2_train = X2_train.select_dtypes(include=['int64', 'float64'])\n",
    "X2_val = X2_val.select_dtypes(include=['int64', 'float64'])\n",
    "X2_train.head(2)"
   ]
  },
  {
   "cell_type": "code",
   "execution_count": 271,
   "id": "91b5082b",
   "metadata": {
    "ExecuteTime": {
     "end_time": "2023-02-09T02:01:40.710356Z",
     "start_time": "2023-02-09T02:01:40.690382Z"
    }
   },
   "outputs": [
    {
     "data": {
      "text/html": [
       "<div>\n",
       "<style scoped>\n",
       "    .dataframe tbody tr th:only-of-type {\n",
       "        vertical-align: middle;\n",
       "    }\n",
       "\n",
       "    .dataframe tbody tr th {\n",
       "        vertical-align: top;\n",
       "    }\n",
       "\n",
       "    .dataframe thead th {\n",
       "        text-align: right;\n",
       "    }\n",
       "</style>\n",
       "<table border=\"1\" class=\"dataframe\">\n",
       "  <thead>\n",
       "    <tr style=\"text-align: right;\">\n",
       "      <th></th>\n",
       "      <th>populacao</th>\n",
       "      <th>pop_ate9</th>\n",
       "      <th>pop_de10a14</th>\n",
       "      <th>pop_de15a19</th>\n",
       "      <th>pop_de20a24</th>\n",
       "      <th>pop_de25a34</th>\n",
       "      <th>pop_de35a49</th>\n",
       "      <th>pop_de50a59</th>\n",
       "      <th>pop_mais_de60</th>\n",
       "      <th>domicilios_a1</th>\n",
       "      <th>domicilios_a2</th>\n",
       "      <th>domicilios_b1</th>\n",
       "      <th>domicilios_b2</th>\n",
       "      <th>domicilios_c1</th>\n",
       "      <th>domicilios_c2</th>\n",
       "      <th>domicilios_d</th>\n",
       "      <th>domicilios_e</th>\n",
       "      <th>faturamento</th>\n",
       "    </tr>\n",
       "  </thead>\n",
       "  <tbody>\n",
       "    <tr>\n",
       "      <th>128</th>\n",
       "      <td>42081</td>\n",
       "      <td>4341</td>\n",
       "      <td>2130</td>\n",
       "      <td>2887</td>\n",
       "      <td>3499</td>\n",
       "      <td>7584</td>\n",
       "      <td>9814</td>\n",
       "      <td>5201</td>\n",
       "      <td>6625</td>\n",
       "      <td>150</td>\n",
       "      <td>453</td>\n",
       "      <td>2290</td>\n",
       "      <td>2790</td>\n",
       "      <td>4882</td>\n",
       "      <td>3508</td>\n",
       "      <td>615</td>\n",
       "      <td>1565</td>\n",
       "      <td>703465</td>\n",
       "    </tr>\n",
       "    <tr>\n",
       "      <th>99</th>\n",
       "      <td>3270</td>\n",
       "      <td>369</td>\n",
       "      <td>158</td>\n",
       "      <td>229</td>\n",
       "      <td>195</td>\n",
       "      <td>389</td>\n",
       "      <td>566</td>\n",
       "      <td>492</td>\n",
       "      <td>872</td>\n",
       "      <td>0</td>\n",
       "      <td>10</td>\n",
       "      <td>115</td>\n",
       "      <td>244</td>\n",
       "      <td>380</td>\n",
       "      <td>329</td>\n",
       "      <td>65</td>\n",
       "      <td>108</td>\n",
       "      <td>854818</td>\n",
       "    </tr>\n",
       "    <tr>\n",
       "      <th>118</th>\n",
       "      <td>84538</td>\n",
       "      <td>10102</td>\n",
       "      <td>4229</td>\n",
       "      <td>5804</td>\n",
       "      <td>6423</td>\n",
       "      <td>14960</td>\n",
       "      <td>20404</td>\n",
       "      <td>10651</td>\n",
       "      <td>11965</td>\n",
       "      <td>2815</td>\n",
       "      <td>4307</td>\n",
       "      <td>7544</td>\n",
       "      <td>4011</td>\n",
       "      <td>4747</td>\n",
       "      <td>3339</td>\n",
       "      <td>800</td>\n",
       "      <td>2484</td>\n",
       "      <td>1596252</td>\n",
       "    </tr>\n",
       "    <tr>\n",
       "      <th>93</th>\n",
       "      <td>51234</td>\n",
       "      <td>3371</td>\n",
       "      <td>1719</td>\n",
       "      <td>2751</td>\n",
       "      <td>3246</td>\n",
       "      <td>6801</td>\n",
       "      <td>9850</td>\n",
       "      <td>8170</td>\n",
       "      <td>15326</td>\n",
       "      <td>510</td>\n",
       "      <td>1873</td>\n",
       "      <td>5463</td>\n",
       "      <td>5089</td>\n",
       "      <td>3911</td>\n",
       "      <td>1570</td>\n",
       "      <td>131</td>\n",
       "      <td>1356</td>\n",
       "      <td>1626856</td>\n",
       "    </tr>\n",
       "    <tr>\n",
       "      <th>140</th>\n",
       "      <td>30403</td>\n",
       "      <td>4008</td>\n",
       "      <td>1783</td>\n",
       "      <td>2398</td>\n",
       "      <td>2442</td>\n",
       "      <td>4930</td>\n",
       "      <td>6505</td>\n",
       "      <td>3601</td>\n",
       "      <td>4736</td>\n",
       "      <td>0</td>\n",
       "      <td>138</td>\n",
       "      <td>1081</td>\n",
       "      <td>1651</td>\n",
       "      <td>2673</td>\n",
       "      <td>2467</td>\n",
       "      <td>436</td>\n",
       "      <td>1962</td>\n",
       "      <td>752629</td>\n",
       "    </tr>\n",
       "  </tbody>\n",
       "</table>\n",
       "</div>"
      ],
      "text/plain": [
       "     populacao  pop_ate9  pop_de10a14  pop_de15a19  pop_de20a24  pop_de25a34  pop_de35a49  pop_de50a59  pop_mais_de60  domicilios_a1  domicilios_a2  domicilios_b1  domicilios_b2  domicilios_c1  domicilios_c2  domicilios_d  domicilios_e  faturamento\n",
       "128      42081      4341         2130         2887         3499         7584         9814         5201           6625            150            453           2290           2790           4882           3508           615          1565       703465\n",
       "99        3270       369          158          229          195          389          566          492            872              0             10            115            244            380            329            65           108       854818\n",
       "118      84538     10102         4229         5804         6423        14960        20404        10651          11965           2815           4307           7544           4011           4747           3339           800          2484      1596252\n",
       "93       51234      3371         1719         2751         3246         6801         9850         8170          15326            510           1873           5463           5089           3911           1570           131          1356      1626856\n",
       "140      30403      4008         1783         2398         2442         4930         6505         3601           4736              0            138           1081           1651           2673           2467           436          1962       752629"
      ]
     },
     "execution_count": 271,
     "metadata": {},
     "output_type": "execute_result"
    }
   ],
   "source": [
    "X2_val.head()"
   ]
  },
  {
   "cell_type": "markdown",
   "id": "7d4c7783",
   "metadata": {},
   "source": [
    "Instanciar um KNN Classifier, treinar com os dados de treino, e realizar predições contra os dados de validação."
   ]
  },
  {
   "cell_type": "code",
   "execution_count": 272,
   "id": "41e571a5",
   "metadata": {
    "ExecuteTime": {
     "end_time": "2023-02-09T02:03:01.453894Z",
     "start_time": "2023-02-09T02:03:01.439639Z"
    }
   },
   "outputs": [],
   "source": [
    "knn_cla = KNeighborsClassifier(n_neighbors=3)\n",
    "knn_cla.fit(X2_train, y2_train)\n",
    "knn_cla_yhat = knn_cla.predict(X2_val)"
   ]
  },
  {
   "cell_type": "code",
   "execution_count": 274,
   "id": "399b9358",
   "metadata": {
    "ExecuteTime": {
     "end_time": "2023-02-09T02:03:09.759758Z",
     "start_time": "2023-02-09T02:03:09.750485Z"
    }
   },
   "outputs": [
    {
     "data": {
      "text/plain": [
       "array(['Alto', 'Baixo', 'Alto'], dtype=object)"
      ]
     },
     "execution_count": 274,
     "metadata": {},
     "output_type": "execute_result"
    }
   ],
   "source": [
    "knn_cla_yhat[:3]"
   ]
  },
  {
   "cell_type": "markdown",
   "id": "8c176353",
   "metadata": {},
   "source": [
    "A métrica de performance será a acurácia média, podendo ser utilizada aqui porque o dataset é balanceado. \n",
    "A acurácia mede quantas predições o modelo acertou, de todas as previsões realizadas."
   ]
  },
  {
   "cell_type": "code",
   "execution_count": 322,
   "id": "f79d0868",
   "metadata": {
    "ExecuteTime": {
     "end_time": "2023-02-09T02:15:54.811961Z",
     "start_time": "2023-02-09T02:15:54.796892Z"
    }
   },
   "outputs": [
    {
     "name": "stdout",
     "output_type": "stream",
     "text": [
      "Acurácia com dados de Validação: 77.8 %\n"
     ]
    }
   ],
   "source": [
    "print(f\"Acurácia com dados de Validação: {round(knn_cla.score(X2_val, y2_val) ,3 )*100 } %\")\n",
    "#Here, the score is 0.83, which indicates a relatively good model fit."
   ]
  },
  {
   "cell_type": "markdown",
   "id": "4ab35821",
   "metadata": {
    "heading_collapsed": true
   },
   "source": [
    "# Análise 3 - Segmentação de perfis de aderência em SP"
   ]
  },
  {
   "cell_type": "markdown",
   "id": "130d4800",
   "metadata": {
    "hidden": true
   },
   "source": [
    "Análise 3 - Segmentar os bairros de São Paulo de acordo com o perfil de renda e idade, identificando os com maior aderência ao público alvo."
   ]
  }
 ],
 "metadata": {
  "kernelspec": {
   "display_name": "Python 3 (ipykernel)",
   "language": "python",
   "name": "python3"
  },
  "language_info": {
   "codemirror_mode": {
    "name": "ipython",
    "version": 3
   },
   "file_extension": ".py",
   "mimetype": "text/x-python",
   "name": "python",
   "nbconvert_exporter": "python",
   "pygments_lexer": "ipython3",
   "version": "3.8.12"
  },
  "toc": {
   "base_numbering": 1,
   "nav_menu": {},
   "number_sections": true,
   "sideBar": true,
   "skip_h1_title": false,
   "title_cell": "Table of Contents",
   "title_sidebar": "Contents",
   "toc_cell": false,
   "toc_position": {},
   "toc_section_display": true,
   "toc_window_display": false
  }
 },
 "nbformat": 4,
 "nbformat_minor": 5
}
