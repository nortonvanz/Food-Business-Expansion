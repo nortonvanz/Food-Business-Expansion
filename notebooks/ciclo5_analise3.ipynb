{
 "cells": [
  {
   "cell_type": "markdown",
   "id": "991009cd",
   "metadata": {},
   "source": [
    "# 1 -  Planejamento da Solução"
   ]
  },
  {
   "cell_type": "markdown",
   "id": "c7f8e9a1",
   "metadata": {
    "heading_collapsed": true
   },
   "source": [
    "## Entendimento de Negócio"
   ]
  },
  {
   "cell_type": "markdown",
   "id": "5e9394b4",
   "metadata": {
    "hidden": true
   },
   "source": [
    "**Qual é o problema de negócio?**\n",
    "\n",
    "- Empresa alimentícia situada no RJ, deseja abrir filiais na cidade de São Paulo. Para isso, precisa de 3 análises:\n",
    "    - 1 - Estimar faturamento que uma loja teria em cada um dos bairros de São Paulo (regressão, neste caso sem séries temporais).\n",
    "    - 2 - Classificar o potencial dos bairros de São Paulo em alto, médio ou baixo (classificação multiclasse).\n",
    "    - 3 - Segmentar os bairros de São Paulo de acordo com o perfil de renda e idade, identificando os com maior aderência ao público alvo.\n",
    "    \n",
    "- Público alvo: adultos de 25 a 50 anos, das classes A (rendas A1 e A2) e B (rendas B1 e B2). \n",
    "\n",
    "**Saída**\n",
    "\n",
    "- Prototipagem técnica da solução: https://docs.google.com/spreadsheets/d/17lxCBRLPEuNCO25BimVFRE3Tms-314WSTpJ1xgEIf38/edit#gid=0\n",
    "\n",
    "- O que será entregue, efetivamente? / Onde o time de negócio quer ver?\n",
    "    - Documento no formato doc, pdf ou ppt, voltado ao negócio, apresentando um racional de como os dados foram analisados. Detalhar com gráficos, tabelas, e descrever conclusões.\n",
    "    - Responder: Dada a natureza do problema apresentado, que outro dado externo (fontes públicas ou privadas) poderia ser utilizado para agregar mais valor ao resultado? Por que?\n",
    "    \n",
    "**Entrada**\n",
    "- Fontes de dados:\n",
    "    - Dataset contendo faturamento e potencial dos bairros do Rio de Janeiro do cliente, bem como dados sociodemográficos do bairros do Rio de Janeiro e São Paulo.\n",
    "\n",
    "- Ferramentas:\n",
    "    - Python 3.8.12, Jupyter Notebook, Git, Github.\n",
    "\n",
    "**Processamento**\n",
    "- Tipo de problema: análise exploratória, regressão, classificação e clusterização.\n",
    "- Metodologia: CRISP-DM, metodologia ágil (iterativa e incremental) para desenvolvimento de projetos de ciência de dados.\n"
   ]
  },
  {
   "cell_type": "markdown",
   "id": "7fc498b7",
   "metadata": {},
   "source": [
    "## Implementado nesta Sprint"
   ]
  },
  {
   "cell_type": "markdown",
   "id": "5e8ff47f",
   "metadata": {},
   "source": [
    "**Ciclo 5**\n",
    "\n",
    "Desenvolvimento da Análise 3 (clusterização):\n",
    "\n",
    "- Seleção de Features.\n",
    "- Novo K-Means + comparação com o baseline do ciclo 1.\n",
    "- Modelagem de dados (data preparation).\n",
    "- Análise de Silhueta do K-Means e considerações.\n",
    "- Criação de novo perfil de clusters, identificando os bairros de SP com maior aderência ao público alvo, e gerando relatório sinalizando quais são, jundamente com as análises 1 e 2."
   ]
  },
  {
   "cell_type": "markdown",
   "id": "b47be93d",
   "metadata": {
    "heading_collapsed": true
   },
   "source": [
    "# 2 - Importações"
   ]
  },
  {
   "cell_type": "markdown",
   "id": "4ff6200e",
   "metadata": {
    "heading_collapsed": true,
    "hidden": true
   },
   "source": [
    "## Bibliotecas"
   ]
  },
  {
   "cell_type": "code",
   "execution_count": 315,
   "id": "4103e4fa",
   "metadata": {
    "ExecuteTime": {
     "end_time": "2023-02-13T04:33:04.000011Z",
     "start_time": "2023-02-13T04:33:03.990951Z"
    },
    "hidden": true
   },
   "outputs": [],
   "source": [
    "import pandas                      as pd \n",
    "import seaborn                     as sns\n",
    "import numpy                       as np\n",
    "import sweetviz                    as sv\n",
    "import umap.umap_                  as umap\n",
    "import inflection\n",
    "import warnings\n",
    "\n",
    "from IPython.core.display          import HTML\n",
    "from matplotlib                    import pyplot as plt\n",
    "from tabulate                      import tabulate\n",
    "from matplotlib.ticker             import FuncFormatter\n",
    "from IPython.display               import Image\n",
    "\n",
    "from sklearn.cluster               import KMeans\n",
    "from sklearn.preprocessing         import MinMaxScaler\n",
    "from yellowbrick.cluster           import KElbowVisualizer, SilhouetteVisualizer\n",
    "from sklearn.metrics               import silhouette_score"
   ]
  },
  {
   "cell_type": "markdown",
   "id": "6a652348",
   "metadata": {
    "heading_collapsed": true,
    "hidden": true
   },
   "source": [
    "## Funções Auxiliares"
   ]
  },
  {
   "cell_type": "code",
   "execution_count": 2,
   "id": "b44e4067",
   "metadata": {
    "ExecuteTime": {
     "end_time": "2023-02-13T03:11:46.627868Z",
     "start_time": "2023-02-13T03:11:46.578386Z"
    },
    "hidden": true,
    "scrolled": true
   },
   "outputs": [
    {
     "data": {
      "text/html": [
       "<style>.container { width:100% !important; }</style>"
      ],
      "text/plain": [
       "<IPython.core.display.HTML object>"
      ]
     },
     "metadata": {},
     "output_type": "display_data"
    }
   ],
   "source": [
    "def jupyter_settings():\n",
    "    \"\"\" Otimiza configurações gerais, padronizando tamanhos de plots, etc \"\"\"\n",
    "    %matplotlib inline\n",
    "    plt.style.use( 'bmh' )\n",
    "    plt.rcParams['figure.figsize'] = [20, 12]\n",
    "    plt.rcParams['font.size'] = 24\n",
    "    display( HTML( '<style>.container { width:100% !important; }</style>') )\n",
    "    pd.set_option('display.max_columns', 30)\n",
    "    pd.set_option('display.max_rows', 30)\n",
    "    pd.set_option('display.expand_frame_repr', False )\n",
    "    pd.set_option('display.float_format', lambda x: '%.4f' % x)\n",
    "    pd.set_option('max_colwidth', None)\n",
    "    sns.set()\n",
    "jupyter_settings()"
   ]
  },
  {
   "cell_type": "markdown",
   "id": "9e41fef4",
   "metadata": {
    "heading_collapsed": true
   },
   "source": [
    "# 3 - Análise 3: Segmentação por perfil de renda e idade em SP"
   ]
  },
  {
   "cell_type": "markdown",
   "id": "c40226c8",
   "metadata": {
    "hidden": true
   },
   "source": [
    "Análise 3 - Segmentar os bairros de São Paulo de acordo com o perfil de renda e idade, identificando os com maior aderência ao público alvo."
   ]
  },
  {
   "cell_type": "markdown",
   "id": "c87d00be",
   "metadata": {
    "hidden": true
   },
   "source": [
    "O conteúdo desta próxima seção refere-se ao ciclo 1. Não será alterado, para comparação de desempenho contra as melhorias que serão implementadas neste ciclo 5.\n",
    "\n",
    "Agora, serão implementados os itens de melhoria citados no ciclo 1, visando aumentar a métrica SS da clusterização. O primeiro passo será a filtragem de variáveis, a seguir."
   ]
  },
  {
   "cell_type": "markdown",
   "id": "9ccc9ebd",
   "metadata": {
    "heading_collapsed": true,
    "hidden": true
   },
   "source": [
    "##  Modelo Baseline (Ciclo 1)"
   ]
  },
  {
   "cell_type": "markdown",
   "id": "2f6addf7",
   "metadata": {
    "hidden": true
   },
   "source": [
    "Trata-se portanto de um problema de clusterização (não supervisionado). \n",
    "\n",
    "- Nesta tarefa, não há divisão do dataset, sendo passados todos os dados ao modelo, que encontra grupos (clusters) a partir deles.\n",
    "- Diferentemente das análises anteriores, aqui será utilizado o dataset df_sp, a fim de realizar a segmentação destes bairros.\n",
    "- Diferentes modelos serão utilizados, sendo neste primeiro ciclo escolhido o K-Means, disponível na biblioteca scikit-learn."
   ]
  },
  {
   "cell_type": "markdown",
   "id": "f8b852de",
   "metadata": {
    "heading_collapsed": true,
    "hidden": true
   },
   "source": [
    "### K-Means"
   ]
  },
  {
   "cell_type": "markdown",
   "id": "c5a6a4ef",
   "metadata": {
    "hidden": true
   },
   "source": [
    "O K-Means (K-médias) possui este nome, porque utiliza centróides, que são o ponto central (médio) do cluster.\n",
    "\n",
    "Funcionamento: \n",
    "- A partir do número de K informado, o K-means criará k centroides aleatoriamente no espaço de dados, que serão os grupos. \n",
    "- Serão então calculadas as distâncias de todos os pontos em relação a cada um dos centroides.\n",
    "- Cada ponto assumirá o rótulo do centroide mais próximo a ele, passando a pertencer a aquele grupo.\n",
    "- Ao fim do processo, reposiciona-se o centróide no centro do cluster, recalcula-se as distênaicas e atribuição dos pontos aos grupos.\n",
    "- Quando o centroide convergir e os pontos pararem de ser atribuídos a outro cluster, o agrupamento está concluído.\n",
    "\n",
    "Características:\n",
    "- O número de K (grupos) é uma parâmetro.\n",
    "- Serão gerados sempre clusters convexos, pelo fato de utilizar o raio para calcular as distâncias.\n",
    "- Assume sempre que os cluster possuem o mesmo diâmetro.\n",
    "- Como a inicialização dos centróides é aleatória, pode formar grupos distintos conforme a sua posição inicial. Isto pode ser atenuado pelo parâmetro \"n_init\", que define o número de inicializações aleatórias, e retorna o melhor resultado.\n",
    "- Necessita que os dados estejam na mesma escala (ou muito próxima), evitando a distorção dos cálculos de distâncias.\n",
    "- É sensível a outliers, demandando remoção ou tratativa destes.\n",
    "\n"
   ]
  },
  {
   "cell_type": "markdown",
   "id": "fb52e664",
   "metadata": {
    "hidden": true
   },
   "source": [
    "Clusterizar apenas perfil de renda e idade do público alvo da empresa."
   ]
  },
  {
   "cell_type": "code",
   "execution_count": 55,
   "id": "7a98aa7a",
   "metadata": {
    "ExecuteTime": {
     "end_time": "2023-02-10T10:09:43.708982Z",
     "start_time": "2023-02-10T10:09:43.685333Z"
    },
    "hidden": true
   },
   "outputs": [
    {
     "data": {
      "text/html": [
       "<div>\n",
       "<style scoped>\n",
       "    .dataframe tbody tr th:only-of-type {\n",
       "        vertical-align: middle;\n",
       "    }\n",
       "\n",
       "    .dataframe tbody tr th {\n",
       "        vertical-align: top;\n",
       "    }\n",
       "\n",
       "    .dataframe thead th {\n",
       "        text-align: right;\n",
       "    }\n",
       "</style>\n",
       "<table border=\"1\" class=\"dataframe\">\n",
       "  <thead>\n",
       "    <tr style=\"text-align: right;\">\n",
       "      <th></th>\n",
       "      <th>codigo</th>\n",
       "      <th>bairro</th>\n",
       "      <th>cidade</th>\n",
       "      <th>estado</th>\n",
       "      <th>populacao</th>\n",
       "      <th>pop_ate9</th>\n",
       "      <th>pop_de10a14</th>\n",
       "      <th>pop_de15a19</th>\n",
       "      <th>pop_de20a24</th>\n",
       "      <th>pop_de25a34</th>\n",
       "      <th>pop_de35a49</th>\n",
       "      <th>pop_de50a59</th>\n",
       "      <th>pop_mais_de60</th>\n",
       "      <th>domicilios_a1</th>\n",
       "      <th>domicilios_a2</th>\n",
       "      <th>domicilios_b1</th>\n",
       "      <th>domicilios_b2</th>\n",
       "      <th>domicilios_c1</th>\n",
       "      <th>domicilios_c2</th>\n",
       "      <th>domicilios_d</th>\n",
       "      <th>domicilios_e</th>\n",
       "      <th>renda_media</th>\n",
       "      <th>faturamento</th>\n",
       "      <th>potencial</th>\n",
       "    </tr>\n",
       "  </thead>\n",
       "  <tbody>\n",
       "    <tr>\n",
       "      <th>160</th>\n",
       "      <td>355030251</td>\n",
       "      <td>A. E. Carvalho</td>\n",
       "      <td>São Paulo</td>\n",
       "      <td>SP</td>\n",
       "      <td>94034</td>\n",
       "      <td>12668</td>\n",
       "      <td>6853</td>\n",
       "      <td>9836</td>\n",
       "      <td>7487</td>\n",
       "      <td>14535</td>\n",
       "      <td>21549</td>\n",
       "      <td>10598</td>\n",
       "      <td>10508</td>\n",
       "      <td>0</td>\n",
       "      <td>253</td>\n",
       "      <td>2197</td>\n",
       "      <td>4368</td>\n",
       "      <td>6681</td>\n",
       "      <td>7011</td>\n",
       "      <td>2247</td>\n",
       "      <td>5670</td>\n",
       "      <td>1501</td>\n",
       "      <td>NaN</td>\n",
       "      <td>NaN</td>\n",
       "    </tr>\n",
       "    <tr>\n",
       "      <th>161</th>\n",
       "      <td>35503020</td>\n",
       "      <td>Aclimação</td>\n",
       "      <td>São Paulo</td>\n",
       "      <td>SP</td>\n",
       "      <td>32791</td>\n",
       "      <td>2297</td>\n",
       "      <td>1017</td>\n",
       "      <td>2096</td>\n",
       "      <td>2197</td>\n",
       "      <td>5341</td>\n",
       "      <td>7281</td>\n",
       "      <td>4917</td>\n",
       "      <td>7645</td>\n",
       "      <td>1413</td>\n",
       "      <td>1734</td>\n",
       "      <td>3704</td>\n",
       "      <td>2351</td>\n",
       "      <td>1946</td>\n",
       "      <td>827</td>\n",
       "      <td>291</td>\n",
       "      <td>1617</td>\n",
       "      <td>5920</td>\n",
       "      <td>NaN</td>\n",
       "      <td>NaN</td>\n",
       "    </tr>\n",
       "  </tbody>\n",
       "</table>\n",
       "</div>"
      ],
      "text/plain": [
       "        codigo          bairro     cidade estado  populacao  pop_ate9  pop_de10a14  pop_de15a19  pop_de20a24  pop_de25a34  pop_de35a49  pop_de50a59  pop_mais_de60  domicilios_a1  domicilios_a2  domicilios_b1  domicilios_b2  domicilios_c1  domicilios_c2  domicilios_d  domicilios_e renda_media  faturamento potencial\n",
       "160  355030251  A. E. Carvalho  São Paulo     SP      94034     12668         6853         9836         7487        14535        21549        10598          10508              0            253           2197           4368           6681           7011          2247          5670        1501          NaN       NaN\n",
       "161   35503020       Aclimação  São Paulo     SP      32791      2297         1017         2096         2197         5341         7281         4917           7645           1413           1734           3704           2351           1946            827           291          1617        5920          NaN       NaN"
      ]
     },
     "execution_count": 55,
     "metadata": {},
     "output_type": "execute_result"
    }
   ],
   "source": [
    "df_sp.head(2)"
   ]
  },
  {
   "cell_type": "code",
   "execution_count": 57,
   "id": "59d94136",
   "metadata": {
    "ExecuteTime": {
     "end_time": "2023-02-10T10:09:52.368075Z",
     "start_time": "2023-02-10T10:09:52.350544Z"
    },
    "hidden": true
   },
   "outputs": [
    {
     "name": "stdout",
     "output_type": "stream",
     "text": [
      "(296, 6)\n"
     ]
    },
    {
     "data": {
      "text/html": [
       "<div>\n",
       "<style scoped>\n",
       "    .dataframe tbody tr th:only-of-type {\n",
       "        vertical-align: middle;\n",
       "    }\n",
       "\n",
       "    .dataframe tbody tr th {\n",
       "        vertical-align: top;\n",
       "    }\n",
       "\n",
       "    .dataframe thead th {\n",
       "        text-align: right;\n",
       "    }\n",
       "</style>\n",
       "<table border=\"1\" class=\"dataframe\">\n",
       "  <thead>\n",
       "    <tr style=\"text-align: right;\">\n",
       "      <th></th>\n",
       "      <th>pop_de25a34</th>\n",
       "      <th>pop_de35a49</th>\n",
       "      <th>domicilios_a1</th>\n",
       "      <th>domicilios_a2</th>\n",
       "      <th>domicilios_b2</th>\n",
       "      <th>domicilios_b2</th>\n",
       "    </tr>\n",
       "  </thead>\n",
       "  <tbody>\n",
       "    <tr>\n",
       "      <th>160</th>\n",
       "      <td>14535</td>\n",
       "      <td>21549</td>\n",
       "      <td>0</td>\n",
       "      <td>253</td>\n",
       "      <td>4368</td>\n",
       "      <td>4368</td>\n",
       "    </tr>\n",
       "  </tbody>\n",
       "</table>\n",
       "</div>"
      ],
      "text/plain": [
       "     pop_de25a34  pop_de35a49  domicilios_a1  domicilios_a2  domicilios_b2  domicilios_b2\n",
       "160        14535        21549              0            253           4368           4368"
      ]
     },
     "execution_count": 57,
     "metadata": {},
     "output_type": "execute_result"
    }
   ],
   "source": [
    "df_seg = df_sp[[\"pop_de25a34\",\"pop_de35a49\",\"domicilios_a1\",\"domicilios_a2\",\"domicilios_b2\",\"domicilios_b2\"]]\n",
    "print(df_seg.shape)\n",
    "df_seg.head(1)"
   ]
  },
  {
   "cell_type": "markdown",
   "id": "100c066c",
   "metadata": {
    "hidden": true
   },
   "source": [
    "Instanciar o KMeans, treinar o modelo, e avaliar sua performance com a biblioteca yellowbrick.\n",
    "- Serão avaliados cenários de 3 a 6 grupos, pelo entendimento que isto otimiza os esforços do time de negócio em suas ações de marketing direcionado."
   ]
  },
  {
   "cell_type": "code",
   "execution_count": 58,
   "id": "809344eb",
   "metadata": {
    "ExecuteTime": {
     "end_time": "2023-02-10T10:10:05.788259Z",
     "start_time": "2023-02-10T10:10:05.781341Z"
    },
    "hidden": true
   },
   "outputs": [],
   "source": [
    "clusters = [3, 4, 5, 6]"
   ]
  },
  {
   "cell_type": "code",
   "execution_count": 65,
   "id": "e8494e8e",
   "metadata": {
    "ExecuteTime": {
     "end_time": "2023-02-10T10:11:17.583724Z",
     "start_time": "2023-02-10T10:11:16.853134Z"
    },
    "hidden": true
   },
   "outputs": [
    {
     "data": {
      "image/png": "[encoded data removed]",
      "text/plain": [
       "<Figure size 600x300 with 1 Axes>"
      ]
     },
     "metadata": {},
     "output_type": "display_data"
    }
   ],
   "source": [
    "plt.figure(figsize = (6,3));\n",
    "kmeans_viz = KElbowVisualizer(KMeans(n_init=10, random_state=0), k=clusters, metric='silhouette', timings=False );\n",
    "kmeans_viz.fit(df_seg);\n",
    "kmeans_viz.show();"
   ]
  },
  {
   "cell_type": "markdown",
   "id": "7ae40ae6",
   "metadata": {
    "hidden": true
   },
   "source": [
    "A avaliação dos modelos será dada pela métrica Silhouette Score (SS), que pode ser utilizada para avaliar diferentes clusterizadores.\n",
    "- A Silhueta (S) é a distância média do ponto em relação aos demais (do mesmo cluster, e de fora dele). A silhuette score é a média de todas as silhuetas de todos os pontos.\n",
    "\n",
    "A SS mede portanto as duas propriedades que definem uma boa clusterização: \n",
    "- A compactação dos clusters (compactness): a distância entre os pontos do mesmo cluster deve ser a menor possível.\n",
    "- A separação entre os clusters (separation): a distância entre os pontos de clusters diferentes deve ser a maior possível.\n",
    "\n",
    "Dado que a SS varia entre 0 e 1, quando mais próximo de 1, melhor pode ser considerada a clusterização, considerando as propriedades acima."
   ]
  },
  {
   "cell_type": "markdown",
   "id": "94b8591f",
   "metadata": {
    "hidden": true
   },
   "source": [
    "A SS do K-Means com k=3 foi levemente superior neste primeiro ciclo. Todavia, pode ser interessante gerar um número maior de grupos de perfil de renda e idade ao time de marketing.\n",
    "\n",
    "Considerando 4 grupos, foi obtida uma SS maior que 0.5 neste primeiro ciclo, o que é aceitável. Possivelmente a métrica pode ser melhorada, por meio de:\n",
    "- Reescala de dados.\n",
    "- Avaliação da presença de outliers, que podem distorcer os cálculos de distâncias.\n",
    "- Tunagem de hiperparâmetros no modelo.\n",
    "- Feature engeneering a partir 6 features de perfil de renda e idade do público alvo, buscando melhorar o espaço de dados. \n",
    "- Novos algoritmos com diferentes abordagens de clusterização.\n",
    "\n",
    "Vamos abaixo treinar um K-Means com k=4 para avançar neste ciclo, e salvar suas previsões em uma variávels. \n",
    "Nos próximos ciclos, os tópicos acima serão abordados. \n",
    "\n"
   ]
  },
  {
   "cell_type": "code",
   "execution_count": 66,
   "id": "811e5a52",
   "metadata": {
    "ExecuteTime": {
     "end_time": "2023-02-10T10:13:13.127353Z",
     "start_time": "2023-02-10T10:13:13.043827Z"
    },
    "hidden": true
   },
   "outputs": [
    {
     "data": {
      "text/plain": [
       "array([3, 0, 3, 2, 0], dtype=int32)"
      ]
     },
     "execution_count": 66,
     "metadata": {},
     "output_type": "execute_result"
    }
   ],
   "source": [
    "kmeans = KMeans( n_clusters=4, #número de clusters\n",
    "                  n_init=10, #número de vezes que o k-means irá com diferentes centroid seeds\n",
    "                 random_state=0) #seed, para gerar a mesma inicialização aleatória\n",
    "kmeans.fit(df_seg)\n",
    "labels_kmeans = kmeans.labels_\n",
    "labels_kmeans[:5]"
   ]
  },
  {
   "cell_type": "code",
   "execution_count": 67,
   "id": "451c181d",
   "metadata": {
    "ExecuteTime": {
     "end_time": "2023-02-10T10:13:23.751549Z",
     "start_time": "2023-02-10T10:13:23.736320Z"
    },
    "hidden": true,
    "scrolled": true
   },
   "outputs": [
    {
     "name": "stdout",
     "output_type": "stream",
     "text": [
      "Silhouette Score com k=4: 0.52\n"
     ]
    }
   ],
   "source": [
    "#this method of k-means (sklearn) returns the SS\n",
    "print(f\"Silhouette Score com k=4: {round(silhouette_score(df_seg, labels_kmeans, metric='euclidean'),2)}\") "
   ]
  },
  {
   "cell_type": "markdown",
   "id": "2b74dc84",
   "metadata": {
    "heading_collapsed": true,
    "hidden": true
   },
   "source": [
    "### K-Means - Perfis dos Clusters"
   ]
  },
  {
   "cell_type": "markdown",
   "id": "8cfb3130",
   "metadata": {
    "hidden": true
   },
   "source": [
    "Criar um dataset contendo o grupo a que cada bairro pertence. "
   ]
  },
  {
   "cell_type": "code",
   "execution_count": 68,
   "id": "d2924a7d",
   "metadata": {
    "ExecuteTime": {
     "end_time": "2023-02-10T10:14:01.728240Z",
     "start_time": "2023-02-10T10:14:01.718834Z"
    },
    "hidden": true
   },
   "outputs": [
    {
     "data": {
      "text/plain": [
       "Index(['pop_de25a34', 'pop_de35a49', 'domicilios_a1', 'domicilios_a2',\n",
       "       'domicilios_b2', 'domicilios_b2'],\n",
       "      dtype='object')"
      ]
     },
     "execution_count": 68,
     "metadata": {},
     "output_type": "execute_result"
    }
   ],
   "source": [
    "df_seg.columns"
   ]
  },
  {
   "cell_type": "code",
   "execution_count": 70,
   "id": "2bbee2b1",
   "metadata": {
    "ExecuteTime": {
     "end_time": "2023-02-10T10:14:17.562074Z",
     "start_time": "2023-02-10T10:14:17.543709Z"
    },
    "hidden": true
   },
   "outputs": [
    {
     "data": {
      "text/html": [
       "<div>\n",
       "<style scoped>\n",
       "    .dataframe tbody tr th:only-of-type {\n",
       "        vertical-align: middle;\n",
       "    }\n",
       "\n",
       "    .dataframe tbody tr th {\n",
       "        vertical-align: top;\n",
       "    }\n",
       "\n",
       "    .dataframe thead th {\n",
       "        text-align: right;\n",
       "    }\n",
       "</style>\n",
       "<table border=\"1\" class=\"dataframe\">\n",
       "  <thead>\n",
       "    <tr style=\"text-align: right;\">\n",
       "      <th></th>\n",
       "      <th>bairro</th>\n",
       "      <th>pop_de25a34</th>\n",
       "      <th>pop_de35a49</th>\n",
       "      <th>domicilios_a1</th>\n",
       "      <th>domicilios_a2</th>\n",
       "      <th>domicilios_b1</th>\n",
       "      <th>domicilios_b2</th>\n",
       "      <th>cluster</th>\n",
       "    </tr>\n",
       "  </thead>\n",
       "  <tbody>\n",
       "    <tr>\n",
       "      <th>160</th>\n",
       "      <td>A. E. Carvalho</td>\n",
       "      <td>14535</td>\n",
       "      <td>21549</td>\n",
       "      <td>0</td>\n",
       "      <td>253</td>\n",
       "      <td>2197</td>\n",
       "      <td>4368</td>\n",
       "      <td>3</td>\n",
       "    </tr>\n",
       "    <tr>\n",
       "      <th>161</th>\n",
       "      <td>Aclimação</td>\n",
       "      <td>5341</td>\n",
       "      <td>7281</td>\n",
       "      <td>1413</td>\n",
       "      <td>1734</td>\n",
       "      <td>3704</td>\n",
       "      <td>2351</td>\n",
       "      <td>0</td>\n",
       "    </tr>\n",
       "    <tr>\n",
       "      <th>162</th>\n",
       "      <td>Adventista</td>\n",
       "      <td>17749</td>\n",
       "      <td>23364</td>\n",
       "      <td>0</td>\n",
       "      <td>0</td>\n",
       "      <td>1423</td>\n",
       "      <td>4875</td>\n",
       "      <td>3</td>\n",
       "    </tr>\n",
       "  </tbody>\n",
       "</table>\n",
       "</div>"
      ],
      "text/plain": [
       "             bairro  pop_de25a34  pop_de35a49  domicilios_a1  domicilios_a2  domicilios_b1  domicilios_b2  cluster\n",
       "160  A. E. Carvalho        14535        21549              0            253           2197           4368        3\n",
       "161       Aclimação         5341         7281           1413           1734           3704           2351        0\n",
       "162      Adventista        17749        23364              0              0           1423           4875        3"
      ]
     },
     "execution_count": 70,
     "metadata": {},
     "output_type": "execute_result"
    }
   ],
   "source": [
    "df_kmeans = df_sp.copy()\n",
    "df_kmeans = df_kmeans[['bairro', 'pop_de25a34', 'pop_de35a49', 'domicilios_a1', 'domicilios_a2', 'domicilios_b1', 'domicilios_b2']]\n",
    "df_kmeans['cluster'] = labels_kmeans\n",
    "df_kmeans.head(3)"
   ]
  },
  {
   "cell_type": "markdown",
   "id": "450554ba",
   "metadata": {
    "hidden": true
   },
   "source": [
    "Avaliar a quantidade e percentual de bairros por cluster."
   ]
  },
  {
   "cell_type": "code",
   "execution_count": 72,
   "id": "8e762fc2",
   "metadata": {
    "ExecuteTime": {
     "end_time": "2023-02-10T10:14:36.848588Z",
     "start_time": "2023-02-10T10:14:36.821349Z"
    },
    "hidden": true
   },
   "outputs": [
    {
     "data": {
      "text/html": [
       "<div>\n",
       "<style scoped>\n",
       "    .dataframe tbody tr th:only-of-type {\n",
       "        vertical-align: middle;\n",
       "    }\n",
       "\n",
       "    .dataframe tbody tr th {\n",
       "        vertical-align: top;\n",
       "    }\n",
       "\n",
       "    .dataframe thead th {\n",
       "        text-align: right;\n",
       "    }\n",
       "</style>\n",
       "<table border=\"1\" class=\"dataframe\">\n",
       "  <thead>\n",
       "    <tr style=\"text-align: right;\">\n",
       "      <th></th>\n",
       "      <th>cluster</th>\n",
       "      <th>bairro</th>\n",
       "      <th>perc_bairros</th>\n",
       "    </tr>\n",
       "  </thead>\n",
       "  <tbody>\n",
       "    <tr>\n",
       "      <th>0</th>\n",
       "      <td>0</td>\n",
       "      <td>104</td>\n",
       "      <td>35.135135</td>\n",
       "    </tr>\n",
       "    <tr>\n",
       "      <th>1</th>\n",
       "      <td>1</td>\n",
       "      <td>12</td>\n",
       "      <td>4.054054</td>\n",
       "    </tr>\n",
       "    <tr>\n",
       "      <th>2</th>\n",
       "      <td>2</td>\n",
       "      <td>132</td>\n",
       "      <td>44.594595</td>\n",
       "    </tr>\n",
       "    <tr>\n",
       "      <th>3</th>\n",
       "      <td>3</td>\n",
       "      <td>48</td>\n",
       "      <td>16.216216</td>\n",
       "    </tr>\n",
       "  </tbody>\n",
       "</table>\n",
       "</div>"
      ],
      "text/plain": [
       "   cluster  bairro  perc_bairros\n",
       "0        0     104     35.135135\n",
       "1        1      12      4.054054\n",
       "2        2     132     44.594595\n",
       "3        3      48     16.216216"
      ]
     },
     "execution_count": 72,
     "metadata": {},
     "output_type": "execute_result"
    }
   ],
   "source": [
    "df_kmeans_prof = df_kmeans[['bairro', 'cluster']].groupby('cluster').count().reset_index()\n",
    "df_kmeans_prof['perc_bairros'] = df_kmeans_prof['bairro'] / df_kmeans_prof['bairro'].sum()*100\n",
    "df_kmeans_prof"
   ]
  },
  {
   "cell_type": "markdown",
   "id": "507a4505",
   "metadata": {
    "hidden": true
   },
   "source": [
    "Na sequência, serão calculadas as médias dos features, para representar o centroide dos grupos. \n",
    "\n",
    "Desta forma, será possível compreender o perfil de renda e idade dos bairros. "
   ]
  },
  {
   "cell_type": "code",
   "execution_count": 73,
   "id": "7de8d08f",
   "metadata": {
    "ExecuteTime": {
     "end_time": "2023-02-10T10:15:02.919362Z",
     "start_time": "2023-02-10T10:15:02.815409Z"
    },
    "hidden": true
   },
   "outputs": [
    {
     "data": {
      "text/html": [
       "<div>\n",
       "<style scoped>\n",
       "    .dataframe tbody tr th:only-of-type {\n",
       "        vertical-align: middle;\n",
       "    }\n",
       "\n",
       "    .dataframe tbody tr th {\n",
       "        vertical-align: top;\n",
       "    }\n",
       "\n",
       "    .dataframe thead th {\n",
       "        text-align: right;\n",
       "    }\n",
       "</style>\n",
       "<table border=\"1\" class=\"dataframe\">\n",
       "  <thead>\n",
       "    <tr style=\"text-align: right;\">\n",
       "      <th></th>\n",
       "      <th>cluster</th>\n",
       "      <th>bairro</th>\n",
       "      <th>perc_bairros</th>\n",
       "      <th>pop_de25a34</th>\n",
       "      <th>pop_de35a49</th>\n",
       "      <th>domicilios_a1</th>\n",
       "      <th>domicilios_a2</th>\n",
       "      <th>domicilios_b1</th>\n",
       "      <th>domicilios_b2</th>\n",
       "    </tr>\n",
       "  </thead>\n",
       "  <tbody>\n",
       "    <tr>\n",
       "      <th>0</th>\n",
       "      <td>0</td>\n",
       "      <td>104</td>\n",
       "      <td>35.135135</td>\n",
       "      <td>6691.673077</td>\n",
       "      <td>9684.740385</td>\n",
       "      <td>493.375000</td>\n",
       "      <td>774.692308</td>\n",
       "      <td>2583.817308</td>\n",
       "      <td>2662.884615</td>\n",
       "    </tr>\n",
       "    <tr>\n",
       "      <th>1</th>\n",
       "      <td>1</td>\n",
       "      <td>12</td>\n",
       "      <td>4.054054</td>\n",
       "      <td>24031.166667</td>\n",
       "      <td>33197.500000</td>\n",
       "      <td>0.666667</td>\n",
       "      <td>212.583333</td>\n",
       "      <td>2674.250000</td>\n",
       "      <td>6423.166667</td>\n",
       "    </tr>\n",
       "    <tr>\n",
       "      <th>2</th>\n",
       "      <td>2</td>\n",
       "      <td>132</td>\n",
       "      <td>44.594595</td>\n",
       "      <td>2220.810606</td>\n",
       "      <td>3124.060606</td>\n",
       "      <td>525.075758</td>\n",
       "      <td>544.666667</td>\n",
       "      <td>1240.772727</td>\n",
       "      <td>860.787879</td>\n",
       "    </tr>\n",
       "    <tr>\n",
       "      <th>3</th>\n",
       "      <td>3</td>\n",
       "      <td>48</td>\n",
       "      <td>16.216216</td>\n",
       "      <td>13102.791667</td>\n",
       "      <td>18474.812500</td>\n",
       "      <td>45.020833</td>\n",
       "      <td>260.395833</td>\n",
       "      <td>2108.145833</td>\n",
       "      <td>4132.854167</td>\n",
       "    </tr>\n",
       "  </tbody>\n",
       "</table>\n",
       "</div>"
      ],
      "text/plain": [
       "   cluster  bairro  perc_bairros   pop_de25a34   pop_de35a49  domicilios_a1  domicilios_a2  domicilios_b1  domicilios_b2\n",
       "0        0     104     35.135135   6691.673077   9684.740385     493.375000     774.692308    2583.817308    2662.884615\n",
       "1        1      12      4.054054  24031.166667  33197.500000       0.666667     212.583333    2674.250000    6423.166667\n",
       "2        2     132     44.594595   2220.810606   3124.060606     525.075758     544.666667    1240.772727     860.787879\n",
       "3        3      48     16.216216  13102.791667  18474.812500      45.020833     260.395833    2108.145833    4132.854167"
      ]
     },
     "execution_count": 73,
     "metadata": {},
     "output_type": "execute_result"
    }
   ],
   "source": [
    "#média da feature pop_de25a34\n",
    "df_avg_pop_de25a34 = df_kmeans[['pop_de25a34','cluster']].groupby('cluster').mean().reset_index()\n",
    "df_kmeans_prof = pd.merge(df_kmeans_prof, df_avg_pop_de25a34, how='inner', on='cluster')\n",
    "\n",
    "#média da feature pop_de35a49\n",
    "df_avg_pop_de35a49 = df_kmeans[['pop_de35a49','cluster']].groupby('cluster').mean().reset_index()\n",
    "df_kmeans_prof = pd.merge(df_kmeans_prof, df_avg_pop_de35a49, how='inner', on='cluster')\n",
    "\n",
    "#média da feature domicilios_a1\n",
    "df_avg_domicilios_a1 = df_kmeans[['domicilios_a1','cluster']].groupby('cluster').mean().reset_index()\n",
    "df_kmeans_prof = pd.merge(df_kmeans_prof, df_avg_domicilios_a1, how='inner', on='cluster')\n",
    "\n",
    "#média da feature domicilios_a1\n",
    "df_avg_domicilios_a2 = df_kmeans[['domicilios_a2','cluster']].groupby('cluster').mean().reset_index()\n",
    "df_kmeans_prof = pd.merge(df_kmeans_prof, df_avg_domicilios_a2, how='inner', on='cluster')\n",
    "\n",
    "#média da feature domicilios_b1\n",
    "df_avg_domicilios_b1 = df_kmeans[['domicilios_b1','cluster']].groupby('cluster').mean().reset_index()\n",
    "df_kmeans_prof = pd.merge(df_kmeans_prof, df_avg_domicilios_b1, how='inner', on='cluster')\n",
    "\n",
    "#média da feature domicilios_b2\n",
    "df_avg_domicilios_b2 = df_kmeans[['domicilios_b2','cluster']].groupby('cluster').mean().reset_index()\n",
    "df_kmeans_prof = pd.merge(df_kmeans_prof, df_avg_domicilios_b2, how='inner', on='cluster')\n",
    "\n",
    "df_kmeans_prof"
   ]
  },
  {
   "cell_type": "markdown",
   "id": "b0ef8732",
   "metadata": {
    "ExecuteTime": {
     "end_time": "2023-02-09T20:16:22.277744Z",
     "start_time": "2023-02-09T20:16:22.265511Z"
    },
    "hidden": true
   },
   "source": [
    "Gerar relatório de perfil de renda e idade dos bairros."
   ]
  },
  {
   "cell_type": "code",
   "execution_count": 75,
   "id": "31d0ffa4",
   "metadata": {
    "ExecuteTime": {
     "end_time": "2023-02-10T10:15:15.458764Z",
     "start_time": "2023-02-10T10:15:15.444887Z"
    },
    "hidden": true,
    "scrolled": true
   },
   "outputs": [
    {
     "name": "stdout",
     "output_type": "stream",
     "text": [
      " Cluster 0:\n",
      "    -Número de bairros:     104 (35%) \n",
      "    -População 25-34 anos:  6692 (15%) \n",
      "    -População 35-49 anos:  9685 (15%)\n",
      "    -Domicílios renda A1:   493 (46%)\n",
      "    -Domicílios renda A2:   775 (43%)\n",
      "    -Domicílios renda B1:   2584 (30%)\n",
      "    -Domicílios renda B2:   2663 (19%) \n",
      "\n",
      " Cluster 1:\n",
      "    -Número de bairros:     12 (4%) \n",
      "    -População 25-34 anos:  24031 (52%) \n",
      "    -População 35-49 anos:  33198 (51%)\n",
      "    -Domicílios renda A1:   1 (0%)\n",
      "    -Domicílios renda A2:   213 (12%)\n",
      "    -Domicílios renda B1:   2674 (31%)\n",
      "    -Domicílios renda B2:   6423 (46%) \n",
      "\n",
      " Cluster 2:\n",
      "    -Número de bairros:     132 (45%) \n",
      "    -População 25-34 anos:  2221 (5%) \n",
      "    -População 35-49 anos:  3124 (5%)\n",
      "    -Domicílios renda A1:   525 (49%)\n",
      "    -Domicílios renda A2:   545 (30%)\n",
      "    -Domicílios renda B1:   1241 (14%)\n",
      "    -Domicílios renda B2:   861 (6%) \n",
      "\n",
      " Cluster 3:\n",
      "    -Número de bairros:     48 (16%) \n",
      "    -População 25-34 anos:  13103 (28%) \n",
      "    -População 35-49 anos:  18475 (29%)\n",
      "    -Domicílios renda A1:   45 (4%)\n",
      "    -Domicílios renda A2:   260 (15%)\n",
      "    -Domicílios renda B1:   2108 (24%)\n",
      "    -Domicílios renda B2:   4133 (29%) \n",
      "\n"
     ]
    }
   ],
   "source": [
    "for i in range(len(df_kmeans_prof['bairro'])):\n",
    "    print(f\"\"\" Cluster {df_kmeans_prof['cluster'][i]}:\n",
    "    -Número de bairros:     {df_kmeans_prof['bairro'][i]} ({round(df_kmeans_prof['perc_bairros'][i])}%) \n",
    "    -População 25-34 anos:  {round(df_kmeans_prof['pop_de25a34'][i])} ({round(df_kmeans_prof.pop_de25a34[i]/df_kmeans_prof.pop_de25a34.sum()*100)}%) \n",
    "    -População 35-49 anos:  {round(df_kmeans_prof['pop_de35a49'][i])} ({round(df_kmeans_prof.pop_de35a49[i]/df_kmeans_prof.pop_de35a49.sum()*100)}%)\n",
    "    -Domicílios renda A1:   {round(df_kmeans_prof['domicilios_a1'][i])} ({round(df_kmeans_prof.domicilios_a1[i]/df_kmeans_prof.domicilios_a1.sum()*100)}%)\n",
    "    -Domicílios renda A2:   {round(df_kmeans_prof['domicilios_a2'][i])} ({round(df_kmeans_prof.domicilios_a2[i]/df_kmeans_prof.domicilios_a2.sum()*100)}%)\n",
    "    -Domicílios renda B1:   {round(df_kmeans_prof['domicilios_b1'][i])} ({round(df_kmeans_prof.domicilios_b1[i]/df_kmeans_prof.domicilios_b1.sum()*100)}%)\n",
    "    -Domicílios renda B2:   {round(df_kmeans_prof['domicilios_b2'][i])} ({round(df_kmeans_prof.domicilios_b2[i]/df_kmeans_prof.domicilios_b2.sum()*100)}%) \\n\"\"\")"
   ]
  },
  {
   "cell_type": "markdown",
   "id": "19043f80",
   "metadata": {
    "hidden": true
   },
   "source": [
    "Através do relatório acima, podem ser identificados 4 grupos de bairros onde o perfil de renda e idade são mais homogêneos dentro de cada grupo. \n",
    "\n",
    "Referente a indicação dos grupos ou bairros com maior aderência ao público alvo, será feita nova análise no próximo ciclo, utilizando uma variável para população, e outra para renda, para simplificar a interpretação e tomada de decisão do time de negócio. "
   ]
  },
  {
   "cell_type": "markdown",
   "id": "19ce7a8e",
   "metadata": {
    "hidden": true
   },
   "source": []
  },
  {
   "cell_type": "markdown",
   "id": "7b30bb69",
   "metadata": {
    "heading_collapsed": true,
    "hidden": true
   },
   "source": [
    "## Seleção de Features"
   ]
  },
  {
   "cell_type": "code",
   "execution_count": 268,
   "id": "212b2e2f",
   "metadata": {
    "ExecuteTime": {
     "end_time": "2023-02-13T04:07:27.651676Z",
     "start_time": "2023-02-13T04:07:27.620883Z"
    },
    "hidden": true
   },
   "outputs": [
    {
     "name": "stdout",
     "output_type": "stream",
     "text": [
      "(296, 24)\n"
     ]
    },
    {
     "data": {
      "text/html": [
       "<div>\n",
       "<style scoped>\n",
       "    .dataframe tbody tr th:only-of-type {\n",
       "        vertical-align: middle;\n",
       "    }\n",
       "\n",
       "    .dataframe tbody tr th {\n",
       "        vertical-align: top;\n",
       "    }\n",
       "\n",
       "    .dataframe thead th {\n",
       "        text-align: right;\n",
       "    }\n",
       "</style>\n",
       "<table border=\"1\" class=\"dataframe\">\n",
       "  <thead>\n",
       "    <tr style=\"text-align: right;\">\n",
       "      <th></th>\n",
       "      <th>codigo</th>\n",
       "      <th>bairro</th>\n",
       "      <th>cidade</th>\n",
       "      <th>estado</th>\n",
       "      <th>populacao</th>\n",
       "      <th>pop_ate9</th>\n",
       "      <th>pop_de10a14</th>\n",
       "      <th>pop_de15a19</th>\n",
       "      <th>pop_de20a24</th>\n",
       "      <th>pop_de25a34</th>\n",
       "      <th>pop_de35a49</th>\n",
       "      <th>pop_de50a59</th>\n",
       "      <th>pop_mais_de60</th>\n",
       "      <th>domicilios_a1</th>\n",
       "      <th>domicilios_a2</th>\n",
       "      <th>domicilios_b1</th>\n",
       "      <th>domicilios_b2</th>\n",
       "      <th>domicilios_c1</th>\n",
       "      <th>domicilios_c2</th>\n",
       "      <th>domicilios_d</th>\n",
       "      <th>domicilios_e</th>\n",
       "      <th>renda_media</th>\n",
       "      <th>faturamento</th>\n",
       "      <th>potencial</th>\n",
       "    </tr>\n",
       "  </thead>\n",
       "  <tbody>\n",
       "    <tr>\n",
       "      <th>160</th>\n",
       "      <td>355030251</td>\n",
       "      <td>A. E. Carvalho</td>\n",
       "      <td>São Paulo</td>\n",
       "      <td>SP</td>\n",
       "      <td>94034</td>\n",
       "      <td>12668</td>\n",
       "      <td>6853</td>\n",
       "      <td>9836</td>\n",
       "      <td>7487</td>\n",
       "      <td>14535</td>\n",
       "      <td>21549</td>\n",
       "      <td>10598</td>\n",
       "      <td>10508</td>\n",
       "      <td>0</td>\n",
       "      <td>253</td>\n",
       "      <td>2197</td>\n",
       "      <td>4368</td>\n",
       "      <td>6681</td>\n",
       "      <td>7011</td>\n",
       "      <td>2247</td>\n",
       "      <td>5670</td>\n",
       "      <td>1501</td>\n",
       "      <td>NaN</td>\n",
       "      <td>NaN</td>\n",
       "    </tr>\n",
       "  </tbody>\n",
       "</table>\n",
       "</div>"
      ],
      "text/plain": [
       "        codigo          bairro     cidade estado  populacao  pop_ate9  pop_de10a14  pop_de15a19  pop_de20a24  pop_de25a34  pop_de35a49  pop_de50a59  pop_mais_de60  domicilios_a1  domicilios_a2  domicilios_b1  domicilios_b2  domicilios_c1  domicilios_c2  domicilios_d  domicilios_e renda_media  faturamento  potencial\n",
       "160  355030251  A. E. Carvalho  São Paulo     SP      94034     12668         6853         9836         7487        14535        21549        10598          10508              0            253           2197           4368           6681           7011          2247          5670        1501          NaN        NaN"
      ]
     },
     "execution_count": 268,
     "metadata": {},
     "output_type": "execute_result"
    }
   ],
   "source": [
    "df_sp = pd.read_csv('../data/interim/df_sp_an1e2_done.csv', index_col=0)\n",
    "df_seg = df_sp.copy()\n",
    "print(df_seg.shape)\n",
    "df_seg.head(1)"
   ]
  },
  {
   "cell_type": "markdown",
   "id": "38fcc690",
   "metadata": {
    "ExecuteTime": {
     "end_time": "2023-02-12T23:25:19.970625Z",
     "start_time": "2023-02-12T23:25:19.961346Z"
    },
    "hidden": true
   },
   "source": [
    "A análise deve ser baseada na faixa etária e perfil de renda do publico alvo. No ciclo 1, utilizou-se apenas as 6 features do público alvo para a clusterização.\n",
    "\n",
    "Neste, serão consideradas as demais features relacionadas a população e domicilios (renda), a fim de identificar aqueles com maior aderência ao público alvo através da clusterização."
   ]
  },
  {
   "cell_type": "code",
   "execution_count": 269,
   "id": "b8b2caac",
   "metadata": {
    "ExecuteTime": {
     "end_time": "2023-02-13T04:07:28.188925Z",
     "start_time": "2023-02-13T04:07:28.179314Z"
    },
    "hidden": true
   },
   "outputs": [
    {
     "data": {
      "text/plain": [
       "Index(['codigo', 'bairro', 'cidade', 'estado', 'populacao', 'pop_ate9',\n",
       "       'pop_de10a14', 'pop_de15a19', 'pop_de20a24', 'pop_de25a34',\n",
       "       'pop_de35a49', 'pop_de50a59', 'pop_mais_de60', 'domicilios_a1',\n",
       "       'domicilios_a2', 'domicilios_b1', 'domicilios_b2', 'domicilios_c1',\n",
       "       'domicilios_c2', 'domicilios_d', 'domicilios_e', 'renda_media',\n",
       "       'faturamento', 'potencial'],\n",
       "      dtype='object')"
      ]
     },
     "execution_count": 269,
     "metadata": {},
     "output_type": "execute_result"
    }
   ],
   "source": [
    "df_seg.columns"
   ]
  },
  {
   "cell_type": "code",
   "execution_count": 270,
   "id": "1fbec67b",
   "metadata": {
    "ExecuteTime": {
     "end_time": "2023-02-13T04:07:35.850416Z",
     "start_time": "2023-02-13T04:07:35.843595Z"
    },
    "hidden": true
   },
   "outputs": [],
   "source": [
    "feat_selected = [ 'pop_ate9', 'pop_de10a14', 'pop_de15a19', 'pop_de20a24', 'pop_de25a34', 'pop_de35a49', 'pop_de50a59',\n",
    "        'pop_mais_de60', 'domicilios_a1', 'domicilios_a2', 'domicilios_b1', 'domicilios_b2', 'domicilios_c1',\n",
    "       'domicilios_c2', 'domicilios_d', 'domicilios_e' ]"
   ]
  },
  {
   "cell_type": "code",
   "execution_count": 271,
   "id": "9a6ed1f5",
   "metadata": {
    "ExecuteTime": {
     "end_time": "2023-02-13T04:07:37.111108Z",
     "start_time": "2023-02-13T04:07:37.061719Z"
    },
    "hidden": true
   },
   "outputs": [
    {
     "data": {
      "text/html": [
       "<div>\n",
       "<style scoped>\n",
       "    .dataframe tbody tr th:only-of-type {\n",
       "        vertical-align: middle;\n",
       "    }\n",
       "\n",
       "    .dataframe tbody tr th {\n",
       "        vertical-align: top;\n",
       "    }\n",
       "\n",
       "    .dataframe thead th {\n",
       "        text-align: right;\n",
       "    }\n",
       "</style>\n",
       "<table border=\"1\" class=\"dataframe\">\n",
       "  <thead>\n",
       "    <tr style=\"text-align: right;\">\n",
       "      <th></th>\n",
       "      <th>pop_ate9</th>\n",
       "      <th>pop_de10a14</th>\n",
       "      <th>pop_de15a19</th>\n",
       "      <th>pop_de20a24</th>\n",
       "      <th>pop_de25a34</th>\n",
       "      <th>pop_de35a49</th>\n",
       "      <th>pop_de50a59</th>\n",
       "      <th>pop_mais_de60</th>\n",
       "      <th>domicilios_a1</th>\n",
       "      <th>domicilios_a2</th>\n",
       "      <th>domicilios_b1</th>\n",
       "      <th>domicilios_b2</th>\n",
       "      <th>domicilios_c1</th>\n",
       "      <th>domicilios_c2</th>\n",
       "      <th>domicilios_d</th>\n",
       "      <th>domicilios_e</th>\n",
       "    </tr>\n",
       "  </thead>\n",
       "  <tbody>\n",
       "    <tr>\n",
       "      <th>160</th>\n",
       "      <td>12668</td>\n",
       "      <td>6853</td>\n",
       "      <td>9836</td>\n",
       "      <td>7487</td>\n",
       "      <td>14535</td>\n",
       "      <td>21549</td>\n",
       "      <td>10598</td>\n",
       "      <td>10508</td>\n",
       "      <td>0</td>\n",
       "      <td>253</td>\n",
       "      <td>2197</td>\n",
       "      <td>4368</td>\n",
       "      <td>6681</td>\n",
       "      <td>7011</td>\n",
       "      <td>2247</td>\n",
       "      <td>5670</td>\n",
       "    </tr>\n",
       "  </tbody>\n",
       "</table>\n",
       "</div>"
      ],
      "text/plain": [
       "     pop_ate9  pop_de10a14  pop_de15a19  pop_de20a24  pop_de25a34  pop_de35a49  pop_de50a59  pop_mais_de60  domicilios_a1  domicilios_a2  domicilios_b1  domicilios_b2  domicilios_c1  domicilios_c2  domicilios_d  domicilios_e\n",
       "160     12668         6853         9836         7487        14535        21549        10598          10508              0            253           2197           4368           6681           7011          2247          5670"
      ]
     },
     "execution_count": 271,
     "metadata": {},
     "output_type": "execute_result"
    }
   ],
   "source": [
    "df_seg = df_seg[feat_selected].copy()\n",
    "df_seg.head(1)"
   ]
  },
  {
   "cell_type": "markdown",
   "id": "2c2b80e6",
   "metadata": {
    "heading_collapsed": true,
    "hidden": true
   },
   "source": [
    "## Comparação com o Baseline"
   ]
  },
  {
   "cell_type": "markdown",
   "id": "604f9e5d",
   "metadata": {
    "ExecuteTime": {
     "end_time": "2023-02-13T03:16:47.279143Z",
     "start_time": "2023-02-13T03:16:47.269502Z"
    },
    "hidden": true
   },
   "source": [
    "Montando um novo cenário entre 3 e 6 grupos."
   ]
  },
  {
   "cell_type": "markdown",
   "id": "2cf76cac",
   "metadata": {
    "heading_collapsed": true,
    "hidden": true
   },
   "source": [
    "### Hyperparameter Fine-Tuning"
   ]
  },
  {
   "cell_type": "code",
   "execution_count": 272,
   "id": "c07d2d29",
   "metadata": {
    "ExecuteTime": {
     "end_time": "2023-02-13T04:07:41.971500Z",
     "start_time": "2023-02-13T04:07:41.251423Z"
    },
    "hidden": true
   },
   "outputs": [
    {
     "data": {
      "image/png": "[encoded data removed]",
      "text/plain": [
       "<Figure size 600x300 with 1 Axes>"
      ]
     },
     "metadata": {},
     "output_type": "display_data"
    }
   ],
   "source": [
    "clusters = [3,4,5,6]\n",
    "plt.figure(figsize = (6,3));\n",
    "kmeans_viz = KElbowVisualizer(KMeans(n_init=10, random_state=0), k=clusters, metric='silhouette', timings=False );\n",
    "kmeans_viz.fit(df_seg);\n",
    "kmeans_viz.show();"
   ]
  },
  {
   "cell_type": "markdown",
   "id": "d1809fa9",
   "metadata": {
    "hidden": true
   },
   "source": [
    "A performance até piorou um pouco em relação ao ciclo 1.\n",
    "\n",
    "Será avaliado abaixo este mesmo cenário, mas com as features resescaladas, visando melhorar esta SS."
   ]
  },
  {
   "cell_type": "markdown",
   "id": "a0f36d4f",
   "metadata": {
    "heading_collapsed": true,
    "hidden": true
   },
   "source": [
    "## Reescala de Dados"
   ]
  },
  {
   "cell_type": "code",
   "execution_count": 273,
   "id": "2bf4f95b",
   "metadata": {
    "ExecuteTime": {
     "end_time": "2023-02-13T04:07:53.756741Z",
     "start_time": "2023-02-13T04:07:53.739416Z"
    },
    "hidden": true
   },
   "outputs": [
    {
     "data": {
      "text/html": [
       "<div>\n",
       "<style scoped>\n",
       "    .dataframe tbody tr th:only-of-type {\n",
       "        vertical-align: middle;\n",
       "    }\n",
       "\n",
       "    .dataframe tbody tr th {\n",
       "        vertical-align: top;\n",
       "    }\n",
       "\n",
       "    .dataframe thead th {\n",
       "        text-align: right;\n",
       "    }\n",
       "</style>\n",
       "<table border=\"1\" class=\"dataframe\">\n",
       "  <thead>\n",
       "    <tr style=\"text-align: right;\">\n",
       "      <th></th>\n",
       "      <th>pop_ate9</th>\n",
       "      <th>pop_de10a14</th>\n",
       "      <th>pop_de15a19</th>\n",
       "      <th>pop_de20a24</th>\n",
       "      <th>pop_de25a34</th>\n",
       "      <th>pop_de35a49</th>\n",
       "      <th>pop_de50a59</th>\n",
       "      <th>pop_mais_de60</th>\n",
       "      <th>domicilios_a1</th>\n",
       "      <th>domicilios_a2</th>\n",
       "      <th>domicilios_b1</th>\n",
       "      <th>domicilios_b2</th>\n",
       "      <th>domicilios_c1</th>\n",
       "      <th>domicilios_c2</th>\n",
       "      <th>domicilios_d</th>\n",
       "      <th>domicilios_e</th>\n",
       "    </tr>\n",
       "  </thead>\n",
       "  <tbody>\n",
       "    <tr>\n",
       "      <th>160</th>\n",
       "      <td>12668</td>\n",
       "      <td>6853</td>\n",
       "      <td>9836</td>\n",
       "      <td>7487</td>\n",
       "      <td>14535</td>\n",
       "      <td>21549</td>\n",
       "      <td>10598</td>\n",
       "      <td>10508</td>\n",
       "      <td>0</td>\n",
       "      <td>253</td>\n",
       "      <td>2197</td>\n",
       "      <td>4368</td>\n",
       "      <td>6681</td>\n",
       "      <td>7011</td>\n",
       "      <td>2247</td>\n",
       "      <td>5670</td>\n",
       "    </tr>\n",
       "  </tbody>\n",
       "</table>\n",
       "</div>"
      ],
      "text/plain": [
       "     pop_ate9  pop_de10a14  pop_de15a19  pop_de20a24  pop_de25a34  pop_de35a49  pop_de50a59  pop_mais_de60  domicilios_a1  domicilios_a2  domicilios_b1  domicilios_b2  domicilios_c1  domicilios_c2  domicilios_d  domicilios_e\n",
       "160     12668         6853         9836         7487        14535        21549        10598          10508              0            253           2197           4368           6681           7011          2247          5670"
      ]
     },
     "execution_count": 273,
     "metadata": {},
     "output_type": "execute_result"
    }
   ],
   "source": [
    "df_seg.head(1)"
   ]
  },
  {
   "cell_type": "markdown",
   "id": "a50033a0",
   "metadata": {
    "hidden": true
   },
   "source": [
    "Todos os dados são numéricos, logo será aplicada uma reescala nos dados.\n",
    "\n",
    "Analiar as distribuições das variáveis, a fim de definir o melhor scaler."
   ]
  },
  {
   "cell_type": "code",
   "execution_count": 274,
   "id": "7b133bd2",
   "metadata": {
    "ExecuteTime": {
     "end_time": "2023-02-13T04:08:06.062539Z",
     "start_time": "2023-02-13T04:07:57.779135Z"
    },
    "hidden": true
   },
   "outputs": [
    {
     "data": {
      "image/png": "[encoded data removed]",
      "text/plain": [
       "<Figure size 1500x1000 with 16 Axes>"
      ]
     },
     "metadata": {},
     "output_type": "display_data"
    }
   ],
   "source": [
    "fig, axes = plt.subplots(nrows=4, ncols=4) \n",
    "axes = axes.flatten()\n",
    "fig.set_size_inches(15, 10)\n",
    "for ax, col in zip(axes, df_seg.columns):\n",
    "    sns.histplot(df_seg[col], ax = ax, bins=50)\n",
    "    plt.subplots_adjust(hspace=0.6)"
   ]
  },
  {
   "cell_type": "markdown",
   "id": "0ce9293a",
   "metadata": {
    "hidden": true
   },
   "source": [
    "Nenhuma delas possui distribuição normal. Será utilizado portanto o MinMaxScaler para todas."
   ]
  },
  {
   "cell_type": "code",
   "execution_count": 275,
   "id": "41424a22",
   "metadata": {
    "ExecuteTime": {
     "end_time": "2023-02-13T04:08:09.873712Z",
     "start_time": "2023-02-13T04:08:09.866986Z"
    },
    "hidden": true
   },
   "outputs": [],
   "source": [
    "df_seg_scaled = df_seg.copy()"
   ]
  },
  {
   "cell_type": "code",
   "execution_count": 276,
   "id": "c8e40fec",
   "metadata": {
    "ExecuteTime": {
     "end_time": "2023-02-13T04:08:10.313517Z",
     "start_time": "2023-02-13T04:08:10.290532Z"
    },
    "hidden": true
   },
   "outputs": [],
   "source": [
    "scaler = MinMaxScaler()\n",
    "df_seg_scaled[feat_selected] = scaler.fit_transform(df_seg_scaled[feat_selected])"
   ]
  },
  {
   "cell_type": "code",
   "execution_count": 277,
   "id": "9748fc50",
   "metadata": {
    "ExecuteTime": {
     "end_time": "2023-02-13T04:08:10.575598Z",
     "start_time": "2023-02-13T04:08:10.555780Z"
    },
    "hidden": true
   },
   "outputs": [
    {
     "data": {
      "text/html": [
       "<div>\n",
       "<style scoped>\n",
       "    .dataframe tbody tr th:only-of-type {\n",
       "        vertical-align: middle;\n",
       "    }\n",
       "\n",
       "    .dataframe tbody tr th {\n",
       "        vertical-align: top;\n",
       "    }\n",
       "\n",
       "    .dataframe thead th {\n",
       "        text-align: right;\n",
       "    }\n",
       "</style>\n",
       "<table border=\"1\" class=\"dataframe\">\n",
       "  <thead>\n",
       "    <tr style=\"text-align: right;\">\n",
       "      <th></th>\n",
       "      <th>pop_ate9</th>\n",
       "      <th>pop_de10a14</th>\n",
       "      <th>pop_de15a19</th>\n",
       "      <th>pop_de20a24</th>\n",
       "      <th>pop_de25a34</th>\n",
       "      <th>pop_de35a49</th>\n",
       "      <th>pop_de50a59</th>\n",
       "      <th>pop_mais_de60</th>\n",
       "      <th>domicilios_a1</th>\n",
       "      <th>domicilios_a2</th>\n",
       "      <th>domicilios_b1</th>\n",
       "      <th>domicilios_b2</th>\n",
       "      <th>domicilios_c1</th>\n",
       "      <th>domicilios_c2</th>\n",
       "      <th>domicilios_d</th>\n",
       "      <th>domicilios_e</th>\n",
       "    </tr>\n",
       "  </thead>\n",
       "  <tbody>\n",
       "    <tr>\n",
       "      <th>160</th>\n",
       "      <td>0.3481</td>\n",
       "      <td>0.3772</td>\n",
       "      <td>0.3837</td>\n",
       "      <td>0.4042</td>\n",
       "      <td>0.3974</td>\n",
       "      <td>0.4244</td>\n",
       "      <td>0.4281</td>\n",
       "      <td>0.5245</td>\n",
       "      <td>0.0000</td>\n",
       "      <td>0.0472</td>\n",
       "      <td>0.2411</td>\n",
       "      <td>0.4995</td>\n",
       "      <td>0.3630</td>\n",
       "      <td>0.3320</td>\n",
       "      <td>0.3364</td>\n",
       "      <td>0.3780</td>\n",
       "    </tr>\n",
       "  </tbody>\n",
       "</table>\n",
       "</div>"
      ],
      "text/plain": [
       "     pop_ate9  pop_de10a14  pop_de15a19  pop_de20a24  pop_de25a34  pop_de35a49  pop_de50a59  pop_mais_de60  domicilios_a1  domicilios_a2  domicilios_b1  domicilios_b2  domicilios_c1  domicilios_c2  domicilios_d  domicilios_e\n",
       "160    0.3481       0.3772       0.3837       0.4042       0.3974       0.4244       0.4281         0.5245         0.0000         0.0472         0.2411         0.4995         0.3630         0.3320        0.3364        0.3780"
      ]
     },
     "execution_count": 277,
     "metadata": {},
     "output_type": "execute_result"
    }
   ],
   "source": [
    "df_seg_scaled.head(1)"
   ]
  },
  {
   "cell_type": "markdown",
   "id": "60ed1fc2",
   "metadata": {
    "heading_collapsed": true,
    "hidden": true
   },
   "source": [
    "### Hyperparameter Fine-Tuning"
   ]
  },
  {
   "cell_type": "markdown",
   "id": "cefe0f41",
   "metadata": {
    "hidden": true
   },
   "source": [
    "Nova avaliação de cenário, agora com features reescaladas."
   ]
  },
  {
   "cell_type": "code",
   "execution_count": 278,
   "id": "3f1793f2",
   "metadata": {
    "ExecuteTime": {
     "end_time": "2023-02-13T04:08:14.614769Z",
     "start_time": "2023-02-13T04:08:13.938676Z"
    },
    "hidden": true
   },
   "outputs": [
    {
     "data": {
      "image/png": "[encoded data removed]",
      "text/plain": [
       "<Figure size 600x300 with 1 Axes>"
      ]
     },
     "metadata": {},
     "output_type": "display_data"
    }
   ],
   "source": [
    "clusters = [3,4,5,6,7,8,9,10,11,12]\n",
    "#[2,5,10,15,20,25,30] \n",
    "plt.figure(figsize = (6,3));\n",
    "kmeans_viz_scaled = KElbowVisualizer(KMeans(n_init='auto', random_state=0), k=clusters, metric='silhouette', timings=False );\n",
    "kmeans_viz_scaled.fit(df_seg_scaled);\n",
    "kmeans_viz_scaled.show();"
   ]
  },
  {
   "cell_type": "markdown",
   "id": "8c0cdadb",
   "metadata": {
    "heading_collapsed": true,
    "hidden": true
   },
   "source": [
    "## Treinamento de Modelos - K-Means"
   ]
  },
  {
   "cell_type": "markdown",
   "id": "958d2ea6",
   "metadata": {
    "hidden": true
   },
   "source": [
    "Neste ciclo, será avançado considerando k=10, e melhorias serão implementadas nos próximos."
   ]
  },
  {
   "cell_type": "code",
   "execution_count": 281,
   "id": "4ff0b863",
   "metadata": {
    "ExecuteTime": {
     "end_time": "2023-02-13T04:08:48.728459Z",
     "start_time": "2023-02-13T04:08:48.707620Z"
    },
    "hidden": true
   },
   "outputs": [],
   "source": [
    "k = 10\n",
    "kmeans = KMeans( #init='random', #init centroids ramdomly\n",
    "                  n_clusters=k, #3\n",
    "                  n_init='auto', #Num of times k-means will be run with different centroid seeds.\n",
    "                  max_iter=300, #up to 300 times\n",
    "                 random_state=0) #seed, to generate the same random init\n",
    "kmeans.fit(df_seg_scaled)\n",
    "#get cluster of each row\n",
    "labels = kmeans.labels_"
   ]
  },
  {
   "cell_type": "markdown",
   "id": "6321fdeb",
   "metadata": {
    "hidden": true
   },
   "source": [
    "Análise da SS Score."
   ]
  },
  {
   "cell_type": "code",
   "execution_count": 282,
   "id": "ec9da1b3",
   "metadata": {
    "ExecuteTime": {
     "end_time": "2023-02-13T04:08:49.403774Z",
     "start_time": "2023-02-13T04:08:49.385534Z"
    },
    "hidden": true
   },
   "outputs": [
    {
     "name": "stdout",
     "output_type": "stream",
     "text": [
      "SS Score: 0.3497188181777718\n"
     ]
    }
   ],
   "source": [
    "print(f'SS Score: {silhouette_score(df_seg_scaled, labels, metric=\"euclidean\")}')"
   ]
  },
  {
   "cell_type": "markdown",
   "id": "43dd53fc",
   "metadata": {
    "heading_collapsed": true,
    "hidden": true
   },
   "source": [
    "## Análise de Silhueta"
   ]
  },
  {
   "cell_type": "markdown",
   "id": "b24fbe4e",
   "metadata": {
    "hidden": true
   },
   "source": [
    "Na sequência, será realizada uma análise de silhueta. \n",
    "\n",
    "O objetivo é gerar figuras (shapes) que ilustrem a \"qualidade\" da clusterização (compactação, e distância entre os Ks) na alta dimensionalidade (mais de 3 clusters), tendo em vista que só conseguimos plotar graficamente até 3D. \n",
    "- Será utilizado o pacote \"SilhouetteVisualizer\" para isto. "
   ]
  },
  {
   "cell_type": "code",
   "execution_count": 284,
   "id": "ee4f8394",
   "metadata": {
    "ExecuteTime": {
     "end_time": "2023-02-13T04:09:26.214826Z",
     "start_time": "2023-02-13T04:09:25.611099Z"
    },
    "hidden": true
   },
   "outputs": [
    {
     "data": {
      "image/png": "[encoded data removed]",
      "text/plain": [
       "<Figure size 800x400 with 1 Axes>"
      ]
     },
     "metadata": {},
     "output_type": "display_data"
    }
   ],
   "source": [
    "plt.figure(figsize = (8,4));\n",
    "model = KMeans(10, random_state=42, n_init='auto')\n",
    "visualizer = SilhouetteVisualizer(model, colors='yellowbrick')\n",
    "visualizer.fit(df_seg_scaled) \n",
    "visualizer.show();"
   ]
  },
  {
   "cell_type": "markdown",
   "id": "a02af047",
   "metadata": {
    "hidden": true
   },
   "source": [
    "Considerações:\n",
    "- Se há pontos com valores negativos, deveriam pertencer a outros clusters. \n",
    "    - Foram identificados poucas incidências em poucos clusters.\n",
    "- Quanto mais quadrada a ponta direita do shape for, mais condensado e distante dos outros ele está, logo melhor é a qualidade daquele cluster. \n",
    "    - A qualidade dos clusters pode melhorar, conforme mostram os shapes. Isto será trabalhado nos próximos ciclos."
   ]
  },
  {
   "cell_type": "markdown",
   "id": "a3848e14",
   "metadata": {
    "heading_collapsed": true,
    "hidden": true
   },
   "source": [
    "## Perfis dos Clusters - K-Means"
   ]
  },
  {
   "cell_type": "code",
   "execution_count": 285,
   "id": "b2b279af",
   "metadata": {
    "ExecuteTime": {
     "end_time": "2023-02-13T04:10:02.952609Z",
     "start_time": "2023-02-13T04:10:02.929532Z"
    },
    "hidden": true
   },
   "outputs": [
    {
     "data": {
      "text/html": [
       "<div>\n",
       "<style scoped>\n",
       "    .dataframe tbody tr th:only-of-type {\n",
       "        vertical-align: middle;\n",
       "    }\n",
       "\n",
       "    .dataframe tbody tr th {\n",
       "        vertical-align: top;\n",
       "    }\n",
       "\n",
       "    .dataframe thead th {\n",
       "        text-align: right;\n",
       "    }\n",
       "</style>\n",
       "<table border=\"1\" class=\"dataframe\">\n",
       "  <thead>\n",
       "    <tr style=\"text-align: right;\">\n",
       "      <th></th>\n",
       "      <th>pop_ate9</th>\n",
       "      <th>pop_de10a14</th>\n",
       "      <th>pop_de15a19</th>\n",
       "      <th>pop_de20a24</th>\n",
       "      <th>pop_de25a34</th>\n",
       "      <th>pop_de35a49</th>\n",
       "      <th>pop_de50a59</th>\n",
       "      <th>pop_mais_de60</th>\n",
       "      <th>domicilios_a1</th>\n",
       "      <th>domicilios_a2</th>\n",
       "      <th>domicilios_b1</th>\n",
       "      <th>domicilios_b2</th>\n",
       "      <th>domicilios_c1</th>\n",
       "      <th>domicilios_c2</th>\n",
       "      <th>domicilios_d</th>\n",
       "      <th>domicilios_e</th>\n",
       "      <th>cluster</th>\n",
       "      <th>bairro</th>\n",
       "    </tr>\n",
       "  </thead>\n",
       "  <tbody>\n",
       "    <tr>\n",
       "      <th>160</th>\n",
       "      <td>12668</td>\n",
       "      <td>6853</td>\n",
       "      <td>9836</td>\n",
       "      <td>7487</td>\n",
       "      <td>14535</td>\n",
       "      <td>21549</td>\n",
       "      <td>10598</td>\n",
       "      <td>10508</td>\n",
       "      <td>0</td>\n",
       "      <td>253</td>\n",
       "      <td>2197</td>\n",
       "      <td>4368</td>\n",
       "      <td>6681</td>\n",
       "      <td>7011</td>\n",
       "      <td>2247</td>\n",
       "      <td>5670</td>\n",
       "      <td>3</td>\n",
       "      <td>A. E. Carvalho</td>\n",
       "    </tr>\n",
       "  </tbody>\n",
       "</table>\n",
       "</div>"
      ],
      "text/plain": [
       "     pop_ate9  pop_de10a14  pop_de15a19  pop_de20a24  pop_de25a34  pop_de35a49  pop_de50a59  pop_mais_de60  domicilios_a1  domicilios_a2  domicilios_b1  domicilios_b2  domicilios_c1  domicilios_c2  domicilios_d  domicilios_e  cluster          bairro\n",
       "160     12668         6853         9836         7487        14535        21549        10598          10508              0            253           2197           4368           6681           7011          2247          5670        3  A. E. Carvalho"
      ]
     },
     "execution_count": 285,
     "metadata": {},
     "output_type": "execute_result"
    }
   ],
   "source": [
    "df_kmeans = df_seg.copy()\n",
    "df_kmeans['cluster'] = labels\n",
    "df_kmeans['bairro'] = df_sp.bairro\n",
    "df_kmeans.head(1)"
   ]
  },
  {
   "cell_type": "markdown",
   "id": "7a0f7bce",
   "metadata": {
    "hidden": true
   },
   "source": [
    "Avaliar a quantidade e percentual de bairros por cluster."
   ]
  },
  {
   "cell_type": "code",
   "execution_count": 286,
   "id": "e510e567",
   "metadata": {
    "ExecuteTime": {
     "end_time": "2023-02-13T04:10:06.644258Z",
     "start_time": "2023-02-13T04:10:06.632539Z"
    },
    "hidden": true
   },
   "outputs": [],
   "source": [
    "df_kmeans_prof = df_kmeans[['bairro', 'cluster']].groupby('cluster').count().reset_index()\n",
    "df_kmeans_prof['perc_bairros'] = df_kmeans_prof['bairro'] / df_kmeans_prof['bairro'].sum()*100"
   ]
  },
  {
   "cell_type": "code",
   "execution_count": 287,
   "id": "95385902",
   "metadata": {
    "ExecuteTime": {
     "end_time": "2023-02-13T04:10:07.156045Z",
     "start_time": "2023-02-13T04:10:07.139636Z"
    },
    "hidden": true
   },
   "outputs": [
    {
     "data": {
      "text/html": [
       "<div>\n",
       "<style scoped>\n",
       "    .dataframe tbody tr th:only-of-type {\n",
       "        vertical-align: middle;\n",
       "    }\n",
       "\n",
       "    .dataframe tbody tr th {\n",
       "        vertical-align: top;\n",
       "    }\n",
       "\n",
       "    .dataframe thead th {\n",
       "        text-align: right;\n",
       "    }\n",
       "</style>\n",
       "<table border=\"1\" class=\"dataframe\">\n",
       "  <thead>\n",
       "    <tr style=\"text-align: right;\">\n",
       "      <th></th>\n",
       "      <th>cluster</th>\n",
       "      <th>bairro</th>\n",
       "      <th>perc_bairros</th>\n",
       "    </tr>\n",
       "  </thead>\n",
       "  <tbody>\n",
       "    <tr>\n",
       "      <th>0</th>\n",
       "      <td>0</td>\n",
       "      <td>13</td>\n",
       "      <td>4.3919</td>\n",
       "    </tr>\n",
       "    <tr>\n",
       "      <th>1</th>\n",
       "      <td>1</td>\n",
       "      <td>24</td>\n",
       "      <td>8.1081</td>\n",
       "    </tr>\n",
       "    <tr>\n",
       "      <th>2</th>\n",
       "      <td>2</td>\n",
       "      <td>65</td>\n",
       "      <td>21.9595</td>\n",
       "    </tr>\n",
       "  </tbody>\n",
       "</table>\n",
       "</div>"
      ],
      "text/plain": [
       "   cluster  bairro  perc_bairros\n",
       "0        0      13        4.3919\n",
       "1        1      24        8.1081\n",
       "2        2      65       21.9595"
      ]
     },
     "execution_count": 287,
     "metadata": {},
     "output_type": "execute_result"
    }
   ],
   "source": [
    "df_kmeans_prof[:3]"
   ]
  },
  {
   "cell_type": "markdown",
   "id": "9c15e660",
   "metadata": {
    "hidden": true
   },
   "source": [
    "Na sequência, serão calculadas as médias dos features, para representar o centroide dos grupos.\n",
    "\n",
    "Desta forma, será possível compreender o perfil de renda e idade dos bairros."
   ]
  },
  {
   "cell_type": "code",
   "execution_count": 288,
   "id": "2dc052de",
   "metadata": {
    "ExecuteTime": {
     "end_time": "2023-02-13T04:10:11.162045Z",
     "start_time": "2023-02-13T04:10:11.096489Z"
    },
    "hidden": true
   },
   "outputs": [],
   "source": [
    "#média da feature pop_de25a34\n",
    "df_avg_pop_de25a34 = df_kmeans[['pop_de25a34','cluster']].groupby('cluster').mean().reset_index()\n",
    "df_kmeans_prof = pd.merge(df_kmeans_prof, df_avg_pop_de25a34, how='inner', on='cluster')\n",
    "\n",
    "#média da feature pop_de35a49\n",
    "df_avg_pop_de35a49 = df_kmeans[['pop_de35a49','cluster']].groupby('cluster').mean().reset_index()\n",
    "df_kmeans_prof = pd.merge(df_kmeans_prof, df_avg_pop_de35a49, how='inner', on='cluster')\n",
    "\n",
    "#média da feature domicilios_a1\n",
    "df_avg_domicilios_a1 = df_kmeans[['domicilios_a1','cluster']].groupby('cluster').mean().reset_index()\n",
    "df_kmeans_prof = pd.merge(df_kmeans_prof, df_avg_domicilios_a1, how='inner', on='cluster')\n",
    "\n",
    "#média da feature domicilios_a1\n",
    "df_avg_domicilios_a2 = df_kmeans[['domicilios_a2','cluster']].groupby('cluster').mean().reset_index()\n",
    "df_kmeans_prof = pd.merge(df_kmeans_prof, df_avg_domicilios_a2, how='inner', on='cluster')\n",
    "\n",
    "#média da feature domicilios_b1\n",
    "df_avg_domicilios_b1 = df_kmeans[['domicilios_b1','cluster']].groupby('cluster').mean().reset_index()\n",
    "df_kmeans_prof = pd.merge(df_kmeans_prof, df_avg_domicilios_b1, how='inner', on='cluster')\n",
    "\n",
    "#média da feature domicilios_b2\n",
    "df_avg_domicilios_b2 = df_kmeans[['domicilios_b2','cluster']].groupby('cluster').mean().reset_index()\n",
    "df_kmeans_prof = pd.merge(df_kmeans_prof, df_avg_domicilios_b2, how='inner', on='cluster')"
   ]
  },
  {
   "cell_type": "markdown",
   "id": "7f302baf",
   "metadata": {
    "ExecuteTime": {
     "end_time": "2023-02-13T04:10:26.735623Z",
     "start_time": "2023-02-13T04:10:26.728078Z"
    },
    "hidden": true
   },
   "source": [
    "Criar features alvo."
   ]
  },
  {
   "cell_type": "code",
   "execution_count": 290,
   "id": "4985ffa1",
   "metadata": {
    "ExecuteTime": {
     "end_time": "2023-02-13T04:10:43.152303Z",
     "start_time": "2023-02-13T04:10:43.143002Z"
    },
    "hidden": true
   },
   "outputs": [],
   "source": [
    "df_kmeans_prof[\"pop_alvo\"] = df_kmeans_prof[\"pop_de25a34\"] + df_kmeans_prof[\"pop_de35a49\"]\n",
    "df_kmeans_prof[\"domicilios_alvo\"] = df_kmeans_prof[\"domicilios_a1\"] + df_kmeans_prof[\"domicilios_a2\"] + df_kmeans_prof[\"domicilios_b1\"] + df_kmeans_prof[\"domicilios_b2\"]"
   ]
  },
  {
   "cell_type": "markdown",
   "id": "05dff911",
   "metadata": {
    "hidden": true
   },
   "source": [
    "Ordenar por 'domicilios_alvo', sendo uma variável que concentra 4 das 6 que constituem o público alvo. "
   ]
  },
  {
   "cell_type": "code",
   "execution_count": 292,
   "id": "1446f305",
   "metadata": {
    "ExecuteTime": {
     "end_time": "2023-02-13T04:12:29.073714Z",
     "start_time": "2023-02-13T04:12:29.053799Z"
    },
    "hidden": true
   },
   "outputs": [
    {
     "data": {
      "text/html": [
       "<div>\n",
       "<style scoped>\n",
       "    .dataframe tbody tr th:only-of-type {\n",
       "        vertical-align: middle;\n",
       "    }\n",
       "\n",
       "    .dataframe tbody tr th {\n",
       "        vertical-align: top;\n",
       "    }\n",
       "\n",
       "    .dataframe thead th {\n",
       "        text-align: right;\n",
       "    }\n",
       "</style>\n",
       "<table border=\"1\" class=\"dataframe\">\n",
       "  <thead>\n",
       "    <tr style=\"text-align: right;\">\n",
       "      <th></th>\n",
       "      <th>cluster</th>\n",
       "      <th>bairro</th>\n",
       "      <th>perc_bairros</th>\n",
       "      <th>pop_de25a34</th>\n",
       "      <th>pop_de35a49</th>\n",
       "      <th>domicilios_a1</th>\n",
       "      <th>domicilios_a2</th>\n",
       "      <th>domicilios_b1</th>\n",
       "      <th>domicilios_b2</th>\n",
       "      <th>pop_alvo</th>\n",
       "      <th>domicilios_alvo</th>\n",
       "    </tr>\n",
       "  </thead>\n",
       "  <tbody>\n",
       "    <tr>\n",
       "      <th>7</th>\n",
       "      <td>7</td>\n",
       "      <td>3</td>\n",
       "      <td>1.0135</td>\n",
       "      <td>18410.6667</td>\n",
       "      <td>28565.6667</td>\n",
       "      <td>229.6667</td>\n",
       "      <td>1420.3333</td>\n",
       "      <td>7188.0000</td>\n",
       "      <td>8208.6667</td>\n",
       "      <td>46976.3333</td>\n",
       "      <td>17046.6667</td>\n",
       "    </tr>\n",
       "    <tr>\n",
       "      <th>0</th>\n",
       "      <td>0</td>\n",
       "      <td>13</td>\n",
       "      <td>4.3919</td>\n",
       "      <td>6314.7692</td>\n",
       "      <td>9178.6154</td>\n",
       "      <td>2995.0769</td>\n",
       "      <td>2691.3846</td>\n",
       "      <td>4769.9231</td>\n",
       "      <td>2250.3846</td>\n",
       "      <td>15493.3846</td>\n",
       "      <td>12706.7692</td>\n",
       "    </tr>\n",
       "    <tr>\n",
       "      <th>5</th>\n",
       "      <td>5</td>\n",
       "      <td>2</td>\n",
       "      <td>0.6757</td>\n",
       "      <td>36493.5000</td>\n",
       "      <td>49529.5000</td>\n",
       "      <td>0.0000</td>\n",
       "      <td>0.0000</td>\n",
       "      <td>1486.5000</td>\n",
       "      <td>7681.5000</td>\n",
       "      <td>86023.0000</td>\n",
       "      <td>9168.0000</td>\n",
       "    </tr>\n",
       "    <tr>\n",
       "      <th>1</th>\n",
       "      <td>1</td>\n",
       "      <td>24</td>\n",
       "      <td>8.1081</td>\n",
       "      <td>10336.2917</td>\n",
       "      <td>14901.4583</td>\n",
       "      <td>75.0417</td>\n",
       "      <td>566.2917</td>\n",
       "      <td>3418.6667</td>\n",
       "      <td>4572.7500</td>\n",
       "      <td>25237.7500</td>\n",
       "      <td>8632.7500</td>\n",
       "    </tr>\n",
       "    <tr>\n",
       "      <th>9</th>\n",
       "      <td>9</td>\n",
       "      <td>8</td>\n",
       "      <td>2.7027</td>\n",
       "      <td>21967.5000</td>\n",
       "      <td>29952.0000</td>\n",
       "      <td>0.0000</td>\n",
       "      <td>48.6250</td>\n",
       "      <td>2083.1250</td>\n",
       "      <td>5613.5000</td>\n",
       "      <td>51919.5000</td>\n",
       "      <td>7745.2500</td>\n",
       "    </tr>\n",
       "    <tr>\n",
       "      <th>6</th>\n",
       "      <td>6</td>\n",
       "      <td>41</td>\n",
       "      <td>13.8514</td>\n",
       "      <td>5891.6585</td>\n",
       "      <td>8770.1951</td>\n",
       "      <td>496.9756</td>\n",
       "      <td>997.9512</td>\n",
       "      <td>3336.7561</td>\n",
       "      <td>2876.0244</td>\n",
       "      <td>14661.8537</td>\n",
       "      <td>7707.7073</td>\n",
       "    </tr>\n",
       "    <tr>\n",
       "      <th>8</th>\n",
       "      <td>8</td>\n",
       "      <td>62</td>\n",
       "      <td>20.9459</td>\n",
       "      <td>2941.5806</td>\n",
       "      <td>4237.8548</td>\n",
       "      <td>875.5323</td>\n",
       "      <td>908.4677</td>\n",
       "      <td>1975.2903</td>\n",
       "      <td>1213.4516</td>\n",
       "      <td>7179.4355</td>\n",
       "      <td>4972.7419</td>\n",
       "    </tr>\n",
       "    <tr>\n",
       "      <th>3</th>\n",
       "      <td>3</td>\n",
       "      <td>31</td>\n",
       "      <td>10.4730</td>\n",
       "      <td>13886.1613</td>\n",
       "      <td>19416.2903</td>\n",
       "      <td>1.1935</td>\n",
       "      <td>58.9032</td>\n",
       "      <td>1188.0000</td>\n",
       "      <td>3627.5806</td>\n",
       "      <td>33302.4516</td>\n",
       "      <td>4875.6774</td>\n",
       "    </tr>\n",
       "    <tr>\n",
       "      <th>4</th>\n",
       "      <td>4</td>\n",
       "      <td>47</td>\n",
       "      <td>15.8784</td>\n",
       "      <td>6961.8936</td>\n",
       "      <td>9716.7234</td>\n",
       "      <td>13.0213</td>\n",
       "      <td>146.7872</td>\n",
       "      <td>1215.1277</td>\n",
       "      <td>2248.8723</td>\n",
       "      <td>16678.6170</td>\n",
       "      <td>3623.8085</td>\n",
       "    </tr>\n",
       "    <tr>\n",
       "      <th>2</th>\n",
       "      <td>2</td>\n",
       "      <td>65</td>\n",
       "      <td>21.9595</td>\n",
       "      <td>1394.6308</td>\n",
       "      <td>1884.6923</td>\n",
       "      <td>93.1692</td>\n",
       "      <td>127.9846</td>\n",
       "      <td>420.1231</td>\n",
       "      <td>474.1231</td>\n",
       "      <td>3279.3231</td>\n",
       "      <td>1115.4000</td>\n",
       "    </tr>\n",
       "  </tbody>\n",
       "</table>\n",
       "</div>"
      ],
      "text/plain": [
       "   cluster  bairro  perc_bairros  pop_de25a34  pop_de35a49  domicilios_a1  domicilios_a2  domicilios_b1  domicilios_b2   pop_alvo  domicilios_alvo\n",
       "7        7       3        1.0135   18410.6667   28565.6667       229.6667      1420.3333      7188.0000      8208.6667 46976.3333       17046.6667\n",
       "0        0      13        4.3919    6314.7692    9178.6154      2995.0769      2691.3846      4769.9231      2250.3846 15493.3846       12706.7692\n",
       "5        5       2        0.6757   36493.5000   49529.5000         0.0000         0.0000      1486.5000      7681.5000 86023.0000        9168.0000\n",
       "1        1      24        8.1081   10336.2917   14901.4583        75.0417       566.2917      3418.6667      4572.7500 25237.7500        8632.7500\n",
       "9        9       8        2.7027   21967.5000   29952.0000         0.0000        48.6250      2083.1250      5613.5000 51919.5000        7745.2500\n",
       "6        6      41       13.8514    5891.6585    8770.1951       496.9756       997.9512      3336.7561      2876.0244 14661.8537        7707.7073\n",
       "8        8      62       20.9459    2941.5806    4237.8548       875.5323       908.4677      1975.2903      1213.4516  7179.4355        4972.7419\n",
       "3        3      31       10.4730   13886.1613   19416.2903         1.1935        58.9032      1188.0000      3627.5806 33302.4516        4875.6774\n",
       "4        4      47       15.8784    6961.8936    9716.7234        13.0213       146.7872      1215.1277      2248.8723 16678.6170        3623.8085\n",
       "2        2      65       21.9595    1394.6308    1884.6923        93.1692       127.9846       420.1231       474.1231  3279.3231        1115.4000"
      ]
     },
     "execution_count": 292,
     "metadata": {},
     "output_type": "execute_result"
    }
   ],
   "source": [
    "df_kmeans_prof.sort_values(['domicilios_alvo'], ascending=False)"
   ]
  },
  {
   "cell_type": "markdown",
   "id": "d8ee69b5",
   "metadata": {
    "ExecuteTime": {
     "end_time": "2023-02-13T04:14:13.262791Z",
     "start_time": "2023-02-13T04:14:13.253477Z"
    },
    "hidden": true
   },
   "source": [
    "Bairros sugeridos como tendo maior aderência abaixo."
   ]
  },
  {
   "cell_type": "code",
   "execution_count": 296,
   "id": "5058f260",
   "metadata": {
    "ExecuteTime": {
     "end_time": "2023-02-13T04:14:37.053384Z",
     "start_time": "2023-02-13T04:14:37.034546Z"
    },
    "hidden": true
   },
   "outputs": [
    {
     "data": {
      "text/html": [
       "<div>\n",
       "<style scoped>\n",
       "    .dataframe tbody tr th:only-of-type {\n",
       "        vertical-align: middle;\n",
       "    }\n",
       "\n",
       "    .dataframe tbody tr th {\n",
       "        vertical-align: top;\n",
       "    }\n",
       "\n",
       "    .dataframe thead th {\n",
       "        text-align: right;\n",
       "    }\n",
       "</style>\n",
       "<table border=\"1\" class=\"dataframe\">\n",
       "  <thead>\n",
       "    <tr style=\"text-align: right;\">\n",
       "      <th></th>\n",
       "      <th>pop_ate9</th>\n",
       "      <th>pop_de10a14</th>\n",
       "      <th>pop_de15a19</th>\n",
       "      <th>pop_de20a24</th>\n",
       "      <th>pop_de25a34</th>\n",
       "      <th>pop_de35a49</th>\n",
       "      <th>pop_de50a59</th>\n",
       "      <th>pop_mais_de60</th>\n",
       "      <th>domicilios_a1</th>\n",
       "      <th>domicilios_a2</th>\n",
       "      <th>domicilios_b1</th>\n",
       "      <th>domicilios_b2</th>\n",
       "      <th>domicilios_c1</th>\n",
       "      <th>domicilios_c2</th>\n",
       "      <th>domicilios_d</th>\n",
       "      <th>domicilios_e</th>\n",
       "      <th>cluster</th>\n",
       "      <th>bairro</th>\n",
       "    </tr>\n",
       "  </thead>\n",
       "  <tbody>\n",
       "    <tr>\n",
       "      <th>311</th>\n",
       "      <td>10460</td>\n",
       "      <td>5343</td>\n",
       "      <td>8437</td>\n",
       "      <td>7250</td>\n",
       "      <td>15585</td>\n",
       "      <td>26002</td>\n",
       "      <td>15124</td>\n",
       "      <td>20034</td>\n",
       "      <td>681</td>\n",
       "      <td>2099</td>\n",
       "      <td>9111</td>\n",
       "      <td>7819</td>\n",
       "      <td>7147</td>\n",
       "      <td>5291</td>\n",
       "      <td>1331</td>\n",
       "      <td>5035</td>\n",
       "      <td>7</td>\n",
       "      <td>Mandaqui</td>\n",
       "    </tr>\n",
       "    <tr>\n",
       "      <th>382</th>\n",
       "      <td>15491</td>\n",
       "      <td>7279</td>\n",
       "      <td>11248</td>\n",
       "      <td>9278</td>\n",
       "      <td>20806</td>\n",
       "      <td>31195</td>\n",
       "      <td>16974</td>\n",
       "      <td>18736</td>\n",
       "      <td>0</td>\n",
       "      <td>1290</td>\n",
       "      <td>7360</td>\n",
       "      <td>8744</td>\n",
       "      <td>9817</td>\n",
       "      <td>7580</td>\n",
       "      <td>2429</td>\n",
       "      <td>7780</td>\n",
       "      <td>7</td>\n",
       "      <td>Sacomã</td>\n",
       "    </tr>\n",
       "    <tr>\n",
       "      <th>454</th>\n",
       "      <td>14670</td>\n",
       "      <td>7305</td>\n",
       "      <td>11225</td>\n",
       "      <td>9338</td>\n",
       "      <td>18841</td>\n",
       "      <td>28500</td>\n",
       "      <td>16700</td>\n",
       "      <td>19285</td>\n",
       "      <td>8</td>\n",
       "      <td>872</td>\n",
       "      <td>5093</td>\n",
       "      <td>8063</td>\n",
       "      <td>10012</td>\n",
       "      <td>8082</td>\n",
       "      <td>2856</td>\n",
       "      <td>6853</td>\n",
       "      <td>7</td>\n",
       "      <td>Vila Zatt</td>\n",
       "    </tr>\n",
       "  </tbody>\n",
       "</table>\n",
       "</div>"
      ],
      "text/plain": [
       "     pop_ate9  pop_de10a14  pop_de15a19  pop_de20a24  pop_de25a34  pop_de35a49  pop_de50a59  pop_mais_de60  domicilios_a1  domicilios_a2  domicilios_b1  domicilios_b2  domicilios_c1  domicilios_c2  domicilios_d  domicilios_e  cluster     bairro\n",
       "311     10460         5343         8437         7250        15585        26002        15124          20034            681           2099           9111           7819           7147           5291          1331          5035        7   Mandaqui\n",
       "382     15491         7279        11248         9278        20806        31195        16974          18736              0           1290           7360           8744           9817           7580          2429          7780        7     Sacomã\n",
       "454     14670         7305        11225         9338        18841        28500        16700          19285              8            872           5093           8063          10012           8082          2856          6853        7  Vila Zatt"
      ]
     },
     "execution_count": 296,
     "metadata": {},
     "output_type": "execute_result"
    }
   ],
   "source": [
    "df_kmeans.loc[df_kmeans.cluster == 7 ]"
   ]
  },
  {
   "cell_type": "markdown",
   "id": "04d32c9f",
   "metadata": {
    "hidden": true
   },
   "source": [
    "Foram selecionados os 3 bairros com maior aderência neste ciclo, priorizando a feature 'domicilios_alvo'."
   ]
  },
  {
   "cell_type": "markdown",
   "id": "b8295918",
   "metadata": {
    "hidden": true
   },
   "source": [
    "Atribui ao relatório de SP a variável 'maior_aderencia', junto das análises 1 e 2."
   ]
  },
  {
   "cell_type": "code",
   "execution_count": 313,
   "id": "ed5bed63",
   "metadata": {
    "ExecuteTime": {
     "end_time": "2023-02-13T04:25:40.305754Z",
     "start_time": "2023-02-13T04:25:40.281631Z"
    },
    "hidden": true
   },
   "outputs": [
    {
     "data": {
      "text/html": [
       "<div>\n",
       "<style scoped>\n",
       "    .dataframe tbody tr th:only-of-type {\n",
       "        vertical-align: middle;\n",
       "    }\n",
       "\n",
       "    .dataframe tbody tr th {\n",
       "        vertical-align: top;\n",
       "    }\n",
       "\n",
       "    .dataframe thead th {\n",
       "        text-align: right;\n",
       "    }\n",
       "</style>\n",
       "<table border=\"1\" class=\"dataframe\">\n",
       "  <thead>\n",
       "    <tr style=\"text-align: right;\">\n",
       "      <th></th>\n",
       "      <th>codigo</th>\n",
       "      <th>bairro</th>\n",
       "      <th>cidade</th>\n",
       "      <th>estado</th>\n",
       "      <th>populacao</th>\n",
       "      <th>pop_ate9</th>\n",
       "      <th>pop_de10a14</th>\n",
       "      <th>pop_de15a19</th>\n",
       "      <th>pop_de20a24</th>\n",
       "      <th>pop_de25a34</th>\n",
       "      <th>pop_de35a49</th>\n",
       "      <th>pop_de50a59</th>\n",
       "      <th>pop_mais_de60</th>\n",
       "      <th>domicilios_a1</th>\n",
       "      <th>domicilios_a2</th>\n",
       "      <th>domicilios_b1</th>\n",
       "      <th>domicilios_b2</th>\n",
       "      <th>domicilios_c1</th>\n",
       "      <th>domicilios_c2</th>\n",
       "      <th>domicilios_d</th>\n",
       "      <th>domicilios_e</th>\n",
       "      <th>renda_media</th>\n",
       "      <th>faturamento</th>\n",
       "      <th>potencial</th>\n",
       "      <th>maior_aderencia</th>\n",
       "    </tr>\n",
       "  </thead>\n",
       "  <tbody>\n",
       "    <tr>\n",
       "      <th>453</th>\n",
       "      <td>355030162</td>\n",
       "      <td>Vila Terezinha</td>\n",
       "      <td>São Paulo</td>\n",
       "      <td>SP</td>\n",
       "      <td>122359</td>\n",
       "      <td>18304</td>\n",
       "      <td>9304</td>\n",
       "      <td>13258</td>\n",
       "      <td>9965</td>\n",
       "      <td>19248</td>\n",
       "      <td>26592</td>\n",
       "      <td>12579</td>\n",
       "      <td>13109</td>\n",
       "      <td>0</td>\n",
       "      <td>0</td>\n",
       "      <td>1758</td>\n",
       "      <td>4517</td>\n",
       "      <td>9450</td>\n",
       "      <td>11473</td>\n",
       "      <td>3218</td>\n",
       "      <td>7540</td>\n",
       "      <td>1252</td>\n",
       "      <td>140370.0500</td>\n",
       "      <td>Alto</td>\n",
       "      <td>Não</td>\n",
       "    </tr>\n",
       "    <tr>\n",
       "      <th>454</th>\n",
       "      <td>355030157</td>\n",
       "      <td>Vila Zatt</td>\n",
       "      <td>São Paulo</td>\n",
       "      <td>SP</td>\n",
       "      <td>125864</td>\n",
       "      <td>14670</td>\n",
       "      <td>7305</td>\n",
       "      <td>11225</td>\n",
       "      <td>9338</td>\n",
       "      <td>18841</td>\n",
       "      <td>28500</td>\n",
       "      <td>16700</td>\n",
       "      <td>19285</td>\n",
       "      <td>8</td>\n",
       "      <td>872</td>\n",
       "      <td>5093</td>\n",
       "      <td>8063</td>\n",
       "      <td>10012</td>\n",
       "      <td>8082</td>\n",
       "      <td>2856</td>\n",
       "      <td>6853</td>\n",
       "      <td>1936</td>\n",
       "      <td>260146.4500</td>\n",
       "      <td>Alto</td>\n",
       "      <td>Sim</td>\n",
       "    </tr>\n",
       "    <tr>\n",
       "      <th>455</th>\n",
       "      <td>355030164</td>\n",
       "      <td>Vista Alegre</td>\n",
       "      <td>São Paulo</td>\n",
       "      <td>SP</td>\n",
       "      <td>106</td>\n",
       "      <td>23</td>\n",
       "      <td>7</td>\n",
       "      <td>15</td>\n",
       "      <td>11</td>\n",
       "      <td>15</td>\n",
       "      <td>26</td>\n",
       "      <td>4</td>\n",
       "      <td>5</td>\n",
       "      <td>0</td>\n",
       "      <td>0</td>\n",
       "      <td>0</td>\n",
       "      <td>6</td>\n",
       "      <td>9</td>\n",
       "      <td>8</td>\n",
       "      <td>2</td>\n",
       "      <td>4</td>\n",
       "      <td>1288</td>\n",
       "      <td>810818.7000</td>\n",
       "      <td>Baixo</td>\n",
       "      <td>Não</td>\n",
       "    </tr>\n",
       "  </tbody>\n",
       "</table>\n",
       "</div>"
      ],
      "text/plain": [
       "        codigo          bairro     cidade estado  populacao  pop_ate9  pop_de10a14  pop_de15a19  pop_de20a24  pop_de25a34  pop_de35a49  pop_de50a59  pop_mais_de60  domicilios_a1  domicilios_a2  domicilios_b1  domicilios_b2  domicilios_c1  domicilios_c2  domicilios_d  domicilios_e renda_media  faturamento potencial maior_aderencia\n",
       "453  355030162  Vila Terezinha  São Paulo     SP     122359     18304         9304        13258         9965        19248        26592        12579          13109              0              0           1758           4517           9450          11473          3218          7540        1252  140370.0500      Alto             Não\n",
       "454  355030157       Vila Zatt  São Paulo     SP     125864     14670         7305        11225         9338        18841        28500        16700          19285              8            872           5093           8063          10012           8082          2856          6853        1936  260146.4500      Alto             Sim\n",
       "455  355030164    Vista Alegre  São Paulo     SP        106        23            7           15           11           15           26            4              5              0              0              0              6              9              8             2             4        1288  810818.7000     Baixo             Não"
      ]
     },
     "execution_count": 313,
     "metadata": {},
     "output_type": "execute_result"
    }
   ],
   "source": [
    "df_sp['cluster'] = labels\n",
    "df_sp['maior_aderencia'] = df_sp.cluster.apply(lambda x: 'Sim' if x==7 else 'Não')\n",
    "df_sp = df_sp.drop('cluster', axis=1)\n",
    "df_sp.tail(3)"
   ]
  },
  {
   "cell_type": "markdown",
   "id": "9ebb21bb",
   "metadata": {
    "hidden": true
   },
   "source": [
    "Salvar relatório contendo as respostas das 3 análises."
   ]
  },
  {
   "cell_type": "code",
   "execution_count": 314,
   "id": "c09a0bcf",
   "metadata": {
    "ExecuteTime": {
     "end_time": "2023-02-13T04:25:59.167241Z",
     "start_time": "2023-02-13T04:25:59.155255Z"
    },
    "hidden": true
   },
   "outputs": [],
   "source": [
    "df_sp.to_csv('../data/interim/df_sp_an1e2e3_done.csv')"
   ]
  },
  {
   "cell_type": "markdown",
   "id": "e1e6d7ea",
   "metadata": {
    "heading_collapsed": true
   },
   "source": [
    "# 4 - Lições aprendidas"
   ]
  },
  {
   "cell_type": "markdown",
   "id": "e8d3d63d",
   "metadata": {
    "ExecuteTime": {
     "end_time": "2023-02-12T11:11:43.738229Z",
     "start_time": "2023-02-12T11:11:43.726954Z"
    },
    "hidden": true
   },
   "source": [
    "Lições aprendidas até o ciclo 5:\n",
    "\n",
    "- Em projetos com mais de um problema de negócio (caso deste, com 3 análises), desenvolver notebooks distintospara cada análise, visando maior organização.\n",
    "- Tratar as features de produção (df_sp neste caso) conforme for desenvolvendo o projeto, pra dispensando tratativas na hora de criar o modelo final. \n",
    "- Caso não utilize pipelines, a seguinte ordem dos passos (para cada análise) desde o início facilita o desenvolvimento: 1) Split de dados (antes da modelagem, para evitar data leakeage), 2) Modelagem (fit_transform no treino, transforme em val, test e dado prod) 3) Feature Selection (deve ser após o split, pois ao utilizar modelos, requerem train e val).\n",
    "    \n",
    "PS: Discutir os tópicos com outros cientistas de dados, para obter suas perspectivas baseadas na sua experiência."
   ]
  },
  {
   "cell_type": "markdown",
   "id": "f84e8c59",
   "metadata": {
    "heading_collapsed": true
   },
   "source": [
    "# 5  - Melhorias para próximos ciclos"
   ]
  },
  {
   "cell_type": "markdown",
   "id": "45485df9",
   "metadata": {
    "hidden": true
   },
   "source": [
    "Análise 1 (regressão):\n",
    "- Realização de análise de resíduos com base nas métricsa de erros.\n",
    "- Tratativa da variável resposta, normalizando ela (Response Variable Transformation).\n",
    "\n",
    "Análise 2 (classificação):\n",
    "- Gerar tabela de contingência e inspecionar detalhes de erros e acertos por classes, e métricas precision e recall.\n",
    "\n",
    "Análise 3 (clusterização):\n",
    "- Obtenção de coordenadas geográficas de cada bairro de São Paulo indicado com \"maior_aderencia\", e plot em mapa.\n",
    "- Treinamento de novos algoritmos: Gaussian Mixture Model, Hierarchical Clustering, DBScan.\n",
    "- Busca de um espaço espaço de embedding mais organizado com PCA, UMAP, t-SNE, ou um tree based model.\n",
    "\n",
    "Geral:\n",
    "- Coleta de novas features, e avaliação de aumento da performance dos modelos finais.\n",
    "- Criação e validação de hipóteses, e geração de insights ao time de negócio.\n",
    "- Implementar pipelines para data preparation, model training e cross validation, simplificando o processo."
   ]
  }
 ],
 "metadata": {
  "kernelspec": {
   "display_name": "Python 3 (ipykernel)",
   "language": "python",
   "name": "python3"
  },
  "language_info": {
   "codemirror_mode": {
    "name": "ipython",
    "version": 3
   },
   "file_extension": ".py",
   "mimetype": "text/x-python",
   "name": "python",
   "nbconvert_exporter": "python",
   "pygments_lexer": "ipython3",
   "version": "3.8.12"
  },
  "toc": {
   "base_numbering": 1,
   "nav_menu": {},
   "number_sections": true,
   "sideBar": true,
   "skip_h1_title": false,
   "title_cell": "Table of Contents",
   "title_sidebar": "Contents",
   "toc_cell": false,
   "toc_position": {},
   "toc_section_display": true,
   "toc_window_display": false
  }
 },
 "nbformat": 4,
 "nbformat_minor": 5
}
