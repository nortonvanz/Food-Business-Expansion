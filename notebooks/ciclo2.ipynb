{
 "cells": [
  {
   "cell_type": "markdown",
   "id": "991009cd",
   "metadata": {
    "heading_collapsed": true
   },
   "source": [
    "# 1 -  Planejamento da Solução"
   ]
  },
  {
   "cell_type": "markdown",
   "id": "5e9394b4",
   "metadata": {
    "hidden": true
   },
   "source": [
    "**Qual é o problema de negócio?**\n",
    "\n",
    "- Empresa alimentícia situada no RJ, deseja abrir filiais na cidade de São Paulo. Para isso, precisa de 3 análises:\n",
    "    - 1 - Estimar faturamento que uma loja teria em cada um dos bairros de São Paulo (regressão, neste caso sem séries temporais).\n",
    "    - 2 - Classificar o potencial dos bairros de São Paulo em alto, médio ou baixo (classificação multiclasse).\n",
    "    - 3 - Segmentar os bairros de São Paulo de acordo com o perfil de renda e idade, identificando os com maior aderência ao público alvo.\n",
    "    \n",
    "- Público alvo: adultos de 25 a 50 anos, das classes A (rendas A1 e A2) e B (rendas B1 e B2). \n",
    "\n",
    "**Saída**\n",
    "\n",
    "- Prototipagem técnica da solução: https://docs.google.com/spreadsheets/d/17lxCBRLPEuNCO25BimVFRE3Tms-314WSTpJ1xgEIf38/edit#gid=0\n",
    "\n",
    "- O que será entregue, efetivamente? / Onde o time de negócio quer ver?\n",
    "    - Documento no formato doc, pdf ou ppt, voltado ao negócio, apresentando um racional de como os dados foram analisados. Detalhar com gráficos, tabelas, e descrever conclusões.\n",
    "    - Responder: Dada a natureza do problema apresentado, que outro dado externo (fontes públicas ou privadas) poderia ser utilizado para agregar mais valor ao resultado? Por que?\n",
    "    \n",
    "**Entrada**\n",
    "- Fontes de dados:\n",
    "    - Dataset contendo faturamento e potencial dos bairros do Rio de Janeiro do cliente, bem como dados sociodemográficos do bairros do Rio de Janeiro e São Paulo.\n",
    "\n",
    "- Ferramentas:\n",
    "    - Python 3.8.12, Jupyter Notebook, Git, Github.\n",
    "\n",
    "**Processamento**\n",
    "- Tipo de problema: análise exploratória, regressão, classificação e clusterização.\n",
    "- Metodologia: CRISP-DM, metodologia ágil (iterativa e incremental) para desenvolvimento de projetos de ciência de dados.\n"
   ]
  },
  {
   "cell_type": "markdown",
   "id": "5e8ff47f",
   "metadata": {
    "hidden": true
   },
   "source": [
    "**Estratégia de condução**\n",
    "- Ciclo 1: concluído.\n",
    "\n",
    "- Ciclo 2: \n",
    "    - Estatística descritiva. \n",
    "    - Avaliação da presença de outliers.\n",
    "    - Feature engineering: criar 2 features que resumem idade e renda do público alvo, e avaliar outras derivações. \n",
    "    - EDA em df_rj com Sweetviz + considerações.\n",
    "    - Modelagem de dados (data preparation).\n",
    "    - Feature selection.\n",
    "        - Model Based feature selection.\n",
    "        - Custom Feature Selection (só features alvo resumidas)\n",
    "    - Análises 1 e 2: implementação de múltiplos K no baseline + avaliação da melhoria do baseline. \n",
    "    - Análise 3: avaliação de melhoria do k-meanns + criação de variável indicando bairro ser do grupo de maior aderência como Sim e Não (conforme planejado via Sheets) + indicar grupo com maior aderência do público alvo.\n",
    "\n",
    "- Ciclo 3: (esboço)\n",
    "    - (Análises 1 e 2):\n",
    "    - Machine Learning Modelling (implementar modelos com outras abordagens: linear, trees.. com pipelines)\n",
    "    - Avaliação de performance dos modelos.\n",
    "        - Análise 1: Interpretação e tradução do erro.\n",
    "    - Tunagem de Hiperparâmetros.\n",
    "    - Modelo final.\n",
    "    - Performance de negócio + resultados financeiros.\n",
    "    - (Análise 3):\n",
    "    - Novos algoritmos: Gaussian Mixture Model, Hierarchical Clustering, DBScan.\n",
    "    - Possibilidades: estudo de espaço de dados: PCA, UMAP e t-SNE, tree based, análise de silhueta, redução de dimensionalidade, buscando um espaço de dados mais organizado.\n",
    "    \n",
    "- Ciclo 4: (esboço)\n",
    "    - Criar apresentação ao time de negócios.\n",
    "    - Responder: Dada a natureza do problema apresentado, que outro dado externo (fontes públicas ou privadas) poderia ser utilizado para agregar mais valor ao resultado? Por que?\n",
    "        - Coleta de novas features, e avaliação de aumento da performance dos modelos finais.\n",
    "    - Criação e validação de hipóteses, e geração de insights ao time de negócio.\n",
    "    - Plot dos dados em mapas."
   ]
  },
  {
   "cell_type": "markdown",
   "id": "b47be93d",
   "metadata": {},
   "source": [
    "# 2 - Importações"
   ]
  },
  {
   "cell_type": "markdown",
   "id": "4ff6200e",
   "metadata": {},
   "source": [
    "## Bibliotecas"
   ]
  },
  {
   "cell_type": "code",
   "execution_count": 48,
   "id": "4103e4fa",
   "metadata": {
    "ExecuteTime": {
     "end_time": "2023-02-10T13:10:07.586485Z",
     "start_time": "2023-02-10T13:10:07.579162Z"
    }
   },
   "outputs": [],
   "source": [
    "import pandas                      as pd \n",
    "import seaborn                     as sns\n",
    "import numpy                       as np\n",
    "import inflection\n",
    "from IPython.core.display          import HTML\n",
    "from matplotlib                    import pyplot as plt\n",
    "from tabulate                      import tabulate\n",
    "from matplotlib.ticker             import FuncFormatter\n",
    "\n",
    "from sklearn.model_selection       import train_test_split\n",
    "from sklearn.neighbors             import KNeighborsRegressor, KNeighborsClassifier\n",
    "from sklearn.cluster               import KMeans\n",
    "from yellowbrick.cluster           import KElbowVisualizer\n",
    "from sklearn.metrics               import silhouette_score, r2_score, accuracy_score"
   ]
  },
  {
   "cell_type": "markdown",
   "id": "6a652348",
   "metadata": {
    "heading_collapsed": true
   },
   "source": [
    "## Funções Auxiliares"
   ]
  },
  {
   "cell_type": "code",
   "execution_count": 21,
   "id": "b44e4067",
   "metadata": {
    "ExecuteTime": {
     "end_time": "2023-02-10T12:21:13.364601Z",
     "start_time": "2023-02-10T12:21:13.347170Z"
    },
    "hidden": true,
    "scrolled": true
   },
   "outputs": [
    {
     "data": {
      "text/html": [
       "<style>.container { width:100% !important; }</style>"
      ],
      "text/plain": [
       "<IPython.core.display.HTML object>"
      ]
     },
     "metadata": {},
     "output_type": "display_data"
    }
   ],
   "source": [
    "def jupyter_settings():\n",
    "    \"\"\" Otimiza configurações gerais, padronizando tamanhos de plots, etc \"\"\"\n",
    "    %matplotlib inline\n",
    "    plt.style.use( 'bmh' )\n",
    "    plt.rcParams['figure.figsize'] = [25, 12]\n",
    "    plt.rcParams['font.size'] = 24\n",
    "    display( HTML( '<style>.container { width:100% !important; }</style>') )\n",
    "    pd.options.display.max_columns = None\n",
    "    pd.options.display.max_rows = None\n",
    "    pd.set_option( 'display.expand_frame_repr', False )\n",
    "    sns.set()\n",
    "    pd.set_option('display.max_columns', 30)\n",
    "    pd.set_option('display.max_rows', 30)\n",
    "    pd.set_option('display.float_format', lambda x: '%.2f' % x)\n",
    "jupyter_settings()"
   ]
  },
  {
   "cell_type": "markdown",
   "id": "7ed11f26",
   "metadata": {
    "heading_collapsed": true
   },
   "source": [
    "## Coleta de Dados"
   ]
  },
  {
   "cell_type": "markdown",
   "id": "29c1ec50",
   "metadata": {
    "hidden": true
   },
   "source": [
    "Carregamento dos dados originais do xlsx."
   ]
  },
  {
   "cell_type": "code",
   "execution_count": 26,
   "id": "afa3aa49",
   "metadata": {
    "ExecuteTime": {
     "end_time": "2023-02-10T10:02:27.980406Z",
     "start_time": "2023-02-10T10:02:27.599149Z"
    },
    "hidden": true
   },
   "outputs": [
    {
     "name": "stdout",
     "output_type": "stream",
     "text": [
      "(456, 24)\n"
     ]
    },
    {
     "data": {
      "text/html": [
       "<div>\n",
       "<style scoped>\n",
       "    .dataframe tbody tr th:only-of-type {\n",
       "        vertical-align: middle;\n",
       "    }\n",
       "\n",
       "    .dataframe tbody tr th {\n",
       "        vertical-align: top;\n",
       "    }\n",
       "\n",
       "    .dataframe thead th {\n",
       "        text-align: right;\n",
       "    }\n",
       "</style>\n",
       "<table border=\"1\" class=\"dataframe\">\n",
       "  <thead>\n",
       "    <tr style=\"text-align: right;\">\n",
       "      <th></th>\n",
       "      <th>codigo</th>\n",
       "      <th>nome</th>\n",
       "      <th>cidade</th>\n",
       "      <th>estado</th>\n",
       "      <th>população</th>\n",
       "      <th>popAte9</th>\n",
       "      <th>popDe10a14</th>\n",
       "      <th>popDe15a19</th>\n",
       "      <th>popDe20a24</th>\n",
       "      <th>popDe25a34</th>\n",
       "      <th>popDe35a49</th>\n",
       "      <th>popDe50a59</th>\n",
       "      <th>popMaisDe60</th>\n",
       "      <th>domiciliosA1</th>\n",
       "      <th>domiciliosA2</th>\n",
       "      <th>domiciliosB1</th>\n",
       "      <th>domiciliosB2</th>\n",
       "      <th>domiciliosC1</th>\n",
       "      <th>domiciliosC2</th>\n",
       "      <th>domiciliosD</th>\n",
       "      <th>domiciliosE</th>\n",
       "      <th>rendaMedia</th>\n",
       "      <th>faturamento</th>\n",
       "      <th>potencial</th>\n",
       "    </tr>\n",
       "  </thead>\n",
       "  <tbody>\n",
       "    <tr>\n",
       "      <th>0</th>\n",
       "      <td>3304557060</td>\n",
       "      <td>Abolição</td>\n",
       "      <td>Rio de Janeiro</td>\n",
       "      <td>RJ</td>\n",
       "      <td>11676</td>\n",
       "      <td>1027</td>\n",
       "      <td>483</td>\n",
       "      <td>688</td>\n",
       "      <td>800</td>\n",
       "      <td>1675</td>\n",
       "      <td>2300</td>\n",
       "      <td>1784</td>\n",
       "      <td>2919</td>\n",
       "      <td>0</td>\n",
       "      <td>145</td>\n",
       "      <td>715</td>\n",
       "      <td>1242</td>\n",
       "      <td>1093</td>\n",
       "      <td>758</td>\n",
       "      <td>92</td>\n",
       "      <td>304</td>\n",
       "      <td>2501</td>\n",
       "      <td>932515.0</td>\n",
       "      <td>Médio</td>\n",
       "    </tr>\n",
       "    <tr>\n",
       "      <th>1</th>\n",
       "      <td>3304557138</td>\n",
       "      <td>Acari</td>\n",
       "      <td>Rio de Janeiro</td>\n",
       "      <td>RJ</td>\n",
       "      <td>27564</td>\n",
       "      <td>5131</td>\n",
       "      <td>2188</td>\n",
       "      <td>2697</td>\n",
       "      <td>2630</td>\n",
       "      <td>4810</td>\n",
       "      <td>5308</td>\n",
       "      <td>2403</td>\n",
       "      <td>2397</td>\n",
       "      <td>0</td>\n",
       "      <td>0</td>\n",
       "      <td>82</td>\n",
       "      <td>506</td>\n",
       "      <td>2040</td>\n",
       "      <td>2490</td>\n",
       "      <td>827</td>\n",
       "      <td>2506</td>\n",
       "      <td>931</td>\n",
       "      <td>588833.0</td>\n",
       "      <td>Baixo</td>\n",
       "    </tr>\n",
       "    <tr>\n",
       "      <th>2</th>\n",
       "      <td>3304557057</td>\n",
       "      <td>Água Santa</td>\n",
       "      <td>Rio de Janeiro</td>\n",
       "      <td>RJ</td>\n",
       "      <td>9003</td>\n",
       "      <td>883</td>\n",
       "      <td>399</td>\n",
       "      <td>597</td>\n",
       "      <td>762</td>\n",
       "      <td>1755</td>\n",
       "      <td>2076</td>\n",
       "      <td>1112</td>\n",
       "      <td>1419</td>\n",
       "      <td>0</td>\n",
       "      <td>96</td>\n",
       "      <td>404</td>\n",
       "      <td>652</td>\n",
       "      <td>644</td>\n",
       "      <td>522</td>\n",
       "      <td>77</td>\n",
       "      <td>254</td>\n",
       "      <td>2391</td>\n",
       "      <td>874200.0</td>\n",
       "      <td>Baixo</td>\n",
       "    </tr>\n",
       "  </tbody>\n",
       "</table>\n",
       "</div>"
      ],
      "text/plain": [
       "       codigo        nome          cidade estado  população  popAte9  popDe10a14  popDe15a19  popDe20a24  popDe25a34  popDe35a49  popDe50a59  popMaisDe60  domiciliosA1  domiciliosA2  domiciliosB1  domiciliosB2  domiciliosC1  domiciliosC2  domiciliosD  domiciliosE rendaMedia  faturamento potencial\n",
       "0  3304557060    Abolição  Rio de Janeiro     RJ      11676     1027         483         688         800        1675        2300        1784         2919             0           145           715          1242          1093           758           92          304       2501     932515.0     Médio\n",
       "1  3304557138       Acari  Rio de Janeiro     RJ      27564     5131        2188        2697        2630        4810        5308        2403         2397             0             0            82           506          2040          2490          827         2506        931     588833.0     Baixo\n",
       "2  3304557057  Água Santa  Rio de Janeiro     RJ       9003      883         399         597         762        1755        2076        1112         1419             0            96           404           652           644           522           77          254       2391     874200.0     Baixo"
      ]
     },
     "execution_count": 26,
     "metadata": {},
     "output_type": "execute_result"
    }
   ],
   "source": [
    "df_raw = pd.read_excel(\"../data/raw/data_raw.xlsx\")\n",
    "print(df_raw.shape)\n",
    "df_raw.head(3)"
   ]
  },
  {
   "cell_type": "markdown",
   "id": "fced5199",
   "metadata": {},
   "source": [
    "# 3 - Limpeza e Análise Preliminar"
   ]
  },
  {
   "cell_type": "markdown",
   "id": "95e386e8",
   "metadata": {
    "heading_collapsed": true
   },
   "source": [
    "## Renomear Colunas"
   ]
  },
  {
   "cell_type": "markdown",
   "id": "4ccecf4b",
   "metadata": {
    "hidden": true
   },
   "source": [
    "Padroinzar nome das variáveis no formato snake_case, melhorando sua legibilidade."
   ]
  },
  {
   "cell_type": "code",
   "execution_count": 4,
   "id": "b649f354",
   "metadata": {
    "ExecuteTime": {
     "end_time": "2023-02-10T09:57:02.558565Z",
     "start_time": "2023-02-10T09:57:02.545054Z"
    },
    "hidden": true
   },
   "outputs": [
    {
     "data": {
      "text/plain": [
       "Index(['codigo', 'bairro', 'cidade', 'estado', 'populacao', 'pop_ate9',\n",
       "       'pop_de10a14', 'pop_de15a19', 'pop_de20a24', 'pop_de25a34',\n",
       "       'pop_de35a49', 'pop_de50a59', 'pop_mais_de60', 'domicilios_a1',\n",
       "       'domicilios_a2', 'domicilios_b1', 'domicilios_b2', 'domicilios_c1',\n",
       "       'domicilios_c2', 'domicilios_d', 'domicilios_e', 'renda_media',\n",
       "       'faturamento', 'potencial'],\n",
       "      dtype='object')"
      ]
     },
     "execution_count": 4,
     "metadata": {},
     "output_type": "execute_result"
    }
   ],
   "source": [
    "cols_old = ['codigo', 'bairro', 'cidade', 'estado', 'populacao', 'popAte9',\n",
    "       'popDe10a14', 'popDe15a19', 'popDe20a24', 'popDe25a34', 'popDe35a49',\n",
    "       'popDe50a59', 'popMaisDe60', 'domiciliosA1', 'domiciliosA2',\n",
    "       'domiciliosB1', 'domiciliosB2', 'domiciliosC1', 'domiciliosC2',\n",
    "       'domiciliosD', 'domiciliosE', 'rendaMedia', 'faturamento', 'potencial']\n",
    "snakecase = lambda x: inflection.underscore ( x )\n",
    "cols_new = list( map( snakecase, cols_old ) )\n",
    "df_raw.columns = cols_new\n",
    "df_raw.columns"
   ]
  },
  {
   "cell_type": "markdown",
   "id": "4e903f53",
   "metadata": {},
   "source": [
    "## Dicionário de Dados"
   ]
  },
  {
   "cell_type": "markdown",
   "id": "1db26a5f",
   "metadata": {},
   "source": [
    "Compreender com clareza o significado de cada variável é fundamental para avançar no projeto."
   ]
  },
  {
   "cell_type": "code",
   "execution_count": 6,
   "id": "b62b9e83",
   "metadata": {
    "ExecuteTime": {
     "end_time": "2023-02-10T09:57:09.056558Z",
     "start_time": "2023-02-10T09:57:09.039894Z"
    }
   },
   "outputs": [
    {
     "name": "stdout",
     "output_type": "stream",
     "text": [
      "Coluna         Significado\n",
      "-------------  ------------------------------------\n",
      "codigo         Código do bairro\n",
      "bairro         Nome do bairro\n",
      "cidade         Cidade\n",
      "estado         Estado\n",
      "populacao      População total\n",
      "pop_ate9       População - até 9 anos\n",
      "pop_de10a14    População - de 10 a 14 anos\n",
      "pop_de15a19    População - de 15 a 19 anos\n",
      "pop_de20a24    População - de 20 a 24 anos\n",
      "pop_de25a34    População - de 25 a 34 anos\n",
      "pop_de35a49    População - de 35 a 49 anos\n",
      "pop_de50a59    População - de 50 a 59 anos\n",
      "pop_mais_de60  População - 60 anos ou mais\n",
      "domicilios_a1  Quantidade de Domicílios de Renda A1\n",
      "domicilios_a2  Quantidade de Domicílios de Renda A2\n",
      "domicilios_b1  Quantidade de Domicílios de Renda B1\n",
      "domicilios_b2  Quantidade de Domicílios de Renda B2\n",
      "domicilios_c1  Quantidade de Domicílios de Renda C1\n",
      "domicilios_c2  Quantidade de Domicílios de Renda C2\n",
      "domicilios_d   Quantidade de Domicílios de Renda D\n",
      "domicilios_e   Quantidade de Domicílios de Renda E\n",
      "renda_media    Renda Média por Domicílio\n",
      "faturamento    Faturamento Total no Bairro\n",
      "potencial      Potencial do Bairro\n"
     ]
    }
   ],
   "source": [
    "tab = [['Coluna', 'Significado'],   \n",
    "       ['codigo', 'Código do bairro'],\n",
    "       ['bairro', 'Nome do bairro'],\n",
    "       ['cidade', 'Cidade'],\n",
    "       ['estado', 'Estado'],\n",
    "       ['populacao', 'População total'],\n",
    "       ['pop_ate9', 'População - até 9 anos'],\n",
    "       ['pop_de10a14', 'População - de 10 a 14 anos'],\n",
    "       ['pop_de15a19', 'População - de 15 a 19 anos'],\n",
    "       ['pop_de20a24', 'População - de 20 a 24 anos'],\n",
    "       ['pop_de25a34', 'População - de 25 a 34 anos'],\n",
    "       ['pop_de35a49', 'População - de 35 a 49 anos'],\n",
    "       ['pop_de50a59', 'População - de 50 a 59 anos'],\n",
    "       ['pop_mais_de60', 'População - 60 anos ou mais'],\n",
    "       ['domicilios_a1', 'Quantidade de Domicílios de Renda A1'],\n",
    "       ['domicilios_a2', 'Quantidade de Domicílios de Renda A2'],\n",
    "       ['domicilios_b1', 'Quantidade de Domicílios de Renda B1'],\n",
    "       ['domicilios_b2', 'Quantidade de Domicílios de Renda B2'],\n",
    "       ['domicilios_c1', 'Quantidade de Domicílios de Renda C1'],\n",
    "       ['domicilios_c2', 'Quantidade de Domicílios de Renda C2'],\n",
    "       ['domicilios_d', 'Quantidade de Domicílios de Renda D'],\n",
    "       ['domicilios_e', 'Quantidade de Domicílios de Renda E'],\n",
    "       ['renda_media', 'Renda Média por Domicílio'],\n",
    "       ['faturamento', 'Faturamento Total no Bairro'],\n",
    "       ['potencial', 'Potencial do Bairro']]\n",
    "print(tabulate(tab, headers='firstrow', stralign='left')) #tablefmt='pipe', tablefmt='grid'"
   ]
  },
  {
   "cell_type": "markdown",
   "id": "3df3c172",
   "metadata": {
    "heading_collapsed": true
   },
   "source": [
    "## Tipos de Dados"
   ]
  },
  {
   "cell_type": "markdown",
   "id": "adf4d84d",
   "metadata": {
    "hidden": true
   },
   "source": [
    "Avaliar tipos de dados, e necessidade de conversões."
   ]
  },
  {
   "cell_type": "code",
   "execution_count": 8,
   "id": "c70de43f",
   "metadata": {
    "ExecuteTime": {
     "end_time": "2023-02-10T09:57:21.964251Z",
     "start_time": "2023-02-10T09:57:21.953063Z"
    },
    "hidden": true
   },
   "outputs": [
    {
     "data": {
      "text/plain": [
       "codigo             int64\n",
       "bairro            object\n",
       "cidade            object\n",
       "estado            object\n",
       "populacao          int64\n",
       "pop_ate9           int64\n",
       "pop_de10a14        int64\n",
       "pop_de15a19        int64\n",
       "pop_de20a24        int64\n",
       "pop_de25a34        int64\n",
       "pop_de35a49        int64\n",
       "pop_de50a59        int64\n",
       "pop_mais_de60      int64\n",
       "domicilios_a1      int64\n",
       "domicilios_a2      int64\n",
       "domicilios_b1      int64\n",
       "domicilios_b2      int64\n",
       "domicilios_c1      int64\n",
       "domicilios_c2      int64\n",
       "domicilios_d       int64\n",
       "domicilios_e       int64\n",
       "renda_media       object\n",
       "faturamento      float64\n",
       "potencial         object\n",
       "dtype: object"
      ]
     },
     "execution_count": 8,
     "metadata": {},
     "output_type": "execute_result"
    }
   ],
   "source": [
    "df_raw.dtypes"
   ]
  },
  {
   "cell_type": "markdown",
   "id": "2e7dc752",
   "metadata": {
    "hidden": true
   },
   "source": [
    "No momento, não é possível converter \"faturamento\" para o tipo \"int\", em função dos dados de SP, onde há registros nulos.\n",
    "\n",
    "A conversão se justifica porque esta variável não utiliza as casas decimais (sempre zeradas).\n",
    "\n",
    "Farei esta conversão mais abaixo, após a separação entre os dados de RJ e SP.\n",
    "\n",
    "Demais variáveis estão ok."
   ]
  },
  {
   "cell_type": "markdown",
   "id": "bfd06f53",
   "metadata": {
    "heading_collapsed": true
   },
   "source": [
    "## Conferência de Nulos"
   ]
  },
  {
   "cell_type": "markdown",
   "id": "cdbdeaeb",
   "metadata": {
    "hidden": true
   },
   "source": [
    "Avaliação de tratativa de registros nulos."
   ]
  },
  {
   "cell_type": "code",
   "execution_count": 8,
   "id": "71f7839d",
   "metadata": {
    "ExecuteTime": {
     "end_time": "2023-02-09T22:10:04.772671Z",
     "start_time": "2023-02-09T22:10:04.737946Z"
    },
    "hidden": true
   },
   "outputs": [
    {
     "data": {
      "text/plain": [
       "codigo             0\n",
       "bairro             0\n",
       "cidade             0\n",
       "estado             0\n",
       "populacao          0\n",
       "pop_ate9           0\n",
       "pop_de10a14        0\n",
       "pop_de15a19        0\n",
       "pop_de20a24        0\n",
       "pop_de25a34        0\n",
       "pop_de35a49        0\n",
       "pop_de50a59        0\n",
       "pop_mais_de60      0\n",
       "domicilios_a1      0\n",
       "domicilios_a2      0\n",
       "domicilios_b1      0\n",
       "domicilios_b2      0\n",
       "domicilios_c1      0\n",
       "domicilios_c2      0\n",
       "domicilios_d       0\n",
       "domicilios_e       0\n",
       "renda_media        6\n",
       "faturamento      296\n",
       "potencial        296\n",
       "dtype: int64"
      ]
     },
     "execution_count": 8,
     "metadata": {},
     "output_type": "execute_result"
    }
   ],
   "source": [
    "df_raw.isna().sum()"
   ]
  },
  {
   "cell_type": "markdown",
   "id": "24d4f576",
   "metadata": {
    "hidden": true
   },
   "source": [
    "Confirmar se os registros com valores nulos em \"faturamento\" e \"potencial\" são de fato apenas os registros de SP."
   ]
  },
  {
   "cell_type": "code",
   "execution_count": 10,
   "id": "dc60aabe",
   "metadata": {
    "ExecuteTime": {
     "end_time": "2023-02-10T09:57:55.404196Z",
     "start_time": "2023-02-10T09:57:55.391522Z"
    },
    "hidden": true
   },
   "outputs": [
    {
     "data": {
      "text/plain": [
       "(296, 24)"
      ]
     },
     "execution_count": 10,
     "metadata": {},
     "output_type": "execute_result"
    }
   ],
   "source": [
    "df_raw.loc[(df_raw.potencial.isna() == True) & (df_raw.faturamento.isna() == True) & (df_raw.estado == \"SP\")].shape"
   ]
  },
  {
   "cell_type": "markdown",
   "id": "111831bb",
   "metadata": {
    "hidden": true
   },
   "source": [
    "Confirmado. Dado que \"faturamento\" e \"potencial\" são as variáveis alvo, e iremos prever estes valores nulos. \n",
    "\n",
    "Logo, não há necessidade de tratativas."
   ]
  },
  {
   "cell_type": "markdown",
   "id": "45b0a1a2",
   "metadata": {
    "heading_collapsed": true
   },
   "source": [
    "## Separação entre RJ e SP"
   ]
  },
  {
   "cell_type": "markdown",
   "id": "c611d90b",
   "metadata": {
    "hidden": true
   },
   "source": [
    "Separação do dataset em duas pares, sendo:\n",
    "- df_rj: registros onde estado = RJ, contendo valores nas variáveis alvo \"faturamento\" e \"potencial\".\n",
    "    - Utilizados para treinar, validar e confirmar aprendizado dos algoritmos supervisionados (análises 1 e 2). \n",
    "    - Também utilizados para treinar e avaliar os algoritmos não supervisionados (análise 3). \n",
    "- df_sp: registros onde estado = SP, contendo valores nulos para as variáveis alvo.\n",
    "    - Utilizados apenas na versão final do modelo de cada uma das 3 análises, se tratando dos registros dos bairros de SP. "
   ]
  },
  {
   "cell_type": "code",
   "execution_count": 12,
   "id": "630d61ce",
   "metadata": {
    "ExecuteTime": {
     "end_time": "2023-02-10T09:58:21.108087Z",
     "start_time": "2023-02-10T09:58:21.094707Z"
    },
    "hidden": true
   },
   "outputs": [
    {
     "name": "stdout",
     "output_type": "stream",
     "text": [
      "Número de linhas e colunas de df_rj: (160, 24)\n",
      "Número de linhas e colunas de df_sp: (296, 24)\n"
     ]
    }
   ],
   "source": [
    "df_rj = df_raw.loc[df_raw[\"estado\"] == \"RJ\"].copy()\n",
    "df_sp = df_raw.loc[df_raw[\"estado\"] == \"SP\"].copy()\n",
    "\n",
    "print (f\"Número de linhas e colunas de df_rj: {df_rj.shape}\")\n",
    "print (f\"Número de linhas e colunas de df_sp: {df_sp.shape}\")"
   ]
  },
  {
   "cell_type": "markdown",
   "id": "c7dbb4ad",
   "metadata": {
    "hidden": true
   },
   "source": [
    "Converter \"faturamento\" de df_rj para o tipo int, visto que não utiliza as casas decimais, conforme já citado anteriormente."
   ]
  },
  {
   "cell_type": "code",
   "execution_count": 13,
   "id": "7ff0f44b",
   "metadata": {
    "ExecuteTime": {
     "end_time": "2023-02-10T09:58:22.363951Z",
     "start_time": "2023-02-10T09:58:22.341822Z"
    },
    "hidden": true,
    "scrolled": true
   },
   "outputs": [
    {
     "data": {
      "text/html": [
       "<div>\n",
       "<style scoped>\n",
       "    .dataframe tbody tr th:only-of-type {\n",
       "        vertical-align: middle;\n",
       "    }\n",
       "\n",
       "    .dataframe tbody tr th {\n",
       "        vertical-align: top;\n",
       "    }\n",
       "\n",
       "    .dataframe thead th {\n",
       "        text-align: right;\n",
       "    }\n",
       "</style>\n",
       "<table border=\"1\" class=\"dataframe\">\n",
       "  <thead>\n",
       "    <tr style=\"text-align: right;\">\n",
       "      <th></th>\n",
       "      <th>codigo</th>\n",
       "      <th>bairro</th>\n",
       "      <th>cidade</th>\n",
       "      <th>estado</th>\n",
       "      <th>populacao</th>\n",
       "      <th>pop_ate9</th>\n",
       "      <th>pop_de10a14</th>\n",
       "      <th>pop_de15a19</th>\n",
       "      <th>pop_de20a24</th>\n",
       "      <th>pop_de25a34</th>\n",
       "      <th>pop_de35a49</th>\n",
       "      <th>pop_de50a59</th>\n",
       "      <th>pop_mais_de60</th>\n",
       "      <th>domicilios_a1</th>\n",
       "      <th>domicilios_a2</th>\n",
       "      <th>domicilios_b1</th>\n",
       "      <th>domicilios_b2</th>\n",
       "      <th>domicilios_c1</th>\n",
       "      <th>domicilios_c2</th>\n",
       "      <th>domicilios_d</th>\n",
       "      <th>domicilios_e</th>\n",
       "      <th>renda_media</th>\n",
       "      <th>faturamento</th>\n",
       "      <th>potencial</th>\n",
       "    </tr>\n",
       "  </thead>\n",
       "  <tbody>\n",
       "    <tr>\n",
       "      <th>0</th>\n",
       "      <td>3304557060</td>\n",
       "      <td>Abolição</td>\n",
       "      <td>Rio de Janeiro</td>\n",
       "      <td>RJ</td>\n",
       "      <td>11676</td>\n",
       "      <td>1027</td>\n",
       "      <td>483</td>\n",
       "      <td>688</td>\n",
       "      <td>800</td>\n",
       "      <td>1675</td>\n",
       "      <td>2300</td>\n",
       "      <td>1784</td>\n",
       "      <td>2919</td>\n",
       "      <td>0</td>\n",
       "      <td>145</td>\n",
       "      <td>715</td>\n",
       "      <td>1242</td>\n",
       "      <td>1093</td>\n",
       "      <td>758</td>\n",
       "      <td>92</td>\n",
       "      <td>304</td>\n",
       "      <td>2501</td>\n",
       "      <td>932515</td>\n",
       "      <td>Médio</td>\n",
       "    </tr>\n",
       "  </tbody>\n",
       "</table>\n",
       "</div>"
      ],
      "text/plain": [
       "       codigo    bairro          cidade estado  populacao  pop_ate9  pop_de10a14  pop_de15a19  pop_de20a24  pop_de25a34  pop_de35a49  pop_de50a59  pop_mais_de60  domicilios_a1  domicilios_a2  domicilios_b1  domicilios_b2  domicilios_c1  domicilios_c2  domicilios_d  domicilios_e renda_media  faturamento potencial\n",
       "0  3304557060  Abolição  Rio de Janeiro     RJ      11676      1027          483          688          800         1675         2300         1784           2919              0            145            715           1242           1093            758            92           304        2501       932515     Médio"
      ]
     },
     "execution_count": 13,
     "metadata": {},
     "output_type": "execute_result"
    }
   ],
   "source": [
    "df_rj[\"faturamento\"] = df_rj[\"faturamento\"].astype(int)\n",
    "df_rj.head(1)"
   ]
  },
  {
   "cell_type": "markdown",
   "id": "d5f177dc",
   "metadata": {
    "hidden": true
   },
   "source": [
    "Exportar os dois datasets gerados para o formato .csv."
   ]
  },
  {
   "cell_type": "code",
   "execution_count": 14,
   "id": "2b86982a",
   "metadata": {
    "ExecuteTime": {
     "end_time": "2023-02-10T09:58:29.933008Z",
     "start_time": "2023-02-10T09:58:29.910255Z"
    },
    "hidden": true
   },
   "outputs": [],
   "source": [
    "df_rj.to_csv('../data/interim/df_rj.csv')\n",
    "df_sp.to_csv('../data/interim/df_sp.csv')"
   ]
  },
  {
   "cell_type": "markdown",
   "id": "70b09fa4",
   "metadata": {},
   "source": [
    "## Estatística Descritiva"
   ]
  },
  {
   "cell_type": "markdown",
   "id": "326edb42",
   "metadata": {
    "ExecuteTime": {
     "end_time": "2023-02-08T21:39:06.128321Z",
     "start_time": "2023-02-08T21:39:06.118645Z"
    }
   },
   "source": [
    "Realizada com 2 propósitos:\n",
    "- Obter maior conhecimento de negócio a partir do comportamento dos dados.\n",
    "- Detectar eventuais erros e sanar dúvidas sobre os dados, como faturamento negativo, por exemplo.\n",
    "\n",
    "Métricas de avaliação:\n",
    "- De tendência central (localização): média e mediana (resumem dados em um único valor).\n",
    "- De dispersão (variabilidade): desvio padrão, min, max, range, skew, kurtosis."
   ]
  },
  {
   "cell_type": "markdown",
   "id": "2a788ce8",
   "metadata": {},
   "source": [
    "Importação dos dados para ciclo 2."
   ]
  },
  {
   "cell_type": "code",
   "execution_count": 7,
   "id": "320e058d",
   "metadata": {
    "ExecuteTime": {
     "end_time": "2023-02-10T12:12:19.805351Z",
     "start_time": "2023-02-10T12:12:19.775981Z"
    }
   },
   "outputs": [
    {
     "data": {
      "text/html": [
       "<div>\n",
       "<style scoped>\n",
       "    .dataframe tbody tr th:only-of-type {\n",
       "        vertical-align: middle;\n",
       "    }\n",
       "\n",
       "    .dataframe tbody tr th {\n",
       "        vertical-align: top;\n",
       "    }\n",
       "\n",
       "    .dataframe thead th {\n",
       "        text-align: right;\n",
       "    }\n",
       "</style>\n",
       "<table border=\"1\" class=\"dataframe\">\n",
       "  <thead>\n",
       "    <tr style=\"text-align: right;\">\n",
       "      <th></th>\n",
       "      <th>codigo</th>\n",
       "      <th>bairro</th>\n",
       "      <th>cidade</th>\n",
       "      <th>estado</th>\n",
       "      <th>populacao</th>\n",
       "      <th>pop_ate9</th>\n",
       "      <th>pop_de10a14</th>\n",
       "      <th>pop_de15a19</th>\n",
       "      <th>pop_de20a24</th>\n",
       "      <th>pop_de25a34</th>\n",
       "      <th>pop_de35a49</th>\n",
       "      <th>pop_de50a59</th>\n",
       "      <th>pop_mais_de60</th>\n",
       "      <th>domicilios_a1</th>\n",
       "      <th>domicilios_a2</th>\n",
       "      <th>domicilios_b1</th>\n",
       "      <th>domicilios_b2</th>\n",
       "      <th>domicilios_c1</th>\n",
       "      <th>domicilios_c2</th>\n",
       "      <th>domicilios_d</th>\n",
       "      <th>domicilios_e</th>\n",
       "      <th>renda_media</th>\n",
       "      <th>faturamento</th>\n",
       "      <th>potencial</th>\n",
       "    </tr>\n",
       "  </thead>\n",
       "  <tbody>\n",
       "    <tr>\n",
       "      <th>0</th>\n",
       "      <td>3304557060</td>\n",
       "      <td>Abolição</td>\n",
       "      <td>Rio de Janeiro</td>\n",
       "      <td>RJ</td>\n",
       "      <td>11676</td>\n",
       "      <td>1027</td>\n",
       "      <td>483</td>\n",
       "      <td>688</td>\n",
       "      <td>800</td>\n",
       "      <td>1675</td>\n",
       "      <td>2300</td>\n",
       "      <td>1784</td>\n",
       "      <td>2919</td>\n",
       "      <td>0</td>\n",
       "      <td>145</td>\n",
       "      <td>715</td>\n",
       "      <td>1242</td>\n",
       "      <td>1093</td>\n",
       "      <td>758</td>\n",
       "      <td>92</td>\n",
       "      <td>304</td>\n",
       "      <td>2501.0</td>\n",
       "      <td>932515</td>\n",
       "      <td>Médio</td>\n",
       "    </tr>\n",
       "  </tbody>\n",
       "</table>\n",
       "</div>"
      ],
      "text/plain": [
       "       codigo    bairro          cidade estado  populacao  pop_ate9  pop_de10a14  pop_de15a19  pop_de20a24  pop_de25a34  pop_de35a49  pop_de50a59  pop_mais_de60  domicilios_a1  domicilios_a2  domicilios_b1  domicilios_b2  domicilios_c1  domicilios_c2  domicilios_d  domicilios_e  renda_media  faturamento potencial\n",
       "0  3304557060  Abolição  Rio de Janeiro     RJ      11676      1027          483          688          800         1675         2300         1784           2919              0            145            715           1242           1093            758            92           304       2501.0       932515     Médio"
      ]
     },
     "execution_count": 7,
     "metadata": {},
     "output_type": "execute_result"
    }
   ],
   "source": [
    "df_rj = pd.read_csv('../data/interim/df_rj.csv', index_col=0)\n",
    "df_rj.head(1)"
   ]
  },
  {
   "cell_type": "markdown",
   "id": "14cd7339",
   "metadata": {},
   "source": [
    "Separar features numéricas e categóricas, pra aplicar a estatística em cada conjunto."
   ]
  },
  {
   "cell_type": "code",
   "execution_count": 183,
   "id": "b0187b4f",
   "metadata": {
    "ExecuteTime": {
     "end_time": "2023-02-10T16:29:22.542564Z",
     "start_time": "2023-02-10T16:29:22.531194Z"
    }
   },
   "outputs": [],
   "source": [
    "df_num = df_rj.select_dtypes (include=['int64','float64'])\n",
    "df_cat = df_rj.select_dtypes (exclude=['int64','float64','datetime64[ns]'])"
   ]
  },
  {
   "cell_type": "code",
   "execution_count": 35,
   "id": "cd1005d4",
   "metadata": {
    "ExecuteTime": {
     "end_time": "2023-02-10T12:58:48.040030Z",
     "start_time": "2023-02-10T12:58:48.018500Z"
    }
   },
   "outputs": [
    {
     "data": {
      "text/html": [
       "<div>\n",
       "<style scoped>\n",
       "    .dataframe tbody tr th:only-of-type {\n",
       "        vertical-align: middle;\n",
       "    }\n",
       "\n",
       "    .dataframe tbody tr th {\n",
       "        vertical-align: top;\n",
       "    }\n",
       "\n",
       "    .dataframe thead th {\n",
       "        text-align: right;\n",
       "    }\n",
       "</style>\n",
       "<table border=\"1\" class=\"dataframe\">\n",
       "  <thead>\n",
       "    <tr style=\"text-align: right;\">\n",
       "      <th></th>\n",
       "      <th>codigo</th>\n",
       "      <th>populacao</th>\n",
       "      <th>pop_ate9</th>\n",
       "      <th>pop_de10a14</th>\n",
       "      <th>pop_de15a19</th>\n",
       "      <th>pop_de20a24</th>\n",
       "      <th>pop_de25a34</th>\n",
       "      <th>pop_de35a49</th>\n",
       "      <th>pop_de50a59</th>\n",
       "      <th>pop_mais_de60</th>\n",
       "      <th>domicilios_a1</th>\n",
       "      <th>domicilios_a2</th>\n",
       "      <th>domicilios_b1</th>\n",
       "      <th>domicilios_b2</th>\n",
       "      <th>domicilios_c1</th>\n",
       "      <th>domicilios_c2</th>\n",
       "      <th>domicilios_d</th>\n",
       "      <th>domicilios_e</th>\n",
       "      <th>renda_media</th>\n",
       "      <th>faturamento</th>\n",
       "    </tr>\n",
       "  </thead>\n",
       "  <tbody>\n",
       "    <tr>\n",
       "      <th>0</th>\n",
       "      <td>3304557060</td>\n",
       "      <td>11676</td>\n",
       "      <td>1027</td>\n",
       "      <td>483</td>\n",
       "      <td>688</td>\n",
       "      <td>800</td>\n",
       "      <td>1675</td>\n",
       "      <td>2300</td>\n",
       "      <td>1784</td>\n",
       "      <td>2919</td>\n",
       "      <td>0</td>\n",
       "      <td>145</td>\n",
       "      <td>715</td>\n",
       "      <td>1242</td>\n",
       "      <td>1093</td>\n",
       "      <td>758</td>\n",
       "      <td>92</td>\n",
       "      <td>304</td>\n",
       "      <td>2501.00</td>\n",
       "      <td>932515</td>\n",
       "    </tr>\n",
       "  </tbody>\n",
       "</table>\n",
       "</div>"
      ],
      "text/plain": [
       "       codigo  populacao  pop_ate9  pop_de10a14  pop_de15a19  pop_de20a24  pop_de25a34  pop_de35a49  pop_de50a59  pop_mais_de60  domicilios_a1  domicilios_a2  domicilios_b1  domicilios_b2  domicilios_c1  domicilios_c2  domicilios_d  domicilios_e  renda_media  faturamento\n",
       "0  3304557060      11676      1027          483          688          800         1675         2300         1784           2919              0            145            715           1242           1093            758            92           304      2501.00       932515"
      ]
     },
     "execution_count": 35,
     "metadata": {},
     "output_type": "execute_result"
    }
   ],
   "source": [
    "df_num.head(1)"
   ]
  },
  {
   "cell_type": "code",
   "execution_count": 36,
   "id": "9e203d29",
   "metadata": {
    "ExecuteTime": {
     "end_time": "2023-02-10T12:58:48.398546Z",
     "start_time": "2023-02-10T12:58:48.382798Z"
    }
   },
   "outputs": [
    {
     "data": {
      "text/html": [
       "<div>\n",
       "<style scoped>\n",
       "    .dataframe tbody tr th:only-of-type {\n",
       "        vertical-align: middle;\n",
       "    }\n",
       "\n",
       "    .dataframe tbody tr th {\n",
       "        vertical-align: top;\n",
       "    }\n",
       "\n",
       "    .dataframe thead th {\n",
       "        text-align: right;\n",
       "    }\n",
       "</style>\n",
       "<table border=\"1\" class=\"dataframe\">\n",
       "  <thead>\n",
       "    <tr style=\"text-align: right;\">\n",
       "      <th></th>\n",
       "      <th>bairro</th>\n",
       "      <th>cidade</th>\n",
       "      <th>estado</th>\n",
       "      <th>potencial</th>\n",
       "    </tr>\n",
       "  </thead>\n",
       "  <tbody>\n",
       "    <tr>\n",
       "      <th>0</th>\n",
       "      <td>Abolição</td>\n",
       "      <td>Rio de Janeiro</td>\n",
       "      <td>RJ</td>\n",
       "      <td>Médio</td>\n",
       "    </tr>\n",
       "  </tbody>\n",
       "</table>\n",
       "</div>"
      ],
      "text/plain": [
       "     bairro          cidade estado potencial\n",
       "0  Abolição  Rio de Janeiro     RJ     Médio"
      ]
     },
     "execution_count": 36,
     "metadata": {},
     "output_type": "execute_result"
    }
   ],
   "source": [
    "df_cat.head(1)"
   ]
  },
  {
   "cell_type": "markdown",
   "id": "50ee6efc",
   "metadata": {},
   "source": [
    "### Atributos Numéricos"
   ]
  },
  {
   "cell_type": "code",
   "execution_count": 37,
   "id": "025edba6",
   "metadata": {
    "ExecuteTime": {
     "end_time": "2023-02-10T12:59:12.727044Z",
     "start_time": "2023-02-10T12:59:12.661276Z"
    }
   },
   "outputs": [],
   "source": [
    "#Métricas de tendência central (localização): média e mediana\n",
    "ct1 = pd.DataFrame ( df_num.apply ( np.mean ) ).T\n",
    "ct2 = pd.DataFrame ( df_num.apply ( np.median ) ).T\n",
    "\n",
    "#Metricas de dispersão (variabilidade): desvio padrão, min, max, range, skew, kurtosis\n",
    "di1 = pd.DataFrame ( df_num.apply ( np.std ) ).T\n",
    "di2 = pd.DataFrame ( df_num.apply ( min ) ).T\n",
    "di3 = pd.DataFrame ( df_num.apply ( max ) ).T\n",
    "di4 = pd.DataFrame ( df_num.apply ( lambda x: x.max() - x.min() ) ).T\n",
    "di5 = pd.DataFrame ( df_num.apply ( lambda x: x.skew() ) ).T\n",
    "di6 = pd.DataFrame ( df_num.apply ( lambda x: x.kurtosis() ) ).T\n",
    "\n",
    "#criação de dataframe para análise\n",
    "df_num_stat = pd.concat( [di2, di3, di4, ct1, ct2, di1, di5, di6 ] ).T.reset_index() \n",
    "df_num_stat.columns = ['attributes', 'min', 'max', 'range', 'mean', 'median', 'std', 'skew', 'kurtosis' ]"
   ]
  },
  {
   "cell_type": "markdown",
   "id": "cf073df2",
   "metadata": {
    "ExecuteTime": {
     "end_time": "2023-02-10T12:20:51.640387Z",
     "start_time": "2023-02-10T12:20:51.634108Z"
    }
   },
   "source": [
    "Análise de features numéricas."
   ]
  },
  {
   "cell_type": "code",
   "execution_count": 38,
   "id": "81776113",
   "metadata": {
    "ExecuteTime": {
     "end_time": "2023-02-10T12:59:16.686930Z",
     "start_time": "2023-02-10T12:59:16.667487Z"
    }
   },
   "outputs": [
    {
     "data": {
      "text/html": [
       "<div>\n",
       "<style scoped>\n",
       "    .dataframe tbody tr th:only-of-type {\n",
       "        vertical-align: middle;\n",
       "    }\n",
       "\n",
       "    .dataframe tbody tr th {\n",
       "        vertical-align: top;\n",
       "    }\n",
       "\n",
       "    .dataframe thead th {\n",
       "        text-align: right;\n",
       "    }\n",
       "</style>\n",
       "<table border=\"1\" class=\"dataframe\">\n",
       "  <thead>\n",
       "    <tr style=\"text-align: right;\">\n",
       "      <th></th>\n",
       "      <th>attributes</th>\n",
       "      <th>min</th>\n",
       "      <th>max</th>\n",
       "      <th>range</th>\n",
       "      <th>mean</th>\n",
       "      <th>median</th>\n",
       "      <th>std</th>\n",
       "      <th>skew</th>\n",
       "      <th>kurtosis</th>\n",
       "    </tr>\n",
       "  </thead>\n",
       "  <tbody>\n",
       "    <tr>\n",
       "      <th>0</th>\n",
       "      <td>codigo</td>\n",
       "      <td>3304557001.00</td>\n",
       "      <td>3304557160.00</td>\n",
       "      <td>159.00</td>\n",
       "      <td>3304557080.50</td>\n",
       "      <td>3304557080.50</td>\n",
       "      <td>46.19</td>\n",
       "      <td>0.00</td>\n",
       "      <td>-1.20</td>\n",
       "    </tr>\n",
       "    <tr>\n",
       "      <th>1</th>\n",
       "      <td>populacao</td>\n",
       "      <td>173.00</td>\n",
       "      <td>667603.00</td>\n",
       "      <td>667430.00</td>\n",
       "      <td>42654.35</td>\n",
       "      <td>26076.00</td>\n",
       "      <td>64061.81</td>\n",
       "      <td>6.43</td>\n",
       "      <td>56.99</td>\n",
       "    </tr>\n",
       "    <tr>\n",
       "      <th>2</th>\n",
       "      <td>pop_ate9</td>\n",
       "      <td>33.00</td>\n",
       "      <td>122578.00</td>\n",
       "      <td>122545.00</td>\n",
       "      <td>5329.06</td>\n",
       "      <td>3111.50</td>\n",
       "      <td>10782.35</td>\n",
       "      <td>8.46</td>\n",
       "      <td>88.00</td>\n",
       "    </tr>\n",
       "    <tr>\n",
       "      <th>3</th>\n",
       "      <td>pop_de10a14</td>\n",
       "      <td>13.00</td>\n",
       "      <td>55935.00</td>\n",
       "      <td>55922.00</td>\n",
       "      <td>2484.44</td>\n",
       "      <td>1434.00</td>\n",
       "      <td>4933.34</td>\n",
       "      <td>8.39</td>\n",
       "      <td>86.77</td>\n",
       "    </tr>\n",
       "    <tr>\n",
       "      <th>4</th>\n",
       "      <td>pop_de15a19</td>\n",
       "      <td>22.00</td>\n",
       "      <td>62342.00</td>\n",
       "      <td>62320.00</td>\n",
       "      <td>3272.16</td>\n",
       "      <td>2015.00</td>\n",
       "      <td>5734.15</td>\n",
       "      <td>7.40</td>\n",
       "      <td>71.04</td>\n",
       "    </tr>\n",
       "    <tr>\n",
       "      <th>5</th>\n",
       "      <td>pop_de20a24</td>\n",
       "      <td>17.00</td>\n",
       "      <td>60567.00</td>\n",
       "      <td>60550.00</td>\n",
       "      <td>3349.38</td>\n",
       "      <td>2142.50</td>\n",
       "      <td>5584.36</td>\n",
       "      <td>7.25</td>\n",
       "      <td>69.29</td>\n",
       "    </tr>\n",
       "    <tr>\n",
       "      <th>6</th>\n",
       "      <td>pop_de25a34</td>\n",
       "      <td>28.00</td>\n",
       "      <td>86116.00</td>\n",
       "      <td>86088.00</td>\n",
       "      <td>6584.48</td>\n",
       "      <td>4170.50</td>\n",
       "      <td>9021.57</td>\n",
       "      <td>5.16</td>\n",
       "      <td>38.47</td>\n",
       "    </tr>\n",
       "    <tr>\n",
       "      <th>7</th>\n",
       "      <td>pop_de35a49</td>\n",
       "      <td>38.00</td>\n",
       "      <td>105316.00</td>\n",
       "      <td>105278.00</td>\n",
       "      <td>8826.86</td>\n",
       "      <td>5657.00</td>\n",
       "      <td>11500.17</td>\n",
       "      <td>4.69</td>\n",
       "      <td>32.10</td>\n",
       "    </tr>\n",
       "    <tr>\n",
       "      <th>8</th>\n",
       "      <td>pop_de50a59</td>\n",
       "      <td>10.00</td>\n",
       "      <td>83341.00</td>\n",
       "      <td>83331.00</td>\n",
       "      <td>5332.26</td>\n",
       "      <td>3371.50</td>\n",
       "      <td>7961.27</td>\n",
       "      <td>6.50</td>\n",
       "      <td>57.99</td>\n",
       "    </tr>\n",
       "    <tr>\n",
       "      <th>9</th>\n",
       "      <td>pop_mais_de60</td>\n",
       "      <td>12.00</td>\n",
       "      <td>91408.00</td>\n",
       "      <td>91396.00</td>\n",
       "      <td>7475.71</td>\n",
       "      <td>4575.50</td>\n",
       "      <td>10226.20</td>\n",
       "      <td>4.73</td>\n",
       "      <td>30.97</td>\n",
       "    </tr>\n",
       "    <tr>\n",
       "      <th>10</th>\n",
       "      <td>domicilios_a1</td>\n",
       "      <td>0.00</td>\n",
       "      <td>13408.00</td>\n",
       "      <td>13408.00</td>\n",
       "      <td>388.48</td>\n",
       "      <td>0.00</td>\n",
       "      <td>1399.21</td>\n",
       "      <td>6.22</td>\n",
       "      <td>49.00</td>\n",
       "    </tr>\n",
       "    <tr>\n",
       "      <th>11</th>\n",
       "      <td>domicilios_a2</td>\n",
       "      <td>0.00</td>\n",
       "      <td>11668.00</td>\n",
       "      <td>11668.00</td>\n",
       "      <td>608.27</td>\n",
       "      <td>107.50</td>\n",
       "      <td>1530.43</td>\n",
       "      <td>4.74</td>\n",
       "      <td>26.23</td>\n",
       "    </tr>\n",
       "    <tr>\n",
       "      <th>12</th>\n",
       "      <td>domicilios_b1</td>\n",
       "      <td>0.00</td>\n",
       "      <td>19350.00</td>\n",
       "      <td>19350.00</td>\n",
       "      <td>1871.56</td>\n",
       "      <td>848.00</td>\n",
       "      <td>2964.22</td>\n",
       "      <td>3.70</td>\n",
       "      <td>16.43</td>\n",
       "    </tr>\n",
       "    <tr>\n",
       "      <th>13</th>\n",
       "      <td>domicilios_b2</td>\n",
       "      <td>0.00</td>\n",
       "      <td>21237.00</td>\n",
       "      <td>21237.00</td>\n",
       "      <td>2385.07</td>\n",
       "      <td>1536.00</td>\n",
       "      <td>2770.37</td>\n",
       "      <td>3.36</td>\n",
       "      <td>15.88</td>\n",
       "    </tr>\n",
       "    <tr>\n",
       "      <th>14</th>\n",
       "      <td>domicilios_c1</td>\n",
       "      <td>5.00</td>\n",
       "      <td>33111.00</td>\n",
       "      <td>33106.00</td>\n",
       "      <td>3539.85</td>\n",
       "      <td>2394.50</td>\n",
       "      <td>4311.00</td>\n",
       "      <td>3.60</td>\n",
       "      <td>17.62</td>\n",
       "    </tr>\n",
       "    <tr>\n",
       "      <th>15</th>\n",
       "      <td>domicilios_c2</td>\n",
       "      <td>3.00</td>\n",
       "      <td>25779.00</td>\n",
       "      <td>25776.00</td>\n",
       "      <td>3030.81</td>\n",
       "      <td>1861.50</td>\n",
       "      <td>3990.52</td>\n",
       "      <td>3.32</td>\n",
       "      <td>13.22</td>\n",
       "    </tr>\n",
       "    <tr>\n",
       "      <th>16</th>\n",
       "      <td>domicilios_d</td>\n",
       "      <td>0.00</td>\n",
       "      <td>4956.00</td>\n",
       "      <td>4956.00</td>\n",
       "      <td>568.38</td>\n",
       "      <td>327.50</td>\n",
       "      <td>821.34</td>\n",
       "      <td>3.27</td>\n",
       "      <td>12.36</td>\n",
       "    </tr>\n",
       "    <tr>\n",
       "      <th>17</th>\n",
       "      <td>domicilios_e</td>\n",
       "      <td>2.00</td>\n",
       "      <td>14833.00</td>\n",
       "      <td>14831.00</td>\n",
       "      <td>1821.61</td>\n",
       "      <td>1042.50</td>\n",
       "      <td>2284.91</td>\n",
       "      <td>2.94</td>\n",
       "      <td>10.98</td>\n",
       "    </tr>\n",
       "    <tr>\n",
       "      <th>18</th>\n",
       "      <td>renda_media</td>\n",
       "      <td>654.00</td>\n",
       "      <td>63887.00</td>\n",
       "      <td>63233.00</td>\n",
       "      <td>3608.07</td>\n",
       "      <td>NaN</td>\n",
       "      <td>6072.05</td>\n",
       "      <td>6.95</td>\n",
       "      <td>63.35</td>\n",
       "    </tr>\n",
       "    <tr>\n",
       "      <th>19</th>\n",
       "      <td>faturamento</td>\n",
       "      <td>24651.00</td>\n",
       "      <td>2915612.00</td>\n",
       "      <td>2890961.00</td>\n",
       "      <td>876159.97</td>\n",
       "      <td>824228.50</td>\n",
       "      <td>436839.04</td>\n",
       "      <td>1.36</td>\n",
       "      <td>4.27</td>\n",
       "    </tr>\n",
       "  </tbody>\n",
       "</table>\n",
       "</div>"
      ],
      "text/plain": [
       "       attributes           min           max      range          mean        median       std  skew  kurtosis\n",
       "0          codigo 3304557001.00 3304557160.00     159.00 3304557080.50 3304557080.50     46.19  0.00     -1.20\n",
       "1       populacao        173.00     667603.00  667430.00      42654.35      26076.00  64061.81  6.43     56.99\n",
       "2        pop_ate9         33.00     122578.00  122545.00       5329.06       3111.50  10782.35  8.46     88.00\n",
       "3     pop_de10a14         13.00      55935.00   55922.00       2484.44       1434.00   4933.34  8.39     86.77\n",
       "4     pop_de15a19         22.00      62342.00   62320.00       3272.16       2015.00   5734.15  7.40     71.04\n",
       "5     pop_de20a24         17.00      60567.00   60550.00       3349.38       2142.50   5584.36  7.25     69.29\n",
       "6     pop_de25a34         28.00      86116.00   86088.00       6584.48       4170.50   9021.57  5.16     38.47\n",
       "7     pop_de35a49         38.00     105316.00  105278.00       8826.86       5657.00  11500.17  4.69     32.10\n",
       "8     pop_de50a59         10.00      83341.00   83331.00       5332.26       3371.50   7961.27  6.50     57.99\n",
       "9   pop_mais_de60         12.00      91408.00   91396.00       7475.71       4575.50  10226.20  4.73     30.97\n",
       "10  domicilios_a1          0.00      13408.00   13408.00        388.48          0.00   1399.21  6.22     49.00\n",
       "11  domicilios_a2          0.00      11668.00   11668.00        608.27        107.50   1530.43  4.74     26.23\n",
       "12  domicilios_b1          0.00      19350.00   19350.00       1871.56        848.00   2964.22  3.70     16.43\n",
       "13  domicilios_b2          0.00      21237.00   21237.00       2385.07       1536.00   2770.37  3.36     15.88\n",
       "14  domicilios_c1          5.00      33111.00   33106.00       3539.85       2394.50   4311.00  3.60     17.62\n",
       "15  domicilios_c2          3.00      25779.00   25776.00       3030.81       1861.50   3990.52  3.32     13.22\n",
       "16   domicilios_d          0.00       4956.00    4956.00        568.38        327.50    821.34  3.27     12.36\n",
       "17   domicilios_e          2.00      14833.00   14831.00       1821.61       1042.50   2284.91  2.94     10.98\n",
       "18    renda_media        654.00      63887.00   63233.00       3608.07           NaN   6072.05  6.95     63.35\n",
       "19    faturamento      24651.00    2915612.00 2890961.00     876159.97     824228.50 436839.04  1.36      4.27"
      ]
     },
     "execution_count": 38,
     "metadata": {},
     "output_type": "execute_result"
    }
   ],
   "source": [
    "df_num_stat"
   ]
  },
  {
   "cell_type": "markdown",
   "id": "6b411581",
   "metadata": {},
   "source": [
    "Considerações:\n",
    "- \"codigo\" refere-se ao código do bairro segundo o IBGE.\n",
    "- \"populacao\" possui kurtosis elevada, indicando valores extremos. De fato, o bairro mais populoso (Campo Grande) possui 667k habitantes.\n",
    "- \"pop_de35a49\" é a faixa etária com mais moradores nos bairros, com uma média de 8826.\n",
    "- A média do número de domicílios de classes A1 até C1 é crescente, seguida de uma queda até a classe E.\n",
    "- \"renda_media\" possui skew positiva alta (mediana < média), indicando baixa concentração de valores. A renda média é 3.6k, e a mediana é 1.9k. O desvio padão maior que 6k (distância média dos pontos em relação à média) confirma a disparidade de renda entre os bairros.\n",
    "- \"faturamento\" também varia bastante entre os bairros. Dado o público alvo da empresa, espera-se uma maior correlação com as 6 variáveis do público alvo."
   ]
  },
  {
   "cell_type": "markdown",
   "id": "053d3144",
   "metadata": {},
   "source": [
    "Cálculos de apoio."
   ]
  },
  {
   "cell_type": "code",
   "execution_count": 26,
   "id": "d1dacacb",
   "metadata": {
    "ExecuteTime": {
     "end_time": "2023-02-10T12:27:30.167308Z",
     "start_time": "2023-02-10T12:27:30.151691Z"
    }
   },
   "outputs": [
    {
     "data": {
      "text/html": [
       "<div>\n",
       "<style scoped>\n",
       "    .dataframe tbody tr th:only-of-type {\n",
       "        vertical-align: middle;\n",
       "    }\n",
       "\n",
       "    .dataframe tbody tr th {\n",
       "        vertical-align: top;\n",
       "    }\n",
       "\n",
       "    .dataframe thead th {\n",
       "        text-align: right;\n",
       "    }\n",
       "</style>\n",
       "<table border=\"1\" class=\"dataframe\">\n",
       "  <thead>\n",
       "    <tr style=\"text-align: right;\">\n",
       "      <th></th>\n",
       "      <th>populacao</th>\n",
       "      <th>bairro</th>\n",
       "    </tr>\n",
       "  </thead>\n",
       "  <tbody>\n",
       "    <tr>\n",
       "      <th>23</th>\n",
       "      <td>667603</td>\n",
       "      <td>Campo Grande</td>\n",
       "    </tr>\n",
       "  </tbody>\n",
       "</table>\n",
       "</div>"
      ],
      "text/plain": [
       "    populacao        bairro\n",
       "23     667603  Campo Grande"
      ]
     },
     "execution_count": 26,
     "metadata": {},
     "output_type": "execute_result"
    }
   ],
   "source": [
    "df_rj.loc[df_rj.populacao > 500000, [\"populacao\",\"bairro\"]]"
   ]
  },
  {
   "cell_type": "code",
   "execution_count": 39,
   "id": "cd9e15da",
   "metadata": {
    "ExecuteTime": {
     "end_time": "2023-02-10T12:59:23.991362Z",
     "start_time": "2023-02-10T12:59:23.979604Z"
    }
   },
   "outputs": [
    {
     "data": {
      "text/plain": [
       "1915.5"
      ]
     },
     "execution_count": 39,
     "metadata": {},
     "output_type": "execute_result"
    }
   ],
   "source": [
    "df_num.renda_media.median()"
   ]
  },
  {
   "cell_type": "markdown",
   "id": "f034cdcf",
   "metadata": {},
   "source": [
    "Análise da distribuição de \"faturamento\", sendo a variável resposta da análise 1."
   ]
  },
  {
   "cell_type": "code",
   "execution_count": 110,
   "id": "b106e3a8",
   "metadata": {
    "ExecuteTime": {
     "end_time": "2023-02-10T13:43:00.002784Z",
     "start_time": "2023-02-10T13:42:59.372088Z"
    }
   },
   "outputs": [
    {
     "data": {
      "image/png": "[encoded data removed]",
      "text/plain": [
       "<Figure size 600x300 with 1 Axes>"
      ]
     },
     "metadata": {},
     "output_type": "display_data"
    }
   ],
   "source": [
    "plt.figure(figsize=(6,3))\n",
    "plt_fat = sns.histplot(df_num['faturamento'], kde=True, bins=80)\n",
    "plt_fat.xaxis.set_major_formatter(FuncFormatter(lambda x, pos: '{:,.0f}'.format(x/1000000) + 'M'))\n",
    "plt_fat.set_title('Faturamento (R$) por Bairro');\n",
    "plt_fat.set_ylabel('Número de Bairros');\n",
    "plt_fat.set_xlabel('Faturamento (R$)');"
   ]
  },
  {
   "cell_type": "markdown",
   "id": "6fd5785f",
   "metadata": {},
   "source": [
    "Considerações:\n",
    "- É visível a concentração de faturamento em torno de 800k, confirmada pela mediana de 824k.\n",
    "- Percebe-se um deslocamento da curva para a esquerda (vide skew positiva, mediana < média). Isto representa uma concentração do faturamento (mediana) menor que a média (de 876k) na maioria dos bairros.\n",
    "- Vale avaliar a distribuição de faturamento por potencial, abaixo, para maior detalhamento do cenário."
   ]
  },
  {
   "cell_type": "markdown",
   "id": "4ff8764b",
   "metadata": {},
   "source": [
    "Análise da distribuição de \"faturamento\" por bairro."
   ]
  },
  {
   "cell_type": "code",
   "execution_count": 162,
   "id": "6f58e611",
   "metadata": {
    "ExecuteTime": {
     "end_time": "2023-02-10T15:40:47.027999Z",
     "start_time": "2023-02-10T15:40:45.675062Z"
    }
   },
   "outputs": [
    {
     "data": {
      "image/png": "[encoded data removed]",
      "text/plain": [
       "<Figure size 600x300 with 1 Axes>"
      ]
     },
     "metadata": {},
     "output_type": "display_data"
    }
   ],
   "source": [
    "plt_fat2 = sns.histplot(data=df_rj, x=\"faturamento\", bins=80, kde=True, hue=\"potencial\");\n",
    "plt_fat2.xaxis.set_major_formatter(FuncFormatter(lambda x, pos: '{:,.0f}'.format(x/1000000) + 'M'))\n",
    "plt_fat2.set_title('Faturamento (R$) por Bairro e Potencial');\n",
    "plt_fat2.set_ylabel('Número de Bairros');\n",
    "plt_fat2.set_xlabel('Faturamento (R$)');"
   ]
  },
  {
   "cell_type": "markdown",
   "id": "fafdcb6e",
   "metadata": {},
   "source": [
    "Agrupar a mediana de faturamento por potencial."
   ]
  },
  {
   "cell_type": "code",
   "execution_count": 160,
   "id": "e461807d",
   "metadata": {
    "ExecuteTime": {
     "end_time": "2023-02-10T14:12:45.037744Z",
     "start_time": "2023-02-10T14:12:45.019241Z"
    }
   },
   "outputs": [
    {
     "data": {
      "text/html": [
       "<div>\n",
       "<style scoped>\n",
       "    .dataframe tbody tr th:only-of-type {\n",
       "        vertical-align: middle;\n",
       "    }\n",
       "\n",
       "    .dataframe tbody tr th {\n",
       "        vertical-align: top;\n",
       "    }\n",
       "\n",
       "    .dataframe thead th {\n",
       "        text-align: right;\n",
       "    }\n",
       "</style>\n",
       "<table border=\"1\" class=\"dataframe\">\n",
       "  <thead>\n",
       "    <tr style=\"text-align: right;\">\n",
       "      <th></th>\n",
       "      <th>potencial</th>\n",
       "      <th>faturamento</th>\n",
       "    </tr>\n",
       "  </thead>\n",
       "  <tbody>\n",
       "    <tr>\n",
       "      <th>0</th>\n",
       "      <td>Alto</td>\n",
       "      <td>1086942.00</td>\n",
       "    </tr>\n",
       "    <tr>\n",
       "      <th>2</th>\n",
       "      <td>Médio</td>\n",
       "      <td>796358.00</td>\n",
       "    </tr>\n",
       "    <tr>\n",
       "      <th>1</th>\n",
       "      <td>Baixo</td>\n",
       "      <td>793291.00</td>\n",
       "    </tr>\n",
       "  </tbody>\n",
       "</table>\n",
       "</div>"
      ],
      "text/plain": [
       "  potencial  faturamento\n",
       "0      Alto   1086942.00\n",
       "2     Médio    796358.00\n",
       "1     Baixo    793291.00"
      ]
     },
     "execution_count": 160,
     "metadata": {},
     "output_type": "execute_result"
    }
   ],
   "source": [
    "df_rj[[\"potencial\",\"faturamento\"]].groupby(['potencial']).median().reset_index().sort_values('faturamento', ascending=False)"
   ]
  },
  {
   "cell_type": "markdown",
   "id": "17e224e0",
   "metadata": {},
   "source": [
    "Considerações:\n",
    "- Atualmente, a maior concentração de faturamento está em bairros de potencial \"alto\": mediana acima de 1M.\n",
    "    - Isto vai de econtro a estratégia da empresa de abrir novas filiais em outras UFs como SP, sendo que a empresa já explora bem o potencial dos bairros do RJ.\n",
    "- Bairros de potencial médio e baixo representam um faturamento muito similar atualmente, próximo de 800k."
   ]
  },
  {
   "cell_type": "markdown",
   "id": "9cdf2d4b",
   "metadata": {},
   "source": [
    "Análise das distribuições das features numéricas, visando identificar visualmente eventuais outliers representativos."
   ]
  },
  {
   "cell_type": "code",
   "execution_count": 232,
   "id": "faaee8a4",
   "metadata": {
    "ExecuteTime": {
     "end_time": "2023-02-10T17:19:37.881664Z",
     "start_time": "2023-02-10T17:19:25.803329Z"
    }
   },
   "outputs": [
    {
     "data": {
      "image/png": "[encoded data removed]",
      "text/plain": [
       "<Figure size 2000x1500 with 20 Axes>"
      ]
     },
     "metadata": {},
     "output_type": "display_data"
    }
   ],
   "source": [
    "fig, axes = plt.subplots(nrows=5, ncols=4) \n",
    "axes = axes.flatten()\n",
    "fig.set_size_inches(20, 15)\n",
    "for ax, col in zip(axes, df_num.columns):\n",
    "    sns.histplot(df_num[col], ax = ax, bins=50)\n",
    "    ax.set_title(col)\n",
    "    plt.subplots_adjust(hspace=1)"
   ]
  },
  {
   "cell_type": "markdown",
   "id": "550e3869",
   "metadata": {},
   "source": [
    "Considerações:\n",
    "- Percebe-se que nenhuma feature possui distribuição próxima a de uma normal, sendo a mais próxima disso, a feature \"faturamento\".\n",
    "- Conforme observado na medida de dispersão \"range\" da estatística descritiva, as features tem realmente um intervalo grande de valores por natureza. Logo, não foi considerado necessário tratar eventuais dados que podem ser considerados outliers (3,29 desvios padrão da média) neste momento.\n",
    "- Esta análise será utilizada posteriormente, na modelagem dos dados, onde os registros serão tratados, visando atender as premissas dos algoritmos de machine learning."
   ]
  },
  {
   "cell_type": "markdown",
   "id": "e606132b",
   "metadata": {},
   "source": [
    "### Atributos Categóricos"
   ]
  },
  {
   "cell_type": "markdown",
   "id": "b966c9fd",
   "metadata": {},
   "source": [
    "Número de variações de cada categoria."
   ]
  },
  {
   "cell_type": "code",
   "execution_count": 40,
   "id": "a2909f7a",
   "metadata": {
    "ExecuteTime": {
     "end_time": "2023-02-10T12:59:33.751261Z",
     "start_time": "2023-02-10T12:59:33.737980Z"
    }
   },
   "outputs": [
    {
     "data": {
      "text/plain": [
       "bairro       160\n",
       "cidade         1\n",
       "estado         1\n",
       "potencial      3\n",
       "dtype: int64"
      ]
     },
     "execution_count": 40,
     "metadata": {},
     "output_type": "execute_result"
    }
   ],
   "source": [
    "df_cat.apply ( lambda x: x.unique().shape[0] )"
   ]
  },
  {
   "cell_type": "markdown",
   "id": "621a9464",
   "metadata": {},
   "source": [
    "Variações da feature 'potencial'."
   ]
  },
  {
   "cell_type": "code",
   "execution_count": 41,
   "id": "7c9a90c4",
   "metadata": {
    "ExecuteTime": {
     "end_time": "2023-02-10T13:00:35.811430Z",
     "start_time": "2023-02-10T13:00:35.800872Z"
    }
   },
   "outputs": [
    {
     "data": {
      "text/plain": [
       "Baixo    62\n",
       "Médio    50\n",
       "Alto     48\n",
       "Name: potencial, dtype: int64"
      ]
     },
     "execution_count": 41,
     "metadata": {},
     "output_type": "execute_result"
    }
   ],
   "source": [
    "df_cat.potencial.value_counts()"
   ]
  },
  {
   "cell_type": "markdown",
   "id": "93e6a4e9",
   "metadata": {},
   "source": [
    "Análise da variável \"potencial\" e suas categorias através do boxplot."
   ]
  },
  {
   "cell_type": "code",
   "execution_count": 66,
   "id": "a4bd1721",
   "metadata": {
    "ExecuteTime": {
     "end_time": "2023-02-10T13:14:58.476206Z",
     "start_time": "2023-02-10T13:14:58.148147Z"
    }
   },
   "outputs": [
    {
     "data": {
      "image/png": "[encoded data removed]",
      "text/plain": [
       "<Figure size 600x300 with 1 Axes>"
      ]
     },
     "metadata": {},
     "output_type": "display_data"
    }
   ],
   "source": [
    "sns.set(rc={'figure.figsize':(6,3)})\n",
    "plt_pot = sns.boxplot( x='potencial', y='faturamento', data=df_rj );\n",
    "plt_pot.yaxis.set_major_formatter(FuncFormatter(lambda x, pos: '{:,.0f}'.format(x/1000000) + 'M'))\n",
    "plt_pot.set_title('Faturamento (R$) x Potencial do Bairro');\n",
    "plt_pot.set_ylabel('Faturamento (R$)');\n",
    "plt_pot.set_xlabel('Potencial do Bairro');"
   ]
  },
  {
   "cell_type": "markdown",
   "id": "de915055",
   "metadata": {},
   "source": [
    "Considerações: \n",
    "- A mediana de faturamento por potencial calculada anteriormente, pode ser vista no centro de cada boxplot (50º quartil). \n",
    "    - Novamente, percebe-se uma maior mediana de faturamento nos bairros de potencial \"alto\".\n",
    "- Dentro do boxplot (colorido), temos o volume do quartil 25 ao 50, e do 50 ao 75. Logo, temos 50% dos dados. Quanto mais achatada a figura, maior a concentração dos dados em torno da mediana.\n",
    "    - 50% do faturamento nos bairros de potencial \"médio\" fica entre 500k e 1M.\n",
    "    - 50% do faturamento nos bairros de potencial \"baixo\" fica entre 700k e 900k.\n",
    "    - 50% do faruramento nos bairros de potencial \"alto\" fica entre 800k e 2M.\n",
    "- Fora dos limites inferiores e superiores do boxplot, podem ser vistos os outliers (3,29 desvios padrão da média), representados por losangos.\n",
    "    - Não há outliers no potencial \"médio\", há apenas 1 no \"alto\", e vários no \"baixo\". Sendo assim, não é preocupante a presença de outliers na variável \"potencial\".\n",
    "    - Será analisado porque há apenas um bairro considerado outlier de potencial \"alto\", com quase 3M de faturamento, dado que está muito fora do padrão."
   ]
  },
  {
   "cell_type": "markdown",
   "id": "579f5d6e",
   "metadata": {},
   "source": [
    "Análise do outlier de potencial \"alto\"."
   ]
  },
  {
   "cell_type": "code",
   "execution_count": 163,
   "id": "1d679b72",
   "metadata": {
    "ExecuteTime": {
     "end_time": "2023-02-10T15:57:02.211198Z",
     "start_time": "2023-02-10T15:57:02.202258Z"
    }
   },
   "outputs": [
    {
     "data": {
      "text/plain": [
       "2915612"
      ]
     },
     "execution_count": 163,
     "metadata": {},
     "output_type": "execute_result"
    }
   ],
   "source": [
    "df_num.faturamento.max()"
   ]
  },
  {
   "cell_type": "code",
   "execution_count": 165,
   "id": "58f1af03",
   "metadata": {
    "ExecuteTime": {
     "end_time": "2023-02-10T15:58:10.324972Z",
     "start_time": "2023-02-10T15:58:10.242370Z"
    }
   },
   "outputs": [
    {
     "data": {
      "text/html": [
       "<div>\n",
       "<style scoped>\n",
       "    .dataframe tbody tr th:only-of-type {\n",
       "        vertical-align: middle;\n",
       "    }\n",
       "\n",
       "    .dataframe tbody tr th {\n",
       "        vertical-align: top;\n",
       "    }\n",
       "\n",
       "    .dataframe thead th {\n",
       "        text-align: right;\n",
       "    }\n",
       "</style>\n",
       "<table border=\"1\" class=\"dataframe\">\n",
       "  <thead>\n",
       "    <tr style=\"text-align: right;\">\n",
       "      <th></th>\n",
       "      <th>codigo</th>\n",
       "      <th>bairro</th>\n",
       "      <th>cidade</th>\n",
       "      <th>estado</th>\n",
       "      <th>populacao</th>\n",
       "      <th>pop_ate9</th>\n",
       "      <th>pop_de10a14</th>\n",
       "      <th>pop_de15a19</th>\n",
       "      <th>pop_de20a24</th>\n",
       "      <th>pop_de25a34</th>\n",
       "      <th>pop_de35a49</th>\n",
       "      <th>pop_de50a59</th>\n",
       "      <th>pop_mais_de60</th>\n",
       "      <th>domicilios_a1</th>\n",
       "      <th>domicilios_a2</th>\n",
       "      <th>domicilios_b1</th>\n",
       "      <th>domicilios_b2</th>\n",
       "      <th>domicilios_c1</th>\n",
       "      <th>domicilios_c2</th>\n",
       "      <th>domicilios_d</th>\n",
       "      <th>domicilios_e</th>\n",
       "      <th>renda_media</th>\n",
       "      <th>faturamento</th>\n",
       "      <th>potencial</th>\n",
       "    </tr>\n",
       "  </thead>\n",
       "  <tbody>\n",
       "    <tr>\n",
       "      <th>9</th>\n",
       "      <td>3304557131</td>\n",
       "      <td>Barra Da Tijuca</td>\n",
       "      <td>Rio de Janeiro</td>\n",
       "      <td>RJ</td>\n",
       "      <td>139761</td>\n",
       "      <td>13038</td>\n",
       "      <td>5225</td>\n",
       "      <td>7432</td>\n",
       "      <td>8627</td>\n",
       "      <td>21914</td>\n",
       "      <td>32089</td>\n",
       "      <td>21058</td>\n",
       "      <td>30378</td>\n",
       "      <td>13408</td>\n",
       "      <td>11668</td>\n",
       "      <td>14820</td>\n",
       "      <td>5205</td>\n",
       "      <td>3437</td>\n",
       "      <td>1841</td>\n",
       "      <td>0</td>\n",
       "      <td>3897</td>\n",
       "      <td>18084.00</td>\n",
       "      <td>2915612</td>\n",
       "      <td>Alto</td>\n",
       "    </tr>\n",
       "  </tbody>\n",
       "</table>\n",
       "</div>"
      ],
      "text/plain": [
       "       codigo           bairro          cidade estado  populacao  pop_ate9  pop_de10a14  pop_de15a19  pop_de20a24  pop_de25a34  pop_de35a49  pop_de50a59  pop_mais_de60  domicilios_a1  domicilios_a2  domicilios_b1  domicilios_b2  domicilios_c1  domicilios_c2  domicilios_d  domicilios_e  renda_media  faturamento potencial\n",
       "9  3304557131  Barra Da Tijuca  Rio de Janeiro     RJ     139761     13038         5225         7432         8627        21914        32089        21058          30378          13408          11668          14820           5205           3437           1841             0          3897     18084.00      2915612      Alto"
      ]
     },
     "execution_count": 165,
     "metadata": {},
     "output_type": "execute_result"
    }
   ],
   "source": [
    "df_rj.loc[df_num.faturamento == 2915612]"
   ]
  },
  {
   "cell_type": "markdown",
   "id": "ce45fbf7",
   "metadata": {},
   "source": [
    "O outlier é o bairro turístico da Barra da Tijuca. Será confirmado com o time de negócio a informação de que o maior faturamento da empresa ocorreu neste bairro.\n",
    "\n",
    "Assim, tem-se a confirmação da informação, sendo que possivelmente será uma questão levantada na apresentação dos dados."
   ]
  },
  {
   "cell_type": "markdown",
   "id": "a36667e2",
   "metadata": {
    "ExecuteTime": {
     "end_time": "2023-02-10T17:17:31.276872Z",
     "start_time": "2023-02-10T17:17:31.270308Z"
    }
   },
   "source": [
    "# Feature Engeneering"
   ]
  },
  {
   "cell_type": "markdown",
   "id": "e2e11104",
   "metadata": {
    "heading_collapsed": true
   },
   "source": [
    "# 4 - Análise 1: Estimativa de faturamento em SP"
   ]
  },
  {
   "cell_type": "markdown",
   "id": "0ad49bec",
   "metadata": {
    "hidden": true
   },
   "source": [
    "Análise 1 - Estimar o faturamento que uma loja teria em cada um dos bairros de São Paulo (regressão)."
   ]
  },
  {
   "cell_type": "markdown",
   "id": "3aeaac36",
   "metadata": {
    "hidden": true
   },
   "source": [
    "## Divisão dos Dados"
   ]
  },
  {
   "cell_type": "markdown",
   "id": "c8ffe22f",
   "metadata": {
    "ExecuteTime": {
     "end_time": "2023-02-09T12:51:12.087878Z",
     "start_time": "2023-02-09T12:51:12.077256Z"
    },
    "hidden": true
   },
   "source": [
    "Trata-se portanto de um problema de regressão (supervisionado), sendo a variável alvo \"faturamento\" do tipo float (contínua).\n",
    "\n",
    "df_rj será dividida em três partes, sendo:\n",
    "- Dados de treinamento (train): utilizados para treinar os modelos de machine learning.\n",
    "- Dados de validação (val): utilizados para validar a performance dos modelos, e para tunagem de hiperparâmetros.\n",
    "- Dados de teste (test): utilizados para avaliação final da capacidade de generalização dos modelos, simulando dados de produção (registros de SP)."
   ]
  },
  {
   "cell_type": "markdown",
   "id": "f3e4e617",
   "metadata": {
    "hidden": true
   },
   "source": [
    "Divisão entre features e variável alvo:"
   ]
  },
  {
   "cell_type": "code",
   "execution_count": 27,
   "id": "882a748b",
   "metadata": {
    "ExecuteTime": {
     "end_time": "2023-02-10T10:04:30.864960Z",
     "start_time": "2023-02-10T10:04:30.855159Z"
    },
    "hidden": true
   },
   "outputs": [
    {
     "data": {
      "text/plain": [
       "0    932515\n",
       "1    588833\n",
       "Name: faturamento, dtype: int64"
      ]
     },
     "execution_count": 27,
     "metadata": {},
     "output_type": "execute_result"
    }
   ],
   "source": [
    "y1 = df_rj.faturamento\n",
    "y1.head(2)"
   ]
  },
  {
   "cell_type": "markdown",
   "id": "ce36d964",
   "metadata": {
    "hidden": true
   },
   "source": [
    "A variável \"codigo\" não é informativa, logo será descartada."
   ]
  },
  {
   "cell_type": "code",
   "execution_count": 28,
   "id": "1898ff9e",
   "metadata": {
    "ExecuteTime": {
     "end_time": "2023-02-10T10:04:31.214498Z",
     "start_time": "2023-02-10T10:04:31.189634Z"
    },
    "hidden": true
   },
   "outputs": [
    {
     "data": {
      "text/html": [
       "<div>\n",
       "<style scoped>\n",
       "    .dataframe tbody tr th:only-of-type {\n",
       "        vertical-align: middle;\n",
       "    }\n",
       "\n",
       "    .dataframe tbody tr th {\n",
       "        vertical-align: top;\n",
       "    }\n",
       "\n",
       "    .dataframe thead th {\n",
       "        text-align: right;\n",
       "    }\n",
       "</style>\n",
       "<table border=\"1\" class=\"dataframe\">\n",
       "  <thead>\n",
       "    <tr style=\"text-align: right;\">\n",
       "      <th></th>\n",
       "      <th>bairro</th>\n",
       "      <th>cidade</th>\n",
       "      <th>estado</th>\n",
       "      <th>populacao</th>\n",
       "      <th>pop_ate9</th>\n",
       "      <th>pop_de10a14</th>\n",
       "      <th>pop_de15a19</th>\n",
       "      <th>pop_de20a24</th>\n",
       "      <th>pop_de25a34</th>\n",
       "      <th>pop_de35a49</th>\n",
       "      <th>pop_de50a59</th>\n",
       "      <th>pop_mais_de60</th>\n",
       "      <th>domicilios_a1</th>\n",
       "      <th>domicilios_a2</th>\n",
       "      <th>domicilios_b1</th>\n",
       "      <th>domicilios_b2</th>\n",
       "      <th>domicilios_c1</th>\n",
       "      <th>domicilios_c2</th>\n",
       "      <th>domicilios_d</th>\n",
       "      <th>domicilios_e</th>\n",
       "      <th>renda_media</th>\n",
       "      <th>potencial</th>\n",
       "    </tr>\n",
       "  </thead>\n",
       "  <tbody>\n",
       "    <tr>\n",
       "      <th>0</th>\n",
       "      <td>Abolição</td>\n",
       "      <td>Rio de Janeiro</td>\n",
       "      <td>RJ</td>\n",
       "      <td>11676</td>\n",
       "      <td>1027</td>\n",
       "      <td>483</td>\n",
       "      <td>688</td>\n",
       "      <td>800</td>\n",
       "      <td>1675</td>\n",
       "      <td>2300</td>\n",
       "      <td>1784</td>\n",
       "      <td>2919</td>\n",
       "      <td>0</td>\n",
       "      <td>145</td>\n",
       "      <td>715</td>\n",
       "      <td>1242</td>\n",
       "      <td>1093</td>\n",
       "      <td>758</td>\n",
       "      <td>92</td>\n",
       "      <td>304</td>\n",
       "      <td>2501</td>\n",
       "      <td>Médio</td>\n",
       "    </tr>\n",
       "  </tbody>\n",
       "</table>\n",
       "</div>"
      ],
      "text/plain": [
       "     bairro          cidade estado  populacao  pop_ate9  pop_de10a14  pop_de15a19  pop_de20a24  pop_de25a34  pop_de35a49  pop_de50a59  pop_mais_de60  domicilios_a1  domicilios_a2  domicilios_b1  domicilios_b2  domicilios_c1  domicilios_c2  domicilios_d  domicilios_e renda_media potencial\n",
       "0  Abolição  Rio de Janeiro     RJ      11676      1027          483          688          800         1675         2300         1784           2919              0            145            715           1242           1093            758            92           304        2501     Médio"
      ]
     },
     "execution_count": 28,
     "metadata": {},
     "output_type": "execute_result"
    }
   ],
   "source": [
    "X1 = df_rj.drop([\"codigo\",\"faturamento\"], axis=1)\n",
    "X1.head(1)"
   ]
  },
  {
   "cell_type": "markdown",
   "id": "1e31b7d1",
   "metadata": {
    "hidden": true
   },
   "source": [
    "Divisão entre datasets de treino e teste, mantendo 15% dos registros para teste.\n",
    "\n",
    "O parâmetro \"random_state\" é utilizado para manter a reprodutibilidade da divisão."
   ]
  },
  {
   "cell_type": "code",
   "execution_count": 29,
   "id": "539b157d",
   "metadata": {
    "ExecuteTime": {
     "end_time": "2023-02-10T10:04:31.479762Z",
     "start_time": "2023-02-10T10:04:31.470859Z"
    },
    "hidden": true
   },
   "outputs": [],
   "source": [
    "X1_train, X1_test, y1_train, y1_test = train_test_split(X1, y1, random_state=0, test_size=0.15)"
   ]
  },
  {
   "cell_type": "code",
   "execution_count": 30,
   "id": "b8645351",
   "metadata": {
    "ExecuteTime": {
     "end_time": "2023-02-10T10:04:32.075917Z",
     "start_time": "2023-02-10T10:04:32.055928Z"
    },
    "hidden": true
   },
   "outputs": [
    {
     "name": "stdout",
     "output_type": "stream",
     "text": [
      "(136, 22)\n",
      "(24, 22)\n"
     ]
    },
    {
     "data": {
      "text/html": [
       "<div>\n",
       "<style scoped>\n",
       "    .dataframe tbody tr th:only-of-type {\n",
       "        vertical-align: middle;\n",
       "    }\n",
       "\n",
       "    .dataframe tbody tr th {\n",
       "        vertical-align: top;\n",
       "    }\n",
       "\n",
       "    .dataframe thead th {\n",
       "        text-align: right;\n",
       "    }\n",
       "</style>\n",
       "<table border=\"1\" class=\"dataframe\">\n",
       "  <thead>\n",
       "    <tr style=\"text-align: right;\">\n",
       "      <th></th>\n",
       "      <th>bairro</th>\n",
       "      <th>cidade</th>\n",
       "      <th>estado</th>\n",
       "      <th>populacao</th>\n",
       "      <th>pop_ate9</th>\n",
       "      <th>pop_de10a14</th>\n",
       "      <th>pop_de15a19</th>\n",
       "      <th>pop_de20a24</th>\n",
       "      <th>pop_de25a34</th>\n",
       "      <th>pop_de35a49</th>\n",
       "      <th>pop_de50a59</th>\n",
       "      <th>pop_mais_de60</th>\n",
       "      <th>domicilios_a1</th>\n",
       "      <th>domicilios_a2</th>\n",
       "      <th>domicilios_b1</th>\n",
       "      <th>domicilios_b2</th>\n",
       "      <th>domicilios_c1</th>\n",
       "      <th>domicilios_c2</th>\n",
       "      <th>domicilios_d</th>\n",
       "      <th>domicilios_e</th>\n",
       "      <th>renda_media</th>\n",
       "      <th>potencial</th>\n",
       "    </tr>\n",
       "  </thead>\n",
       "  <tbody>\n",
       "    <tr>\n",
       "      <th>37</th>\n",
       "      <td>Cordovil</td>\n",
       "      <td>Rio de Janeiro</td>\n",
       "      <td>RJ</td>\n",
       "      <td>46478</td>\n",
       "      <td>5729</td>\n",
       "      <td>2893</td>\n",
       "      <td>3768</td>\n",
       "      <td>3850</td>\n",
       "      <td>7146</td>\n",
       "      <td>9369</td>\n",
       "      <td>5598</td>\n",
       "      <td>8125</td>\n",
       "      <td>0</td>\n",
       "      <td>0</td>\n",
       "      <td>1047</td>\n",
       "      <td>2433</td>\n",
       "      <td>4599</td>\n",
       "      <td>4053</td>\n",
       "      <td>723</td>\n",
       "      <td>2601</td>\n",
       "      <td>1480</td>\n",
       "      <td>Médio</td>\n",
       "    </tr>\n",
       "  </tbody>\n",
       "</table>\n",
       "</div>"
      ],
      "text/plain": [
       "      bairro          cidade estado  populacao  pop_ate9  pop_de10a14  pop_de15a19  pop_de20a24  pop_de25a34  pop_de35a49  pop_de50a59  pop_mais_de60  domicilios_a1  domicilios_a2  domicilios_b1  domicilios_b2  domicilios_c1  domicilios_c2  domicilios_d  domicilios_e renda_media potencial\n",
       "37  Cordovil  Rio de Janeiro     RJ      46478      5729         2893         3768         3850         7146         9369         5598           8125              0              0           1047           2433           4599           4053           723          2601        1480     Médio"
      ]
     },
     "execution_count": 30,
     "metadata": {},
     "output_type": "execute_result"
    }
   ],
   "source": [
    "print(X1_train.shape)\n",
    "print(X1_test.shape)\n",
    "X1_train.head(1)"
   ]
  },
  {
   "cell_type": "markdown",
   "id": "2ba709a9",
   "metadata": {
    "hidden": true
   },
   "source": [
    "Divisão entre datasets de treino e validação (a partir do treino), mantendo 15% dos registros para validação."
   ]
  },
  {
   "cell_type": "code",
   "execution_count": 31,
   "id": "453289db",
   "metadata": {
    "ExecuteTime": {
     "end_time": "2023-02-10T10:04:32.394122Z",
     "start_time": "2023-02-10T10:04:32.385185Z"
    },
    "hidden": true
   },
   "outputs": [],
   "source": [
    "X1_train, X1_val, y1_train, y1_val = train_test_split(X1_train, y1_train, random_state=0, test_size=0.15)"
   ]
  },
  {
   "cell_type": "code",
   "execution_count": 32,
   "id": "3529bcc9",
   "metadata": {
    "ExecuteTime": {
     "end_time": "2023-02-10T10:04:33.600856Z",
     "start_time": "2023-02-10T10:04:33.567275Z"
    },
    "hidden": true
   },
   "outputs": [
    {
     "name": "stdout",
     "output_type": "stream",
     "text": [
      "(115, 22)\n",
      "(21, 22)\n"
     ]
    },
    {
     "data": {
      "text/html": [
       "<div>\n",
       "<style scoped>\n",
       "    .dataframe tbody tr th:only-of-type {\n",
       "        vertical-align: middle;\n",
       "    }\n",
       "\n",
       "    .dataframe tbody tr th {\n",
       "        vertical-align: top;\n",
       "    }\n",
       "\n",
       "    .dataframe thead th {\n",
       "        text-align: right;\n",
       "    }\n",
       "</style>\n",
       "<table border=\"1\" class=\"dataframe\">\n",
       "  <thead>\n",
       "    <tr style=\"text-align: right;\">\n",
       "      <th></th>\n",
       "      <th>bairro</th>\n",
       "      <th>cidade</th>\n",
       "      <th>estado</th>\n",
       "      <th>populacao</th>\n",
       "      <th>pop_ate9</th>\n",
       "      <th>pop_de10a14</th>\n",
       "      <th>pop_de15a19</th>\n",
       "      <th>pop_de20a24</th>\n",
       "      <th>pop_de25a34</th>\n",
       "      <th>pop_de35a49</th>\n",
       "      <th>pop_de50a59</th>\n",
       "      <th>pop_mais_de60</th>\n",
       "      <th>domicilios_a1</th>\n",
       "      <th>domicilios_a2</th>\n",
       "      <th>domicilios_b1</th>\n",
       "      <th>domicilios_b2</th>\n",
       "      <th>domicilios_c1</th>\n",
       "      <th>domicilios_c2</th>\n",
       "      <th>domicilios_d</th>\n",
       "      <th>domicilios_e</th>\n",
       "      <th>renda_media</th>\n",
       "      <th>potencial</th>\n",
       "    </tr>\n",
       "  </thead>\n",
       "  <tbody>\n",
       "    <tr>\n",
       "      <th>63</th>\n",
       "      <td>Higienópolis</td>\n",
       "      <td>Rio de Janeiro</td>\n",
       "      <td>RJ</td>\n",
       "      <td>16177</td>\n",
       "      <td>1516</td>\n",
       "      <td>748</td>\n",
       "      <td>1016</td>\n",
       "      <td>1174</td>\n",
       "      <td>2488</td>\n",
       "      <td>3497</td>\n",
       "      <td>2327</td>\n",
       "      <td>3411</td>\n",
       "      <td>0</td>\n",
       "      <td>141</td>\n",
       "      <td>857</td>\n",
       "      <td>1464</td>\n",
       "      <td>1740</td>\n",
       "      <td>1030</td>\n",
       "      <td>87</td>\n",
       "      <td>432</td>\n",
       "      <td>2336</td>\n",
       "      <td>Médio</td>\n",
       "    </tr>\n",
       "  </tbody>\n",
       "</table>\n",
       "</div>"
      ],
      "text/plain": [
       "          bairro          cidade estado  populacao  pop_ate9  pop_de10a14  pop_de15a19  pop_de20a24  pop_de25a34  pop_de35a49  pop_de50a59  pop_mais_de60  domicilios_a1  domicilios_a2  domicilios_b1  domicilios_b2  domicilios_c1  domicilios_c2  domicilios_d  domicilios_e renda_media potencial\n",
       "63  Higienópolis  Rio de Janeiro     RJ      16177      1516          748         1016         1174         2488         3497         2327           3411              0            141            857           1464           1740           1030            87           432        2336     Médio"
      ]
     },
     "execution_count": 32,
     "metadata": {},
     "output_type": "execute_result"
    }
   ],
   "source": [
    "print(X1_train.shape)\n",
    "print(X1_val.shape)\n",
    "X1_train.head(1)"
   ]
  },
  {
   "cell_type": "markdown",
   "id": "82987a64",
   "metadata": {
    "hidden": true
   },
   "source": [
    "## Implementação de Baseline"
   ]
  },
  {
   "cell_type": "markdown",
   "id": "09d6bf78",
   "metadata": {
    "hidden": true
   },
   "source": [
    "Como algoritmo de machine learning de base, será implementado o KNN Regressor (K-Nearest Neighbors, ou \"K vizinhos mais próximos\") da biblioteca scikit-learn.\n",
    "- É um bom baseline por ser simples de implementar, explicar ao time de negócio, e demandar pouca parametrização.\n",
    "\n",
    "Funcionamento:\n",
    "- O KNN não constrói um modelo (é chamado de “lazy”), mas armazena o dataset de treino dentro dele.\n",
    "- Para prever um novo ponto sem rótulo, encontra o ponto mais próximo dele com rótulo armazenado, sendo seu \"nearest neighbor\".\n",
    "\n",
    "Premissas:\n",
    "- Receber apenas features numéricas, e na mesma escala (demanda pré processamento), pois realiza cálculos de distâncias entre os pontos."
   ]
  },
  {
   "cell_type": "markdown",
   "id": "a70c6db2",
   "metadata": {
    "hidden": true
   },
   "source": [
    "Manter apenas features numéricas, respeitando a premissa do KNN."
   ]
  },
  {
   "cell_type": "code",
   "execution_count": 33,
   "id": "8a970971",
   "metadata": {
    "ExecuteTime": {
     "end_time": "2023-02-10T10:04:35.303552Z",
     "start_time": "2023-02-10T10:04:35.278662Z"
    },
    "hidden": true
   },
   "outputs": [
    {
     "data": {
      "text/html": [
       "<div>\n",
       "<style scoped>\n",
       "    .dataframe tbody tr th:only-of-type {\n",
       "        vertical-align: middle;\n",
       "    }\n",
       "\n",
       "    .dataframe tbody tr th {\n",
       "        vertical-align: top;\n",
       "    }\n",
       "\n",
       "    .dataframe thead th {\n",
       "        text-align: right;\n",
       "    }\n",
       "</style>\n",
       "<table border=\"1\" class=\"dataframe\">\n",
       "  <thead>\n",
       "    <tr style=\"text-align: right;\">\n",
       "      <th></th>\n",
       "      <th>populacao</th>\n",
       "      <th>pop_ate9</th>\n",
       "      <th>pop_de10a14</th>\n",
       "      <th>pop_de15a19</th>\n",
       "      <th>pop_de20a24</th>\n",
       "      <th>pop_de25a34</th>\n",
       "      <th>pop_de35a49</th>\n",
       "      <th>pop_de50a59</th>\n",
       "      <th>pop_mais_de60</th>\n",
       "      <th>domicilios_a1</th>\n",
       "      <th>domicilios_a2</th>\n",
       "      <th>domicilios_b1</th>\n",
       "      <th>domicilios_b2</th>\n",
       "      <th>domicilios_c1</th>\n",
       "      <th>domicilios_c2</th>\n",
       "      <th>domicilios_d</th>\n",
       "      <th>domicilios_e</th>\n",
       "    </tr>\n",
       "  </thead>\n",
       "  <tbody>\n",
       "    <tr>\n",
       "      <th>63</th>\n",
       "      <td>16177</td>\n",
       "      <td>1516</td>\n",
       "      <td>748</td>\n",
       "      <td>1016</td>\n",
       "      <td>1174</td>\n",
       "      <td>2488</td>\n",
       "      <td>3497</td>\n",
       "      <td>2327</td>\n",
       "      <td>3411</td>\n",
       "      <td>0</td>\n",
       "      <td>141</td>\n",
       "      <td>857</td>\n",
       "      <td>1464</td>\n",
       "      <td>1740</td>\n",
       "      <td>1030</td>\n",
       "      <td>87</td>\n",
       "      <td>432</td>\n",
       "    </tr>\n",
       "  </tbody>\n",
       "</table>\n",
       "</div>"
      ],
      "text/plain": [
       "    populacao  pop_ate9  pop_de10a14  pop_de15a19  pop_de20a24  pop_de25a34  pop_de35a49  pop_de50a59  pop_mais_de60  domicilios_a1  domicilios_a2  domicilios_b1  domicilios_b2  domicilios_c1  domicilios_c2  domicilios_d  domicilios_e\n",
       "63      16177      1516          748         1016         1174         2488         3497         2327           3411              0            141            857           1464           1740           1030            87           432"
      ]
     },
     "execution_count": 33,
     "metadata": {},
     "output_type": "execute_result"
    }
   ],
   "source": [
    "X1_train = X1_train.select_dtypes(include=['int64', 'float64'])\n",
    "X1_val = X1_val.select_dtypes(include=['int64', 'float64'])\n",
    "X1_train.head(1)"
   ]
  },
  {
   "cell_type": "markdown",
   "id": "c654d1c5",
   "metadata": {
    "hidden": true
   },
   "source": [
    "Instanciar um KNN Regressor, treinar com os dados de treino, e realizar predições com os dados de validação.\n",
    "\n",
    "Será parametrizado neste ciclo um número de k=3, visando um modelo mais simples que o K=5 default, com a expectativa de uma maior capacidade de generalização. Nos próximos ciclos, serão avaliados diferentes valores de K, para comparação.  "
   ]
  },
  {
   "cell_type": "code",
   "execution_count": 34,
   "id": "5ef03b60",
   "metadata": {
    "ExecuteTime": {
     "end_time": "2023-02-10T10:04:35.681785Z",
     "start_time": "2023-02-10T10:04:35.666965Z"
    },
    "hidden": true
   },
   "outputs": [],
   "source": [
    "knn_reg = KNeighborsRegressor(n_neighbors=3)\n",
    "knn_reg.fit(X1_train, y1_train)\n",
    "knn_reg_yhat = knn_reg.predict(X1_val)"
   ]
  },
  {
   "cell_type": "markdown",
   "id": "3c4d92df",
   "metadata": {
    "hidden": true
   },
   "source": [
    "A métrica utilizada para medir a performance do modelo será a R squared (ou coeficiente de determinação).\n",
    "- Trata-se de uma medita estatística de quão próximos os dados estão da linha de regressão ajustada.\n",
    "- Varia entre entre 0 e 100%, sendo a porcentagem da variação da variável resposta que é explicada por um modelo linear.\n",
    "- Busca-se portanto, o valor mais próximo de 100% possível, sendo aqui a previsão de faturamento mais próxima da realidade possível."
   ]
  },
  {
   "cell_type": "code",
   "execution_count": 35,
   "id": "d93cc970",
   "metadata": {
    "ExecuteTime": {
     "end_time": "2023-02-10T10:04:37.214886Z",
     "start_time": "2023-02-10T10:04:37.203874Z"
    },
    "hidden": true
   },
   "outputs": [
    {
     "name": "stdout",
     "output_type": "stream",
     "text": [
      "R^2 com dados de Validação 0.5709\n"
     ]
    }
   ],
   "source": [
    "print(\"R^2 com dados de Validação {:.4f}\".format(knn_reg.score(X1_val, y1_val)))"
   ]
  },
  {
   "cell_type": "markdown",
   "id": "ae41fcef",
   "metadata": {
    "hidden": true
   },
   "source": [
    "Pode-se calcular também o R^2 a partir da predição do modelo, através do pacote \"metrics\" do scikit-sklearn."
   ]
  },
  {
   "cell_type": "code",
   "execution_count": 36,
   "id": "346d55ea",
   "metadata": {
    "ExecuteTime": {
     "end_time": "2023-02-10T10:04:37.956723Z",
     "start_time": "2023-02-10T10:04:37.949010Z"
    },
    "hidden": true
   },
   "outputs": [
    {
     "name": "stdout",
     "output_type": "stream",
     "text": [
      "R^2 com dados de Validação: 0.5709\n"
     ]
    }
   ],
   "source": [
    "print(f\"R^2 com dados de Validação: {round(r2_score(y1_val, knn_reg_yhat),4)}\")"
   ]
  },
  {
   "cell_type": "markdown",
   "id": "e4d72450",
   "metadata": {
    "hidden": true
   },
   "source": [
    "O R Squared do KNN foi satisfatório neste primeiro ciclo. Possivlmente a métrica pode ser melhorada, por meio de:\n",
    "- Reescala de dados.\n",
    "- Seleção de features, removendo as não informativas e aquelas não relacionadas ao público alvo.\n",
    "- Seleção de diferentes valores para K, bem como tunagem de hiperparâmetros no modelo.\n",
    "- Avaliação da presença de outliers, que podem distorcer os cálculos de distâncias.\n",
    "\n",
    "Nos próximos ciclos, estes temas serão tratados, e novos algoritmos com diferentes abordagens também serão implementados.\n",
    "\n",
    "No último ciclo, será avaliada a capacidade de generalização do modelo final (de melhor performance), realizando a previsão com os dados de teste."
   ]
  },
  {
   "cell_type": "markdown",
   "id": "39ae33ab",
   "metadata": {
    "heading_collapsed": true
   },
   "source": [
    "# 5 - Análise 2: Classificação do potencial em SP"
   ]
  },
  {
   "cell_type": "markdown",
   "id": "d0e81936",
   "metadata": {
    "hidden": true
   },
   "source": [
    "Análise 2 - Classificar o potencial dos bairros de São Paulo em alto, médio ou baixo (classificação multiclasse)."
   ]
  },
  {
   "cell_type": "markdown",
   "id": "6ade2a5b",
   "metadata": {
    "hidden": true
   },
   "source": [
    "## Divisão dos Dados"
   ]
  },
  {
   "cell_type": "markdown",
   "id": "1facb6db",
   "metadata": {
    "ExecuteTime": {
     "end_time": "2023-02-09T12:51:12.087878Z",
     "start_time": "2023-02-09T12:51:12.077256Z"
    },
    "hidden": true
   },
   "source": [
    "Trata-se portanto de um problema de classificação multiclasse (supervisionado), sendo a variável alvo \"potencial\" categórica. \n",
    "- As possíveis categorias de \"potencial\" são: Alto, Médio e Baixo.\n",
    "\n",
    "Assim como na análise 1, aqui df_rj também será dividido em três partes: dados de treinamento, validação e teste. \n",
    "- A separação dos dados da análise 1 não será aproveitada, porque a variável alvo era \"faturamento\", e nesta análise será \"potencial\".\n",
    "- Ou seja, nesta análise 2, \"faturamento\" será uma variável preditora (feature), e \"potencial\" será a variável dependente (target)."
   ]
  },
  {
   "cell_type": "markdown",
   "id": "d517459b",
   "metadata": {
    "hidden": true
   },
   "source": [
    "Divisão entre features e variável alvo."
   ]
  },
  {
   "cell_type": "code",
   "execution_count": 43,
   "id": "8f6c7ebf",
   "metadata": {
    "ExecuteTime": {
     "end_time": "2023-02-10T10:05:31.820747Z",
     "start_time": "2023-02-10T10:05:31.810887Z"
    },
    "hidden": true
   },
   "outputs": [
    {
     "data": {
      "text/plain": [
       "0    Médio\n",
       "1    Baixo\n",
       "Name: potencial, dtype: object"
      ]
     },
     "execution_count": 43,
     "metadata": {},
     "output_type": "execute_result"
    }
   ],
   "source": [
    "y2 = df_rj.potencial\n",
    "y2.head(2)"
   ]
  },
  {
   "cell_type": "markdown",
   "id": "d3769cf1",
   "metadata": {
    "hidden": true
   },
   "source": [
    "A variável \"codigo\" não é informativa, logo será descartada."
   ]
  },
  {
   "cell_type": "code",
   "execution_count": 44,
   "id": "6e1327ff",
   "metadata": {
    "ExecuteTime": {
     "end_time": "2023-02-10T10:05:32.983548Z",
     "start_time": "2023-02-10T10:05:32.961789Z"
    },
    "hidden": true
   },
   "outputs": [
    {
     "data": {
      "text/html": [
       "<div>\n",
       "<style scoped>\n",
       "    .dataframe tbody tr th:only-of-type {\n",
       "        vertical-align: middle;\n",
       "    }\n",
       "\n",
       "    .dataframe tbody tr th {\n",
       "        vertical-align: top;\n",
       "    }\n",
       "\n",
       "    .dataframe thead th {\n",
       "        text-align: right;\n",
       "    }\n",
       "</style>\n",
       "<table border=\"1\" class=\"dataframe\">\n",
       "  <thead>\n",
       "    <tr style=\"text-align: right;\">\n",
       "      <th></th>\n",
       "      <th>bairro</th>\n",
       "      <th>cidade</th>\n",
       "      <th>estado</th>\n",
       "      <th>populacao</th>\n",
       "      <th>pop_ate9</th>\n",
       "      <th>pop_de10a14</th>\n",
       "      <th>pop_de15a19</th>\n",
       "      <th>pop_de20a24</th>\n",
       "      <th>pop_de25a34</th>\n",
       "      <th>pop_de35a49</th>\n",
       "      <th>pop_de50a59</th>\n",
       "      <th>pop_mais_de60</th>\n",
       "      <th>domicilios_a1</th>\n",
       "      <th>domicilios_a2</th>\n",
       "      <th>domicilios_b1</th>\n",
       "      <th>domicilios_b2</th>\n",
       "      <th>domicilios_c1</th>\n",
       "      <th>domicilios_c2</th>\n",
       "      <th>domicilios_d</th>\n",
       "      <th>domicilios_e</th>\n",
       "      <th>renda_media</th>\n",
       "      <th>faturamento</th>\n",
       "    </tr>\n",
       "  </thead>\n",
       "  <tbody>\n",
       "    <tr>\n",
       "      <th>0</th>\n",
       "      <td>Abolição</td>\n",
       "      <td>Rio de Janeiro</td>\n",
       "      <td>RJ</td>\n",
       "      <td>11676</td>\n",
       "      <td>1027</td>\n",
       "      <td>483</td>\n",
       "      <td>688</td>\n",
       "      <td>800</td>\n",
       "      <td>1675</td>\n",
       "      <td>2300</td>\n",
       "      <td>1784</td>\n",
       "      <td>2919</td>\n",
       "      <td>0</td>\n",
       "      <td>145</td>\n",
       "      <td>715</td>\n",
       "      <td>1242</td>\n",
       "      <td>1093</td>\n",
       "      <td>758</td>\n",
       "      <td>92</td>\n",
       "      <td>304</td>\n",
       "      <td>2501</td>\n",
       "      <td>932515</td>\n",
       "    </tr>\n",
       "  </tbody>\n",
       "</table>\n",
       "</div>"
      ],
      "text/plain": [
       "     bairro          cidade estado  populacao  pop_ate9  pop_de10a14  pop_de15a19  pop_de20a24  pop_de25a34  pop_de35a49  pop_de50a59  pop_mais_de60  domicilios_a1  domicilios_a2  domicilios_b1  domicilios_b2  domicilios_c1  domicilios_c2  domicilios_d  domicilios_e renda_media  faturamento\n",
       "0  Abolição  Rio de Janeiro     RJ      11676      1027          483          688          800         1675         2300         1784           2919              0            145            715           1242           1093            758            92           304        2501       932515"
      ]
     },
     "execution_count": 44,
     "metadata": {},
     "output_type": "execute_result"
    }
   ],
   "source": [
    "X2 = df_rj.drop([\"codigo\",\"potencial\"], axis=1)\n",
    "X2.head(1)"
   ]
  },
  {
   "cell_type": "markdown",
   "id": "988954a1",
   "metadata": {
    "hidden": true
   },
   "source": [
    "Avaliar balanceamento da var resposta."
   ]
  },
  {
   "cell_type": "code",
   "execution_count": 45,
   "id": "c5a3fac8",
   "metadata": {
    "ExecuteTime": {
     "end_time": "2023-02-10T10:05:34.031222Z",
     "start_time": "2023-02-10T10:05:34.020222Z"
    },
    "hidden": true
   },
   "outputs": [
    {
     "data": {
      "text/plain": [
       "Baixo    38.75\n",
       "Médio    31.25\n",
       "Alto     30.00\n",
       "Name: potencial, dtype: float64"
      ]
     },
     "execution_count": 45,
     "metadata": {},
     "output_type": "execute_result"
    }
   ],
   "source": [
    "y2.value_counts(normalize=True)*100"
   ]
  },
  {
   "cell_type": "markdown",
   "id": "be30c131",
   "metadata": {
    "hidden": true
   },
   "source": [
    "A variável alvo \"potencial\" está balanceada, ou seja, tem uma distribuição parecida dos registros nas categorias existentes. \n",
    "- Isto dispensa tratativas para balanceamento, e permite o uso da métrica de acurácia, para avaliação de performance."
   ]
  },
  {
   "cell_type": "markdown",
   "id": "a022cd8d",
   "metadata": {
    "hidden": true
   },
   "source": [
    "Divisão entre datasets de treino e teste, mantendo 15% dos registros para teste.\n",
    "\n",
    "- O parâmetro \"stratify\" é utilizado para manter uma proporção parecida da variável alvo nos dados de treino e de teste."
   ]
  },
  {
   "cell_type": "code",
   "execution_count": 46,
   "id": "68f8f43c",
   "metadata": {
    "ExecuteTime": {
     "end_time": "2023-02-10T10:05:36.157281Z",
     "start_time": "2023-02-10T10:05:36.147334Z"
    },
    "hidden": true
   },
   "outputs": [],
   "source": [
    "X2_train, X2_test, y2_train, y2_test = train_test_split(X2, y2, random_state=0, test_size=0.15, stratify=y2)"
   ]
  },
  {
   "cell_type": "code",
   "execution_count": 47,
   "id": "e3769c92",
   "metadata": {
    "ExecuteTime": {
     "end_time": "2023-02-10T10:05:36.585446Z",
     "start_time": "2023-02-10T10:05:36.563671Z"
    },
    "hidden": true
   },
   "outputs": [
    {
     "name": "stdout",
     "output_type": "stream",
     "text": [
      "(136, 22)\n",
      "(24, 22)\n"
     ]
    },
    {
     "data": {
      "text/html": [
       "<div>\n",
       "<style scoped>\n",
       "    .dataframe tbody tr th:only-of-type {\n",
       "        vertical-align: middle;\n",
       "    }\n",
       "\n",
       "    .dataframe tbody tr th {\n",
       "        vertical-align: top;\n",
       "    }\n",
       "\n",
       "    .dataframe thead th {\n",
       "        text-align: right;\n",
       "    }\n",
       "</style>\n",
       "<table border=\"1\" class=\"dataframe\">\n",
       "  <thead>\n",
       "    <tr style=\"text-align: right;\">\n",
       "      <th></th>\n",
       "      <th>bairro</th>\n",
       "      <th>cidade</th>\n",
       "      <th>estado</th>\n",
       "      <th>populacao</th>\n",
       "      <th>pop_ate9</th>\n",
       "      <th>pop_de10a14</th>\n",
       "      <th>pop_de15a19</th>\n",
       "      <th>pop_de20a24</th>\n",
       "      <th>pop_de25a34</th>\n",
       "      <th>pop_de35a49</th>\n",
       "      <th>pop_de50a59</th>\n",
       "      <th>pop_mais_de60</th>\n",
       "      <th>domicilios_a1</th>\n",
       "      <th>domicilios_a2</th>\n",
       "      <th>domicilios_b1</th>\n",
       "      <th>domicilios_b2</th>\n",
       "      <th>domicilios_c1</th>\n",
       "      <th>domicilios_c2</th>\n",
       "      <th>domicilios_d</th>\n",
       "      <th>domicilios_e</th>\n",
       "      <th>renda_media</th>\n",
       "      <th>faturamento</th>\n",
       "    </tr>\n",
       "  </thead>\n",
       "  <tbody>\n",
       "    <tr>\n",
       "      <th>4</th>\n",
       "      <td>Anchieta</td>\n",
       "      <td>Rio de Janeiro</td>\n",
       "      <td>RJ</td>\n",
       "      <td>57222</td>\n",
       "      <td>7677</td>\n",
       "      <td>3774</td>\n",
       "      <td>4892</td>\n",
       "      <td>4600</td>\n",
       "      <td>8660</td>\n",
       "      <td>12272</td>\n",
       "      <td>7157</td>\n",
       "      <td>8190</td>\n",
       "      <td>0</td>\n",
       "      <td>0</td>\n",
       "      <td>1089</td>\n",
       "      <td>2821</td>\n",
       "      <td>5110</td>\n",
       "      <td>5422</td>\n",
       "      <td>1073</td>\n",
       "      <td>3261</td>\n",
       "      <td>1380</td>\n",
       "      <td>553020</td>\n",
       "    </tr>\n",
       "  </tbody>\n",
       "</table>\n",
       "</div>"
      ],
      "text/plain": [
       "     bairro          cidade estado  populacao  pop_ate9  pop_de10a14  pop_de15a19  pop_de20a24  pop_de25a34  pop_de35a49  pop_de50a59  pop_mais_de60  domicilios_a1  domicilios_a2  domicilios_b1  domicilios_b2  domicilios_c1  domicilios_c2  domicilios_d  domicilios_e renda_media  faturamento\n",
       "4  Anchieta  Rio de Janeiro     RJ      57222      7677         3774         4892         4600         8660        12272         7157           8190              0              0           1089           2821           5110           5422          1073          3261        1380       553020"
      ]
     },
     "execution_count": 47,
     "metadata": {},
     "output_type": "execute_result"
    }
   ],
   "source": [
    "print(X2_train.shape)\n",
    "print(X2_test.shape)\n",
    "X2_train.head(1)"
   ]
  },
  {
   "cell_type": "markdown",
   "id": "e3575a32",
   "metadata": {
    "hidden": true
   },
   "source": [
    "Divisão entre datasets de treino e validação (a partir dos dados de treino), mantendo 15% dos registros para validação."
   ]
  },
  {
   "cell_type": "code",
   "execution_count": 48,
   "id": "52568877",
   "metadata": {
    "ExecuteTime": {
     "end_time": "2023-02-10T10:05:41.229837Z",
     "start_time": "2023-02-10T10:05:41.220443Z"
    },
    "hidden": true
   },
   "outputs": [],
   "source": [
    "X2_train, X2_val, y2_train, y2_val = train_test_split(X2_train, y2_train, random_state=0, test_size=0.15, stratify=y2_train)"
   ]
  },
  {
   "cell_type": "code",
   "execution_count": 49,
   "id": "5ddb7991",
   "metadata": {
    "ExecuteTime": {
     "end_time": "2023-02-10T10:05:41.459884Z",
     "start_time": "2023-02-10T10:05:41.436872Z"
    },
    "hidden": true,
    "scrolled": true
   },
   "outputs": [
    {
     "name": "stdout",
     "output_type": "stream",
     "text": [
      "(115, 22)\n",
      "(21, 22)\n"
     ]
    },
    {
     "data": {
      "text/html": [
       "<div>\n",
       "<style scoped>\n",
       "    .dataframe tbody tr th:only-of-type {\n",
       "        vertical-align: middle;\n",
       "    }\n",
       "\n",
       "    .dataframe tbody tr th {\n",
       "        vertical-align: top;\n",
       "    }\n",
       "\n",
       "    .dataframe thead th {\n",
       "        text-align: right;\n",
       "    }\n",
       "</style>\n",
       "<table border=\"1\" class=\"dataframe\">\n",
       "  <thead>\n",
       "    <tr style=\"text-align: right;\">\n",
       "      <th></th>\n",
       "      <th>bairro</th>\n",
       "      <th>cidade</th>\n",
       "      <th>estado</th>\n",
       "      <th>populacao</th>\n",
       "      <th>pop_ate9</th>\n",
       "      <th>pop_de10a14</th>\n",
       "      <th>pop_de15a19</th>\n",
       "      <th>pop_de20a24</th>\n",
       "      <th>pop_de25a34</th>\n",
       "      <th>pop_de35a49</th>\n",
       "      <th>pop_de50a59</th>\n",
       "      <th>pop_mais_de60</th>\n",
       "      <th>domicilios_a1</th>\n",
       "      <th>domicilios_a2</th>\n",
       "      <th>domicilios_b1</th>\n",
       "      <th>domicilios_b2</th>\n",
       "      <th>domicilios_c1</th>\n",
       "      <th>domicilios_c2</th>\n",
       "      <th>domicilios_d</th>\n",
       "      <th>domicilios_e</th>\n",
       "      <th>renda_media</th>\n",
       "      <th>faturamento</th>\n",
       "    </tr>\n",
       "  </thead>\n",
       "  <tbody>\n",
       "    <tr>\n",
       "      <th>42</th>\n",
       "      <td>Del Castilho</td>\n",
       "      <td>Rio de Janeiro</td>\n",
       "      <td>RJ</td>\n",
       "      <td>16051</td>\n",
       "      <td>1740</td>\n",
       "      <td>831</td>\n",
       "      <td>1140</td>\n",
       "      <td>1182</td>\n",
       "      <td>2496</td>\n",
       "      <td>3231</td>\n",
       "      <td>2052</td>\n",
       "      <td>3379</td>\n",
       "      <td>0</td>\n",
       "      <td>80</td>\n",
       "      <td>588</td>\n",
       "      <td>1118</td>\n",
       "      <td>1481</td>\n",
       "      <td>1243</td>\n",
       "      <td>166</td>\n",
       "      <td>828</td>\n",
       "      <td>1889</td>\n",
       "      <td>846146</td>\n",
       "    </tr>\n",
       "  </tbody>\n",
       "</table>\n",
       "</div>"
      ],
      "text/plain": [
       "          bairro          cidade estado  populacao  pop_ate9  pop_de10a14  pop_de15a19  pop_de20a24  pop_de25a34  pop_de35a49  pop_de50a59  pop_mais_de60  domicilios_a1  domicilios_a2  domicilios_b1  domicilios_b2  domicilios_c1  domicilios_c2  domicilios_d  domicilios_e renda_media  faturamento\n",
       "42  Del Castilho  Rio de Janeiro     RJ      16051      1740          831         1140         1182         2496         3231         2052           3379              0             80            588           1118           1481           1243           166           828        1889       846146"
      ]
     },
     "execution_count": 49,
     "metadata": {},
     "output_type": "execute_result"
    }
   ],
   "source": [
    "print(X2_train.shape)\n",
    "print(X2_val.shape)\n",
    "X2_train.head(1)"
   ]
  },
  {
   "cell_type": "markdown",
   "id": "7e2607ca",
   "metadata": {
    "hidden": true
   },
   "source": [
    "## Implementação de Baseline"
   ]
  },
  {
   "cell_type": "markdown",
   "id": "e02bc6d3",
   "metadata": {
    "hidden": true
   },
   "source": [
    "Nesta análise, também será implementado o KNN como modelo de base. \n",
    "\n",
    "Se tratando de um problema de classificação, será utilizado o KNN classifier da biblioteca scikit-learn."
   ]
  },
  {
   "cell_type": "markdown",
   "id": "b9e14e64",
   "metadata": {
    "hidden": true
   },
   "source": [
    "Manter apenas features numéricas, respeitando a premissa do KNN."
   ]
  },
  {
   "cell_type": "code",
   "execution_count": 50,
   "id": "7bf6ab75",
   "metadata": {
    "ExecuteTime": {
     "end_time": "2023-02-10T10:05:47.646917Z",
     "start_time": "2023-02-10T10:05:47.626993Z"
    },
    "hidden": true
   },
   "outputs": [
    {
     "data": {
      "text/html": [
       "<div>\n",
       "<style scoped>\n",
       "    .dataframe tbody tr th:only-of-type {\n",
       "        vertical-align: middle;\n",
       "    }\n",
       "\n",
       "    .dataframe tbody tr th {\n",
       "        vertical-align: top;\n",
       "    }\n",
       "\n",
       "    .dataframe thead th {\n",
       "        text-align: right;\n",
       "    }\n",
       "</style>\n",
       "<table border=\"1\" class=\"dataframe\">\n",
       "  <thead>\n",
       "    <tr style=\"text-align: right;\">\n",
       "      <th></th>\n",
       "      <th>populacao</th>\n",
       "      <th>pop_ate9</th>\n",
       "      <th>pop_de10a14</th>\n",
       "      <th>pop_de15a19</th>\n",
       "      <th>pop_de20a24</th>\n",
       "      <th>pop_de25a34</th>\n",
       "      <th>pop_de35a49</th>\n",
       "      <th>pop_de50a59</th>\n",
       "      <th>pop_mais_de60</th>\n",
       "      <th>domicilios_a1</th>\n",
       "      <th>domicilios_a2</th>\n",
       "      <th>domicilios_b1</th>\n",
       "      <th>domicilios_b2</th>\n",
       "      <th>domicilios_c1</th>\n",
       "      <th>domicilios_c2</th>\n",
       "      <th>domicilios_d</th>\n",
       "      <th>domicilios_e</th>\n",
       "      <th>faturamento</th>\n",
       "    </tr>\n",
       "  </thead>\n",
       "  <tbody>\n",
       "    <tr>\n",
       "      <th>42</th>\n",
       "      <td>16051</td>\n",
       "      <td>1740</td>\n",
       "      <td>831</td>\n",
       "      <td>1140</td>\n",
       "      <td>1182</td>\n",
       "      <td>2496</td>\n",
       "      <td>3231</td>\n",
       "      <td>2052</td>\n",
       "      <td>3379</td>\n",
       "      <td>0</td>\n",
       "      <td>80</td>\n",
       "      <td>588</td>\n",
       "      <td>1118</td>\n",
       "      <td>1481</td>\n",
       "      <td>1243</td>\n",
       "      <td>166</td>\n",
       "      <td>828</td>\n",
       "      <td>846146</td>\n",
       "    </tr>\n",
       "  </tbody>\n",
       "</table>\n",
       "</div>"
      ],
      "text/plain": [
       "    populacao  pop_ate9  pop_de10a14  pop_de15a19  pop_de20a24  pop_de25a34  pop_de35a49  pop_de50a59  pop_mais_de60  domicilios_a1  domicilios_a2  domicilios_b1  domicilios_b2  domicilios_c1  domicilios_c2  domicilios_d  domicilios_e  faturamento\n",
       "42      16051      1740          831         1140         1182         2496         3231         2052           3379              0             80            588           1118           1481           1243           166           828       846146"
      ]
     },
     "execution_count": 50,
     "metadata": {},
     "output_type": "execute_result"
    }
   ],
   "source": [
    "X2_train = X2_train.select_dtypes(include=['int64', 'float64'])\n",
    "X2_val = X2_val.select_dtypes(include=['int64', 'float64'])\n",
    "X2_train.head(1)"
   ]
  },
  {
   "cell_type": "markdown",
   "id": "9850b52e",
   "metadata": {
    "hidden": true
   },
   "source": [
    "Instanciar um KNN Classifier, treinar com os dados de treino, e realizar predições com os dados de validação.\n",
    "\n",
    "Será parametrizado neste ciclo um número de k=3, visando um modelo mais simples que o K=5 default, com a expectativa de uma maior capacidade de generalização. Nos próximos ciclos, serão avaliados diferentes valores de K, para comparação."
   ]
  },
  {
   "cell_type": "code",
   "execution_count": 51,
   "id": "ae575c18",
   "metadata": {
    "ExecuteTime": {
     "end_time": "2023-02-10T10:05:50.123850Z",
     "start_time": "2023-02-10T10:05:50.109491Z"
    },
    "hidden": true
   },
   "outputs": [],
   "source": [
    "knn_cla = KNeighborsClassifier(n_neighbors=3)\n",
    "knn_cla.fit(X2_train, y2_train)\n",
    "knn_cla_yhat = knn_cla.predict(X2_val)"
   ]
  },
  {
   "cell_type": "code",
   "execution_count": 52,
   "id": "8814f65c",
   "metadata": {
    "ExecuteTime": {
     "end_time": "2023-02-10T10:05:52.201932Z",
     "start_time": "2023-02-10T10:05:52.193631Z"
    },
    "hidden": true
   },
   "outputs": [
    {
     "data": {
      "text/plain": [
       "array(['Médio', 'Baixo', 'Médio'], dtype=object)"
      ]
     },
     "execution_count": 52,
     "metadata": {},
     "output_type": "execute_result"
    }
   ],
   "source": [
    "knn_cla_yhat[:3]"
   ]
  },
  {
   "cell_type": "markdown",
   "id": "6186db14",
   "metadata": {
    "hidden": true
   },
   "source": [
    "A métrica utilizada para medir a performance do modelo será a acurácia média.\n",
    "- Varia entre 0 e 100%, e mede quantas predições o modelo acertou, dentre todas as previsões realizadas.\n",
    "- Busca-se portanto, o valor mais próximo de 100% possível, ou seja, a previsão de potencial mais próxima da realidade possível."
   ]
  },
  {
   "cell_type": "code",
   "execution_count": 53,
   "id": "4bef0f31",
   "metadata": {
    "ExecuteTime": {
     "end_time": "2023-02-10T10:05:53.026741Z",
     "start_time": "2023-02-10T10:05:53.013129Z"
    },
    "hidden": true
   },
   "outputs": [
    {
     "name": "stdout",
     "output_type": "stream",
     "text": [
      "Acurácia com dados de Validação: 0.5714\n"
     ]
    }
   ],
   "source": [
    "print(\"Acurácia com dados de Validação: {:.4f}\".format(knn_cla.score(X2_val, y2_val)))"
   ]
  },
  {
   "cell_type": "markdown",
   "id": "96678ef6",
   "metadata": {
    "hidden": true
   },
   "source": [
    "Pode-se calcular também a acurácia média a partir da predição do modelo, através do pacote \"metrics\" do scikit-sklearn."
   ]
  },
  {
   "cell_type": "code",
   "execution_count": 54,
   "id": "fdbd6bde",
   "metadata": {
    "ExecuteTime": {
     "end_time": "2023-02-10T10:05:54.858691Z",
     "start_time": "2023-02-10T10:05:54.850816Z"
    },
    "hidden": true
   },
   "outputs": [
    {
     "name": "stdout",
     "output_type": "stream",
     "text": [
      "Acurácia com dados de Validação: 0.5714\n"
     ]
    }
   ],
   "source": [
    "print(f\"Acurácia com dados de Validação: {round(accuracy_score(y2_val, knn_cla_yhat),4)}\")"
   ]
  },
  {
   "cell_type": "markdown",
   "id": "8c6f1202",
   "metadata": {
    "hidden": true
   },
   "source": [
    "A acurácia do KNN foi satisfatória neste primeiro ciclo. Possivlmente a métrica pode ser melhorada, por meio de:\n",
    "- Reescala de dados.\n",
    "- Seleção de features, removendo as não informativas e aquelas não relacionadas ao público alvo.\n",
    "- Seleção de diferentes valores para K, bem como tunagem de hiperparâmetros no modelo.\n",
    "- Avaliação da presença de outliers, que podem distorcer os cálculos de distâncias.\n",
    "\n",
    "Nos próximos ciclos, estes temas serão tratados, e novos algoritmos com diferentes abordagens também serão implementados.\n",
    "\n",
    "No último ciclo, será avaliada a capacidade de generalização do modelo final (de melhor performance), realizando a previsão com os dados de teste."
   ]
  },
  {
   "cell_type": "markdown",
   "id": "b186ae5d",
   "metadata": {
    "heading_collapsed": true
   },
   "source": [
    "# 6 - Análise 3: Segmentação por perfil de renda e idade em SP"
   ]
  },
  {
   "cell_type": "markdown",
   "id": "f68ac1ed",
   "metadata": {
    "hidden": true
   },
   "source": [
    "Análise 3 - Segmentar os bairros de São Paulo de acordo com o perfil de renda e idade, identificando os com maior aderência ao público alvo."
   ]
  },
  {
   "cell_type": "markdown",
   "id": "6c166c61",
   "metadata": {
    "hidden": true
   },
   "source": [
    "Trata-se portanto de um problema de clusterização (não supervisionado). \n",
    "\n",
    "- Nesta tarefa, não há divisão do dataset, sendo passados todos os dados ao modelo, que encontra grupos (clusters) a partir deles.\n",
    "- Diferentemente das análises anteriores, aqui será utilizado o dataset df_sp, a fim de realizar a segmentação destes bairros.\n",
    "- Diferentes modelos serão utilizados, sendo neste primeiro ciclo escolhido o K-Means, disponível na biblioteca scikit-learn."
   ]
  },
  {
   "cell_type": "markdown",
   "id": "e92ea43f",
   "metadata": {
    "hidden": true
   },
   "source": [
    "## K-Means"
   ]
  },
  {
   "cell_type": "markdown",
   "id": "ea27fd96",
   "metadata": {
    "hidden": true
   },
   "source": [
    "O K-Means (K-médias) possui este nome, porque utiliza centróides, que são o ponto central (médio) do cluster.\n",
    "\n",
    "Funcionamento: \n",
    "- A partir do número de K informado, o K-means criará k centroides aleatoriamente no espaço de dados, que serão os grupos. \n",
    "- Serão então calculadas as distâncias de todos os pontos em relação a cada um dos centroides.\n",
    "- Cada ponto assumirá o rótulo do centroide mais próximo a ele, passando a pertencer a aquele grupo.\n",
    "- Ao fim do processo, reposiciona-se o centróide no centro do cluster, recalcula-se as distênaicas e atribuição dos pontos aos grupos.\n",
    "- Quando o centroide convergir e os pontos pararem de ser atribuídos a outro cluster, o agrupamento está concluído.\n",
    "\n",
    "Características:\n",
    "- O número de K (grupos) é uma parâmetro.\n",
    "- Serão gerados sempre clusters convexos, pelo fato de utilizar o raio para calcular as distâncias.\n",
    "- Assume sempre que os cluster possuem o mesmo diâmetro.\n",
    "- Como a inicialização dos centróides é aleatória, pode formar grupos distintos conforme a sua posição inicial. Isto pode ser atenuado pelo parâmetro \"n_init\", que define o número de inicializações aleatórias, e retorna o melhor resultado.\n",
    "- Necessita que os dados estejam na mesma escala (ou muito próxima), evitando a distorção dos cálculos de distâncias.\n",
    "- É sensível a outliers, demandando remoção ou tratativa destes.\n",
    "\n"
   ]
  },
  {
   "cell_type": "markdown",
   "id": "33514eac",
   "metadata": {
    "hidden": true
   },
   "source": [
    "Clusterizar apenas perfil de renda e idade do público alvo da empresa."
   ]
  },
  {
   "cell_type": "code",
   "execution_count": 55,
   "id": "94600be0",
   "metadata": {
    "ExecuteTime": {
     "end_time": "2023-02-10T10:09:43.708982Z",
     "start_time": "2023-02-10T10:09:43.685333Z"
    },
    "hidden": true
   },
   "outputs": [
    {
     "data": {
      "text/html": [
       "<div>\n",
       "<style scoped>\n",
       "    .dataframe tbody tr th:only-of-type {\n",
       "        vertical-align: middle;\n",
       "    }\n",
       "\n",
       "    .dataframe tbody tr th {\n",
       "        vertical-align: top;\n",
       "    }\n",
       "\n",
       "    .dataframe thead th {\n",
       "        text-align: right;\n",
       "    }\n",
       "</style>\n",
       "<table border=\"1\" class=\"dataframe\">\n",
       "  <thead>\n",
       "    <tr style=\"text-align: right;\">\n",
       "      <th></th>\n",
       "      <th>codigo</th>\n",
       "      <th>bairro</th>\n",
       "      <th>cidade</th>\n",
       "      <th>estado</th>\n",
       "      <th>populacao</th>\n",
       "      <th>pop_ate9</th>\n",
       "      <th>pop_de10a14</th>\n",
       "      <th>pop_de15a19</th>\n",
       "      <th>pop_de20a24</th>\n",
       "      <th>pop_de25a34</th>\n",
       "      <th>pop_de35a49</th>\n",
       "      <th>pop_de50a59</th>\n",
       "      <th>pop_mais_de60</th>\n",
       "      <th>domicilios_a1</th>\n",
       "      <th>domicilios_a2</th>\n",
       "      <th>domicilios_b1</th>\n",
       "      <th>domicilios_b2</th>\n",
       "      <th>domicilios_c1</th>\n",
       "      <th>domicilios_c2</th>\n",
       "      <th>domicilios_d</th>\n",
       "      <th>domicilios_e</th>\n",
       "      <th>renda_media</th>\n",
       "      <th>faturamento</th>\n",
       "      <th>potencial</th>\n",
       "    </tr>\n",
       "  </thead>\n",
       "  <tbody>\n",
       "    <tr>\n",
       "      <th>160</th>\n",
       "      <td>355030251</td>\n",
       "      <td>A. E. Carvalho</td>\n",
       "      <td>São Paulo</td>\n",
       "      <td>SP</td>\n",
       "      <td>94034</td>\n",
       "      <td>12668</td>\n",
       "      <td>6853</td>\n",
       "      <td>9836</td>\n",
       "      <td>7487</td>\n",
       "      <td>14535</td>\n",
       "      <td>21549</td>\n",
       "      <td>10598</td>\n",
       "      <td>10508</td>\n",
       "      <td>0</td>\n",
       "      <td>253</td>\n",
       "      <td>2197</td>\n",
       "      <td>4368</td>\n",
       "      <td>6681</td>\n",
       "      <td>7011</td>\n",
       "      <td>2247</td>\n",
       "      <td>5670</td>\n",
       "      <td>1501</td>\n",
       "      <td>NaN</td>\n",
       "      <td>NaN</td>\n",
       "    </tr>\n",
       "    <tr>\n",
       "      <th>161</th>\n",
       "      <td>35503020</td>\n",
       "      <td>Aclimação</td>\n",
       "      <td>São Paulo</td>\n",
       "      <td>SP</td>\n",
       "      <td>32791</td>\n",
       "      <td>2297</td>\n",
       "      <td>1017</td>\n",
       "      <td>2096</td>\n",
       "      <td>2197</td>\n",
       "      <td>5341</td>\n",
       "      <td>7281</td>\n",
       "      <td>4917</td>\n",
       "      <td>7645</td>\n",
       "      <td>1413</td>\n",
       "      <td>1734</td>\n",
       "      <td>3704</td>\n",
       "      <td>2351</td>\n",
       "      <td>1946</td>\n",
       "      <td>827</td>\n",
       "      <td>291</td>\n",
       "      <td>1617</td>\n",
       "      <td>5920</td>\n",
       "      <td>NaN</td>\n",
       "      <td>NaN</td>\n",
       "    </tr>\n",
       "  </tbody>\n",
       "</table>\n",
       "</div>"
      ],
      "text/plain": [
       "        codigo          bairro     cidade estado  populacao  pop_ate9  pop_de10a14  pop_de15a19  pop_de20a24  pop_de25a34  pop_de35a49  pop_de50a59  pop_mais_de60  domicilios_a1  domicilios_a2  domicilios_b1  domicilios_b2  domicilios_c1  domicilios_c2  domicilios_d  domicilios_e renda_media  faturamento potencial\n",
       "160  355030251  A. E. Carvalho  São Paulo     SP      94034     12668         6853         9836         7487        14535        21549        10598          10508              0            253           2197           4368           6681           7011          2247          5670        1501          NaN       NaN\n",
       "161   35503020       Aclimação  São Paulo     SP      32791      2297         1017         2096         2197         5341         7281         4917           7645           1413           1734           3704           2351           1946            827           291          1617        5920          NaN       NaN"
      ]
     },
     "execution_count": 55,
     "metadata": {},
     "output_type": "execute_result"
    }
   ],
   "source": [
    "df_sp.head(2)"
   ]
  },
  {
   "cell_type": "code",
   "execution_count": 57,
   "id": "35ac3bdf",
   "metadata": {
    "ExecuteTime": {
     "end_time": "2023-02-10T10:09:52.368075Z",
     "start_time": "2023-02-10T10:09:52.350544Z"
    },
    "hidden": true
   },
   "outputs": [
    {
     "name": "stdout",
     "output_type": "stream",
     "text": [
      "(296, 6)\n"
     ]
    },
    {
     "data": {
      "text/html": [
       "<div>\n",
       "<style scoped>\n",
       "    .dataframe tbody tr th:only-of-type {\n",
       "        vertical-align: middle;\n",
       "    }\n",
       "\n",
       "    .dataframe tbody tr th {\n",
       "        vertical-align: top;\n",
       "    }\n",
       "\n",
       "    .dataframe thead th {\n",
       "        text-align: right;\n",
       "    }\n",
       "</style>\n",
       "<table border=\"1\" class=\"dataframe\">\n",
       "  <thead>\n",
       "    <tr style=\"text-align: right;\">\n",
       "      <th></th>\n",
       "      <th>pop_de25a34</th>\n",
       "      <th>pop_de35a49</th>\n",
       "      <th>domicilios_a1</th>\n",
       "      <th>domicilios_a2</th>\n",
       "      <th>domicilios_b2</th>\n",
       "      <th>domicilios_b2</th>\n",
       "    </tr>\n",
       "  </thead>\n",
       "  <tbody>\n",
       "    <tr>\n",
       "      <th>160</th>\n",
       "      <td>14535</td>\n",
       "      <td>21549</td>\n",
       "      <td>0</td>\n",
       "      <td>253</td>\n",
       "      <td>4368</td>\n",
       "      <td>4368</td>\n",
       "    </tr>\n",
       "  </tbody>\n",
       "</table>\n",
       "</div>"
      ],
      "text/plain": [
       "     pop_de25a34  pop_de35a49  domicilios_a1  domicilios_a2  domicilios_b2  domicilios_b2\n",
       "160        14535        21549              0            253           4368           4368"
      ]
     },
     "execution_count": 57,
     "metadata": {},
     "output_type": "execute_result"
    }
   ],
   "source": [
    "df_seg = df_sp[[\"pop_de25a34\",\"pop_de35a49\",\"domicilios_a1\",\"domicilios_a2\",\"domicilios_b2\",\"domicilios_b2\"]]\n",
    "print(df_seg.shape)\n",
    "df_seg.head(1)"
   ]
  },
  {
   "cell_type": "markdown",
   "id": "5fd653a5",
   "metadata": {
    "hidden": true
   },
   "source": [
    "Instanciar o KMeans, treinar o modelo, e avaliar sua performance com a biblioteca yellowbrick.\n",
    "- Serão avaliados cenários de 3 a 6 grupos, pelo entendimento que isto otimiza os esforços do time de negócio em suas ações de marketing direcionado."
   ]
  },
  {
   "cell_type": "code",
   "execution_count": 58,
   "id": "9cb354ca",
   "metadata": {
    "ExecuteTime": {
     "end_time": "2023-02-10T10:10:05.788259Z",
     "start_time": "2023-02-10T10:10:05.781341Z"
    },
    "hidden": true
   },
   "outputs": [],
   "source": [
    "clusters = [3, 4, 5, 6]"
   ]
  },
  {
   "cell_type": "code",
   "execution_count": 65,
   "id": "76ed69ec",
   "metadata": {
    "ExecuteTime": {
     "end_time": "2023-02-10T10:11:17.583724Z",
     "start_time": "2023-02-10T10:11:16.853134Z"
    },
    "hidden": true
   },
   "outputs": [
    {
     "data": {
      "image/png": "[encoded data removed]",
      "text/plain": [
       "<Figure size 600x300 with 1 Axes>"
      ]
     },
     "metadata": {},
     "output_type": "display_data"
    }
   ],
   "source": [
    "plt.figure(figsize = (6,3));\n",
    "kmeans_viz = KElbowVisualizer(KMeans(n_init=10, random_state=0), k=clusters, metric='silhouette', timings=False );\n",
    "kmeans_viz.fit(df_seg);\n",
    "kmeans_viz.show();"
   ]
  },
  {
   "cell_type": "markdown",
   "id": "ba17c4f0",
   "metadata": {
    "hidden": true
   },
   "source": [
    "A avaliação dos modelos será dada pela métrica Silhouette Score (SS), que pode ser utilizada para avaliar diferentes clusterizadores.\n",
    "- A Silhueta (S) é a distância média do ponto em relação aos demais (do mesmo cluster, e de fora dele). A silhuette score é a média de todas as silhuetas de todos os pontos.\n",
    "\n",
    "A SS mede portanto as duas propriedades que definem uma boa clusterização: \n",
    "- A compactação dos clusters (compactness): a distância entre os pontos do mesmo cluster deve ser a menor possível.\n",
    "- A separação entre os clusters (separation): a distância entre os pontos de clusters diferentes deve ser a maior possível.\n",
    "\n",
    "Dado que a SS varia entre 0 e 1, quando mais próximo de 1, melhor pode ser considerada a clusterização, considerando as propriedades acima."
   ]
  },
  {
   "cell_type": "markdown",
   "id": "f028732e",
   "metadata": {
    "hidden": true
   },
   "source": [
    "A SS do K-Means com k=3 foi levemente superior neste primeiro ciclo. Todavia, pode ser interessante gerar um número maior de grupos de perfil de renda e idade ao time de marketing.\n",
    "\n",
    "Considerando 4 grupos, foi obtida uma SS maior que 0.5 neste primeiro ciclo, o que é aceitável. Possivlmente a métrica pode ser melhorada, por meio de:\n",
    "- Reescala de dados.\n",
    "- Avaliação da presença de outliers, que podem distorcer os cálculos de distâncias.\n",
    "- Tunagem de hiperparâmetros no modelo.\n",
    "- Feature engeneering a partir 6 features de perfil de renda e idade do público alvo, buscando melhorar o espaço de dados. \n",
    "- Novos algoritmos com diferentes abordagens de clusterização.\n",
    "\n",
    "Vamos abaixo treinar um K-Means com k=4 para avançar neste ciclo, e salvar suas previsões em uma variávels. \n",
    "Nos próximos ciclos, os tópicos acima serão abordados. \n",
    "\n"
   ]
  },
  {
   "cell_type": "code",
   "execution_count": 66,
   "id": "4191f423",
   "metadata": {
    "ExecuteTime": {
     "end_time": "2023-02-10T10:13:13.127353Z",
     "start_time": "2023-02-10T10:13:13.043827Z"
    },
    "hidden": true
   },
   "outputs": [
    {
     "data": {
      "text/plain": [
       "array([3, 0, 3, 2, 0], dtype=int32)"
      ]
     },
     "execution_count": 66,
     "metadata": {},
     "output_type": "execute_result"
    }
   ],
   "source": [
    "kmeans = KMeans( n_clusters=4, #número de clusters\n",
    "                  n_init=10, #número de vezes que o k-means irá com diferentes centroid seeds\n",
    "                 random_state=0) #seed, para gerar a mesma inicialização aleatória\n",
    "kmeans.fit(df_seg)\n",
    "labels_kmeans = kmeans.labels_\n",
    "labels_kmeans[:5]"
   ]
  },
  {
   "cell_type": "code",
   "execution_count": 67,
   "id": "fc5d1e72",
   "metadata": {
    "ExecuteTime": {
     "end_time": "2023-02-10T10:13:23.751549Z",
     "start_time": "2023-02-10T10:13:23.736320Z"
    },
    "hidden": true,
    "scrolled": true
   },
   "outputs": [
    {
     "name": "stdout",
     "output_type": "stream",
     "text": [
      "Silhouette Score com k=4: 0.52\n"
     ]
    }
   ],
   "source": [
    "#this method of k-means (sklearn) returns the SS\n",
    "print(f\"Silhouette Score com k=4: {round(silhouette_score(df_seg, labels_kmeans, metric='euclidean'),2)}\") "
   ]
  },
  {
   "cell_type": "markdown",
   "id": "fa6531b4",
   "metadata": {
    "hidden": true
   },
   "source": [
    "## K-Means - Perfis dos Clusters"
   ]
  },
  {
   "cell_type": "markdown",
   "id": "2ea1aab6",
   "metadata": {
    "hidden": true
   },
   "source": [
    "Criar um dataset contendo o grupo de cada bairro pertence. "
   ]
  },
  {
   "cell_type": "code",
   "execution_count": 68,
   "id": "8bb98e0f",
   "metadata": {
    "ExecuteTime": {
     "end_time": "2023-02-10T10:14:01.728240Z",
     "start_time": "2023-02-10T10:14:01.718834Z"
    },
    "hidden": true
   },
   "outputs": [
    {
     "data": {
      "text/plain": [
       "Index(['pop_de25a34', 'pop_de35a49', 'domicilios_a1', 'domicilios_a2',\n",
       "       'domicilios_b2', 'domicilios_b2'],\n",
       "      dtype='object')"
      ]
     },
     "execution_count": 68,
     "metadata": {},
     "output_type": "execute_result"
    }
   ],
   "source": [
    "df_seg.columns"
   ]
  },
  {
   "cell_type": "code",
   "execution_count": 70,
   "id": "3762c12b",
   "metadata": {
    "ExecuteTime": {
     "end_time": "2023-02-10T10:14:17.562074Z",
     "start_time": "2023-02-10T10:14:17.543709Z"
    },
    "hidden": true
   },
   "outputs": [
    {
     "data": {
      "text/html": [
       "<div>\n",
       "<style scoped>\n",
       "    .dataframe tbody tr th:only-of-type {\n",
       "        vertical-align: middle;\n",
       "    }\n",
       "\n",
       "    .dataframe tbody tr th {\n",
       "        vertical-align: top;\n",
       "    }\n",
       "\n",
       "    .dataframe thead th {\n",
       "        text-align: right;\n",
       "    }\n",
       "</style>\n",
       "<table border=\"1\" class=\"dataframe\">\n",
       "  <thead>\n",
       "    <tr style=\"text-align: right;\">\n",
       "      <th></th>\n",
       "      <th>bairro</th>\n",
       "      <th>pop_de25a34</th>\n",
       "      <th>pop_de35a49</th>\n",
       "      <th>domicilios_a1</th>\n",
       "      <th>domicilios_a2</th>\n",
       "      <th>domicilios_b1</th>\n",
       "      <th>domicilios_b2</th>\n",
       "      <th>cluster</th>\n",
       "    </tr>\n",
       "  </thead>\n",
       "  <tbody>\n",
       "    <tr>\n",
       "      <th>160</th>\n",
       "      <td>A. E. Carvalho</td>\n",
       "      <td>14535</td>\n",
       "      <td>21549</td>\n",
       "      <td>0</td>\n",
       "      <td>253</td>\n",
       "      <td>2197</td>\n",
       "      <td>4368</td>\n",
       "      <td>3</td>\n",
       "    </tr>\n",
       "    <tr>\n",
       "      <th>161</th>\n",
       "      <td>Aclimação</td>\n",
       "      <td>5341</td>\n",
       "      <td>7281</td>\n",
       "      <td>1413</td>\n",
       "      <td>1734</td>\n",
       "      <td>3704</td>\n",
       "      <td>2351</td>\n",
       "      <td>0</td>\n",
       "    </tr>\n",
       "    <tr>\n",
       "      <th>162</th>\n",
       "      <td>Adventista</td>\n",
       "      <td>17749</td>\n",
       "      <td>23364</td>\n",
       "      <td>0</td>\n",
       "      <td>0</td>\n",
       "      <td>1423</td>\n",
       "      <td>4875</td>\n",
       "      <td>3</td>\n",
       "    </tr>\n",
       "  </tbody>\n",
       "</table>\n",
       "</div>"
      ],
      "text/plain": [
       "             bairro  pop_de25a34  pop_de35a49  domicilios_a1  domicilios_a2  domicilios_b1  domicilios_b2  cluster\n",
       "160  A. E. Carvalho        14535        21549              0            253           2197           4368        3\n",
       "161       Aclimação         5341         7281           1413           1734           3704           2351        0\n",
       "162      Adventista        17749        23364              0              0           1423           4875        3"
      ]
     },
     "execution_count": 70,
     "metadata": {},
     "output_type": "execute_result"
    }
   ],
   "source": [
    "df_kmeans = df_sp.copy()\n",
    "df_kmeans = df_kmeans[['bairro', 'pop_de25a34', 'pop_de35a49', 'domicilios_a1', 'domicilios_a2', 'domicilios_b1', 'domicilios_b2']]\n",
    "df_kmeans['cluster'] = labels_kmeans\n",
    "df_kmeans.head(3)"
   ]
  },
  {
   "cell_type": "markdown",
   "id": "7fdc3771",
   "metadata": {
    "hidden": true
   },
   "source": [
    "Avaliar a quantidade e percentual de bairros por cluster."
   ]
  },
  {
   "cell_type": "code",
   "execution_count": 72,
   "id": "3c7517f8",
   "metadata": {
    "ExecuteTime": {
     "end_time": "2023-02-10T10:14:36.848588Z",
     "start_time": "2023-02-10T10:14:36.821349Z"
    },
    "hidden": true
   },
   "outputs": [
    {
     "data": {
      "text/html": [
       "<div>\n",
       "<style scoped>\n",
       "    .dataframe tbody tr th:only-of-type {\n",
       "        vertical-align: middle;\n",
       "    }\n",
       "\n",
       "    .dataframe tbody tr th {\n",
       "        vertical-align: top;\n",
       "    }\n",
       "\n",
       "    .dataframe thead th {\n",
       "        text-align: right;\n",
       "    }\n",
       "</style>\n",
       "<table border=\"1\" class=\"dataframe\">\n",
       "  <thead>\n",
       "    <tr style=\"text-align: right;\">\n",
       "      <th></th>\n",
       "      <th>cluster</th>\n",
       "      <th>bairro</th>\n",
       "      <th>perc_bairros</th>\n",
       "    </tr>\n",
       "  </thead>\n",
       "  <tbody>\n",
       "    <tr>\n",
       "      <th>0</th>\n",
       "      <td>0</td>\n",
       "      <td>104</td>\n",
       "      <td>35.135135</td>\n",
       "    </tr>\n",
       "    <tr>\n",
       "      <th>1</th>\n",
       "      <td>1</td>\n",
       "      <td>12</td>\n",
       "      <td>4.054054</td>\n",
       "    </tr>\n",
       "    <tr>\n",
       "      <th>2</th>\n",
       "      <td>2</td>\n",
       "      <td>132</td>\n",
       "      <td>44.594595</td>\n",
       "    </tr>\n",
       "    <tr>\n",
       "      <th>3</th>\n",
       "      <td>3</td>\n",
       "      <td>48</td>\n",
       "      <td>16.216216</td>\n",
       "    </tr>\n",
       "  </tbody>\n",
       "</table>\n",
       "</div>"
      ],
      "text/plain": [
       "   cluster  bairro  perc_bairros\n",
       "0        0     104     35.135135\n",
       "1        1      12      4.054054\n",
       "2        2     132     44.594595\n",
       "3        3      48     16.216216"
      ]
     },
     "execution_count": 72,
     "metadata": {},
     "output_type": "execute_result"
    }
   ],
   "source": [
    "df_kmeans_prof = df_kmeans[['bairro', 'cluster']].groupby('cluster').count().reset_index()\n",
    "df_kmeans_prof['perc_bairros'] = df_kmeans_prof['bairro'] / df_kmeans_prof['bairro'].sum()*100\n",
    "df_kmeans_prof"
   ]
  },
  {
   "cell_type": "markdown",
   "id": "637befdd",
   "metadata": {
    "hidden": true
   },
   "source": [
    "Na sequência, serão calculadas as médias dos features, para representar o centroide dos grupos. \n",
    "\n",
    "Desta forma, será possível compreender o perfil de renda e idade dos bairros. "
   ]
  },
  {
   "cell_type": "code",
   "execution_count": 73,
   "id": "2db71d07",
   "metadata": {
    "ExecuteTime": {
     "end_time": "2023-02-10T10:15:02.919362Z",
     "start_time": "2023-02-10T10:15:02.815409Z"
    },
    "hidden": true
   },
   "outputs": [
    {
     "data": {
      "text/html": [
       "<div>\n",
       "<style scoped>\n",
       "    .dataframe tbody tr th:only-of-type {\n",
       "        vertical-align: middle;\n",
       "    }\n",
       "\n",
       "    .dataframe tbody tr th {\n",
       "        vertical-align: top;\n",
       "    }\n",
       "\n",
       "    .dataframe thead th {\n",
       "        text-align: right;\n",
       "    }\n",
       "</style>\n",
       "<table border=\"1\" class=\"dataframe\">\n",
       "  <thead>\n",
       "    <tr style=\"text-align: right;\">\n",
       "      <th></th>\n",
       "      <th>cluster</th>\n",
       "      <th>bairro</th>\n",
       "      <th>perc_bairros</th>\n",
       "      <th>pop_de25a34</th>\n",
       "      <th>pop_de35a49</th>\n",
       "      <th>domicilios_a1</th>\n",
       "      <th>domicilios_a2</th>\n",
       "      <th>domicilios_b1</th>\n",
       "      <th>domicilios_b2</th>\n",
       "    </tr>\n",
       "  </thead>\n",
       "  <tbody>\n",
       "    <tr>\n",
       "      <th>0</th>\n",
       "      <td>0</td>\n",
       "      <td>104</td>\n",
       "      <td>35.135135</td>\n",
       "      <td>6691.673077</td>\n",
       "      <td>9684.740385</td>\n",
       "      <td>493.375000</td>\n",
       "      <td>774.692308</td>\n",
       "      <td>2583.817308</td>\n",
       "      <td>2662.884615</td>\n",
       "    </tr>\n",
       "    <tr>\n",
       "      <th>1</th>\n",
       "      <td>1</td>\n",
       "      <td>12</td>\n",
       "      <td>4.054054</td>\n",
       "      <td>24031.166667</td>\n",
       "      <td>33197.500000</td>\n",
       "      <td>0.666667</td>\n",
       "      <td>212.583333</td>\n",
       "      <td>2674.250000</td>\n",
       "      <td>6423.166667</td>\n",
       "    </tr>\n",
       "    <tr>\n",
       "      <th>2</th>\n",
       "      <td>2</td>\n",
       "      <td>132</td>\n",
       "      <td>44.594595</td>\n",
       "      <td>2220.810606</td>\n",
       "      <td>3124.060606</td>\n",
       "      <td>525.075758</td>\n",
       "      <td>544.666667</td>\n",
       "      <td>1240.772727</td>\n",
       "      <td>860.787879</td>\n",
       "    </tr>\n",
       "    <tr>\n",
       "      <th>3</th>\n",
       "      <td>3</td>\n",
       "      <td>48</td>\n",
       "      <td>16.216216</td>\n",
       "      <td>13102.791667</td>\n",
       "      <td>18474.812500</td>\n",
       "      <td>45.020833</td>\n",
       "      <td>260.395833</td>\n",
       "      <td>2108.145833</td>\n",
       "      <td>4132.854167</td>\n",
       "    </tr>\n",
       "  </tbody>\n",
       "</table>\n",
       "</div>"
      ],
      "text/plain": [
       "   cluster  bairro  perc_bairros   pop_de25a34   pop_de35a49  domicilios_a1  domicilios_a2  domicilios_b1  domicilios_b2\n",
       "0        0     104     35.135135   6691.673077   9684.740385     493.375000     774.692308    2583.817308    2662.884615\n",
       "1        1      12      4.054054  24031.166667  33197.500000       0.666667     212.583333    2674.250000    6423.166667\n",
       "2        2     132     44.594595   2220.810606   3124.060606     525.075758     544.666667    1240.772727     860.787879\n",
       "3        3      48     16.216216  13102.791667  18474.812500      45.020833     260.395833    2108.145833    4132.854167"
      ]
     },
     "execution_count": 73,
     "metadata": {},
     "output_type": "execute_result"
    }
   ],
   "source": [
    "#média da feature pop_de25a34\n",
    "df_avg_pop_de25a34 = df_kmeans[['pop_de25a34','cluster']].groupby('cluster').mean().reset_index()\n",
    "df_kmeans_prof = pd.merge(df_kmeans_prof, df_avg_pop_de25a34, how='inner', on='cluster')\n",
    "\n",
    "#média da feature pop_de35a49\n",
    "df_avg_pop_de35a49 = df_kmeans[['pop_de35a49','cluster']].groupby('cluster').mean().reset_index()\n",
    "df_kmeans_prof = pd.merge(df_kmeans_prof, df_avg_pop_de35a49, how='inner', on='cluster')\n",
    "\n",
    "#média da feature domicilios_a1\n",
    "df_avg_domicilios_a1 = df_kmeans[['domicilios_a1','cluster']].groupby('cluster').mean().reset_index()\n",
    "df_kmeans_prof = pd.merge(df_kmeans_prof, df_avg_domicilios_a1, how='inner', on='cluster')\n",
    "\n",
    "#média da feature domicilios_a1\n",
    "df_avg_domicilios_a2 = df_kmeans[['domicilios_a2','cluster']].groupby('cluster').mean().reset_index()\n",
    "df_kmeans_prof = pd.merge(df_kmeans_prof, df_avg_domicilios_a2, how='inner', on='cluster')\n",
    "\n",
    "#média da feature domicilios_b1\n",
    "df_avg_domicilios_b1 = df_kmeans[['domicilios_b1','cluster']].groupby('cluster').mean().reset_index()\n",
    "df_kmeans_prof = pd.merge(df_kmeans_prof, df_avg_domicilios_b1, how='inner', on='cluster')\n",
    "\n",
    "#média da feature domicilios_b2\n",
    "df_avg_domicilios_b2 = df_kmeans[['domicilios_b2','cluster']].groupby('cluster').mean().reset_index()\n",
    "df_kmeans_prof = pd.merge(df_kmeans_prof, df_avg_domicilios_b2, how='inner', on='cluster')\n",
    "\n",
    "df_kmeans_prof"
   ]
  },
  {
   "cell_type": "markdown",
   "id": "b75d7ccc",
   "metadata": {
    "ExecuteTime": {
     "end_time": "2023-02-09T20:16:22.277744Z",
     "start_time": "2023-02-09T20:16:22.265511Z"
    },
    "hidden": true
   },
   "source": [
    "Gerar relatório de perfil de renda e idade dos bairros."
   ]
  },
  {
   "cell_type": "code",
   "execution_count": 75,
   "id": "a2cc6452",
   "metadata": {
    "ExecuteTime": {
     "end_time": "2023-02-10T10:15:15.458764Z",
     "start_time": "2023-02-10T10:15:15.444887Z"
    },
    "hidden": true,
    "scrolled": true
   },
   "outputs": [
    {
     "name": "stdout",
     "output_type": "stream",
     "text": [
      " Cluster 0:\n",
      "    -Número de bairros:     104 (35%) \n",
      "    -População 25-34 anos:  6692 (15%) \n",
      "    -População 35-49 anos:  9685 (15%)\n",
      "    -Domicílios renda A1:   493 (46%)\n",
      "    -Domicílios renda A2:   775 (43%)\n",
      "    -Domicílios renda B1:   2584 (30%)\n",
      "    -Domicílios renda B2:   2663 (19%) \n",
      "\n",
      " Cluster 1:\n",
      "    -Número de bairros:     12 (4%) \n",
      "    -População 25-34 anos:  24031 (52%) \n",
      "    -População 35-49 anos:  33198 (51%)\n",
      "    -Domicílios renda A1:   1 (0%)\n",
      "    -Domicílios renda A2:   213 (12%)\n",
      "    -Domicílios renda B1:   2674 (31%)\n",
      "    -Domicílios renda B2:   6423 (46%) \n",
      "\n",
      " Cluster 2:\n",
      "    -Número de bairros:     132 (45%) \n",
      "    -População 25-34 anos:  2221 (5%) \n",
      "    -População 35-49 anos:  3124 (5%)\n",
      "    -Domicílios renda A1:   525 (49%)\n",
      "    -Domicílios renda A2:   545 (30%)\n",
      "    -Domicílios renda B1:   1241 (14%)\n",
      "    -Domicílios renda B2:   861 (6%) \n",
      "\n",
      " Cluster 3:\n",
      "    -Número de bairros:     48 (16%) \n",
      "    -População 25-34 anos:  13103 (28%) \n",
      "    -População 35-49 anos:  18475 (29%)\n",
      "    -Domicílios renda A1:   45 (4%)\n",
      "    -Domicílios renda A2:   260 (15%)\n",
      "    -Domicílios renda B1:   2108 (24%)\n",
      "    -Domicílios renda B2:   4133 (29%) \n",
      "\n"
     ]
    }
   ],
   "source": [
    "for i in range(len(df_kmeans_prof['bairro'])):\n",
    "    print(f\"\"\" Cluster {df_kmeans_prof['cluster'][i]}:\n",
    "    -Número de bairros:     {df_kmeans_prof['bairro'][i]} ({round(df_kmeans_prof['perc_bairros'][i])}%) \n",
    "    -População 25-34 anos:  {round(df_kmeans_prof['pop_de25a34'][i])} ({round(df_kmeans_prof.pop_de25a34[i]/df_kmeans_prof.pop_de25a34.sum()*100)}%) \n",
    "    -População 35-49 anos:  {round(df_kmeans_prof['pop_de35a49'][i])} ({round(df_kmeans_prof.pop_de35a49[i]/df_kmeans_prof.pop_de35a49.sum()*100)}%)\n",
    "    -Domicílios renda A1:   {round(df_kmeans_prof['domicilios_a1'][i])} ({round(df_kmeans_prof.domicilios_a1[i]/df_kmeans_prof.domicilios_a1.sum()*100)}%)\n",
    "    -Domicílios renda A2:   {round(df_kmeans_prof['domicilios_a2'][i])} ({round(df_kmeans_prof.domicilios_a2[i]/df_kmeans_prof.domicilios_a2.sum()*100)}%)\n",
    "    -Domicílios renda B1:   {round(df_kmeans_prof['domicilios_b1'][i])} ({round(df_kmeans_prof.domicilios_b1[i]/df_kmeans_prof.domicilios_b1.sum()*100)}%)\n",
    "    -Domicílios renda B2:   {round(df_kmeans_prof['domicilios_b2'][i])} ({round(df_kmeans_prof.domicilios_b2[i]/df_kmeans_prof.domicilios_b2.sum()*100)}%) \\n\"\"\")"
   ]
  },
  {
   "cell_type": "markdown",
   "id": "d5a55137",
   "metadata": {
    "hidden": true
   },
   "source": [
    "Através do relatório acima, podem ser identificados 4 grupos de bairros onde o perfil de renda e idade são mais homogêneos dentro de cada grupo. \n",
    "\n",
    "Referente a indicação dos grupos ou bairros com maior aderência ao público alvo, será feita nova análise no próximo ciclo, utilizando uma variável para população, e outra para renda, para simplificar a interpretação e tomada de decisão do time de negócio. "
   ]
  }
 ],
 "metadata": {
  "kernelspec": {
   "display_name": "Python 3 (ipykernel)",
   "language": "python",
   "name": "python3"
  },
  "language_info": {
   "codemirror_mode": {
    "name": "ipython",
    "version": 3
   },
   "file_extension": ".py",
   "mimetype": "text/x-python",
   "name": "python",
   "nbconvert_exporter": "python",
   "pygments_lexer": "ipython3",
   "version": "3.8.12"
  },
  "toc": {
   "base_numbering": 1,
   "nav_menu": {},
   "number_sections": true,
   "sideBar": true,
   "skip_h1_title": false,
   "title_cell": "Table of Contents",
   "title_sidebar": "Contents",
   "toc_cell": false,
   "toc_position": {},
   "toc_section_display": true,
   "toc_window_display": false
  }
 },
 "nbformat": 4,
 "nbformat_minor": 5
}
