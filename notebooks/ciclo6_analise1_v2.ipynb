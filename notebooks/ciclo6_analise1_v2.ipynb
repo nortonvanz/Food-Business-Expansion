{
 "cells": [
  {
   "cell_type": "markdown",
   "id": "991009cd",
   "metadata": {},
   "source": [
    "# 1 -  Planejamento da Solução"
   ]
  },
  {
   "cell_type": "markdown",
   "id": "9fbe76b6",
   "metadata": {
    "heading_collapsed": true
   },
   "source": [
    "## Entendimento de Negócio"
   ]
  },
  {
   "cell_type": "markdown",
   "id": "5e9394b4",
   "metadata": {
    "hidden": true
   },
   "source": [
    "**Qual é o problema de negócio?**\n",
    "\n",
    "- Empresa alimentícia situada no RJ, deseja abrir filiais na cidade de São Paulo. Para isso, precisa de 3 análises:\n",
    "    - 1 - Estimar faturamento que uma loja teria em cada um dos bairros de São Paulo (regressão, neste caso sem séries temporais).\n",
    "    - 2 - Classificar o potencial dos bairros de São Paulo em alto, médio ou baixo (classificação multiclasse).\n",
    "    - 3 - Segmentar os bairros de São Paulo de acordo com o perfil de renda e idade, identificando os com maior aderência ao público alvo.\n",
    "    \n",
    "- Público alvo: adultos de 25 a 50 anos, das classes A (rendas A1 e A2) e B (rendas B1 e B2). \n",
    "\n",
    "**Saída**\n",
    "\n",
    "- Prototipagem técnica da solução: https://docs.google.com/spreadsheets/d/17lxCBRLPEuNCO25BimVFRE3Tms-314WSTpJ1xgEIf38/edit#gid=0\n",
    "\n",
    "- O que será entregue, efetivamente? / Onde o time de negócio quer ver?\n",
    "    - Documento no formato doc, pdf ou ppt, voltado ao negócio, apresentando um racional de como os dados foram analisados. Detalhar com gráficos, tabelas, e descrever conclusões.\n",
    "    - Responder: Dada a natureza do problema apresentado, que outro dado externo (fontes públicas ou privadas) poderia ser utilizado para agregar mais valor ao resultado? Por que?\n",
    "    \n",
    "**Entrada**\n",
    "- Fontes de dados:\n",
    "    - Dataset contendo faturamento e potencial dos bairros do Rio de Janeiro do cliente, bem como dados sociodemográficos do bairros do Rio de Janeiro e São Paulo.\n",
    "\n",
    "- Ferramentas:\n",
    "    - Python 3.8.12, Jupyter Notebook, Git, Github.\n",
    "\n",
    "**Processamento**\n",
    "- Tipo de problema: análise exploratória, regressão, classificação e clusterização.\n",
    "- Metodologia: CRISP-DM, metodologia ágil (iterativa e incremental) para desenvolvimento de projetos de ciência de dados.\n"
   ]
  },
  {
   "cell_type": "markdown",
   "id": "916a113f",
   "metadata": {},
   "source": [
    "## Implementado nesta Sprint"
   ]
  },
  {
   "cell_type": "markdown",
   "id": "5e8ff47f",
   "metadata": {},
   "source": [
    "**Ciclo 6**\n",
    "\n",
    "Desenvolvimento da Análise 1 - versão 2 (regressão):\n",
    "- Correção de split nos dados.\n",
    "\n",
    "\n",
    "---------------------------------\n",
    "- Split dos dados.\n",
    "- Modelagem de dados (data preparation).\n",
    "- Seleção de Features.\n",
    "- Model Based feature selection.\n",
    "- Novo KNN Regressor + comparação com o baseline do ciclo 1.\n",
    "- KNN Regressor com Random Search + Cross validation.\n",
    "- Novos algoritmos de ML: Lasso (linear), XGBoost Reegressor (embedding de trees).\n",
    "- Comparação da performance dos modelos.\n",
    "- Performance de generalização do melhor modelo com dados de teste.\n",
    "- Modelos final, treinado com dataset traino + validação, prevendo faturamento por bairro em SP (produção)."
   ]
  },
  {
   "cell_type": "markdown",
   "id": "b47be93d",
   "metadata": {
    "heading_collapsed": true
   },
   "source": [
    "# 2 - Importações"
   ]
  },
  {
   "cell_type": "markdown",
   "id": "4ff6200e",
   "metadata": {
    "hidden": true
   },
   "source": [
    "## Bibliotecas"
   ]
  },
  {
   "cell_type": "code",
   "execution_count": 3,
   "id": "4103e4fa",
   "metadata": {
    "ExecuteTime": {
     "end_time": "2023-03-05T21:55:49.133950Z",
     "start_time": "2023-03-05T21:55:49.115572Z"
    },
    "hidden": true
   },
   "outputs": [],
   "source": [
    "import pandas                      as pd \n",
    "import seaborn                     as sns\n",
    "import numpy                       as np\n",
    "import sweetviz                    as sv\n",
    "import xgboost                     as xgb\n",
    "import inflection\n",
    "import warnings\n",
    "\n",
    "from IPython.core.display          import HTML\n",
    "from matplotlib                    import pyplot as plt\n",
    "from tabulate                      import tabulate\n",
    "from matplotlib.ticker             import FuncFormatter\n",
    "from IPython.display               import Image\n",
    "\n",
    "from sklearn.model_selection       import train_test_split, GridSearchCV\n",
    "from sklearn.neighbors             import KNeighborsRegressor\n",
    "from sklearn.metrics               import r2_score, mean_absolute_error, mean_absolute_percentage_error, mean_squared_error\n",
    "from sklearn.preprocessing         import MinMaxScaler, OrdinalEncoder\n",
    "from sklearn.feature_selection     import SelectFromModel, SelectKBest, f_regression\n",
    "from sklearn.ensemble              import RandomForestRegressor\n",
    "from sklearn.linear_model          import Lasso"
   ]
  },
  {
   "cell_type": "markdown",
   "id": "6a652348",
   "metadata": {
    "hidden": true
   },
   "source": [
    "## Funções Auxiliares"
   ]
  },
  {
   "cell_type": "code",
   "execution_count": 2,
   "id": "b44e4067",
   "metadata": {
    "ExecuteTime": {
     "end_time": "2023-03-05T21:55:49.102654Z",
     "start_time": "2023-03-05T21:55:49.016461Z"
    },
    "hidden": true,
    "scrolled": true
   },
   "outputs": [
    {
     "data": {
      "text/html": [
       "<style>.container { width:100% !important; }</style>"
      ],
      "text/plain": [
       "<IPython.core.display.HTML object>"
      ]
     },
     "metadata": {},
     "output_type": "display_data"
    }
   ],
   "source": [
    "def jupyter_settings():\n",
    "    \"\"\" Otimiza configurações gerais, padronizando tamanhos de plots, etc \"\"\"\n",
    "    %matplotlib inline\n",
    "    plt.style.use( 'bmh' )\n",
    "    plt.rcParams['figure.figsize'] = [20, 12]\n",
    "    plt.rcParams['font.size'] = 24\n",
    "    display( HTML( '<style>.container { width:100% !important; }</style>') )\n",
    "    pd.set_option('display.max_columns', 30)\n",
    "    pd.set_option('display.max_rows', 30)\n",
    "    pd.set_option('display.expand_frame_repr', False )\n",
    "    pd.set_option('display.float_format', lambda x: '%.4f' % x)\n",
    "    pd.set_option('max_colwidth', None)\n",
    "    sns.set()\n",
    "jupyter_settings()\n",
    "\n",
    "def ml_error( model_name, y, yhat ):\n",
    "    \"\"\" Calcula os erros do modelo de regressão recebido \n",
    "    model_name: nome do modelo\n",
    "             y: valores de reais\n",
    "          yhat: valores de estimados pelo modelo \"\"\"\n",
    "    mae = mean_absolute_error (y, yhat)\n",
    "    mape = mean_absolute_percentage_error( y, yhat )\n",
    "    rmse = np.sqrt( mean_squared_error( y, yhat ) )\n",
    "    \n",
    "    return pd.DataFrame( {'Model Name': model_name,\n",
    "                          'MAE': mae,\n",
    "                          'MAPE': mape,\n",
    "                          'RMSE': rmse  }, index=[0] )"
   ]
  },
  {
   "cell_type": "markdown",
   "id": "e2e11104",
   "metadata": {},
   "source": [
    "# 3 - Análise 1: Estimativa de faturamento em SP"
   ]
  },
  {
   "cell_type": "markdown",
   "id": "0ad49bec",
   "metadata": {},
   "source": [
    "Análise 1 - Estimar o faturamento que uma loja teria em cada um dos bairros de São Paulo (regressão)."
   ]
  },
  {
   "cell_type": "markdown",
   "id": "3aeaac36",
   "metadata": {
    "heading_collapsed": true
   },
   "source": [
    "## Split dos Dados"
   ]
  },
  {
   "cell_type": "code",
   "execution_count": 4,
   "id": "8b675c48",
   "metadata": {
    "ExecuteTime": {
     "end_time": "2023-03-05T21:55:54.988163Z",
     "start_time": "2023-03-05T21:55:54.957101Z"
    },
    "hidden": true
   },
   "outputs": [
    {
     "name": "stdout",
     "output_type": "stream",
     "text": [
      "(160, 22)\n"
     ]
    },
    {
     "data": {
      "text/html": [
       "<div>\n",
       "<style scoped>\n",
       "    .dataframe tbody tr th:only-of-type {\n",
       "        vertical-align: middle;\n",
       "    }\n",
       "\n",
       "    .dataframe tbody tr th {\n",
       "        vertical-align: top;\n",
       "    }\n",
       "\n",
       "    .dataframe thead th {\n",
       "        text-align: right;\n",
       "    }\n",
       "</style>\n",
       "<table border=\"1\" class=\"dataframe\">\n",
       "  <thead>\n",
       "    <tr style=\"text-align: right;\">\n",
       "      <th></th>\n",
       "      <th>populacao</th>\n",
       "      <th>pop_ate9</th>\n",
       "      <th>pop_de10a14</th>\n",
       "      <th>pop_de15a19</th>\n",
       "      <th>pop_de20a24</th>\n",
       "      <th>pop_de25a34</th>\n",
       "      <th>pop_de35a49</th>\n",
       "      <th>pop_de50a59</th>\n",
       "      <th>pop_mais_de60</th>\n",
       "      <th>pop_alvo</th>\n",
       "      <th>domicilios_a1</th>\n",
       "      <th>domicilios_a2</th>\n",
       "      <th>domicilios_b1</th>\n",
       "      <th>domicilios_b2</th>\n",
       "      <th>domicilios_c1</th>\n",
       "      <th>domicilios_c2</th>\n",
       "      <th>domicilios_d</th>\n",
       "      <th>domicilios_e</th>\n",
       "      <th>domicilios_alvo</th>\n",
       "      <th>renda_media</th>\n",
       "      <th>faturamento</th>\n",
       "      <th>potencial</th>\n",
       "    </tr>\n",
       "  </thead>\n",
       "  <tbody>\n",
       "    <tr>\n",
       "      <th>0</th>\n",
       "      <td>11676</td>\n",
       "      <td>1027</td>\n",
       "      <td>483</td>\n",
       "      <td>688</td>\n",
       "      <td>800</td>\n",
       "      <td>1675</td>\n",
       "      <td>2300</td>\n",
       "      <td>1784</td>\n",
       "      <td>2919</td>\n",
       "      <td>3975</td>\n",
       "      <td>0</td>\n",
       "      <td>145</td>\n",
       "      <td>715</td>\n",
       "      <td>1242</td>\n",
       "      <td>1093</td>\n",
       "      <td>758</td>\n",
       "      <td>92</td>\n",
       "      <td>304</td>\n",
       "      <td>2102</td>\n",
       "      <td>2501.0000</td>\n",
       "      <td>932515</td>\n",
       "      <td>Médio</td>\n",
       "    </tr>\n",
       "  </tbody>\n",
       "</table>\n",
       "</div>"
      ],
      "text/plain": [
       "   populacao  pop_ate9  pop_de10a14  pop_de15a19  pop_de20a24  pop_de25a34  pop_de35a49  pop_de50a59  pop_mais_de60  pop_alvo  domicilios_a1  domicilios_a2  domicilios_b1  domicilios_b2  domicilios_c1  domicilios_c2  domicilios_d  domicilios_e  domicilios_alvo  renda_media  faturamento potencial\n",
       "0      11676      1027          483          688          800         1675         2300         1784           2919      3975              0            145            715           1242           1093            758            92           304             2102    2501.0000       932515     Médio"
      ]
     },
     "execution_count": 4,
     "metadata": {},
     "output_type": "execute_result"
    }
   ],
   "source": [
    "df_rj = pd.read_csv('../data/interim/df_rj_feat_eng_done.csv', index_col=0)\n",
    "print(df_rj.shape)\n",
    "df_rj.head(1)"
   ]
  },
  {
   "cell_type": "markdown",
   "id": "c8ffe22f",
   "metadata": {
    "ExecuteTime": {
     "end_time": "2023-02-09T12:51:12.087878Z",
     "start_time": "2023-02-09T12:51:12.077256Z"
    },
    "hidden": true
   },
   "source": [
    "A análise 1 é um problema de regressão (supervisionado), sendo a variável alvo \"faturamento\" do tipo float (contínua).\n",
    "\n",
    "Neste ciclo 6, df_rj será dividida em duas partes, visando o GridSearchCV para cross validation e hiperparâmetros:\n",
    "- Dados de treinamento + validação (trainval): utilizados para treinar os modelos de machine learning, para validar a performance dos modelos, e para tunagem de hiperparâmetros.\n",
    "- Dados de teste (test): utilizados para avaliação final da capacidade de generalização dos modelos, simulando dados de produção (registros de SP)."
   ]
  },
  {
   "cell_type": "markdown",
   "id": "f3e4e617",
   "metadata": {
    "hidden": true
   },
   "source": [
    "Divisão entre features e variável alvo:"
   ]
  },
  {
   "cell_type": "code",
   "execution_count": 5,
   "id": "1429ae46",
   "metadata": {
    "ExecuteTime": {
     "end_time": "2023-03-05T21:55:55.485669Z",
     "start_time": "2023-03-05T21:55:55.468960Z"
    },
    "hidden": true
   },
   "outputs": [
    {
     "data": {
      "text/plain": [
       "0    932515\n",
       "1    588833\n",
       "Name: faturamento, dtype: int64"
      ]
     },
     "execution_count": 5,
     "metadata": {},
     "output_type": "execute_result"
    }
   ],
   "source": [
    "y1 = df_rj.faturamento\n",
    "y1.head(2)"
   ]
  },
  {
   "cell_type": "code",
   "execution_count": 6,
   "id": "1898ff9e",
   "metadata": {
    "ExecuteTime": {
     "end_time": "2023-03-05T21:55:55.785254Z",
     "start_time": "2023-03-05T21:55:55.760645Z"
    },
    "hidden": true
   },
   "outputs": [
    {
     "data": {
      "text/html": [
       "<div>\n",
       "<style scoped>\n",
       "    .dataframe tbody tr th:only-of-type {\n",
       "        vertical-align: middle;\n",
       "    }\n",
       "\n",
       "    .dataframe tbody tr th {\n",
       "        vertical-align: top;\n",
       "    }\n",
       "\n",
       "    .dataframe thead th {\n",
       "        text-align: right;\n",
       "    }\n",
       "</style>\n",
       "<table border=\"1\" class=\"dataframe\">\n",
       "  <thead>\n",
       "    <tr style=\"text-align: right;\">\n",
       "      <th></th>\n",
       "      <th>populacao</th>\n",
       "      <th>pop_ate9</th>\n",
       "      <th>pop_de10a14</th>\n",
       "      <th>pop_de15a19</th>\n",
       "      <th>pop_de20a24</th>\n",
       "      <th>pop_de25a34</th>\n",
       "      <th>pop_de35a49</th>\n",
       "      <th>pop_de50a59</th>\n",
       "      <th>pop_mais_de60</th>\n",
       "      <th>pop_alvo</th>\n",
       "      <th>domicilios_a1</th>\n",
       "      <th>domicilios_a2</th>\n",
       "      <th>domicilios_b1</th>\n",
       "      <th>domicilios_b2</th>\n",
       "      <th>domicilios_c1</th>\n",
       "      <th>domicilios_c2</th>\n",
       "      <th>domicilios_d</th>\n",
       "      <th>domicilios_e</th>\n",
       "      <th>domicilios_alvo</th>\n",
       "      <th>renda_media</th>\n",
       "      <th>potencial</th>\n",
       "    </tr>\n",
       "  </thead>\n",
       "  <tbody>\n",
       "    <tr>\n",
       "      <th>0</th>\n",
       "      <td>11676</td>\n",
       "      <td>1027</td>\n",
       "      <td>483</td>\n",
       "      <td>688</td>\n",
       "      <td>800</td>\n",
       "      <td>1675</td>\n",
       "      <td>2300</td>\n",
       "      <td>1784</td>\n",
       "      <td>2919</td>\n",
       "      <td>3975</td>\n",
       "      <td>0</td>\n",
       "      <td>145</td>\n",
       "      <td>715</td>\n",
       "      <td>1242</td>\n",
       "      <td>1093</td>\n",
       "      <td>758</td>\n",
       "      <td>92</td>\n",
       "      <td>304</td>\n",
       "      <td>2102</td>\n",
       "      <td>2501.0000</td>\n",
       "      <td>Médio</td>\n",
       "    </tr>\n",
       "  </tbody>\n",
       "</table>\n",
       "</div>"
      ],
      "text/plain": [
       "   populacao  pop_ate9  pop_de10a14  pop_de15a19  pop_de20a24  pop_de25a34  pop_de35a49  pop_de50a59  pop_mais_de60  pop_alvo  domicilios_a1  domicilios_a2  domicilios_b1  domicilios_b2  domicilios_c1  domicilios_c2  domicilios_d  domicilios_e  domicilios_alvo  renda_media potencial\n",
       "0      11676      1027          483          688          800         1675         2300         1784           2919      3975              0            145            715           1242           1093            758            92           304             2102    2501.0000     Médio"
      ]
     },
     "execution_count": 6,
     "metadata": {},
     "output_type": "execute_result"
    }
   ],
   "source": [
    "X1 = df_rj.drop([\"faturamento\"], axis=1)\n",
    "X1.head(1)"
   ]
  },
  {
   "cell_type": "markdown",
   "id": "1e31b7d1",
   "metadata": {
    "hidden": true
   },
   "source": [
    "Divisão entre datasets de treinval e teste, mantendo 20% dos registros para teste.\n",
    "O parâmetro \"random_state\" é utilizado para manter a reprodutibilidade da divisão."
   ]
  },
  {
   "cell_type": "code",
   "execution_count": 7,
   "id": "539b157d",
   "metadata": {
    "ExecuteTime": {
     "end_time": "2023-03-05T21:55:56.298368Z",
     "start_time": "2023-03-05T21:55:56.288142Z"
    },
    "hidden": true
   },
   "outputs": [],
   "source": [
    "X1_trainval, X1_test, y1_trainval, y1_test = train_test_split(X1, y1, random_state=0, test_size=0.20)"
   ]
  },
  {
   "cell_type": "markdown",
   "id": "5b3dd81a",
   "metadata": {
    "ExecuteTime": {
     "end_time": "2023-02-11T21:22:27.224810Z",
     "start_time": "2023-02-11T21:22:27.216016Z"
    },
    "hidden": true
   },
   "source": [
    "Conferência das divisões:"
   ]
  },
  {
   "cell_type": "code",
   "execution_count": 8,
   "id": "dba21145",
   "metadata": {
    "ExecuteTime": {
     "end_time": "2023-03-05T21:55:56.703016Z",
     "start_time": "2023-03-05T21:55:56.677153Z"
    },
    "hidden": true
   },
   "outputs": [
    {
     "name": "stdout",
     "output_type": "stream",
     "text": [
      "(128, 21)\n",
      "(32, 21)\n"
     ]
    },
    {
     "data": {
      "text/html": [
       "<div>\n",
       "<style scoped>\n",
       "    .dataframe tbody tr th:only-of-type {\n",
       "        vertical-align: middle;\n",
       "    }\n",
       "\n",
       "    .dataframe tbody tr th {\n",
       "        vertical-align: top;\n",
       "    }\n",
       "\n",
       "    .dataframe thead th {\n",
       "        text-align: right;\n",
       "    }\n",
       "</style>\n",
       "<table border=\"1\" class=\"dataframe\">\n",
       "  <thead>\n",
       "    <tr style=\"text-align: right;\">\n",
       "      <th></th>\n",
       "      <th>populacao</th>\n",
       "      <th>pop_ate9</th>\n",
       "      <th>pop_de10a14</th>\n",
       "      <th>pop_de15a19</th>\n",
       "      <th>pop_de20a24</th>\n",
       "      <th>pop_de25a34</th>\n",
       "      <th>pop_de35a49</th>\n",
       "      <th>pop_de50a59</th>\n",
       "      <th>pop_mais_de60</th>\n",
       "      <th>pop_alvo</th>\n",
       "      <th>domicilios_a1</th>\n",
       "      <th>domicilios_a2</th>\n",
       "      <th>domicilios_b1</th>\n",
       "      <th>domicilios_b2</th>\n",
       "      <th>domicilios_c1</th>\n",
       "      <th>domicilios_c2</th>\n",
       "      <th>domicilios_d</th>\n",
       "      <th>domicilios_e</th>\n",
       "      <th>domicilios_alvo</th>\n",
       "      <th>renda_media</th>\n",
       "      <th>potencial</th>\n",
       "    </tr>\n",
       "  </thead>\n",
       "  <tbody>\n",
       "    <tr>\n",
       "      <th>54</th>\n",
       "      <td>13480</td>\n",
       "      <td>1905</td>\n",
       "      <td>933</td>\n",
       "      <td>1140</td>\n",
       "      <td>1233</td>\n",
       "      <td>2195</td>\n",
       "      <td>2879</td>\n",
       "      <td>1491</td>\n",
       "      <td>1704</td>\n",
       "      <td>5074</td>\n",
       "      <td>0</td>\n",
       "      <td>0</td>\n",
       "      <td>91</td>\n",
       "      <td>480</td>\n",
       "      <td>1334</td>\n",
       "      <td>1253</td>\n",
       "      <td>240</td>\n",
       "      <td>1025</td>\n",
       "      <td>571</td>\n",
       "      <td>1133.0000</td>\n",
       "      <td>Baixo</td>\n",
       "    </tr>\n",
       "  </tbody>\n",
       "</table>\n",
       "</div>"
      ],
      "text/plain": [
       "    populacao  pop_ate9  pop_de10a14  pop_de15a19  pop_de20a24  pop_de25a34  pop_de35a49  pop_de50a59  pop_mais_de60  pop_alvo  domicilios_a1  domicilios_a2  domicilios_b1  domicilios_b2  domicilios_c1  domicilios_c2  domicilios_d  domicilios_e  domicilios_alvo  renda_media potencial\n",
       "54      13480      1905          933         1140         1233         2195         2879         1491           1704      5074              0              0             91            480           1334           1253           240          1025              571    1133.0000     Baixo"
      ]
     },
     "execution_count": 8,
     "metadata": {},
     "output_type": "execute_result"
    }
   ],
   "source": [
    "print(X1_trainval.shape)\n",
    "print(X1_test.shape)\n",
    "X1_trainval.head(1)"
   ]
  },
  {
   "cell_type": "markdown",
   "id": "5f86b5d7",
   "metadata": {},
   "source": [
    "## Preparação dos Dados"
   ]
  },
  {
   "cell_type": "markdown",
   "id": "267901e5",
   "metadata": {},
   "source": [
    "Os algoritmos de machine learning possuem premissas com relação ao formato dos dados que recebem. Elas devem ser respeitadas sempre que possível, para que o algoritmo atinja a maior performance possível.\n",
    "\n",
    "Nesta seção, as features serão preparadas para servir de insumo aos algoritmos."
   ]
  },
  {
   "cell_type": "code",
   "execution_count": 9,
   "id": "c991b3ae",
   "metadata": {
    "ExecuteTime": {
     "end_time": "2023-03-05T21:55:58.987680Z",
     "start_time": "2023-03-05T21:55:58.978528Z"
    }
   },
   "outputs": [
    {
     "data": {
      "text/plain": [
       "Index(['populacao', 'pop_ate9', 'pop_de10a14', 'pop_de15a19', 'pop_de20a24',\n",
       "       'pop_de25a34', 'pop_de35a49', 'pop_de50a59', 'pop_mais_de60',\n",
       "       'pop_alvo', 'domicilios_a1', 'domicilios_a2', 'domicilios_b1',\n",
       "       'domicilios_b2', 'domicilios_c1', 'domicilios_c2', 'domicilios_d',\n",
       "       'domicilios_e', 'domicilios_alvo', 'renda_media', 'potencial'],\n",
       "      dtype='object')"
      ]
     },
     "execution_count": 9,
     "metadata": {},
     "output_type": "execute_result"
    }
   ],
   "source": [
    "X1_trainval.columns"
   ]
  },
  {
   "cell_type": "code",
   "execution_count": 10,
   "id": "88a7d037",
   "metadata": {
    "ExecuteTime": {
     "end_time": "2023-03-05T21:55:59.216103Z",
     "start_time": "2023-03-05T21:55:59.196791Z"
    }
   },
   "outputs": [
    {
     "data": {
      "text/html": [
       "<div>\n",
       "<style scoped>\n",
       "    .dataframe tbody tr th:only-of-type {\n",
       "        vertical-align: middle;\n",
       "    }\n",
       "\n",
       "    .dataframe tbody tr th {\n",
       "        vertical-align: top;\n",
       "    }\n",
       "\n",
       "    .dataframe thead th {\n",
       "        text-align: right;\n",
       "    }\n",
       "</style>\n",
       "<table border=\"1\" class=\"dataframe\">\n",
       "  <thead>\n",
       "    <tr style=\"text-align: right;\">\n",
       "      <th></th>\n",
       "      <th>populacao</th>\n",
       "      <th>pop_ate9</th>\n",
       "      <th>pop_de10a14</th>\n",
       "      <th>pop_de15a19</th>\n",
       "      <th>pop_de20a24</th>\n",
       "      <th>pop_de25a34</th>\n",
       "      <th>pop_de35a49</th>\n",
       "      <th>pop_de50a59</th>\n",
       "      <th>pop_mais_de60</th>\n",
       "      <th>pop_alvo</th>\n",
       "      <th>domicilios_a1</th>\n",
       "      <th>domicilios_a2</th>\n",
       "      <th>domicilios_b1</th>\n",
       "      <th>domicilios_b2</th>\n",
       "      <th>domicilios_c1</th>\n",
       "      <th>domicilios_c2</th>\n",
       "      <th>domicilios_d</th>\n",
       "      <th>domicilios_e</th>\n",
       "      <th>domicilios_alvo</th>\n",
       "      <th>renda_media</th>\n",
       "      <th>potencial</th>\n",
       "    </tr>\n",
       "  </thead>\n",
       "  <tbody>\n",
       "    <tr>\n",
       "      <th>54</th>\n",
       "      <td>13480</td>\n",
       "      <td>1905</td>\n",
       "      <td>933</td>\n",
       "      <td>1140</td>\n",
       "      <td>1233</td>\n",
       "      <td>2195</td>\n",
       "      <td>2879</td>\n",
       "      <td>1491</td>\n",
       "      <td>1704</td>\n",
       "      <td>5074</td>\n",
       "      <td>0</td>\n",
       "      <td>0</td>\n",
       "      <td>91</td>\n",
       "      <td>480</td>\n",
       "      <td>1334</td>\n",
       "      <td>1253</td>\n",
       "      <td>240</td>\n",
       "      <td>1025</td>\n",
       "      <td>571</td>\n",
       "      <td>1133.0000</td>\n",
       "      <td>Baixo</td>\n",
       "    </tr>\n",
       "  </tbody>\n",
       "</table>\n",
       "</div>"
      ],
      "text/plain": [
       "    populacao  pop_ate9  pop_de10a14  pop_de15a19  pop_de20a24  pop_de25a34  pop_de35a49  pop_de50a59  pop_mais_de60  pop_alvo  domicilios_a1  domicilios_a2  domicilios_b1  domicilios_b2  domicilios_c1  domicilios_c2  domicilios_d  domicilios_e  domicilios_alvo  renda_media potencial\n",
       "54      13480      1905          933         1140         1233         2195         2879         1491           1704      5074              0              0             91            480           1334           1253           240          1025              571    1133.0000     Baixo"
      ]
     },
     "execution_count": 10,
     "metadata": {},
     "output_type": "execute_result"
    }
   ],
   "source": [
    "X1_trainval.head(1)"
   ]
  },
  {
   "cell_type": "markdown",
   "id": "f8ae7a29",
   "metadata": {},
   "source": [
    "Tratativas necessárias para as features da análise 1 (regressão).\n",
    "\n",
    "- Numéricas (tratadas com scaling): 'populacao', 'pop_ate9', 'pop_de10a14', 'pop_de15a19', 'pop_de20a24', 'pop_de25a34', 'pop_de35a49', 'pop_de50a59', 'pop_mais_de60', 'pop_alvo', 'domicilios_a1', 'domicilios_a2', 'domicilios_b1', 'domicilios_b2', 'domicilios_c1', 'domicilios_c2', 'domicilios_d', 'domicilios_e', 'domicilios_alvo', e 'renda_media'. \n",
    "- Categóricas (tratadas com encoding): 'potencial'.\n",
    "- Variável resposta (tratada com transformação logaritmica): 'faturamento'."
   ]
  },
  {
   "cell_type": "markdown",
   "id": "2474f56d",
   "metadata": {},
   "source": [
    "### Scaling"
   ]
  },
  {
   "cell_type": "markdown",
   "id": "18ad4002",
   "metadata": {},
   "source": [
    "1 - Feature Scaling: Trazer todas variáveis para mesmo range (escala), para não enviesar os modelos.\n",
    "- 1.1 Standardization se distribuição Normal:\n",
    "    - Sem outliers: usa StandardScaler\n",
    "    - Com outliers: usa RobustScaler\n",
    "- 1.2 Normalization se não normal:\n",
    "    - Com ou sem outliers: Usar MinMaxScaler\n",
    "\n",
    "Avaliando as distribuições das features na seção \"Estatística Descritiva\", nenhuma das que serão tratatas aqui possui distribuição normal. Logo, todas serão reescaladas usando a classe \"MinMaxScaler\" do scikit-learn.\n",
    "- MinMaxScaler: Rescala para o intervalo entre 0 e 1."
   ]
  },
  {
   "cell_type": "code",
   "execution_count": 11,
   "id": "23e1b4fb",
   "metadata": {
    "ExecuteTime": {
     "end_time": "2023-03-05T21:56:04.122415Z",
     "start_time": "2023-03-05T21:56:04.115697Z"
    }
   },
   "outputs": [],
   "source": [
    "features_scaling = ['populacao', 'pop_ate9', 'pop_de10a14', 'pop_de15a19', 'pop_de20a24', 'pop_de25a34',\n",
    "'pop_de35a49', 'pop_de50a59', 'pop_mais_de60', 'pop_alvo', 'domicilios_a1', 'domicilios_a2', 'domicilios_b1',\n",
    "'domicilios_b2', 'domicilios_c1', 'domicilios_c2', 'domicilios_d', 'domicilios_e', 'domicilios_alvo', 'renda_media']"
   ]
  },
  {
   "cell_type": "markdown",
   "id": "3c30546a",
   "metadata": {},
   "source": [
    "Reescala apenas as features selecionadas do trainval com MinMaxScaler."
   ]
  },
  {
   "cell_type": "code",
   "execution_count": 12,
   "id": "92ac447f",
   "metadata": {
    "ExecuteTime": {
     "end_time": "2023-03-05T21:56:04.652205Z",
     "start_time": "2023-03-05T21:56:04.619539Z"
    }
   },
   "outputs": [
    {
     "data": {
      "text/html": [
       "<div>\n",
       "<style scoped>\n",
       "    .dataframe tbody tr th:only-of-type {\n",
       "        vertical-align: middle;\n",
       "    }\n",
       "\n",
       "    .dataframe tbody tr th {\n",
       "        vertical-align: top;\n",
       "    }\n",
       "\n",
       "    .dataframe thead th {\n",
       "        text-align: right;\n",
       "    }\n",
       "</style>\n",
       "<table border=\"1\" class=\"dataframe\">\n",
       "  <thead>\n",
       "    <tr style=\"text-align: right;\">\n",
       "      <th></th>\n",
       "      <th>populacao</th>\n",
       "      <th>pop_ate9</th>\n",
       "      <th>pop_de10a14</th>\n",
       "      <th>pop_de15a19</th>\n",
       "      <th>pop_de20a24</th>\n",
       "      <th>pop_de25a34</th>\n",
       "      <th>pop_de35a49</th>\n",
       "      <th>pop_de50a59</th>\n",
       "      <th>pop_mais_de60</th>\n",
       "      <th>pop_alvo</th>\n",
       "      <th>domicilios_a1</th>\n",
       "      <th>domicilios_a2</th>\n",
       "      <th>domicilios_b1</th>\n",
       "      <th>domicilios_b2</th>\n",
       "      <th>domicilios_c1</th>\n",
       "      <th>domicilios_c2</th>\n",
       "      <th>domicilios_d</th>\n",
       "      <th>domicilios_e</th>\n",
       "      <th>domicilios_alvo</th>\n",
       "      <th>renda_media</th>\n",
       "      <th>potencial</th>\n",
       "    </tr>\n",
       "  </thead>\n",
       "  <tbody>\n",
       "    <tr>\n",
       "      <th>54</th>\n",
       "      <td>0.0199</td>\n",
       "      <td>0.0153</td>\n",
       "      <td>0.0165</td>\n",
       "      <td>0.0179</td>\n",
       "      <td>0.0201</td>\n",
       "      <td>0.0252</td>\n",
       "      <td>0.0270</td>\n",
       "      <td>0.0178</td>\n",
       "      <td>0.0185</td>\n",
       "      <td>0.0262</td>\n",
       "      <td>0.0000</td>\n",
       "      <td>0.0000</td>\n",
       "      <td>0.0047</td>\n",
       "      <td>0.0226</td>\n",
       "      <td>0.0401</td>\n",
       "      <td>0.0485</td>\n",
       "      <td>0.0484</td>\n",
       "      <td>0.0690</td>\n",
       "      <td>0.0120</td>\n",
       "      <td>0.0076</td>\n",
       "      <td>Baixo</td>\n",
       "    </tr>\n",
       "  </tbody>\n",
       "</table>\n",
       "</div>"
      ],
      "text/plain": [
       "    populacao  pop_ate9  pop_de10a14  pop_de15a19  pop_de20a24  pop_de25a34  pop_de35a49  pop_de50a59  pop_mais_de60  pop_alvo  domicilios_a1  domicilios_a2  domicilios_b1  domicilios_b2  domicilios_c1  domicilios_c2  domicilios_d  domicilios_e  domicilios_alvo  renda_media potencial\n",
       "54     0.0199    0.0153       0.0165       0.0179       0.0201       0.0252       0.0270       0.0178         0.0185    0.0262         0.0000         0.0000         0.0047         0.0226         0.0401         0.0485        0.0484        0.0690           0.0120       0.0076     Baixo"
      ]
     },
     "execution_count": 12,
     "metadata": {},
     "output_type": "execute_result"
    }
   ],
   "source": [
    "scaler1 = MinMaxScaler()\n",
    "X1_trainval[features_scaling] = scaler1.fit_transform(X1_trainval[features_scaling])\n",
    "X1_trainval.head(1)"
   ]
  },
  {
   "cell_type": "markdown",
   "id": "ab809f96",
   "metadata": {},
   "source": [
    "Aplicar desde já a reescala também no test test."
   ]
  },
  {
   "cell_type": "code",
   "execution_count": 13,
   "id": "4ecc415b",
   "metadata": {
    "ExecuteTime": {
     "end_time": "2023-03-05T21:56:05.409460Z",
     "start_time": "2023-03-05T21:56:05.360450Z"
    }
   },
   "outputs": [
    {
     "data": {
      "text/html": [
       "<div>\n",
       "<style scoped>\n",
       "    .dataframe tbody tr th:only-of-type {\n",
       "        vertical-align: middle;\n",
       "    }\n",
       "\n",
       "    .dataframe tbody tr th {\n",
       "        vertical-align: top;\n",
       "    }\n",
       "\n",
       "    .dataframe thead th {\n",
       "        text-align: right;\n",
       "    }\n",
       "</style>\n",
       "<table border=\"1\" class=\"dataframe\">\n",
       "  <thead>\n",
       "    <tr style=\"text-align: right;\">\n",
       "      <th></th>\n",
       "      <th>populacao</th>\n",
       "      <th>pop_ate9</th>\n",
       "      <th>pop_de10a14</th>\n",
       "      <th>pop_de15a19</th>\n",
       "      <th>pop_de20a24</th>\n",
       "      <th>pop_de25a34</th>\n",
       "      <th>pop_de35a49</th>\n",
       "      <th>pop_de50a59</th>\n",
       "      <th>pop_mais_de60</th>\n",
       "      <th>pop_alvo</th>\n",
       "      <th>domicilios_a1</th>\n",
       "      <th>domicilios_a2</th>\n",
       "      <th>domicilios_b1</th>\n",
       "      <th>domicilios_b2</th>\n",
       "      <th>domicilios_c1</th>\n",
       "      <th>domicilios_c2</th>\n",
       "      <th>domicilios_d</th>\n",
       "      <th>domicilios_e</th>\n",
       "      <th>domicilios_alvo</th>\n",
       "      <th>renda_media</th>\n",
       "      <th>potencial</th>\n",
       "    </tr>\n",
       "  </thead>\n",
       "  <tbody>\n",
       "    <tr>\n",
       "      <th>110</th>\n",
       "      <td>0.0179</td>\n",
       "      <td>0.0121</td>\n",
       "      <td>0.0122</td>\n",
       "      <td>0.0148</td>\n",
       "      <td>0.0146</td>\n",
       "      <td>0.0210</td>\n",
       "      <td>0.0249</td>\n",
       "      <td>0.0181</td>\n",
       "      <td>0.0219</td>\n",
       "      <td>0.0232</td>\n",
       "      <td>0.0000</td>\n",
       "      <td>0.0080</td>\n",
       "      <td>0.0171</td>\n",
       "      <td>0.0266</td>\n",
       "      <td>0.0324</td>\n",
       "      <td>0.0406</td>\n",
       "      <td>0.0373</td>\n",
       "      <td>0.0577</td>\n",
       "      <td>0.0208</td>\n",
       "      <td>0.0164</td>\n",
       "      <td>Baixo</td>\n",
       "    </tr>\n",
       "  </tbody>\n",
       "</table>\n",
       "</div>"
      ],
      "text/plain": [
       "     populacao  pop_ate9  pop_de10a14  pop_de15a19  pop_de20a24  pop_de25a34  pop_de35a49  pop_de50a59  pop_mais_de60  pop_alvo  domicilios_a1  domicilios_a2  domicilios_b1  domicilios_b2  domicilios_c1  domicilios_c2  domicilios_d  domicilios_e  domicilios_alvo  renda_media potencial\n",
       "110     0.0179    0.0121       0.0122       0.0148       0.0146       0.0210       0.0249       0.0181         0.0219    0.0232         0.0000         0.0080         0.0171         0.0266         0.0324         0.0406        0.0373        0.0577           0.0208       0.0164     Baixo"
      ]
     },
     "execution_count": 13,
     "metadata": {},
     "output_type": "execute_result"
    }
   ],
   "source": [
    "X1_test[features_scaling] = scaler1.transform(X1_test[features_scaling])\n",
    "X1_test.head(1)"
   ]
  },
  {
   "cell_type": "markdown",
   "id": "730c856a",
   "metadata": {},
   "source": [
    "Features Reescaladas."
   ]
  },
  {
   "cell_type": "markdown",
   "id": "b1136bc0",
   "metadata": {},
   "source": [
    "### Transformations"
   ]
  },
  {
   "cell_type": "markdown",
   "id": "1564d828",
   "metadata": {},
   "source": [
    "2 - Transformação:\n",
    "- 2.1 - Converter variáveis categóricas em numéricas (Encoding).\n",
    "- 2.2 - Converter a variável resposta em distribuição normal.(Response Variable Transf.)"
   ]
  },
  {
   "cell_type": "markdown",
   "id": "03931911",
   "metadata": {},
   "source": [
    "#### Encoding"
   ]
  },
  {
   "cell_type": "markdown",
   "id": "f6da7aee",
   "metadata": {},
   "source": [
    "2.1 - Encoding:\n",
    "- É a Conversão de Features Categóricas para Numéricas, mantendo o conteúdo.\n",
    "- Avaliando a feature \"potencial\", há uma relação de ordem na variável, que contém valores \"Baixo\", \"Médio\" e \"Alto\". Em função disso, será aplicando um encoding ordinal através da classe \"OrdinalEncoder\" do scikit-learn."
   ]
  },
  {
   "cell_type": "markdown",
   "id": "1ad3e858",
   "metadata": {},
   "source": [
    "Encodar apenas as features selecionadas do treino com OrdinalEncoder."
   ]
  },
  {
   "cell_type": "code",
   "execution_count": 14,
   "id": "b446ce60",
   "metadata": {
    "ExecuteTime": {
     "end_time": "2023-03-05T21:56:14.117282Z",
     "start_time": "2023-03-05T21:56:14.089890Z"
    },
    "scrolled": true
   },
   "outputs": [
    {
     "data": {
      "text/html": [
       "<div>\n",
       "<style scoped>\n",
       "    .dataframe tbody tr th:only-of-type {\n",
       "        vertical-align: middle;\n",
       "    }\n",
       "\n",
       "    .dataframe tbody tr th {\n",
       "        vertical-align: top;\n",
       "    }\n",
       "\n",
       "    .dataframe thead th {\n",
       "        text-align: right;\n",
       "    }\n",
       "</style>\n",
       "<table border=\"1\" class=\"dataframe\">\n",
       "  <thead>\n",
       "    <tr style=\"text-align: right;\">\n",
       "      <th></th>\n",
       "      <th>populacao</th>\n",
       "      <th>pop_ate9</th>\n",
       "      <th>pop_de10a14</th>\n",
       "      <th>pop_de15a19</th>\n",
       "      <th>pop_de20a24</th>\n",
       "      <th>pop_de25a34</th>\n",
       "      <th>pop_de35a49</th>\n",
       "      <th>pop_de50a59</th>\n",
       "      <th>pop_mais_de60</th>\n",
       "      <th>pop_alvo</th>\n",
       "      <th>domicilios_a1</th>\n",
       "      <th>domicilios_a2</th>\n",
       "      <th>domicilios_b1</th>\n",
       "      <th>domicilios_b2</th>\n",
       "      <th>domicilios_c1</th>\n",
       "      <th>domicilios_c2</th>\n",
       "      <th>domicilios_d</th>\n",
       "      <th>domicilios_e</th>\n",
       "      <th>domicilios_alvo</th>\n",
       "      <th>renda_media</th>\n",
       "      <th>potencial</th>\n",
       "    </tr>\n",
       "  </thead>\n",
       "  <tbody>\n",
       "    <tr>\n",
       "      <th>54</th>\n",
       "      <td>0.0199</td>\n",
       "      <td>0.0153</td>\n",
       "      <td>0.0165</td>\n",
       "      <td>0.0179</td>\n",
       "      <td>0.0201</td>\n",
       "      <td>0.0252</td>\n",
       "      <td>0.0270</td>\n",
       "      <td>0.0178</td>\n",
       "      <td>0.0185</td>\n",
       "      <td>0.0262</td>\n",
       "      <td>0.0000</td>\n",
       "      <td>0.0000</td>\n",
       "      <td>0.0047</td>\n",
       "      <td>0.0226</td>\n",
       "      <td>0.0401</td>\n",
       "      <td>0.0485</td>\n",
       "      <td>0.0484</td>\n",
       "      <td>0.0690</td>\n",
       "      <td>0.0120</td>\n",
       "      <td>0.0076</td>\n",
       "      <td>0</td>\n",
       "    </tr>\n",
       "  </tbody>\n",
       "</table>\n",
       "</div>"
      ],
      "text/plain": [
       "    populacao  pop_ate9  pop_de10a14  pop_de15a19  pop_de20a24  pop_de25a34  pop_de35a49  pop_de50a59  pop_mais_de60  pop_alvo  domicilios_a1  domicilios_a2  domicilios_b1  domicilios_b2  domicilios_c1  domicilios_c2  domicilios_d  domicilios_e  domicilios_alvo  renda_media  potencial\n",
       "54     0.0199    0.0153       0.0165       0.0179       0.0201       0.0252       0.0270       0.0178         0.0185    0.0262         0.0000         0.0000         0.0047         0.0226         0.0401         0.0485        0.0484        0.0690           0.0120       0.0076          0"
      ]
     },
     "execution_count": 14,
     "metadata": {},
     "output_type": "execute_result"
    }
   ],
   "source": [
    "encoder1 = OrdinalEncoder(categories=[['Baixo', 'Médio', 'Alto']], dtype=int)\n",
    "X1_trainval.potencial = encoder1.fit_transform(X1_trainval.potencial.to_numpy().reshape(-1,1))\n",
    "encoder1.categories_\n",
    "X1_trainval.head(1)"
   ]
  },
  {
   "cell_type": "markdown",
   "id": "cd03e133",
   "metadata": {},
   "source": [
    "Aprontar também o test, já aplicando as transformações."
   ]
  },
  {
   "cell_type": "code",
   "execution_count": 15,
   "id": "1c25fe49",
   "metadata": {
    "ExecuteTime": {
     "end_time": "2023-03-05T21:56:14.867829Z",
     "start_time": "2023-03-05T21:56:14.836397Z"
    }
   },
   "outputs": [
    {
     "data": {
      "text/html": [
       "<div>\n",
       "<style scoped>\n",
       "    .dataframe tbody tr th:only-of-type {\n",
       "        vertical-align: middle;\n",
       "    }\n",
       "\n",
       "    .dataframe tbody tr th {\n",
       "        vertical-align: top;\n",
       "    }\n",
       "\n",
       "    .dataframe thead th {\n",
       "        text-align: right;\n",
       "    }\n",
       "</style>\n",
       "<table border=\"1\" class=\"dataframe\">\n",
       "  <thead>\n",
       "    <tr style=\"text-align: right;\">\n",
       "      <th></th>\n",
       "      <th>populacao</th>\n",
       "      <th>pop_ate9</th>\n",
       "      <th>pop_de10a14</th>\n",
       "      <th>pop_de15a19</th>\n",
       "      <th>pop_de20a24</th>\n",
       "      <th>pop_de25a34</th>\n",
       "      <th>pop_de35a49</th>\n",
       "      <th>pop_de50a59</th>\n",
       "      <th>pop_mais_de60</th>\n",
       "      <th>pop_alvo</th>\n",
       "      <th>domicilios_a1</th>\n",
       "      <th>domicilios_a2</th>\n",
       "      <th>domicilios_b1</th>\n",
       "      <th>domicilios_b2</th>\n",
       "      <th>domicilios_c1</th>\n",
       "      <th>domicilios_c2</th>\n",
       "      <th>domicilios_d</th>\n",
       "      <th>domicilios_e</th>\n",
       "      <th>domicilios_alvo</th>\n",
       "      <th>renda_media</th>\n",
       "      <th>potencial</th>\n",
       "    </tr>\n",
       "  </thead>\n",
       "  <tbody>\n",
       "    <tr>\n",
       "      <th>110</th>\n",
       "      <td>0.0179</td>\n",
       "      <td>0.0121</td>\n",
       "      <td>0.0122</td>\n",
       "      <td>0.0148</td>\n",
       "      <td>0.0146</td>\n",
       "      <td>0.0210</td>\n",
       "      <td>0.0249</td>\n",
       "      <td>0.0181</td>\n",
       "      <td>0.0219</td>\n",
       "      <td>0.0232</td>\n",
       "      <td>0.0000</td>\n",
       "      <td>0.0080</td>\n",
       "      <td>0.0171</td>\n",
       "      <td>0.0266</td>\n",
       "      <td>0.0324</td>\n",
       "      <td>0.0406</td>\n",
       "      <td>0.0373</td>\n",
       "      <td>0.0577</td>\n",
       "      <td>0.0208</td>\n",
       "      <td>0.0164</td>\n",
       "      <td>0</td>\n",
       "    </tr>\n",
       "  </tbody>\n",
       "</table>\n",
       "</div>"
      ],
      "text/plain": [
       "     populacao  pop_ate9  pop_de10a14  pop_de15a19  pop_de20a24  pop_de25a34  pop_de35a49  pop_de50a59  pop_mais_de60  pop_alvo  domicilios_a1  domicilios_a2  domicilios_b1  domicilios_b2  domicilios_c1  domicilios_c2  domicilios_d  domicilios_e  domicilios_alvo  renda_media  potencial\n",
       "110     0.0179    0.0121       0.0122       0.0148       0.0146       0.0210       0.0249       0.0181         0.0219    0.0232         0.0000         0.0080         0.0171         0.0266         0.0324         0.0406        0.0373        0.0577           0.0208       0.0164          0"
      ]
     },
     "execution_count": 15,
     "metadata": {},
     "output_type": "execute_result"
    }
   ],
   "source": [
    "X1_test.potencial = encoder1.transform(X1_test.potencial.to_numpy().reshape(-1,1))\n",
    "X1_test.head(1)"
   ]
  },
  {
   "cell_type": "markdown",
   "id": "9ac14b02",
   "metadata": {},
   "source": [
    "#### Response Variable Transformation"
   ]
  },
  {
   "cell_type": "markdown",
   "id": "5bbbd622",
   "metadata": {},
   "source": [
    "2.2 - Response Variable Transformation:\n",
    "- Aplica um log na variável resposta, transformando ela em algo próximo a uma distribuição normal."
   ]
  },
  {
   "cell_type": "markdown",
   "id": "cbe1c79d",
   "metadata": {
    "ExecuteTime": {
     "end_time": "2023-02-11T22:24:49.805419Z",
     "start_time": "2023-02-11T22:24:49.797565Z"
    }
   },
   "source": [
    "Será tratado em ciclos futuros. "
   ]
  },
  {
   "cell_type": "markdown",
   "id": "7edc7f9f",
   "metadata": {
    "heading_collapsed": true
   },
   "source": [
    "## Seleção de Features"
   ]
  },
  {
   "cell_type": "markdown",
   "id": "643c65b6",
   "metadata": {
    "hidden": true
   },
   "source": [
    "Neste ciclo 6, apenas a seleção de features baseada em algoritmos será utilizada."
   ]
  },
  {
   "cell_type": "markdown",
   "id": "dce2d0ab",
   "metadata": {
    "heading_collapsed": true,
    "hidden": true
   },
   "source": [
    "### Baseada em Algoritmos"
   ]
  },
  {
   "cell_type": "markdown",
   "id": "7e7af16d",
   "metadata": {
    "hidden": true
   },
   "source": [
    "Forma mais sofisticada, utilizar machine learning para julgar a importância das features, mantendo as mais importantes (model-based feature selection). \n",
    "\n",
    "Será utilizada a classe \"SelectFromModel\" do scikit-learn para isto.\n",
    "- Neste método, um algoritmo precisa prover alguma medida de importância, para o rankeamento por esta medida.\n",
    "    - Modelos baseados em árvores proveem \"feature_importances_\", que encoda a importância de cada feature.\n",
    "    - Modelos lineares proveem \"coefficients\", que também podem ser utilizados para isto.\n",
    "- Será utilizada uma RandomForestRegressor com 100 árvores, e threshhold com um fator de escala multiplicado pela mediana.\n",
    "- Diferente da estatística univariada, com esta técnica é possível capturar interactions (features derivadas de outras), caso o modelo utilizado seja capáz de capturá-las."
   ]
  },
  {
   "cell_type": "code",
   "execution_count": 16,
   "id": "01dd8ffd",
   "metadata": {
    "ExecuteTime": {
     "end_time": "2023-03-05T21:56:21.713917Z",
     "start_time": "2023-03-05T21:56:21.635281Z"
    },
    "hidden": true
   },
   "outputs": [
    {
     "data": {
      "text/plain": [
       "array(['pop_ate9', 'pop_de10a14', 'pop_de15a19', 'pop_de20a24',\n",
       "       'domicilios_a1', 'domicilios_a2', 'domicilios_b1', 'domicilios_b2',\n",
       "       'domicilios_c2', 'domicilios_d', 'domicilios_e', 'renda_media'],\n",
       "      dtype=object)"
      ]
     },
     "execution_count": 16,
     "metadata": {},
     "output_type": "execute_result"
    }
   ],
   "source": [
    "sel_mbfs = SelectFromModel( RandomForestRegressor(n_estimators=10, random_state=0), threshold=\"0.6*median\") \n",
    "sel_mbfs.fit(X1_trainval, y1_trainval).transform(X1_trainval)\n",
    "features_mbfs = sel_mbfs.get_feature_names_out()\n",
    "features_mbfs"
   ]
  },
  {
   "cell_type": "markdown",
   "id": "c9867eec",
   "metadata": {
    "hidden": true
   },
   "source": [
    "Mantendo apenas as features selecionadas nos demais datasets."
   ]
  },
  {
   "cell_type": "code",
   "execution_count": 17,
   "id": "87de87b9",
   "metadata": {
    "ExecuteTime": {
     "end_time": "2023-03-05T21:56:23.899536Z",
     "start_time": "2023-03-05T21:56:23.873246Z"
    },
    "hidden": true
   },
   "outputs": [
    {
     "data": {
      "text/html": [
       "<div>\n",
       "<style scoped>\n",
       "    .dataframe tbody tr th:only-of-type {\n",
       "        vertical-align: middle;\n",
       "    }\n",
       "\n",
       "    .dataframe tbody tr th {\n",
       "        vertical-align: top;\n",
       "    }\n",
       "\n",
       "    .dataframe thead th {\n",
       "        text-align: right;\n",
       "    }\n",
       "</style>\n",
       "<table border=\"1\" class=\"dataframe\">\n",
       "  <thead>\n",
       "    <tr style=\"text-align: right;\">\n",
       "      <th></th>\n",
       "      <th>pop_ate9</th>\n",
       "      <th>pop_de10a14</th>\n",
       "      <th>pop_de15a19</th>\n",
       "      <th>pop_de20a24</th>\n",
       "      <th>domicilios_a1</th>\n",
       "      <th>domicilios_a2</th>\n",
       "      <th>domicilios_b1</th>\n",
       "      <th>domicilios_b2</th>\n",
       "      <th>domicilios_c2</th>\n",
       "      <th>domicilios_d</th>\n",
       "      <th>domicilios_e</th>\n",
       "      <th>renda_media</th>\n",
       "    </tr>\n",
       "  </thead>\n",
       "  <tbody>\n",
       "    <tr>\n",
       "      <th>54</th>\n",
       "      <td>0.0153</td>\n",
       "      <td>0.0165</td>\n",
       "      <td>0.0179</td>\n",
       "      <td>0.0201</td>\n",
       "      <td>0.0000</td>\n",
       "      <td>0.0000</td>\n",
       "      <td>0.0047</td>\n",
       "      <td>0.0226</td>\n",
       "      <td>0.0485</td>\n",
       "      <td>0.0484</td>\n",
       "      <td>0.0690</td>\n",
       "      <td>0.0076</td>\n",
       "    </tr>\n",
       "  </tbody>\n",
       "</table>\n",
       "</div>"
      ],
      "text/plain": [
       "    pop_ate9  pop_de10a14  pop_de15a19  pop_de20a24  domicilios_a1  domicilios_a2  domicilios_b1  domicilios_b2  domicilios_c2  domicilios_d  domicilios_e  renda_media\n",
       "54    0.0153       0.0165       0.0179       0.0201         0.0000         0.0000         0.0047         0.0226         0.0485        0.0484        0.0690       0.0076"
      ]
     },
     "execution_count": 17,
     "metadata": {},
     "output_type": "execute_result"
    }
   ],
   "source": [
    "X1_trainval = X1_trainval[features_mbfs].copy() \n",
    "X1_test = X1_test[features_mbfs].copy() \n",
    "X1_trainval.head(1)"
   ]
  },
  {
   "cell_type": "code",
   "execution_count": 19,
   "id": "56175781",
   "metadata": {
    "ExecuteTime": {
     "end_time": "2023-03-05T21:56:36.237606Z",
     "start_time": "2023-03-05T21:56:36.220544Z"
    },
    "hidden": true
   },
   "outputs": [
    {
     "data": {
      "text/html": [
       "<div>\n",
       "<style scoped>\n",
       "    .dataframe tbody tr th:only-of-type {\n",
       "        vertical-align: middle;\n",
       "    }\n",
       "\n",
       "    .dataframe tbody tr th {\n",
       "        vertical-align: top;\n",
       "    }\n",
       "\n",
       "    .dataframe thead th {\n",
       "        text-align: right;\n",
       "    }\n",
       "</style>\n",
       "<table border=\"1\" class=\"dataframe\">\n",
       "  <thead>\n",
       "    <tr style=\"text-align: right;\">\n",
       "      <th></th>\n",
       "      <th>pop_ate9</th>\n",
       "      <th>pop_de10a14</th>\n",
       "      <th>pop_de15a19</th>\n",
       "      <th>pop_de20a24</th>\n",
       "      <th>domicilios_a1</th>\n",
       "      <th>domicilios_a2</th>\n",
       "      <th>domicilios_b1</th>\n",
       "      <th>domicilios_b2</th>\n",
       "      <th>domicilios_c2</th>\n",
       "      <th>domicilios_d</th>\n",
       "      <th>domicilios_e</th>\n",
       "      <th>renda_media</th>\n",
       "    </tr>\n",
       "  </thead>\n",
       "  <tbody>\n",
       "    <tr>\n",
       "      <th>110</th>\n",
       "      <td>0.0121</td>\n",
       "      <td>0.0122</td>\n",
       "      <td>0.0148</td>\n",
       "      <td>0.0146</td>\n",
       "      <td>0.0000</td>\n",
       "      <td>0.0080</td>\n",
       "      <td>0.0171</td>\n",
       "      <td>0.0266</td>\n",
       "      <td>0.0406</td>\n",
       "      <td>0.0373</td>\n",
       "      <td>0.0577</td>\n",
       "      <td>0.0164</td>\n",
       "    </tr>\n",
       "  </tbody>\n",
       "</table>\n",
       "</div>"
      ],
      "text/plain": [
       "     pop_ate9  pop_de10a14  pop_de15a19  pop_de20a24  domicilios_a1  domicilios_a2  domicilios_b1  domicilios_b2  domicilios_c2  domicilios_d  domicilios_e  renda_media\n",
       "110    0.0121       0.0122       0.0148       0.0146         0.0000         0.0080         0.0171         0.0266         0.0406        0.0373        0.0577       0.0164"
      ]
     },
     "execution_count": 19,
     "metadata": {},
     "output_type": "execute_result"
    }
   ],
   "source": [
    "X1_test.head(1)"
   ]
  },
  {
   "cell_type": "markdown",
   "id": "69ea2372",
   "metadata": {
    "hidden": true
   },
   "source": [
    "Na sequência, alguns modelos de machine learning serão experimentados.\n",
    "\n",
    "As seções \"Implementação de Baseline (Ciclo 1)\" e \"Comparação com o Baseline\" do ciclo 3 foram removidas, visto que o split de dados foi realizado visando um GridSearchCV."
   ]
  },
  {
   "cell_type": "markdown",
   "id": "43ab659f",
   "metadata": {
    "heading_collapsed": true
   },
   "source": [
    "## KNN Regressor"
   ]
  },
  {
   "cell_type": "markdown",
   "id": "5f2a7e7b",
   "metadata": {
    "hidden": true
   },
   "source": [
    "A seguir, será implmentado um KNN Regressor com Grid Search + Cross Validation.\n",
    "\n",
    "O objetivo do Grid Search (uma forma de fine tuning) é encontrar os melhores parâmetros para o modelo, visando uma maior perfomance. \n",
    "- Os possíveis parâmetros serão definidos abaixo, e um modelo será gerado para cada possibilidades de combinação pelo Grid Search.\n",
    "\n",
    "O Cross Validation é um método estatístico que serve para avaliar a performance de modelos, considerando as diferentes possíveis divisões do dataset. \n",
    "- Abaixo, será realizada uma divisão de 5 partes no dataset, e obtido o cálculo do score médio de cada parte."
   ]
  },
  {
   "cell_type": "markdown",
   "id": "358f595f",
   "metadata": {
    "ExecuteTime": {
     "end_time": "2023-03-05T21:01:34.320741Z",
     "start_time": "2023-03-05T21:01:34.309320Z"
    },
    "hidden": true
   },
   "source": [
    "Dado o pequeno número de dados disponíveis, a métrica utilizada para avaliação do melhor modelo será o MAE:\n",
    "- MAE (Erro absoluto médio): É a diferença entre os valores preditos e reais.\n",
    "Atribui peso igual para todos os erros, logo \"dilui o outlier\", reduzindo seu peso. \n",
    "    - Significa: Na estimativa de faturamento dos bairros, o modelo erra em média R$ X,XX. \n",
    "- RMSE (Raiz quadrada do erro médio): Similar ao MAE, mas dá mais peso ao outliers."
   ]
  },
  {
   "cell_type": "code",
   "execution_count": 181,
   "id": "74b37abe",
   "metadata": {
    "ExecuteTime": {
     "end_time": "2023-03-06T23:21:16.952722Z",
     "start_time": "2023-03-06T23:21:15.869925Z"
    },
    "hidden": true
   },
   "outputs": [],
   "source": [
    "knn_grid = {'n_neighbors':[2,3,4,5,6,7,8,9,10,11,12]}\n",
    "#instanciar GridSearchCV com KNNRegressor e treinar o modelo\n",
    "knn_reg = GridSearchCV(KNeighborsRegressor(), knn_grid, cv=5, scoring='neg_mean_absolute_error', #MAE\n",
    "                            return_train_score=True).fit(X1_trainval, y1_trainval)"
   ]
  },
  {
   "cell_type": "markdown",
   "id": "d1ec62ea",
   "metadata": {
    "ExecuteTime": {
     "end_time": "2023-02-11T23:47:55.751376Z",
     "start_time": "2023-02-11T23:47:55.742497Z"
    },
    "hidden": true
   },
   "source": [
    "Analisar os melhores parâmetros do KNN. "
   ]
  },
  {
   "cell_type": "code",
   "execution_count": 182,
   "id": "0f1a7588",
   "metadata": {
    "ExecuteTime": {
     "end_time": "2023-03-06T23:21:16.977244Z",
     "start_time": "2023-03-06T23:21:16.957510Z"
    },
    "hidden": true
   },
   "outputs": [
    {
     "name": "stdout",
     "output_type": "stream",
     "text": [
      "Melhores parâmetros: {'n_neighbors': 2}\n"
     ]
    }
   ],
   "source": [
    "print(f\"Melhores parâmetros: {knn_reg.best_params_}\")"
   ]
  },
  {
   "cell_type": "markdown",
   "id": "efba9038",
   "metadata": {
    "ExecuteTime": {
     "end_time": "2023-03-05T20:47:03.670050Z",
     "start_time": "2023-03-05T20:47:03.662199Z"
    },
    "hidden": true
   },
   "source": [
    "Análise de performance sobre Treino e Validação:"
   ]
  },
  {
   "cell_type": "code",
   "execution_count": 183,
   "id": "39f755f2",
   "metadata": {
    "ExecuteTime": {
     "end_time": "2023-03-06T23:21:18.594930Z",
     "start_time": "2023-03-06T23:21:18.565396Z"
    },
    "hidden": true
   },
   "outputs": [
    {
     "data": {
      "text/html": [
       "<div>\n",
       "<style scoped>\n",
       "    .dataframe tbody tr th:only-of-type {\n",
       "        vertical-align: middle;\n",
       "    }\n",
       "\n",
       "    .dataframe tbody tr th {\n",
       "        vertical-align: top;\n",
       "    }\n",
       "\n",
       "    .dataframe thead th {\n",
       "        text-align: right;\n",
       "    }\n",
       "</style>\n",
       "<table border=\"1\" class=\"dataframe\">\n",
       "  <thead>\n",
       "    <tr style=\"text-align: right;\">\n",
       "      <th></th>\n",
       "      <th>rank_test_score</th>\n",
       "      <th>params</th>\n",
       "      <th>mean_train_score</th>\n",
       "      <th>mean_test_score</th>\n",
       "    </tr>\n",
       "  </thead>\n",
       "  <tbody>\n",
       "    <tr>\n",
       "      <th>0</th>\n",
       "      <td>1</td>\n",
       "      <td>{'n_neighbors': 2}</td>\n",
       "      <td>-41579.9423</td>\n",
       "      <td>-73423.4488</td>\n",
       "    </tr>\n",
       "    <tr>\n",
       "      <th>1</th>\n",
       "      <td>2</td>\n",
       "      <td>{'n_neighbors': 3}</td>\n",
       "      <td>-52534.1292</td>\n",
       "      <td>-74712.0003</td>\n",
       "    </tr>\n",
       "    <tr>\n",
       "      <th>2</th>\n",
       "      <td>3</td>\n",
       "      <td>{'n_neighbors': 4}</td>\n",
       "      <td>-58027.6378</td>\n",
       "      <td>-81076.3062</td>\n",
       "    </tr>\n",
       "    <tr>\n",
       "      <th>3</th>\n",
       "      <td>4</td>\n",
       "      <td>{'n_neighbors': 5}</td>\n",
       "      <td>-67246.6447</td>\n",
       "      <td>-84373.9878</td>\n",
       "    </tr>\n",
       "    <tr>\n",
       "      <th>4</th>\n",
       "      <td>5</td>\n",
       "      <td>{'n_neighbors': 6}</td>\n",
       "      <td>-72474.9062</td>\n",
       "      <td>-92972.9324</td>\n",
       "    </tr>\n",
       "    <tr>\n",
       "      <th>5</th>\n",
       "      <td>6</td>\n",
       "      <td>{'n_neighbors': 7}</td>\n",
       "      <td>-81603.3660</td>\n",
       "      <td>-99272.3818</td>\n",
       "    </tr>\n",
       "    <tr>\n",
       "      <th>6</th>\n",
       "      <td>7</td>\n",
       "      <td>{'n_neighbors': 8}</td>\n",
       "      <td>-87486.9682</td>\n",
       "      <td>-107750.0150</td>\n",
       "    </tr>\n",
       "    <tr>\n",
       "      <th>7</th>\n",
       "      <td>8</td>\n",
       "      <td>{'n_neighbors': 9}</td>\n",
       "      <td>-94885.1870</td>\n",
       "      <td>-112950.8689</td>\n",
       "    </tr>\n",
       "  </tbody>\n",
       "</table>\n",
       "</div>"
      ],
      "text/plain": [
       "   rank_test_score              params  mean_train_score  mean_test_score\n",
       "0                1  {'n_neighbors': 2}       -41579.9423      -73423.4488\n",
       "1                2  {'n_neighbors': 3}       -52534.1292      -74712.0003\n",
       "2                3  {'n_neighbors': 4}       -58027.6378      -81076.3062\n",
       "3                4  {'n_neighbors': 5}       -67246.6447      -84373.9878\n",
       "4                5  {'n_neighbors': 6}       -72474.9062      -92972.9324\n",
       "5                6  {'n_neighbors': 7}       -81603.3660      -99272.3818\n",
       "6                7  {'n_neighbors': 8}       -87486.9682     -107750.0150\n",
       "7                8  {'n_neighbors': 9}       -94885.1870     -112950.8689"
      ]
     },
     "execution_count": 183,
     "metadata": {},
     "output_type": "execute_result"
    }
   ],
   "source": [
    "df_knn_rank = pd.DataFrame(knn_reg.cv_results_)[['rank_test_score','params','mean_train_score','rank_test_score']].sort_values('rank_test_score')[:8]\n",
    "df_knn_rank"
   ]
  },
  {
   "cell_type": "markdown",
   "id": "7acbd95b",
   "metadata": {
    "hidden": true
   },
   "source": [
    "Pela diferença entre train e val, percebe-se que houve overfitting.\n",
    "\n",
    "Ao aumentar o número de K do KNN, o modelo fica mais simples, tendendo a overfitar menos.\n",
    "\n",
    "Dado que isto não aconteceu, ao que tudo indica, a pouca quantidade de dados é o motivo do overfitting."
   ]
  },
  {
   "cell_type": "markdown",
   "id": "22d8d446",
   "metadata": {
    "hidden": true
   },
   "source": [
    "Cria dataframe de Scores e inclui o do KNN."
   ]
  },
  {
   "cell_type": "code",
   "execution_count": 192,
   "id": "b5e94bb0",
   "metadata": {
    "ExecuteTime": {
     "end_time": "2023-03-06T23:27:58.838255Z",
     "start_time": "2023-03-06T23:27:58.820339Z"
    },
    "hidden": true
   },
   "outputs": [
    {
     "data": {
      "text/html": [
       "<div>\n",
       "<style scoped>\n",
       "    .dataframe tbody tr th:only-of-type {\n",
       "        vertical-align: middle;\n",
       "    }\n",
       "\n",
       "    .dataframe tbody tr th {\n",
       "        vertical-align: top;\n",
       "    }\n",
       "\n",
       "    .dataframe thead th {\n",
       "        text-align: right;\n",
       "    }\n",
       "</style>\n",
       "<table border=\"1\" class=\"dataframe\">\n",
       "  <thead>\n",
       "    <tr style=\"text-align: right;\">\n",
       "      <th></th>\n",
       "      <th>model_name</th>\n",
       "      <th>MAE</th>\n",
       "    </tr>\n",
       "  </thead>\n",
       "  <tbody>\n",
       "    <tr>\n",
       "      <th>0</th>\n",
       "      <td>knn_reg</td>\n",
       "      <td>-73423.4488</td>\n",
       "    </tr>\n",
       "  </tbody>\n",
       "</table>\n",
       "</div>"
      ],
      "text/plain": [
       "  model_name         MAE\n",
       "0    knn_reg -73423.4488"
      ]
     },
     "execution_count": 192,
     "metadata": {},
     "output_type": "execute_result"
    }
   ],
   "source": [
    "df_scores = pd.DataFrame(columns=['model_name','MAE'])\n",
    "df_scores.loc[len(df_scores)] = ['knn_reg', df_knn_rank.loc[df_knn_rank.rank_test_score == 1,'mean_test_score'][0]]\n",
    "df_scores"
   ]
  },
  {
   "cell_type": "markdown",
   "id": "a08e11f3",
   "metadata": {
    "heading_collapsed": true
   },
   "source": [
    "## Regressão Linear - Lasso"
   ]
  },
  {
   "cell_type": "markdown",
   "id": "0a9be58d",
   "metadata": {
    "hidden": true
   },
   "source": [
    "Será avaliado na sequência um modelo de regressão linear chamado Lasso.\n",
    "- Como o dataset tem poucos registros, é imporante regularizar o modelo: reduzir sua complexidade, para evitar overfitting.\n",
    "- Ele foi escolhido pois assume-se que só algumas features são importantes, logo cabe o uso da regularização L1 (implementada pelo Lasso). O Lasso ignora totalmente algumas features, revelando as mais importantes.\n",
    "- Serão utilizados os parâmetros:\n",
    "    - \"alpha\": controla a força com que os coeficientes são empurrados para zero. Aumentando, reduz-se o overfitting.\n",
    "    - \"max_iter\": número máximo de iterações a serem executadas, precisa ser aumentado ao aumentar o alpha."
   ]
  },
  {
   "cell_type": "code",
   "execution_count": 187,
   "id": "f9405ac5",
   "metadata": {
    "ExecuteTime": {
     "end_time": "2023-03-06T23:25:20.392552Z",
     "start_time": "2023-03-06T23:25:20.088287Z"
    },
    "hidden": true
   },
   "outputs": [],
   "source": [
    "lasso_grid = {'alpha':[10, 100, 1000, 10000, 100000], 'max_iter':[100000]}\n",
    "#instanciar GridSearchCV com Lasso e treinar o modelo\n",
    "lasso_reg = GridSearchCV(Lasso(random_state=0), lasso_grid, cv=5, scoring='neg_mean_absolute_error', #MAE\n",
    "                            return_train_score=True).fit(X1_trainval, y1_trainval)"
   ]
  },
  {
   "cell_type": "markdown",
   "id": "ad1c3ce1",
   "metadata": {
    "ExecuteTime": {
     "end_time": "2023-02-11T23:47:55.751376Z",
     "start_time": "2023-02-11T23:47:55.742497Z"
    },
    "hidden": true
   },
   "source": [
    "Analisar os melhores parâmetros do Lasso. "
   ]
  },
  {
   "cell_type": "code",
   "execution_count": 188,
   "id": "e84ccfaa",
   "metadata": {
    "ExecuteTime": {
     "end_time": "2023-03-06T23:25:21.120091Z",
     "start_time": "2023-03-06T23:25:21.112992Z"
    },
    "hidden": true
   },
   "outputs": [
    {
     "name": "stdout",
     "output_type": "stream",
     "text": [
      "Melhores parâmetros: {'alpha': 1000, 'max_iter': 100000}\n"
     ]
    }
   ],
   "source": [
    "print(f\"Melhores parâmetros: {lasso_reg.best_params_}\")"
   ]
  },
  {
   "cell_type": "markdown",
   "id": "4b83b803",
   "metadata": {
    "ExecuteTime": {
     "end_time": "2023-03-05T20:47:03.670050Z",
     "start_time": "2023-03-05T20:47:03.662199Z"
    },
    "hidden": true
   },
   "source": [
    "Análise de performance sobre Treino e Validação:"
   ]
  },
  {
   "cell_type": "code",
   "execution_count": 197,
   "id": "b478eaad",
   "metadata": {
    "ExecuteTime": {
     "end_time": "2023-03-06T23:29:23.348207Z",
     "start_time": "2023-03-06T23:29:23.323320Z"
    },
    "hidden": true
   },
   "outputs": [
    {
     "data": {
      "text/html": [
       "<div>\n",
       "<style scoped>\n",
       "    .dataframe tbody tr th:only-of-type {\n",
       "        vertical-align: middle;\n",
       "    }\n",
       "\n",
       "    .dataframe tbody tr th {\n",
       "        vertical-align: top;\n",
       "    }\n",
       "\n",
       "    .dataframe thead th {\n",
       "        text-align: right;\n",
       "    }\n",
       "</style>\n",
       "<table border=\"1\" class=\"dataframe\">\n",
       "  <thead>\n",
       "    <tr style=\"text-align: right;\">\n",
       "      <th></th>\n",
       "      <th>rank_test_score</th>\n",
       "      <th>params</th>\n",
       "      <th>mean_train_score</th>\n",
       "      <th>mean_test_score</th>\n",
       "    </tr>\n",
       "  </thead>\n",
       "  <tbody>\n",
       "    <tr>\n",
       "      <th>2</th>\n",
       "      <td>1</td>\n",
       "      <td>{'alpha': 1000, 'max_iter': 100000}</td>\n",
       "      <td>-73641.2063</td>\n",
       "      <td>-93060.1781</td>\n",
       "    </tr>\n",
       "    <tr>\n",
       "      <th>1</th>\n",
       "      <td>2</td>\n",
       "      <td>{'alpha': 100, 'max_iter': 100000}</td>\n",
       "      <td>-69039.3950</td>\n",
       "      <td>-113596.7019</td>\n",
       "    </tr>\n",
       "    <tr>\n",
       "      <th>0</th>\n",
       "      <td>3</td>\n",
       "      <td>{'alpha': 10, 'max_iter': 100000}</td>\n",
       "      <td>-68733.9063</td>\n",
       "      <td>-121198.5077</td>\n",
       "    </tr>\n",
       "    <tr>\n",
       "      <th>3</th>\n",
       "      <td>4</td>\n",
       "      <td>{'alpha': 10000, 'max_iter': 100000}</td>\n",
       "      <td>-120803.4771</td>\n",
       "      <td>-131227.5883</td>\n",
       "    </tr>\n",
       "    <tr>\n",
       "      <th>4</th>\n",
       "      <td>5</td>\n",
       "      <td>{'alpha': 100000, 'max_iter': 100000}</td>\n",
       "      <td>-295615.0098</td>\n",
       "      <td>-296940.4055</td>\n",
       "    </tr>\n",
       "  </tbody>\n",
       "</table>\n",
       "</div>"
      ],
      "text/plain": [
       "   rank_test_score                                 params  mean_train_score  mean_test_score\n",
       "2                1    {'alpha': 1000, 'max_iter': 100000}       -73641.2063      -93060.1781\n",
       "1                2     {'alpha': 100, 'max_iter': 100000}       -69039.3950     -113596.7019\n",
       "0                3      {'alpha': 10, 'max_iter': 100000}       -68733.9063     -121198.5077\n",
       "3                4   {'alpha': 10000, 'max_iter': 100000}      -120803.4771     -131227.5883\n",
       "4                5  {'alpha': 100000, 'max_iter': 100000}      -295615.0098     -296940.4055"
      ]
     },
     "execution_count": 197,
     "metadata": {},
     "output_type": "execute_result"
    }
   ],
   "source": [
    "df_lasso_rank = pd.DataFrame(lasso_reg.cv_results_)[['rank_test_score','params','mean_train_score','mean_test_score']].sort_values('rank_test_score')[:8]\n",
    "df_lasso_rank"
   ]
  },
  {
   "cell_type": "markdown",
   "id": "b325a81a",
   "metadata": {
    "ExecuteTime": {
     "end_time": "2023-02-12T00:49:44.637290Z",
     "start_time": "2023-02-12T00:49:44.632129Z"
    },
    "hidden": true
   },
   "source": [
    "Novamente o modelo overfitou, e mesmo tunando os hiperparâmetros, mais uma vez não foi possível resolver isto. \n",
    "\n",
    "Ao que tudo indica, novamente isto se deve pela pequena quantidade de registros. "
   ]
  },
  {
   "cell_type": "markdown",
   "id": "7a402f69",
   "metadata": {
    "hidden": true
   },
   "source": [
    "Salvar o score do Lasso."
   ]
  },
  {
   "cell_type": "code",
   "execution_count": 199,
   "id": "a09422af",
   "metadata": {
    "ExecuteTime": {
     "end_time": "2023-03-06T23:29:45.302825Z",
     "start_time": "2023-03-06T23:29:45.287441Z"
    },
    "hidden": true
   },
   "outputs": [
    {
     "data": {
      "text/html": [
       "<div>\n",
       "<style scoped>\n",
       "    .dataframe tbody tr th:only-of-type {\n",
       "        vertical-align: middle;\n",
       "    }\n",
       "\n",
       "    .dataframe tbody tr th {\n",
       "        vertical-align: top;\n",
       "    }\n",
       "\n",
       "    .dataframe thead th {\n",
       "        text-align: right;\n",
       "    }\n",
       "</style>\n",
       "<table border=\"1\" class=\"dataframe\">\n",
       "  <thead>\n",
       "    <tr style=\"text-align: right;\">\n",
       "      <th></th>\n",
       "      <th>model_name</th>\n",
       "      <th>MAE</th>\n",
       "    </tr>\n",
       "  </thead>\n",
       "  <tbody>\n",
       "    <tr>\n",
       "      <th>0</th>\n",
       "      <td>knn_reg</td>\n",
       "      <td>-73423.4488</td>\n",
       "    </tr>\n",
       "    <tr>\n",
       "      <th>1</th>\n",
       "      <td>lasso_reg</td>\n",
       "      <td>-93060.1781</td>\n",
       "    </tr>\n",
       "  </tbody>\n",
       "</table>\n",
       "</div>"
      ],
      "text/plain": [
       "  model_name         MAE\n",
       "0    knn_reg -73423.4488\n",
       "1  lasso_reg -93060.1781"
      ]
     },
     "execution_count": 199,
     "metadata": {},
     "output_type": "execute_result"
    }
   ],
   "source": [
    "df_scores.loc[len(df_scores)] = ['lasso_reg',df_lasso_rank.loc[df_lasso_rank.rank_test_score == 1,'mean_test_score'][2]]\n",
    "df_scores"
   ]
  },
  {
   "cell_type": "markdown",
   "id": "3c3a8f5a",
   "metadata": {
    "heading_collapsed": true
   },
   "source": [
    "## XGBoost Regressor"
   ]
  },
  {
   "cell_type": "markdown",
   "id": "1eb499ce",
   "metadata": {
    "hidden": true
   },
   "source": [
    "O XGBoost (Extreme Gradient Boosting) é um ensembles de Decision Trees (árvores de decisão). Ensembles são métodos que combinam múltiplos modelos de machine learning para criar modelos ainda mais poderosos.\n",
    "- Gradient Boostings estão entre os mais poderosos e amplamente utilizados modelos de ML de aprendizagem supervisionada.\n",
    "- A principal vantágem do Gradient Boosting é combinar vários modelos simples (weak learners), como swallow trees (árvores rasas). Cada modelo só provê um bom resultado em parte dos dados, mas adicionando mais árvores, melhora-se a performance geral.\n",
    "- São mais sensíveis a parâmetros que as Random Forests, mas podem prover maior acurácia, se parametrizados adequadamente.\n",
    "- A escolha dos parâmetros e sua tunagem priorizou o controle de overfitting. "
   ]
  },
  {
   "cell_type": "code",
   "execution_count": 289,
   "id": "ae3a5268",
   "metadata": {
    "ExecuteTime": {
     "end_time": "2023-03-06T23:46:47.078837Z",
     "start_time": "2023-03-06T23:46:44.404667Z"
    },
    "hidden": true
   },
   "outputs": [],
   "source": [
    "#posso controlar com 'max_depth':[1], ou com 'min_child_weight':[15]\n",
    "\n",
    "xgb_grid = {'max_depth':[2, 3],  'eta':[0.1, 0.2, 0.3] }\n",
    "        #'n_estimators':[12, 25, 50], 'min_child_weight':[1, 3], 'colsample_bytree':[0.5, 1], 'eta':[0.5, 0.9]\n",
    "#instanciar GridSearchCV com XGBRegressor e treinar o modelo\n",
    "xgb_reg = GridSearchCV(xgb.XGBRegressor(), xgb_grid, cv=5, scoring='neg_mean_absolute_error', #MAE\n",
    "                            return_train_score=True).fit(X1_trainval, y1_trainval)"
   ]
  },
  {
   "cell_type": "markdown",
   "id": "b3065bb0",
   "metadata": {
    "ExecuteTime": {
     "end_time": "2023-02-11T23:47:55.751376Z",
     "start_time": "2023-02-11T23:47:55.742497Z"
    },
    "hidden": true
   },
   "source": [
    "Analisar os melhores parâmetros do XGBoost. "
   ]
  },
  {
   "cell_type": "code",
   "execution_count": 292,
   "id": "7950f3f9",
   "metadata": {
    "ExecuteTime": {
     "end_time": "2023-03-06T23:49:27.977716Z",
     "start_time": "2023-03-06T23:49:27.969079Z"
    },
    "hidden": true
   },
   "outputs": [
    {
     "name": "stdout",
     "output_type": "stream",
     "text": [
      "Melhores parâmetros: {'eta': 0.2, 'max_depth': 3}\n"
     ]
    }
   ],
   "source": [
    "print(f\"Melhores parâmetros: {xgb_reg.best_params_}\")"
   ]
  },
  {
   "cell_type": "markdown",
   "id": "95b01ac9",
   "metadata": {
    "ExecuteTime": {
     "end_time": "2023-03-05T20:47:03.670050Z",
     "start_time": "2023-03-05T20:47:03.662199Z"
    },
    "hidden": true
   },
   "source": [
    "Análise de performance sobre Treino e Validação:"
   ]
  },
  {
   "cell_type": "code",
   "execution_count": 293,
   "id": "f4171140",
   "metadata": {
    "ExecuteTime": {
     "end_time": "2023-03-06T23:49:34.386639Z",
     "start_time": "2023-03-06T23:49:34.366792Z"
    },
    "hidden": true
   },
   "outputs": [
    {
     "data": {
      "text/html": [
       "<div>\n",
       "<style scoped>\n",
       "    .dataframe tbody tr th:only-of-type {\n",
       "        vertical-align: middle;\n",
       "    }\n",
       "\n",
       "    .dataframe tbody tr th {\n",
       "        vertical-align: top;\n",
       "    }\n",
       "\n",
       "    .dataframe thead th {\n",
       "        text-align: right;\n",
       "    }\n",
       "</style>\n",
       "<table border=\"1\" class=\"dataframe\">\n",
       "  <thead>\n",
       "    <tr style=\"text-align: right;\">\n",
       "      <th></th>\n",
       "      <th>rank_test_score</th>\n",
       "      <th>params</th>\n",
       "      <th>mean_train_score</th>\n",
       "      <th>mean_test_score</th>\n",
       "    </tr>\n",
       "  </thead>\n",
       "  <tbody>\n",
       "    <tr>\n",
       "      <th>3</th>\n",
       "      <td>1</td>\n",
       "      <td>{'eta': 0.2, 'max_depth': 3}</td>\n",
       "      <td>-3185.1910</td>\n",
       "      <td>-85509.3828</td>\n",
       "    </tr>\n",
       "    <tr>\n",
       "      <th>2</th>\n",
       "      <td>2</td>\n",
       "      <td>{'eta': 0.2, 'max_depth': 2}</td>\n",
       "      <td>-10765.1343</td>\n",
       "      <td>-86081.4925</td>\n",
       "    </tr>\n",
       "    <tr>\n",
       "      <th>1</th>\n",
       "      <td>3</td>\n",
       "      <td>{'eta': 0.1, 'max_depth': 3}</td>\n",
       "      <td>-12073.3094</td>\n",
       "      <td>-87755.0900</td>\n",
       "    </tr>\n",
       "    <tr>\n",
       "      <th>0</th>\n",
       "      <td>4</td>\n",
       "      <td>{'eta': 0.1, 'max_depth': 2}</td>\n",
       "      <td>-22505.1664</td>\n",
       "      <td>-88335.8710</td>\n",
       "    </tr>\n",
       "    <tr>\n",
       "      <th>5</th>\n",
       "      <td>5</td>\n",
       "      <td>{'eta': 0.3, 'max_depth': 3}</td>\n",
       "      <td>-977.0886</td>\n",
       "      <td>-90344.0457</td>\n",
       "    </tr>\n",
       "    <tr>\n",
       "      <th>4</th>\n",
       "      <td>6</td>\n",
       "      <td>{'eta': 0.3, 'max_depth': 2}</td>\n",
       "      <td>-6149.4659</td>\n",
       "      <td>-92932.5767</td>\n",
       "    </tr>\n",
       "  </tbody>\n",
       "</table>\n",
       "</div>"
      ],
      "text/plain": [
       "   rank_test_score                        params  mean_train_score  mean_test_score\n",
       "3                1  {'eta': 0.2, 'max_depth': 3}        -3185.1910      -85509.3828\n",
       "2                2  {'eta': 0.2, 'max_depth': 2}       -10765.1343      -86081.4925\n",
       "1                3  {'eta': 0.1, 'max_depth': 3}       -12073.3094      -87755.0900\n",
       "0                4  {'eta': 0.1, 'max_depth': 2}       -22505.1664      -88335.8710\n",
       "5                5  {'eta': 0.3, 'max_depth': 3}         -977.0886      -90344.0457\n",
       "4                6  {'eta': 0.3, 'max_depth': 2}        -6149.4659      -92932.5767"
      ]
     },
     "execution_count": 293,
     "metadata": {},
     "output_type": "execute_result"
    }
   ],
   "source": [
    "df_xgb_rank = pd.DataFrame(xgb_reg.cv_results_)[['rank_test_score','params','mean_train_score','mean_test_score']].sort_values('rank_test_score')\n",
    "df_xgb_rank"
   ]
  },
  {
   "cell_type": "markdown",
   "id": "bfd301b8",
   "metadata": {
    "hidden": true
   },
   "source": [
    "Como no cenário anterior, o modelo overfitou mesmo tunando os hiperparâmetros.\n",
    "\n",
    "Ao que tudo indica, novamente isto se deve pela pequena quantidade de registros."
   ]
  },
  {
   "cell_type": "markdown",
   "id": "208c1bcb",
   "metadata": {
    "hidden": true
   },
   "source": [
    "Salvar o score do XGBoost."
   ]
  },
  {
   "cell_type": "code",
   "execution_count": 300,
   "id": "f787c7f4",
   "metadata": {
    "ExecuteTime": {
     "end_time": "2023-03-06T23:56:50.549930Z",
     "start_time": "2023-03-06T23:56:50.534046Z"
    },
    "hidden": true
   },
   "outputs": [
    {
     "data": {
      "text/html": [
       "<div>\n",
       "<style scoped>\n",
       "    .dataframe tbody tr th:only-of-type {\n",
       "        vertical-align: middle;\n",
       "    }\n",
       "\n",
       "    .dataframe tbody tr th {\n",
       "        vertical-align: top;\n",
       "    }\n",
       "\n",
       "    .dataframe thead th {\n",
       "        text-align: right;\n",
       "    }\n",
       "</style>\n",
       "<table border=\"1\" class=\"dataframe\">\n",
       "  <thead>\n",
       "    <tr style=\"text-align: right;\">\n",
       "      <th></th>\n",
       "      <th>model_name</th>\n",
       "      <th>MAE</th>\n",
       "    </tr>\n",
       "  </thead>\n",
       "  <tbody>\n",
       "    <tr>\n",
       "      <th>0</th>\n",
       "      <td>knn_reg</td>\n",
       "      <td>-73423.4488</td>\n",
       "    </tr>\n",
       "    <tr>\n",
       "      <th>2</th>\n",
       "      <td>xgb_reg</td>\n",
       "      <td>-85509.3828</td>\n",
       "    </tr>\n",
       "    <tr>\n",
       "      <th>1</th>\n",
       "      <td>lasso_reg</td>\n",
       "      <td>-93060.1781</td>\n",
       "    </tr>\n",
       "  </tbody>\n",
       "</table>\n",
       "</div>"
      ],
      "text/plain": [
       "  model_name         MAE\n",
       "0    knn_reg -73423.4488\n",
       "2    xgb_reg -85509.3828\n",
       "1  lasso_reg -93060.1781"
      ]
     },
     "execution_count": 300,
     "metadata": {},
     "output_type": "execute_result"
    }
   ],
   "source": [
    "df_scores.loc[len(df_scores)] = ['xgb_reg', df_xgb_rank.loc[df_xgb_rank.rank_test_score == 1,'mean_test_score'][3]]\n",
    "df_scores.sort_values('MAE', ascending=False)"
   ]
  },
  {
   "cell_type": "markdown",
   "id": "ca5c2f3f",
   "metadata": {
    "heading_collapsed": true
   },
   "source": [
    "## Performance dos Modelos"
   ]
  },
  {
   "cell_type": "markdown",
   "id": "aa2f8673",
   "metadata": {
    "hidden": true
   },
   "source": [
    "A tabela abaixo detalha a melhor performance obtida com cada modelo de machine learning, já com fine tuning e cross validation."
   ]
  },
  {
   "cell_type": "code",
   "execution_count": 301,
   "id": "16bb1bbf",
   "metadata": {
    "ExecuteTime": {
     "end_time": "2023-03-06T23:57:01.668773Z",
     "start_time": "2023-03-06T23:57:01.656483Z"
    },
    "hidden": true
   },
   "outputs": [
    {
     "data": {
      "text/html": [
       "<div>\n",
       "<style scoped>\n",
       "    .dataframe tbody tr th:only-of-type {\n",
       "        vertical-align: middle;\n",
       "    }\n",
       "\n",
       "    .dataframe tbody tr th {\n",
       "        vertical-align: top;\n",
       "    }\n",
       "\n",
       "    .dataframe thead th {\n",
       "        text-align: right;\n",
       "    }\n",
       "</style>\n",
       "<table border=\"1\" class=\"dataframe\">\n",
       "  <thead>\n",
       "    <tr style=\"text-align: right;\">\n",
       "      <th></th>\n",
       "      <th>model_name</th>\n",
       "      <th>MAE</th>\n",
       "    </tr>\n",
       "  </thead>\n",
       "  <tbody>\n",
       "    <tr>\n",
       "      <th>0</th>\n",
       "      <td>knn_reg</td>\n",
       "      <td>-73423.4488</td>\n",
       "    </tr>\n",
       "    <tr>\n",
       "      <th>2</th>\n",
       "      <td>xgb_reg</td>\n",
       "      <td>-85509.3828</td>\n",
       "    </tr>\n",
       "    <tr>\n",
       "      <th>1</th>\n",
       "      <td>lasso_reg</td>\n",
       "      <td>-93060.1781</td>\n",
       "    </tr>\n",
       "  </tbody>\n",
       "</table>\n",
       "</div>"
      ],
      "text/plain": [
       "  model_name         MAE\n",
       "0    knn_reg -73423.4488\n",
       "2    xgb_reg -85509.3828\n",
       "1  lasso_reg -93060.1781"
      ]
     },
     "execution_count": 301,
     "metadata": {},
     "output_type": "execute_result"
    }
   ],
   "source": [
    "df_scores.sort_values('MAE', ascending=False)"
   ]
  },
  {
   "cell_type": "markdown",
   "id": "f90c0d34",
   "metadata": {
    "hidden": true
   },
   "source": [
    "O menor erro MAE foi obitodo com o KNN, e ele será utilizado para a sequência da análise."
   ]
  },
  {
   "cell_type": "markdown",
   "id": "947dddb9",
   "metadata": {
    "heading_collapsed": true
   },
   "source": [
    "## Performance de Generalização"
   ]
  },
  {
   "cell_type": "markdown",
   "id": "b92093a8",
   "metadata": {
    "hidden": true
   },
   "source": [
    "Agora, diferente do realizado até aqui, o modelo irá fazer a predição em cima dos dados de teste.\n",
    "\n",
    "Desta forma, será possível avaliar a sua capacidade de generalização (prever dados inéditos), simulando dados de produção (SP). \n",
    "\n",
    "Os modelo utilizado será o de menor erro MAE nos dados de validação, e com os melhores parâmetros já identificados com cross validation.\n",
    "\n",
    "Dado que o GridSearchCV já retreina um modelo usando os melhores parâmetros encontrados no dataset todo (treino + validação), ele será utilizado para avaliar os dados de teste."
   ]
  },
  {
   "cell_type": "code",
   "execution_count": 305,
   "id": "d3c1a429",
   "metadata": {
    "ExecuteTime": {
     "end_time": "2023-03-07T00:12:27.661945Z",
     "start_time": "2023-03-07T00:12:27.647553Z"
    },
    "hidden": true
   },
   "outputs": [
    {
     "data": {
      "text/plain": [
       "-44931.546875"
      ]
     },
     "execution_count": 305,
     "metadata": {},
     "output_type": "execute_result"
    }
   ],
   "source": [
    "knn_score_final = knn_reg.score(X1_test, y1_test)\n",
    "knn_score_final"
   ]
  },
  {
   "cell_type": "markdown",
   "id": "65aa4cfe",
   "metadata": {
    "hidden": true
   },
   "source": [
    "O modelo teve um MAE consideravalmente menor no treino, com relação a validação.\n",
    "\n",
    "Houve grande diferença entre os dados de treino e validação, bem como grande diferença entre os dados de validação do melhor modelo e de teste.\n",
    "\n",
    "Tudo isso indica que a abordagem mais adequada para a solução deste problema é a bayesiana, ao invés da frequentista."
   ]
  },
  {
   "cell_type": "markdown",
   "id": "7df8e2e4",
   "metadata": {},
   "source": [
    "## Previsão Faturamento SP"
   ]
  },
  {
   "cell_type": "markdown",
   "id": "c1cd76d6",
   "metadata": {
    "heading_collapsed": true
   },
   "source": [
    "### Carregar dados de produção"
   ]
  },
  {
   "cell_type": "code",
   "execution_count": null,
   "id": "0a48ff7f",
   "metadata": {
    "hidden": true
   },
   "outputs": [],
   "source": [
    "Carregar dados de SP (produção)."
   ]
  },
  {
   "cell_type": "code",
   "execution_count": 339,
   "id": "dce648ef",
   "metadata": {
    "ExecuteTime": {
     "end_time": "2023-03-07T16:06:41.607622Z",
     "start_time": "2023-03-07T16:06:41.570141Z"
    },
    "hidden": true
   },
   "outputs": [
    {
     "name": "stdout",
     "output_type": "stream",
     "text": [
      "(296, 12)\n"
     ]
    },
    {
     "data": {
      "text/html": [
       "<div>\n",
       "<style scoped>\n",
       "    .dataframe tbody tr th:only-of-type {\n",
       "        vertical-align: middle;\n",
       "    }\n",
       "\n",
       "    .dataframe tbody tr th {\n",
       "        vertical-align: top;\n",
       "    }\n",
       "\n",
       "    .dataframe thead th {\n",
       "        text-align: right;\n",
       "    }\n",
       "</style>\n",
       "<table border=\"1\" class=\"dataframe\">\n",
       "  <thead>\n",
       "    <tr style=\"text-align: right;\">\n",
       "      <th></th>\n",
       "      <th>codigo</th>\n",
       "      <th>bairro</th>\n",
       "      <th>cidade</th>\n",
       "      <th>estado</th>\n",
       "      <th>populacao</th>\n",
       "      <th>pop_ate9</th>\n",
       "      <th>pop_de10a14</th>\n",
       "      <th>pop_de15a19</th>\n",
       "      <th>pop_de20a24</th>\n",
       "      <th>pop_de25a34</th>\n",
       "      <th>pop_de35a49</th>\n",
       "      <th>pop_de50a59</th>\n",
       "      <th>pop_mais_de60</th>\n",
       "      <th>domicilios_a1</th>\n",
       "      <th>domicilios_a2</th>\n",
       "      <th>domicilios_b1</th>\n",
       "      <th>domicilios_b2</th>\n",
       "      <th>domicilios_c1</th>\n",
       "      <th>domicilios_c2</th>\n",
       "      <th>domicilios_d</th>\n",
       "      <th>domicilios_e</th>\n",
       "      <th>renda_media</th>\n",
       "      <th>faturamento</th>\n",
       "      <th>potencial</th>\n",
       "    </tr>\n",
       "  </thead>\n",
       "  <tbody>\n",
       "    <tr>\n",
       "      <th>160</th>\n",
       "      <td>355030251</td>\n",
       "      <td>A. E. Carvalho</td>\n",
       "      <td>São Paulo</td>\n",
       "      <td>SP</td>\n",
       "      <td>94034</td>\n",
       "      <td>12668</td>\n",
       "      <td>6853</td>\n",
       "      <td>9836</td>\n",
       "      <td>7487</td>\n",
       "      <td>14535</td>\n",
       "      <td>21549</td>\n",
       "      <td>10598</td>\n",
       "      <td>10508</td>\n",
       "      <td>0</td>\n",
       "      <td>253</td>\n",
       "      <td>2197</td>\n",
       "      <td>4368</td>\n",
       "      <td>6681</td>\n",
       "      <td>7011</td>\n",
       "      <td>2247</td>\n",
       "      <td>5670</td>\n",
       "      <td>1501</td>\n",
       "      <td>NaN</td>\n",
       "      <td>NaN</td>\n",
       "    </tr>\n",
       "  </tbody>\n",
       "</table>\n",
       "</div>"
      ],
      "text/plain": [
       "        codigo          bairro     cidade estado  populacao  pop_ate9  pop_de10a14  pop_de15a19  pop_de20a24  pop_de25a34  pop_de35a49  pop_de50a59  pop_mais_de60  domicilios_a1  domicilios_a2  domicilios_b1  domicilios_b2  domicilios_c1  domicilios_c2  domicilios_d  domicilios_e renda_media  faturamento  potencial\n",
       "160  355030251  A. E. Carvalho  São Paulo     SP      94034     12668         6853         9836         7487        14535        21549        10598          10508              0            253           2197           4368           6681           7011          2247          5670        1501          NaN        NaN"
      ]
     },
     "execution_count": 339,
     "metadata": {},
     "output_type": "execute_result"
    }
   ],
   "source": [
    "df_sp_raw = pd.read_csv('../data/interim/df_sp_raw.csv', index_col=0)\n",
    "X1_prod = df_sp_raw.copy()\n",
    "print(X_prod.shape)\n",
    "X1_prod.head(1)"
   ]
  },
  {
   "cell_type": "markdown",
   "id": "110d0c9b",
   "metadata": {},
   "source": [
    "### Aplicar transformações"
   ]
  },
  {
   "cell_type": "markdown",
   "id": "3fff89e6",
   "metadata": {},
   "source": [
    "Avaliar NAs e outros caracteres em X1_prod, para aplicar as mesmas transformações já aplicadas em X1_trainval e X1_test"
   ]
  },
  {
   "cell_type": "code",
   "execution_count": 343,
   "id": "f4dbc089",
   "metadata": {
    "ExecuteTime": {
     "end_time": "2023-03-07T16:10:37.171986Z",
     "start_time": "2023-03-07T16:10:37.158125Z"
    }
   },
   "outputs": [
    {
     "data": {
      "text/plain": [
       "codigo             0\n",
       "bairro             0\n",
       "cidade             0\n",
       "estado             0\n",
       "populacao          0\n",
       "pop_ate9           0\n",
       "pop_de10a14        0\n",
       "pop_de15a19        0\n",
       "pop_de20a24        0\n",
       "pop_de25a34        0\n",
       "pop_de35a49        0\n",
       "pop_de50a59        0\n",
       "pop_mais_de60      0\n",
       "domicilios_a1      0\n",
       "domicilios_a2      0\n",
       "domicilios_b1      0\n",
       "domicilios_b2      0\n",
       "domicilios_c1      0\n",
       "domicilios_c2      0\n",
       "domicilios_d       0\n",
       "domicilios_e       0\n",
       "renda_media        0\n",
       "faturamento      296\n",
       "potencial        296\n",
       "dtype: int64"
      ]
     },
     "execution_count": 343,
     "metadata": {},
     "output_type": "execute_result"
    }
   ],
   "source": [
    "X1_prod.isna().sum()"
   ]
  },
  {
   "cell_type": "markdown",
   "id": "8545aa43",
   "metadata": {},
   "source": [
    "Preencher com zero os 3 registros com '-' em renda_media."
   ]
  },
  {
   "cell_type": "code",
   "execution_count": 341,
   "id": "15c65a50",
   "metadata": {
    "ExecuteTime": {
     "end_time": "2023-03-07T16:08:11.588601Z",
     "start_time": "2023-03-07T16:08:11.576804Z"
    }
   },
   "outputs": [
    {
     "data": {
      "text/plain": [
       "232    -\n",
       "361    -\n",
       "376    -\n",
       "Name: renda_media, dtype: object"
      ]
     },
     "execution_count": 341,
     "metadata": {},
     "output_type": "execute_result"
    }
   ],
   "source": [
    "X1_prod.loc[~X1_prod.renda_media.str.isnumeric(), 'renda_media']"
   ]
  },
  {
   "cell_type": "code",
   "execution_count": 342,
   "id": "7d5aad86",
   "metadata": {
    "ExecuteTime": {
     "end_time": "2023-03-07T16:08:24.873106Z",
     "start_time": "2023-03-07T16:08:24.862758Z"
    }
   },
   "outputs": [],
   "source": [
    "X1_prod.loc[~X1_prod.renda_media.str.isnumeric(), 'renda_media'] = 0"
   ]
  },
  {
   "cell_type": "markdown",
   "id": "7ddc75f1",
   "metadata": {},
   "source": [
    "Aplicar as mesmas transformações nos dados do df_rj para df_sp."
   ]
  },
  {
   "cell_type": "markdown",
   "id": "cb66fa50",
   "metadata": {},
   "source": [
    "Derivar features."
   ]
  },
  {
   "cell_type": "code",
   "execution_count": 344,
   "id": "9adf821b",
   "metadata": {
    "ExecuteTime": {
     "end_time": "2023-03-07T16:11:01.402590Z",
     "start_time": "2023-03-07T16:11:01.393535Z"
    }
   },
   "outputs": [],
   "source": [
    "X1_prod[\"pop_alvo\"] = X1_prod[\"pop_de25a34\"] + X1_prod[\"pop_de35a49\"]\n",
    "X1_prod[\"domicilios_alvo\"] = X1_prod[\"domicilios_a1\"] + X1_prod[\"domicilios_a2\"] + X1_prod[\"domicilios_b1\"] + X1_prod[\"domicilios_b2\"]"
   ]
  },
  {
   "cell_type": "markdown",
   "id": "d15decfd",
   "metadata": {},
   "source": [
    "Aplicar a reescala no dataset de produção."
   ]
  },
  {
   "cell_type": "code",
   "execution_count": 348,
   "id": "ff4625a6",
   "metadata": {
    "ExecuteTime": {
     "end_time": "2023-03-07T16:12:32.581673Z",
     "start_time": "2023-03-07T16:12:32.544388Z"
    }
   },
   "outputs": [
    {
     "data": {
      "text/html": [
       "<div>\n",
       "<style scoped>\n",
       "    .dataframe tbody tr th:only-of-type {\n",
       "        vertical-align: middle;\n",
       "    }\n",
       "\n",
       "    .dataframe tbody tr th {\n",
       "        vertical-align: top;\n",
       "    }\n",
       "\n",
       "    .dataframe thead th {\n",
       "        text-align: right;\n",
       "    }\n",
       "</style>\n",
       "<table border=\"1\" class=\"dataframe\">\n",
       "  <thead>\n",
       "    <tr style=\"text-align: right;\">\n",
       "      <th></th>\n",
       "      <th>codigo</th>\n",
       "      <th>bairro</th>\n",
       "      <th>cidade</th>\n",
       "      <th>estado</th>\n",
       "      <th>populacao</th>\n",
       "      <th>pop_ate9</th>\n",
       "      <th>pop_de10a14</th>\n",
       "      <th>pop_de15a19</th>\n",
       "      <th>pop_de20a24</th>\n",
       "      <th>pop_de25a34</th>\n",
       "      <th>pop_de35a49</th>\n",
       "      <th>pop_de50a59</th>\n",
       "      <th>pop_mais_de60</th>\n",
       "      <th>domicilios_a1</th>\n",
       "      <th>domicilios_a2</th>\n",
       "      <th>domicilios_b1</th>\n",
       "      <th>domicilios_b2</th>\n",
       "      <th>domicilios_c1</th>\n",
       "      <th>domicilios_c2</th>\n",
       "      <th>domicilios_d</th>\n",
       "      <th>domicilios_e</th>\n",
       "      <th>renda_media</th>\n",
       "      <th>faturamento</th>\n",
       "      <th>potencial</th>\n",
       "      <th>pop_alvo</th>\n",
       "      <th>domicilios_alvo</th>\n",
       "    </tr>\n",
       "  </thead>\n",
       "  <tbody>\n",
       "    <tr>\n",
       "      <th>160</th>\n",
       "      <td>355030251</td>\n",
       "      <td>A. E. Carvalho</td>\n",
       "      <td>São Paulo</td>\n",
       "      <td>SP</td>\n",
       "      <td>0.1406</td>\n",
       "      <td>0.1031</td>\n",
       "      <td>0.1223</td>\n",
       "      <td>0.1575</td>\n",
       "      <td>0.1234</td>\n",
       "      <td>0.1685</td>\n",
       "      <td>0.2043</td>\n",
       "      <td>0.1271</td>\n",
       "      <td>0.1148</td>\n",
       "      <td>0.0000</td>\n",
       "      <td>0.0217</td>\n",
       "      <td>0.1135</td>\n",
       "      <td>0.2057</td>\n",
       "      <td>0.2017</td>\n",
       "      <td>0.2719</td>\n",
       "      <td>0.4534</td>\n",
       "      <td>0.3822</td>\n",
       "      <td>0.0134</td>\n",
       "      <td>NaN</td>\n",
       "      <td>NaN</td>\n",
       "      <td>0.1882</td>\n",
       "      <td>0.1436</td>\n",
       "    </tr>\n",
       "  </tbody>\n",
       "</table>\n",
       "</div>"
      ],
      "text/plain": [
       "        codigo          bairro     cidade estado  populacao  pop_ate9  pop_de10a14  pop_de15a19  pop_de20a24  pop_de25a34  pop_de35a49  pop_de50a59  pop_mais_de60  domicilios_a1  domicilios_a2  domicilios_b1  domicilios_b2  domicilios_c1  domicilios_c2  domicilios_d  domicilios_e  renda_media  faturamento  potencial  pop_alvo  domicilios_alvo\n",
       "160  355030251  A. E. Carvalho  São Paulo     SP     0.1406    0.1031       0.1223       0.1575       0.1234       0.1685       0.2043       0.1271         0.1148         0.0000         0.0217         0.1135         0.2057         0.2017         0.2719        0.4534        0.3822       0.0134          NaN        NaN    0.1882           0.1436"
      ]
     },
     "execution_count": 348,
     "metadata": {},
     "output_type": "execute_result"
    }
   ],
   "source": [
    "X1_prod[features_scaling] = scaler1.transform(X1_prod[features_scaling])\n",
    "X1_prod.head(1)"
   ]
  },
  {
   "cell_type": "code",
   "execution_count": 350,
   "id": "a55ff038",
   "metadata": {
    "ExecuteTime": {
     "end_time": "2023-03-07T16:15:46.505057Z",
     "start_time": "2023-03-07T16:15:46.484714Z"
    }
   },
   "outputs": [
    {
     "data": {
      "text/html": [
       "<div>\n",
       "<style scoped>\n",
       "    .dataframe tbody tr th:only-of-type {\n",
       "        vertical-align: middle;\n",
       "    }\n",
       "\n",
       "    .dataframe tbody tr th {\n",
       "        vertical-align: top;\n",
       "    }\n",
       "\n",
       "    .dataframe thead th {\n",
       "        text-align: right;\n",
       "    }\n",
       "</style>\n",
       "<table border=\"1\" class=\"dataframe\">\n",
       "  <thead>\n",
       "    <tr style=\"text-align: right;\">\n",
       "      <th></th>\n",
       "      <th>pop_ate9</th>\n",
       "      <th>pop_de10a14</th>\n",
       "      <th>pop_de15a19</th>\n",
       "      <th>pop_de20a24</th>\n",
       "      <th>domicilios_a1</th>\n",
       "      <th>domicilios_a2</th>\n",
       "      <th>domicilios_b1</th>\n",
       "      <th>domicilios_b2</th>\n",
       "      <th>domicilios_c2</th>\n",
       "      <th>domicilios_d</th>\n",
       "      <th>domicilios_e</th>\n",
       "      <th>renda_media</th>\n",
       "    </tr>\n",
       "  </thead>\n",
       "  <tbody>\n",
       "    <tr>\n",
       "      <th>110</th>\n",
       "      <td>0.0121</td>\n",
       "      <td>0.0122</td>\n",
       "      <td>0.0148</td>\n",
       "      <td>0.0146</td>\n",
       "      <td>0.0000</td>\n",
       "      <td>0.0080</td>\n",
       "      <td>0.0171</td>\n",
       "      <td>0.0266</td>\n",
       "      <td>0.0406</td>\n",
       "      <td>0.0373</td>\n",
       "      <td>0.0577</td>\n",
       "      <td>0.0164</td>\n",
       "    </tr>\n",
       "  </tbody>\n",
       "</table>\n",
       "</div>"
      ],
      "text/plain": [
       "     pop_ate9  pop_de10a14  pop_de15a19  pop_de20a24  domicilios_a1  domicilios_a2  domicilios_b1  domicilios_b2  domicilios_c2  domicilios_d  domicilios_e  renda_media\n",
       "110    0.0121       0.0122       0.0148       0.0146         0.0000         0.0080         0.0171         0.0266         0.0406        0.0373        0.0577       0.0164"
      ]
     },
     "execution_count": 350,
     "metadata": {},
     "output_type": "execute_result"
    }
   ],
   "source": [
    "X1_test.head(1)"
   ]
  },
  {
   "cell_type": "markdown",
   "id": "50435fab",
   "metadata": {},
   "source": [
    "Manter mesmas features de X1_trainval"
   ]
  },
  {
   "cell_type": "code",
   "execution_count": 352,
   "id": "39dcf0bf",
   "metadata": {
    "ExecuteTime": {
     "end_time": "2023-03-07T16:16:47.332135Z",
     "start_time": "2023-03-07T16:16:47.323201Z"
    }
   },
   "outputs": [
    {
     "data": {
      "text/plain": [
       "Index(['pop_ate9', 'pop_de10a14', 'pop_de15a19', 'pop_de20a24',\n",
       "       'domicilios_a1', 'domicilios_a2', 'domicilios_b1', 'domicilios_b2',\n",
       "       'domicilios_c2', 'domicilios_d', 'domicilios_e', 'renda_media'],\n",
       "      dtype='object')"
      ]
     },
     "execution_count": 352,
     "metadata": {},
     "output_type": "execute_result"
    }
   ],
   "source": [
    "X1_trainval.columns"
   ]
  },
  {
   "cell_type": "code",
   "execution_count": 354,
   "id": "9b0df420",
   "metadata": {
    "ExecuteTime": {
     "end_time": "2023-03-07T16:17:59.744365Z",
     "start_time": "2023-03-07T16:17:59.718681Z"
    }
   },
   "outputs": [
    {
     "data": {
      "text/html": [
       "<div>\n",
       "<style scoped>\n",
       "    .dataframe tbody tr th:only-of-type {\n",
       "        vertical-align: middle;\n",
       "    }\n",
       "\n",
       "    .dataframe tbody tr th {\n",
       "        vertical-align: top;\n",
       "    }\n",
       "\n",
       "    .dataframe thead th {\n",
       "        text-align: right;\n",
       "    }\n",
       "</style>\n",
       "<table border=\"1\" class=\"dataframe\">\n",
       "  <thead>\n",
       "    <tr style=\"text-align: right;\">\n",
       "      <th></th>\n",
       "      <th>pop_ate9</th>\n",
       "      <th>pop_de10a14</th>\n",
       "      <th>pop_de15a19</th>\n",
       "      <th>pop_de20a24</th>\n",
       "      <th>domicilios_a1</th>\n",
       "      <th>domicilios_a2</th>\n",
       "      <th>domicilios_b1</th>\n",
       "      <th>domicilios_b2</th>\n",
       "      <th>domicilios_c2</th>\n",
       "      <th>domicilios_d</th>\n",
       "      <th>domicilios_e</th>\n",
       "      <th>renda_media</th>\n",
       "    </tr>\n",
       "  </thead>\n",
       "  <tbody>\n",
       "    <tr>\n",
       "      <th>160</th>\n",
       "      <td>0.1031</td>\n",
       "      <td>0.1223</td>\n",
       "      <td>0.1575</td>\n",
       "      <td>0.1234</td>\n",
       "      <td>0.0000</td>\n",
       "      <td>0.0217</td>\n",
       "      <td>0.1135</td>\n",
       "      <td>0.2057</td>\n",
       "      <td>0.2719</td>\n",
       "      <td>0.4534</td>\n",
       "      <td>0.3822</td>\n",
       "      <td>0.0134</td>\n",
       "    </tr>\n",
       "  </tbody>\n",
       "</table>\n",
       "</div>"
      ],
      "text/plain": [
       "     pop_ate9  pop_de10a14  pop_de15a19  pop_de20a24  domicilios_a1  domicilios_a2  domicilios_b1  domicilios_b2  domicilios_c2  domicilios_d  domicilios_e  renda_media\n",
       "160    0.1031       0.1223       0.1575       0.1234         0.0000         0.0217         0.1135         0.2057         0.2719        0.4534        0.3822       0.0134"
      ]
     },
     "execution_count": 354,
     "metadata": {},
     "output_type": "execute_result"
    }
   ],
   "source": [
    "X1_prod = X1_prod[['pop_ate9', 'pop_de10a14', 'pop_de15a19', 'pop_de20a24',\n",
    "       'domicilios_a1', 'domicilios_a2', 'domicilios_b1', 'domicilios_b2',\n",
    "       'domicilios_c2', 'domicilios_d', 'domicilios_e', 'renda_media']]\n",
    "X1_prod.head(1)"
   ]
  },
  {
   "cell_type": "markdown",
   "id": "8830382c",
   "metadata": {},
   "source": [
    "### Prever dados de SP"
   ]
  },
  {
   "cell_type": "markdown",
   "id": "e4ea18c3",
   "metadata": {},
   "source": [
    "Utilizar o modelo final tunado já utilizado em X1_test, para prever dados de produção."
   ]
  },
  {
   "cell_type": "code",
   "execution_count": 368,
   "id": "c33b73be",
   "metadata": {
    "ExecuteTime": {
     "end_time": "2023-03-07T16:31:21.103640Z",
     "start_time": "2023-03-07T16:31:21.093592Z"
    }
   },
   "outputs": [],
   "source": [
    "knn_yhat_final = knn_reg.predict(X1_prod)"
   ]
  },
  {
   "cell_type": "markdown",
   "id": "3fac73d0",
   "metadata": {},
   "source": [
    "Unificar a previsão com o dataset SP original. "
   ]
  },
  {
   "cell_type": "code",
   "execution_count": 371,
   "id": "40db893d",
   "metadata": {
    "ExecuteTime": {
     "end_time": "2023-03-07T16:31:45.888911Z",
     "start_time": "2023-03-07T16:31:45.883792Z"
    }
   },
   "outputs": [],
   "source": [
    "df_sp_raw['faturamento'] = knn_yhat_final"
   ]
  },
  {
   "cell_type": "markdown",
   "id": "1652d691",
   "metadata": {},
   "source": [
    "O dataset SP com as com as 296 previsões de faturamento por bairro será exportado, para ser complementado com as análises 2 e 3."
   ]
  },
  {
   "cell_type": "code",
   "execution_count": 374,
   "id": "36d6c8fc",
   "metadata": {
    "ExecuteTime": {
     "end_time": "2023-03-07T16:32:36.667790Z",
     "start_time": "2023-03-07T16:32:36.643833Z"
    }
   },
   "outputs": [
    {
     "name": "stdout",
     "output_type": "stream",
     "text": [
      "(296, 24)\n"
     ]
    },
    {
     "data": {
      "text/html": [
       "<div>\n",
       "<style scoped>\n",
       "    .dataframe tbody tr th:only-of-type {\n",
       "        vertical-align: middle;\n",
       "    }\n",
       "\n",
       "    .dataframe tbody tr th {\n",
       "        vertical-align: top;\n",
       "    }\n",
       "\n",
       "    .dataframe thead th {\n",
       "        text-align: right;\n",
       "    }\n",
       "</style>\n",
       "<table border=\"1\" class=\"dataframe\">\n",
       "  <thead>\n",
       "    <tr style=\"text-align: right;\">\n",
       "      <th></th>\n",
       "      <th>codigo</th>\n",
       "      <th>bairro</th>\n",
       "      <th>cidade</th>\n",
       "      <th>estado</th>\n",
       "      <th>populacao</th>\n",
       "      <th>pop_ate9</th>\n",
       "      <th>pop_de10a14</th>\n",
       "      <th>pop_de15a19</th>\n",
       "      <th>pop_de20a24</th>\n",
       "      <th>pop_de25a34</th>\n",
       "      <th>pop_de35a49</th>\n",
       "      <th>pop_de50a59</th>\n",
       "      <th>pop_mais_de60</th>\n",
       "      <th>domicilios_a1</th>\n",
       "      <th>domicilios_a2</th>\n",
       "      <th>domicilios_b1</th>\n",
       "      <th>domicilios_b2</th>\n",
       "      <th>domicilios_c1</th>\n",
       "      <th>domicilios_c2</th>\n",
       "      <th>domicilios_d</th>\n",
       "      <th>domicilios_e</th>\n",
       "      <th>renda_media</th>\n",
       "      <th>faturamento</th>\n",
       "      <th>potencial</th>\n",
       "    </tr>\n",
       "  </thead>\n",
       "  <tbody>\n",
       "    <tr>\n",
       "      <th>160</th>\n",
       "      <td>355030251</td>\n",
       "      <td>A. E. Carvalho</td>\n",
       "      <td>São Paulo</td>\n",
       "      <td>SP</td>\n",
       "      <td>94034</td>\n",
       "      <td>12668</td>\n",
       "      <td>6853</td>\n",
       "      <td>9836</td>\n",
       "      <td>7487</td>\n",
       "      <td>14535</td>\n",
       "      <td>21549</td>\n",
       "      <td>10598</td>\n",
       "      <td>10508</td>\n",
       "      <td>0</td>\n",
       "      <td>253</td>\n",
       "      <td>2197</td>\n",
       "      <td>4368</td>\n",
       "      <td>6681</td>\n",
       "      <td>7011</td>\n",
       "      <td>2247</td>\n",
       "      <td>5670</td>\n",
       "      <td>1501</td>\n",
       "      <td>239223.5000</td>\n",
       "      <td>NaN</td>\n",
       "    </tr>\n",
       "    <tr>\n",
       "      <th>161</th>\n",
       "      <td>35503020</td>\n",
       "      <td>Aclimação</td>\n",
       "      <td>São Paulo</td>\n",
       "      <td>SP</td>\n",
       "      <td>32791</td>\n",
       "      <td>2297</td>\n",
       "      <td>1017</td>\n",
       "      <td>2096</td>\n",
       "      <td>2197</td>\n",
       "      <td>5341</td>\n",
       "      <td>7281</td>\n",
       "      <td>4917</td>\n",
       "      <td>7645</td>\n",
       "      <td>1413</td>\n",
       "      <td>1734</td>\n",
       "      <td>3704</td>\n",
       "      <td>2351</td>\n",
       "      <td>1946</td>\n",
       "      <td>827</td>\n",
       "      <td>291</td>\n",
       "      <td>1617</td>\n",
       "      <td>5920</td>\n",
       "      <td>1416872.5000</td>\n",
       "      <td>NaN</td>\n",
       "    </tr>\n",
       "    <tr>\n",
       "      <th>162</th>\n",
       "      <td>355030285</td>\n",
       "      <td>Adventista</td>\n",
       "      <td>São Paulo</td>\n",
       "      <td>SP</td>\n",
       "      <td>104193</td>\n",
       "      <td>15070</td>\n",
       "      <td>7343</td>\n",
       "      <td>10631</td>\n",
       "      <td>8657</td>\n",
       "      <td>17749</td>\n",
       "      <td>23364</td>\n",
       "      <td>11567</td>\n",
       "      <td>9812</td>\n",
       "      <td>0</td>\n",
       "      <td>0</td>\n",
       "      <td>1423</td>\n",
       "      <td>4875</td>\n",
       "      <td>8595</td>\n",
       "      <td>10082</td>\n",
       "      <td>3111</td>\n",
       "      <td>5776</td>\n",
       "      <td>1284</td>\n",
       "      <td>239223.5000</td>\n",
       "      <td>NaN</td>\n",
       "    </tr>\n",
       "  </tbody>\n",
       "</table>\n",
       "</div>"
      ],
      "text/plain": [
       "        codigo          bairro     cidade estado  populacao  pop_ate9  pop_de10a14  pop_de15a19  pop_de20a24  pop_de25a34  pop_de35a49  pop_de50a59  pop_mais_de60  domicilios_a1  domicilios_a2  domicilios_b1  domicilios_b2  domicilios_c1  domicilios_c2  domicilios_d  domicilios_e renda_media  faturamento  potencial\n",
       "160  355030251  A. E. Carvalho  São Paulo     SP      94034     12668         6853         9836         7487        14535        21549        10598          10508              0            253           2197           4368           6681           7011          2247          5670        1501  239223.5000        NaN\n",
       "161   35503020       Aclimação  São Paulo     SP      32791      2297         1017         2096         2197         5341         7281         4917           7645           1413           1734           3704           2351           1946            827           291          1617        5920 1416872.5000        NaN\n",
       "162  355030285      Adventista  São Paulo     SP     104193     15070         7343        10631         8657        17749        23364        11567           9812              0              0           1423           4875           8595          10082          3111          5776        1284  239223.5000        NaN"
      ]
     },
     "execution_count": 374,
     "metadata": {},
     "output_type": "execute_result"
    }
   ],
   "source": [
    "print(df_sp_raw.shape)\n",
    "df_sp_raw.head(3)"
   ]
  },
  {
   "cell_type": "code",
   "execution_count": 375,
   "id": "8b351a92",
   "metadata": {
    "ExecuteTime": {
     "end_time": "2023-03-07T16:33:22.443732Z",
     "start_time": "2023-03-07T16:33:22.426386Z"
    }
   },
   "outputs": [],
   "source": [
    "df_sp_raw.to_csv('../data/interim/df_sp_an1_v2_done.csv')"
   ]
  }
 ],
 "metadata": {
  "kernelspec": {
   "display_name": "Python 3 (ipykernel)",
   "language": "python",
   "name": "python3"
  },
  "language_info": {
   "codemirror_mode": {
    "name": "ipython",
    "version": 3
   },
   "file_extension": ".py",
   "mimetype": "text/x-python",
   "name": "python",
   "nbconvert_exporter": "python",
   "pygments_lexer": "ipython3",
   "version": "3.8.12"
  },
  "toc": {
   "base_numbering": 1,
   "nav_menu": {},
   "number_sections": true,
   "sideBar": true,
   "skip_h1_title": false,
   "title_cell": "Table of Contents",
   "title_sidebar": "Contents",
   "toc_cell": false,
   "toc_position": {},
   "toc_section_display": true,
   "toc_window_display": false
  }
 },
 "nbformat": 4,
 "nbformat_minor": 5
}
